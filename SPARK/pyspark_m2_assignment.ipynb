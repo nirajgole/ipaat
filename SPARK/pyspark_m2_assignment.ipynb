{
 "cells": [
  {
   "cell_type": "markdown",
   "metadata": {
    "application/vnd.databricks.v1+cell": {
     "cellMetadata": {},
     "inputWidgets": {},
     "nuid": "42888baf-3436-4ea1-81a6-ccc8956d2636",
     "showTitle": false,
     "title": ""
    }
   },
   "source": [
    "### PySpark Module 2 Assignment\n",
    "\n",
    "Tasks to be Done\n"
   ]
  },
  {
   "cell_type": "markdown",
   "metadata": {
    "application/vnd.databricks.v1+cell": {
     "cellMetadata": {},
     "inputWidgets": {},
     "nuid": "3c7bff96-af02-4727-9a82-2d8f35e5e333",
     "showTitle": false,
     "title": ""
    }
   },
   "source": [
    "1. String:\n"
   ]
  },
  {
   "cell_type": "code",
   "execution_count": 0,
   "metadata": {
    "application/vnd.databricks.v1+cell": {
     "cellMetadata": {},
     "inputWidgets": {},
     "nuid": "1b76f55d-1d1d-496c-964d-0d60c8224dfa",
     "showTitle": false,
     "title": ""
    }
   },
   "outputs": [],
   "source": [
    "# a) Create a string having some text in it\n",
    "string = 'some_text'\n",
    "# b) Print the first character of the string\n",
    "print('First character: ',string[0])\n",
    "# c) Slice and print the characters of indices from 2 to 5\n",
    "print('Characters from 2 to 5: ',string[2:5])\n",
    "# d) “Count the number of times ‘a’ comes in the string”?\n",
    "print('Count of \"a\": ',string.count('a'))"
   ]
  },
  {
   "cell_type": "markdown",
   "metadata": {
    "application/vnd.databricks.v1+cell": {
     "cellMetadata": {},
     "inputWidgets": {},
     "nuid": "508439e9-dca5-462d-83d1-81878b0b7693",
     "showTitle": false,
     "title": ""
    }
   },
   "source": [
    "2. Tuple:\n"
   ]
  },
  {
   "cell_type": "code",
   "execution_count": 0,
   "metadata": {
    "application/vnd.databricks.v1+cell": {
     "cellMetadata": {},
     "inputWidgets": {},
     "nuid": "022dd6c0-4c4f-4954-bd18-2591bbfb75d9",
     "showTitle": false,
     "title": ""
    }
   },
   "outputs": [],
   "source": [
    "# a) Create a tuple\n",
    "tp=('123',123,{1:'🚀'},(('three'),(4,5)))\n",
    "# b) Print the tuple elements using their indices\n",
    "for i,v in enumerate(tp):\n",
    "    print(i,v)\n",
    "# c) Print the last tuple element using negative indexing\n",
    "print('last element',tp[-1])\n",
    "# d) Print a range of items using the slicing operator in the tuple\n",
    "print(tp[::])"
   ]
  },
  {
   "cell_type": "markdown",
   "metadata": {
    "application/vnd.databricks.v1+cell": {
     "cellMetadata": {},
     "inputWidgets": {},
     "nuid": "2bfa7de9-6bfa-4e4e-8ea9-fba2deebd8db",
     "showTitle": false,
     "title": ""
    }
   },
   "source": [
    "3. List:\n"
   ]
  },
  {
   "cell_type": "code",
   "execution_count": 0,
   "metadata": {
    "application/vnd.databricks.v1+cell": {
     "cellMetadata": {},
     "inputWidgets": {},
     "nuid": "69cfa5bf-5862-4979-987e-10a748f58807",
     "showTitle": false,
     "title": ""
    }
   },
   "outputs": [],
   "source": [
    "# a) Create a list with elements of mixed data types\n",
    "lst = ['string',0,True,{'key':'value'},('my','tuple')]\n",
    "# b) Print an element from the list using its index\n",
    "for i,v in enumerate(lst):\n",
    "    print(i,v)\n",
    "# c) Create a nested list\n",
    "lst.append([1,2,3,4])\n",
    "# d) Print one element of the list inside the nested list\n",
    "print(lst[-1][1])\n",
    "# e) Print elements of indices from 2 to 5 using the slicing operator\n",
    "print(lst[2:5])\n",
    "# f) Add an element to the list and print the list\n",
    "lst.append('🚀')\n",
    "print(lst)\n",
    "# g) Reverse all the values of the list, e.g., the last value should come at first\n",
    "print(lst[::-1])"
   ]
  },
  {
   "cell_type": "markdown",
   "metadata": {
    "application/vnd.databricks.v1+cell": {
     "cellMetadata": {},
     "inputWidgets": {},
     "nuid": "e246928d-fc5b-4b63-afca-e1dd4f774e86",
     "showTitle": false,
     "title": ""
    }
   },
   "source": [
    "4. Dictionaries:\n"
   ]
  },
  {
   "cell_type": "code",
   "execution_count": 0,
   "metadata": {
    "application/vnd.databricks.v1+cell": {
     "cellMetadata": {},
     "inputWidgets": {},
     "nuid": "3f041b4d-cbe7-4f54-a6a0-f912c6cae8c7",
     "showTitle": false,
     "title": ""
    }
   },
   "outputs": [],
   "source": [
    "# a) Create a dictionary\n",
    "dct={1:'1',2:'2',3:'3'}\n",
    "# b) Print the dictionary values using keys\n",
    "for k,v in dct.items():\n",
    "    print(k,'-',v)\n",
    "# c) Modify an element in the dictionary\n",
    "dct[1]='one'\n",
    "# d) Add an element in the dictionary\n",
    "dct[4]='4'\n",
    "# e) Remove elements from the dictionary\n",
    "dct.clear()\n",
    "# f) Print all the dictionary values using for loop\n",
    "print(dct)"
   ]
  },
  {
   "cell_type": "markdown",
   "metadata": {
    "application/vnd.databricks.v1+cell": {
     "cellMetadata": {},
     "inputWidgets": {},
     "nuid": "a3ffc59f-283a-4c56-a071-228d47b052b9",
     "showTitle": false,
     "title": ""
    }
   },
   "source": [
    "5. File I/O:\n"
   ]
  },
  {
   "cell_type": "code",
   "execution_count": 0,
   "metadata": {
    "application/vnd.databricks.v1+cell": {
     "cellMetadata": {},
     "inputWidgets": {},
     "nuid": "3d33c7db-cb64-4b60-8bfe-38123dcca0df",
     "showTitle": false,
     "title": ""
    }
   },
   "outputs": [],
   "source": [
    "# a) Open a file in the write mode\n",
    "f=open('_text.txt','w')\n",
    "# b) Add text to the file using Python’s File I/O functions\n",
    "f.write('Hello')\n",
    "# c) Read the file text line by line using for loop\n",
    "f=open('_text.txt','r')\n",
    "for i in f.read():\n",
    "    print(i)\n",
    "f.close()\n",
    "\n",
    "# or\n",
    "\n",
    "with open('_text.txt','a') as myFile:\n",
    "    myFile.write('Something')\n",
    "\n",
    "with open('_text.txt','r') as myFile:\n",
    "    a=myFile.readlines(2)\n",
    "    print(a)\n"
   ]
  },
  {
   "cell_type": "markdown",
   "metadata": {
    "application/vnd.databricks.v1+cell": {
     "cellMetadata": {},
     "inputWidgets": {},
     "nuid": "d01665a3-ef85-4f31-8fc2-970debb13693",
     "showTitle": false,
     "title": ""
    }
   },
   "source": [
    "6. Set:\n"
   ]
  },
  {
   "cell_type": "code",
   "execution_count": 0,
   "metadata": {
    "application/vnd.databricks.v1+cell": {
     "cellMetadata": {},
     "inputWidgets": {},
     "nuid": "cf6504ce-fe81-4be0-a1c1-d111f84d0522",
     "showTitle": false,
     "title": ""
    }
   },
   "outputs": [],
   "source": [
    "# a) Create a set\n",
    "st={1,2,2,3,3,3,4,4,4,4}\n",
    "# b) Print the data type of the set\n",
    "print(type(st))\n",
    "# c) Add more elements to the set\n",
    "st.update([1.1,(1,2,3)])\n",
    "# d) Print the union of two set\n",
    "st.union({1,2,3})"
   ]
  }
 ],
 "metadata": {
  "application/vnd.databricks.v1+notebook": {
   "dashboards": [],
   "language": "python",
   "notebookMetadata": {},
   "notebookName": "pyspark_m2_assignment",
   "widgets": {}
  },
  "kernelspec": {
   "display_name": "Python 3",
   "language": "python",
   "name": "python3"
  },
  "language_info": {
   "codemirror_mode": {
    "name": "ipython",
    "version": 3
   },
   "file_extension": ".py",
   "mimetype": "text/x-python",
   "name": "python",
   "nbconvert_exporter": "python",
   "pygments_lexer": "ipython3",
   "version": "3.11.3"
  }
 },
 "nbformat": 4,
 "nbformat_minor": 0
}
