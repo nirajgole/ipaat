{
    "metadata": {
        "kernelspec": {
            "name": "SQL",
            "display_name": "SQL",
            "language": "sql"
        },
        "language_info": {
            "name": "sql",
            "version": ""
        }
    },
    "nbformat_minor": 2,
    "nbformat": 4,
    "cells": [
        {
            "cell_type": "code",
            "source": [
                "-- create DATABASE CASE_STUDY_THREE"
            ],
            "metadata": {
                "azdata_cell_guid": "f332d586-fbee-4489-bf10-054ced812a9d",
                "language": "sql"
            },
            "outputs": [],
            "execution_count": null
        },
        {
            "cell_type": "code",
            "source": [
                "-- 1) Display the count of customer in each region who has done the transaction in year 2020\r\n",
                "SELECT region_id,COUNT(*) no_of_customers\r\n",
                "from customers c \r\n",
                "left join [transaction] t on c.customer_id=t.customer_id\r\n",
                "where year(txn_date)=2020\r\n",
                "group by region_id\r\n",
                ""
            ],
            "metadata": {
                "language": "sql",
                "azdata_cell_guid": "5219b0be-4e91-4fcc-89c5-67fff3729eca"
            },
            "outputs": [
                {
                    "output_type": "display_data",
                    "data": {
                        "text/html": "(5 rows affected)"
                    },
                    "metadata": {}
                },
                {
                    "output_type": "display_data",
                    "data": {
                        "text/html": "Total execution time: 00:00:00.018"
                    },
                    "metadata": {}
                },
                {
                    "output_type": "execute_result",
                    "execution_count": 3,
                    "data": {
                        "application/vnd.dataresource+json": {
                            "schema": {
                                "fields": [
                                    {
                                        "name": "region_id"
                                    },
                                    {
                                        "name": "no_of_customers"
                                    }
                                ]
                            },
                            "data": [
                                {
                                    "0": "3",
                                    "1": "8414"
                                },
                                {
                                    "0": "1",
                                    "1": "9107"
                                },
                                {
                                    "0": "4",
                                    "1": "7952"
                                },
                                {
                                    "0": "5",
                                    "1": "6797"
                                },
                                {
                                    "0": "2",
                                    "1": "8806"
                                }
                            ]
                        },
                        "text/html": "<table><tr><th>region_id</th><th>no_of_customers</th></tr><tr><td>3</td><td>8414</td></tr><tr><td>1</td><td>9107</td></tr><tr><td>4</td><td>7952</td></tr><tr><td>5</td><td>6797</td></tr><tr><td>2</td><td>8806</td></tr></table>"
                    },
                    "metadata": {}
                }
            ],
            "execution_count": 3
        },
        {
            "cell_type": "code",
            "source": [
                "-- 2) Display the maximum, minimum of transaction amount of each transaction type\r\n",
                "SELECT TXN_TYPE,MAX(TXN_AMOUNT) AS MAX_AMT, MIN(TXN_AMOUNT) AS MIN_AMT\r\n",
                "FROM [TRANSACTION]\r\n",
                "GROUP BY TXN_TYPE"
            ],
            "metadata": {
                "language": "sql",
                "azdata_cell_guid": "30f74d3b-8be1-4ca6-8a1d-0877caeae1fd"
            },
            "outputs": [
                {
                    "output_type": "display_data",
                    "data": {
                        "text/html": "(3 rows affected)"
                    },
                    "metadata": {}
                },
                {
                    "output_type": "display_data",
                    "data": {
                        "text/html": "Total execution time: 00:00:00.012"
                    },
                    "metadata": {}
                },
                {
                    "output_type": "execute_result",
                    "execution_count": 6,
                    "data": {
                        "application/vnd.dataresource+json": {
                            "schema": {
                                "fields": [
                                    {
                                        "name": "TXN_TYPE"
                                    },
                                    {
                                        "name": "MAX_AMT"
                                    },
                                    {
                                        "name": "MIN_AMT"
                                    }
                                ]
                            },
                            "data": [
                                {
                                    "0": "purchase",
                                    "1": "999",
                                    "2": "1"
                                },
                                {
                                    "0": "withdrawal",
                                    "1": "999",
                                    "2": "1"
                                },
                                {
                                    "0": "deposit",
                                    "1": "1000",
                                    "2": "0"
                                }
                            ]
                        },
                        "text/html": "<table><tr><th>TXN_TYPE</th><th>MAX_AMT</th><th>MIN_AMT</th></tr><tr><td>purchase</td><td>999</td><td>1</td></tr><tr><td>withdrawal</td><td>999</td><td>1</td></tr><tr><td>deposit</td><td>1000</td><td>0</td></tr></table>"
                    },
                    "metadata": {}
                }
            ],
            "execution_count": 6
        },
        {
            "cell_type": "code",
            "source": [
                "-- 3) Display customer id, region name and transaction amount where transaction type is deposit and\r\n",
                "-- transaction amount > 2000.\r\n",
                "\r\n",
                "SELECT C.customer_id,CC.region_name,T.txn_amount FROM CUSTOMERS C\r\n",
                "LEFT JOIN [TRANSACTION] T ON C.CUSTOMER_ID=T.CUSTOMER_ID\r\n",
                "LEFT JOIN Continent CC ON C.region_id=CC.region_id\r\n",
                "WHERE TXN_TYPE='DEPOSIT' AND TXN_AMOUNT>2000\r\n",
                ""
            ],
            "metadata": {
                "language": "sql",
                "azdata_cell_guid": "4b9de291-7cdf-4e9c-a8ad-8222d3c12313"
            },
            "outputs": [
                {
                    "output_type": "display_data",
                    "data": {
                        "text/html": "(0 rows affected)"
                    },
                    "metadata": {}
                },
                {
                    "output_type": "display_data",
                    "data": {
                        "text/html": "Total execution time: 00:00:00.002"
                    },
                    "metadata": {}
                },
                {
                    "output_type": "execute_result",
                    "metadata": {},
                    "execution_count": 5,
                    "data": {
                        "application/vnd.dataresource+json": {
                            "schema": {
                                "fields": [
                                    {
                                        "name": "customer_id"
                                    },
                                    {
                                        "name": "region_name"
                                    },
                                    {
                                        "name": "txn_amount"
                                    }
                                ]
                            },
                            "data": []
                        },
                        "text/html": [
                            "<table>",
                            "<tr><th>customer_id</th><th>region_name</th><th>txn_amount</th></tr>",
                            "</table>"
                        ]
                    }
                }
            ],
            "execution_count": 5
        },
        {
            "cell_type": "code",
            "source": [
                "-- 4) Find duplicate records in a customer table.\r\n",
                "SELECT customer_id, COUNT(*) AS NO_OF_DUPLICATE_RECORDS\r\n",
                "FROM Customers\r\n",
                "GROUP BY customer_id\r\n",
                "HAVING COUNT(*) >1\r\n",
                "ORDER BY customer_id"
            ],
            "metadata": {
                "language": "sql",
                "azdata_cell_guid": "6ef316b9-937c-4433-acca-0dad22c3a341"
            },
            "outputs": [
                {
                    "output_type": "display_data",
                    "data": {
                        "text/html": "(1 row affected)"
                    },
                    "metadata": {}
                },
                {
                    "output_type": "display_data",
                    "data": {
                        "text/html": "Total execution time: 00:00:00.003"
                    },
                    "metadata": {}
                },
                {
                    "output_type": "execute_result",
                    "metadata": {},
                    "execution_count": 10,
                    "data": {
                        "application/vnd.dataresource+json": {
                            "schema": {
                                "fields": [
                                    {
                                        "name": "(No column name)"
                                    }
                                ]
                            },
                            "data": [
                                {
                                    "0": "3500"
                                }
                            ]
                        },
                        "text/html": [
                            "<table>",
                            "<tr><th>(No column name)</th></tr>",
                            "<tr><td>3500</td></tr>",
                            "</table>"
                        ]
                    }
                }
            ],
            "execution_count": 10
        },
        {
            "cell_type": "code",
            "source": [
                "-- 5) Display the detail of customer id, region name, transaction type and transaction amount for the\r\n",
                "-- minimum transaction amount in deposit."
            ],
            "metadata": {
                "language": "sql",
                "azdata_cell_guid": "2bfa1824-c04b-4ab4-9938-0d5235ddd245"
            },
            "outputs": [],
            "execution_count": null
        }
    ]
}