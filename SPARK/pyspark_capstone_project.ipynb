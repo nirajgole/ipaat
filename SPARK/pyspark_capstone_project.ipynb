{
 "cells": [
  {
   "cell_type": "markdown",
   "metadata": {},
   "source": [
    "### PySpark Project\n"
   ]
  },
  {
   "cell_type": "code",
   "execution_count": 1,
   "metadata": {},
   "outputs": [
    {
     "data": {
      "text/plain": [
       "'C:\\\\Program Files\\\\spark\\\\spark-3.4.1-bin-hadoop3'"
      ]
     },
     "execution_count": 1,
     "metadata": {},
     "output_type": "execute_result"
    }
   ],
   "source": [
    "#configuring spark\n",
    "import findspark\n",
    "findspark.init()\n",
    "findspark.find()"
   ]
  },
  {
   "cell_type": "code",
   "execution_count": 2,
   "metadata": {},
   "outputs": [
    {
     "data": {
      "text/html": [
       "\n",
       "            <div>\n",
       "                <p><b>SparkSession - in-memory</b></p>\n",
       "                \n",
       "        <div>\n",
       "            <p><b>SparkContext</b></p>\n",
       "\n",
       "            <p><a href=\"http://host.docker.internal:4040\">Spark UI</a></p>\n",
       "\n",
       "            <dl>\n",
       "              <dt>Version</dt>\n",
       "                <dd><code>v3.4.1</code></dd>\n",
       "              <dt>Master</dt>\n",
       "                <dd><code>local[2]</code></dd>\n",
       "              <dt>AppName</dt>\n",
       "                <dd><code>FbPostAnalysis</code></dd>\n",
       "            </dl>\n",
       "        </div>\n",
       "        \n",
       "            </div>\n",
       "        "
      ],
      "text/plain": [
       "<pyspark.sql.session.SparkSession at 0x199fd9f9010>"
      ]
     },
     "execution_count": 2,
     "metadata": {},
     "output_type": "execute_result"
    }
   ],
   "source": [
    "from pyspark.sql import SparkSession\n",
    "#starting application with two worker nodes\n",
    "spark=SparkSession.builder.appName('FbPostAnalysis').master('local[2]').getOrCreate()\n",
    "spark"
   ]
  },
  {
   "cell_type": "code",
   "execution_count": 3,
   "metadata": {},
   "outputs": [
    {
     "name": "stdout",
     "output_type": "stream",
     "text": [
      "+----------------+------+--------+----------+------------+---------+----+-------------------------+-------------------------------+----------------------+-----------------------+--------------------------+------------------------------------------------------------+------------------------------------------------+-------------------------------------------------------------------+-------+----+-----+------------------+\n",
      "|Page total likes|  Type|Category|Post Month|Post Weekday|Post Hour|Paid|Lifetime Post Total Reach|Lifetime Post Total Impressions|Lifetime Engaged Users|Lifetime Post Consumers|Lifetime Post Consumptions|Lifetime Post Impressions by people who have liked your Page|Lifetime Post reach by people who like your Page|Lifetime People who have liked your Page and engaged with your post|comment|like|share|Total Interactions|\n",
      "+----------------+------+--------+----------+------------+---------+----+-------------------------+-------------------------------+----------------------+-----------------------+--------------------------+------------------------------------------------------------+------------------------------------------------+-------------------------------------------------------------------+-------+----+-----+------------------+\n",
      "|          139441| Photo|       2|        12|           4|        3|   0|                     2752|                           5091|                   178|                    109|                       159|                                                        3078|                                            1640|                                                                119|      4|  79|   17|               100|\n",
      "|          139441|Status|       2|        12|           3|       10|   0|                    10460|                          19057|                  1457|                   1361|                      1674|                                                       11710|                                            6112|                                                               1108|      5| 130|   29|               164|\n",
      "|          139441| Photo|       3|        12|           3|        3|   0|                     2413|                           4373|                   177|                    113|                       154|                                                        2812|                                            1503|                                                                132|      0|  66|   14|                80|\n",
      "|          139441| Photo|       2|        12|           2|       10|   1|                    50128|                          87991|                  2211|                    790|                      1119|                                                       61027|                                           32048|                                                               1386|     58|1572|  147|              1777|\n",
      "|          139441| Photo|       2|        12|           2|        3|   0|                     7244|                          13594|                   671|                    410|                       580|                                                        6228|                                            3200|                                                                396|     19| 325|   49|               393|\n",
      "|          139441|Status|       2|        12|           1|        9|   0|                    10472|                          20849|                  1191|                   1073|                      1389|                                                       16034|                                            7852|                                                               1016|      1| 152|   33|               186|\n",
      "|          139441| Photo|       3|        12|           1|        3|   1|                    11692|                          19479|                   481|                    265|                       364|                                                       15432|                                            9328|                                                                379|      3| 249|   27|               279|\n",
      "|          139441| Photo|       3|        12|           7|        9|   1|                    13720|                          24137|                   537|                    232|                       305|                                                       19728|                                           11056|                                                                422|      0| 325|   14|               339|\n",
      "|          139441|Status|       2|        12|           7|        3|   0|                    11844|                          22538|                  1530|                   1407|                      1692|                                                       15220|                                            7912|                                                               1250|      0| 161|   31|               192|\n",
      "|          139441| Photo|       3|        12|           6|       10|   0|                     4694|                           8668|                   280|                    183|                       250|                                                        4309|                                            2324|                                                                199|      3| 113|   26|               142|\n",
      "|          139441|Status|       2|        12|           5|       10|   0|                    21744|                          42334|                  4258|                   4100|                      4540|                                                       37849|                                           18952|                                                               3798|      0| 233|   19|               252|\n",
      "|          139441| Photo|       2|        12|           5|       10|   0|                     3112|                           5590|                   208|                    127|                       145|                                                        3887|                                            2174|                                                                165|      0|  88|   18|               106|\n",
      "|          139441| Photo|       2|        12|           5|       10|   0|                     2847|                           5133|                   193|                    115|                       133|                                                        3779|                                            2072|                                                                152|      0|  90|   14|               104|\n",
      "|          139441| Photo|       2|        12|           5|        3|   0|                     2549|                           4896|                   249|                    134|                       168|                                                        3631|                                            1917|                                                                183|      5| 137|   10|               152|\n",
      "|          138414| Photo|       2|        12|           4|        5|   1|                    22784|                          39941|                   887|                    337|                       417|                                                       34415|                                           19312|                                                                684|      2| 577|   20|               599|\n",
      "|          138414|Status|       2|        12|           3|       10|   0|                    10060|                          19680|                  1264|                   1209|                      1425|                                                       17272|                                            8548|                                                               1162|      4|  86|   18|               108|\n",
      "|          138414| Photo|       3|        12|           3|        3|   0|                     1722|                           2981|                   163|                    123|                       148|                                                        1868|                                            1050|                                                                123|      2|  40|   12|                54|\n",
      "|          138414| Photo|       1|        12|           2|       12|   1|                    53264|                         111785|                  1706|                   1103|                      1655|                                                       92512|                                           39776|                                                               1307|     15| 678|   20|               713|\n",
      "|          138414|Status|       3|        12|           2|        3|   0|                     3930|                           7509|                   130|                     86|                       112|                                                        5009|                                            2410|                                                                101|      4|  54|   17|                75|\n",
      "|          138414| Photo|       3|        12|           1|       11|   0|                     1591|                           2825|                   121|                     88|                       111|                                                        2116|                                            1161|                                                                100|      0|  34|    8|                42|\n",
      "+----------------+------+--------+----------+------------+---------+----+-------------------------+-------------------------------+----------------------+-----------------------+--------------------------+------------------------------------------------------------+------------------------------------------------+-------------------------------------------------------------------+-------+----+-----+------------------+\n",
      "only showing top 20 rows\n",
      "\n"
     ]
    }
   ],
   "source": [
    "df=spark\\\n",
    "    .read\\\n",
    "    .option('mode','FAILFAST')\\\n",
    "    .csv('../data/dataset_Facebook_cos.csv',header=True,inferSchema=True)\n",
    "df.show()"
   ]
  },
  {
   "cell_type": "code",
   "execution_count": 4,
   "metadata": {},
   "outputs": [
    {
     "name": "stdout",
     "output_type": "stream",
     "text": [
      "root\n",
      " |-- Page total likes: integer (nullable = true)\n",
      " |-- Type: string (nullable = true)\n",
      " |-- Category: integer (nullable = true)\n",
      " |-- Post Month: integer (nullable = true)\n",
      " |-- Post Weekday: integer (nullable = true)\n",
      " |-- Post Hour: integer (nullable = true)\n",
      " |-- Paid: integer (nullable = true)\n",
      " |-- Lifetime Post Total Reach: integer (nullable = true)\n",
      " |-- Lifetime Post Total Impressions: integer (nullable = true)\n",
      " |-- Lifetime Engaged Users: integer (nullable = true)\n",
      " |-- Lifetime Post Consumers: integer (nullable = true)\n",
      " |-- Lifetime Post Consumptions: integer (nullable = true)\n",
      " |-- Lifetime Post Impressions by people who have liked your Page: integer (nullable = true)\n",
      " |-- Lifetime Post reach by people who like your Page: integer (nullable = true)\n",
      " |-- Lifetime People who have liked your Page and engaged with your post: integer (nullable = true)\n",
      " |-- comment: integer (nullable = true)\n",
      " |-- like: integer (nullable = true)\n",
      " |-- share: integer (nullable = true)\n",
      " |-- Total Interactions: integer (nullable = true)\n",
      "\n"
     ]
    }
   ],
   "source": [
    "df.printSchema()"
   ]
  },
  {
   "cell_type": "code",
   "execution_count": 5,
   "metadata": {},
   "outputs": [
    {
     "data": {
      "text/plain": [
       "500"
      ]
     },
     "execution_count": 5,
     "metadata": {},
     "output_type": "execute_result"
    }
   ],
   "source": [
    "# 1. The total number of posts made\n",
    "df.count()"
   ]
  },
  {
   "cell_type": "code",
   "execution_count": 72,
   "metadata": {},
   "outputs": [
    {
     "data": {
      "text/plain": [
       "'38%'"
      ]
     },
     "execution_count": 72,
     "metadata": {},
     "output_type": "execute_result"
    }
   ],
   "source": [
    "# 2. The percentage of the growth or decline of the page, in terms of likes\n",
    "# (subscriptions on the page), from the first post to the latest post\n",
    "import pyspark.sql.functions as f\n",
    "first_post_likes=df.select('Page total likes').orderBy('Post Month','Post Weekday','Post Hour').first()['Page total likes']\n",
    "last_post_likes=df.select('Page total likes').orderBy('Post Month','Post Weekday','Post Hour',ascending=False).first()['Page total likes']\n",
    "\n",
    "# type(first_post_likes)\n",
    "growth_percentage=f'{round((last_post_likes-first_post_likes)/last_post_likes*100)}%'\n",
    "growth_percentage"
   ]
  },
  {
   "cell_type": "code",
   "execution_count": 7,
   "metadata": {},
   "outputs": [
    {
     "name": "stdout",
     "output_type": "stream",
     "text": [
      "+----------+---------------------------+\n",
      "|Post Month|Average Monthly Interaction|\n",
      "+----------+---------------------------+\n",
      "|         7|                      328.5|\n",
      "|         9|                      278.5|\n",
      "|         5|          256.2972972972973|\n",
      "+----------+---------------------------+\n",
      "only showing top 3 rows\n",
      "\n"
     ]
    }
   ],
   "source": [
    "# 3. Which month, on average, has the highest number of post interactions?\n",
    "df.groupBy('Post Month').agg(f.avg('Total Interactions').alias('Average Monthly Interaction')).orderBy(f.desc('Average Monthly Interaction')).show(3)"
   ]
  },
  {
   "cell_type": "code",
   "execution_count": 8,
   "metadata": {},
   "outputs": [
    {
     "name": "stdout",
     "output_type": "stream",
     "text": [
      "+---------+--------------------------+\n",
      "|Post Hour|Average Hourly Interaction|\n",
      "+---------+--------------------------+\n",
      "|        5|         684.3076923076923|\n",
      "|       14|        307.15384615384613|\n",
      "|       20|                     280.0|\n",
      "+---------+--------------------------+\n",
      "only showing top 3 rows\n",
      "\n"
     ]
    }
   ],
   "source": [
    "# 5. Which hour of the day, on average, has the highest number of post interactions?\n",
    "df.groupBy('Post Hour').agg(f.avg('Total Interactions').alias('Average Hourly Interaction')).orderBy(f.desc('Average Hourly Interaction')).show(3)"
   ]
  },
  {
   "cell_type": "code",
   "execution_count": 9,
   "metadata": {},
   "outputs": [
    {
     "name": "stdout",
     "output_type": "stream",
     "text": [
      "+----+--------------------+------------------------+----------------------+------------------+\n",
      "|Paid|Total Lifetime Reach|Total Lifetime Consumers|Total Lifetime Engaged|             share|\n",
      "+----+--------------------+------------------------+----------------------+------------------+\n",
      "|null|              4188.0|                   524.0|                 564.0|              28.0|\n",
      "|   1|  19288.158273381294|       938.0359712230215|     1106.525179856115| 32.50359712230216|\n",
      "|   0|  11851.216666666667|       745.7638888888889|     849.4472222222222|25.219101123595507|\n",
      "+----+--------------------+------------------------+----------------------+------------------+\n",
      "\n"
     ]
    },
    {
     "data": {
      "text/plain": [
       "'\\nAns: Yes, Promoted posts have more shares than non-promoted shares.\\n'"
      ]
     },
     "execution_count": 9,
     "metadata": {},
     "output_type": "execute_result"
    }
   ],
   "source": [
    "# 6. Determine if paid (promoted) posts have a higher correlation with a large number\n",
    "# of post shares when compared to the post shares of organic (non-promoted) posts.\n",
    "# This is to determine the commercial viability of investing in paid posts for\n",
    "# promoting cosmetic products. Answer with either a Yes or a No, and provide the\n",
    "# methodology of how you reached your conclusion\n",
    "df.groupBy('Paid').agg(\n",
    "    f.avg('Lifetime Post Total Reach').alias('Total Lifetime Reach'),\n",
    "    f.avg('Lifetime Post Consumers').alias('Total Lifetime Consumers'),\n",
    "    f.avg('Lifetime Engaged Users').alias('Total Lifetime Engaged'),\n",
    "    f.avg('share').alias('share'),\n",
    ").show()\n",
    "\n",
    "# df.where(df['Paid']==1).corr('Paid','share')\n",
    "'''\n",
    "Ans: Yes, Promoted posts have more shares than non-promoted shares.\n",
    "'''"
   ]
  },
  {
   "cell_type": "code",
   "execution_count": 10,
   "metadata": {},
   "outputs": [
    {
     "name": "stdout",
     "output_type": "stream",
     "text": [
      "+------+-------------------------------+\n",
      "|  Type|Number of people who liked page|\n",
      "+------+-------------------------------+\n",
      "| Photo|                        2581178|\n",
      "|Status|                         445886|\n",
      "|  Link|                         143976|\n",
      "| Video|                         121704|\n",
      "+------+-------------------------------+\n",
      "\n"
     ]
    }
   ],
   "source": [
    "# 7. Which post type (photo, video, status, or link) is the most attractive to people who\n",
    "# have subscribed to your page (people who have liked the page)?\n",
    "df.groupBy('Type')\\\n",
    "    .agg(\n",
    "    f.sum('Lifetime Post reach by people who like your Page').alias('Number of people who liked page')\n",
    ")\\\n",
    "    .orderBy(f.desc('Number of people who liked page'))\\\n",
    "    .show()"
   ]
  },
  {
   "cell_type": "code",
   "execution_count": 75,
   "metadata": {},
   "outputs": [
    {
     "name": "stdout",
     "output_type": "stream",
     "text": [
      "+---------+-------------------+\n",
      "|Post Hour|Average Impressions|\n",
      "+---------+-------------------+\n",
      "|        7|  98918.15384615384|\n",
      "|       13| 52173.403846153844|\n",
      "|       14|  41605.38461538462|\n",
      "|        5|  40636.07692307692|\n",
      "|        2| 35104.230769230766|\n",
      "|       10|  32398.46153846154|\n",
      "|        3| 26657.219047619048|\n",
      "|       12| 25351.724137931036|\n",
      "|        6|         24706.3125|\n",
      "|       22|            24112.0|\n",
      "|        4| 19454.428571428572|\n",
      "|       17|            15683.0|\n",
      "|       11| 12825.386363636364|\n",
      "|        9| 12820.233333333334|\n",
      "|       15|            10525.5|\n",
      "|       20|             9970.0|\n",
      "|       16|             9238.0|\n",
      "|        1|            6632.75|\n",
      "|       18|  6195.666666666667|\n",
      "|        8|  5427.583333333333|\n",
      "+---------+-------------------+\n",
      "only showing top 20 rows\n",
      "\n"
     ]
    }
   ],
   "source": [
    "# 8. Which hour of the day is ideal for posting photographic content? Arrange the\n",
    "# hours of the day according to the order of the Lifetime Post Impressions column?\n",
    "df.groupBy('Post Hour')\\\n",
    "    .agg(\n",
    "    f.avg('Lifetime Post Total Impressions').alias('Average Impressions')\n",
    ")\\\n",
    "    .orderBy(f.desc('Average Impressions'))\\\n",
    "    .show()"
   ]
  },
  {
   "cell_type": "code",
   "execution_count": 12,
   "metadata": {},
   "outputs": [
    {
     "name": "stdout",
     "output_type": "stream",
     "text": [
      "+----------------+------+--------+----------+------------+---------+----+-------------------------+-------------------------------+----------------------+-----------------------+--------------------------+------------------------------------------------------------+------------------------------------------------+-------------------------------------------------------------------+-------+----+-----+------------------+----------------------+\n",
      "|Page total likes|  Type|Category|Post Month|Post Weekday|Post Hour|Paid|Lifetime Post Total Reach|Lifetime Post Total Impressions|Lifetime Engaged Users|Lifetime Post Consumers|Lifetime Post Consumptions|Lifetime Post Impressions by people who have liked your Page|Lifetime Post reach by people who like your Page|Lifetime People who have liked your Page and engaged with your post|comment|like|share|Total Interactions|Likes-to-comment Ratio|\n",
      "+----------------+------+--------+----------+------------+---------+----+-------------------------+-------------------------------+----------------------+-----------------------+--------------------------+------------------------------------------------------------+------------------------------------------------+-------------------------------------------------------------------+-------+----+-----+------------------+----------------------+\n",
      "|          139441| Photo|       2|        12|           4|        3|   0|                     2752|                           5091|                   178|                    109|                       159|                                                        3078|                                            1640|                                                                119|      4|  79|   17|               100|                 19.75|\n",
      "|          139441|Status|       2|        12|           3|       10|   0|                    10460|                          19057|                  1457|                   1361|                      1674|                                                       11710|                                            6112|                                                               1108|      5| 130|   29|               164|                  26.0|\n",
      "|          139441| Photo|       3|        12|           3|        3|   0|                     2413|                           4373|                   177|                    113|                       154|                                                        2812|                                            1503|                                                                132|      0|  66|   14|                80|                  null|\n",
      "|          139441| Photo|       2|        12|           2|       10|   1|                    50128|                          87991|                  2211|                    790|                      1119|                                                       61027|                                           32048|                                                               1386|     58|1572|  147|              1777|                  27.1|\n",
      "|          139441| Photo|       2|        12|           2|        3|   0|                     7244|                          13594|                   671|                    410|                       580|                                                        6228|                                            3200|                                                                396|     19| 325|   49|               393|                 17.11|\n",
      "|          139441|Status|       2|        12|           1|        9|   0|                    10472|                          20849|                  1191|                   1073|                      1389|                                                       16034|                                            7852|                                                               1016|      1| 152|   33|               186|                 152.0|\n",
      "|          139441| Photo|       3|        12|           1|        3|   1|                    11692|                          19479|                   481|                    265|                       364|                                                       15432|                                            9328|                                                                379|      3| 249|   27|               279|                  83.0|\n",
      "|          139441| Photo|       3|        12|           7|        9|   1|                    13720|                          24137|                   537|                    232|                       305|                                                       19728|                                           11056|                                                                422|      0| 325|   14|               339|                  null|\n",
      "|          139441|Status|       2|        12|           7|        3|   0|                    11844|                          22538|                  1530|                   1407|                      1692|                                                       15220|                                            7912|                                                               1250|      0| 161|   31|               192|                  null|\n",
      "|          139441| Photo|       3|        12|           6|       10|   0|                     4694|                           8668|                   280|                    183|                       250|                                                        4309|                                            2324|                                                                199|      3| 113|   26|               142|                 37.67|\n",
      "|          139441|Status|       2|        12|           5|       10|   0|                    21744|                          42334|                  4258|                   4100|                      4540|                                                       37849|                                           18952|                                                               3798|      0| 233|   19|               252|                  null|\n",
      "|          139441| Photo|       2|        12|           5|       10|   0|                     3112|                           5590|                   208|                    127|                       145|                                                        3887|                                            2174|                                                                165|      0|  88|   18|               106|                  null|\n",
      "|          139441| Photo|       2|        12|           5|       10|   0|                     2847|                           5133|                   193|                    115|                       133|                                                        3779|                                            2072|                                                                152|      0|  90|   14|               104|                  null|\n",
      "|          139441| Photo|       2|        12|           5|        3|   0|                     2549|                           4896|                   249|                    134|                       168|                                                        3631|                                            1917|                                                                183|      5| 137|   10|               152|                  27.4|\n",
      "|          138414| Photo|       2|        12|           4|        5|   1|                    22784|                          39941|                   887|                    337|                       417|                                                       34415|                                           19312|                                                                684|      2| 577|   20|               599|                 288.5|\n",
      "|          138414|Status|       2|        12|           3|       10|   0|                    10060|                          19680|                  1264|                   1209|                      1425|                                                       17272|                                            8548|                                                               1162|      4|  86|   18|               108|                  21.5|\n",
      "|          138414| Photo|       3|        12|           3|        3|   0|                     1722|                           2981|                   163|                    123|                       148|                                                        1868|                                            1050|                                                                123|      2|  40|   12|                54|                  20.0|\n",
      "|          138414| Photo|       1|        12|           2|       12|   1|                    53264|                         111785|                  1706|                   1103|                      1655|                                                       92512|                                           39776|                                                               1307|     15| 678|   20|               713|                  45.2|\n",
      "|          138414|Status|       3|        12|           2|        3|   0|                     3930|                           7509|                   130|                     86|                       112|                                                        5009|                                            2410|                                                                101|      4|  54|   17|                75|                  13.5|\n",
      "|          138414| Photo|       3|        12|           1|       11|   0|                     1591|                           2825|                   121|                     88|                       111|                                                        2116|                                            1161|                                                                100|      0|  34|    8|                42|                  null|\n",
      "+----------------+------+--------+----------+------------+---------+----+-------------------------+-------------------------------+----------------------+-----------------------+--------------------------+------------------------------------------------------------+------------------------------------------------+-------------------------------------------------------------------+-------+----+-----+------------------+----------------------+\n",
      "only showing top 20 rows\n",
      "\n"
     ]
    }
   ],
   "source": [
    "# 9. Create an additional column with the name Likes-to-comment Ratio, with the\n",
    "# column values having the equation: likes to comment ratio = like/comment\n",
    "# Hint: Make sure the ratio is in a decimal format, and correct it to 2 decimal places\n",
    "\n",
    "df.select(\"*\",f.round(f.col('like')/f.col('comment'),2).alias('Likes-to-comment Ratio')).show()"
   ]
  },
  {
   "cell_type": "code",
   "execution_count": 13,
   "metadata": {},
   "outputs": [
    {
     "name": "stdout",
     "output_type": "stream",
     "text": [
      "+------+-------------+\n",
      "|  Type|Average Reach|\n",
      "+------+-------------+\n",
      "| Video|        51206|\n",
      "|  Link|        18545|\n",
      "| Photo|        13138|\n",
      "|Status|        13079|\n",
      "+------+-------------+\n",
      "\n"
     ]
    }
   ],
   "source": [
    "# 10. Arrange post categories (1,2,3) in the descending order of the reach that they\n",
    "# can accumulate on average\n",
    "df.groupBy('Type').agg(\n",
    "   f.ceil(f.avg('Lifetime Post Total Reach')).alias('Average Reach')\n",
    ")\\\n",
    "    .orderBy(f.desc('Average Reach'))\\\n",
    "    .show()"
   ]
  },
  {
   "cell_type": "code",
   "execution_count": 14,
   "metadata": {},
   "outputs": [
    {
     "name": "stdout",
     "output_type": "stream",
     "text": [
      "+---------+--------------------------------------+\n",
      "|Post hour|stddev_samp(Lifetime Post Total Reach)|\n",
      "+---------+--------------------------------------+\n",
      "|       12|                    16929.348611911955|\n",
      "|       22|                                  null|\n",
      "|        1|                    1668.8739467077794|\n",
      "|       13|                    31605.113444715214|\n",
      "|        6|                     19384.93338953391|\n",
      "|       16|                                  null|\n",
      "|        3|                     20062.48506691216|\n",
      "|       20|                                  null|\n",
      "|        5|                     48900.71604032409|\n",
      "|       19|                                  null|\n",
      "|       15|                     1875.010826635409|\n",
      "|        9|                    12813.220059900956|\n",
      "|       17|                    6172.8230170643965|\n",
      "|        4|                    16179.952578173177|\n",
      "|        8|                      2586.13118676364|\n",
      "|       23|                                  null|\n",
      "|        7|                     14535.58762935882|\n",
      "|       10|                    22449.330739753404|\n",
      "|       11|                     9433.434571988919|\n",
      "|       14|                     41999.64255830805|\n",
      "+---------+--------------------------------------+\n",
      "only showing top 20 rows\n",
      "\n"
     ]
    }
   ],
   "source": [
    "# 11. Determine the standard deviation of the average post reach for each of the day\n",
    "# hours. This is to determine if the time of the day is an ideal criterion to identify\n",
    "# when to create posts\n",
    "df.groupBy('Post hour').agg(\n",
    "    f.stddev(f.col('Lifetime Post Total Reach'))\n",
    ").show()"
   ]
  },
  {
   "cell_type": "code",
   "execution_count": 15,
   "metadata": {},
   "outputs": [
    {
     "data": {
      "text/plain": [
       "'\\nAns: There is very weak relationship.\\n'"
      ]
     },
     "execution_count": 15,
     "metadata": {},
     "output_type": "execute_result"
    }
   ],
   "source": [
    "# 12. Is there any correlation between the number of post consumptions and the\n",
    "# total interactions on the post?\n",
    "df.corr('Lifetime Post Consumptions','Total Interactions')\n",
    "'''\n",
    "Ans: There is very weak relationship.\n",
    "'''"
   ]
  },
  {
   "cell_type": "code",
   "execution_count": 78,
   "metadata": {},
   "outputs": [
    {
     "name": "stdout",
     "output_type": "stream",
     "text": [
      "+------------+-------------+-------------------+------------------+------------------+------------------+\n",
      "|Post Weekday|Average Hours|Average Interaction|   Average Comment|      Average like|     Average share|\n",
      "+------------+-------------+-------------------+------------------+------------------+------------------+\n",
      "|           7|           82| 153.58536585365854| 4.012195121951219|128.78048780487805|           21.3125|\n",
      "|           6|           81| 162.80246913580248| 5.296296296296297|          135.9375|           23.5375|\n",
      "|           4|           72| 260.52777777777777|10.208333333333334|            218.75|31.569444444444443|\n",
      "|           1|           68| 237.02941176470588| 7.926470588235294|204.33823529411765|24.764705882352942|\n",
      "|           5|           67|  205.3134328358209|  6.08955223880597| 172.1492537313433|27.484848484848484|\n",
      "|           2|           66| 200.45454545454547|  6.53030303030303|167.21212121212122| 26.71212121212121|\n",
      "|           3|           64|         287.765625|          13.59375|        236.640625|          37.53125|\n",
      "+------------+-------------+-------------------+------------------+------------------+------------------+\n",
      "\n"
     ]
    },
    {
     "data": {
      "text/plain": [
       "'\\nAns: According to results Monday and Thursday are two days best for social media posts interactions.\\n'"
      ]
     },
     "execution_count": 78,
     "metadata": {},
     "output_type": "execute_result"
    }
   ],
   "source": [
    "# 13. Determine the two best days in a week to create posts, when people are\n",
    "# extremely active on social media, based on the data that you have\n",
    "# Hint: Question 13 can have a subjective answer. You are free to choose your own\n",
    "# approach to determine the best days to post in a week. Make sure to validate your\n",
    "# claims with the relevant code and explanation of your approach.\n",
    "df.groupBy('Post Weekday').agg(\n",
    "    f.count('Post Hour').alias('Average Hours'),\n",
    "    f.avg('Total Interactions').alias('Average Interaction'),\n",
    "    f.avg('comment').alias('Average Comment'),\n",
    "    f.avg('like').alias('Average like'),\n",
    "    f.avg('share').alias('Average share'),\n",
    ").orderBy(f.desc('Average Hours'))\\\n",
    "    .show()\n",
    "'''\n",
    "Ans: According to results Monday and Thursday are two days best for social media posts interactions.\n",
    "'''"
   ]
  }
 ],
 "metadata": {
  "kernelspec": {
   "display_name": "Python 3",
   "language": "python",
   "name": "python3"
  },
  "language_info": {
   "codemirror_mode": {
    "name": "ipython",
    "version": 3
   },
   "file_extension": ".py",
   "mimetype": "text/x-python",
   "name": "python",
   "nbconvert_exporter": "python",
   "pygments_lexer": "ipython3",
   "version": "3.11.3"
  }
 },
 "nbformat": 4,
 "nbformat_minor": 2
}
