{
 "cells": [
  {
   "cell_type": "markdown",
   "metadata": {},
   "source": [
    "installations done on 2023-09-03\n",
    "\n",
    "1. Download kafka from Release 3.5.1 -> Binary Downloads -> [Scala 2.13](https://downloads.apache.org/kafka/3.5.1/kafka_2.13-3.5.1.tgz)\n",
    "2. Unzip downloaded folder\n",
    "3. inside `kafka\\config` ->\n",
    "   1. `zookeeper.properties` -> change dataDir=`your_desired_folder_path`\n",
    "   2. `server.properties` -> uncomment `listeners=PLAINTEXT://:9092`\n",
    "   3. `server.properties` -> change log.dirs=`your_desired_folder_path`\n",
    "   4. To make more brokers create more `server.properties` files each time and change only `broker.id` and `log.dirs`\n",
    "   5. add environment path to `path` variable = `kafka\\bin\\windows`\n",
    "   6. For ease you can create python/js script or batch (.bat) file for same\n"
   ]
  },
  {
   "cell_type": "code",
   "execution_count": 1,
   "metadata": {},
   "outputs": [
    {
     "name": "stdout",
     "output_type": "stream",
     "text": [
      "Today's date: 2023-09-03\n"
     ]
    }
   ],
   "source": [
    "from datetime import date\n",
    "\n",
    "today = date.today()\n",
    "print(\"Today's date:\", today)"
   ]
  }
 ],
 "metadata": {
  "kernelspec": {
   "display_name": "Python 3",
   "language": "python",
   "name": "python3"
  },
  "language_info": {
   "codemirror_mode": {
    "name": "ipython",
    "version": 3
   },
   "file_extension": ".py",
   "mimetype": "text/x-python",
   "name": "python",
   "nbconvert_exporter": "python",
   "pygments_lexer": "ipython3",
   "version": "3.11.3"
  },
  "orig_nbformat": 4
 },
 "nbformat": 4,
 "nbformat_minor": 2
}
