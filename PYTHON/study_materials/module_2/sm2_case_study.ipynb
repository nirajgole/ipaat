{
 "cells": [
  {
   "attachments": {},
   "cell_type": "markdown",
   "metadata": {},
   "source": [
    "#### Module 2 - Case Study - Concepts of OOPs"
   ]
  },
  {
   "attachments": {},
   "cell_type": "markdown",
   "metadata": {},
   "source": [
    "```\n",
    "1. Create a class named Employee, with a constructor ‘__init__’ method that\n",
    "accepts name and salary as parameters and set properties named name\n",
    "and salary.\n",
    "\n",
    "2. Define __str__ method in Employee class so that when someone tries to\n",
    "print the object the string Name: employee_name, Salary:\n",
    "employee_salary is printed with the actual employee name and salary.\n",
    "```"
   ]
  },
  {
   "cell_type": "code",
   "execution_count": null,
   "metadata": {},
   "outputs": [],
   "source": [
    "class Employee:\n",
    "    def __init__(self, name, salary):\n",
    "        self.name = name\n",
    "        self.salary = salary\n",
    "    \n",
    "    def __str__(self):\n",
    "        \n",
    "        return f\"{self.name} earns {self.salary}\""
   ]
  },
  {
   "attachments": {},
   "cell_type": "markdown",
   "metadata": {},
   "source": [
    "```\n",
    "3. Create another class named Calculator, with methods to add, subtract,\n",
    "multiply and divide two numbers.\n",
    "4. These methods take two numbers as parameters.\n",
    "5. These methods will be called by a method named execute command.\n",
    "6. Execute command takes in 3 parameters command which is string that can\n",
    "be either ‘add’, ‘sub’, ‘mul’, ‘div’, and two numbers and it will call the\n",
    "appropriate method based on command parameter.\n",
    "```"
   ]
  },
  {
   "cell_type": "code",
   "execution_count": 3,
   "metadata": {},
   "outputs": [
    {
     "data": {
      "text/plain": [
       "30"
      ]
     },
     "execution_count": 3,
     "metadata": {},
     "output_type": "execute_result"
    }
   ],
   "source": [
    "class Calculator:\n",
    "    def add(self,a,b):\n",
    "        return a+b\n",
    "    def sub(self,a,b):\n",
    "        return a-b\n",
    "    def mul(self,a,b):\n",
    "        return a*b\n",
    "    def div(self,a,b):\n",
    "        return a/b\n",
    "    \n",
    "c1=Calculator()\n",
    "c1.add(10,20)"
   ]
  },
  {
   "cell_type": "code",
   "execution_count": 7,
   "metadata": {},
   "outputs": [
    {
     "name": "stdout",
     "output_type": "stream",
     "text": [
      "50\n"
     ]
    }
   ],
   "source": [
    "ui=input('Enter calculator command.')\n",
    "op,num1,num2=ui.split(' ')\n",
    "a=int(num1)\n",
    "b=int(num2)\n",
    "\n",
    "res=None\n",
    "match op:\n",
    "    case 'add':\n",
    "        res=c1.add(a,b)\n",
    "    case 'sub':\n",
    "        res=c1.sub(a,b)\n",
    "    case 'mul':\n",
    "        res=c1.mul(a,b)\n",
    "    case 'div':\n",
    "        res=c1.div(a,b)\n",
    "    case _:\n",
    "        res='Not valid command.'\n",
    "print(res)"
   ]
  }
 ],
 "metadata": {
  "kernelspec": {
   "display_name": "Python 3",
   "language": "python",
   "name": "python3"
  },
  "language_info": {
   "codemirror_mode": {
    "name": "ipython",
    "version": 3
   },
   "file_extension": ".py",
   "mimetype": "text/x-python",
   "name": "python",
   "nbconvert_exporter": "python",
   "pygments_lexer": "ipython3",
   "version": "3.11.4"
  },
  "orig_nbformat": 4
 },
 "nbformat": 4,
 "nbformat_minor": 2
}
