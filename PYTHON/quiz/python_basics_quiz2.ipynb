{
 "cells": [
  {
   "cell_type": "code",
   "execution_count": 16,
   "metadata": {},
   "outputs": [
    {
     "ename": "NameError",
     "evalue": "name 'Out_variable_C' is not defined",
     "output_type": "error",
     "traceback": [
      "\u001b[1;31m---------------------------------------------------------------------------\u001b[0m",
      "\u001b[1;31mNameError\u001b[0m                                 Traceback (most recent call last)",
      "Cell \u001b[1;32mIn[16], line 5\u001b[0m\n\u001b[0;32m      3\u001b[0m Variable_B \u001b[38;5;241m=\u001b[39m \u001b[38;5;124m\"\u001b[39m\u001b[38;5;124mis an Object Oriented Programming Language\u001b[39m\u001b[38;5;124m\"\u001b[39m\n\u001b[0;32m      4\u001b[0m out_variable_C \u001b[38;5;241m=\u001b[39m variable_A \u001b[38;5;241m+\u001b[39m Variable_B\n\u001b[1;32m----> 5\u001b[0m \u001b[43mOut_variable_C\u001b[49m\n",
      "\u001b[1;31mNameError\u001b[0m: name 'Out_variable_C' is not defined"
     ]
    }
   ],
   "source": [
    "# 1) What is the output of the following code?\n",
    "variable_A = \"Python Programming\"\n",
    "Variable_B = \"is an Object Oriented Programming Language\"\n",
    "out_variable_C = variable_A + Variable_B\n",
    "print(Out_variable_C) #NameError\n"
   ]
  },
  {
   "cell_type": "code",
   "execution_count": 2,
   "metadata": {},
   "outputs": [
    {
     "data": {
      "text/plain": [
       "[2, 5, 3, 1, 2]"
      ]
     },
     "execution_count": 2,
     "metadata": {},
     "output_type": "execute_result"
    }
   ],
   "source": [
    "# 2) Observe the following code and answer the question below:\n",
    "sample_list = [4, 5, 3, 1, 2]\n",
    "sample_list[0] = sample_list[len(sample_list) - 1]\n",
    "sample_list[len(sample_list) - 1] = sample_list[0]\n",
    "sample_list\n"
   ]
  },
  {
   "cell_type": "code",
   "execution_count": 3,
   "metadata": {},
   "outputs": [
    {
     "name": "stdout",
     "output_type": "stream",
     "text": [
      "0 [2]\n"
     ]
    }
   ],
   "source": [
    "# 3) What will be the output of the following code\n",
    "sample_list, sample_dict = list(), dict()\n",
    "sample_list.append(2)\n",
    "sample_dict[0] = 2\n",
    "print(sample_list.index(2), list(sample_dict.values()))\n"
   ]
  },
  {
   "cell_type": "code",
   "execution_count": 4,
   "metadata": {},
   "outputs": [
    {
     "ename": "TypeError",
     "evalue": "'tuple' object does not support item assignment",
     "output_type": "error",
     "traceback": [
      "\u001b[1;31m---------------------------------------------------------------------------\u001b[0m",
      "\u001b[1;31mTypeError\u001b[0m                                 Traceback (most recent call last)",
      "Cell \u001b[1;32mIn[4], line 3\u001b[0m\n\u001b[0;32m      1\u001b[0m \u001b[38;5;66;03m# 4) What will be the output of the following code:\u001b[39;00m\n\u001b[0;32m      2\u001b[0m sample_tuple \u001b[38;5;241m=\u001b[39m \u001b[38;5;28mtuple\u001b[39m([\u001b[38;5;241m1\u001b[39m,\u001b[38;5;241m2\u001b[39m,\u001b[38;5;241m3\u001b[39m,\u001b[38;5;241m4\u001b[39m,\u001b[38;5;241m5\u001b[39m])\n\u001b[1;32m----> 3\u001b[0m \u001b[43msample_tuple\u001b[49m\u001b[43m[\u001b[49m\u001b[38;5;241;43m0\u001b[39;49m\u001b[43m]\u001b[49m \u001b[38;5;241m=\u001b[39m \u001b[38;5;241m3\u001b[39m\n\u001b[0;32m      4\u001b[0m sample_tuple[\u001b[38;5;241m2\u001b[39m] \u001b[38;5;241m=\u001b[39m \u001b[38;5;241m4\u001b[39m\n\u001b[0;32m      5\u001b[0m \u001b[38;5;28mprint\u001b[39m(sample_tuple)\n",
      "\u001b[1;31mTypeError\u001b[0m: 'tuple' object does not support item assignment"
     ]
    }
   ],
   "source": [
    "# 4) What will be the output of the following code:\n",
    "sample_tuple = tuple([1, 2, 3, 4, 5])\n",
    "sample_tuple[0] = 3\n",
    "sample_tuple[2] = 4\n",
    "print(sample_tuple)\n",
    "# SyntaxError\n",
    "# TypeError\n",
    "# ValueError\n",
    "# NameError\n"
   ]
  },
  {
   "cell_type": "code",
   "execution_count": 5,
   "metadata": {},
   "outputs": [
    {
     "name": "stdout",
     "output_type": "stream",
     "text": [
      "3\n"
     ]
    }
   ],
   "source": [
    "# 5) Observe the following code, and answer the questions that follow.\n",
    "list_sample, tuple_sample, set_sample = [1, 2, 3], (4, 5, 6), {7, 8, 9}\n",
    "list_sample.append(list(tuple_sample))\n",
    "list_sample.append(list(set_sample))\n",
    "print(list_sample[len(list_sample) - 3])\n"
   ]
  },
  {
   "cell_type": "code",
   "execution_count": 6,
   "metadata": {},
   "outputs": [
    {
     "data": {
      "text/plain": [
       "False"
      ]
     },
     "execution_count": 6,
     "metadata": {},
     "output_type": "execute_result"
    }
   ],
   "source": [
    "# 6) What is the output of the following code:\n",
    "def func(self):\n",
    "    if self > 10:\n",
    "        return True\n",
    "    else:\n",
    "        return False\n",
    "\n",
    "\n",
    "func(5)\n"
   ]
  },
  {
   "cell_type": "code",
   "execution_count": 11,
   "metadata": {},
   "outputs": [
    {
     "name": "stdout",
     "output_type": "stream",
     "text": [
      "313233"
     ]
    }
   ],
   "source": [
    "# 7) What is the output of the following code:\n",
    "def func(x, y, z):\n",
    "    for i in x:\n",
    "        for j in y:\n",
    "            print(j, end=\"\")\n",
    "        print(i, end=\"\")\n",
    "    return None\n",
    "\n",
    "\n",
    "a = [1, 2, 3]\n",
    "b = [3]\n",
    "c = [5, 6, 7]\n",
    "func(a, b, c)\n"
   ]
  },
  {
   "cell_type": "code",
   "execution_count": 12,
   "metadata": {},
   "outputs": [
    {
     "data": {
      "text/plain": [
       "4"
      ]
     },
     "execution_count": 12,
     "metadata": {},
     "output_type": "execute_result"
    }
   ],
   "source": [
    "# 8) What is the output of the following code:\n",
    "y = lambda a, b: a**2 + b**2 - 2 * a * b\n",
    "y(2, 4)\n"
   ]
  },
  {
   "cell_type": "code",
   "execution_count": 13,
   "metadata": {},
   "outputs": [
    {
     "name": "stdout",
     "output_type": "stream",
     "text": [
      "[1, 2, 3, 4, 5]\n"
     ]
    }
   ],
   "source": [
    "# 9) What is the output of the following code?\n",
    "sample = [12, 22, 32, 42, 52]\n",
    "x = map(lambda a: a // 10, sample)\n",
    "print(list(x))\n"
   ]
  },
  {
   "cell_type": "code",
   "execution_count": 14,
   "metadata": {},
   "outputs": [
    {
     "name": "stdout",
     "output_type": "stream",
     "text": [
      "[23, 3, 5]\n"
     ]
    }
   ],
   "source": [
    "# 10) What is the output of the following code:\n",
    "def func(self):\n",
    "    if self % 2 == 0:\n",
    "        return False\n",
    "    else:\n",
    "        return True\n",
    "\n",
    "\n",
    "sample = [12, 24, 23, 3, 5, 2]\n",
    "z = filter(func, sample)\n",
    "print(list(z))\n"
   ]
  },
  {
   "cell_type": "code",
   "execution_count": 16,
   "metadata": {},
   "outputs": [
    {
     "name": "stdout",
     "output_type": "stream",
     "text": [
      "18,"
     ]
    }
   ],
   "source": [
    "# 11) What is the output of the following code:\n",
    "for i in range(0, 10):\n",
    "    if i <= 3:\n",
    "        i = i * 5\n",
    "    elif i > 3 and i <= 6:\n",
    "        i = i * 4\n",
    "    elif i > 6 and i < 9:\n",
    "        i = i * 3\n",
    "    else:\n",
    "        i = i * 2\n",
    "print(i, end=\",\")\n"
   ]
  },
  {
   "cell_type": "code",
   "execution_count": 17,
   "metadata": {},
   "outputs": [
    {
     "name": "stdout",
     "output_type": "stream",
     "text": [
      "[0, 0][1, 1]"
     ]
    }
   ],
   "source": [
    "# 12) What is the output of the following code?\n",
    "for i in range(0, 2):\n",
    "    for j in range(0, 2):\n",
    "        if i != j:\n",
    "            pass\n",
    "        else:\n",
    "            print(list([i, j]), end=\"\")\n"
   ]
  },
  {
   "cell_type": "code",
   "execution_count": 20,
   "metadata": {},
   "outputs": [
    {
     "name": "stdout",
     "output_type": "stream",
     "text": [
      "6\n"
     ]
    }
   ],
   "source": [
    "# 13) Observe the following code, and answer the questions that follow.\n",
    "i = 10\n",
    "count = 0\n",
    "while i > 0:\n",
    "    if i > 8:\n",
    "        i = i - 1\n",
    "    else:\n",
    "        i = i - 2\n",
    "    count = count + 1\n",
    "print(count)\n"
   ]
  },
  {
   "cell_type": "code",
   "execution_count": 1,
   "metadata": {},
   "outputs": [
    {
     "name": "stdout",
     "output_type": "stream",
     "text": [
      "10\n"
     ]
    }
   ],
   "source": [
    "# 14) Observe the following code, and answer the questions that follow.\n",
    "i = 10\n",
    "j = 0\n",
    "count = 0\n",
    "while i > 0:\n",
    "    while j < 5:\n",
    "        if j >= 2:\n",
    "            count = count + 5\n",
    "        else:\n",
    "            pass\n",
    "        j = j + 2\n",
    "        if i > 6:\n",
    "            break\n",
    "        else:\n",
    "            pass\n",
    "    i = i - 2\n",
    "# What will be the value of the count after the loop ends.\n",
    "# 5\n",
    "# 10\n",
    "# 15\n",
    "# 0\n",
    "print(count)\n"
   ]
  },
  {
   "cell_type": "code",
   "execution_count": 1,
   "metadata": {},
   "outputs": [
    {
     "name": "stdout",
     "output_type": "stream",
     "text": [
      "3\n"
     ]
    }
   ],
   "source": [
    "# 15) What will be the value of count after the execution of the following code:\n",
    "count = 0\n",
    "for i in range(0, 6):\n",
    "    while i < 6:\n",
    "        if i % 2 == 0:\n",
    "            count = count + 1\n",
    "        else:\n",
    "            pass\n",
    "        i = i + 5\n",
    "\n",
    "print(count)\n"
   ]
  },
  {
   "cell_type": "code",
   "execution_count": 3,
   "metadata": {},
   "outputs": [
    {
     "name": "stdout",
     "output_type": "stream",
     "text": [
      "Smaller\n",
      "25 20\n"
     ]
    }
   ],
   "source": [
    "# 16) Observe the following code, and answer the question that follows\n",
    "# If the value of a is 25, and the value of b is 20. What will be the output of the above code.\n",
    "\n",
    "a = int(input())\n",
    "b = int(input())\n",
    "if a < b:\n",
    "    print(\"Greater\")\n",
    "elif a == b:\n",
    "    print(\"equal\")\n",
    "elif a > b and b > 10:\n",
    "    print(\"Smaller\")\n",
    "elif a > 10 and b > 10:\n",
    "    print(\"both\")\n",
    "elif a > 15 and b > 10:\n",
    "    print(\"only One\")\n",
    "else:\n",
    "    print(\"None\")\n",
    "\n",
    "print(a, b)\n"
   ]
  },
  {
   "cell_type": "code",
   "execution_count": 4,
   "metadata": {},
   "outputs": [
    {
     "name": "stdout",
     "output_type": "stream",
     "text": [
      "Inconclusive\n"
     ]
    }
   ],
   "source": [
    "# 17) What is the output of the following code\n",
    "x = 10\n",
    "y = 5\n",
    "if x < y:\n",
    "    if x == 0:\n",
    "        pass\n",
    "    elif x % 2 == 1:\n",
    "        print(\"Not a prime number\")\n",
    "    elif x % 5 == 0:\n",
    "        print(\"Multiple of 5\")\n",
    "    else:\n",
    "        print(\"Not Enough Information\")\n",
    "else:\n",
    "    print(\"Inconclusive\")\n"
   ]
  },
  {
   "cell_type": "code",
   "execution_count": 5,
   "metadata": {},
   "outputs": [
    {
     "name": "stdout",
     "output_type": "stream",
     "text": [
      "Multiple of 5 and greater than x\n"
     ]
    }
   ],
   "source": [
    "# 18) What is the output of the following code?\n",
    "x = 10\n",
    "y = 20\n",
    "z = 15\n",
    "if x > 0:\n",
    "    if y > x and y % 5 == 0:\n",
    "        if z > y and z % 4 == 0:\n",
    "            print(\"Multiple of 4 and Greater than y\")\n",
    "        else:\n",
    "            pass\n",
    "        print(\"Multiple of 5 and greater than x\")\n",
    "    else:\n",
    "        pass\n",
    "else:\n",
    "    pass\n"
   ]
  },
  {
   "cell_type": "code",
   "execution_count": 6,
   "metadata": {},
   "outputs": [
    {
     "name": "stdout",
     "output_type": "stream",
     "text": [
      "Multiple of 3\n"
     ]
    }
   ],
   "source": [
    "# 19) What is the output of the following code:\n",
    "a = 12\n",
    "b = 11\n",
    "print(\"Multiple of 2\") if a % 2 == 0 and b % 2 == 0 else print(\n",
    "    \"Multiple of 3\"\n",
    ") if a % 3 == 0 or b % 3 == 0 else print(\"Not conclusive\")\n"
   ]
  },
  {
   "cell_type": "code",
   "execution_count": 7,
   "metadata": {},
   "outputs": [
    {
     "data": {
      "text/plain": [
       "13"
      ]
     },
     "execution_count": 7,
     "metadata": {},
     "output_type": "execute_result"
    }
   ],
   "source": [
    "# 20) What is the output of the following code:\n",
    "def func(n):\n",
    "    if n == 1:\n",
    "        return n\n",
    "    else:\n",
    "        first = 1\n",
    "        second = 1\n",
    "    for i in range(1, n):\n",
    "        temp = first + second\n",
    "        first = second\n",
    "        second = temp\n",
    "    return second\n",
    "\n",
    "\n",
    "func(6)\n"
   ]
  },
  {
   "cell_type": "code",
   "execution_count": 9,
   "metadata": {},
   "outputs": [
    {
     "name": "stdout",
     "output_type": "stream",
     "text": [
      "77"
     ]
    }
   ],
   "source": [
    "# 21) What is the output of the following code:\n",
    "def func(num, res):\n",
    "    for i in range(0, len(num)):\n",
    "        if num[i] + 3 == res:\n",
    "            print(num[i], end=\"\")\n",
    "\n",
    "\n",
    "func([1, 4, 3, 7, 8, 4, 6, 3, 7], 10)\n"
   ]
  },
  {
   "cell_type": "code",
   "execution_count": 10,
   "metadata": {},
   "outputs": [
    {
     "data": {
      "text/plain": [
       "1"
      ]
     },
     "execution_count": 10,
     "metadata": {},
     "output_type": "execute_result"
    }
   ],
   "source": [
    "# 22) What is the output of the following code:\n",
    "list1 = [4, 3, 5, 2, 2, 4, 2, 3, 5, 7, 9]\n",
    "list2 = [3, 4, 4, 5, 7, 9, 4, 6, 1, 3, 2]\n",
    "\n",
    "\n",
    "def func(num1, num2):\n",
    "    if num1 < num2:\n",
    "        return num1\n",
    "    else:\n",
    "        return num2\n",
    "\n",
    "\n",
    "list1 = sorted(list1)\n",
    "list2 = sorted(list2)\n",
    "func(list1[0], list2[0])\n"
   ]
  },
  {
   "cell_type": "code",
   "execution_count": 11,
   "metadata": {},
   "outputs": [
    {
     "name": "stdout",
     "output_type": "stream",
     "text": [
      "22"
     ]
    }
   ],
   "source": [
    "# 23) What is the output of the following code?\n",
    "def func(sample, res):\n",
    "    for i in sample:\n",
    "        if i == res:\n",
    "            print(sample.index(i), end=\"\")\n",
    "\n",
    "\n",
    "sample = [1, 3, 5, 6, 3, 5, 6, 2, 1]\n",
    "func(sample, 5)\n"
   ]
  },
  {
   "cell_type": "code",
   "execution_count": 12,
   "metadata": {},
   "outputs": [
    {
     "name": "stdout",
     "output_type": "stream",
     "text": [
      "13.0\n"
     ]
    }
   ],
   "source": [
    "# 24) What is the output of the following code?\n",
    "def func(x):\n",
    "    if x > 0:\n",
    "        x = x**0.5\n",
    "        print(round(x, 2))\n",
    "    else:\n",
    "        x = x**1.5\n",
    "        print(round(x, 2))\n",
    "\n",
    "\n",
    "func(169)\n"
   ]
  },
  {
   "cell_type": "code",
   "execution_count": 15,
   "metadata": {},
   "outputs": [
    {
     "name": "stdout",
     "output_type": "stream",
     "text": [
      "28"
     ]
    }
   ],
   "source": [
    "# 25) What is the output of the following code?\n",
    "arr = [1, 1, 2, 3, 3, 4, 5, 4, 6, 5, 6, 7, 7, 8]\n",
    "dup = []\n",
    "\n",
    "\n",
    "def func(sample):\n",
    "    for x in sample:\n",
    "        if sample.count(x) > 1:\n",
    "            dup.append(x)\n",
    "    for i in sample:\n",
    "        if i in dup:\n",
    "            pass\n",
    "        else:\n",
    "            print(i, end=\"\")\n",
    "\n",
    "\n",
    "func(arr)\n"
   ]
  }
 ],
 "metadata": {
  "kernelspec": {
   "display_name": "Python 3",
   "language": "python",
   "name": "python3"
  },
  "language_info": {
   "codemirror_mode": {
    "name": "ipython",
    "version": 3
   },
   "file_extension": ".py",
   "mimetype": "text/x-python",
   "name": "python",
   "nbconvert_exporter": "python",
   "pygments_lexer": "ipython3",
   "version": "3.11.3"
  }
 },
 "nbformat": 4,
 "nbformat_minor": 2
}
