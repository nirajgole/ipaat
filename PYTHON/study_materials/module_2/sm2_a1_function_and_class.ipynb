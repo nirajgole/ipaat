{
 "cells": [
  {
   "attachments": {},
   "cell_type": "markdown",
   "metadata": {},
   "source": [
    "## Module 2 - Function and Class Assignment"
   ]
  },
  {
   "attachments": {},
   "cell_type": "markdown",
   "metadata": {},
   "source": [
    ">1. Create a function named ‘factor’ that can only accept 1 argument. The function should return the factorial of that number.\n"
   ]
  },
  {
   "cell_type": "code",
   "execution_count": 6,
   "metadata": {},
   "outputs": [
    {
     "name": "stdout",
     "output_type": "stream",
     "text": [
      "1\n",
      "6\n"
     ]
    }
   ],
   "source": [
    "def factor(n:int):\n",
    "    res=1\n",
    "    for i in range(1,n+1):\n",
    "        res=res*i\n",
    "    return res\n",
    "\n",
    "print(factor(0))\n",
    "print(factor(3))\n"
   ]
  },
  {
   "attachments": {},
   "cell_type": "markdown",
   "metadata": {},
   "source": [
    "```\n",
    "2. Create a function named ‘check_string’, the function should accept a string\n",
    "data from the user and the function should check if the user input contains\n",
    "the letter ‘s’ in it. If it contains the letter ‘s’ then print- ‘The string is\n",
    "containing the letter ‘s’', if not then print- ‘The string doesn’t contain the\n",
    "letter ‘s’'.\n",
    "```"
   ]
  },
  {
   "cell_type": "code",
   "execution_count": 11,
   "metadata": {},
   "outputs": [
    {
     "data": {
      "text/plain": [
       "'The string contains letter \"s\"'"
      ]
     },
     "execution_count": 11,
     "metadata": {},
     "output_type": "execute_result"
    }
   ],
   "source": [
    "def check_string(s:str)->str: \n",
    "    return 'The string doesn’t contain the letter \"s\"' if s.find('s')==-1 else 'The string contains letter \"s\"'\n",
    "\n",
    "check_string('ab')\n",
    "check_string('abs')"
   ]
  },
  {
   "attachments": {},
   "cell_type": "markdown",
   "metadata": {},
   "source": [
    "```\n",
    "3. Create a class named ‘student’ and inside the class, create a function\n",
    "named ‘fun1’- this method should accept the user defined input and return\n",
    "that value:\n",
    "a. Create another method named- message() and that method should print\n",
    "the user defined input that we have defined in ‘fun1’\n",
    "```"
   ]
  },
  {
   "cell_type": "code",
   "execution_count": 14,
   "metadata": {},
   "outputs": [
    {
     "name": "stdout",
     "output_type": "stream",
     "text": [
      "123\n"
     ]
    }
   ],
   "source": [
    "class Student:\n",
    "    def fun1(self,udi):\n",
    "        self.udi=udi\n",
    "        return udi\n",
    "    \n",
    "    def message(self):\n",
    "        print(f'{self.udi or \"\"}')\n",
    "    \n",
    "s1=Student()\n",
    "s1.fun1(123)\n",
    "s1.message()"
   ]
  },
  {
   "attachments": {},
   "cell_type": "markdown",
   "metadata": {},
   "source": [
    "```\n",
    "4. Create a lambda function that should double or multiply the number (that\n",
    "we will be passing in the lambda function) by\n",
    "2. Store the lambda function in a variable named ‘double_num’.\n",
    "```"
   ]
  },
  {
   "cell_type": "code",
   "execution_count": 15,
   "metadata": {},
   "outputs": [
    {
     "name": "stdout",
     "output_type": "stream",
     "text": [
      "10\n"
     ]
    }
   ],
   "source": [
    "double_num=lambda a:a*2\n",
    "print(double_num(5))"
   ]
  },
  {
   "attachments": {},
   "cell_type": "markdown",
   "metadata": {},
   "source": [
    "5. Take user input string and check whether that string is palindrome or not.\n"
   ]
  },
  {
   "cell_type": "code",
   "execution_count": 16,
   "metadata": {},
   "outputs": [
    {
     "name": "stdout",
     "output_type": "stream",
     "text": [
      "abc is not palindrome\n",
      "aba is palindrome\n"
     ]
    }
   ],
   "source": [
    "def is_palindrome(s:str)->str:\n",
    "    return f'{s} is palindrome' if s==s[::-1] else f'{s} is not palindrome'\n",
    "\n",
    "print(is_palindrome('abc'))\n",
    "print(is_palindrome('aba'))"
   ]
  }
 ],
 "metadata": {
  "kernelspec": {
   "display_name": "Python 3",
   "language": "python",
   "name": "python3"
  },
  "language_info": {
   "codemirror_mode": {
    "name": "ipython",
    "version": 3
   },
   "file_extension": ".py",
   "mimetype": "text/x-python",
   "name": "python",
   "nbconvert_exporter": "python",
   "pygments_lexer": "ipython3",
   "version": "3.11.4"
  },
  "orig_nbformat": 4
 },
 "nbformat": 4,
 "nbformat_minor": 2
}
