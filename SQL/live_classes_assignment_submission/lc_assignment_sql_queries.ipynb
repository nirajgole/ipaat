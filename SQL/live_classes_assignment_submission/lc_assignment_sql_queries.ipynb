{
    "cells": [
        {
            "cell_type": "code",
            "execution_count": 3,
            "metadata": {
                "azdata_cell_guid": "e6447195-6353-4b2c-a0c7-46c0ef4d7802",
                "language": "sql",
                "vscode": {
                    "languageId": "sql"
                }
            },
            "outputs": [
                {
                    "data": {
                        "text/html": [
                            "(3 rows affected)"
                        ]
                    },
                    "metadata": {},
                    "output_type": "display_data"
                },
                {
                    "data": {
                        "text/html": [
                            "Total execution time: 00:00:00.030"
                        ]
                    },
                    "metadata": {},
                    "output_type": "display_data"
                },
                {
                    "data": {
                        "application/vnd.dataresource+json": {
                            "data": [
                                {
                                    "0": "AssignmentSQLQueries",
                                    "1": "dbo",
                                    "2": "STUDIES",
                                    "3": "BASE TABLE"
                                },
                                {
                                    "0": "AssignmentSQLQueries",
                                    "1": "dbo",
                                    "2": "SOFTWARE",
                                    "3": "BASE TABLE"
                                },
                                {
                                    "0": "AssignmentSQLQueries",
                                    "1": "dbo",
                                    "2": "PROGRAMMER",
                                    "3": "BASE TABLE"
                                }
                            ],
                            "schema": {
                                "fields": [
                                    {
                                        "name": "TABLE_CATALOG"
                                    },
                                    {
                                        "name": "TABLE_SCHEMA"
                                    },
                                    {
                                        "name": "TABLE_NAME"
                                    },
                                    {
                                        "name": "TABLE_TYPE"
                                    }
                                ]
                            }
                        },
                        "text/html": [
                            "<table><tr><th>TABLE_CATALOG</th><th>TABLE_SCHEMA</th><th>TABLE_NAME</th><th>TABLE_TYPE</th></tr><tr><td>AssignmentSQLQueries</td><td>dbo</td><td>STUDIES</td><td>BASE TABLE</td></tr><tr><td>AssignmentSQLQueries</td><td>dbo</td><td>SOFTWARE</td><td>BASE TABLE</td></tr><tr><td>AssignmentSQLQueries</td><td>dbo</td><td>PROGRAMMER</td><td>BASE TABLE</td></tr></table>"
                        ]
                    },
                    "execution_count": 3,
                    "metadata": {},
                    "output_type": "execute_result"
                }
            ],
            "source": [
                "--SELECT * FROM INFORMATION_SCHEMA.TABLES"
            ]
        },
        {
            "cell_type": "code",
            "execution_count": 21,
            "metadata": {
                "azdata_cell_guid": "edfcbf9d-8019-405c-a6be-3af1ac21ddd4",
                "language": "sql",
                "vscode": {
                    "languageId": "sql"
                }
            },
            "outputs": [
                {
                    "data": {
                        "text/html": [
                            "(1 row affected)"
                        ]
                    },
                    "metadata": {},
                    "output_type": "display_data"
                },
                {
                    "data": {
                        "text/html": [
                            "Total execution time: 00:00:00.009"
                        ]
                    },
                    "metadata": {},
                    "output_type": "display_data"
                },
                {
                    "data": {
                        "application/vnd.dataresource+json": {
                            "data": [
                                {
                                    "0": "3066.65"
                                }
                            ],
                            "schema": {
                                "fields": [
                                    {
                                        "name": "AVG_SCOST_PASCAL"
                                    }
                                ]
                            }
                        },
                        "text/html": [
                            "<table><tr><th>AVG_SCOST_PASCAL</th></tr><tr><td>3066.65</td></tr></table>"
                        ]
                    },
                    "execution_count": 21,
                    "metadata": {},
                    "output_type": "execute_result"
                }
            ],
            "source": [
                "-- 1. Find out the selling cost AVG for packages developed in Pascal. \n",
                "SELECT AVG(SCOST) AS AVG_SCOST_PASCAL FROM SOFTWARE WHERE DEVELOPIN='PASCAL'"
            ]
        },
        {
            "cell_type": "code",
            "execution_count": 7,
            "metadata": {
                "azdata_cell_guid": "da8114fe-f7d2-48e2-8651-81947f7af4d4",
                "language": "sql",
                "vscode": {
                    "languageId": "sql"
                }
            },
            "outputs": [
                {
                    "data": {
                        "text/html": [
                            "(13 rows affected)"
                        ]
                    },
                    "metadata": {},
                    "output_type": "display_data"
                },
                {
                    "data": {
                        "text/html": [
                            "Total execution time: 00:00:00.017"
                        ]
                    },
                    "metadata": {},
                    "output_type": "display_data"
                },
                {
                    "data": {
                        "application/vnd.dataresource+json": {
                            "data": [
                                {
                                    "0": "ANAND",
                                    "1": "57"
                                },
                                {
                                    "0": "ALTAF",
                                    "1": "59"
                                },
                                {
                                    "0": "JULIANA",
                                    "1": "63"
                                },
                                {
                                    "0": "KAMALA",
                                    "1": "55"
                                },
                                {
                                    "0": "MARY",
                                    "1": "53"
                                },
                                {
                                    "0": "NELSON",
                                    "1": "38"
                                },
                                {
                                    "0": "PATTRICK",
                                    "1": "58"
                                },
                                {
                                    "0": "QADIR",
                                    "1": "58"
                                },
                                {
                                    "0": "RAMESH",
                                    "1": "56"
                                },
                                {
                                    "0": "REBECCA",
                                    "1": "56"
                                },
                                {
                                    "0": "REMITHA",
                                    "1": "53"
                                },
                                {
                                    "0": "REVATHI",
                                    "1": "54"
                                },
                                {
                                    "0": "VIJAYA",
                                    "1": "58"
                                }
                            ],
                            "schema": {
                                "fields": [
                                    {
                                        "name": "PNAME"
                                    },
                                    {
                                        "name": "(No column name)"
                                    }
                                ]
                            }
                        },
                        "text/html": [
                            "<table><tr><th>PNAME</th><th>(No column name)</th></tr><tr><td>ANAND</td><td>57</td></tr><tr><td>ALTAF</td><td>59</td></tr><tr><td>JULIANA</td><td>63</td></tr><tr><td>KAMALA</td><td>55</td></tr><tr><td>MARY</td><td>53</td></tr><tr><td>NELSON</td><td>38</td></tr><tr><td>PATTRICK</td><td>58</td></tr><tr><td>QADIR</td><td>58</td></tr><tr><td>RAMESH</td><td>56</td></tr><tr><td>REBECCA</td><td>56</td></tr><tr><td>REMITHA</td><td>53</td></tr><tr><td>REVATHI</td><td>54</td></tr><tr><td>VIJAYA</td><td>58</td></tr></table>"
                        ]
                    },
                    "execution_count": 7,
                    "metadata": {},
                    "output_type": "execute_result"
                }
            ],
            "source": [
                "-- 2. Display Names, Ages of all Programmers. \n",
                "SELECT PNAME, DATEDIFF(YY,DOB,GETDATE())\n",
                "FROM PROGRAMMER"
            ]
        },
        {
            "cell_type": "code",
            "execution_count": 8,
            "metadata": {
                "azdata_cell_guid": "10f8b153-f4a6-4825-a452-e2f66d3a02c4",
                "language": "sql",
                "vscode": {
                    "languageId": "sql"
                }
            },
            "outputs": [
                {
                    "data": {
                        "text/html": [
                            "(2 rows affected)"
                        ]
                    },
                    "metadata": {},
                    "output_type": "display_data"
                },
                {
                    "data": {
                        "text/html": [
                            "Total execution time: 00:00:00.017"
                        ]
                    },
                    "metadata": {},
                    "output_type": "display_data"
                },
                {
                    "data": {
                        "application/vnd.dataresource+json": {
                            "data": [
                                {
                                    "0": "NELSON"
                                },
                                {
                                    "0": "REVATHI"
                                }
                            ],
                            "schema": {
                                "fields": [
                                    {
                                        "name": "PNAME"
                                    }
                                ]
                            }
                        },
                        "text/html": [
                            "<table><tr><th>PNAME</th></tr><tr><td>NELSON</td></tr><tr><td>REVATHI</td></tr></table>"
                        ]
                    },
                    "execution_count": 8,
                    "metadata": {},
                    "output_type": "execute_result"
                }
            ],
            "source": [
                "-- 3. Display the Names of those who have done the DAP Course. \n",
                "SELECT PNAME\n",
                "FROM STUDIES\n",
                "WHERE COURSE='DAP'"
            ]
        },
        {
            "cell_type": "code",
            "execution_count": 9,
            "metadata": {
                "azdata_cell_guid": "b75811d9-3cf3-4ca1-aac4-0bca1aff5267",
                "language": "sql",
                "vscode": {
                    "languageId": "sql"
                }
            },
            "outputs": [
                {
                    "data": {
                        "text/html": [
                            "(2 rows affected)"
                        ]
                    },
                    "metadata": {},
                    "output_type": "display_data"
                },
                {
                    "data": {
                        "text/html": [
                            "Total execution time: 00:00:00.011"
                        ]
                    },
                    "metadata": {},
                    "output_type": "display_data"
                },
                {
                    "data": {
                        "application/vnd.dataresource+json": {
                            "data": [
                                {
                                    "0": "JULIANA",
                                    "1": "1960-01-31"
                                },
                                {
                                    "0": "REBECCA",
                                    "1": "1967-01-01"
                                }
                            ],
                            "schema": {
                                "fields": [
                                    {
                                        "name": "PNAME"
                                    },
                                    {
                                        "name": "DOB"
                                    }
                                ]
                            }
                        },
                        "text/html": [
                            "<table><tr><th>PNAME</th><th>DOB</th></tr><tr><td>JULIANA</td><td>1960-01-31</td></tr><tr><td>REBECCA</td><td>1967-01-01</td></tr></table>"
                        ]
                    },
                    "execution_count": 9,
                    "metadata": {},
                    "output_type": "execute_result"
                }
            ],
            "source": [
                "-- 4. Display the Names and Date of Births of all Programmers Born in January. \n",
                "SELECT PNAME, DOB\n",
                "FROM PROGRAMMER\n",
                "WHERE MONTH(DOB)=1"
            ]
        },
        {
            "cell_type": "code",
            "execution_count": 12,
            "metadata": {
                "azdata_cell_guid": "db294a34-9ba2-47c8-91c7-b3a9141bdee4",
                "language": "sql",
                "vscode": {
                    "languageId": "sql"
                }
            },
            "outputs": [
                {
                    "data": {
                        "text/html": [
                            "(1 row affected)"
                        ]
                    },
                    "metadata": {},
                    "output_type": "display_data"
                },
                {
                    "data": {
                        "text/html": [
                            "Total execution time: 00:00:00.008"
                        ]
                    },
                    "metadata": {},
                    "output_type": "display_data"
                },
                {
                    "data": {
                        "application/vnd.dataresource+json": {
                            "data": [
                                {
                                    "0": "84"
                                }
                            ],
                            "schema": {
                                "fields": [
                                    {
                                        "name": "MAX_PACKAGE_SOLD"
                                    }
                                ]
                            }
                        },
                        "text/html": [
                            "<table><tr><th>MAX_PACKAGE_SOLD</th></tr><tr><td>84</td></tr></table>"
                        ]
                    },
                    "execution_count": 12,
                    "metadata": {},
                    "output_type": "execute_result"
                }
            ],
            "source": [
                "-- 5. What is the Highest Number of copies sold by a Package? \n",
                "SELECT MAX(sold) MAX_PACKAGE_SOLD\n",
                "FROM SOFTWARE"
            ]
        },
        {
            "cell_type": "code",
            "execution_count": 13,
            "metadata": {
                "azdata_cell_guid": "2b2d156f-715f-4123-aaef-dcba08a5dfdf",
                "language": "sql",
                "vscode": {
                    "languageId": "sql"
                }
            },
            "outputs": [
                {
                    "data": {
                        "text/html": [
                            "(1 row affected)"
                        ]
                    },
                    "metadata": {},
                    "output_type": "display_data"
                },
                {
                    "data": {
                        "text/html": [
                            "Total execution time: 00:00:00.010"
                        ]
                    },
                    "metadata": {},
                    "output_type": "display_data"
                },
                {
                    "data": {
                        "application/vnd.dataresource+json": {
                            "data": [
                                {
                                    "0": "4500"
                                }
                            ],
                            "schema": {
                                "fields": [
                                    {
                                        "name": "LOWEST_COURSE_FEE"
                                    }
                                ]
                            }
                        },
                        "text/html": [
                            "<table><tr><th>LOWEST_COURSE_FEE</th></tr><tr><td>4500</td></tr></table>"
                        ]
                    },
                    "execution_count": 13,
                    "metadata": {},
                    "output_type": "execute_result"
                }
            ],
            "source": [
                "-- 6. Display lowest course Fee. \n",
                "SELECT MIN([COURSE FEE]) AS LOWEST_COURSE_FEE\n",
                "FROM STUDIES"
            ]
        },
        {
            "cell_type": "code",
            "execution_count": 16,
            "metadata": {
                "azdata_cell_guid": "3f6d141f-ee5c-4a01-aaeb-67b40e90a9e7",
                "language": "sql",
                "vscode": {
                    "languageId": "sql"
                }
            },
            "outputs": [
                {
                    "data": {
                        "text/html": [
                            "(1 row affected)"
                        ]
                    },
                    "metadata": {},
                    "output_type": "display_data"
                },
                {
                    "data": {
                        "text/html": [
                            "Total execution time: 00:00:00.009"
                        ]
                    },
                    "metadata": {},
                    "output_type": "display_data"
                },
                {
                    "data": {
                        "application/vnd.dataresource+json": {
                            "data": [
                                {
                                    "0": "3"
                                }
                            ],
                            "schema": {
                                "fields": [
                                    {
                                        "name": "NO_OF_PGDA_STUDENTS"
                                    }
                                ]
                            }
                        },
                        "text/html": [
                            "<table><tr><th>NO_OF_PGDA_STUDENTS</th></tr><tr><td>3</td></tr></table>"
                        ]
                    },
                    "execution_count": 16,
                    "metadata": {},
                    "output_type": "execute_result"
                }
            ],
            "source": [
                "-- 7. How many programmers done the PGDCA Course? \n",
                "SELECT COUNT(*) AS NO_OF_PGDA_STUDENTS\n",
                "FROM STUDIES\n",
                "WHERE COURSE='PGDCA'"
            ]
        },
        {
            "cell_type": "code",
            "execution_count": 17,
            "metadata": {
                "azdata_cell_guid": "12a6e274-5d7c-45fc-957f-a708069485f5",
                "language": "sql",
                "vscode": {
                    "languageId": "sql"
                }
            },
            "outputs": [
                {
                    "data": {
                        "text/html": [
                            "(1 row affected)"
                        ]
                    },
                    "metadata": {},
                    "output_type": "display_data"
                },
                {
                    "data": {
                        "text/html": [
                            "Total execution time: 00:00:00.048"
                        ]
                    },
                    "metadata": {},
                    "output_type": "display_data"
                },
                {
                    "data": {
                        "application/vnd.dataresource+json": {
                            "data": [
                                {
                                    "0": "8025"
                                }
                            ],
                            "schema": {
                                "fields": [
                                    {
                                        "name": "TOTAL_SCOST_C"
                                    }
                                ]
                            }
                        },
                        "text/html": [
                            "<table><tr><th>TOTAL_SCOST_C</th></tr><tr><td>8025</td></tr></table>"
                        ]
                    },
                    "execution_count": 17,
                    "metadata": {},
                    "output_type": "execute_result"
                }
            ],
            "source": [
                "-- 8. How much revenue has been earned thru sales of Packages Developed in C.\n",
                "SELECT SUM(SCOST) AS TOTAL_SCOST_C\n",
                "FROM SOFTWARE\n",
                "WHERE DEVELOPIN='C'"
            ]
        },
        {
            "cell_type": "code",
            "execution_count": 18,
            "metadata": {
                "azdata_cell_guid": "8ff7d835-e669-4bba-9793-49dcf886ad22",
                "language": "sql",
                "vscode": {
                    "languageId": "sql"
                }
            },
            "outputs": [
                {
                    "data": {
                        "text/html": [
                            "(2 rows affected)"
                        ]
                    },
                    "metadata": {},
                    "output_type": "display_data"
                },
                {
                    "data": {
                        "text/html": [
                            "Total execution time: 00:00:00.023"
                        ]
                    },
                    "metadata": {},
                    "output_type": "display_data"
                },
                {
                    "data": {
                        "application/vnd.dataresource+json": {
                            "data": [
                                {
                                    "0": "RAMESH",
                                    "1": "HOTEL MGMT.",
                                    "2": "DBASE",
                                    "3": "13000",
                                    "4": "35000",
                                    "5": "4"
                                },
                                {
                                    "0": "RAMESH",
                                    "1": "DEAD LEE",
                                    "2": "PASCAL",
                                    "3": "599.95",
                                    "4": "4500",
                                    "5": "73"
                                }
                            ],
                            "schema": {
                                "fields": [
                                    {
                                        "name": "PNAME"
                                    },
                                    {
                                        "name": "TITLE"
                                    },
                                    {
                                        "name": "DEVELOPIN"
                                    },
                                    {
                                        "name": "SCOST"
                                    },
                                    {
                                        "name": "DCOST"
                                    },
                                    {
                                        "name": "SOLD"
                                    }
                                ]
                            }
                        },
                        "text/html": [
                            "<table><tr><th>PNAME</th><th>TITLE</th><th>DEVELOPIN</th><th>SCOST</th><th>DCOST</th><th>SOLD</th></tr><tr><td>RAMESH</td><td>HOTEL MGMT.</td><td>DBASE</td><td>13000</td><td>35000</td><td>4</td></tr><tr><td>RAMESH</td><td>DEAD LEE</td><td>PASCAL</td><td>599.95</td><td>4500</td><td>73</td></tr></table>"
                        ]
                    },
                    "execution_count": 18,
                    "metadata": {},
                    "output_type": "execute_result"
                }
            ],
            "source": [
                "-- 9. Display the Details of the Software Developed by Ramesh. \n",
                "SELECT *\n",
                "FROM SOFTWARE\n",
                "WHERE PNAME='Ramesh'"
            ]
        },
        {
            "cell_type": "code",
            "execution_count": 19,
            "metadata": {
                "azdata_cell_guid": "e50b67a3-e19a-47fc-9b53-ef9dbdca4adf",
                "language": "sql",
                "tags": [],
                "vscode": {
                    "languageId": "sql"
                }
            },
            "outputs": [
                {
                    "data": {
                        "text/html": [
                            "(1 row affected)"
                        ]
                    },
                    "metadata": {},
                    "output_type": "display_data"
                },
                {
                    "data": {
                        "text/html": [
                            "Total execution time: 00:00:00.016"
                        ]
                    },
                    "metadata": {},
                    "output_type": "display_data"
                },
                {
                    "data": {
                        "application/vnd.dataresource+json": {
                            "data": [
                                {
                                    "0": "4"
                                }
                            ],
                            "schema": {
                                "fields": [
                                    {
                                        "name": "NO_OF_PROGRAMMERS_STUDIED_AT_SABHARI"
                                    }
                                ]
                            }
                        },
                        "text/html": [
                            "<table><tr><th>NO_OF_PROGRAMMERS_STUDIED_AT_SABHARI</th></tr><tr><td>4</td></tr></table>"
                        ]
                    },
                    "execution_count": 19,
                    "metadata": {},
                    "output_type": "execute_result"
                }
            ],
            "source": [
                "-- 10. How many Programmers Studied at Sabhari? \n",
                "SELECT COUNT(*) AS NO_OF_PROGRAMMERS_STUDIED_AT_SABHARI\n",
                "FROM STUDIES\n",
                "WHERE INSTITUTE='SABHARI'"
            ]
        },
        {
            "cell_type": "code",
            "execution_count": 28,
            "metadata": {
                "azdata_cell_guid": "992333c7-c05e-4296-ae09-0057fe467cb5",
                "language": "sql",
                "vscode": {
                    "languageId": "sql"
                }
            },
            "outputs": [
                {
                    "data": {
                        "text/html": [
                            "(0 rows affected)"
                        ]
                    },
                    "metadata": {},
                    "output_type": "display_data"
                },
                {
                    "data": {
                        "text/html": [
                            "Total execution time: 00:00:00.024"
                        ]
                    },
                    "metadata": {},
                    "output_type": "display_data"
                },
                {
                    "data": {
                        "application/vnd.dataresource+json": {
                            "data": [],
                            "schema": {
                                "fields": [
                                    {
                                        "name": "PNAME"
                                    },
                                    {
                                        "name": "TITLE"
                                    },
                                    {
                                        "name": "SOLD"
                                    }
                                ]
                            }
                        },
                        "text/html": [
                            "<table><tr><th>PNAME</th><th>TITLE</th><th>SOLD</th></tr></table>"
                        ]
                    },
                    "execution_count": 28,
                    "metadata": {},
                    "output_type": "execute_result"
                }
            ],
            "source": [
                "-- 11. Display details of Packages whose sales crossed the 2000 Mark. \n",
                "SELECT PNAME, SA.TITLE, SOLD\n",
                "FROM SOFTWARE SS INNER JOIN (SELECT TITLE\n",
                "    FROM SOFTWARE\n",
                "    GROUP BY TITLE\n",
                "    HAVING SUM(SOLD)>2000) SA ON SS.TITLE=SA.TITLE"
            ]
        },
        {
            "cell_type": "code",
            "execution_count": 33,
            "metadata": {
                "azdata_cell_guid": "01888c31-1a7c-4eff-a442-cae84b8546b1",
                "language": "sql",
                "vscode": {
                    "languageId": "sql"
                }
            },
            "outputs": [
                {
                    "data": {
                        "text/html": [
                            "(13 rows affected)"
                        ]
                    },
                    "metadata": {},
                    "output_type": "display_data"
                },
                {
                    "data": {
                        "text/html": [
                            "Total execution time: 00:00:00.069"
                        ]
                    },
                    "metadata": {},
                    "output_type": "display_data"
                },
                {
                    "data": {
                        "application/vnd.dataresource+json": {
                            "data": [
                                {
                                    "0": "MARY",
                                    "1": "README",
                                    "2": "CPP",
                                    "3": "300",
                                    "4": "1200",
                                    "5": "84"
                                },
                                {
                                    "0": "ANAND",
                                    "1": "PARACHUTES",
                                    "2": "BASIC",
                                    "3": "399.95",
                                    "4": "6000",
                                    "5": "43"
                                },
                                {
                                    "0": "ANAND",
                                    "1": "VIDEO TITLING",
                                    "2": "PASCAL",
                                    "3": "7500",
                                    "4": "16000",
                                    "5": "9"
                                },
                                {
                                    "0": "KAMALA",
                                    "1": "PAYROLL PKG.",
                                    "2": "DBASE",
                                    "3": "9000",
                                    "4": "20000",
                                    "5": "7"
                                },
                                {
                                    "0": "MARY",
                                    "1": "CODE GENERATOR",
                                    "2": "C",
                                    "3": "4500",
                                    "4": "20000",
                                    "5": "23"
                                },
                                {
                                    "0": "PATTRICK",
                                    "1": "README",
                                    "2": "CPP",
                                    "3": "300",
                                    "4": "1200",
                                    "5": "84"
                                },
                                {
                                    "0": "QADIR",
                                    "1": "BOMBS AWAY",
                                    "2": "ASSEMBLY",
                                    "3": "750",
                                    "4": "3000",
                                    "5": "11"
                                },
                                {
                                    "0": "QADIR",
                                    "1": "VACCINES",
                                    "2": "C",
                                    "3": "1900",
                                    "4": "3100",
                                    "5": "21"
                                },
                                {
                                    "0": "RAMESH",
                                    "1": "HOTEL MGMT.",
                                    "2": "DBASE",
                                    "3": "13000",
                                    "4": "35000",
                                    "5": "4"
                                },
                                {
                                    "0": "RAMESH",
                                    "1": "DEAD LEE",
                                    "2": "PASCAL",
                                    "3": "599.95",
                                    "4": "4500",
                                    "5": "73"
                                },
                                {
                                    "0": "REMITHA",
                                    "1": "PC UTILITIES",
                                    "2": "C",
                                    "3": "725",
                                    "4": "5000",
                                    "5": "51"
                                },
                                {
                                    "0": "REMITHA",
                                    "1": "TSR HELP PKG.",
                                    "2": "ASSEMBLY",
                                    "3": "2500",
                                    "4": "6000",
                                    "5": "7"
                                },
                                {
                                    "0": "VIJAYA",
                                    "1": "TSR EDITOR",
                                    "2": "C",
                                    "3": "900",
                                    "4": "700",
                                    "5": "6"
                                }
                            ],
                            "schema": {
                                "fields": [
                                    {
                                        "name": "PNAME"
                                    },
                                    {
                                        "name": "TITLE"
                                    },
                                    {
                                        "name": "DEVELOPIN"
                                    },
                                    {
                                        "name": "SCOST"
                                    },
                                    {
                                        "name": "DCOST"
                                    },
                                    {
                                        "name": "SOLD"
                                    }
                                ]
                            }
                        },
                        "text/html": [
                            "<table><tr><th>PNAME</th><th>TITLE</th><th>DEVELOPIN</th><th>SCOST</th><th>DCOST</th><th>SOLD</th></tr><tr><td>MARY</td><td>README</td><td>CPP</td><td>300</td><td>1200</td><td>84</td></tr><tr><td>ANAND</td><td>PARACHUTES</td><td>BASIC</td><td>399.95</td><td>6000</td><td>43</td></tr><tr><td>ANAND</td><td>VIDEO TITLING</td><td>PASCAL</td><td>7500</td><td>16000</td><td>9</td></tr><tr><td>KAMALA</td><td>PAYROLL PKG.</td><td>DBASE</td><td>9000</td><td>20000</td><td>7</td></tr><tr><td>MARY</td><td>CODE GENERATOR</td><td>C</td><td>4500</td><td>20000</td><td>23</td></tr><tr><td>PATTRICK</td><td>README</td><td>CPP</td><td>300</td><td>1200</td><td>84</td></tr><tr><td>QADIR</td><td>BOMBS AWAY</td><td>ASSEMBLY</td><td>750</td><td>3000</td><td>11</td></tr><tr><td>QADIR</td><td>VACCINES</td><td>C</td><td>1900</td><td>3100</td><td>21</td></tr><tr><td>RAMESH</td><td>HOTEL MGMT.</td><td>DBASE</td><td>13000</td><td>35000</td><td>4</td></tr><tr><td>RAMESH</td><td>DEAD LEE</td><td>PASCAL</td><td>599.95</td><td>4500</td><td>73</td></tr><tr><td>REMITHA</td><td>PC UTILITIES</td><td>C</td><td>725</td><td>5000</td><td>51</td></tr><tr><td>REMITHA</td><td>TSR HELP PKG.</td><td>ASSEMBLY</td><td>2500</td><td>6000</td><td>7</td></tr><tr><td>VIJAYA</td><td>TSR EDITOR</td><td>C</td><td>900</td><td>700</td><td>6</td></tr></table>"
                        ]
                    },
                    "execution_count": 33,
                    "metadata": {},
                    "output_type": "execute_result"
                }
            ],
            "source": [
                "-- 12. Display the Details of Packages for which Development Cost have been recovered. \n",
                "SELECT *\n",
                "FROM SOFTWARE\n",
                "WHERE (SCOST*SOLD) >DCOST"
            ]
        },
        {
            "cell_type": "code",
            "execution_count": 48,
            "metadata": {
                "azdata_cell_guid": "86353e3b-3d53-4aad-920a-5303d7b94638",
                "language": "sql",
                "vscode": {
                    "languageId": "sql"
                }
            },
            "outputs": [
                {
                    "data": {
                        "text/html": [
                            "(1 row affected)"
                        ]
                    },
                    "metadata": {},
                    "output_type": "display_data"
                },
                {
                    "data": {
                        "text/html": [
                            "Total execution time: 00:00:00.008"
                        ]
                    },
                    "metadata": {},
                    "output_type": "display_data"
                },
                {
                    "data": {
                        "application/vnd.dataresource+json": {
                            "data": [
                                {
                                    "0": "6000"
                                }
                            ],
                            "schema": {
                                "fields": [
                                    {
                                        "name": "DCOST"
                                    }
                                ]
                            }
                        },
                        "text/html": [
                            "<table><tr><th>DCOST</th></tr><tr><td>6000</td></tr></table>"
                        ]
                    },
                    "execution_count": 48,
                    "metadata": {},
                    "output_type": "execute_result"
                }
            ],
            "source": [
                "-- 13. What is the cost of the costliest software development in Basic? \n",
                "SELECT MAX(DCOST) AS DCOST\n",
                "FROM SOFTWARE\n",
                "WHERE DEVELOPIN='BASIC'"
            ]
        },
        {
            "cell_type": "code",
            "execution_count": 50,
            "metadata": {
                "azdata_cell_guid": "0c460e99-9770-4098-8c98-8bfa542767e9",
                "language": "sql",
                "vscode": {
                    "languageId": "sql"
                }
            },
            "outputs": [
                {
                    "data": {
                        "text/html": [
                            "(1 row affected)"
                        ]
                    },
                    "metadata": {},
                    "output_type": "display_data"
                },
                {
                    "data": {
                        "text/html": [
                            "Total execution time: 00:00:00.007"
                        ]
                    },
                    "metadata": {},
                    "output_type": "display_data"
                },
                {
                    "data": {
                        "application/vnd.dataresource+json": {
                            "data": [
                                {
                                    "0": "2"
                                }
                            ],
                            "schema": {
                                "fields": [
                                    {
                                        "name": "Packages Developed in DBASE"
                                    }
                                ]
                            }
                        },
                        "text/html": [
                            "<table><tr><th>Packages Developed in DBASE</th></tr><tr><td>2</td></tr></table>"
                        ]
                    },
                    "execution_count": 50,
                    "metadata": {},
                    "output_type": "execute_result"
                }
            ],
            "source": [
                "-- 14. How many Packages Developed in DBASE? \n",
                "SELECT COUNT(*) AS \"Packages Developed in DBASE\"\n",
                "FROM SOFTWARE\n",
                "WHERE DEVELOPIN='DBASE'"
            ]
        },
        {
            "cell_type": "code",
            "execution_count": 51,
            "metadata": {
                "azdata_cell_guid": "14a993a7-f700-4d8d-b6c4-de74e780bad3",
                "language": "sql",
                "vscode": {
                    "languageId": "sql"
                }
            },
            "outputs": [
                {
                    "data": {
                        "text/html": [
                            "(1 row affected)"
                        ]
                    },
                    "metadata": {},
                    "output_type": "display_data"
                },
                {
                    "data": {
                        "text/html": [
                            "Total execution time: 00:00:00.120"
                        ]
                    },
                    "metadata": {},
                    "output_type": "display_data"
                },
                {
                    "data": {
                        "application/vnd.dataresource+json": {
                            "data": [
                                {
                                    "0": "3"
                                }
                            ],
                            "schema": {
                                "fields": [
                                    {
                                        "name": "programmers studied in Pragathi"
                                    }
                                ]
                            }
                        },
                        "text/html": [
                            "<table><tr><th>programmers studied in Pragathi</th></tr><tr><td>3</td></tr></table>"
                        ]
                    },
                    "execution_count": 51,
                    "metadata": {},
                    "output_type": "execute_result"
                }
            ],
            "source": [
                "-- 15. How many programmers studied in Pragathi? \n",
                "SELECT COUNT(*) \"programmers studied in Pragathi\"\n",
                "FROM STUDIES\n",
                "WHERE INSTITUTE='PRAGATHI'"
            ]
        },
        {
            "cell_type": "code",
            "execution_count": 52,
            "metadata": {
                "azdata_cell_guid": "c30f8a70-78a7-4149-b700-b3beee2aa0af",
                "language": "sql",
                "vscode": {
                    "languageId": "sql"
                }
            },
            "outputs": [
                {
                    "data": {
                        "text/html": [
                            "(1 row affected)"
                        ]
                    },
                    "metadata": {},
                    "output_type": "display_data"
                },
                {
                    "data": {
                        "text/html": [
                            "Total execution time: 00:00:00.009"
                        ]
                    },
                    "metadata": {},
                    "output_type": "display_data"
                },
                {
                    "data": {
                        "application/vnd.dataresource+json": {
                            "data": [
                                {
                                    "0": "6"
                                }
                            ],
                            "schema": {
                                "fields": [
                                    {
                                        "name": "Programmers Paid 5000 to 10000"
                                    }
                                ]
                            }
                        },
                        "text/html": [
                            "<table><tr><th>Programmers Paid 5000 to 10000</th></tr><tr><td>6</td></tr></table>"
                        ]
                    },
                    "execution_count": 52,
                    "metadata": {},
                    "output_type": "execute_result"
                }
            ],
            "source": [
                "-- 16. How many Programmers Paid 5000 to 10000 for their course? \n",
                "SELECT COUNT(*) AS \"Programmers Paid 5000 to 10000\"\n",
                "FROM STUDIES\n",
                "WHERE [COURSE FEE] BETWEEN 5000 AND 10000"
            ]
        },
        {
            "cell_type": "code",
            "execution_count": 54,
            "metadata": {
                "azdata_cell_guid": "38fdd784-8fd5-4815-91fc-6c0f7e3929b3",
                "language": "sql",
                "tags": [],
                "vscode": {
                    "languageId": "sql"
                }
            },
            "outputs": [
                {
                    "data": {
                        "text/html": [
                            "(1 row affected)"
                        ]
                    },
                    "metadata": {},
                    "output_type": "display_data"
                },
                {
                    "data": {
                        "text/html": [
                            "Total execution time: 00:00:00.019"
                        ]
                    },
                    "metadata": {},
                    "output_type": "display_data"
                },
                {
                    "data": {
                        "application/vnd.dataresource+json": {
                            "data": [
                                {
                                    "0": "11007"
                                }
                            ],
                            "schema": {
                                "fields": [
                                    {
                                        "name": "AVG_COURSE_FEE"
                                    }
                                ]
                            }
                        },
                        "text/html": [
                            "<table><tr><th>AVG_COURSE_FEE</th></tr><tr><td>11007</td></tr></table>"
                        ]
                    },
                    "execution_count": 54,
                    "metadata": {},
                    "output_type": "execute_result"
                }
            ],
            "source": [
                "-- 17. What is AVG Course Fee \n",
                "SELECT AVG([COURSE FEE]) AS AVG_COURSE_FEE\n",
                "FROM STUDIES"
            ]
        },
        {
            "cell_type": "code",
            "execution_count": 55,
            "metadata": {
                "azdata_cell_guid": "1ab65aa1-c64a-4024-817f-2f121e1d1047",
                "language": "sql",
                "vscode": {
                    "languageId": "sql"
                }
            },
            "outputs": [
                {
                    "data": {
                        "text/html": [
                            "(4 rows affected)"
                        ]
                    },
                    "metadata": {},
                    "output_type": "display_data"
                },
                {
                    "data": {
                        "text/html": [
                            "Total execution time: 00:00:00.020"
                        ]
                    },
                    "metadata": {},
                    "output_type": "display_data"
                },
                {
                    "data": {
                        "application/vnd.dataresource+json": {
                            "data": [
                                {
                                    "0": "KAMALA",
                                    "1": "1968-10-30",
                                    "2": "1992-01-02",
                                    "3": "F",
                                    "4": "C",
                                    "5": "DBASE",
                                    "6": "2900"
                                },
                                {
                                    "0": "QADIR",
                                    "1": "1965-08-31",
                                    "2": "1991-04-21",
                                    "3": "M",
                                    "4": "ASSEMBLY",
                                    "5": "C",
                                    "6": "3000"
                                },
                                {
                                    "0": "REMITHA",
                                    "1": "1970-04-19",
                                    "2": "1993-04-20",
                                    "3": "F",
                                    "4": "C",
                                    "5": "ASSEMBLY",
                                    "6": "3600"
                                },
                                {
                                    "0": "VIJAYA",
                                    "1": "1965-12-14",
                                    "2": "1992-05-02",
                                    "3": "F",
                                    "4": "FOXPRO",
                                    "5": "C",
                                    "6": "3500"
                                }
                            ],
                            "schema": {
                                "fields": [
                                    {
                                        "name": "PNAME"
                                    },
                                    {
                                        "name": "DOB"
                                    },
                                    {
                                        "name": "DOJ"
                                    },
                                    {
                                        "name": "GENDER"
                                    },
                                    {
                                        "name": "PROF1"
                                    },
                                    {
                                        "name": "PROF2"
                                    },
                                    {
                                        "name": "SALARY"
                                    }
                                ]
                            }
                        },
                        "text/html": [
                            "<table><tr><th>PNAME</th><th>DOB</th><th>DOJ</th><th>GENDER</th><th>PROF1</th><th>PROF2</th><th>SALARY</th></tr><tr><td>KAMALA</td><td>1968-10-30</td><td>1992-01-02</td><td>F</td><td>C</td><td>DBASE</td><td>2900</td></tr><tr><td>QADIR</td><td>1965-08-31</td><td>1991-04-21</td><td>M</td><td>ASSEMBLY</td><td>C</td><td>3000</td></tr><tr><td>REMITHA</td><td>1970-04-19</td><td>1993-04-20</td><td>F</td><td>C</td><td>ASSEMBLY</td><td>3600</td></tr><tr><td>VIJAYA</td><td>1965-12-14</td><td>1992-05-02</td><td>F</td><td>FOXPRO</td><td>C</td><td>3500</td></tr></table>"
                        ]
                    },
                    "execution_count": 55,
                    "metadata": {},
                    "output_type": "execute_result"
                }
            ],
            "source": [
                "-- 18. Display the details of the Programmers Knowing C.\n",
                "SELECT *\n",
                "FROM PROGRAMMER\n",
                "WHERE 'C' IN (PROF1,PROF2)"
            ]
        },
        {
            "cell_type": "code",
            "execution_count": 56,
            "metadata": {
                "azdata_cell_guid": "43279ddd-3101-4375-a45a-5f05704f9648",
                "language": "sql",
                "tags": [],
                "vscode": {
                    "languageId": "sql"
                }
            },
            "outputs": [
                {
                    "data": {
                        "text/html": [
                            "(1 row affected)"
                        ]
                    },
                    "metadata": {},
                    "output_type": "display_data"
                },
                {
                    "data": {
                        "text/html": [
                            "Total execution time: 00:00:00.022"
                        ]
                    },
                    "metadata": {},
                    "output_type": "display_data"
                },
                {
                    "data": {
                        "application/vnd.dataresource+json": {
                            "data": [
                                {
                                    "0": "6"
                                }
                            ],
                            "schema": {
                                "fields": [
                                    {
                                        "name": "Programmers know either COBOL or PASCAL"
                                    }
                                ]
                            }
                        },
                        "text/html": [
                            "<table><tr><th>Programmers know either COBOL or PASCAL</th></tr><tr><td>6</td></tr></table>"
                        ]
                    },
                    "execution_count": 56,
                    "metadata": {},
                    "output_type": "execute_result"
                }
            ],
            "source": [
                "-- 19. How many Programmers know either COBOL or PASCAL. \n",
                "SELECT COUNT(*) AS \"Programmers know either COBOL or PASCAL\" FROM PROGRAMMER WHERE PROF1 IN ('PASCAL','COBOL')"
            ]
        },
        {
            "cell_type": "code",
            "execution_count": 59,
            "metadata": {
                "azdata_cell_guid": "a52aa7a4-c280-4c13-84a0-b188bea25469",
                "language": "sql",
                "vscode": {
                    "languageId": "sql"
                }
            },
            "outputs": [
                {
                    "data": {
                        "text/html": [
                            "(1 row affected)"
                        ]
                    },
                    "metadata": {},
                    "output_type": "display_data"
                },
                {
                    "data": {
                        "text/html": [
                            "Total execution time: 00:00:00.071"
                        ]
                    },
                    "metadata": {},
                    "output_type": "display_data"
                },
                {
                    "data": {
                        "application/vnd.dataresource+json": {
                            "data": [
                                {
                                    "0": "5"
                                }
                            ],
                            "schema": {
                                "fields": [
                                    {
                                        "name": "Programmers Don’t know PASCAL and C"
                                    }
                                ]
                            }
                        },
                        "text/html": [
                            "<table><tr><th>Programmers Don’t know PASCAL and C</th></tr><tr><td>5</td></tr></table>"
                        ]
                    },
                    "execution_count": 59,
                    "metadata": {},
                    "output_type": "execute_result"
                }
            ],
            "source": [
                "-- 20. How many Programmers Don’t know PASCAL and C \n",
                "SELECT COUNT(*) AS \"Programmers Don’t know PASCAL and C\"\n",
                "FROM PROGRAMMER\n",
                "WHERE 'PASCAL' NOT IN (PROF1,PROF2) AND 'C' NOT IN (PROF1,PROF2)"
            ]
        },
        {
            "cell_type": "code",
            "execution_count": 64,
            "metadata": {
                "azdata_cell_guid": "76f6eb18-caed-4b27-a4b5-acfdc1ffb784",
                "language": "sql",
                "vscode": {
                    "languageId": "sql"
                }
            },
            "outputs": [
                {
                    "data": {
                        "text/html": [
                            "(1 row affected)"
                        ]
                    },
                    "metadata": {},
                    "output_type": "display_data"
                },
                {
                    "data": {
                        "text/html": [
                            "Total execution time: 00:00:00.005"
                        ]
                    },
                    "metadata": {},
                    "output_type": "display_data"
                },
                {
                    "data": {
                        "application/vnd.dataresource+json": {
                            "data": [
                                {
                                    "0": "59"
                                }
                            ],
                            "schema": {
                                "fields": [
                                    {
                                        "name": "AGE(YEARS)"
                                    }
                                ]
                            }
                        },
                        "text/html": [
                            "<table><tr><th>AGE(YEARS)</th></tr><tr><td>59</td></tr></table>"
                        ]
                    },
                    "execution_count": 64,
                    "metadata": {},
                    "output_type": "execute_result"
                }
            ],
            "source": [
                "-- 21. How old is the Oldest Male Programmer. \n",
                "SELECT TOP 1\n",
                "    DATEDIFF(YY,DOB,GETDATE()) AS \"AGE(YEARS)\"\n",
                "FROM PROGRAMMER\n",
                "WHERE GENDER='M'\n",
                "ORDER BY DOB"
            ]
        },
        {
            "cell_type": "code",
            "execution_count": 67,
            "metadata": {
                "azdata_cell_guid": "9ff3aae0-50f0-475b-8baa-bd47e8375a28",
                "language": "sql",
                "vscode": {
                    "languageId": "sql"
                }
            },
            "outputs": [
                {
                    "data": {
                        "text/html": [
                            "(1 row affected)"
                        ]
                    },
                    "metadata": {},
                    "output_type": "display_data"
                },
                {
                    "data": {
                        "text/html": [
                            "Total execution time: 00:00:00.006"
                        ]
                    },
                    "metadata": {},
                    "output_type": "display_data"
                },
                {
                    "data": {
                        "application/vnd.dataresource+json": {
                            "data": [
                                {
                                    "0": "56"
                                }
                            ],
                            "schema": {
                                "fields": [
                                    {
                                        "name": "AVG_AGE"
                                    }
                                ]
                            }
                        },
                        "text/html": [
                            "<table><tr><th>AVG_AGE</th></tr><tr><td>56</td></tr></table>"
                        ]
                    },
                    "execution_count": 67,
                    "metadata": {},
                    "output_type": "execute_result"
                }
            ],
            "source": [
                "-- 22. What is the AVG age of Female Programmers? \n",
                "SELECT AVG(DATEDIFF(YY,DOB,GETDATE())) AS AVG_AGE\n",
                "FROM PROGRAMMER\n",
                "WHERE GENDER='F'"
            ]
        },
        {
            "cell_type": "code",
            "execution_count": 69,
            "metadata": {
                "azdata_cell_guid": "4fa6be29-0fea-4ce7-8c2b-3f3a0d1251c7",
                "language": "sql",
                "tags": [],
                "vscode": {
                    "languageId": "sql"
                }
            },
            "outputs": [
                {
                    "data": {
                        "text/html": [
                            "(13 rows affected)"
                        ]
                    },
                    "metadata": {},
                    "output_type": "display_data"
                },
                {
                    "data": {
                        "text/html": [
                            "Total execution time: 00:00:00.006"
                        ]
                    },
                    "metadata": {},
                    "output_type": "display_data"
                },
                {
                    "data": {
                        "application/vnd.dataresource+json": {
                            "data": [
                                {
                                    "0": "VIJAYA",
                                    "1": "31"
                                },
                                {
                                    "0": "REVATHI",
                                    "1": "31"
                                },
                                {
                                    "0": "REMITHA",
                                    "1": "30"
                                },
                                {
                                    "0": "REBECCA",
                                    "1": "33"
                                },
                                {
                                    "0": "RAMESH",
                                    "1": "32"
                                },
                                {
                                    "0": "QADIR",
                                    "1": "32"
                                },
                                {
                                    "0": "PATTRICK",
                                    "1": "33"
                                },
                                {
                                    "0": "NELSON",
                                    "1": "34"
                                },
                                {
                                    "0": "MARY",
                                    "1": "32"
                                },
                                {
                                    "0": "KAMALA",
                                    "1": "31"
                                },
                                {
                                    "0": "JULIANA",
                                    "1": "33"
                                },
                                {
                                    "0": "ANAND",
                                    "1": "31"
                                },
                                {
                                    "0": "ALTAF",
                                    "1": "33"
                                }
                            ],
                            "schema": {
                                "fields": [
                                    {
                                        "name": "PNAME"
                                    },
                                    {
                                        "name": "Experience in Years"
                                    }
                                ]
                            }
                        },
                        "text/html": [
                            "<table><tr><th>PNAME</th><th>Experience in Years</th></tr><tr><td>VIJAYA</td><td>31</td></tr><tr><td>REVATHI</td><td>31</td></tr><tr><td>REMITHA</td><td>30</td></tr><tr><td>REBECCA</td><td>33</td></tr><tr><td>RAMESH</td><td>32</td></tr><tr><td>QADIR</td><td>32</td></tr><tr><td>PATTRICK</td><td>33</td></tr><tr><td>NELSON</td><td>34</td></tr><tr><td>MARY</td><td>32</td></tr><tr><td>KAMALA</td><td>31</td></tr><tr><td>JULIANA</td><td>33</td></tr><tr><td>ANAND</td><td>31</td></tr><tr><td>ALTAF</td><td>33</td></tr></table>"
                        ]
                    },
                    "execution_count": 69,
                    "metadata": {},
                    "output_type": "execute_result"
                }
            ],
            "source": [
                "-- 23. Calculate the Experience in Years for each Programmer and Display with their \n",
                "-- names in Descending order. \n",
                "\n",
                "SELECT PNAME, DATEDIFF(YY,DOJ,GETDATE()) AS \"Experience in Years\"\n",
                "FROM PROGRAMMER\n",
                "ORDER BY PNAME DESC"
            ]
        },
        {
            "cell_type": "code",
            "execution_count": 70,
            "metadata": {
                "azdata_cell_guid": "af127dd5-3b03-4797-901a-12be9697b4af",
                "language": "sql",
                "vscode": {
                    "languageId": "sql"
                }
            },
            "outputs": [
                {
                    "data": {
                        "text/html": [
                            "(2 rows affected)"
                        ]
                    },
                    "metadata": {},
                    "output_type": "display_data"
                },
                {
                    "data": {
                        "text/html": [
                            "Total execution time: 00:00:00.021"
                        ]
                    },
                    "metadata": {},
                    "output_type": "display_data"
                },
                {
                    "data": {
                        "application/vnd.dataresource+json": {
                            "data": [
                                {
                                    "0": "ANAND",
                                    "1": "1966-04-12",
                                    "2": "1992-04-21",
                                    "3": "M",
                                    "4": "PASCAL",
                                    "5": "BASIC",
                                    "6": "3200"
                                },
                                {
                                    "0": "REMITHA",
                                    "1": "1970-04-19",
                                    "2": "1993-04-20",
                                    "3": "F",
                                    "4": "C",
                                    "5": "ASSEMBLY",
                                    "6": "3600"
                                }
                            ],
                            "schema": {
                                "fields": [
                                    {
                                        "name": "PNAME"
                                    },
                                    {
                                        "name": "DOB"
                                    },
                                    {
                                        "name": "DOJ"
                                    },
                                    {
                                        "name": "GENDER"
                                    },
                                    {
                                        "name": "PROF1"
                                    },
                                    {
                                        "name": "PROF2"
                                    },
                                    {
                                        "name": "SALARY"
                                    }
                                ]
                            }
                        },
                        "text/html": [
                            "<table><tr><th>PNAME</th><th>DOB</th><th>DOJ</th><th>GENDER</th><th>PROF1</th><th>PROF2</th><th>SALARY</th></tr><tr><td>ANAND</td><td>1966-04-12</td><td>1992-04-21</td><td>M</td><td>PASCAL</td><td>BASIC</td><td>3200</td></tr><tr><td>REMITHA</td><td>1970-04-19</td><td>1993-04-20</td><td>F</td><td>C</td><td>ASSEMBLY</td><td>3600</td></tr></table>"
                        ]
                    },
                    "execution_count": 70,
                    "metadata": {},
                    "output_type": "execute_result"
                }
            ],
            "source": [
                "-- 24. Who are the Programmers who celebrate their Birthday’s During the Current\n",
                "-- Month?\n",
                "SELECT *\n",
                "FROM PROGRAMMER\n",
                "WHERE MONTH(DOB) = MONTH(GETDATE())"
            ]
        },
        {
            "cell_type": "code",
            "execution_count": 71,
            "metadata": {
                "azdata_cell_guid": "e5665b65-d1a6-4c05-97c9-55eedf49395c",
                "language": "sql",
                "tags": [],
                "vscode": {
                    "languageId": "sql"
                }
            },
            "outputs": [
                {
                    "data": {
                        "text/html": [
                            "(1 row affected)"
                        ]
                    },
                    "metadata": {},
                    "output_type": "display_data"
                },
                {
                    "data": {
                        "text/html": [
                            "Total execution time: 00:00:00.021"
                        ]
                    },
                    "metadata": {},
                    "output_type": "display_data"
                },
                {
                    "data": {
                        "application/vnd.dataresource+json": {
                            "data": [
                                {
                                    "0": "7"
                                }
                            ],
                            "schema": {
                                "fields": [
                                    {
                                        "name": "NO_OF_FEMALE_PROGRAMMERS"
                                    }
                                ]
                            }
                        },
                        "text/html": [
                            "<table><tr><th>NO_OF_FEMALE_PROGRAMMERS</th></tr><tr><td>7</td></tr></table>"
                        ]
                    },
                    "execution_count": 71,
                    "metadata": {},
                    "output_type": "execute_result"
                }
            ],
            "source": [
                "-- 25. How many Female Programmers are there? \n",
                "SELECT COUNT(*) NO_OF_FEMALE_PROGRAMMERS\n",
                "FROM PROGRAMMER\n",
                "WHERE GENDER='F'"
            ]
        },
        {
            "cell_type": "code",
            "execution_count": 90,
            "metadata": {
                "azdata_cell_guid": "596bd20b-31a3-4edc-bd70-8f0b19fd6e49",
                "language": "sql",
                "tags": [],
                "vscode": {
                    "languageId": "sql"
                }
            },
            "outputs": [
                {
                    "data": {
                        "text/html": [
                            "(8 rows affected)"
                        ]
                    },
                    "metadata": {},
                    "output_type": "display_data"
                },
                {
                    "data": {
                        "text/html": [
                            "Total execution time: 00:00:00.011"
                        ]
                    },
                    "metadata": {},
                    "output_type": "display_data"
                },
                {
                    "data": {
                        "application/vnd.dataresource+json": {
                            "data": [
                                {
                                    "0": "ASSEMBLY"
                                },
                                {
                                    "0": "BASIC"
                                },
                                {
                                    "0": "C"
                                },
                                {
                                    "0": "CLIPPER"
                                },
                                {
                                    "0": "COBOL"
                                },
                                {
                                    "0": "CPP"
                                },
                                {
                                    "0": "FOXPRO"
                                },
                                {
                                    "0": "PASCAL"
                                }
                            ],
                            "schema": {
                                "fields": [
                                    {
                                        "name": "PROF1"
                                    }
                                ]
                            }
                        },
                        "text/html": [
                            "<table><tr><th>PROF1</th></tr><tr><td>ASSEMBLY</td></tr><tr><td>BASIC</td></tr><tr><td>C</td></tr><tr><td>CLIPPER</td></tr><tr><td>COBOL</td></tr><tr><td>CPP</td></tr><tr><td>FOXPRO</td></tr><tr><td>PASCAL</td></tr></table>"
                        ]
                    },
                    "execution_count": 90,
                    "metadata": {},
                    "output_type": "execute_result"
                }
            ],
            "source": [
                "-- 26. What are the Languages studied by Male Programmers. \n",
                "SELECT DISTINCT(PROF1)\n",
                "FROM PROGRAMMER P1\n",
                "    JOIN (SELECT PNAME, PROF2\n",
                "    FROM PROGRAMMER) P2\n",
                "    ON P1.PNAME=P2.PNAME"
            ]
        },
        {
            "cell_type": "code",
            "execution_count": 89,
            "metadata": {
                "azdata_cell_guid": "0d555c52-d96b-4e07-bd66-bc07bddc484c",
                "language": "sql",
                "vscode": {
                    "languageId": "sql"
                }
            },
            "outputs": [
                {
                    "data": {
                        "text/html": [
                            "(7 rows affected)"
                        ]
                    },
                    "metadata": {},
                    "output_type": "display_data"
                },
                {
                    "data": {
                        "text/html": [
                            "Total execution time: 00:00:00.006"
                        ]
                    },
                    "metadata": {},
                    "output_type": "display_data"
                },
                {
                    "data": {
                        "application/vnd.dataresource+json": {
                            "data": [
                                {
                                    "0": "ASSEMBLY"
                                },
                                {
                                    "0": "BASIC"
                                },
                                {
                                    "0": "C"
                                },
                                {
                                    "0": "CLIPPER"
                                },
                                {
                                    "0": "COBOL"
                                },
                                {
                                    "0": "DBASE"
                                },
                                {
                                    "0": "PASCAL"
                                }
                            ],
                            "schema": {
                                "fields": [
                                    {
                                        "name": "PROF1"
                                    }
                                ]
                            }
                        },
                        "text/html": [
                            "<table><tr><th>PROF1</th></tr><tr><td>ASSEMBLY</td></tr><tr><td>BASIC</td></tr><tr><td>C</td></tr><tr><td>CLIPPER</td></tr><tr><td>COBOL</td></tr><tr><td>DBASE</td></tr><tr><td>PASCAL</td></tr></table>"
                        ]
                    },
                    "execution_count": 89,
                    "metadata": {},
                    "output_type": "execute_result"
                }
            ],
            "source": [
                "SELECT PROF1 FROM PROGRAMMER WHERE GENDER='M'\n",
                "UNION \n",
                "SELECT PROF2 FROM PROGRAMMER WHERE GENDER='M'"
            ]
        },
        {
            "cell_type": "code",
            "execution_count": 93,
            "metadata": {
                "azdata_cell_guid": "66fa0c22-0581-4ade-b3a8-88acd5fe318d",
                "language": "sql",
                "tags": [],
                "vscode": {
                    "languageId": "sql"
                }
            },
            "outputs": [
                {
                    "data": {
                        "text/html": [
                            "(1 row affected)"
                        ]
                    },
                    "metadata": {},
                    "output_type": "display_data"
                },
                {
                    "data": {
                        "text/html": [
                            "Total execution time: 00:00:00.005"
                        ]
                    },
                    "metadata": {},
                    "output_type": "display_data"
                },
                {
                    "data": {
                        "application/vnd.dataresource+json": {
                            "data": [
                                {
                                    "0": "3169"
                                }
                            ],
                            "schema": {
                                "fields": [
                                    {
                                        "name": "AVG_SALARY"
                                    }
                                ]
                            }
                        },
                        "text/html": [
                            "<table><tr><th>AVG_SALARY</th></tr><tr><td>3169</td></tr></table>"
                        ]
                    },
                    "execution_count": 93,
                    "metadata": {},
                    "output_type": "execute_result"
                }
            ],
            "source": [
                "-- 27. What is the AVG Salary? \n",
                "SELECT AVG(SALARY) AS AVG_SALARY\n",
                "FROM PROGRAMMER \n"
            ]
        },
        {
            "cell_type": "code",
            "execution_count": 95,
            "metadata": {
                "azdata_cell_guid": "4f8423c8-33b2-4bc1-8994-18573ee5a5bb",
                "language": "sql",
                "vscode": {
                    "languageId": "sql"
                }
            },
            "outputs": [
                {
                    "data": {
                        "text/html": [
                            "(1 row affected)"
                        ]
                    },
                    "metadata": {},
                    "output_type": "display_data"
                },
                {
                    "data": {
                        "text/html": [
                            "Total execution time: 00:00:00.010"
                        ]
                    },
                    "metadata": {},
                    "output_type": "display_data"
                },
                {
                    "data": {
                        "application/vnd.dataresource+json": {
                            "data": [
                                {
                                    "0": "12"
                                }
                            ],
                            "schema": {
                                "fields": [
                                    {
                                        "name": "NO_OF_PEOPLE"
                                    }
                                ]
                            }
                        },
                        "text/html": [
                            "<table><tr><th>NO_OF_PEOPLE</th></tr><tr><td>12</td></tr></table>"
                        ]
                    },
                    "execution_count": 95,
                    "metadata": {},
                    "output_type": "execute_result"
                }
            ],
            "source": [
                "-- 28. How many people draw salary 2000 to 4000? \n",
                "SELECT COUNT(*) AS NO_OF_PEOPLE\n",
                "FROM PROGRAMMER\n",
                "WHERE SALARY BETWEEN 2000 AND 4000"
            ]
        },
        {
            "cell_type": "code",
            "execution_count": 97,
            "metadata": {
                "azdata_cell_guid": "fc56c161-9fb2-45f6-a5c1-37ab232e0e34",
                "language": "sql",
                "vscode": {
                    "languageId": "sql"
                }
            },
            "outputs": [
                {
                    "data": {
                        "text/html": [
                            "(5 rows affected)"
                        ]
                    },
                    "metadata": {},
                    "output_type": "display_data"
                },
                {
                    "data": {
                        "text/html": [
                            "Total execution time: 00:00:00.007"
                        ]
                    },
                    "metadata": {},
                    "output_type": "display_data"
                },
                {
                    "data": {
                        "application/vnd.dataresource+json": {
                            "data": [
                                {
                                    "0": "KAMALA",
                                    "1": "1968-10-30",
                                    "2": "1992-01-02",
                                    "3": "F",
                                    "4": "C",
                                    "5": "DBASE",
                                    "6": "2900"
                                },
                                {
                                    "0": "MARY",
                                    "1": "1970-06-24",
                                    "2": "1991-02-01",
                                    "3": "F",
                                    "4": "CPP",
                                    "5": "ORACLE",
                                    "6": "4500"
                                },
                                {
                                    "0": "QADIR",
                                    "1": "1965-08-31",
                                    "2": "1991-04-21",
                                    "3": "M",
                                    "4": "ASSEMBLY",
                                    "5": "C",
                                    "6": "3000"
                                },
                                {
                                    "0": "REMITHA",
                                    "1": "1970-04-19",
                                    "2": "1993-04-20",
                                    "3": "F",
                                    "4": "C",
                                    "5": "ASSEMBLY",
                                    "6": "3600"
                                },
                                {
                                    "0": "VIJAYA",
                                    "1": "1965-12-14",
                                    "2": "1992-05-02",
                                    "3": "F",
                                    "4": "FOXPRO",
                                    "5": "C",
                                    "6": "3500"
                                }
                            ],
                            "schema": {
                                "fields": [
                                    {
                                        "name": "PNAME"
                                    },
                                    {
                                        "name": "DOB"
                                    },
                                    {
                                        "name": "DOJ"
                                    },
                                    {
                                        "name": "GENDER"
                                    },
                                    {
                                        "name": "PROF1"
                                    },
                                    {
                                        "name": "PROF2"
                                    },
                                    {
                                        "name": "SALARY"
                                    }
                                ]
                            }
                        },
                        "text/html": [
                            "<table><tr><th>PNAME</th><th>DOB</th><th>DOJ</th><th>GENDER</th><th>PROF1</th><th>PROF2</th><th>SALARY</th></tr><tr><td>KAMALA</td><td>1968-10-30</td><td>1992-01-02</td><td>F</td><td>C</td><td>DBASE</td><td>2900</td></tr><tr><td>MARY</td><td>1970-06-24</td><td>1991-02-01</td><td>F</td><td>CPP</td><td>ORACLE</td><td>4500</td></tr><tr><td>QADIR</td><td>1965-08-31</td><td>1991-04-21</td><td>M</td><td>ASSEMBLY</td><td>C</td><td>3000</td></tr><tr><td>REMITHA</td><td>1970-04-19</td><td>1993-04-20</td><td>F</td><td>C</td><td>ASSEMBLY</td><td>3600</td></tr><tr><td>VIJAYA</td><td>1965-12-14</td><td>1992-05-02</td><td>F</td><td>FOXPRO</td><td>C</td><td>3500</td></tr></table>"
                        ]
                    },
                    "execution_count": 97,
                    "metadata": {},
                    "output_type": "execute_result"
                }
            ],
            "source": [
                "-- 29. Display the details of those who don’t know Clipper, COBOL or PASCAL. \n",
                "SELECT *\n",
                "FROM PROGRAMMER\n",
                "WHERE PROF1 NOT IN ('CLIPPER','COBOL','PASCAL') AND PROF2 NOT IN ('CLIPPER','COBOL','PASCAL')"
            ]
        },
        {
            "cell_type": "code",
            "execution_count": 108,
            "metadata": {
                "azdata_cell_guid": "0b14b461-c2ad-4fbc-b8d0-aefa441ffb6e",
                "language": "sql",
                "vscode": {
                    "languageId": "sql"
                }
            },
            "outputs": [
                {
                    "data": {
                        "text/html": [
                            "(10 rows affected)"
                        ]
                    },
                    "metadata": {},
                    "output_type": "display_data"
                },
                {
                    "data": {
                        "text/html": [
                            "Total execution time: 00:00:00.184"
                        ]
                    },
                    "metadata": {},
                    "output_type": "display_data"
                },
                {
                    "data": {
                        "application/vnd.dataresource+json": {
                            "data": [
                                {
                                    "0": "22000",
                                    "1": "ANAND"
                                },
                                {
                                    "0": "3500",
                                    "1": "JULIANA"
                                },
                                {
                                    "0": "20000",
                                    "1": "KAMALA"
                                },
                                {
                                    "0": "106200",
                                    "1": "MARY"
                                },
                                {
                                    "0": "1200",
                                    "1": "PATTRICK"
                                },
                                {
                                    "0": "6100",
                                    "1": "QADIR"
                                },
                                {
                                    "0": "39500",
                                    "1": "RAMESH"
                                },
                                {
                                    "0": "11000",
                                    "1": "REMITHA"
                                },
                                {
                                    "0": "75000",
                                    "1": "REVATHI"
                                },
                                {
                                    "0": "700",
                                    "1": "VIJAYA"
                                }
                            ],
                            "schema": {
                                "fields": [
                                    {
                                        "name": "DCOST"
                                    },
                                    {
                                        "name": "PNAME"
                                    }
                                ]
                            }
                        },
                        "text/html": [
                            "<table><tr><th>DCOST</th><th>PNAME</th></tr><tr><td>22000</td><td>ANAND</td></tr><tr><td>3500</td><td>JULIANA</td></tr><tr><td>20000</td><td>KAMALA</td></tr><tr><td>106200</td><td>MARY</td></tr><tr><td>1200</td><td>PATTRICK</td></tr><tr><td>6100</td><td>QADIR</td></tr><tr><td>39500</td><td>RAMESH</td></tr><tr><td>11000</td><td>REMITHA</td></tr><tr><td>75000</td><td>REVATHI</td></tr><tr><td>700</td><td>VIJAYA</td></tr></table>"
                        ]
                    },
                    "execution_count": 108,
                    "metadata": {},
                    "output_type": "execute_result"
                }
            ],
            "source": [
                "-- 30. Display the Cost of Package Developed By each Programmer. \n",
                "SELECT SUM(DCOST) AS DCOST, PNAME\n",
                "FROM SOFTWARE\n",
                "GROUP BY  PNAME"
            ]
        },
        {
            "cell_type": "code",
            "execution_count": 10,
            "metadata": {
                "azdata_cell_guid": "b8e450b0-8b20-400c-a875-745b73efaee4",
                "language": "sql",
                "tags": [],
                "vscode": {
                    "languageId": "sql"
                }
            },
            "outputs": [
                {
                    "data": {
                        "text/html": [
                            "(10 rows affected)"
                        ]
                    },
                    "metadata": {},
                    "output_type": "display_data"
                },
                {
                    "data": {
                        "text/html": [
                            "Total execution time: 00:00:00.008"
                        ]
                    },
                    "metadata": {},
                    "output_type": "display_data"
                },
                {
                    "data": {
                        "application/vnd.dataresource+json": {
                            "data": [
                                {
                                    "0": "MARY",
                                    "1": "111"
                                },
                                {
                                    "0": "PATTRICK",
                                    "1": "84"
                                },
                                {
                                    "0": "RAMESH",
                                    "1": "77"
                                },
                                {
                                    "0": "REMITHA",
                                    "1": "58"
                                },
                                {
                                    "0": "ANAND",
                                    "1": "52"
                                },
                                {
                                    "0": "QADIR",
                                    "1": "32"
                                },
                                {
                                    "0": "KAMALA",
                                    "1": "7"
                                },
                                {
                                    "0": "VIJAYA",
                                    "1": "6"
                                },
                                {
                                    "0": "REVATHI",
                                    "1": "2"
                                },
                                {
                                    "0": "JULIANA",
                                    "1": "0"
                                }
                            ],
                            "schema": {
                                "fields": [
                                    {
                                        "name": "PNAME"
                                    },
                                    {
                                        "name": "SOLD"
                                    }
                                ]
                            }
                        },
                        "text/html": [
                            "<table><tr><th>PNAME</th><th>SOLD</th></tr><tr><td>MARY</td><td>111</td></tr><tr><td>PATTRICK</td><td>84</td></tr><tr><td>RAMESH</td><td>77</td></tr><tr><td>REMITHA</td><td>58</td></tr><tr><td>ANAND</td><td>52</td></tr><tr><td>QADIR</td><td>32</td></tr><tr><td>KAMALA</td><td>7</td></tr><tr><td>VIJAYA</td><td>6</td></tr><tr><td>REVATHI</td><td>2</td></tr><tr><td>JULIANA</td><td>0</td></tr></table>"
                        ]
                    },
                    "execution_count": 10,
                    "metadata": {},
                    "output_type": "execute_result"
                }
            ],
            "source": [
                "-- 31. Display the sales values of the Packages Developed by the each Programmer. \n",
                "SELECT PNAME, SUM(SOLD) AS SOLD\n",
                "FROM SOFTWARE\n",
                "GROUP BY PNAME\n",
                "ORDER BY SOLD DESC"
            ]
        },
        {
            "cell_type": "code",
            "execution_count": 13,
            "metadata": {
                "azdata_cell_guid": "0c9bccbc-7b6d-4d2b-82f8-6a986028d826",
                "language": "sql",
                "vscode": {
                    "languageId": "sql"
                }
            },
            "outputs": [
                {
                    "data": {
                        "text/html": [
                            "(16 rows affected)"
                        ]
                    },
                    "metadata": {},
                    "output_type": "display_data"
                },
                {
                    "data": {
                        "text/html": [
                            "Total execution time: 00:00:00.107"
                        ]
                    },
                    "metadata": {},
                    "output_type": "display_data"
                },
                {
                    "data": {
                        "application/vnd.dataresource+json": {
                            "data": [
                                {
                                    "0": "QADIR",
                                    "1": "ASSEMBLY",
                                    "2": "750"
                                },
                                {
                                    "0": "REMITHA",
                                    "1": "ASSEMBLY",
                                    "2": "2500"
                                },
                                {
                                    "0": "ANAND",
                                    "1": "BASIC",
                                    "2": "399.95"
                                },
                                {
                                    "0": "REMITHA",
                                    "1": "C",
                                    "2": "725"
                                },
                                {
                                    "0": "VIJAYA",
                                    "1": "C",
                                    "2": "900"
                                },
                                {
                                    "0": "QADIR",
                                    "1": "C",
                                    "2": "1900"
                                },
                                {
                                    "0": "MARY",
                                    "1": "C",
                                    "2": "4500"
                                },
                                {
                                    "0": "JULIANA",
                                    "1": "COBOL",
                                    "2": "3000"
                                },
                                {
                                    "0": "MARY",
                                    "1": "CPP",
                                    "2": "300"
                                },
                                {
                                    "0": "PATTRICK",
                                    "1": "CPP",
                                    "2": "300"
                                },
                                {
                                    "0": "KAMALA",
                                    "1": "DBASE",
                                    "2": "9000"
                                },
                                {
                                    "0": "RAMESH",
                                    "1": "DBASE",
                                    "2": "13000"
                                },
                                {
                                    "0": "MARY",
                                    "1": "ORACLE",
                                    "2": "18000"
                                },
                                {
                                    "0": "RAMESH",
                                    "1": "PASCAL",
                                    "2": "599.95"
                                },
                                {
                                    "0": "REVATHI",
                                    "1": "PASCAL",
                                    "2": "1100"
                                },
                                {
                                    "0": "ANAND",
                                    "1": "PASCAL",
                                    "2": "7500"
                                }
                            ],
                            "schema": {
                                "fields": [
                                    {
                                        "name": "PNAME"
                                    },
                                    {
                                        "name": "DEVELOPIN"
                                    },
                                    {
                                        "name": "SALES_COST"
                                    }
                                ]
                            }
                        },
                        "text/html": [
                            "<table><tr><th>PNAME</th><th>DEVELOPIN</th><th>SALES_COST</th></tr><tr><td>QADIR</td><td>ASSEMBLY</td><td>750</td></tr><tr><td>REMITHA</td><td>ASSEMBLY</td><td>2500</td></tr><tr><td>ANAND</td><td>BASIC</td><td>399.95</td></tr><tr><td>REMITHA</td><td>C</td><td>725</td></tr><tr><td>VIJAYA</td><td>C</td><td>900</td></tr><tr><td>QADIR</td><td>C</td><td>1900</td></tr><tr><td>MARY</td><td>C</td><td>4500</td></tr><tr><td>JULIANA</td><td>COBOL</td><td>3000</td></tr><tr><td>MARY</td><td>CPP</td><td>300</td></tr><tr><td>PATTRICK</td><td>CPP</td><td>300</td></tr><tr><td>KAMALA</td><td>DBASE</td><td>9000</td></tr><tr><td>RAMESH</td><td>DBASE</td><td>13000</td></tr><tr><td>MARY</td><td>ORACLE</td><td>18000</td></tr><tr><td>RAMESH</td><td>PASCAL</td><td>599.95</td></tr><tr><td>REVATHI</td><td>PASCAL</td><td>1100</td></tr><tr><td>ANAND</td><td>PASCAL</td><td>7500</td></tr></table>"
                        ]
                    },
                    "execution_count": 13,
                    "metadata": {},
                    "output_type": "execute_result"
                }
            ],
            "source": [
                "-- 33. Display the sales cost of the packages Developed by each Programmer Language wise. \n",
                "SELECT PNAME, DEVELOPIN, SUM(SCOST) AS SALES_COST\n",
                "FROM SOFTWARE\n",
                "GROUP BY PNAME, DEVELOPIN\n",
                "ORDER BY DEVELOPIN, SALES_COST"
            ]
        },
        {
            "cell_type": "code",
            "execution_count": 15,
            "metadata": {
                "azdata_cell_guid": "c0da80be-7b0e-462e-bb26-965a5b27fef3",
                "language": "sql",
                "vscode": {
                    "languageId": "sql"
                }
            },
            "outputs": [
                {
                    "data": {
                        "text/html": [
                            "(8 rows affected)"
                        ]
                    },
                    "metadata": {},
                    "output_type": "display_data"
                },
                {
                    "data": {
                        "text/html": [
                            "Total execution time: 00:00:00.076"
                        ]
                    },
                    "metadata": {},
                    "output_type": "display_data"
                },
                {
                    "data": {
                        "application/vnd.dataresource+json": {
                            "data": [
                                {
                                    "0": "ASSEMBLY",
                                    "1": "4500",
                                    "2": "1625",
                                    "3": "9"
                                },
                                {
                                    "0": "BASIC",
                                    "1": "6000",
                                    "2": "399.95",
                                    "3": "43"
                                },
                                {
                                    "0": "C",
                                    "1": "7200",
                                    "2": "2006.25",
                                    "3": "25"
                                },
                                {
                                    "0": "COBOL",
                                    "1": "3500",
                                    "2": "3000",
                                    "3": "0"
                                },
                                {
                                    "0": "CPP",
                                    "1": "1200",
                                    "2": "300",
                                    "3": "84"
                                },
                                {
                                    "0": "DBASE",
                                    "1": "27500",
                                    "2": "11000",
                                    "3": "5"
                                },
                                {
                                    "0": "ORACLE",
                                    "1": "85000",
                                    "2": "18000",
                                    "3": "4"
                                },
                                {
                                    "0": "PASCAL",
                                    "1": "31833.333333333332",
                                    "2": "3066.65",
                                    "3": "28"
                                }
                            ],
                            "schema": {
                                "fields": [
                                    {
                                        "name": "DEVELOPIN"
                                    },
                                    {
                                        "name": "AVG_DCOST"
                                    },
                                    {
                                        "name": "AVG_SCOST"
                                    },
                                    {
                                        "name": "AVG_SOLD"
                                    }
                                ]
                            }
                        },
                        "text/html": [
                            "<table><tr><th>DEVELOPIN</th><th>AVG_DCOST</th><th>AVG_SCOST</th><th>AVG_SOLD</th></tr><tr><td>ASSEMBLY</td><td>4500</td><td>1625</td><td>9</td></tr><tr><td>BASIC</td><td>6000</td><td>399.95</td><td>43</td></tr><tr><td>C</td><td>7200</td><td>2006.25</td><td>25</td></tr><tr><td>COBOL</td><td>3500</td><td>3000</td><td>0</td></tr><tr><td>CPP</td><td>1200</td><td>300</td><td>84</td></tr><tr><td>DBASE</td><td>27500</td><td>11000</td><td>5</td></tr><tr><td>ORACLE</td><td>85000</td><td>18000</td><td>4</td></tr><tr><td>PASCAL</td><td>31833.333333333332</td><td>3066.65</td><td>28</td></tr></table>"
                        ]
                    },
                    "execution_count": 15,
                    "metadata": {},
                    "output_type": "execute_result"
                }
            ],
            "source": [
                "-- 34. Display each language name with AVG Development Cost, AVG Selling Cost and AVG Price per Copy. \n",
                "SELECT DEVELOPIN,AVG(DCOST) AS AVG_DCOST, AVG(SCOST) AS AVG_SCOST, AVG(SOLD) AS AVG_SOLD\n",
                "FROM SOFTWARE GROUP BY DEVELOPIN"
            ]
        },
        {
            "cell_type": "code",
            "execution_count": 1,
            "metadata": {
                "azdata_cell_guid": "bf42bd47-3cda-4467-9f14-5ac421f64d0d",
                "language": "sql",
                "tags": [],
                "vscode": {
                    "languageId": "sql"
                }
            },
            "outputs": [
                {
                    "ename": "SyntaxError",
                    "evalue": "invalid character '’' (U+2019) (1925790603.py, line 1)",
                    "output_type": "error",
                    "traceback": [
                        "\u001b[1;36m  Cell \u001b[1;32mIn[1], line 1\u001b[1;36m\u001b[0m\n\u001b[1;33m    -- 35. Display each programmer’s name, costliest and cheapest Packages Developed by him or her.\u001b[0m\n\u001b[1;37m                                  ^\u001b[0m\n\u001b[1;31mSyntaxError\u001b[0m\u001b[1;31m:\u001b[0m invalid character '’' (U+2019)\n"
                    ]
                }
            ],
            "source": [
                "-- Active: 1688823941630@@127.0.0.1@3306\n",
                "-- 35. Display each programmer’s name, costliest and cheapest Packages Developed by him or her. \n",
                "WITH CTE AS (\n",
                "    SELECT PNAME, MAX(SCOST) AS MAX_SCOST, MIN(SCOST) AS MIN_SCOST FROM SOFTWARE GROUP by PNAME\n",
                ")\n",
                "\n",
                "SELECT c_max.PNAME, costliest, cheapest FROM\n",
                "(\n",
                "    SELECT S.PNAME, TITLE AS costliest from SOFTWARE s join CTE c on s.PNAME =c.PNAME and s.SCOST=c.MAX_SCOST\n",
                ") c_max\n",
                "JOIN\n",
                "(\n",
                "    SELECT S.PNAME, TITLE AS cheapest from SOFTWARE s join CTE c on s.PNAME =c.PNAME and s.SCOST=c.MIN_SCOST\n",
                ") c_min\n",
                "on c_max.PNAME=c_min.PNAME\n"
            ]
        },
        {
            "cell_type": "code",
            "execution_count": 29,
            "metadata": {
                "azdata_cell_guid": "72debfd8-7f0d-4d03-a791-c21456736a17",
                "language": "sql",
                "vscode": {
                    "languageId": "sql"
                }
            },
            "outputs": [
                {
                    "data": {
                        "text/html": [
                            "(6 rows affected)"
                        ]
                    },
                    "metadata": {},
                    "output_type": "display_data"
                },
                {
                    "data": {
                        "text/html": [
                            "Total execution time: 00:00:00.009"
                        ]
                    },
                    "metadata": {},
                    "output_type": "display_data"
                },
                {
                    "data": {
                        "application/vnd.dataresource+json": {
                            "data": [
                                {
                                    "0": "APPLE",
                                    "1": "1",
                                    "2": "14000"
                                },
                                {
                                    "0": "BDPS",
                                    "1": "3",
                                    "2": "25333"
                                },
                                {
                                    "0": "BRILLIANT",
                                    "1": "1",
                                    "2": "11000"
                                },
                                {
                                    "0": "COIT",
                                    "1": "1",
                                    "2": "7200"
                                },
                                {
                                    "0": "PRAGATHI",
                                    "1": "3",
                                    "2": "5466"
                                },
                                {
                                    "0": "SABHARI",
                                    "1": "4",
                                    "2": "4625"
                                }
                            ],
                            "schema": {
                                "fields": [
                                    {
                                        "name": "INSTITUTE"
                                    },
                                    {
                                        "name": "NO_OF_COURSES"
                                    },
                                    {
                                        "name": "AVG_COST_PER_COURSE"
                                    }
                                ]
                            }
                        },
                        "text/html": [
                            "<table><tr><th>INSTITUTE</th><th>NO_OF_COURSES</th><th>AVG_COST_PER_COURSE</th></tr><tr><td>APPLE</td><td>1</td><td>14000</td></tr><tr><td>BDPS</td><td>3</td><td>25333</td></tr><tr><td>BRILLIANT</td><td>1</td><td>11000</td></tr><tr><td>COIT</td><td>1</td><td>7200</td></tr><tr><td>PRAGATHI</td><td>3</td><td>5466</td></tr><tr><td>SABHARI</td><td>4</td><td>4625</td></tr></table>"
                        ]
                    },
                    "execution_count": 29,
                    "metadata": {},
                    "output_type": "execute_result"
                }
            ],
            "source": [
                "-- 36. Display each institute name with number of Courses, Average Cost per Course. \n",
                "SELECT INSTITUTE, COUNT(COURSE) AS NO_OF_COURSES, AVG([COURSE FEE]) AVG_COST_PER_COURSE\n",
                "FROM STUDIES\n",
                "GROUP BY INSTITUTE"
            ]
        },
        {
            "cell_type": "code",
            "execution_count": 30,
            "metadata": {
                "azdata_cell_guid": "d65e2dcb-dd61-4344-8866-02f12cffadeb",
                "language": "sql",
                "vscode": {
                    "languageId": "sql"
                }
            },
            "outputs": [
                {
                    "data": {
                        "text/html": [
                            "(6 rows affected)"
                        ]
                    },
                    "metadata": {},
                    "output_type": "display_data"
                },
                {
                    "data": {
                        "text/html": [
                            "Total execution time: 00:00:00.020"
                        ]
                    },
                    "metadata": {},
                    "output_type": "display_data"
                },
                {
                    "data": {
                        "application/vnd.dataresource+json": {
                            "data": [
                                {
                                    "0": "APPLE",
                                    "1": "1"
                                },
                                {
                                    "0": "BDPS",
                                    "1": "3"
                                },
                                {
                                    "0": "BRILLIANT",
                                    "1": "1"
                                },
                                {
                                    "0": "COIT",
                                    "1": "1"
                                },
                                {
                                    "0": "PRAGATHI",
                                    "1": "3"
                                },
                                {
                                    "0": "SABHARI",
                                    "1": "4"
                                }
                            ],
                            "schema": {
                                "fields": [
                                    {
                                        "name": "INSTITUTE"
                                    },
                                    {
                                        "name": "NO_OF_STUDENTS"
                                    }
                                ]
                            }
                        },
                        "text/html": [
                            "<table><tr><th>INSTITUTE</th><th>NO_OF_STUDENTS</th></tr><tr><td>APPLE</td><td>1</td></tr><tr><td>BDPS</td><td>3</td></tr><tr><td>BRILLIANT</td><td>1</td></tr><tr><td>COIT</td><td>1</td></tr><tr><td>PRAGATHI</td><td>3</td></tr><tr><td>SABHARI</td><td>4</td></tr></table>"
                        ]
                    },
                    "execution_count": 30,
                    "metadata": {},
                    "output_type": "execute_result"
                }
            ],
            "source": [
                "-- 37. Display each institute Name with Number of Students. \n",
                "SELECT INSTITUTE, COUNT(*) AS NO_OF_STUDENTS\n",
                "FROM STUDIES\n",
                "GROUP BY INSTITUTE"
            ]
        },
        {
            "cell_type": "code",
            "execution_count": 33,
            "metadata": {
                "azdata_cell_guid": "32dc2581-5b7a-464b-96ac-14c1cf7d6de5",
                "language": "sql",
                "vscode": {
                    "languageId": "sql"
                }
            },
            "outputs": [
                {
                    "data": {
                        "text/html": [
                            "(13 rows affected)"
                        ]
                    },
                    "metadata": {},
                    "output_type": "display_data"
                },
                {
                    "data": {
                        "text/html": [
                            "Total execution time: 00:00:00.018"
                        ]
                    },
                    "metadata": {},
                    "output_type": "display_data"
                },
                {
                    "data": {
                        "application/vnd.dataresource+json": {
                            "data": [
                                {
                                    "0": "ANAND",
                                    "1": "M"
                                },
                                {
                                    "0": "ALTAF",
                                    "1": "M"
                                },
                                {
                                    "0": "JULIANA",
                                    "1": "F"
                                },
                                {
                                    "0": "KAMALA",
                                    "1": "F"
                                },
                                {
                                    "0": "MARY",
                                    "1": "F"
                                },
                                {
                                    "0": "NELSON",
                                    "1": "M"
                                },
                                {
                                    "0": "PATTRICK",
                                    "1": "M"
                                },
                                {
                                    "0": "QADIR",
                                    "1": "M"
                                },
                                {
                                    "0": "RAMESH",
                                    "1": "M"
                                },
                                {
                                    "0": "REBECCA",
                                    "1": "F"
                                },
                                {
                                    "0": "REMITHA",
                                    "1": "F"
                                },
                                {
                                    "0": "REVATHI",
                                    "1": "F"
                                },
                                {
                                    "0": "VIJAYA",
                                    "1": "F"
                                }
                            ],
                            "schema": {
                                "fields": [
                                    {
                                        "name": "PNAME"
                                    },
                                    {
                                        "name": "GENDER"
                                    }
                                ]
                            }
                        },
                        "text/html": [
                            "<table><tr><th>PNAME</th><th>GENDER</th></tr><tr><td>ANAND</td><td>M</td></tr><tr><td>ALTAF</td><td>M</td></tr><tr><td>JULIANA</td><td>F</td></tr><tr><td>KAMALA</td><td>F</td></tr><tr><td>MARY</td><td>F</td></tr><tr><td>NELSON</td><td>M</td></tr><tr><td>PATTRICK</td><td>M</td></tr><tr><td>QADIR</td><td>M</td></tr><tr><td>RAMESH</td><td>M</td></tr><tr><td>REBECCA</td><td>F</td></tr><tr><td>REMITHA</td><td>F</td></tr><tr><td>REVATHI</td><td>F</td></tr><tr><td>VIJAYA</td><td>F</td></tr></table>"
                        ]
                    },
                    "execution_count": 33,
                    "metadata": {},
                    "output_type": "execute_result"
                }
            ],
            "source": [
                "-- 38. Display Names of Male and Female Programmers. Gender also. \n",
                "SELECT PNAME,GENDER FROM PROGRAMMER"
            ]
        },
        {
            "cell_type": "code",
            "execution_count": 41,
            "metadata": {
                "azdata_cell_guid": "704188af-0585-461c-9324-0ee2fb4db056",
                "language": "sql",
                "vscode": {
                    "languageId": "sql"
                }
            },
            "outputs": [
                {
                    "data": {
                        "text/html": [
                            "(13 rows affected)"
                        ]
                    },
                    "metadata": {},
                    "output_type": "display_data"
                },
                {
                    "data": {
                        "text/html": [
                            "Total execution time: 00:00:00.008"
                        ]
                    },
                    "metadata": {},
                    "output_type": "display_data"
                },
                {
                    "data": {
                        "application/vnd.dataresource+json": {
                            "data": [
                                {
                                    "0": "ALTAF",
                                    "1": "NULL"
                                },
                                {
                                    "0": "ANAND",
                                    "1": "PARACHUTES, VIDEO TITLING"
                                },
                                {
                                    "0": "JULIANA",
                                    "1": "INVENTORY"
                                },
                                {
                                    "0": "KAMALA",
                                    "1": "PAYROLL PKG."
                                },
                                {
                                    "0": "MARY",
                                    "1": "README, FINANCIAL ACCT., CODE GENERATOR"
                                },
                                {
                                    "0": "NELSON",
                                    "1": "NULL"
                                },
                                {
                                    "0": "PATTRICK",
                                    "1": "README"
                                },
                                {
                                    "0": "QADIR",
                                    "1": "BOMBS AWAY, VACCINES"
                                },
                                {
                                    "0": "RAMESH",
                                    "1": "HOTEL MGMT., DEAD LEE"
                                },
                                {
                                    "0": "REBECCA",
                                    "1": "NULL"
                                },
                                {
                                    "0": "REMITHA",
                                    "1": "PC UTILITIES, TSR HELP PKG."
                                },
                                {
                                    "0": "REVATHI",
                                    "1": "HOSPITAL MGMT."
                                },
                                {
                                    "0": "VIJAYA",
                                    "1": "TSR EDITOR"
                                }
                            ],
                            "schema": {
                                "fields": [
                                    {
                                        "name": "PNAME"
                                    },
                                    {
                                        "name": "Packages"
                                    }
                                ]
                            }
                        },
                        "text/html": [
                            "<table><tr><th>PNAME</th><th>Packages</th></tr><tr><td>ALTAF</td><td>NULL</td></tr><tr><td>ANAND</td><td>PARACHUTES, VIDEO TITLING</td></tr><tr><td>JULIANA</td><td>INVENTORY</td></tr><tr><td>KAMALA</td><td>PAYROLL PKG.</td></tr><tr><td>MARY</td><td>README, FINANCIAL ACCT., CODE GENERATOR</td></tr><tr><td>NELSON</td><td>NULL</td></tr><tr><td>PATTRICK</td><td>README</td></tr><tr><td>QADIR</td><td>BOMBS AWAY, VACCINES</td></tr><tr><td>RAMESH</td><td>HOTEL MGMT., DEAD LEE</td></tr><tr><td>REBECCA</td><td>NULL</td></tr><tr><td>REMITHA</td><td>PC UTILITIES, TSR HELP PKG.</td></tr><tr><td>REVATHI</td><td>HOSPITAL MGMT.</td></tr><tr><td>VIJAYA</td><td>TSR EDITOR</td></tr></table>"
                        ]
                    },
                    "execution_count": 41,
                    "metadata": {},
                    "output_type": "execute_result"
                }
            ],
            "source": [
                "-- 39. Display the Name of Programmers and Their Packages. \n",
                "SELECT P.PNAME, STRING_AGG (S.TITLE, ', ') as Packages\n",
                "FROM PROGRAMMER P LEFT JOIN SOFTWARE S ON P.PNAME=S.PNAME GROUP BY P.PNAME"
            ]
        },
        {
            "cell_type": "code",
            "execution_count": 47,
            "metadata": {
                "azdata_cell_guid": "69ae9f7d-e2b0-46d1-b8d4-706ba8fe3585",
                "language": "sql",
                "vscode": {
                    "languageId": "sql"
                }
            },
            "outputs": [
                {
                    "data": {
                        "text/html": [
                            "(6 rows affected)"
                        ]
                    },
                    "metadata": {},
                    "output_type": "display_data"
                },
                {
                    "data": {
                        "text/html": [
                            "Total execution time: 00:00:00.008"
                        ]
                    },
                    "metadata": {},
                    "output_type": "display_data"
                },
                {
                    "data": {
                        "application/vnd.dataresource+json": {
                            "data": [
                                {
                                    "0": "ASSEMBLY",
                                    "1": "2"
                                },
                                {
                                    "0": "BASIC",
                                    "1": "1"
                                },
                                {
                                    "0": "COBOL",
                                    "1": "1"
                                },
                                {
                                    "0": "DBASE",
                                    "1": "2"
                                },
                                {
                                    "0": "ORACLE",
                                    "1": "1"
                                },
                                {
                                    "0": "PASCAL",
                                    "1": "3"
                                }
                            ],
                            "schema": {
                                "fields": [
                                    {
                                        "name": "DEVELOPIN"
                                    },
                                    {
                                        "name": "Number of Packages"
                                    }
                                ]
                            }
                        },
                        "text/html": [
                            "<table><tr><th>DEVELOPIN</th><th>Number of Packages</th></tr><tr><td>ASSEMBLY</td><td>2</td></tr><tr><td>BASIC</td><td>1</td></tr><tr><td>COBOL</td><td>1</td></tr><tr><td>DBASE</td><td>2</td></tr><tr><td>ORACLE</td><td>1</td></tr><tr><td>PASCAL</td><td>3</td></tr></table>"
                        ]
                    },
                    "execution_count": 47,
                    "metadata": {},
                    "output_type": "execute_result"
                }
            ],
            "source": [
                "-- 40. Display the Number of Packages in Each Language Except C and C++. \n",
                "SELECT DEVELOPIN,COUNT(TITLE) AS \"Number of Packages\"\n",
                "FROM (SELECT *\n",
                "    FROM SOFTWARE\n",
                "    WHERE DEVELOPIN NOT IN ('C','C++','CPP')) A\n",
                "GROUP BY DEVELOPIN"
            ]
        },
        {
            "cell_type": "code",
            "execution_count": 49,
            "metadata": {
                "azdata_cell_guid": "cf2f6baf-2d34-4c81-bd52-3eaebd102028",
                "language": "sql",
                "vscode": {
                    "languageId": "sql"
                }
            },
            "outputs": [
                {
                    "data": {
                        "text/html": [
                            "(1 row affected)"
                        ]
                    },
                    "metadata": {},
                    "output_type": "display_data"
                },
                {
                    "data": {
                        "text/html": [
                            "Total execution time: 00:00:00.007"
                        ]
                    },
                    "metadata": {},
                    "output_type": "display_data"
                },
                {
                    "data": {
                        "application/vnd.dataresource+json": {
                            "data": [
                                {
                                    "0": "C",
                                    "1": "1"
                                }
                            ],
                            "schema": {
                                "fields": [
                                    {
                                        "name": "DEVELOPIN"
                                    },
                                    {
                                        "name": "(No column name)"
                                    }
                                ]
                            }
                        },
                        "text/html": [
                            "<table><tr><th>DEVELOPIN</th><th>(No column name)</th></tr><tr><td>C</td><td>1</td></tr></table>"
                        ]
                    },
                    "execution_count": 49,
                    "metadata": {},
                    "output_type": "execute_result"
                }
            ],
            "source": [
                "-- 41. Display the Number of Packages in Each Language for which Development Cost is\n",
                "-- less than 1000.\n",
                "SELECT DEVELOPIN,COUNT(TITLE)\n",
                "FROM (SELECT *\n",
                "    FROM SOFTWARE\n",
                "    WHERE DCOST<1000) A\n",
                "GROUP BY DEVELOPIN"
            ]
        },
        {
            "cell_type": "code",
            "execution_count": 53,
            "metadata": {
                "azdata_cell_guid": "75dfd94c-4ffd-496d-9939-f6448c5ea423",
                "language": "sql",
                "tags": [],
                "vscode": {
                    "languageId": "sql"
                }
            },
            "outputs": [
                {
                    "data": {
                        "text/html": [
                            "(15 rows affected)"
                        ]
                    },
                    "metadata": {},
                    "output_type": "display_data"
                },
                {
                    "data": {
                        "text/html": [
                            "Total execution time: 00:00:00.011"
                        ]
                    },
                    "metadata": {},
                    "output_type": "display_data"
                },
                {
                    "data": {
                        "application/vnd.dataresource+json": {
                            "data": [
                                {
                                    "0": "BOMBS AWAY",
                                    "1": "2250"
                                },
                                {
                                    "0": "CODE GENERATOR",
                                    "1": "15500"
                                },
                                {
                                    "0": "DEAD LEE",
                                    "1": "3900.05"
                                },
                                {
                                    "0": "FINANCIAL ACCT.",
                                    "1": "67000"
                                },
                                {
                                    "0": "HOSPITAL MGMT.",
                                    "1": "73900"
                                },
                                {
                                    "0": "HOTEL MGMT.",
                                    "1": "22000"
                                },
                                {
                                    "0": "INVENTORY",
                                    "1": "500"
                                },
                                {
                                    "0": "PARACHUTES",
                                    "1": "5600.05"
                                },
                                {
                                    "0": "PAYROLL PKG.",
                                    "1": "11000"
                                },
                                {
                                    "0": "PC UTILITIES",
                                    "1": "4275"
                                },
                                {
                                    "0": "README",
                                    "1": "900"
                                },
                                {
                                    "0": "TSR EDITOR",
                                    "1": "200"
                                },
                                {
                                    "0": "TSR HELP PKG.",
                                    "1": "3500"
                                },
                                {
                                    "0": "VACCINES",
                                    "1": "1200"
                                },
                                {
                                    "0": "VIDEO TITLING",
                                    "1": "8500"
                                }
                            ],
                            "schema": {
                                "fields": [
                                    {
                                        "name": "TITLE"
                                    },
                                    {
                                        "name": "AVG Difference between SCOST, DCOST"
                                    }
                                ]
                            }
                        },
                        "text/html": [
                            "<table><tr><th>TITLE</th><th>AVG Difference between SCOST, DCOST</th></tr><tr><td>BOMBS AWAY</td><td>2250</td></tr><tr><td>CODE GENERATOR</td><td>15500</td></tr><tr><td>DEAD LEE</td><td>3900.05</td></tr><tr><td>FINANCIAL ACCT.</td><td>67000</td></tr><tr><td>HOSPITAL MGMT.</td><td>73900</td></tr><tr><td>HOTEL MGMT.</td><td>22000</td></tr><tr><td>INVENTORY</td><td>500</td></tr><tr><td>PARACHUTES</td><td>5600.05</td></tr><tr><td>PAYROLL PKG.</td><td>11000</td></tr><tr><td>PC UTILITIES</td><td>4275</td></tr><tr><td>README</td><td>900</td></tr><tr><td>TSR EDITOR</td><td>200</td></tr><tr><td>TSR HELP PKG.</td><td>3500</td></tr><tr><td>VACCINES</td><td>1200</td></tr><tr><td>VIDEO TITLING</td><td>8500</td></tr></table>"
                        ]
                    },
                    "execution_count": 53,
                    "metadata": {},
                    "output_type": "execute_result"
                }
            ],
            "source": [
                "-- 42. Display AVG Difference between SCOST, DCOST for Each Package. \n",
                "SELECT TITLE,AVG(ABS(SCOST-DCOST)) AS \"AVG Difference between SCOST, DCOST\" FROM SOFTWARE GROUP BY TITLE"
            ]
        },
        {
            "cell_type": "code",
            "execution_count": 62,
            "metadata": {
                "azdata_cell_guid": "89f4fb4f-80e6-4a77-840f-e6c92464fce7",
                "language": "sql",
                "vscode": {
                    "languageId": "sql"
                }
            },
            "outputs": [
                {
                    "data": {
                        "text/html": [
                            "(9 rows affected)"
                        ]
                    },
                    "metadata": {},
                    "output_type": "display_data"
                },
                {
                    "data": {
                        "text/html": [
                            "Total execution time: 00:00:00.074"
                        ]
                    },
                    "metadata": {},
                    "output_type": "display_data"
                },
                {
                    "data": {
                        "application/vnd.dataresource+json": {
                            "data": [
                                {
                                    "0": "ANAND",
                                    "1": "7899.95",
                                    "2": "22000",
                                    "3": "14100.05"
                                },
                                {
                                    "0": "JULIANA",
                                    "1": "3000",
                                    "2": "3500",
                                    "3": "500"
                                },
                                {
                                    "0": "KAMALA",
                                    "1": "9000",
                                    "2": "20000",
                                    "3": "11000"
                                },
                                {
                                    "0": "MARY",
                                    "1": "22800",
                                    "2": "106200",
                                    "3": "83400"
                                },
                                {
                                    "0": "PATTRICK",
                                    "1": "300",
                                    "2": "1200",
                                    "3": "900"
                                },
                                {
                                    "0": "QADIR",
                                    "1": "2650",
                                    "2": "6100",
                                    "3": "3450"
                                },
                                {
                                    "0": "RAMESH",
                                    "1": "13599.95",
                                    "2": "39500",
                                    "3": "25900.05"
                                },
                                {
                                    "0": "REMITHA",
                                    "1": "3225",
                                    "2": "11000",
                                    "3": "7775"
                                },
                                {
                                    "0": "REVATHI",
                                    "1": "1100",
                                    "2": "75000",
                                    "3": "73900"
                                }
                            ],
                            "schema": {
                                "fields": [
                                    {
                                        "name": "PNAME"
                                    },
                                    {
                                        "name": "SCOST"
                                    },
                                    {
                                        "name": "DCOST"
                                    },
                                    {
                                        "name": "AMOUNT_TO_BE_RECOVERED"
                                    }
                                ]
                            }
                        },
                        "text/html": [
                            "<table><tr><th>PNAME</th><th>SCOST</th><th>DCOST</th><th>AMOUNT_TO_BE_RECOVERED</th></tr><tr><td>ANAND</td><td>7899.95</td><td>22000</td><td>14100.05</td></tr><tr><td>JULIANA</td><td>3000</td><td>3500</td><td>500</td></tr><tr><td>KAMALA</td><td>9000</td><td>20000</td><td>11000</td></tr><tr><td>MARY</td><td>22800</td><td>106200</td><td>83400</td></tr><tr><td>PATTRICK</td><td>300</td><td>1200</td><td>900</td></tr><tr><td>QADIR</td><td>2650</td><td>6100</td><td>3450</td></tr><tr><td>RAMESH</td><td>13599.95</td><td>39500</td><td>25900.05</td></tr><tr><td>REMITHA</td><td>3225</td><td>11000</td><td>7775</td></tr><tr><td>REVATHI</td><td>1100</td><td>75000</td><td>73900</td></tr></table>"
                        ]
                    },
                    "execution_count": 62,
                    "metadata": {},
                    "output_type": "execute_result"
                }
            ],
            "source": [
                "-- 43. Display the total SCOST, DCOST and amount to Be Recovered for each \n",
                "-- Programmer for Those Whose Cost has not yet been Recovered.\n",
                "SELECT PNAME, SUM(SCOST) AS SCOST, SUM(DCOST) AS DCOST, ABS(SUM(SCOST)-SUM(DCOST)) AS AMOUNT_TO_BE_RECOVERED\n",
                "FROM SOFTWARE\n",
                "GROUP BY PNAME\n",
                "HAVING (SUM(SCOST)-SUM(DCOST))<0"
            ]
        },
        {
            "cell_type": "code",
            "execution_count": 64,
            "metadata": {
                "azdata_cell_guid": "d5118315-c6f7-449d-a62f-8f76fdcc3617",
                "language": "sql",
                "vscode": {
                    "languageId": "sql"
                }
            },
            "outputs": [
                {
                    "data": {
                        "text/html": [
                            "(1 row affected)"
                        ]
                    },
                    "metadata": {},
                    "output_type": "display_data"
                },
                {
                    "data": {
                        "text/html": [
                            "Total execution time: 00:00:00.020"
                        ]
                    },
                    "metadata": {},
                    "output_type": "display_data"
                },
                {
                    "data": {
                        "application/vnd.dataresource+json": {
                            "data": [
                                {
                                    "0": "4500",
                                    "1": "2500",
                                    "2": "3169"
                                }
                            ],
                            "schema": {
                                "fields": [
                                    {
                                        "name": "MAX_SAL"
                                    },
                                    {
                                        "name": "MIN_SAL"
                                    },
                                    {
                                        "name": "AVG_SAL"
                                    }
                                ]
                            }
                        },
                        "text/html": [
                            "<table><tr><th>MAX_SAL</th><th>MIN_SAL</th><th>AVG_SAL</th></tr><tr><td>4500</td><td>2500</td><td>3169</td></tr></table>"
                        ]
                    },
                    "execution_count": 64,
                    "metadata": {},
                    "output_type": "execute_result"
                }
            ],
            "source": [
                "-- 44. Display Highest, Lowest and Average Salaries for those earning more than 2000. \n",
                "SELECT MAX(SALARY) AS MAX_SAL, MIN(SALARY) AS MIN_SAL, AVG(SALARY) AS AVG_SAL\n",
                "FROM PROGRAMMER\n",
                "WHERE SALARY>2000"
            ]
        },
        {
            "cell_type": "code",
            "execution_count": 72,
            "metadata": {
                "azdata_cell_guid": "1b4ef875-eb28-4fc5-807a-2f8a0d36ee8b",
                "language": "sql",
                "vscode": {
                    "languageId": "sql"
                }
            },
            "outputs": [
                {
                    "data": {
                        "text/html": [
                            "(1 row affected)"
                        ]
                    },
                    "metadata": {},
                    "output_type": "display_data"
                },
                {
                    "data": {
                        "text/html": [
                            "Total execution time: 00:00:00.024"
                        ]
                    },
                    "metadata": {},
                    "output_type": "display_data"
                },
                {
                    "data": {
                        "application/vnd.dataresource+json": {
                            "data": [
                                {
                                    "0": "REMITHA"
                                }
                            ],
                            "schema": {
                                "fields": [
                                    {
                                        "name": "PNAME"
                                    }
                                ]
                            }
                        },
                        "text/html": [
                            "<table><tr><th>PNAME</th></tr><tr><td>REMITHA</td></tr></table>"
                        ]
                    },
                    "execution_count": 72,
                    "metadata": {},
                    "output_type": "execute_result"
                }
            ],
            "source": [
                "-- 45. Who is the Highest Paid C Programmers?\n",
                "SELECT TOP 1 PNAME\n",
                "FROM PROGRAMMER\n",
                "WHERE 'C' IN (PROF1,PROF2)\n",
                "ORDER BY SALARY  DESC"
            ]
        },
        {
            "cell_type": "code",
            "execution_count": 77,
            "metadata": {
                "azdata_cell_guid": "5518d0c7-74aa-47d1-acc9-06e343d5b5c9",
                "language": "sql",
                "vscode": {
                    "languageId": "sql"
                }
            },
            "outputs": [
                {
                    "data": {
                        "text/html": [
                            "(1 row affected)"
                        ]
                    },
                    "metadata": {},
                    "output_type": "display_data"
                },
                {
                    "data": {
                        "text/html": [
                            "Total execution time: 00:00:00.006"
                        ]
                    },
                    "metadata": {},
                    "output_type": "display_data"
                },
                {
                    "data": {
                        "application/vnd.dataresource+json": {
                            "data": [
                                {
                                    "0": "JULIANA"
                                }
                            ],
                            "schema": {
                                "fields": [
                                    {
                                        "name": "PNAME"
                                    }
                                ]
                            }
                        },
                        "text/html": [
                            "<table><tr><th>PNAME</th></tr><tr><td>JULIANA</td></tr></table>"
                        ]
                    },
                    "execution_count": 77,
                    "metadata": {},
                    "output_type": "execute_result"
                }
            ],
            "source": [
                "-- 46. Who is the Highest Paid Female COBOL Programmer? \n",
                "SELECT TOP 1 \n",
                "    PNAME\n",
                "FROM PROGRAMMER\n",
                "WHERE 'COBOL' IN (PROF1,PROF2) AND GENDER='F'\n",
                "ORDER BY SALARY DESC"
            ]
        },
        {
            "cell_type": "code",
            "execution_count": 108,
            "metadata": {
                "azdata_cell_guid": "a416342d-d3ae-49ae-93ff-6c41f8e1d721",
                "language": "sql",
                "tags": [],
                "vscode": {
                    "languageId": "sql"
                }
            },
            "outputs": [
                {
                    "data": {
                        "text/html": [
                            "(11 rows affected)"
                        ]
                    },
                    "metadata": {},
                    "output_type": "display_data"
                },
                {
                    "data": {
                        "text/html": [
                            "Total execution time: 00:00:00.009"
                        ]
                    },
                    "metadata": {},
                    "output_type": "display_data"
                },
                {
                    "data": {
                        "application/vnd.dataresource+json": {
                            "data": [
                                {
                                    "0": "ASSEMBLY",
                                    "1": "REMITHA",
                                    "2": "3600"
                                },
                                {
                                    "0": "BASIC",
                                    "1": "REVATHI",
                                    "2": "3700"
                                },
                                {
                                    "0": "C",
                                    "1": "REMITHA",
                                    "2": "3600"
                                },
                                {
                                    "0": "CLIPPER",
                                    "1": "ALTAF",
                                    "2": "2800"
                                },
                                {
                                    "0": "CLIPPER",
                                    "1": "PATTRICK",
                                    "2": "2800"
                                },
                                {
                                    "0": "COBOL",
                                    "1": "JULIANA",
                                    "2": "3000"
                                },
                                {
                                    "0": "CPP",
                                    "1": "MARY",
                                    "2": "4500"
                                },
                                {
                                    "0": "DBASE",
                                    "1": "RAMESH",
                                    "2": "3200"
                                },
                                {
                                    "0": "FOXPRO",
                                    "1": "VIJAYA",
                                    "2": "3500"
                                },
                                {
                                    "0": "ORACLE",
                                    "1": "MARY",
                                    "2": "4500"
                                },
                                {
                                    "0": "PASCAL",
                                    "1": "REVATHI",
                                    "2": "3700"
                                }
                            ],
                            "schema": {
                                "fields": [
                                    {
                                        "name": "PROF1"
                                    },
                                    {
                                        "name": "PNAME"
                                    },
                                    {
                                        "name": "SALARY"
                                    }
                                ]
                            }
                        },
                        "text/html": [
                            "<table><tr><th>PROF1</th><th>PNAME</th><th>SALARY</th></tr><tr><td>ASSEMBLY</td><td>REMITHA</td><td>3600</td></tr><tr><td>BASIC</td><td>REVATHI</td><td>3700</td></tr><tr><td>C</td><td>REMITHA</td><td>3600</td></tr><tr><td>CLIPPER</td><td>ALTAF</td><td>2800</td></tr><tr><td>CLIPPER</td><td>PATTRICK</td><td>2800</td></tr><tr><td>COBOL</td><td>JULIANA</td><td>3000</td></tr><tr><td>CPP</td><td>MARY</td><td>4500</td></tr><tr><td>DBASE</td><td>RAMESH</td><td>3200</td></tr><tr><td>FOXPRO</td><td>VIJAYA</td><td>3500</td></tr><tr><td>ORACLE</td><td>MARY</td><td>4500</td></tr><tr><td>PASCAL</td><td>REVATHI</td><td>3700</td></tr></table>"
                        ]
                    },
                    "execution_count": 108,
                    "metadata": {},
                    "output_type": "execute_result"
                }
            ],
            "source": [
                "-- 47. Display the names of the highest paid programmers for each Language. \n",
                "SELECT PROF1, PNAME, SALARY\n",
                "FROM (SELECT PROF1, PNAME, SALARY, DENSE_RANK() OVER(PARTITION BY PROF1 ORDER BY SALARY DESC) AS RANK\n",
                "    FROM (SELECT PNAME, PROF1, SALARY\n",
                "            FROM PROGRAMMER\n",
                "            GROUP BY PROF1,PNAME,SALARY\n",
                "        UNION ALL\n",
                "            SELECT PNAME, PROF2, SALARY\n",
                "            FROM PROGRAMMER\n",
                "            GROUP BY PROF2,PNAME,SALARY) _\n",
                "    GROUP BY PROF1,PNAME,SALARY) B\n",
                "WHERE RANK=1"
            ]
        },
        {
            "cell_type": "code",
            "execution_count": 114,
            "metadata": {
                "azdata_cell_guid": "7b82e665-4086-4177-b29d-1d6f7b997db7",
                "language": "sql",
                "vscode": {
                    "languageId": "sql"
                }
            },
            "outputs": [
                {
                    "data": {
                        "text/html": [
                            "(1 row affected)"
                        ]
                    },
                    "metadata": {},
                    "output_type": "display_data"
                },
                {
                    "data": {
                        "text/html": [
                            "Total execution time: 00:00:00.007"
                        ]
                    },
                    "metadata": {},
                    "output_type": "display_data"
                },
                {
                    "data": {
                        "application/vnd.dataresource+json": {
                            "data": [
                                {
                                    "0": "REMITHA"
                                }
                            ],
                            "schema": {
                                "fields": [
                                    {
                                        "name": "PNAME"
                                    }
                                ]
                            }
                        },
                        "text/html": [
                            "<table><tr><th>PNAME</th></tr><tr><td>REMITHA</td></tr></table>"
                        ]
                    },
                    "execution_count": 114,
                    "metadata": {},
                    "output_type": "execute_result"
                }
            ],
            "source": [
                "-- 48. Who is the least experienced Programmer. \n",
                "SELECT PNAME FROM PROGRAMMER WHERE DOJ=(SELECT MAX(DOJ) FROM PROGRAMMER)"
            ]
        },
        {
            "cell_type": "code",
            "execution_count": 17,
            "metadata": {
                "azdata_cell_guid": "d6924a67-5f84-44aa-a408-43c527439736",
                "language": "sql",
                "tags": [],
                "vscode": {
                    "languageId": "sql"
                }
            },
            "outputs": [
                {
                    "data": {
                        "text/html": [
                            "(1 row affected)"
                        ]
                    },
                    "metadata": {},
                    "output_type": "display_data"
                },
                {
                    "data": {
                        "text/html": [
                            "Total execution time: 00:00:00.008"
                        ]
                    },
                    "metadata": {},
                    "output_type": "display_data"
                },
                {
                    "data": {
                        "application/vnd.dataresource+json": {
                            "data": [
                                {
                                    "0": "PATTRICK"
                                }
                            ],
                            "schema": {
                                "fields": [
                                    {
                                        "name": "PNAME"
                                    }
                                ]
                            }
                        },
                        "text/html": [
                            "<table><tr><th>PNAME</th></tr><tr><td>PATTRICK</td></tr></table>"
                        ]
                    },
                    "execution_count": 17,
                    "metadata": {},
                    "output_type": "execute_result"
                }
            ],
            "source": [
                "-- 49. Who is the most experienced male programmer knowing PASCAL.\n",
                "\n",
                "SELECT PNAME\n",
                "FROM PROGRAMMER\n",
                "WHERE 'PASCAL' IN (PROF1,PROF2) AND GENDER='M' AND DOJ=(SELECT MIN(DOJ)\n",
                "    FROM PROGRAMMER\n",
                "    WHERE 'PASCAL' IN (PROF1,PROF2) AND GENDER='M')"
            ]
        },
        {
            "cell_type": "code",
            "execution_count": 21,
            "metadata": {
                "azdata_cell_guid": "7d147ccb-979d-4b05-b9c0-08832e794bf3",
                "language": "sql",
                "vscode": {
                    "languageId": "sql"
                }
            },
            "outputs": [
                {
                    "data": {
                        "text/html": [
                            "(3 rows affected)"
                        ]
                    },
                    "metadata": {},
                    "output_type": "display_data"
                },
                {
                    "data": {
                        "text/html": [
                            "Total execution time: 00:00:00.007"
                        ]
                    },
                    "metadata": {},
                    "output_type": "display_data"
                },
                {
                    "data": {
                        "application/vnd.dataresource+json": {
                            "data": [
                                {
                                    "0": "CPP"
                                },
                                {
                                    "0": "FOXPRO"
                                },
                                {
                                    "0": "ORACLE"
                                }
                            ],
                            "schema": {
                                "fields": [
                                    {
                                        "name": "PROF1"
                                    }
                                ]
                            }
                        },
                        "text/html": [
                            "<table><tr><th>PROF1</th></tr><tr><td>CPP</td></tr><tr><td>FOXPRO</td></tr><tr><td>ORACLE</td></tr></table>"
                        ]
                    },
                    "execution_count": 21,
                    "metadata": {},
                    "output_type": "execute_result"
                }
            ],
            "source": [
                "-- 50. Which Language is known by only one Programmer? \n",
                "SELECT PROF1 FROM (SELECT PROF1 FROM PROGRAMMER\n",
                "UNION ALL\n",
                "SELECT PROF2 FROM PROGRAMMER) S\n",
                "GROUP BY PROF1\n",
                "HAVING COUNT(*)=1\n",
                "\n"
            ]
        },
        {
            "cell_type": "code",
            "execution_count": 25,
            "metadata": {
                "azdata_cell_guid": "102b1fc1-45f8-4caa-80bd-5cd17a3caf1c",
                "language": "sql",
                "vscode": {
                    "languageId": "sql"
                }
            },
            "outputs": [
                {
                    "data": {
                        "text/html": [
                            "(2 rows affected)"
                        ]
                    },
                    "metadata": {},
                    "output_type": "display_data"
                },
                {
                    "data": {
                        "text/html": [
                            "Total execution time: 00:00:00.019"
                        ]
                    },
                    "metadata": {},
                    "output_type": "display_data"
                },
                {
                    "data": {
                        "application/vnd.dataresource+json": {
                            "data": [
                                {
                                    "0": "MARY"
                                },
                                {
                                    "0": "VIJAYA"
                                }
                            ],
                            "schema": {
                                "fields": [
                                    {
                                        "name": "PNAME"
                                    }
                                ]
                            }
                        },
                        "text/html": [
                            "<table><tr><th>PNAME</th></tr><tr><td>MARY</td></tr><tr><td>VIJAYA</td></tr></table>"
                        ]
                    },
                    "execution_count": 25,
                    "metadata": {},
                    "output_type": "execute_result"
                }
            ],
            "source": [
                "-- 51. Who is the Above Programmer Referred in 50? \n",
                "with ct1 as\n",
                "(\n",
                "SELECT PROF1 FROM (SELECT PROF1 FROM PROGRAMMER\n",
                "UNION ALL\n",
                "SELECT PROF2 FROM PROGRAMMER) S\n",
                "GROUP BY PROF1\n",
                "HAVING COUNT(*)=1\n",
                ")\n",
                "\n",
                "SELECT PNAME FROM PROGRAMMER WHERE PROF1 IN (select * from ct1)\n",
                "OR PROF2 IN (select * from ct1)"
            ]
        },
        {
            "cell_type": "code",
            "execution_count": 29,
            "metadata": {
                "azdata_cell_guid": "90a73ed0-10d5-4157-b3d5-10ea5fb6f228",
                "language": "sql",
                "vscode": {
                    "languageId": "sql"
                }
            },
            "outputs": [
                {
                    "data": {
                        "text/html": [
                            "(1 row affected)"
                        ]
                    },
                    "metadata": {},
                    "output_type": "display_data"
                },
                {
                    "data": {
                        "text/html": [
                            "Total execution time: 00:00:00.007"
                        ]
                    },
                    "metadata": {},
                    "output_type": "display_data"
                },
                {
                    "data": {
                        "application/vnd.dataresource+json": {
                            "data": [
                                {
                                    "0": "NELSON"
                                }
                            ],
                            "schema": {
                                "fields": [
                                    {
                                        "name": "PNAME"
                                    }
                                ]
                            }
                        },
                        "text/html": [
                            "<table><tr><th>PNAME</th></tr><tr><td>NELSON</td></tr></table>"
                        ]
                    },
                    "execution_count": 29,
                    "metadata": {},
                    "output_type": "execute_result"
                }
            ],
            "source": [
                "-- 52. Who is the Youngest Programmer knowing DBASE? \n",
                "SELECT PNAME FROM PROGRAMMER WHERE 'DBASE' IN (PROF1,PROF2) AND DOB=(SELECT MAX(DOB) FROM PROGRAMMER WHERE 'DBASE' IN (PROF1,PROF2))"
            ]
        },
        {
            "cell_type": "code",
            "execution_count": 32,
            "metadata": {
                "azdata_cell_guid": "a79166ee-f670-4230-9cab-99a5f4406b2f",
                "language": "sql",
                "vscode": {
                    "languageId": "sql"
                }
            },
            "outputs": [
                {
                    "data": {
                        "text/html": [
                            "(1 row affected)"
                        ]
                    },
                    "metadata": {},
                    "output_type": "display_data"
                },
                {
                    "data": {
                        "text/html": [
                            "Total execution time: 00:00:00.006"
                        ]
                    },
                    "metadata": {},
                    "output_type": "display_data"
                },
                {
                    "data": {
                        "application/vnd.dataresource+json": {
                            "data": [
                                {
                                    "0": "REVATHI"
                                }
                            ],
                            "schema": {
                                "fields": [
                                    {
                                        "name": "PNAME"
                                    }
                                ]
                            }
                        },
                        "text/html": [
                            "<table><tr><th>PNAME</th></tr><tr><td>REVATHI</td></tr></table>"
                        ]
                    },
                    "execution_count": 32,
                    "metadata": {},
                    "output_type": "execute_result"
                }
            ],
            "source": [
                "-- 53. Which Female Programmer earning more than 3000 does not know C, C++, ORACLE or DBASE? \n",
                "SELECT PNAME\n",
                "FROM PROGRAMMER\n",
                "WHERE GENDER='F' AND SALARY>3000 AND PROF1 NOT IN ('C','C++','ORACLE','DBASE') AND PROF2 NOT IN ('C','C++','ORACLE','DBASE')"
            ]
        },
        {
            "cell_type": "code",
            "execution_count": 41,
            "metadata": {
                "azdata_cell_guid": "11c2f0e7-846d-454e-9237-05b831016e3c",
                "language": "sql",
                "vscode": {
                    "languageId": "sql"
                }
            },
            "outputs": [
                {
                    "data": {
                        "text/html": [
                            "(1 row affected)"
                        ]
                    },
                    "metadata": {},
                    "output_type": "display_data"
                },
                {
                    "data": {
                        "text/html": [
                            "Total execution time: 00:00:00.009"
                        ]
                    },
                    "metadata": {},
                    "output_type": "display_data"
                },
                {
                    "data": {
                        "application/vnd.dataresource+json": {
                            "data": [
                                {
                                    "0": "APPLE"
                                }
                            ],
                            "schema": {
                                "fields": [
                                    {
                                        "name": "INSTITUTE"
                                    }
                                ]
                            }
                        },
                        "text/html": [
                            "<table><tr><th>INSTITUTE</th></tr><tr><td>APPLE</td></tr></table>"
                        ]
                    },
                    "execution_count": 41,
                    "metadata": {},
                    "output_type": "execute_result"
                }
            ],
            "source": [
                "-- should not use top 1 here, please suggest different query\n",
                "-- 54. Which Institute has most number of Students? \n",
                "SELECT TOP 1 INSTITUTE FROM STUDIES GROUP BY INSTITUTE ORDER BY COUNT(*)"
            ]
        },
        {
            "cell_type": "code",
            "execution_count": 1,
            "metadata": {
                "azdata_cell_guid": "0bee599f-bff8-4b67-ae4d-92d3c1200f78",
                "language": "sql",
                "vscode": {
                    "languageId": "sql"
                }
            },
            "outputs": [
                {
                    "data": {
                        "text/html": [
                            "(1 row affected)"
                        ]
                    },
                    "metadata": {},
                    "output_type": "display_data"
                },
                {
                    "data": {
                        "text/html": [
                            "Total execution time: 00:00:00.072"
                        ]
                    },
                    "metadata": {},
                    "output_type": "display_data"
                },
                {
                    "data": {
                        "application/vnd.dataresource+json": {
                            "data": [
                                {
                                    "0": "DCA"
                                }
                            ],
                            "schema": {
                                "fields": [
                                    {
                                        "name": "COURSE"
                                    }
                                ]
                            }
                        },
                        "text/html": [
                            "<table><tr><th>COURSE</th></tr><tr><td>DCA</td></tr></table>"
                        ]
                    },
                    "execution_count": 1,
                    "metadata": {},
                    "output_type": "execute_result"
                }
            ],
            "source": [
                "-- 55. What is the Costliest course? \n",
                "SELECT COURSE\n",
                "FROM STUDIES\n",
                "WHERE [COURSE FEE] = (SELECT MAX([COURSE FEE]) FROM STUDIES);"
            ]
        },
        {
            "cell_type": "code",
            "execution_count": 13,
            "metadata": {
                "azdata_cell_guid": "061247ab-d625-43ae-8745-2958d8aa7c8f",
                "language": "sql",
                "tags": [],
                "vscode": {
                    "languageId": "sql"
                }
            },
            "outputs": [
                {
                    "data": {
                        "text/html": [
                            "(2 rows affected)"
                        ]
                    },
                    "metadata": {},
                    "output_type": "display_data"
                },
                {
                    "data": {
                        "text/html": [
                            "Total execution time: 00:00:00.019"
                        ]
                    },
                    "metadata": {},
                    "output_type": "display_data"
                },
                {
                    "data": {
                        "application/vnd.dataresource+json": {
                            "data": [
                                {
                                    "0": "DCA"
                                },
                                {
                                    "0": "PGDCA"
                                }
                            ],
                            "schema": {
                                "fields": [
                                    {
                                        "name": "COURSE"
                                    }
                                ]
                            }
                        },
                        "text/html": [
                            "<table><tr><th>COURSE</th></tr><tr><td>DCA</td></tr><tr><td>PGDCA</td></tr></table>"
                        ]
                    },
                    "execution_count": 13,
                    "metadata": {},
                    "output_type": "execute_result"
                }
            ],
            "source": [
                "-- 56. Which course has been done by the most of the Students? \\\n",
                "-- WITH CT2 AS \n",
                "-- (\n",
                "-- SELECT MAX(CNT) AS CNT FROM (SELECT COURSE, COUNT(*) AS CNT\n",
                "-- FROM STUDIES\n",
                "-- GROUP BY COURSE) A\n",
                "-- )\n",
                "\n",
                "-- SELECT COURSE FROM STUDIES GROUP BY COURSE HAVING COUNT(*)=(SELECT * FROM CT2)\n",
                "\n",
                " \n",
                "SELECT COURSE FROM ( SELECT COURSE, RANK() OVER(ORDER BY COUNT(*) DESC) RANK FROM STUDIES GROUP BY COURSE) A WHERE RANK=1"
            ]
        },
        {
            "cell_type": "code",
            "execution_count": 28,
            "metadata": {
                "azdata_cell_guid": "2d127403-d076-4513-a45e-525dc84da64b",
                "language": "sql",
                "vscode": {
                    "languageId": "sql"
                }
            },
            "outputs": [
                {
                    "data": {
                        "text/html": [
                            "(1 row affected)"
                        ]
                    },
                    "metadata": {},
                    "output_type": "display_data"
                },
                {
                    "data": {
                        "text/html": [
                            "Total execution time: 00:00:00.007"
                        ]
                    },
                    "metadata": {},
                    "output_type": "display_data"
                },
                {
                    "data": {
                        "application/vnd.dataresource+json": {
                            "data": [
                                {
                                    "0": "BDPS"
                                }
                            ],
                            "schema": {
                                "fields": [
                                    {
                                        "name": "INSTITUTE"
                                    }
                                ]
                            }
                        },
                        "text/html": [
                            "<table><tr><th>INSTITUTE</th></tr><tr><td>BDPS</td></tr></table>"
                        ]
                    },
                    "execution_count": 28,
                    "metadata": {},
                    "output_type": "execute_result"
                }
            ],
            "source": [
                "-- 57. Which Institute conducts costliest course.\n",
                "SELECT INSTITUTE\n",
                "FROM STUDIES\n",
                "WHERE [COURSE FEE]=(SELECT MAX([COURSE FEE])\n",
                "FROM STUDIES)\n"
            ]
        },
        {
            "cell_type": "code",
            "execution_count": 29,
            "metadata": {
                "azdata_cell_guid": "abd90c48-d323-4332-a6c2-dbea054efe24",
                "language": "sql",
                "vscode": {
                    "languageId": "sql"
                }
            },
            "outputs": [
                {
                    "data": {
                        "text/html": [
                            "(10 rows affected)"
                        ]
                    },
                    "metadata": {},
                    "output_type": "display_data"
                },
                {
                    "data": {
                        "text/html": [
                            "Total execution time: 00:00:00.023"
                        ]
                    },
                    "metadata": {},
                    "output_type": "display_data"
                },
                {
                    "data": {
                        "application/vnd.dataresource+json": {
                            "data": [
                                {
                                    "0": "SABHARI",
                                    "1": "PGDCA"
                                },
                                {
                                    "0": "COIT",
                                    "1": "DCA"
                                },
                                {
                                    "0": "PRAGATHI",
                                    "1": "DCA"
                                },
                                {
                                    "0": "SABHARI",
                                    "1": "PGDCA"
                                },
                                {
                                    "0": "PRAGATHI",
                                    "1": "DAP"
                                },
                                {
                                    "0": "PRAGATHI",
                                    "1": "DCAP"
                                },
                                {
                                    "0": "SABHARI",
                                    "1": "PGDCA"
                                },
                                {
                                    "0": "BRILLIANT",
                                    "1": "DCAP"
                                },
                                {
                                    "0": "BDPS",
                                    "1": "DCS"
                                },
                                {
                                    "0": "SABHARI",
                                    "1": "DAP"
                                }
                            ],
                            "schema": {
                                "fields": [
                                    {
                                        "name": "INSTITUTE"
                                    },
                                    {
                                        "name": "COURSE"
                                    }
                                ]
                            }
                        },
                        "text/html": [
                            "<table><tr><th>INSTITUTE</th><th>COURSE</th></tr><tr><td>SABHARI</td><td>PGDCA</td></tr><tr><td>COIT</td><td>DCA</td></tr><tr><td>PRAGATHI</td><td>DCA</td></tr><tr><td>SABHARI</td><td>PGDCA</td></tr><tr><td>PRAGATHI</td><td>DAP</td></tr><tr><td>PRAGATHI</td><td>DCAP</td></tr><tr><td>SABHARI</td><td>PGDCA</td></tr><tr><td>BRILLIANT</td><td>DCAP</td></tr><tr><td>BDPS</td><td>DCS</td></tr><tr><td>SABHARI</td><td>DAP</td></tr></table>"
                        ]
                    },
                    "execution_count": 29,
                    "metadata": {},
                    "output_type": "execute_result"
                }
            ],
            "source": [
                "-- 58. Display the name of the Institute and Course, which has below AVG course fee. \n",
                "SELECT INSTITUTE, COURSE\n",
                "FROM STUDIES\n",
                "WHERE [COURSE FEE] < (SELECT AVG([COURSE FEE])\n",
                "FROM STUDIES)"
            ]
        },
        {
            "cell_type": "code",
            "execution_count": 38,
            "metadata": {
                "azdata_cell_guid": "f0a2ac59-64dc-46d8-89b4-27f721d372f7",
                "language": "sql",
                "vscode": {
                    "languageId": "sql"
                }
            },
            "outputs": [
                {
                    "data": {
                        "text/html": [
                            "(0 rows affected)"
                        ]
                    },
                    "metadata": {},
                    "output_type": "display_data"
                },
                {
                    "data": {
                        "text/html": [
                            "Total execution time: 00:00:00.008"
                        ]
                    },
                    "metadata": {},
                    "output_type": "display_data"
                },
                {
                    "data": {
                        "application/vnd.dataresource+json": {
                            "data": [],
                            "schema": {
                                "fields": [
                                    {
                                        "name": "COURSE"
                                    }
                                ]
                            }
                        },
                        "text/html": [
                            "<table><tr><th>COURSE</th></tr></table>"
                        ]
                    },
                    "execution_count": 38,
                    "metadata": {},
                    "output_type": "execute_result"
                }
            ],
            "source": [
                "-- 59. Display the names of the courses whose fees are within 1000 (+ or -) of the \n",
                "-- Average Fee.\n",
                "\n",
                "WITH\n",
                "    CTE\n",
                "    AS\n",
                "    (\n",
                "        SELECT AVG([COURSE FEE]) AS AVG_COURSE_FEE\n",
                "        FROM STUDIES\n",
                "    )\n",
                "\n",
                "SELECT COURSE\n",
                "FROM STUDIES\n",
                "WHERE [COURSE FEE] BETWEEN (SELECT AVG_COURSE_FEE+1000\n",
                "FROM CTE) AND (SELECT AVG_COURSE_FEE-1000\n",
                "FROM CTE)\n"
            ]
        },
        {
            "cell_type": "code",
            "execution_count": 32,
            "metadata": {
                "azdata_cell_guid": "821eb7c1-91fa-49aa-9c34-d653fa5872dc",
                "language": "sql",
                "vscode": {
                    "languageId": "sql"
                }
            },
            "outputs": [
                {
                    "data": {
                        "text/html": [
                            "(1 row affected)"
                        ]
                    },
                    "metadata": {},
                    "output_type": "display_data"
                },
                {
                    "data": {
                        "text/html": [
                            "Total execution time: 00:00:00.009"
                        ]
                    },
                    "metadata": {},
                    "output_type": "display_data"
                },
                {
                    "data": {
                        "application/vnd.dataresource+json": {
                            "data": [
                                {
                                    "0": "FINANCIAL ACCT."
                                }
                            ],
                            "schema": {
                                "fields": [
                                    {
                                        "name": "TITLE"
                                    }
                                ]
                            }
                        },
                        "text/html": [
                            "<table><tr><th>TITLE</th></tr><tr><td>FINANCIAL ACCT.</td></tr></table>"
                        ]
                    },
                    "execution_count": 32,
                    "metadata": {},
                    "output_type": "execute_result"
                }
            ],
            "source": [
                "-- 60. Which package has the Highest Development cost? \n",
                "SELECT TITLE\n",
                "FROM SOFTWARE\n",
                "WHERE DCOST = (SELECT MAX(DCOST)\n",
                "FROM SOFTWARE)"
            ]
        },
        {
            "cell_type": "code",
            "execution_count": 34,
            "metadata": {
                "azdata_cell_guid": "72dbd29f-f550-4df6-bc4c-283fa9e4f126",
                "language": "sql",
                "vscode": {
                    "languageId": "sql"
                }
            },
            "outputs": [
                {
                    "data": {
                        "text/html": [
                            "(0 rows affected)"
                        ]
                    },
                    "metadata": {},
                    "output_type": "display_data"
                },
                {
                    "data": {
                        "text/html": [
                            "Total execution time: 00:00:00.002"
                        ]
                    },
                    "metadata": {},
                    "output_type": "display_data"
                },
                {
                    "data": {
                        "application/vnd.dataresource+json": {
                            "data": [],
                            "schema": {
                                "fields": [
                                    {
                                        "name": "COURSE"
                                    }
                                ]
                            }
                        },
                        "text/html": [
                            "<table><tr><th>COURSE</th></tr></table>"
                        ]
                    },
                    "execution_count": 34,
                    "metadata": {},
                    "output_type": "execute_result"
                }
            ],
            "source": [
                "-- 61. Which course has below AVG number of Students? \n",
                "WITH\n",
                "    CTE\n",
                "    AS\n",
                "    (\n",
                "        SELECT COURSE, COUNT(*) AS No_OF_STUDENTS\n",
                "        FROM STUDIES\n",
                "        GROUP BY COURSE\n",
                "    )\n",
                "SELECT COURSE\n",
                "FROM CTE\n",
                "WHERE No_OF_STUDENTS< (SELECT AVG(No_OF_STUDENTS)\n",
                "FROM CTE)"
            ]
        },
        {
            "cell_type": "code",
            "execution_count": 36,
            "metadata": {
                "azdata_cell_guid": "a64536db-9c65-4494-a63b-30e5ac9a0429",
                "language": "sql",
                "vscode": {
                    "languageId": "sql"
                }
            },
            "outputs": [
                {
                    "data": {
                        "text/html": [
                            "(1 row affected)"
                        ]
                    },
                    "metadata": {},
                    "output_type": "display_data"
                },
                {
                    "data": {
                        "text/html": [
                            "Total execution time: 00:00:00.007"
                        ]
                    },
                    "metadata": {},
                    "output_type": "display_data"
                },
                {
                    "data": {
                        "application/vnd.dataresource+json": {
                            "data": [
                                {
                                    "0": "README"
                                }
                            ],
                            "schema": {
                                "fields": [
                                    {
                                        "name": "TITLE"
                                    }
                                ]
                            }
                        },
                        "text/html": [
                            "<table><tr><th>TITLE</th></tr><tr><td>README</td></tr></table>"
                        ]
                    },
                    "execution_count": 36,
                    "metadata": {},
                    "output_type": "execute_result"
                }
            ],
            "source": [
                "-- 62. Which Package has the lowest selling cost? \n",
                "SELECT TITLE\n",
                "FROM SOFTWARE\n",
                "WHERE SCOST = (SELECT MIN(SCOST)\n",
                "FROM SOFTWARE)\n",
                "GROUP BY TITLE"
            ]
        },
        {
            "cell_type": "code",
            "execution_count": 43,
            "metadata": {
                "azdata_cell_guid": "61486002-12ef-4853-a865-368f4231804a",
                "language": "sql",
                "vscode": {
                    "languageId": "sql"
                }
            },
            "outputs": [
                {
                    "data": {
                        "text/html": [
                            "(1 row affected)"
                        ]
                    },
                    "metadata": {},
                    "output_type": "display_data"
                },
                {
                    "data": {
                        "text/html": [
                            "Total execution time: 00:00:00.008"
                        ]
                    },
                    "metadata": {},
                    "output_type": "display_data"
                },
                {
                    "data": {
                        "application/vnd.dataresource+json": {
                            "data": [
                                {
                                    "0": "JULIANA"
                                }
                            ],
                            "schema": {
                                "fields": [
                                    {
                                        "name": "PNAME"
                                    }
                                ]
                            }
                        },
                        "text/html": [
                            "<table><tr><th>PNAME</th></tr><tr><td>JULIANA</td></tr></table>"
                        ]
                    },
                    "execution_count": 43,
                    "metadata": {},
                    "output_type": "execute_result"
                }
            ],
            "source": [
                "-- 63. Who Developed the Package that has sold the least number of copies? \n",
                "SELECT PNAME FROM SOFTWARE WHERE SOLD=(SELECT MIN(SOLD) FROM SOFTWARE)"
            ]
        },
        {
            "cell_type": "code",
            "execution_count": 45,
            "metadata": {
                "azdata_cell_guid": "04dc94f7-8daa-4092-84a3-bb2697f92a8b",
                "language": "sql",
                "vscode": {
                    "languageId": "sql"
                }
            },
            "outputs": [
                {
                    "data": {
                        "text/html": [
                            "(1 row affected)"
                        ]
                    },
                    "metadata": {},
                    "output_type": "display_data"
                },
                {
                    "data": {
                        "text/html": [
                            "Total execution time: 00:00:00.008"
                        ]
                    },
                    "metadata": {},
                    "output_type": "display_data"
                },
                {
                    "data": {
                        "application/vnd.dataresource+json": {
                            "data": [
                                {
                                    "0": "CPP"
                                }
                            ],
                            "schema": {
                                "fields": [
                                    {
                                        "name": "DEVELOPIN"
                                    }
                                ]
                            }
                        },
                        "text/html": [
                            "<table><tr><th>DEVELOPIN</th></tr><tr><td>CPP</td></tr></table>"
                        ]
                    },
                    "execution_count": 45,
                    "metadata": {},
                    "output_type": "execute_result"
                }
            ],
            "source": [
                "-- 64. Which language has used to develop the package, which has the highest \n",
                "-- sales amount? \n",
                "SELECT DEVELOPIN\n",
                "FROM SOFTWARE\n",
                "WHERE SOLD=(SELECT MAX(SOLD)\n",
                "FROM SOFTWARE)\n",
                "GROUP BY DEVELOPIN\n"
            ]
        },
        {
            "cell_type": "code",
            "execution_count": 48,
            "metadata": {
                "azdata_cell_guid": "14744c15-ff97-4fc1-95bf-8c99cc97f128",
                "language": "sql",
                "vscode": {
                    "languageId": "sql"
                }
            },
            "outputs": [
                {
                    "data": {
                        "text/html": [
                            "(1 row affected)"
                        ]
                    },
                    "metadata": {},
                    "output_type": "display_data"
                },
                {
                    "data": {
                        "text/html": [
                            "Total execution time: 00:00:00.008"
                        ]
                    },
                    "metadata": {},
                    "output_type": "display_data"
                },
                {
                    "data": {
                        "application/vnd.dataresource+json": {
                            "data": [
                                {
                                    "0": "6"
                                }
                            ],
                            "schema": {
                                "fields": [
                                    {
                                        "name": "SOLD"
                                    }
                                ]
                            }
                        },
                        "text/html": [
                            "<table><tr><th>SOLD</th></tr><tr><td>6</td></tr></table>"
                        ]
                    },
                    "execution_count": 48,
                    "metadata": {},
                    "output_type": "execute_result"
                }
            ],
            "source": [
                "-- 65. How many copies of package that has the least difference between \n",
                "-- development and selling cost where sold. \n",
                "\n",
                "\n",
                "SELECT SOLD\n",
                "FROM SOFTWARE\n",
                "WHERE ABS(DCOST-SCOST)=(SELECT MIN(ABS(DCOST-SCOST)) AS DIFF_BETN_DCOST_SCOST\n",
                "FROM SOFTWARE) "
            ]
        },
        {
            "cell_type": "code",
            "execution_count": 56,
            "metadata": {
                "azdata_cell_guid": "127fd5f4-577a-499e-afed-65f7c1fcc3cd",
                "language": "sql",
                "vscode": {
                    "languageId": "sql"
                }
            },
            "outputs": [
                {
                    "data": {
                        "text/html": [
                            "(1 row affected)"
                        ]
                    },
                    "metadata": {},
                    "output_type": "display_data"
                },
                {
                    "data": {
                        "text/html": [
                            "Total execution time: 00:00:00.006"
                        ]
                    },
                    "metadata": {},
                    "output_type": "display_data"
                },
                {
                    "data": {
                        "application/vnd.dataresource+json": {
                            "data": [
                                {
                                    "0": "VIDEO TITLING"
                                }
                            ],
                            "schema": {
                                "fields": [
                                    {
                                        "name": "TITLE"
                                    }
                                ]
                            }
                        },
                        "text/html": [
                            "<table><tr><th>TITLE</th></tr><tr><td>VIDEO TITLING</td></tr></table>"
                        ]
                    },
                    "execution_count": 56,
                    "metadata": {},
                    "output_type": "execute_result"
                }
            ],
            "source": [
                "-- 66. Which is the costliest package developed in PASCAL. \n",
                "SELECT TITLE FROM (SELECT DEVELOPIN,TITLE,RANK() OVER(ORDER BY SCOST DESC) R\n",
                "FROM SOFTWARE\n",
                "WHERE DEVELOPIN = 'PASCAL') A \n",
                "WHERE R=1"
            ]
        },
        {
            "cell_type": "code",
            "execution_count": 58,
            "metadata": {
                "azdata_cell_guid": "b8432b8b-09f6-4d22-9567-57e1e682c014",
                "language": "sql",
                "vscode": {
                    "languageId": "sql"
                }
            },
            "outputs": [
                {
                    "data": {
                        "text/html": [
                            "(1 row affected)"
                        ]
                    },
                    "metadata": {},
                    "output_type": "display_data"
                },
                {
                    "data": {
                        "text/html": [
                            "Total execution time: 00:00:00.007"
                        ]
                    },
                    "metadata": {},
                    "output_type": "display_data"
                },
                {
                    "data": {
                        "application/vnd.dataresource+json": {
                            "data": [
                                {
                                    "0": "C"
                                }
                            ],
                            "schema": {
                                "fields": [
                                    {
                                        "name": "DEVELOPIN"
                                    }
                                ]
                            }
                        },
                        "text/html": [
                            "<table><tr><th>DEVELOPIN</th></tr><tr><td>C</td></tr></table>"
                        ]
                    },
                    "execution_count": 58,
                    "metadata": {},
                    "output_type": "execute_result"
                }
            ],
            "source": [
                "-- 67. Which language was used to develop the most number of Packages. \n",
                "SELECT DEVELOPIN\n",
                "FROM (SELECT DEVELOPIN, RANK()OVER(ORDER BY COUNT(*) DESC) R\n",
                "    FROM SOFTWARE\n",
                "    GROUP BY DEVELOPIN) N\n",
                "WHERE R=1"
            ]
        },
        {
            "cell_type": "code",
            "execution_count": 63,
            "metadata": {
                "azdata_cell_guid": "3a0b5a0e-563d-4d52-8fda-a8c1c4806f29",
                "language": "sql",
                "vscode": {
                    "languageId": "sql"
                }
            },
            "outputs": [
                {
                    "data": {
                        "text/html": [
                            "(1 row affected)"
                        ]
                    },
                    "metadata": {},
                    "output_type": "display_data"
                },
                {
                    "data": {
                        "text/html": [
                            "Total execution time: 00:00:00.007"
                        ]
                    },
                    "metadata": {},
                    "output_type": "display_data"
                },
                {
                    "data": {
                        "application/vnd.dataresource+json": {
                            "data": [
                                {
                                    "0": "MARY"
                                }
                            ],
                            "schema": {
                                "fields": [
                                    {
                                        "name": "PNAME"
                                    }
                                ]
                            }
                        },
                        "text/html": [
                            "<table><tr><th>PNAME</th></tr><tr><td>MARY</td></tr></table>"
                        ]
                    },
                    "execution_count": 63,
                    "metadata": {},
                    "output_type": "execute_result"
                }
            ],
            "source": [
                "-- 68. Which programmer has developed the highest number of Packages? \n",
                "WITH CTE AS (\n",
                "SELECT PNAME, DENSE_RANK() OVER(ORDER BY COUNT(*) DESC) AS RANK FROM SOFTWARE GROUP BY PNAME\n",
                ")\n",
                "\n",
                "SELECT PNAME FROM CTE WHERE RANK=1"
            ]
        },
        {
            "cell_type": "code",
            "execution_count": 64,
            "metadata": {
                "azdata_cell_guid": "8a6d4e9a-d9b9-413f-8cac-4da913dcbd0a",
                "language": "sql",
                "vscode": {
                    "languageId": "sql"
                }
            },
            "outputs": [
                {
                    "data": {
                        "text/html": [
                            "(1 row affected)"
                        ]
                    },
                    "metadata": {},
                    "output_type": "display_data"
                },
                {
                    "data": {
                        "text/html": [
                            "Total execution time: 00:00:00.019"
                        ]
                    },
                    "metadata": {},
                    "output_type": "display_data"
                },
                {
                    "data": {
                        "application/vnd.dataresource+json": {
                            "data": [
                                {
                                    "0": "MARY"
                                }
                            ],
                            "schema": {
                                "fields": [
                                    {
                                        "name": "PNAME"
                                    }
                                ]
                            }
                        },
                        "text/html": [
                            "<table><tr><th>PNAME</th></tr><tr><td>MARY</td></tr></table>"
                        ]
                    },
                    "execution_count": 64,
                    "metadata": {},
                    "output_type": "execute_result"
                }
            ],
            "source": [
                "-- 69. Who is the Author of the Costliest Package? \n",
                "SELECT PNAME\n",
                "FROM SOFTWARE\n",
                "WHERE SCOST=(SELECT MAX(SCOST)\n",
                "FROM SOFTWARE)"
            ]
        },
        {
            "cell_type": "code",
            "execution_count": 65,
            "metadata": {
                "azdata_cell_guid": "703392ed-e0e8-4925-bf52-707b91cf5da7",
                "language": "sql",
                "vscode": {
                    "languageId": "sql"
                }
            },
            "outputs": [
                {
                    "data": {
                        "text/html": [
                            "(11 rows affected)"
                        ]
                    },
                    "metadata": {},
                    "output_type": "display_data"
                },
                {
                    "data": {
                        "text/html": [
                            "Total execution time: 00:00:00.019"
                        ]
                    },
                    "metadata": {},
                    "output_type": "display_data"
                },
                {
                    "data": {
                        "application/vnd.dataresource+json": {
                            "data": [
                                {
                                    "0": "VIDEO TITLING"
                                },
                                {
                                    "0": "INVENTORY"
                                },
                                {
                                    "0": "PAYROLL PKG."
                                },
                                {
                                    "0": "FINANCIAL ACCT."
                                },
                                {
                                    "0": "CODE GENERATOR"
                                },
                                {
                                    "0": "BOMBS AWAY"
                                },
                                {
                                    "0": "VACCINES"
                                },
                                {
                                    "0": "HOTEL MGMT."
                                },
                                {
                                    "0": "TSR HELP PKG."
                                },
                                {
                                    "0": "HOSPITAL MGMT."
                                },
                                {
                                    "0": "TSR EDITOR"
                                }
                            ],
                            "schema": {
                                "fields": [
                                    {
                                        "name": "TITLE"
                                    }
                                ]
                            }
                        },
                        "text/html": [
                            "<table><tr><th>TITLE</th></tr><tr><td>VIDEO TITLING</td></tr><tr><td>INVENTORY</td></tr><tr><td>PAYROLL PKG.</td></tr><tr><td>FINANCIAL ACCT.</td></tr><tr><td>CODE GENERATOR</td></tr><tr><td>BOMBS AWAY</td></tr><tr><td>VACCINES</td></tr><tr><td>HOTEL MGMT.</td></tr><tr><td>TSR HELP PKG.</td></tr><tr><td>HOSPITAL MGMT.</td></tr><tr><td>TSR EDITOR</td></tr></table>"
                        ]
                    },
                    "execution_count": 65,
                    "metadata": {},
                    "output_type": "execute_result"
                }
            ],
            "source": [
                "-- 70. Display the names of the packages, which have sold less than the AVG number of copies.\n",
                "SELECT TITLE\n",
                "FROM SOFTWARE\n",
                "WHERE SOLD < (SELECT AVG(SOLD)\n",
                "FROM SOFTWARE)"
            ]
        },
        {
            "cell_type": "code",
            "execution_count": 67,
            "metadata": {
                "azdata_cell_guid": "83900e79-44a3-4404-99ed-2187911ed5fe",
                "language": "sql",
                "vscode": {
                    "languageId": "sql"
                }
            },
            "outputs": [
                {
                    "data": {
                        "text/html": [
                            "(8 rows affected)"
                        ]
                    },
                    "metadata": {},
                    "output_type": "display_data"
                },
                {
                    "data": {
                        "text/html": [
                            "Total execution time: 00:00:00.022"
                        ]
                    },
                    "metadata": {},
                    "output_type": "display_data"
                },
                {
                    "data": {
                        "application/vnd.dataresource+json": {
                            "data": [
                                {
                                    "0": "ANAND"
                                },
                                {
                                    "0": "KAMALA"
                                },
                                {
                                    "0": "MARY"
                                },
                                {
                                    "0": "PATTRICK"
                                },
                                {
                                    "0": "QADIR"
                                },
                                {
                                    "0": "RAMESH"
                                },
                                {
                                    "0": "REMITHA"
                                },
                                {
                                    "0": "VIJAYA"
                                }
                            ],
                            "schema": {
                                "fields": [
                                    {
                                        "name": "PNAME"
                                    }
                                ]
                            }
                        },
                        "text/html": [
                            "<table><tr><th>PNAME</th></tr><tr><td>ANAND</td></tr><tr><td>KAMALA</td></tr><tr><td>MARY</td></tr><tr><td>PATTRICK</td></tr><tr><td>QADIR</td></tr><tr><td>RAMESH</td></tr><tr><td>REMITHA</td></tr><tr><td>VIJAYA</td></tr></table>"
                        ]
                    },
                    "execution_count": 67,
                    "metadata": {},
                    "output_type": "execute_result"
                }
            ],
            "source": [
                "-- 71. Who are the authors of the Packages, which have recovered more than double the Development cost? \n",
                "SELECT DISTINCT PNAME FROM SOFTWARE WHERE SCOST*SOLD>2*DCOST"
            ]
        },
        {
            "cell_type": "code",
            "execution_count": 71,
            "metadata": {
                "azdata_cell_guid": "97313ea3-a7bc-49f8-91ff-60bee93ab262",
                "language": "sql",
                "vscode": {
                    "languageId": "sql"
                }
            },
            "outputs": [
                {
                    "data": {
                        "text/html": [
                            "(11 rows affected)"
                        ]
                    },
                    "metadata": {},
                    "output_type": "display_data"
                },
                {
                    "data": {
                        "text/html": [
                            "Total execution time: 00:00:00.018"
                        ]
                    },
                    "metadata": {},
                    "output_type": "display_data"
                },
                {
                    "data": {
                        "application/vnd.dataresource+json": {
                            "data": [
                                {
                                    "0": "MARY",
                                    "1": "README",
                                    "2": "CPP",
                                    "3": "1200"
                                },
                                {
                                    "0": "ANAND",
                                    "1": "PARACHUTES",
                                    "2": "BASIC",
                                    "3": "6000"
                                },
                                {
                                    "0": "JULIANA",
                                    "1": "INVENTORY",
                                    "2": "COBOL",
                                    "3": "3500"
                                },
                                {
                                    "0": "KAMALA",
                                    "1": "PAYROLL PKG.",
                                    "2": "DBASE",
                                    "3": "20000"
                                },
                                {
                                    "0": "MARY",
                                    "1": "FINANCIAL ACCT.",
                                    "2": "ORACLE",
                                    "3": "85000"
                                },
                                {
                                    "0": "MARY",
                                    "1": "CODE GENERATOR",
                                    "2": "C",
                                    "3": "20000"
                                },
                                {
                                    "0": "PATTRICK",
                                    "1": "README",
                                    "2": "CPP",
                                    "3": "1200"
                                },
                                {
                                    "0": "QADIR",
                                    "1": "BOMBS AWAY",
                                    "2": "ASSEMBLY",
                                    "3": "3000"
                                },
                                {
                                    "0": "RAMESH",
                                    "1": "DEAD LEE",
                                    "2": "PASCAL",
                                    "3": "4500"
                                },
                                {
                                    "0": "REMITHA",
                                    "1": "TSR HELP PKG.",
                                    "2": "ASSEMBLY",
                                    "3": "6000"
                                },
                                {
                                    "0": "VIJAYA",
                                    "1": "TSR EDITOR",
                                    "2": "C",
                                    "3": "700"
                                }
                            ],
                            "schema": {
                                "fields": [
                                    {
                                        "name": "PNAME"
                                    },
                                    {
                                        "name": "TITLE"
                                    },
                                    {
                                        "name": "DEVELOPIN"
                                    },
                                    {
                                        "name": "DCOST"
                                    }
                                ]
                            }
                        },
                        "text/html": [
                            "<table><tr><th>PNAME</th><th>TITLE</th><th>DEVELOPIN</th><th>DCOST</th></tr><tr><td>MARY</td><td>README</td><td>CPP</td><td>1200</td></tr><tr><td>ANAND</td><td>PARACHUTES</td><td>BASIC</td><td>6000</td></tr><tr><td>JULIANA</td><td>INVENTORY</td><td>COBOL</td><td>3500</td></tr><tr><td>KAMALA</td><td>PAYROLL PKG.</td><td>DBASE</td><td>20000</td></tr><tr><td>MARY</td><td>FINANCIAL ACCT.</td><td>ORACLE</td><td>85000</td></tr><tr><td>MARY</td><td>CODE GENERATOR</td><td>C</td><td>20000</td></tr><tr><td>PATTRICK</td><td>README</td><td>CPP</td><td>1200</td></tr><tr><td>QADIR</td><td>BOMBS AWAY</td><td>ASSEMBLY</td><td>3000</td></tr><tr><td>RAMESH</td><td>DEAD LEE</td><td>PASCAL</td><td>4500</td></tr><tr><td>REMITHA</td><td>TSR HELP PKG.</td><td>ASSEMBLY</td><td>6000</td></tr><tr><td>VIJAYA</td><td>TSR EDITOR</td><td>C</td><td>700</td></tr></table>"
                        ]
                    },
                    "execution_count": 71,
                    "metadata": {},
                    "output_type": "execute_result"
                }
            ],
            "source": [
                "-- 72. Display the programmer Name and the cheapest packages developed by them in each language. \n",
                "SELECT PNAME,TITLE,DEVELOPIN,DCOST FROM SOFTWARE WHERE DCOST IN (SELECT MIN(DCOST) FROM SOFTWARE GROUP BY DEVELOPIN)"
            ]
        },
        {
            "cell_type": "code",
            "execution_count": 78,
            "metadata": {
                "azdata_cell_guid": "58fd66f0-1768-4497-a962-68c204898937",
                "language": "sql",
                "vscode": {
                    "languageId": "sql"
                }
            },
            "outputs": [
                {
                    "data": {
                        "text/html": [
                            "(15 rows affected)"
                        ]
                    },
                    "metadata": {},
                    "output_type": "display_data"
                },
                {
                    "data": {
                        "text/html": [
                            "Total execution time: 00:00:00.026"
                        ]
                    },
                    "metadata": {},
                    "output_type": "display_data"
                },
                {
                    "data": {
                        "application/vnd.dataresource+json": {
                            "data": [
                                {
                                    "0": "ANAND",
                                    "1": "BASIC"
                                },
                                {
                                    "0": "ANAND",
                                    "1": "PASCAL"
                                },
                                {
                                    "0": "JULIANA",
                                    "1": "COBOL"
                                },
                                {
                                    "0": "KAMALA",
                                    "1": "DBASE"
                                },
                                {
                                    "0": "MARY",
                                    "1": "CPP"
                                },
                                {
                                    "0": "MARY",
                                    "1": "ORACLE"
                                },
                                {
                                    "0": "PATTRICK",
                                    "1": "CPP"
                                },
                                {
                                    "0": "QADIR",
                                    "1": "ASSEMBLY"
                                },
                                {
                                    "0": "QADIR",
                                    "1": "C"
                                },
                                {
                                    "0": "RAMESH",
                                    "1": "DBASE"
                                },
                                {
                                    "0": "RAMESH",
                                    "1": "PASCAL"
                                },
                                {
                                    "0": "REMITHA",
                                    "1": "ASSEMBLY"
                                },
                                {
                                    "0": "REMITHA",
                                    "1": "C"
                                },
                                {
                                    "0": "REVATHI",
                                    "1": "PASCAL"
                                },
                                {
                                    "0": "VIJAYA",
                                    "1": "C"
                                }
                            ],
                            "schema": {
                                "fields": [
                                    {
                                        "name": "PNAME"
                                    },
                                    {
                                        "name": "DEVELOPIN"
                                    }
                                ]
                            }
                        },
                        "text/html": [
                            "<table><tr><th>PNAME</th><th>DEVELOPIN</th></tr><tr><td>ANAND</td><td>BASIC</td></tr><tr><td>ANAND</td><td>PASCAL</td></tr><tr><td>JULIANA</td><td>COBOL</td></tr><tr><td>KAMALA</td><td>DBASE</td></tr><tr><td>MARY</td><td>CPP</td></tr><tr><td>MARY</td><td>ORACLE</td></tr><tr><td>PATTRICK</td><td>CPP</td></tr><tr><td>QADIR</td><td>ASSEMBLY</td></tr><tr><td>QADIR</td><td>C</td></tr><tr><td>RAMESH</td><td>DBASE</td></tr><tr><td>RAMESH</td><td>PASCAL</td></tr><tr><td>REMITHA</td><td>ASSEMBLY</td></tr><tr><td>REMITHA</td><td>C</td></tr><tr><td>REVATHI</td><td>PASCAL</td></tr><tr><td>VIJAYA</td><td>C</td></tr></table>"
                        ]
                    },
                    "execution_count": 78,
                    "metadata": {},
                    "output_type": "execute_result"
                }
            ],
            "source": [
                "-- 73. Display the language used by each programmer to develop the Highest Selling and Lowest-selling package. \n",
                "SELECT PNAME,DEVELOPIN FROM SOFTWARE WHERE SOLD IN (SELECT MAX(SOLD) FROM SOFTWARE GROUP BY PNAME)\n",
                "UNION\n",
                "SELECT PNAME,DEVELOPIN FROM SOFTWARE WHERE SOLD IN (SELECT MIN(SOLD) FROM SOFTWARE GROUP BY PNAME)"
            ]
        },
        {
            "cell_type": "code",
            "execution_count": 82,
            "metadata": {
                "azdata_cell_guid": "90f547ae-49d7-4375-a74a-5dbfa65e4650",
                "language": "sql",
                "vscode": {
                    "languageId": "sql"
                }
            },
            "outputs": [
                {
                    "data": {
                        "text/html": [
                            "(1 row affected)"
                        ]
                    },
                    "metadata": {},
                    "output_type": "display_data"
                },
                {
                    "data": {
                        "text/html": [
                            "Total execution time: 00:00:00.008"
                        ]
                    },
                    "metadata": {},
                    "output_type": "display_data"
                },
                {
                    "data": {
                        "application/vnd.dataresource+json": {
                            "data": [
                                {
                                    "0": "PATTRICK"
                                }
                            ],
                            "schema": {
                                "fields": [
                                    {
                                        "name": "PNAME"
                                    }
                                ]
                            }
                        },
                        "text/html": [
                            "<table><tr><th>PNAME</th></tr><tr><td>PATTRICK</td></tr></table>"
                        ]
                    },
                    "execution_count": 82,
                    "metadata": {},
                    "output_type": "execute_result"
                }
            ],
            "source": [
                "-- 74. Who is the youngest male Programmer born in 1965? \n",
                "SELECT PNAME\n",
                "FROM PROGRAMMER\n",
                "WHERE DOB=(SELECT MAX(DOB)\n",
                "FROM PROGRAMMER\n",
                "WHERE YEAR(DOB) = 1965 AND GENDER='M')"
            ]
        },
        {
            "cell_type": "code",
            "execution_count": 87,
            "metadata": {
                "azdata_cell_guid": "824b0964-5203-420c-8022-1ba744379fac",
                "language": "sql",
                "vscode": {
                    "languageId": "sql"
                }
            },
            "outputs": [
                {
                    "data": {
                        "text/html": [
                            "(1 row affected)"
                        ]
                    },
                    "metadata": {},
                    "output_type": "display_data"
                },
                {
                    "data": {
                        "text/html": [
                            "Total execution time: 00:00:00.008"
                        ]
                    },
                    "metadata": {},
                    "output_type": "display_data"
                },
                {
                    "data": {
                        "application/vnd.dataresource+json": {
                            "data": [
                                {
                                    "0": "VIJAYA"
                                }
                            ],
                            "schema": {
                                "fields": [
                                    {
                                        "name": "PNAME"
                                    }
                                ]
                            }
                        },
                        "text/html": [
                            "<table><tr><th>PNAME</th></tr><tr><td>VIJAYA</td></tr></table>"
                        ]
                    },
                    "execution_count": 87,
                    "metadata": {},
                    "output_type": "execute_result"
                }
            ],
            "source": [
                "-- 75. Who is the oldest Female Programmer who joined in 1992?\n",
                "SELECT PNAME\n",
                "FROM (SELECT *, RANK() OVER(ORDER BY DOB) RANK\n",
                "    FROM PROGRAMMER\n",
                "    WHERE GENDER='F' AND YEAR(DOJ)=1992) A\n",
                "WHERE RANK=1"
            ]
        },
        {
            "cell_type": "code",
            "execution_count": 91,
            "metadata": {
                "azdata_cell_guid": "65342b88-996e-49c5-bebb-c6c3b00bb10e",
                "language": "sql",
                "vscode": {
                    "languageId": "sql"
                }
            },
            "outputs": [
                {
                    "data": {
                        "text/html": [
                            "(1 row affected)"
                        ]
                    },
                    "metadata": {},
                    "output_type": "display_data"
                },
                {
                    "data": {
                        "text/html": [
                            "Total execution time: 00:00:00.006"
                        ]
                    },
                    "metadata": {},
                    "output_type": "display_data"
                },
                {
                    "data": {
                        "application/vnd.dataresource+json": {
                            "data": [
                                {
                                    "0": "1965"
                                }
                            ],
                            "schema": {
                                "fields": [
                                    {
                                        "name": "YR"
                                    }
                                ]
                            }
                        },
                        "text/html": [
                            "<table><tr><th>YR</th></tr><tr><td>1965</td></tr></table>"
                        ]
                    },
                    "execution_count": 91,
                    "metadata": {},
                    "output_type": "execute_result"
                }
            ],
            "source": [
                "-- 76. In which year was the most number of Programmers born.\n",
                "SELECT YR FROM (SELECT YEAR(DOB) YR, DENSE_RANK() OVER(ORDER BY COUNT(*) DESC) RANK\n",
                "FROM PROGRAMMER\n",
                "GROUP BY YEAR(DOB)) A WHERE RANK=1"
            ]
        },
        {
            "cell_type": "code",
            "execution_count": 95,
            "metadata": {
                "azdata_cell_guid": "af098d45-9da7-4bd2-98b6-dbb4a10d98ee",
                "language": "sql",
                "vscode": {
                    "languageId": "sql"
                }
            },
            "outputs": [
                {
                    "data": {
                        "text/html": [
                            "(1 row affected)"
                        ]
                    },
                    "metadata": {},
                    "output_type": "display_data"
                },
                {
                    "data": {
                        "text/html": [
                            "Total execution time: 00:00:00.007"
                        ]
                    },
                    "metadata": {},
                    "output_type": "display_data"
                },
                {
                    "data": {
                        "application/vnd.dataresource+json": {
                            "data": [
                                {
                                    "0": "January"
                                }
                            ],
                            "schema": {
                                "fields": [
                                    {
                                        "name": "month did most number of programmers join"
                                    }
                                ]
                            }
                        },
                        "text/html": [
                            "<table><tr><th>month did most number of programmers join</th></tr><tr><td>January</td></tr></table>"
                        ]
                    },
                    "execution_count": 95,
                    "metadata": {},
                    "output_type": "execute_result"
                }
            ],
            "source": [
                "-- 77. In which month did most number of programmers join? \n",
                "SELECT DATENAME(MM,M)  AS \"month did most number of programmers join\" FROM (SELECT MONTH(DOJ) M, DENSE_RANK() OVER(ORDER BY COUNT(*) DESC) RANK\n",
                "FROM PROGRAMMER\n",
                "GROUP BY MONTH(DOJ)) A WHERE RANK=1"
            ]
        },
        {
            "cell_type": "code",
            "execution_count": 101,
            "metadata": {
                "azdata_cell_guid": "dad17e28-b400-4021-80cb-aed110a92190",
                "language": "sql",
                "tags": [],
                "vscode": {
                    "languageId": "sql"
                }
            },
            "outputs": [
                {
                    "data": {
                        "text/html": [
                            "(4 rows affected)"
                        ]
                    },
                    "metadata": {},
                    "output_type": "display_data"
                },
                {
                    "data": {
                        "text/html": [
                            "Total execution time: 00:00:00.014"
                        ]
                    },
                    "metadata": {},
                    "output_type": "display_data"
                },
                {
                    "data": {
                        "application/vnd.dataresource+json": {
                            "data": [
                                {
                                    "0": "C"
                                },
                                {
                                    "0": "COBOL"
                                },
                                {
                                    "0": "DBASE"
                                },
                                {
                                    "0": "PASCAL"
                                }
                            ],
                            "schema": {
                                "fields": [
                                    {
                                        "name": "PROF1"
                                    }
                                ]
                            }
                        },
                        "text/html": [
                            "<table><tr><th>PROF1</th></tr><tr><td>C</td></tr><tr><td>COBOL</td></tr><tr><td>DBASE</td></tr><tr><td>PASCAL</td></tr></table>"
                        ]
                    },
                    "execution_count": 101,
                    "metadata": {},
                    "output_type": "execute_result"
                }
            ],
            "source": [
                "-- 78. In which language are most of the programmer’s proficient. \n",
                "-- SELECT PROF1, DENSE_RANK() OVER(ORDER BY COUNT(*) DESC) FROM PROGRAMMER GROUP BY PROF1\n",
                "SELECT PROF1 FROM (SELECT PROF1, DENSE_RANK() OVER(ORDER BY COUNT(*) DESC) RANK FROM (SELECT PROF1 FROM PROGRAMMER\n",
                "UNION ALL\n",
                "SELECT PROF2 FROM PROGRAMMER) A\n",
                "GROUP BY PROF1) B\n",
                "WHERE RANK=1"
            ]
        },
        {
            "cell_type": "code",
            "execution_count": 102,
            "metadata": {
                "azdata_cell_guid": "e44c93fb-28ee-42f7-b266-272209b42507",
                "language": "sql",
                "tags": [],
                "vscode": {
                    "languageId": "sql"
                }
            },
            "outputs": [
                {
                    "data": {
                        "text/html": [
                            "(6 rows affected)"
                        ]
                    },
                    "metadata": {},
                    "output_type": "display_data"
                },
                {
                    "data": {
                        "text/html": [
                            "Total execution time: 00:00:00.007"
                        ]
                    },
                    "metadata": {},
                    "output_type": "display_data"
                },
                {
                    "data": {
                        "application/vnd.dataresource+json": {
                            "data": [
                                {
                                    "0": "ANAND"
                                },
                                {
                                    "0": "ALTAF"
                                },
                                {
                                    "0": "NELSON"
                                },
                                {
                                    "0": "PATTRICK"
                                },
                                {
                                    "0": "QADIR"
                                },
                                {
                                    "0": "RAMESH"
                                }
                            ],
                            "schema": {
                                "fields": [
                                    {
                                        "name": "PNAME"
                                    }
                                ]
                            }
                        },
                        "text/html": [
                            "<table><tr><th>PNAME</th></tr><tr><td>ANAND</td></tr><tr><td>ALTAF</td></tr><tr><td>NELSON</td></tr><tr><td>PATTRICK</td></tr><tr><td>QADIR</td></tr><tr><td>RAMESH</td></tr></table>"
                        ]
                    },
                    "execution_count": 102,
                    "metadata": {},
                    "output_type": "execute_result"
                }
            ],
            "source": [
                "-- 79. Who are the male programmers earning below the AVG salary of Female Programmers? \n",
                "SELECT PNAME\n",
                "FROM PROGRAMMER\n",
                "WHERE GENDER='M' AND SALARY< (SELECT AVG(SALARY)\n",
                "    FROM PROGRAMMER\n",
                "    WHERE GENDER='F')"
            ]
        },
        {
            "cell_type": "code",
            "execution_count": 111,
            "metadata": {
                "azdata_cell_guid": "fc72a23f-8ccc-4659-8e11-6c4588afd8e9",
                "language": "sql",
                "vscode": {
                    "languageId": "sql"
                }
            },
            "outputs": [
                {
                    "data": {
                        "text/html": [
                            "(0 rows affected)"
                        ]
                    },
                    "metadata": {},
                    "output_type": "display_data"
                },
                {
                    "data": {
                        "text/html": [
                            "Total execution time: 00:00:00.008"
                        ]
                    },
                    "metadata": {},
                    "output_type": "display_data"
                },
                {
                    "data": {
                        "application/vnd.dataresource+json": {
                            "data": [],
                            "schema": {
                                "fields": [
                                    {
                                        "name": "PNAME"
                                    }
                                ]
                            }
                        },
                        "text/html": [
                            "<table><tr><th>PNAME</th></tr></table>"
                        ]
                    },
                    "execution_count": 111,
                    "metadata": {},
                    "output_type": "execute_result"
                }
            ],
            "source": [
                "-- 80. Who are the Female Programmers earning more than the Highest Paid? \n",
                "SELECT PNAME\n",
                "FROM PROGRAMMER\n",
                "WHERE GENDER='F' AND SALARY > (SELECT MAX(SALARY)\n",
                "    FROM PROGRAMMER)"
            ]
        },
        {
            "cell_type": "code",
            "execution_count": 106,
            "metadata": {
                "azdata_cell_guid": "41085c1d-8e72-4971-8445-0504f0488e0e",
                "language": "sql",
                "tags": [],
                "vscode": {
                    "languageId": "sql"
                }
            },
            "outputs": [
                {
                    "data": {
                        "text/html": [
                            "(4 rows affected)"
                        ]
                    },
                    "metadata": {},
                    "output_type": "display_data"
                },
                {
                    "data": {
                        "text/html": [
                            "Total execution time: 00:00:00.009"
                        ]
                    },
                    "metadata": {},
                    "output_type": "display_data"
                },
                {
                    "data": {
                        "application/vnd.dataresource+json": {
                            "data": [
                                {
                                    "0": "C"
                                },
                                {
                                    "0": "COBOL"
                                },
                                {
                                    "0": "DBASE"
                                },
                                {
                                    "0": "PASCAL"
                                }
                            ],
                            "schema": {
                                "fields": [
                                    {
                                        "name": "PROF1"
                                    }
                                ]
                            }
                        },
                        "text/html": [
                            "<table><tr><th>PROF1</th></tr><tr><td>C</td></tr><tr><td>COBOL</td></tr><tr><td>DBASE</td></tr><tr><td>PASCAL</td></tr></table>"
                        ]
                    },
                    "execution_count": 106,
                    "metadata": {},
                    "output_type": "execute_result"
                }
            ],
            "source": [
                "-- 81. Which language has been stated as the proficiency by most of the Programmers? (SAME AS 78)\n",
                "SELECT PROF1 FROM (SELECT PROF1, DENSE_RANK() OVER(ORDER BY COUNT(*) DESC) RANK FROM (SELECT PROF1 FROM PROGRAMMER\n",
                "UNION ALL\n",
                "SELECT PROF2 FROM PROGRAMMER) A\n",
                "GROUP BY PROF1) B\n",
                "WHERE RANK=1"
            ]
        },
        {
            "cell_type": "code",
            "execution_count": 127,
            "metadata": {
                "azdata_cell_guid": "12560e78-8c80-4b57-b59b-8c2d4083c5e4",
                "language": "sql",
                "tags": [],
                "vscode": {
                    "languageId": "sql"
                }
            },
            "outputs": [
                {
                    "data": {
                        "text/html": [
                            "(8 rows affected)"
                        ]
                    },
                    "metadata": {},
                    "output_type": "display_data"
                },
                {
                    "data": {
                        "text/html": [
                            "Total execution time: 00:00:00.010"
                        ]
                    },
                    "metadata": {},
                    "output_type": "display_data"
                },
                {
                    "data": {
                        "application/vnd.dataresource+json": {
                            "data": [
                                {
                                    "0": "ANAND",
                                    "1": "1966-04-12",
                                    "2": "1992-04-21",
                                    "3": "M",
                                    "4": "PASCAL",
                                    "5": "BASIC",
                                    "6": "3200"
                                },
                                {
                                    "0": "ALTAF",
                                    "1": "1964-07-02",
                                    "2": "1990-11-13",
                                    "3": "M",
                                    "4": "CLIPPER",
                                    "5": "COBOL",
                                    "6": "2800"
                                },
                                {
                                    "0": "JULIANA",
                                    "1": "1960-01-31",
                                    "2": "1990-04-21",
                                    "3": "F",
                                    "4": "COBOL",
                                    "5": "DBASE",
                                    "6": "3000"
                                },
                                {
                                    "0": "NELSON",
                                    "1": "1985-09-11",
                                    "2": "1989-10-11",
                                    "3": "M",
                                    "4": "COBOL",
                                    "5": "DBASE",
                                    "6": "2500"
                                },
                                {
                                    "0": "PATTRICK",
                                    "1": "1965-11-10",
                                    "2": "1990-04-21",
                                    "3": "M",
                                    "4": "PASCAL",
                                    "5": "CLIPPER",
                                    "6": "2800"
                                },
                                {
                                    "0": "QADIR",
                                    "1": "1965-08-31",
                                    "2": "1991-04-21",
                                    "3": "M",
                                    "4": "ASSEMBLY",
                                    "5": "C",
                                    "6": "3000"
                                },
                                {
                                    "0": "RAMESH",
                                    "1": "1967-05-03",
                                    "2": "1991-02-28",
                                    "3": "M",
                                    "4": "PASCAL",
                                    "5": "DBASE",
                                    "6": "3200"
                                },
                                {
                                    "0": "REBECCA",
                                    "1": "1967-01-01",
                                    "2": "1990-12-01",
                                    "3": "F",
                                    "4": "BASIC",
                                    "5": "COBOL",
                                    "6": "2500"
                                }
                            ],
                            "schema": {
                                "fields": [
                                    {
                                        "name": "PNAME"
                                    },
                                    {
                                        "name": "DOB"
                                    },
                                    {
                                        "name": "DOJ"
                                    },
                                    {
                                        "name": "GENDER"
                                    },
                                    {
                                        "name": "PROF1"
                                    },
                                    {
                                        "name": "PROF2"
                                    },
                                    {
                                        "name": "SALARY"
                                    }
                                ]
                            }
                        },
                        "text/html": [
                            "<table><tr><th>PNAME</th><th>DOB</th><th>DOJ</th><th>GENDER</th><th>PROF1</th><th>PROF2</th><th>SALARY</th></tr><tr><td>ANAND</td><td>1966-04-12</td><td>1992-04-21</td><td>M</td><td>PASCAL</td><td>BASIC</td><td>3200</td></tr><tr><td>ALTAF</td><td>1964-07-02</td><td>1990-11-13</td><td>M</td><td>CLIPPER</td><td>COBOL</td><td>2800</td></tr><tr><td>JULIANA</td><td>1960-01-31</td><td>1990-04-21</td><td>F</td><td>COBOL</td><td>DBASE</td><td>3000</td></tr><tr><td>NELSON</td><td>1985-09-11</td><td>1989-10-11</td><td>M</td><td>COBOL</td><td>DBASE</td><td>2500</td></tr><tr><td>PATTRICK</td><td>1965-11-10</td><td>1990-04-21</td><td>M</td><td>PASCAL</td><td>CLIPPER</td><td>2800</td></tr><tr><td>QADIR</td><td>1965-08-31</td><td>1991-04-21</td><td>M</td><td>ASSEMBLY</td><td>C</td><td>3000</td></tr><tr><td>RAMESH</td><td>1967-05-03</td><td>1991-02-28</td><td>M</td><td>PASCAL</td><td>DBASE</td><td>3200</td></tr><tr><td>REBECCA</td><td>1967-01-01</td><td>1990-12-01</td><td>F</td><td>BASIC</td><td>COBOL</td><td>2500</td></tr></table>"
                        ]
                    },
                    "execution_count": 127,
                    "metadata": {},
                    "output_type": "execute_result"
                }
            ],
            "source": [
                "-- 82. Display the details of those who are drawing the same salary. \n",
                "-- SELECT * FROM PROGRAMMER P JOIN (SELECT SALARY\n",
                "-- FROM PROGRAMMER\n",
                "-- GROUP BY SALARY HAVING COUNT(*)>1) A ON P.SALARY=A.SALARY\n",
                "\n",
                "-- SELECT SALARY\n",
                "-- FROM PROGRAMMER\n",
                "-- GROUP BY SALARY HAVING COUNT(*)>1\n",
                "\n",
                "SELECT * FROM PROGRAMMER WHERE SALARY IN (SELECT SALARY\n",
                "FROM PROGRAMMER\n",
                "GROUP BY SALARY HAVING COUNT(*)>1)"
            ]
        },
        {
            "cell_type": "code",
            "execution_count": 128,
            "metadata": {
                "azdata_cell_guid": "c7e28800-4cfa-478d-9bc3-2c0914522c84",
                "language": "sql",
                "vscode": {
                    "languageId": "sql"
                }
            },
            "outputs": [
                {
                    "data": {
                        "text/html": [
                            "(4 rows affected)"
                        ]
                    },
                    "metadata": {},
                    "output_type": "display_data"
                },
                {
                    "data": {
                        "text/html": [
                            "Total execution time: 00:00:00.009"
                        ]
                    },
                    "metadata": {},
                    "output_type": "display_data"
                },
                {
                    "data": {
                        "application/vnd.dataresource+json": {
                            "data": [
                                {
                                    "0": "ANAND",
                                    "1": "PARACHUTES",
                                    "2": "BASIC",
                                    "3": "399.95",
                                    "4": "6000",
                                    "5": "43",
                                    "6": "ANAND",
                                    "7": "1966-04-12",
                                    "8": "1992-04-21",
                                    "9": "M",
                                    "10": "PASCAL",
                                    "11": "BASIC",
                                    "12": "3200"
                                },
                                {
                                    "0": "ANAND",
                                    "1": "VIDEO TITLING",
                                    "2": "PASCAL",
                                    "3": "7500",
                                    "4": "16000",
                                    "5": "9",
                                    "6": "ANAND",
                                    "7": "1966-04-12",
                                    "8": "1992-04-21",
                                    "9": "M",
                                    "10": "PASCAL",
                                    "11": "BASIC",
                                    "12": "3200"
                                },
                                {
                                    "0": "RAMESH",
                                    "1": "HOTEL MGMT.",
                                    "2": "DBASE",
                                    "3": "13000",
                                    "4": "35000",
                                    "5": "4",
                                    "6": "RAMESH",
                                    "7": "1967-05-03",
                                    "8": "1991-02-28",
                                    "9": "M",
                                    "10": "PASCAL",
                                    "11": "DBASE",
                                    "12": "3200"
                                },
                                {
                                    "0": "RAMESH",
                                    "1": "DEAD LEE",
                                    "2": "PASCAL",
                                    "3": "599.95",
                                    "4": "4500",
                                    "5": "73",
                                    "6": "RAMESH",
                                    "7": "1967-05-03",
                                    "8": "1991-02-28",
                                    "9": "M",
                                    "10": "PASCAL",
                                    "11": "DBASE",
                                    "12": "3200"
                                }
                            ],
                            "schema": {
                                "fields": [
                                    {
                                        "name": "PNAME"
                                    },
                                    {
                                        "name": "TITLE"
                                    },
                                    {
                                        "name": "DEVELOPIN"
                                    },
                                    {
                                        "name": "SCOST"
                                    },
                                    {
                                        "name": "DCOST"
                                    },
                                    {
                                        "name": "SOLD"
                                    },
                                    {
                                        "name": "PNAME"
                                    },
                                    {
                                        "name": "DOB"
                                    },
                                    {
                                        "name": "DOJ"
                                    },
                                    {
                                        "name": "GENDER"
                                    },
                                    {
                                        "name": "PROF1"
                                    },
                                    {
                                        "name": "PROF2"
                                    },
                                    {
                                        "name": "SALARY"
                                    }
                                ]
                            }
                        },
                        "text/html": [
                            "<table><tr><th>PNAME</th><th>TITLE</th><th>DEVELOPIN</th><th>SCOST</th><th>DCOST</th><th>SOLD</th><th>PNAME</th><th>DOB</th><th>DOJ</th><th>GENDER</th><th>PROF1</th><th>PROF2</th><th>SALARY</th></tr><tr><td>ANAND</td><td>PARACHUTES</td><td>BASIC</td><td>399.95</td><td>6000</td><td>43</td><td>ANAND</td><td>1966-04-12</td><td>1992-04-21</td><td>M</td><td>PASCAL</td><td>BASIC</td><td>3200</td></tr><tr><td>ANAND</td><td>VIDEO TITLING</td><td>PASCAL</td><td>7500</td><td>16000</td><td>9</td><td>ANAND</td><td>1966-04-12</td><td>1992-04-21</td><td>M</td><td>PASCAL</td><td>BASIC</td><td>3200</td></tr><tr><td>RAMESH</td><td>HOTEL MGMT.</td><td>DBASE</td><td>13000</td><td>35000</td><td>4</td><td>RAMESH</td><td>1967-05-03</td><td>1991-02-28</td><td>M</td><td>PASCAL</td><td>DBASE</td><td>3200</td></tr><tr><td>RAMESH</td><td>DEAD LEE</td><td>PASCAL</td><td>599.95</td><td>4500</td><td>73</td><td>RAMESH</td><td>1967-05-03</td><td>1991-02-28</td><td>M</td><td>PASCAL</td><td>DBASE</td><td>3200</td></tr></table>"
                        ]
                    },
                    "execution_count": 128,
                    "metadata": {},
                    "output_type": "execute_result"
                }
            ],
            "source": [
                "-- 83. Display the details of the Software Developed by the Male Programmers Earning More than 3000/-. \n",
                "SELECT *\n",
                "FROM SOFTWARE S LEFT JOIN PROGRAMMER P ON S.PNAME=P.PNAME\n",
                "WHERE GENDER='M' AND P.SALARY>3000"
            ]
        },
        {
            "cell_type": "code",
            "execution_count": 129,
            "metadata": {
                "azdata_cell_guid": "1322c06d-22f9-42f4-9bb0-bc5709fedf41",
                "language": "sql",
                "tags": [],
                "vscode": {
                    "languageId": "sql"
                }
            },
            "outputs": [
                {
                    "data": {
                        "text/html": [
                            "(1 row affected)"
                        ]
                    },
                    "metadata": {},
                    "output_type": "display_data"
                },
                {
                    "data": {
                        "text/html": [
                            "Total execution time: 00:00:00.010"
                        ]
                    },
                    "metadata": {},
                    "output_type": "display_data"
                },
                {
                    "data": {
                        "application/vnd.dataresource+json": {
                            "data": [
                                {
                                    "0": "REVATHI",
                                    "1": "HOSPITAL MGMT.",
                                    "2": "PASCAL",
                                    "3": "1100",
                                    "4": "75000",
                                    "5": "2",
                                    "6": "REVATHI",
                                    "7": "1969-12-02",
                                    "8": "1992-01-02",
                                    "9": "F",
                                    "10": "PASCAL",
                                    "11": "BASIC",
                                    "12": "3700"
                                }
                            ],
                            "schema": {
                                "fields": [
                                    {
                                        "name": "PNAME"
                                    },
                                    {
                                        "name": "TITLE"
                                    },
                                    {
                                        "name": "DEVELOPIN"
                                    },
                                    {
                                        "name": "SCOST"
                                    },
                                    {
                                        "name": "DCOST"
                                    },
                                    {
                                        "name": "SOLD"
                                    },
                                    {
                                        "name": "PNAME"
                                    },
                                    {
                                        "name": "DOB"
                                    },
                                    {
                                        "name": "DOJ"
                                    },
                                    {
                                        "name": "GENDER"
                                    },
                                    {
                                        "name": "PROF1"
                                    },
                                    {
                                        "name": "PROF2"
                                    },
                                    {
                                        "name": "SALARY"
                                    }
                                ]
                            }
                        },
                        "text/html": [
                            "<table><tr><th>PNAME</th><th>TITLE</th><th>DEVELOPIN</th><th>SCOST</th><th>DCOST</th><th>SOLD</th><th>PNAME</th><th>DOB</th><th>DOJ</th><th>GENDER</th><th>PROF1</th><th>PROF2</th><th>SALARY</th></tr><tr><td>REVATHI</td><td>HOSPITAL MGMT.</td><td>PASCAL</td><td>1100</td><td>75000</td><td>2</td><td>REVATHI</td><td>1969-12-02</td><td>1992-01-02</td><td>F</td><td>PASCAL</td><td>BASIC</td><td>3700</td></tr></table>"
                        ]
                    },
                    "execution_count": 129,
                    "metadata": {},
                    "output_type": "execute_result"
                }
            ],
            "source": [
                "-- 84. Display the details of the packages developed in Pascal by the Female Programmers. \n",
                "SELECT * FROM SOFTWARE S JOIN PROGRAMMER P ON S.PNAME=P.PNAME WHERE DEVELOPIN='PASCAL' AND GENDER='F'"
            ]
        },
        {
            "cell_type": "code",
            "execution_count": 130,
            "metadata": {
                "azdata_cell_guid": "6a0bb7a7-4893-4766-87c0-6407b0db8d00",
                "language": "sql",
                "vscode": {
                    "languageId": "sql"
                }
            },
            "outputs": [
                {
                    "data": {
                        "text/html": [
                            "(1 row affected)"
                        ]
                    },
                    "metadata": {},
                    "output_type": "display_data"
                },
                {
                    "data": {
                        "text/html": [
                            "Total execution time: 00:00:00.008"
                        ]
                    },
                    "metadata": {},
                    "output_type": "display_data"
                },
                {
                    "data": {
                        "application/vnd.dataresource+json": {
                            "data": [
                                {
                                    "0": "NELSON",
                                    "1": "1985-09-11",
                                    "2": "1989-10-11",
                                    "3": "M",
                                    "4": "COBOL",
                                    "5": "DBASE",
                                    "6": "2500"
                                }
                            ],
                            "schema": {
                                "fields": [
                                    {
                                        "name": "PNAME"
                                    },
                                    {
                                        "name": "DOB"
                                    },
                                    {
                                        "name": "DOJ"
                                    },
                                    {
                                        "name": "GENDER"
                                    },
                                    {
                                        "name": "PROF1"
                                    },
                                    {
                                        "name": "PROF2"
                                    },
                                    {
                                        "name": "SALARY"
                                    }
                                ]
                            }
                        },
                        "text/html": [
                            "<table><tr><th>PNAME</th><th>DOB</th><th>DOJ</th><th>GENDER</th><th>PROF1</th><th>PROF2</th><th>SALARY</th></tr><tr><td>NELSON</td><td>1985-09-11</td><td>1989-10-11</td><td>M</td><td>COBOL</td><td>DBASE</td><td>2500</td></tr></table>"
                        ]
                    },
                    "execution_count": 130,
                    "metadata": {},
                    "output_type": "execute_result"
                }
            ],
            "source": [
                "-- 85. Display the details of the Programmers who joined before 1990. \n",
                "SELECT * FROM PROGRAMMER WHERE YEAR(DOJ) < 1990"
            ]
        },
        {
            "cell_type": "code",
            "execution_count": 131,
            "metadata": {
                "azdata_cell_guid": "4a4f95c0-d507-44b8-87b4-2895b7227e0c",
                "language": "sql",
                "vscode": {
                    "languageId": "sql"
                }
            },
            "outputs": [
                {
                    "data": {
                        "text/html": [
                            "(0 rows affected)"
                        ]
                    },
                    "metadata": {},
                    "output_type": "display_data"
                },
                {
                    "data": {
                        "text/html": [
                            "Total execution time: 00:00:00.011"
                        ]
                    },
                    "metadata": {},
                    "output_type": "display_data"
                },
                {
                    "data": {
                        "application/vnd.dataresource+json": {
                            "data": [],
                            "schema": {
                                "fields": [
                                    {
                                        "name": "PNAME"
                                    },
                                    {
                                        "name": "TITLE"
                                    },
                                    {
                                        "name": "DEVELOPIN"
                                    },
                                    {
                                        "name": "SCOST"
                                    },
                                    {
                                        "name": "DCOST"
                                    },
                                    {
                                        "name": "SOLD"
                                    },
                                    {
                                        "name": "PNAME"
                                    },
                                    {
                                        "name": "DOB"
                                    },
                                    {
                                        "name": "DOJ"
                                    },
                                    {
                                        "name": "GENDER"
                                    },
                                    {
                                        "name": "PROF1"
                                    },
                                    {
                                        "name": "PROF2"
                                    },
                                    {
                                        "name": "SALARY"
                                    },
                                    {
                                        "name": "PNAME"
                                    },
                                    {
                                        "name": "INSTITUTE"
                                    },
                                    {
                                        "name": "COURSE"
                                    },
                                    {
                                        "name": "COURSE FEE"
                                    }
                                ]
                            }
                        },
                        "text/html": [
                            "<table><tr><th>PNAME</th><th>TITLE</th><th>DEVELOPIN</th><th>SCOST</th><th>DCOST</th><th>SOLD</th><th>PNAME</th><th>DOB</th><th>DOJ</th><th>GENDER</th><th>PROF1</th><th>PROF2</th><th>SALARY</th><th>PNAME</th><th>INSTITUTE</th><th>COURSE</th><th>COURSE FEE</th></tr></table>"
                        ]
                    },
                    "execution_count": 131,
                    "metadata": {},
                    "output_type": "execute_result"
                }
            ],
            "source": [
                "-- 86. Display the details of the Software Developed in C By female programmers of Pragathi. \n",
                "SELECT *\n",
                "FROM SOFTWARE SS JOIN PROGRAMMER P ON SS.PNAME=P.PNAME JOIN STUDIES S ON P.PNAME=S.PNAME\n",
                "WHERE INSTITUTE='Pragathi' AND GENDER='F' AND DEVELOPIN='C'"
            ]
        },
        {
            "cell_type": "code",
            "execution_count": 7,
            "metadata": {
                "azdata_cell_guid": "02dd8919-bddd-48c5-b1ad-f007586852b2",
                "language": "sql",
                "vscode": {
                    "languageId": "sql"
                }
            },
            "outputs": [
                {
                    "data": {
                        "text/html": [
                            "(9 rows affected)"
                        ]
                    },
                    "metadata": {},
                    "output_type": "display_data"
                },
                {
                    "data": {
                        "text/html": [
                            "Total execution time: 00:00:00.061"
                        ]
                    },
                    "metadata": {},
                    "output_type": "display_data"
                },
                {
                    "data": {
                        "application/vnd.dataresource+json": {
                            "data": [
                                {
                                    "0": "APPLE",
                                    "1": "QADIR",
                                    "2": "2",
                                    "3": "32",
                                    "4": "2650"
                                },
                                {
                                    "0": "BDPS",
                                    "1": "JULIANA",
                                    "2": "1",
                                    "3": "0",
                                    "4": "3000"
                                },
                                {
                                    "0": "BDPS",
                                    "1": "REMITHA",
                                    "2": "2",
                                    "3": "58",
                                    "4": "3225"
                                },
                                {
                                    "0": "BDPS",
                                    "1": "VIJAYA",
                                    "2": "1",
                                    "3": "6",
                                    "4": "900"
                                },
                                {
                                    "0": "PRAGATHI",
                                    "1": "KAMALA",
                                    "2": "1",
                                    "3": "7",
                                    "4": "9000"
                                },
                                {
                                    "0": "SABHARI",
                                    "1": "ANAND",
                                    "2": "2",
                                    "3": "52",
                                    "4": "7899.95"
                                },
                                {
                                    "0": "SABHARI",
                                    "1": "MARY",
                                    "2": "3",
                                    "3": "111",
                                    "4": "22800"
                                },
                                {
                                    "0": "SABHARI",
                                    "1": "RAMESH",
                                    "2": "2",
                                    "3": "77",
                                    "4": "13599.95"
                                },
                                {
                                    "0": "SABHARI",
                                    "1": "REVATHI",
                                    "2": "1",
                                    "3": "2",
                                    "4": "1100"
                                }
                            ],
                            "schema": {
                                "fields": [
                                    {
                                        "name": "INSTITUTE"
                                    },
                                    {
                                        "name": "PNAME"
                                    },
                                    {
                                        "name": "NO_OF_PACKAGES"
                                    },
                                    {
                                        "name": "NO_OF_COPIES_SOLD"
                                    },
                                    {
                                        "name": "SALES_VALUE"
                                    }
                                ]
                            }
                        },
                        "text/html": [
                            "<table><tr><th>INSTITUTE</th><th>PNAME</th><th>NO_OF_PACKAGES</th><th>NO_OF_COPIES_SOLD</th><th>SALES_VALUE</th></tr><tr><td>APPLE</td><td>QADIR</td><td>2</td><td>32</td><td>2650</td></tr><tr><td>BDPS</td><td>JULIANA</td><td>1</td><td>0</td><td>3000</td></tr><tr><td>BDPS</td><td>REMITHA</td><td>2</td><td>58</td><td>3225</td></tr><tr><td>BDPS</td><td>VIJAYA</td><td>1</td><td>6</td><td>900</td></tr><tr><td>PRAGATHI</td><td>KAMALA</td><td>1</td><td>7</td><td>9000</td></tr><tr><td>SABHARI</td><td>ANAND</td><td>2</td><td>52</td><td>7899.95</td></tr><tr><td>SABHARI</td><td>MARY</td><td>3</td><td>111</td><td>22800</td></tr><tr><td>SABHARI</td><td>RAMESH</td><td>2</td><td>77</td><td>13599.95</td></tr><tr><td>SABHARI</td><td>REVATHI</td><td>1</td><td>2</td><td>1100</td></tr></table>"
                        ]
                    },
                    "execution_count": 7,
                    "metadata": {},
                    "output_type": "execute_result"
                }
            ],
            "source": [
                "-- 87. Display the number of packages, No. of Copies Sold and sales value of each programmer institute wise.\n",
                "SELECT S.INSTITUTE,SS.PNAME,\n",
                "    COUNT(title) AS NO_OF_PACKAGES, \n",
                "    SUM(SOLD) AS NO_OF_COPIES_SOLD, \n",
                "    SUM(SCOST) AS SALES_VALUE\n",
                "FROM SOFTWARE SS\n",
                "JOIN STUDIES S ON SS.PNAME=S.PNAME\n",
                "GROUP BY S.INSTITUTE,SS.PNAME"
            ]
        },
        {
            "cell_type": "code",
            "execution_count": 13,
            "metadata": {
                "azdata_cell_guid": "e4d7fa00-2a77-47da-ae74-b91176e07f6e",
                "language": "sql",
                "vscode": {
                    "languageId": "sql"
                }
            },
            "outputs": [
                {
                    "data": {
                        "text/html": [
                            "(1 row affected)"
                        ]
                    },
                    "metadata": {},
                    "output_type": "display_data"
                },
                {
                    "data": {
                        "text/html": [
                            "Total execution time: 00:00:00.018"
                        ]
                    },
                    "metadata": {},
                    "output_type": "display_data"
                },
                {
                    "data": {
                        "application/vnd.dataresource+json": {
                            "data": [
                                {
                                    "0": "HOTEL MGMT.",
                                    "1": "DBASE",
                                    "2": "13000",
                                    "3": "35000",
                                    "4": "RAMESH",
                                    "5": "4"
                                }
                            ],
                            "schema": {
                                "fields": [
                                    {
                                        "name": "TITLE"
                                    },
                                    {
                                        "name": "DEVELOPIN"
                                    },
                                    {
                                        "name": "SCOST"
                                    },
                                    {
                                        "name": "DCOST"
                                    },
                                    {
                                        "name": "PNAME"
                                    },
                                    {
                                        "name": "SOLD"
                                    }
                                ]
                            }
                        },
                        "text/html": [
                            "<table><tr><th>TITLE</th><th>DEVELOPIN</th><th>SCOST</th><th>DCOST</th><th>PNAME</th><th>SOLD</th></tr><tr><td>HOTEL MGMT.</td><td>DBASE</td><td>13000</td><td>35000</td><td>RAMESH</td><td>4</td></tr></table>"
                        ]
                    },
                    "execution_count": 13,
                    "metadata": {},
                    "output_type": "execute_result"
                }
            ],
            "source": [
                "-- 88. Display the details of the software developed in DBASE by Male Programmers, who \n",
                "-- belong to the institute in which most number of Programmers studied. \n",
                "SELECT S.TITLE,S.DEVELOPIN,S.SCOST,S.DCOST,S.PNAME,S.SOLD\n",
                "FROM SOFTWARE S LEFT JOIN PROGRAMMER P ON S.PNAME=P.PNAME LEFT JOIN STUDIES SS ON S.PNAME=SS.PNAME\n",
                "WHERE S.DEVELOPIN='DBASE' AND P.GENDER='M' AND INSTITUTE IN (SELECT INSTITUTE\n",
                "    FROM (SELECT INSTITUTE, RANK()OVER(ORDER BY COUNT(*) DESC) AS RANK\n",
                "        FROM STUDIES\n",
                "        GROUP BY INSTITUTE) A\n",
                "    WHERE RANK=1)\n",
                "\n"
            ]
        },
        {
            "cell_type": "code",
            "execution_count": 19,
            "metadata": {
                "azdata_cell_guid": "02f35d13-1efd-4ac1-bad6-f491946a1030",
                "language": "sql",
                "vscode": {
                    "languageId": "sql"
                }
            },
            "outputs": [
                {
                    "data": {
                        "text/html": [
                            "(1 row affected)"
                        ]
                    },
                    "metadata": {},
                    "output_type": "display_data"
                },
                {
                    "data": {
                        "text/html": [
                            "Total execution time: 00:00:00.009"
                        ]
                    },
                    "metadata": {},
                    "output_type": "display_data"
                },
                {
                    "data": {
                        "application/vnd.dataresource+json": {
                            "data": [
                                {
                                    "0": "JULIANA",
                                    "1": "INVENTORY",
                                    "2": "COBOL",
                                    "3": "3000",
                                    "4": "3500",
                                    "5": "0",
                                    "6": "JULIANA",
                                    "7": "1960-01-31",
                                    "8": "1990-04-21",
                                    "9": "F",
                                    "10": "COBOL",
                                    "11": "DBASE",
                                    "12": "3000"
                                }
                            ],
                            "schema": {
                                "fields": [
                                    {
                                        "name": "PNAME"
                                    },
                                    {
                                        "name": "TITLE"
                                    },
                                    {
                                        "name": "DEVELOPIN"
                                    },
                                    {
                                        "name": "SCOST"
                                    },
                                    {
                                        "name": "DCOST"
                                    },
                                    {
                                        "name": "SOLD"
                                    },
                                    {
                                        "name": "PNAME"
                                    },
                                    {
                                        "name": "DOB"
                                    },
                                    {
                                        "name": "DOJ"
                                    },
                                    {
                                        "name": "GENDER"
                                    },
                                    {
                                        "name": "PROF1"
                                    },
                                    {
                                        "name": "PROF2"
                                    },
                                    {
                                        "name": "SALARY"
                                    }
                                ]
                            }
                        },
                        "text/html": [
                            "<table><tr><th>PNAME</th><th>TITLE</th><th>DEVELOPIN</th><th>SCOST</th><th>DCOST</th><th>SOLD</th><th>PNAME</th><th>DOB</th><th>DOJ</th><th>GENDER</th><th>PROF1</th><th>PROF2</th><th>SALARY</th></tr><tr><td>JULIANA</td><td>INVENTORY</td><td>COBOL</td><td>3000</td><td>3500</td><td>0</td><td>JULIANA</td><td>1960-01-31</td><td>1990-04-21</td><td>F</td><td>COBOL</td><td>DBASE</td><td>3000</td></tr></table>"
                        ]
                    },
                    "execution_count": 19,
                    "metadata": {},
                    "output_type": "execute_result"
                }
            ],
            "source": [
                "-- 89. Display the details of the software Developed by the male programmers Born before 1965 and female programmers born after 1975. \n",
                "SELECT *\n",
                "FROM SOFTWARE S LEFT JOIN PROGRAMMER P ON S.PNAME=P.PNAME\n",
                "WHERE (GENDER='M' AND YEAR(DOB)<1965) OR (GENDER='F' AND YEAR(DOB)>1975)"
            ]
        },
        {
            "cell_type": "code",
            "execution_count": 3,
            "metadata": {
                "azdata_cell_guid": "e90bd77f-c803-4eec-9aea-ed1595432391",
                "language": "sql",
                "vscode": {
                    "languageId": "sql"
                }
            },
            "outputs": [
                {
                    "data": {
                        "text/html": [
                            "(2 rows affected)"
                        ]
                    },
                    "metadata": {},
                    "output_type": "display_data"
                },
                {
                    "data": {
                        "text/html": [
                            "Total execution time: 00:00:00.007"
                        ]
                    },
                    "metadata": {},
                    "output_type": "display_data"
                },
                {
                    "data": {
                        "application/vnd.dataresource+json": {
                            "data": [
                                {
                                    "0": "CODE GENERATOR",
                                    "1": "C",
                                    "2": "MARY",
                                    "3": "4500",
                                    "4": "20000",
                                    "5": "23"
                                },
                                {
                                    "0": "README",
                                    "1": "CPP",
                                    "2": "PATTRICK",
                                    "3": "300",
                                    "4": "1200",
                                    "5": "84"
                                }
                            ],
                            "schema": {
                                "fields": [
                                    {
                                        "name": "TITLE"
                                    },
                                    {
                                        "name": "DEVELOPIN"
                                    },
                                    {
                                        "name": "PNAME"
                                    },
                                    {
                                        "name": "SCOST"
                                    },
                                    {
                                        "name": "DCOST"
                                    },
                                    {
                                        "name": "SOLD"
                                    }
                                ]
                            }
                        },
                        "text/html": [
                            "<table><tr><th>TITLE</th><th>DEVELOPIN</th><th>PNAME</th><th>SCOST</th><th>DCOST</th><th>SOLD</th></tr><tr><td>CODE GENERATOR</td><td>C</td><td>MARY</td><td>4500</td><td>20000</td><td>23</td></tr><tr><td>README</td><td>CPP</td><td>PATTRICK</td><td>300</td><td>1200</td><td>84</td></tr></table>"
                        ]
                    },
                    "execution_count": 3,
                    "metadata": {},
                    "output_type": "execute_result"
                }
            ],
            "source": [
                "-- 90. Display the details of the software that has developed in the language which is neither \n",
                "-- the first nor the second proficiency of the programmers. \n",
                "SELECT S.TITLE,S.DEVELOPIN,S.PNAME,S.SCOST,S.DCOST,S.SOLD\n",
                "FROM SOFTWARE S LEFT JOIN PROGRAMMER P ON S.PNAME=P.PNAME WHERE S.DEVELOPIN NOT IN(PROF1,PROF2)\n"
            ]
        },
        {
            "cell_type": "code",
            "execution_count": 9,
            "metadata": {
                "azdata_cell_guid": "c711919f-a5c7-4430-8946-9cd5810864cb",
                "language": "sql",
                "vscode": {
                    "languageId": "sql"
                }
            },
            "outputs": [
                {
                    "data": {
                        "text/html": [
                            "(3 rows affected)"
                        ]
                    },
                    "metadata": {},
                    "output_type": "display_data"
                },
                {
                    "data": {
                        "text/html": [
                            "Total execution time: 00:00:00.008"
                        ]
                    },
                    "metadata": {},
                    "output_type": "display_data"
                },
                {
                    "data": {
                        "application/vnd.dataresource+json": {
                            "data": [
                                {
                                    "0": "ALTAF"
                                },
                                {
                                    "0": "NELSON"
                                },
                                {
                                    "0": "REBECCA"
                                }
                            ],
                            "schema": {
                                "fields": [
                                    {
                                        "name": "PNAME"
                                    }
                                ]
                            }
                        },
                        "text/html": [
                            "<table><tr><th>PNAME</th></tr><tr><td>ALTAF</td></tr><tr><td>NELSON</td></tr><tr><td>REBECCA</td></tr></table>"
                        ]
                    },
                    "execution_count": 9,
                    "metadata": {},
                    "output_type": "execute_result"
                }
            ],
            "source": [
                "-- 92. Display the names of the programmers who have not developed any packages.\n",
                "SELECT P.PNAME FROM PROGRAMMER P LEFT JOIN SOFTWARE S ON P.PNAME=S.PNAME WHERE TITLE IS NULL\n"
            ]
        },
        {
            "cell_type": "code",
            "execution_count": 23,
            "metadata": {
                "azdata_cell_guid": "3999edea-245f-4d6b-bc4e-f31facd65f45",
                "language": "sql",
                "tags": [],
                "vscode": {
                    "languageId": "sql"
                }
            },
            "outputs": [
                {
                    "data": {
                        "text/html": [
                            "(1 row affected)"
                        ]
                    },
                    "metadata": {},
                    "output_type": "display_data"
                },
                {
                    "data": {
                        "text/html": [
                            "Total execution time: 00:00:00.008"
                        ]
                    },
                    "metadata": {},
                    "output_type": "display_data"
                },
                {
                    "data": {
                        "application/vnd.dataresource+json": {
                            "data": [
                                {
                                    "0": "6100"
                                }
                            ],
                            "schema": {
                                "fields": [
                                    {
                                        "name": "(No column name)"
                                    }
                                ]
                            }
                        },
                        "text/html": [
                            "<table><tr><th>(No column name)</th></tr><tr><td>6100</td></tr></table>"
                        ]
                    },
                    "execution_count": 23,
                    "metadata": {},
                    "output_type": "execute_result"
                }
            ],
            "source": [
                "-- 93. What is the total cost of the Software developed by the programmers of Apple? \n",
                "SELECT SUM(DCOST) AS TOTAL_DCOST\n",
                "FROM SOFTWARE S LEFT JOIN STUDIES SS ON S.PNAME=SS.PNAME\n",
                "WHERE INSTITUTE='Apple'"
            ]
        },
        {
            "cell_type": "code",
            "execution_count": 28,
            "metadata": {
                "azdata_cell_guid": "dca39e00-9b0d-45b7-91e4-3181d942ec36",
                "language": "sql",
                "tags": [],
                "vscode": {
                    "languageId": "sql"
                }
            },
            "outputs": [
                {
                    "data": {
                        "text/html": [
                            "(4 rows affected)"
                        ]
                    },
                    "metadata": {},
                    "output_type": "display_data"
                },
                {
                    "data": {
                        "text/html": [
                            "Total execution time: 00:00:00.009"
                        ]
                    },
                    "metadata": {},
                    "output_type": "display_data"
                },
                {
                    "data": {
                        "application/vnd.dataresource+json": {
                            "data": [
                                {
                                    "0": "JULIANA",
                                    "1": "1990-04-21"
                                },
                                {
                                    "0": "PATTRICK",
                                    "1": "1990-04-21"
                                },
                                {
                                    "0": "REVATHI",
                                    "1": "1992-01-02"
                                },
                                {
                                    "0": "KAMALA",
                                    "1": "1992-01-02"
                                }
                            ],
                            "schema": {
                                "fields": [
                                    {
                                        "name": "PNAME"
                                    },
                                    {
                                        "name": "DOJ"
                                    }
                                ]
                            }
                        },
                        "text/html": [
                            "<table><tr><th>PNAME</th><th>DOJ</th></tr><tr><td>JULIANA</td><td>1990-04-21</td></tr><tr><td>PATTRICK</td><td>1990-04-21</td></tr><tr><td>REVATHI</td><td>1992-01-02</td></tr><tr><td>KAMALA</td><td>1992-01-02</td></tr></table>"
                        ]
                    },
                    "execution_count": 28,
                    "metadata": {},
                    "output_type": "execute_result"
                }
            ],
            "source": [
                "-- 94. Who are the programmers who joined on the same day? \n",
                "SELECT PNAME,DOJ\n",
                "FROM PROGRAMMER\n",
                "WHERE DOJ IN (\n",
                "SELECT DOJ\n",
                "FROM PROGRAMMER\n",
                "GROUP BY DOJ\n",
                "HAVING COUNT(*)>1\n",
                ")\n",
                "ORDER BY DOJ"
            ]
        },
        {
            "cell_type": "code",
            "execution_count": 34,
            "metadata": {
                "azdata_cell_guid": "11c2a9d8-ffc9-47c9-94f8-79667691d785",
                "language": "sql",
                "vscode": {
                    "languageId": "sql"
                }
            },
            "outputs": [
                {
                    "data": {
                        "text/html": [
                            "(10 rows affected)"
                        ]
                    },
                    "metadata": {},
                    "output_type": "display_data"
                },
                {
                    "data": {
                        "text/html": [
                            "Total execution time: 00:00:00.010"
                        ]
                    },
                    "metadata": {},
                    "output_type": "display_data"
                },
                {
                    "data": {
                        "application/vnd.dataresource+json": {
                            "data": [
                                {
                                    "0": "ANAND",
                                    "1": "BASIC"
                                },
                                {
                                    "0": "REVATHI",
                                    "1": "BASIC"
                                },
                                {
                                    "0": "VIJAYA",
                                    "1": "C"
                                },
                                {
                                    "0": "QADIR",
                                    "1": "C"
                                },
                                {
                                    "0": "ALTAF",
                                    "1": "COBOL"
                                },
                                {
                                    "0": "REBECCA",
                                    "1": "COBOL"
                                },
                                {
                                    "0": "JULIANA",
                                    "1": "DBASE"
                                },
                                {
                                    "0": "KAMALA",
                                    "1": "DBASE"
                                },
                                {
                                    "0": "NELSON",
                                    "1": "DBASE"
                                },
                                {
                                    "0": "RAMESH",
                                    "1": "DBASE"
                                }
                            ],
                            "schema": {
                                "fields": [
                                    {
                                        "name": "PNAME"
                                    },
                                    {
                                        "name": "PROF2"
                                    }
                                ]
                            }
                        },
                        "text/html": [
                            "<table><tr><th>PNAME</th><th>PROF2</th></tr><tr><td>ANAND</td><td>BASIC</td></tr><tr><td>REVATHI</td><td>BASIC</td></tr><tr><td>VIJAYA</td><td>C</td></tr><tr><td>QADIR</td><td>C</td></tr><tr><td>ALTAF</td><td>COBOL</td></tr><tr><td>REBECCA</td><td>COBOL</td></tr><tr><td>JULIANA</td><td>DBASE</td></tr><tr><td>KAMALA</td><td>DBASE</td></tr><tr><td>NELSON</td><td>DBASE</td></tr><tr><td>RAMESH</td><td>DBASE</td></tr></table>"
                        ]
                    },
                    "execution_count": 34,
                    "metadata": {},
                    "output_type": "execute_result"
                }
            ],
            "source": [
                "-- 95. Who are the programmers who have the same Prof2? \n",
                "\n",
                "SELECT PNAME,PROF2\n",
                "FROM PROGRAMMER\n",
                "WHERE PROF2 IN (\n",
                "    SELECT PROF2\n",
                "FROM PROGRAMMER\n",
                "GROUP BY PROF2\n",
                "HAVING COUNT(*)>1\n",
                ")\n",
                "ORDER BY PROF2"
            ]
        },
        {
            "cell_type": "code",
            "execution_count": 36,
            "metadata": {
                "azdata_cell_guid": "3fcfec14-20ca-4292-a7fa-9b341ff1aeb7",
                "language": "sql",
                "vscode": {
                    "languageId": "sql"
                }
            },
            "outputs": [
                {
                    "data": {
                        "text/html": [
                            "(5 rows affected)"
                        ]
                    },
                    "metadata": {},
                    "output_type": "display_data"
                },
                {
                    "data": {
                        "text/html": [
                            "Total execution time: 00:00:00.008"
                        ]
                    },
                    "metadata": {},
                    "output_type": "display_data"
                },
                {
                    "data": {
                        "application/vnd.dataresource+json": {
                            "data": [
                                {
                                    "0": "NULL",
                                    "1": "25200"
                                },
                                {
                                    "0": "APPLE",
                                    "1": "48150"
                                },
                                {
                                    "0": "BDPS",
                                    "1": "59875"
                                },
                                {
                                    "0": "PRAGATHI",
                                    "1": "63000"
                                },
                                {
                                    "0": "SABHARI",
                                    "1": "383394.19999999995"
                                }
                            ],
                            "schema": {
                                "fields": [
                                    {
                                        "name": "INSTITUTE"
                                    },
                                    {
                                        "name": "TOTAL_SALES"
                                    }
                                ]
                            }
                        },
                        "text/html": [
                            "<table><tr><th>INSTITUTE</th><th>TOTAL_SALES</th></tr><tr><td>NULL</td><td>25200</td></tr><tr><td>APPLE</td><td>48150</td></tr><tr><td>BDPS</td><td>59875</td></tr><tr><td>PRAGATHI</td><td>63000</td></tr><tr><td>SABHARI</td><td>383394.19999999995</td></tr></table>"
                        ]
                    },
                    "execution_count": 36,
                    "metadata": {},
                    "output_type": "execute_result"
                }
            ],
            "source": [
                "-- 96. Display the total sales value of the software, institute wise. \n",
                "SELECT INSTITUTE, SUM(SOLD*SCOST) AS TOTAL_SALES\n",
                "FROM SOFTWARE S LEFT JOIN STUDIES SS ON S.PNAME=SS.PNAME\n",
                "GROUP BY INSTITUTE"
            ]
        },
        {
            "cell_type": "code",
            "execution_count": 40,
            "metadata": {
                "azdata_cell_guid": "dd1df743-16ae-4afe-8114-0499780e2371",
                "language": "sql",
                "vscode": {
                    "languageId": "sql"
                }
            },
            "outputs": [
                {
                    "data": {
                        "text/html": [
                            "(1 row affected)"
                        ]
                    },
                    "metadata": {},
                    "output_type": "display_data"
                },
                {
                    "data": {
                        "text/html": [
                            "Total execution time: 00:00:00.009"
                        ]
                    },
                    "metadata": {},
                    "output_type": "display_data"
                },
                {
                    "data": {
                        "application/vnd.dataresource+json": {
                            "data": [
                                {
                                    "0": "MARY",
                                    "1": "SABHARI"
                                }
                            ],
                            "schema": {
                                "fields": [
                                    {
                                        "name": "PNAME"
                                    },
                                    {
                                        "name": "INSTITUTE"
                                    }
                                ]
                            }
                        },
                        "text/html": [
                            "<table><tr><th>PNAME</th><th>INSTITUTE</th></tr><tr><td>MARY</td><td>SABHARI</td></tr></table>"
                        ]
                    },
                    "execution_count": 40,
                    "metadata": {},
                    "output_type": "execute_result"
                }
            ],
            "source": [
                "-- 97. In which institute does the person who developed the costliest package studied. \n",
                "SELECT S.PNAME, SS.INSTITUTE\n",
                "FROM SOFTWARE S LEFT JOIN STUDIES SS ON S.PNAME=SS.PNAME\n",
                "WHERE S.SCOST=(SELECT MAX(SCOST)\n",
                "FROM SOFTWARE)"
            ]
        },
        {
            "cell_type": "code",
            "execution_count": 49,
            "metadata": {
                "azdata_cell_guid": "3490d4cd-55c6-44e6-8f2d-0ed20adc34e3",
                "language": "sql",
                "vscode": {
                    "languageId": "sql"
                }
            },
            "outputs": [
                {
                    "data": {
                        "text/html": [
                            "(2 rows affected)"
                        ]
                    },
                    "metadata": {},
                    "output_type": "display_data"
                },
                {
                    "data": {
                        "text/html": [
                            "Total execution time: 00:00:00.009"
                        ]
                    },
                    "metadata": {},
                    "output_type": "display_data"
                },
                {
                    "data": {
                        "application/vnd.dataresource+json": {
                            "data": [
                                {
                                    "0": "CLIPPER"
                                },
                                {
                                    "0": "FOXPRO"
                                }
                            ],
                            "schema": {
                                "fields": [
                                    {
                                        "name": "PROF1"
                                    }
                                ]
                            }
                        },
                        "text/html": [
                            "<table><tr><th>PROF1</th></tr><tr><td>CLIPPER</td></tr><tr><td>FOXPRO</td></tr></table>"
                        ]
                    },
                    "execution_count": 49,
                    "metadata": {},
                    "output_type": "execute_result"
                }
            ],
            "source": [
                "-- 98. Which language listed in prof1, prof2 has not been used to develop any package. \n",
                "(SELECT PROF1 FROM PROGRAMMER UNION SELECT PROF2 FROM PROGRAMMER)\n",
                "EXCEPT\n",
                "(SELECT DEVELOPIN FROM SOFTWARE)\n"
            ]
        },
        {
            "cell_type": "code",
            "execution_count": 4,
            "metadata": {
                "azdata_cell_guid": "aa6d1fb5-53f0-45e3-8975-d9876a9896ff",
                "language": "sql",
                "vscode": {
                    "languageId": "sql"
                }
            },
            "outputs": [
                {
                    "data": {
                        "text/html": [
                            "(1 row affected)"
                        ]
                    },
                    "metadata": {},
                    "output_type": "display_data"
                },
                {
                    "data": {
                        "text/html": [
                            "Total execution time: 00:00:00.013"
                        ]
                    },
                    "metadata": {},
                    "output_type": "display_data"
                },
                {
                    "data": {
                        "application/vnd.dataresource+json": {
                            "data": [
                                {
                                    "0": "MARY",
                                    "1": "4500",
                                    "2": "PGDCA"
                                }
                            ],
                            "schema": {
                                "fields": [
                                    {
                                        "name": "PNAME"
                                    },
                                    {
                                        "name": "SALARY"
                                    },
                                    {
                                        "name": "COURSE"
                                    }
                                ]
                            }
                        },
                        "text/html": [
                            "<table><tr><th>PNAME</th><th>SALARY</th><th>COURSE</th></tr><tr><td>MARY</td><td>4500</td><td>PGDCA</td></tr></table>"
                        ]
                    },
                    "execution_count": 4,
                    "metadata": {},
                    "output_type": "execute_result"
                }
            ],
            "source": [
                "-- 99. How much does the person who developed the highest selling package earn and what course did HE/SHE undergo. \n",
                "SELECT S.PNAME, SALARY, SS.COURSE\n",
                "FROM SOFTWARE S JOIN PROGRAMMER P ON S.PNAME=P.PNAME JOIN STUDIES SS ON S.PNAME=SS.PNAME\n",
                "WHERE SOLD=(SELECT MAX(SOLD)\n",
                "FROM SOFTWARE)"
            ]
        },
        {
            "cell_type": "code",
            "execution_count": 5,
            "metadata": {
                "azdata_cell_guid": "15441bc2-91bf-488b-a21f-e45cfba5455b",
                "language": "sql",
                "vscode": {
                    "languageId": "sql"
                }
            },
            "outputs": [
                {
                    "data": {
                        "text/html": [
                            "(1 row affected)"
                        ]
                    },
                    "metadata": {},
                    "output_type": "display_data"
                },
                {
                    "data": {
                        "text/html": [
                            "Total execution time: 00:00:00.007"
                        ]
                    },
                    "metadata": {},
                    "output_type": "display_data"
                },
                {
                    "data": {
                        "application/vnd.dataresource+json": {
                            "data": [
                                {
                                    "0": "3660"
                                }
                            ],
                            "schema": {
                                "fields": [
                                    {
                                        "name": "(No column name)"
                                    }
                                ]
                            }
                        },
                        "text/html": [
                            "<table><tr><th>(No column name)</th></tr><tr><td>3660</td></tr></table>"
                        ]
                    },
                    "execution_count": 5,
                    "metadata": {},
                    "output_type": "execute_result"
                }
            ],
            "source": [
                "-- 100. What is the AVG salary for those whose software sales is more than 50,000/-. \n",
                "SELECT AVG(SALARY) FROM PROGRAMMER P LEFT JOIN SOFTWARE S ON P.PNAME=S.PNAME WHERE (SOLD*SCOST)>50000"
            ]
        },
        {
            "cell_type": "code",
            "execution_count": 20,
            "metadata": {
                "azdata_cell_guid": "5885d1d0-80be-457b-9ed8-140d2b55a35c",
                "language": "sql",
                "tags": [],
                "vscode": {
                    "languageId": "sql"
                }
            },
            "outputs": [
                {
                    "data": {
                        "text/html": [
                            "(1 row affected)"
                        ]
                    },
                    "metadata": {},
                    "output_type": "display_data"
                },
                {
                    "data": {
                        "text/html": [
                            "Total execution time: 00:00:00.024"
                        ]
                    },
                    "metadata": {},
                    "output_type": "display_data"
                },
                {
                    "data": {
                        "application/vnd.dataresource+json": {
                            "data": [
                                {
                                    "0": "SABHARI",
                                    "1": "8"
                                }
                            ],
                            "schema": {
                                "fields": [
                                    {
                                        "name": "INSTITUTE"
                                    },
                                    {
                                        "name": "NO_OF_PACKAGES_DEVELOPED"
                                    }
                                ]
                            }
                        },
                        "text/html": [
                            "<table><tr><th>INSTITUTE</th><th>NO_OF_PACKAGES_DEVELOPED</th></tr><tr><td>SABHARI</td><td>8</td></tr></table>"
                        ]
                    },
                    "execution_count": 20,
                    "metadata": {},
                    "output_type": "execute_result"
                }
            ],
            "source": [
                "-- 101. How many packages were developed by students, who studied in institute that \n",
                "-- charge the lowest course fee?\n",
                "WITH\n",
                "    CTE_LOW_FEE_INS\n",
                "    AS\n",
                "    (\n",
                "        SELECT INSTITUTE, DENSE_RANK()OVER(ORDER BY AVG([COURSE FEE])) RANK\n",
                "        FROM STUDIES\n",
                "        GROUP BY INSTITUTE\n",
                "    )\n",
                "\n",
                "SELECT INSTITUTE, COUNT(TITLE) AS NO_OF_PACKAGES_DEVELOPED\n",
                "FROM SOFTWARE S LEFT JOIN STUDIES SS ON S.PNAME=SS.PNAME\n",
                "WHERE INSTITUTE IN (SELECT INSTITUTE\n",
                "FROM CTE_LOW_FEE_INS\n",
                "WHERE RANK=1)\n",
                "GROUP BY INSTITUTE\n",
                "\n"
            ]
        },
        {
            "cell_type": "code",
            "execution_count": 28,
            "metadata": {
                "azdata_cell_guid": "28060388-9796-4480-9e89-f24e323f80cd",
                "language": "sql",
                "vscode": {
                    "languageId": "sql"
                }
            },
            "outputs": [
                {
                    "data": {
                        "text/html": [
                            "(1 row affected)"
                        ]
                    },
                    "metadata": {},
                    "output_type": "display_data"
                },
                {
                    "data": {
                        "text/html": [
                            "Total execution time: 00:00:00.013"
                        ]
                    },
                    "metadata": {},
                    "output_type": "display_data"
                },
                {
                    "data": {
                        "application/vnd.dataresource+json": {
                            "data": [
                                {
                                    "0": "VIJAYA",
                                    "1": "1",
                                    "2": "BDPS"
                                }
                            ],
                            "schema": {
                                "fields": [
                                    {
                                        "name": "PNAME"
                                    },
                                    {
                                        "name": "NO_OF_PACKAGES_DEVELOPED"
                                    },
                                    {
                                        "name": "INSTITUTE"
                                    }
                                ]
                            }
                        },
                        "text/html": [
                            "<table><tr><th>PNAME</th><th>NO_OF_PACKAGES_DEVELOPED</th><th>INSTITUTE</th></tr><tr><td>VIJAYA</td><td>1</td><td>BDPS</td></tr></table>"
                        ]
                    },
                    "execution_count": 28,
                    "metadata": {},
                    "output_type": "execute_result"
                }
            ],
            "source": [
                "-- 102. How many packages were developed by the person who developed the \n",
                "-- cheapest package, where did HE/SHE study?\n",
                "WITH\n",
                "    CTE_CHEAP_DEV\n",
                "    AS\n",
                "    (\n",
                "        SELECT PNAME\n",
                "        FROM SOFTWARE\n",
                "        WHERE DCOST=(SELECT MIN(DCOST)\n",
                "        FROM SOFTWARE)\n",
                "    )\n",
                "SELECT S.PNAME, COUNT(*) NO_OF_PACKAGES_DEVELOPED, SS.INSTITUTE\n",
                "FROM SOFTWARE S LEFT JOIN STUDIES SS ON S.PNAME=SS.PNAME\n",
                "WHERE S.PNAME IN (SELECT PNAME\n",
                "FROM CTE_CHEAP_DEV)\n",
                "GROUP BY S.PNAME, SS.INSTITUTE"
            ]
        },
        {
            "cell_type": "code",
            "execution_count": 30,
            "metadata": {
                "azdata_cell_guid": "3c242e08-deb2-4a01-bd4b-19144e6c1028",
                "language": "sql",
                "vscode": {
                    "languageId": "sql"
                }
            },
            "outputs": [
                {
                    "data": {
                        "text/html": [
                            "(1 row affected)"
                        ]
                    },
                    "metadata": {},
                    "output_type": "display_data"
                },
                {
                    "data": {
                        "text/html": [
                            "Total execution time: 00:00:00.013"
                        ]
                    },
                    "metadata": {},
                    "output_type": "display_data"
                },
                {
                    "data": {
                        "application/vnd.dataresource+json": {
                            "data": [
                                {
                                    "0": "7"
                                }
                            ],
                            "schema": {
                                "fields": [
                                    {
                                        "name": "NO_OF_PACKAGES"
                                    }
                                ]
                            }
                        },
                        "text/html": [
                            "<table><tr><th>NO_OF_PACKAGES</th></tr><tr><td>7</td></tr></table>"
                        ]
                    },
                    "execution_count": 30,
                    "metadata": {},
                    "output_type": "execute_result"
                }
            ],
            "source": [
                "-- 103. How many packages were developed by the female programmers earning more \n",
                "-- than the highest paid male programmer? \n",
                "SELECT COUNT(*) NO_OF_PACKAGES\n",
                "FROM SOFTWARE S LEFT JOIN PROGRAMMER P ON S.PNAME=P.PNAME\n",
                "WHERE GENDER='F' AND SALARY > (SELECT MAX(SALARY)\n",
                "    FROM PROGRAMMER\n",
                "    WHERE GENDER='M')"
            ]
        },
        {
            "cell_type": "code",
            "execution_count": 32,
            "metadata": {
                "azdata_cell_guid": "c6857af3-81a7-4ab2-92f2-3d22efd3930c",
                "language": "sql",
                "vscode": {
                    "languageId": "sql"
                }
            },
            "outputs": [
                {
                    "data": {
                        "text/html": [
                            "(1 row affected)"
                        ]
                    },
                    "metadata": {},
                    "output_type": "display_data"
                },
                {
                    "data": {
                        "text/html": [
                            "Total execution time: 00:00:00.009"
                        ]
                    },
                    "metadata": {},
                    "output_type": "display_data"
                },
                {
                    "data": {
                        "application/vnd.dataresource+json": {
                            "data": [
                                {
                                    "0": "0"
                                }
                            ],
                            "schema": {
                                "fields": [
                                    {
                                        "name": "NO_OF_PACKAGES_DEVELOPED"
                                    }
                                ]
                            }
                        },
                        "text/html": [
                            "<table><tr><th>NO_OF_PACKAGES_DEVELOPED</th></tr><tr><td>0</td></tr></table>"
                        ]
                    },
                    "execution_count": 32,
                    "metadata": {},
                    "output_type": "execute_result"
                }
            ],
            "source": [
                "-- 104. How many packages are developed by the most experienced programmer from \n",
                "-- BDPS. \n",
                "SELECT COUNT(*) NO_OF_PACKAGES_DEVELOPED\n",
                "FROM SOFTWARE S LEFT JOIN PROGRAMMER P ON S.PNAME=P.PNAME\n",
                "WHERE DOJ = (SELECT MIN(DOJ)\n",
                "FROM PROGRAMMER)"
            ]
        },
        {
            "cell_type": "code",
            "execution_count": 36,
            "metadata": {
                "azdata_cell_guid": "65fcaf60-e5d0-4709-94bf-7078147fc1dc",
                "language": "sql",
                "vscode": {
                    "languageId": "sql"
                }
            },
            "outputs": [
                {
                    "data": {
                        "text/html": [
                            "(10 rows affected)"
                        ]
                    },
                    "metadata": {},
                    "output_type": "display_data"
                },
                {
                    "data": {
                        "text/html": [
                            "Total execution time: 00:00:00.007"
                        ]
                    },
                    "metadata": {},
                    "output_type": "display_data"
                },
                {
                    "data": {
                        "application/vnd.dataresource+json": {
                            "data": [
                                {
                                    "0": "ANAND",
                                    "1": "SABHARI"
                                },
                                {
                                    "0": "JULIANA",
                                    "1": "BDPS"
                                },
                                {
                                    "0": "KAMALA",
                                    "1": "PRAGATHI"
                                },
                                {
                                    "0": "MARY",
                                    "1": "SABHARI"
                                },
                                {
                                    "0": "PATTRICK",
                                    "1": "NULL"
                                },
                                {
                                    "0": "QADIR",
                                    "1": "APPLE"
                                },
                                {
                                    "0": "RAMESH",
                                    "1": "SABHARI"
                                },
                                {
                                    "0": "REMITHA",
                                    "1": "BDPS"
                                },
                                {
                                    "0": "REVATHI",
                                    "1": "SABHARI"
                                },
                                {
                                    "0": "VIJAYA",
                                    "1": "BDPS"
                                }
                            ],
                            "schema": {
                                "fields": [
                                    {
                                        "name": "PNAME"
                                    },
                                    {
                                        "name": "INSTITUTE"
                                    }
                                ]
                            }
                        },
                        "text/html": [
                            "<table><tr><th>PNAME</th><th>INSTITUTE</th></tr><tr><td>ANAND</td><td>SABHARI</td></tr><tr><td>JULIANA</td><td>BDPS</td></tr><tr><td>KAMALA</td><td>PRAGATHI</td></tr><tr><td>MARY</td><td>SABHARI</td></tr><tr><td>PATTRICK</td><td>NULL</td></tr><tr><td>QADIR</td><td>APPLE</td></tr><tr><td>RAMESH</td><td>SABHARI</td></tr><tr><td>REMITHA</td><td>BDPS</td></tr><tr><td>REVATHI</td><td>SABHARI</td></tr><tr><td>VIJAYA</td><td>BDPS</td></tr></table>"
                        ]
                    },
                    "execution_count": 36,
                    "metadata": {},
                    "output_type": "execute_result"
                }
            ],
            "source": [
                "-- 105. List the programmers (form the software table) and the institutes they studied. \n",
                "SELECT DISTINCT S.PNAME, INSTITUTE FROM SOFTWARE S LEFT JOIN STUDIES SS ON S.PNAME=SS.PNAME"
            ]
        },
        {
            "cell_type": "code",
            "execution_count": 3,
            "metadata": {
                "azdata_cell_guid": "640682fa-ee98-4761-b341-a5eddfbe09f9",
                "language": "sql",
                "vscode": {
                    "languageId": "sql"
                }
            },
            "outputs": [
                {
                    "data": {
                        "text/html": [
                            "Warning: Null value is eliminated by an aggregate or other SET operation."
                        ]
                    },
                    "metadata": {},
                    "output_type": "display_data"
                },
                {
                    "data": {
                        "text/html": [
                            "(10 rows affected)"
                        ]
                    },
                    "metadata": {},
                    "output_type": "display_data"
                },
                {
                    "data": {
                        "text/html": [
                            "Total execution time: 00:00:00.008"
                        ]
                    },
                    "metadata": {},
                    "output_type": "display_data"
                },
                {
                    "data": {
                        "application/vnd.dataresource+json": {
                            "data": [
                                {
                                    "0": "ASSEMBLY",
                                    "1": "2",
                                    "2": "2"
                                },
                                {
                                    "0": "BASIC",
                                    "1": "1",
                                    "2": "3"
                                },
                                {
                                    "0": "C",
                                    "1": "4",
                                    "2": "4"
                                },
                                {
                                    "0": "CLIPPER",
                                    "1": "0",
                                    "2": "2"
                                },
                                {
                                    "0": "COBOL",
                                    "1": "1",
                                    "2": "4"
                                },
                                {
                                    "0": "CPP",
                                    "1": "2",
                                    "2": "1"
                                },
                                {
                                    "0": "DBASE",
                                    "1": "2",
                                    "2": "4"
                                },
                                {
                                    "0": "FOXPRO",
                                    "1": "0",
                                    "2": "1"
                                },
                                {
                                    "0": "ORACLE",
                                    "1": "1",
                                    "2": "1"
                                },
                                {
                                    "0": "PASCAL",
                                    "1": "3",
                                    "2": "4"
                                }
                            ],
                            "schema": {
                                "fields": [
                                    {
                                        "name": "PROF1"
                                    },
                                    {
                                        "name": "NO_OF_PACKAGES"
                                    },
                                    {
                                        "name": "NO_OF_PROGRAMMERS"
                                    }
                                ]
                            }
                        },
                        "text/html": [
                            "<table>\n",
                            "<tr><th>PROF1</th><th>NO_OF_PACKAGES</th><th>NO_OF_PROGRAMMERS</th></tr>\n",
                            "<tr><td>ASSEMBLY</td><td>2</td><td>2</td></tr>\n",
                            "<tr><td>BASIC</td><td>1</td><td>3</td></tr>\n",
                            "<tr><td>C</td><td>4</td><td>4</td></tr>\n",
                            "<tr><td>CLIPPER</td><td>0</td><td>2</td></tr>\n",
                            "<tr><td>COBOL</td><td>1</td><td>4</td></tr>\n",
                            "<tr><td>CPP</td><td>2</td><td>1</td></tr>\n",
                            "<tr><td>DBASE</td><td>2</td><td>4</td></tr>\n",
                            "<tr><td>FOXPRO</td><td>0</td><td>1</td></tr>\n",
                            "<tr><td>ORACLE</td><td>1</td><td>1</td></tr>\n",
                            "<tr><td>PASCAL</td><td>3</td><td>4</td></tr>\n",
                            "</table>"
                        ]
                    },
                    "execution_count": 3,
                    "metadata": {},
                    "output_type": "execute_result"
                }
            ],
            "source": [
                "-- 106. List each PROF with the number of Programmers having that PROF and the \n",
                "-- number of the packages in that PROF.\n",
                "WITH\n",
                "    CTE_PROF\n",
                "    AS\n",
                "    (\n",
                "        SELECT PROF1, COUNT(*) AS NO_OF_PROGRAMMERS\n",
                "        FROM (                SELECT PROF1\n",
                "                FROM PROGRAMMER\n",
                "            UNION ALL\n",
                "                SELECT PROF2\n",
                "                FROM PROGRAMMER) A\n",
                "        GROUP BY PROF1\n",
                "    )\n",
                "\n",
                "SELECT PROF1, COUNT(TITLE) NO_OF_PACKAGES, NO_OF_PROGRAMMERS\n",
                "FROM CTE_PROF C LEFT JOIN SOFTWARE S ON C.PROF1=S.DEVELOPIN\n",
                "GROUP BY PROF1,NO_OF_PROGRAMMERS"
            ]
        },
        {
            "cell_type": "code",
            "execution_count": 6,
            "metadata": {
                "azdata_cell_guid": "214c18bd-68ca-4a62-8d5d-d02834b6ec37",
                "language": "sql",
                "vscode": {
                    "languageId": "sql"
                }
            },
            "outputs": [
                {
                    "data": {
                        "text/html": [
                            "(13 rows affected)"
                        ]
                    },
                    "metadata": {},
                    "output_type": "display_data"
                },
                {
                    "data": {
                        "text/html": [
                            "Total execution time: 00:00:00.007"
                        ]
                    },
                    "metadata": {},
                    "output_type": "display_data"
                },
                {
                    "data": {
                        "application/vnd.dataresource+json": {
                            "data": [
                                {
                                    "0": "ALTAF",
                                    "1": "1"
                                },
                                {
                                    "0": "ANAND",
                                    "1": "2"
                                },
                                {
                                    "0": "JULIANA",
                                    "1": "1"
                                },
                                {
                                    "0": "KAMALA",
                                    "1": "1"
                                },
                                {
                                    "0": "MARY",
                                    "1": "3"
                                },
                                {
                                    "0": "NELSON",
                                    "1": "1"
                                },
                                {
                                    "0": "PATTRICK",
                                    "1": "1"
                                },
                                {
                                    "0": "QADIR",
                                    "1": "2"
                                },
                                {
                                    "0": "RAMESH",
                                    "1": "2"
                                },
                                {
                                    "0": "REBECCA",
                                    "1": "1"
                                },
                                {
                                    "0": "REMITHA",
                                    "1": "2"
                                },
                                {
                                    "0": "REVATHI",
                                    "1": "1"
                                },
                                {
                                    "0": "VIJAYA",
                                    "1": "1"
                                }
                            ],
                            "schema": {
                                "fields": [
                                    {
                                        "name": "PNAME"
                                    },
                                    {
                                        "name": "NO_OF_PACKAGES"
                                    }
                                ]
                            }
                        },
                        "text/html": [
                            "<table>\n",
                            "<tr><th>PNAME</th><th>NO_OF_PACKAGES</th></tr>\n",
                            "<tr><td>ALTAF</td><td>1</td></tr>\n",
                            "<tr><td>ANAND</td><td>2</td></tr>\n",
                            "<tr><td>JULIANA</td><td>1</td></tr>\n",
                            "<tr><td>KAMALA</td><td>1</td></tr>\n",
                            "<tr><td>MARY</td><td>3</td></tr>\n",
                            "<tr><td>NELSON</td><td>1</td></tr>\n",
                            "<tr><td>PATTRICK</td><td>1</td></tr>\n",
                            "<tr><td>QADIR</td><td>2</td></tr>\n",
                            "<tr><td>RAMESH</td><td>2</td></tr>\n",
                            "<tr><td>REBECCA</td><td>1</td></tr>\n",
                            "<tr><td>REMITHA</td><td>2</td></tr>\n",
                            "<tr><td>REVATHI</td><td>1</td></tr>\n",
                            "<tr><td>VIJAYA</td><td>1</td></tr>\n",
                            "</table>"
                        ]
                    },
                    "execution_count": 6,
                    "metadata": {},
                    "output_type": "execute_result"
                }
            ],
            "source": [
                "-- 107. List the programmer names (from the programmer table) and No. Of Packages \n",
                "-- each has developed. \n",
                "SELECT P.PNAME, COUNT(*) NO_OF_PACKAGES FROM PROGRAMMER P LEFT JOIN SOFTWARE S ON P.PNAME=S.PNAME GROUP BY P.PNAME"
            ]
        }
    ],
    "metadata": {
        "kernelspec": {
            "display_name": "Python 3",
            "language": "python",
            "name": "python3"
        },
        "language_info": {
            "codemirror_mode": {
                "name": "ipython",
                "version": 3
            },
            "file_extension": ".py",
            "mimetype": "text/x-python",
            "name": "python",
            "nbconvert_exporter": "python",
            "pygments_lexer": "ipython3",
            "version": "3.11.3"
        }
    },
    "nbformat": 4,
    "nbformat_minor": 2
}
