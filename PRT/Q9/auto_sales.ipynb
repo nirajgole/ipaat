{
 "cells": [
  {
   "cell_type": "markdown",
   "metadata": {},
   "source": [
    "9. Imagine you are a data analyst working with an e-commerce company that sells automobile products. The company has provided you with an automobile sales dataset named auto sales.csv. You are assigned with the following tasks given below :\n",
    "\n",
    "a. Write a Spark SQL query to calculate the average price for each product code.\n",
    "b. Write a Spark SQL query to determine the product line that, on average, has the highest sales price.\n",
    "c. Write a Spark SQL query to identify the top 3 customers who placed the highest number of orders. Display their customer names and the order count.\n",
    "d. Write a Spark SQL query to identify orders where the sales amount is high, but the quantity ordered is relatively low.\n",
    "e. Write a Spark SQL query to find the latest order date for each customer.\n",
    "NOTE : You have to make use of Azure Databricks in the following question. For submission download the databricks notebook and upload it onto your drive and share with us. Make sure you have given appropriate permissions for evaluation of the file.\n"
   ]
  },
  {
   "cell_type": "code",
   "execution_count": 1,
   "metadata": {},
   "outputs": [
    {
     "data": {
      "text/plain": [
       "'C:\\\\Program Files\\\\spark\\\\spark-3.4.1-bin-hadoop3'"
      ]
     },
     "execution_count": 1,
     "metadata": {},
     "output_type": "execute_result"
    }
   ],
   "source": [
    "import findspark\n",
    "\n",
    "findspark.init()\n",
    "findspark.find()\n"
   ]
  },
  {
   "cell_type": "code",
   "execution_count": 5,
   "metadata": {},
   "outputs": [
    {
     "data": {
      "text/html": [
       "\n",
       "            <div>\n",
       "                <p><b>SparkSession - in-memory</b></p>\n",
       "                \n",
       "        <div>\n",
       "            <p><b>SparkContext</b></p>\n",
       "\n",
       "            <p><a href=\"http://N7:4040\">Spark UI</a></p>\n",
       "\n",
       "            <dl>\n",
       "              <dt>Version</dt>\n",
       "                <dd><code>v3.4.1</code></dd>\n",
       "              <dt>Master</dt>\n",
       "                <dd><code>local[*]</code></dd>\n",
       "              <dt>AppName</dt>\n",
       "                <dd><code>AutoSales</code></dd>\n",
       "            </dl>\n",
       "        </div>\n",
       "        \n",
       "            </div>\n",
       "        "
      ],
      "text/plain": [
       "<pyspark.sql.session.SparkSession at 0x1845e7e8cd0>"
      ]
     },
     "execution_count": 5,
     "metadata": {},
     "output_type": "execute_result"
    }
   ],
   "source": [
    "from pyspark.sql import SparkSession, functions as f\n",
    "\n",
    "spark = SparkSession.builder.appName(\"AutoSales\").getOrCreate()\n",
    "spark\n"
   ]
  },
  {
   "cell_type": "code",
   "execution_count": 6,
   "metadata": {},
   "outputs": [
    {
     "name": "stdout",
     "output_type": "stream",
     "text": [
      "+-----------+---------------+---------+---------------+-------+----------+--------------------+-------+-----------+----+-----------+--------------------+----------------+--------------------+-----------+----------+---------+---------------+----------------+--------+\n",
      "|ORDERNUMBER|QUANTITYORDERED|PRICEEACH|ORDERLINENUMBER|  SALES| ORDERDATE|DAYS_SINCE_LASTORDER| STATUS|PRODUCTLINE|MSRP|PRODUCTCODE|        CUSTOMERNAME|           PHONE|        ADDRESSLINE1|       CITY|POSTALCODE|  COUNTRY|CONTACTLASTNAME|CONTACTFIRSTNAME|DEALSIZE|\n",
      "+-----------+---------------+---------+---------------+-------+----------+--------------------+-------+-----------+----+-----------+--------------------+----------------+--------------------+-----------+----------+---------+---------------+----------------+--------+\n",
      "|      10107|             30|     95.7|              2| 2871.0|24-02-2018|                 828|Shipped|Motorcycles|  95|   S10_1678|   Land of Toys Inc.|      2125557818|897 Long Airport ...|        NYC|     10022|      USA|             Yu|            Kwai|   Small|\n",
      "|      10121|             34|    81.35|              5| 2765.9|07-05-2018|                 757|Shipped|Motorcycles|  95|   S10_1678|  Reims Collectables|      26.47.1555|  59 rue de l'Abbaye|      Reims|     51100|   France|        Henriot|            Paul|   Small|\n",
      "|      10134|             41|    94.74|              2|3884.34|01-07-2018|                 703|Shipped|Motorcycles|  95|   S10_1678|     Lyon Souveniers|+33 1 46 62 7555|27 rue du Colonel...|      Paris|     75508|   France|       Da Cunha|          Daniel|  Medium|\n",
      "|      10145|             45|    83.26|              6| 3746.7|25-08-2018|                 649|Shipped|Motorcycles|  95|   S10_1678|   Toys4GrownUps.com|      6265557265|  78934 Hillside Dr.|   Pasadena|     90003|      USA|          Young|           Julie|  Medium|\n",
      "|      10168|             36|    96.66|              1|3479.76|28-10-2018|                 586|Shipped|Motorcycles|  95|   S10_1678|Technics Stores Inc.|      6505556809|   9408 Furth Circle| Burlingame|     94217|      USA|         Hirano|            Juri|  Medium|\n",
      "|      10180|             29|    86.13|              9|2497.77|11-11-2018|                 573|Shipped|Motorcycles|  95|   S10_1678|Daedalus Designs ...|      20.16.1555|184, chausse de T...|      Lille|     59000|   France|          Rance|         Martine|   Small|\n",
      "|      10188|             48|   114.84|              1|5512.32|18-11-2018|                 567|Shipped|Motorcycles|  95|   S10_1678|        Herkku Gifts|   +47 2267 3215|Drammen 121, PR 7...|     Bergen|    N 5804|   Norway|         Oeztan|          Veysel|  Medium|\n",
      "|      10211|             41|   114.84|             14|4708.44|15-01-2019|                 510|Shipped|Motorcycles|  95|   S10_1678|    Auto Canal Petit|  (1) 47.55.6555|   25, rue Lauriston|      Paris|     75016|   France|        Perrier|       Dominique|  Medium|\n",
      "|      10223|             37|   107.18|              1|3965.66|20-02-2019|                 475|Shipped|Motorcycles|  95|   S10_1678|Australian Collec...|    03 9520 4555|   636 St Kilda Road|  Melbourne|      3004|Australia|       Ferguson|           Peter|  Medium|\n",
      "|      10237|             23|   101.44|              7|2333.12|05-04-2019|                 432|Shipped|Motorcycles|  95|   S10_1678|     Vitachrome Inc.|      2125551500|   2678 Kingston Rd.|        NYC|     10022|      USA|          Frick|         Michael|   Small|\n",
      "|      10251|             28|   113.88|              2|3188.64|18-05-2019|                 390|Shipped|Motorcycles|  95|   S10_1678|Tekni Collectable...|      2015559350|       7476 Moss Rd.|     Newark|     94019|      USA|          Brown|         William|  Medium|\n",
      "|      10263|             34|   108.14|              2|3676.76|28-06-2019|                 350|Shipped|Motorcycles|  95|   S10_1678|     Gift Depot Inc.|      2035552570| 25593 South Bay Ln.|Bridgewater|     97562|      USA|           King|           Julie|  Medium|\n",
      "|      10275|             45|    92.83|              1|4177.35|23-07-2019|                 326|Shipped|Motorcycles|  95|   S10_1678|   La Rochelle Gifts|      40.67.8555|67, rue des Cinqu...|     Nantes|     44000|   France|        Labrune|          Janine|  Medium|\n",
      "|      10285|             36|   113.88|              6|4099.68|27-08-2019|                 292|Shipped|Motorcycles|  95|   S10_1678|Marta's Replicas Co.|      6175558555| 39323 Spinnaker Dr.|  Cambridge|     51247|      USA|      Hernandez|           Marta|  Medium|\n",
      "|      10299|             23|   112.93|              9|2597.39|30-09-2019|                 259|Shipped|Motorcycles|  95|   S10_1678|Toys of Finland, Co.|     90-224 8555|       Keskuskatu 45|   Helsinki|     21240|  Finland|      Karttunen|           Matti|   Small|\n",
      "|      10309|             41|   107.18|              5|4394.38|15-10-2019|                 245|Shipped|Motorcycles|  95|   S10_1678|  Baane Mini Imports|      07-98 9555|Erling Skakkes ga...|    Stavern|      4110|   Norway|     Bergulfsen|           Jonas|  Medium|\n",
      "|      10318|             46|    94.74|              1|4358.04|02-11-2019|                 228|Shipped|Motorcycles|  95|   S10_1678|Diecast Classics ...|      2155551555|    7586 Pompton St.|  Allentown|     70267|      USA|             Yu|           Kyung|  Medium|\n",
      "|      10329|             42|   104.67|              1|4396.14|15-11-2019|                 216|Shipped|Motorcycles|  95|   S10_1678|   Land of Toys Inc.|      2125557818|897 Long Airport ...|        NYC|     10022|      USA|             Yu|            Kwai|  Medium|\n",
      "|      10341|             41|   188.73|              9|7737.93|24-11-2019|                 208|Shipped|Motorcycles|  95|   S10_1678|Salzburg Collecta...|       6562-9555|         Geislweg 14|   Salzburg|      5020|  Austria|          Pipps|           Georg|   Large|\n",
      "|      10361|             20|    72.55|             13| 1451.0|17-12-2019|                 186|Shipped|Motorcycles|  95|   S10_1678|Souveniers And Th...| +61 2 9495 8555|Monitor Money Bui...|  Chatswood|      2067|Australia|         Huxley|          Adrian|   Small|\n",
      "+-----------+---------------+---------+---------------+-------+----------+--------------------+-------+-----------+----+-----------+--------------------+----------------+--------------------+-----------+----------+---------+---------------+----------------+--------+\n",
      "only showing top 20 rows\n",
      "\n"
     ]
    }
   ],
   "source": [
    "df = spark.read.csv(\"./Auto-Sales-data.csv\", inferSchema=True, header=True)\n",
    "df.show()\n"
   ]
  },
  {
   "cell_type": "code",
   "execution_count": 7,
   "metadata": {},
   "outputs": [
    {
     "name": "stdout",
     "output_type": "stream",
     "text": [
      "+-----------+------------------+\n",
      "|PRODUCTCODE|         AVG_PRICE|\n",
      "+-----------+------------------+\n",
      "|   S18_4600|118.08037037037042|\n",
      "|   S18_1749| 156.3819047619048|\n",
      "|   S12_3891|159.96653846153848|\n",
      "|   S18_2248| 68.05714285714286|\n",
      "|  S700_1138| 71.84384615384614|\n",
      "|   S32_1268|104.82222222222224|\n",
      "|   S12_1099|163.72458333333333|\n",
      "|   S18_2795|156.26960000000003|\n",
      "|   S24_1937|          56.63125|\n",
      "|   S32_3522| 79.62192307692308|\n",
      "|   S18_1097| 109.1453846153846|\n",
      "|   S18_1662|146.43115384615388|\n",
      "|   S12_1666|140.92115384615386|\n",
      "|   S24_3969| 45.33571428571428|\n",
      "|   S24_1578|104.83083333333332|\n",
      "|   S24_4048|117.38269230769232|\n",
      "|   S18_3320|100.19416666666667|\n",
      "|   S24_3816|           81.0728|\n",
      "|   S18_3136|100.35959999999999|\n",
      "|   S32_2509| 63.80464285714286|\n",
      "+-----------+------------------+\n",
      "only showing top 20 rows\n",
      "\n"
     ]
    }
   ],
   "source": [
    "# a. Write a Spark SQL query to calculate the average price for each product code.\n",
    "df.groupBy(\"PRODUCTCODE\").agg(f.avg(\"PRICEEACH\").alias(\"AVG_PRICE\")).show()\n"
   ]
  },
  {
   "cell_type": "code",
   "execution_count": 30,
   "metadata": {},
   "outputs": [
    {
     "name": "stdout",
     "output_type": "stream",
     "text": [
      "+------------+-----------------+\n",
      "| PRODUCTLINE|    average_sales|\n",
      "+------------+-----------------+\n",
      "|Classic Cars|4049.387291886192|\n",
      "+------------+-----------------+\n",
      "only showing top 1 row\n",
      "\n"
     ]
    }
   ],
   "source": [
    "# b. Write a Spark SQL query to determine the product line that, on average, has the highest sales price.\n",
    "df.groupBy(\"PRODUCTLINE\").agg(f.avg(\"sales\").alias(\"average_sales\")).sort(\n",
    "    f.desc(\"average_sales\")\n",
    ").show(1)\n"
   ]
  },
  {
   "cell_type": "code",
   "execution_count": 31,
   "metadata": {},
   "outputs": [
    {
     "name": "stdout",
     "output_type": "stream",
     "text": [
      "+--------------------+-----------+\n",
      "|        CUSTOMERNAME|ORDER_COUNT|\n",
      "+--------------------+-----------+\n",
      "|Euro Shopping Cha...|       9327|\n",
      "|Mini Gifts Distri...|       6366|\n",
      "|Australian Collec...|       1926|\n",
      "+--------------------+-----------+\n",
      "only showing top 3 rows\n",
      "\n"
     ]
    }
   ],
   "source": [
    "# c. Identify the top 3 customers who placed the highest number of orders. Display their customer names and the order count.\n",
    "df.groupBy(\"CUSTOMERNAME\").agg(f.sum(\"QUANTITYORDERED\").alias(\"ORDER_COUNT\")).sort(\n",
    "    f.desc(\"ORDER_COUNT\")\n",
    ").show(3)\n"
   ]
  },
  {
   "cell_type": "code",
   "execution_count": 34,
   "metadata": {},
   "outputs": [
    {
     "name": "stdout",
     "output_type": "stream",
     "text": [
      "+-----------+---------------+---------+---------------+-----+---------+--------------------+------+-----------+----+-----------+------------+-----+------------+----+----------+-------+---------------+----------------+--------+\n",
      "|ORDERNUMBER|QUANTITYORDERED|PRICEEACH|ORDERLINENUMBER|SALES|ORDERDATE|DAYS_SINCE_LASTORDER|STATUS|PRODUCTLINE|MSRP|PRODUCTCODE|CUSTOMERNAME|PHONE|ADDRESSLINE1|CITY|POSTALCODE|COUNTRY|CONTACTLASTNAME|CONTACTFIRSTNAME|DEALSIZE|\n",
      "+-----------+---------------+---------+---------------+-----+---------+--------------------+------+-----------+----+-----------+------------+-----+------------+----+----------+-------+---------------+----------------+--------+\n",
      "+-----------+---------------+---------+---------------+-----+---------+--------------------+------+-----------+----+-----------+------------+-----+------------+----+----------+-------+---------------+----------------+--------+\n",
      "\n"
     ]
    }
   ],
   "source": [
    "# d. Identify orders where the sales amount is high, but the quantity ordered is relatively low.\n",
    "high_sales_threshold = (\n",
    "    df.select(f.expr(\"percentile_approx(sales, 0.75)\"))\n",
    "    .rdd.flatMap(lambda x: x)\n",
    "    .collect()[0]\n",
    ")\n",
    "low_quantity_threshold = (\n",
    "    df.select(f.avg(\"quantityordered\")).rdd.flatMap(lambda x: x).collect()[0] * 0.2\n",
    ")\n",
    "filtered_orders = df.filter(\n",
    "    (df[\"sales\"] > high_sales_threshold)\n",
    "    & (df[\"quantityordered\"] < low_quantity_threshold)\n",
    ")\n",
    "filtered_orders.show()\n"
   ]
  },
  {
   "cell_type": "code",
   "execution_count": 36,
   "metadata": {},
   "outputs": [
    {
     "name": "stdout",
     "output_type": "stream",
     "text": [
      "+--------------------+------------+\n",
      "|        CUSTOMERNAME|MaxOrderDate|\n",
      "+--------------------+------------+\n",
      "|Euro Shopping Cha...|  31-05-2020|\n",
      "|   La Rochelle Gifts|  31-05-2020|\n",
      "|Oulu Toy Supplies...|  31-01-2020|\n",
      "|Toys of Finland, Co.|  30-09-2019|\n",
      "|     Vida Sport, Ltd|  30-08-2019|\n",
      "|   Gifts4AllAges.com|  30-06-2019|\n",
      "|Diecast Classics ...|  30-05-2020|\n",
      "|          Petit Auto|  30-05-2020|\n",
      "|  Reims Collectables|  30-03-2020|\n",
      "|Australian Collec...|  29-11-2019|\n",
      "|  Signal Gift Stores|  29-11-2019|\n",
      "|Mini Gifts Distri...|  29-05-2020|\n",
      "|Souveniers And Th...|  29-05-2020|\n",
      "|Tekni Collectable...|  29-03-2019|\n",
      "|West Coast Collec...|  29-01-2019|\n",
      "|  Baane Mini Imports|  29-01-2018|\n",
      "|Technics Stores Inc.|  28-10-2018|\n",
      "|La Corne D'abonda...|  28-08-2019|\n",
      "|     Gift Depot Inc.|  28-06-2019|\n",
      "|Corrida Auto Repl...|  28-05-2018|\n",
      "+--------------------+------------+\n",
      "only showing top 20 rows\n",
      "\n"
     ]
    }
   ],
   "source": [
    "# e. Write a Spark SQL query to find the latest order date for each customer.\n",
    "df.groupBy('CUSTOMERNAME').agg(f.max('ORDERDATE').alias('MaxOrderDate')).sort(f.desc('MaxOrderDate')).show()"
   ]
  }
 ],
 "metadata": {
  "kernelspec": {
   "display_name": "Python 3",
   "language": "python",
   "name": "python3"
  },
  "language_info": {
   "codemirror_mode": {
    "name": "ipython",
    "version": 3
   },
   "file_extension": ".py",
   "mimetype": "text/x-python",
   "name": "python",
   "nbconvert_exporter": "python",
   "pygments_lexer": "ipython3",
   "version": "3.11.3"
  }
 },
 "nbformat": 4,
 "nbformat_minor": 2
}
