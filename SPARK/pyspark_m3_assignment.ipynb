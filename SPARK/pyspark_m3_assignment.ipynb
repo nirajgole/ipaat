{
 "cells": [
  {
   "cell_type": "markdown",
   "metadata": {},
   "source": [
    "### PySpark Module 3 Assignment\n",
    "\n",
    "Tasks to be Done\n"
   ]
  },
  {
   "cell_type": "markdown",
   "metadata": {},
   "source": [
    "1. Functions:\n"
   ]
  },
  {
   "cell_type": "code",
   "execution_count": 4,
   "metadata": {},
   "outputs": [
    {
     "name": "stdout",
     "output_type": "stream",
     "text": [
      "26.850000000000023\n",
      "James Gordon\n"
     ]
    }
   ],
   "source": [
    "# a) Write a function to convert temperature from Kelvin to Celsius\n",
    "def kelvin_to_celsius(kelvin):\n",
    "    return (kelvin - 273.15)\n",
    "# b) Print the output by passing the Kelvin value as an argument in the function\n",
    "print(kelvin_to_celsius(300))\n",
    "# c) Write a function ‘student’ with two arguments: ‘firstname’ and ‘lastname’\n",
    "def student(first_name:str='',last_name:str='')->str:\n",
    "    return f\"{first_name} {last_name}\"\n",
    "# d) Print the output by passing the values of both arguments during the function call\n",
    "print(student('James','Gordon'))\n"
   ]
  },
  {
   "cell_type": "markdown",
   "metadata": {},
   "source": [
    "2. Lambda Functions:\n"
   ]
  },
  {
   "cell_type": "code",
   "execution_count": 10,
   "metadata": {},
   "outputs": [
    {
     "name": "stdout",
     "output_type": "stream",
     "text": [
      "8\n",
      "6\n"
     ]
    }
   ],
   "source": [
    "# a) Write a lambda function that returns the cube of a given value\n",
    "get_cube=lambda a : a**3\n",
    "print(get_cube(2))\n",
    "# b) Write a lambda function with three arguments and print the sum of them\n",
    "get_sum=lambda *args : sum(args)\n",
    "print(get_sum(1,2,3))"
   ]
  },
  {
   "cell_type": "markdown",
   "metadata": {},
   "source": [
    "3. Object-oriented Programming:\n"
   ]
  },
  {
   "cell_type": "code",
   "execution_count": 23,
   "metadata": {},
   "outputs": [
    {
     "name": "stdout",
     "output_type": "stream",
     "text": [
      "Amount 50$ has been deposited. New balance: 150$.\n",
      "Amount 20$ has been withdrawn. New balance: 130$.\n",
      "Amount 99$ has been deposited. New balance: 299$.\n",
      "$1 has been charged for deposit. 99$ has been deposited. New balance: 299$.\n",
      "Amount 51$ has been withdrawn. New balance: 248$.\n",
      "$1 has been charged for withdrawal. 50$ has been withdrawn. New balance: 248$.\n"
     ]
    }
   ],
   "source": [
    "# a) Write a Python program to create a class named ‘BankAccount’\n",
    "class BankAccount:\n",
    "    def __init__(self, name, balance=0):\n",
    "        self.name = name\n",
    "        self.balance = balance\n",
    "\n",
    "    def deposit(self, amount):\n",
    "        self.balance += amount\n",
    "        print(f\"Amount {amount}$ has been deposited. New balance: {self.balance}$.\")\n",
    "\n",
    "    def withdraw(self, amount):\n",
    "        if amount > self.balance:\n",
    "            print(\"Insufficient funds!\")\n",
    "        else:\n",
    "            self.balance -= amount\n",
    "            print(f\"Amount {amount}$ has been withdrawn. New balance: {self.balance}$.\")\n",
    "\n",
    "\n",
    "# c) Extend the BankAccount class to a CheckingAccount class that charges $1 for\n",
    "# every deposit and withdrawal\n",
    "class CheckingAccount(BankAccount):\n",
    "    def __init__(self, name, balance=0):\n",
    "        super().__init__(name, balance)\n",
    "\n",
    "    def deposit(self, amount):\n",
    "        super().deposit(amount - 1)\n",
    "        print(f\"$1 has been charged for deposit. {amount - 1}$ has been deposited. New balance: {self.balance}$.\")\n",
    "\n",
    "    def withdraw(self, amount):\n",
    "        super().withdraw(amount + 1)\n",
    "        print(f\"$1 has been charged for withdrawal. {amount}$ has been withdrawn. New balance: {self.balance}$.\")\n",
    "\n",
    "account1 = BankAccount(\"Alice\", 100)\n",
    "account1.deposit(50)\n",
    "account1.withdraw(20)\n",
    "\n",
    "account2 = CheckingAccount(\"Bob\", 200)\n",
    "account2.deposit(100)\n",
    "account2.withdraw(50)\n"
   ]
  },
  {
   "cell_type": "code",
   "execution_count": 14,
   "metadata": {},
   "outputs": [
    {
     "name": "stdout",
     "output_type": "stream",
     "text": [
      "1\n"
     ]
    }
   ],
   "source": [
    "# d) Write a Python class to implement pow(x, n)\n",
    "get_power=lambda x,n:pow(x,n)\n",
    "print(get_power(100,0))"
   ]
  },
  {
   "cell_type": "code",
   "execution_count": 21,
   "metadata": {},
   "outputs": [
    {
     "name": "stdout",
     "output_type": "stream",
     "text": [
      "100\n",
      "1000\n"
     ]
    }
   ],
   "source": [
    "# e) Write a Python program to create a global variable named ‘money = 1000’,\n",
    "# then define a function named ‘value’, and then create a local variable named\n",
    "# ‘money = 100’ inside the function. Print the money variable both inside and\n",
    "# outside the function\n",
    "\n",
    "# global money\n",
    "money=1000\n",
    "def value():\n",
    "    money=100\n",
    "    print(money)\n",
    "value()\n",
    "print(money)"
   ]
  },
  {
   "cell_type": "code",
   "execution_count": 22,
   "metadata": {},
   "outputs": [
    {
     "name": "stdout",
     "output_type": "stream",
     "text": [
      "Ganesh\n",
      "Mumbai\n"
     ]
    }
   ],
   "source": [
    "# f) Write a Python Program to define a function named ‘student’ with two\n",
    "# arguments, ‘name’ and ‘city’, in such a way that the function should print the\n",
    "# ‘city’ 5 seconds after it prints a ‘name\n",
    "import time\n",
    "\n",
    "\n",
    "def student(name,city):\n",
    "    print(name)\n",
    "    time.sleep(5)\n",
    "    print(city)\n",
    "\n",
    "student('Ganesh','Mumbai')"
   ]
  }
 ],
 "metadata": {
  "kernelspec": {
   "display_name": "Python 3",
   "language": "python",
   "name": "python3"
  },
  "language_info": {
   "codemirror_mode": {
    "name": "ipython",
    "version": 3
   },
   "file_extension": ".py",
   "mimetype": "text/x-python",
   "name": "python",
   "nbconvert_exporter": "python",
   "pygments_lexer": "ipython3",
   "version": "3.11.3"
  }
 },
 "nbformat": 4,
 "nbformat_minor": 2
}
