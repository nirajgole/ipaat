{
    "metadata": {
        "kernelspec": {
            "name": "SQL",
            "display_name": "SQL",
            "language": "sql"
        },
        "language_info": {
            "name": "sql",
            "version": ""
        }
    },
    "nbformat_minor": 2,
    "nbformat": 4,
    "cells": [
        {
            "cell_type": "code",
            "source": [
                "--SELECT * FROM INFORMATION_SCHEMA.TABLES"
            ],
            "metadata": {
                "azdata_cell_guid": "e6447195-6353-4b2c-a0c7-46c0ef4d7802",
                "language": "sql"
            },
            "outputs": [
                {
                    "output_type": "display_data",
                    "data": {
                        "text/html": "(3 rows affected)"
                    },
                    "metadata": {}
                },
                {
                    "output_type": "display_data",
                    "data": {
                        "text/html": "Total execution time: 00:00:00.030"
                    },
                    "metadata": {}
                },
                {
                    "output_type": "execute_result",
                    "execution_count": 3,
                    "data": {
                        "application/vnd.dataresource+json": {
                            "schema": {
                                "fields": [
                                    {
                                        "name": "TABLE_CATALOG"
                                    },
                                    {
                                        "name": "TABLE_SCHEMA"
                                    },
                                    {
                                        "name": "TABLE_NAME"
                                    },
                                    {
                                        "name": "TABLE_TYPE"
                                    }
                                ]
                            },
                            "data": [
                                {
                                    "0": "AssignmentSQLQueries",
                                    "1": "dbo",
                                    "2": "STUDIES",
                                    "3": "BASE TABLE"
                                },
                                {
                                    "0": "AssignmentSQLQueries",
                                    "1": "dbo",
                                    "2": "SOFTWARE",
                                    "3": "BASE TABLE"
                                },
                                {
                                    "0": "AssignmentSQLQueries",
                                    "1": "dbo",
                                    "2": "PROGRAMMER",
                                    "3": "BASE TABLE"
                                }
                            ]
                        },
                        "text/html": "<table><tr><th>TABLE_CATALOG</th><th>TABLE_SCHEMA</th><th>TABLE_NAME</th><th>TABLE_TYPE</th></tr><tr><td>AssignmentSQLQueries</td><td>dbo</td><td>STUDIES</td><td>BASE TABLE</td></tr><tr><td>AssignmentSQLQueries</td><td>dbo</td><td>SOFTWARE</td><td>BASE TABLE</td></tr><tr><td>AssignmentSQLQueries</td><td>dbo</td><td>PROGRAMMER</td><td>BASE TABLE</td></tr></table>"
                    },
                    "metadata": {}
                }
            ],
            "execution_count": 3
        },
        {
            "cell_type": "code",
            "source": [
                "-- 1. Find out the selling cost AVG for packages developed in Pascal. \r\n",
                "SELECT AVG(SCOST) AS AVG_SCOST_PASCAL FROM SOFTWARE WHERE DEVELOPIN='PASCAL'"
            ],
            "metadata": {
                "language": "sql",
                "azdata_cell_guid": "edfcbf9d-8019-405c-a6be-3af1ac21ddd4"
            },
            "outputs": [
                {
                    "output_type": "display_data",
                    "data": {
                        "text/html": "(1 row affected)"
                    },
                    "metadata": {}
                },
                {
                    "output_type": "display_data",
                    "data": {
                        "text/html": "Total execution time: 00:00:00.019"
                    },
                    "metadata": {}
                },
                {
                    "output_type": "execute_result",
                    "execution_count": 5,
                    "data": {
                        "application/vnd.dataresource+json": {
                            "schema": {
                                "fields": [
                                    {
                                        "name": "AVG_SCOST_PASCAL"
                                    }
                                ]
                            },
                            "data": [
                                {
                                    "0": "3066.65"
                                }
                            ]
                        },
                        "text/html": "<table><tr><th>AVG_SCOST_PASCAL</th></tr><tr><td>3066.65</td></tr></table>"
                    },
                    "metadata": {}
                }
            ],
            "execution_count": 5
        },
        {
            "cell_type": "code",
            "source": [
                "-- 2. Display Names, Ages of all Programmers. \r\n",
                "SELECT PNAME, DATEDIFF(YY,DOB,GETDATE())\r\n",
                "FROM PROGRAMMER"
            ],
            "metadata": {
                "language": "sql",
                "azdata_cell_guid": "da8114fe-f7d2-48e2-8651-81947f7af4d4"
            },
            "outputs": [
                {
                    "output_type": "display_data",
                    "data": {
                        "text/html": "(13 rows affected)"
                    },
                    "metadata": {}
                },
                {
                    "output_type": "display_data",
                    "data": {
                        "text/html": "Total execution time: 00:00:00.017"
                    },
                    "metadata": {}
                },
                {
                    "output_type": "execute_result",
                    "execution_count": 7,
                    "data": {
                        "application/vnd.dataresource+json": {
                            "schema": {
                                "fields": [
                                    {
                                        "name": "PNAME"
                                    },
                                    {
                                        "name": "(No column name)"
                                    }
                                ]
                            },
                            "data": [
                                {
                                    "0": "ANAND",
                                    "1": "57"
                                },
                                {
                                    "0": "ALTAF",
                                    "1": "59"
                                },
                                {
                                    "0": "JULIANA",
                                    "1": "63"
                                },
                                {
                                    "0": "KAMALA",
                                    "1": "55"
                                },
                                {
                                    "0": "MARY",
                                    "1": "53"
                                },
                                {
                                    "0": "NELSON",
                                    "1": "38"
                                },
                                {
                                    "0": "PATTRICK",
                                    "1": "58"
                                },
                                {
                                    "0": "QADIR",
                                    "1": "58"
                                },
                                {
                                    "0": "RAMESH",
                                    "1": "56"
                                },
                                {
                                    "0": "REBECCA",
                                    "1": "56"
                                },
                                {
                                    "0": "REMITHA",
                                    "1": "53"
                                },
                                {
                                    "0": "REVATHI",
                                    "1": "54"
                                },
                                {
                                    "0": "VIJAYA",
                                    "1": "58"
                                }
                            ]
                        },
                        "text/html": "<table><tr><th>PNAME</th><th>(No column name)</th></tr><tr><td>ANAND</td><td>57</td></tr><tr><td>ALTAF</td><td>59</td></tr><tr><td>JULIANA</td><td>63</td></tr><tr><td>KAMALA</td><td>55</td></tr><tr><td>MARY</td><td>53</td></tr><tr><td>NELSON</td><td>38</td></tr><tr><td>PATTRICK</td><td>58</td></tr><tr><td>QADIR</td><td>58</td></tr><tr><td>RAMESH</td><td>56</td></tr><tr><td>REBECCA</td><td>56</td></tr><tr><td>REMITHA</td><td>53</td></tr><tr><td>REVATHI</td><td>54</td></tr><tr><td>VIJAYA</td><td>58</td></tr></table>"
                    },
                    "metadata": {}
                }
            ],
            "execution_count": 7
        },
        {
            "cell_type": "code",
            "source": [
                "-- 3. Display the Names of those who have done the DAP Course. \r\n",
                "SELECT PNAME\r\n",
                "FROM STUDIES\r\n",
                "WHERE COURSE='DAP'"
            ],
            "metadata": {
                "language": "sql",
                "azdata_cell_guid": "10f8b153-f4a6-4825-a452-e2f66d3a02c4"
            },
            "outputs": [
                {
                    "output_type": "display_data",
                    "data": {
                        "text/html": "(2 rows affected)"
                    },
                    "metadata": {}
                },
                {
                    "output_type": "display_data",
                    "data": {
                        "text/html": "Total execution time: 00:00:00.017"
                    },
                    "metadata": {}
                },
                {
                    "output_type": "execute_result",
                    "execution_count": 8,
                    "data": {
                        "application/vnd.dataresource+json": {
                            "schema": {
                                "fields": [
                                    {
                                        "name": "PNAME"
                                    }
                                ]
                            },
                            "data": [
                                {
                                    "0": "NELSON"
                                },
                                {
                                    "0": "REVATHI"
                                }
                            ]
                        },
                        "text/html": "<table><tr><th>PNAME</th></tr><tr><td>NELSON</td></tr><tr><td>REVATHI</td></tr></table>"
                    },
                    "metadata": {}
                }
            ],
            "execution_count": 8
        },
        {
            "cell_type": "code",
            "source": [
                "-- 4. Display the Names and Date of Births of all Programmers Born in January. \r\n",
                "SELECT PNAME, DOB\r\n",
                "FROM PROGRAMMER\r\n",
                "WHERE MONTH(DOB)=1"
            ],
            "metadata": {
                "language": "sql",
                "azdata_cell_guid": "b75811d9-3cf3-4ca1-aac4-0bca1aff5267"
            },
            "outputs": [
                {
                    "output_type": "display_data",
                    "data": {
                        "text/html": "(2 rows affected)"
                    },
                    "metadata": {}
                },
                {
                    "output_type": "display_data",
                    "data": {
                        "text/html": "Total execution time: 00:00:00.011"
                    },
                    "metadata": {}
                },
                {
                    "output_type": "execute_result",
                    "execution_count": 9,
                    "data": {
                        "application/vnd.dataresource+json": {
                            "schema": {
                                "fields": [
                                    {
                                        "name": "PNAME"
                                    },
                                    {
                                        "name": "DOB"
                                    }
                                ]
                            },
                            "data": [
                                {
                                    "0": "JULIANA",
                                    "1": "1960-01-31"
                                },
                                {
                                    "0": "REBECCA",
                                    "1": "1967-01-01"
                                }
                            ]
                        },
                        "text/html": "<table><tr><th>PNAME</th><th>DOB</th></tr><tr><td>JULIANA</td><td>1960-01-31</td></tr><tr><td>REBECCA</td><td>1967-01-01</td></tr></table>"
                    },
                    "metadata": {}
                }
            ],
            "execution_count": 9
        },
        {
            "cell_type": "code",
            "source": [
                "-- 5. What is the Highest Number of copies sold by a Package? \r\n",
                "SELECT MAX(sold) MAX_PACKAGE_SOLD\r\n",
                "FROM SOFTWARE"
            ],
            "metadata": {
                "language": "sql",
                "azdata_cell_guid": "db294a34-9ba2-47c8-91c7-b3a9141bdee4"
            },
            "outputs": [
                {
                    "output_type": "display_data",
                    "data": {
                        "text/html": "(1 row affected)"
                    },
                    "metadata": {}
                },
                {
                    "output_type": "display_data",
                    "data": {
                        "text/html": "Total execution time: 00:00:00.008"
                    },
                    "metadata": {}
                },
                {
                    "output_type": "execute_result",
                    "execution_count": 12,
                    "data": {
                        "application/vnd.dataresource+json": {
                            "schema": {
                                "fields": [
                                    {
                                        "name": "MAX_PACKAGE_SOLD"
                                    }
                                ]
                            },
                            "data": [
                                {
                                    "0": "84"
                                }
                            ]
                        },
                        "text/html": "<table><tr><th>MAX_PACKAGE_SOLD</th></tr><tr><td>84</td></tr></table>"
                    },
                    "metadata": {}
                }
            ],
            "execution_count": 12
        },
        {
            "cell_type": "code",
            "source": [
                "-- 6. Display lowest course Fee. \r\n",
                "SELECT MIN([COURSE FEE]) AS LOWEST_COURSE_FEE\r\n",
                "FROM STUDIES"
            ],
            "metadata": {
                "language": "sql",
                "azdata_cell_guid": "2b2d156f-715f-4123-aaef-dcba08a5dfdf"
            },
            "outputs": [
                {
                    "output_type": "display_data",
                    "data": {
                        "text/html": "(1 row affected)"
                    },
                    "metadata": {}
                },
                {
                    "output_type": "display_data",
                    "data": {
                        "text/html": "Total execution time: 00:00:00.010"
                    },
                    "metadata": {}
                },
                {
                    "output_type": "execute_result",
                    "execution_count": 13,
                    "data": {
                        "application/vnd.dataresource+json": {
                            "schema": {
                                "fields": [
                                    {
                                        "name": "LOWEST_COURSE_FEE"
                                    }
                                ]
                            },
                            "data": [
                                {
                                    "0": "4500"
                                }
                            ]
                        },
                        "text/html": "<table><tr><th>LOWEST_COURSE_FEE</th></tr><tr><td>4500</td></tr></table>"
                    },
                    "metadata": {}
                }
            ],
            "execution_count": 13
        },
        {
            "cell_type": "code",
            "source": [
                "-- 7. How many programmers done the PGDCA Course? \r\n",
                "SELECT COUNT(*) AS NO_OF_PGDA_STUDENTS\r\n",
                "FROM STUDIES\r\n",
                "WHERE COURSE='PGDCA'"
            ],
            "metadata": {
                "language": "sql",
                "azdata_cell_guid": "3f6d141f-ee5c-4a01-aaeb-67b40e90a9e7"
            },
            "outputs": [
                {
                    "output_type": "display_data",
                    "data": {
                        "text/html": "(1 row affected)"
                    },
                    "metadata": {}
                },
                {
                    "output_type": "display_data",
                    "data": {
                        "text/html": "Total execution time: 00:00:00.009"
                    },
                    "metadata": {}
                },
                {
                    "output_type": "execute_result",
                    "execution_count": 16,
                    "data": {
                        "application/vnd.dataresource+json": {
                            "schema": {
                                "fields": [
                                    {
                                        "name": "NO_OF_PGDA_STUDENTS"
                                    }
                                ]
                            },
                            "data": [
                                {
                                    "0": "3"
                                }
                            ]
                        },
                        "text/html": "<table><tr><th>NO_OF_PGDA_STUDENTS</th></tr><tr><td>3</td></tr></table>"
                    },
                    "metadata": {}
                }
            ],
            "execution_count": 16
        },
        {
            "cell_type": "code",
            "source": [
                "-- 8. How much revenue has been earned thru sales of Packages Developed in C.\r\n",
                "SELECT SUM(SCOST) AS TOTAL_SCOST_C\r\n",
                "FROM SOFTWARE\r\n",
                "WHERE DEVELOPIN='C'"
            ],
            "metadata": {
                "language": "sql",
                "azdata_cell_guid": "12a6e274-5d7c-45fc-957f-a708069485f5"
            },
            "outputs": [
                {
                    "output_type": "display_data",
                    "data": {
                        "text/html": "(1 row affected)"
                    },
                    "metadata": {}
                },
                {
                    "output_type": "display_data",
                    "data": {
                        "text/html": "Total execution time: 00:00:00.048"
                    },
                    "metadata": {}
                },
                {
                    "output_type": "execute_result",
                    "execution_count": 17,
                    "data": {
                        "application/vnd.dataresource+json": {
                            "schema": {
                                "fields": [
                                    {
                                        "name": "TOTAL_SCOST_C"
                                    }
                                ]
                            },
                            "data": [
                                {
                                    "0": "8025"
                                }
                            ]
                        },
                        "text/html": "<table><tr><th>TOTAL_SCOST_C</th></tr><tr><td>8025</td></tr></table>"
                    },
                    "metadata": {}
                }
            ],
            "execution_count": 17
        },
        {
            "cell_type": "code",
            "source": [
                "-- 9. Display the Details of the Software Developed by Ramesh. \r\n",
                "SELECT *\r\n",
                "FROM SOFTWARE\r\n",
                "WHERE PNAME='Ramesh'"
            ],
            "metadata": {
                "language": "sql",
                "azdata_cell_guid": "8ff7d835-e669-4bba-9793-49dcf886ad22"
            },
            "outputs": [
                {
                    "output_type": "display_data",
                    "data": {
                        "text/html": "(2 rows affected)"
                    },
                    "metadata": {}
                },
                {
                    "output_type": "display_data",
                    "data": {
                        "text/html": "Total execution time: 00:00:00.023"
                    },
                    "metadata": {}
                },
                {
                    "output_type": "execute_result",
                    "execution_count": 18,
                    "data": {
                        "application/vnd.dataresource+json": {
                            "schema": {
                                "fields": [
                                    {
                                        "name": "PNAME"
                                    },
                                    {
                                        "name": "TITLE"
                                    },
                                    {
                                        "name": "DEVELOPIN"
                                    },
                                    {
                                        "name": "SCOST"
                                    },
                                    {
                                        "name": "DCOST"
                                    },
                                    {
                                        "name": "SOLD"
                                    }
                                ]
                            },
                            "data": [
                                {
                                    "0": "RAMESH",
                                    "1": "HOTEL MGMT.",
                                    "2": "DBASE",
                                    "3": "13000",
                                    "4": "35000",
                                    "5": "4"
                                },
                                {
                                    "0": "RAMESH",
                                    "1": "DEAD LEE",
                                    "2": "PASCAL",
                                    "3": "599.95",
                                    "4": "4500",
                                    "5": "73"
                                }
                            ]
                        },
                        "text/html": "<table><tr><th>PNAME</th><th>TITLE</th><th>DEVELOPIN</th><th>SCOST</th><th>DCOST</th><th>SOLD</th></tr><tr><td>RAMESH</td><td>HOTEL MGMT.</td><td>DBASE</td><td>13000</td><td>35000</td><td>4</td></tr><tr><td>RAMESH</td><td>DEAD LEE</td><td>PASCAL</td><td>599.95</td><td>4500</td><td>73</td></tr></table>"
                    },
                    "metadata": {}
                }
            ],
            "execution_count": 18
        },
        {
            "cell_type": "code",
            "source": [
                "-- 10. How many Programmers Studied at Sabhari? \r\n",
                "SELECT COUNT(*) AS NO_OF_PROGRAMMERS_STUDIED_AT_SABHARI\r\n",
                "FROM STUDIES\r\n",
                "WHERE INSTITUTE='SABHARI'"
            ],
            "metadata": {
                "language": "sql",
                "azdata_cell_guid": "e50b67a3-e19a-47fc-9b53-ef9dbdca4adf",
                "tags": []
            },
            "outputs": [
                {
                    "output_type": "display_data",
                    "data": {
                        "text/html": "(1 row affected)"
                    },
                    "metadata": {}
                },
                {
                    "output_type": "display_data",
                    "data": {
                        "text/html": "Total execution time: 00:00:00.016"
                    },
                    "metadata": {}
                },
                {
                    "output_type": "execute_result",
                    "execution_count": 19,
                    "data": {
                        "application/vnd.dataresource+json": {
                            "schema": {
                                "fields": [
                                    {
                                        "name": "NO_OF_PROGRAMMERS_STUDIED_AT_SABHARI"
                                    }
                                ]
                            },
                            "data": [
                                {
                                    "0": "4"
                                }
                            ]
                        },
                        "text/html": "<table><tr><th>NO_OF_PROGRAMMERS_STUDIED_AT_SABHARI</th></tr><tr><td>4</td></tr></table>"
                    },
                    "metadata": {}
                }
            ],
            "execution_count": 19
        },
        {
            "cell_type": "code",
            "source": [
                "-- 11. Display details of Packages whose sales crossed the 2000 Mark. \r\n",
                "SELECT PNAME, SA.TITLE, SOLD\r\n",
                "FROM SOFTWARE SS INNER JOIN (SELECT TITLE\r\n",
                "    FROM SOFTWARE\r\n",
                "    GROUP BY TITLE\r\n",
                "    HAVING SUM(SOLD)>2000) SA ON SS.TITLE=SA.TITLE"
            ],
            "metadata": {
                "language": "sql",
                "azdata_cell_guid": "992333c7-c05e-4296-ae09-0057fe467cb5"
            },
            "outputs": [
                {
                    "output_type": "display_data",
                    "data": {
                        "text/html": "(0 rows affected)"
                    },
                    "metadata": {}
                },
                {
                    "output_type": "display_data",
                    "data": {
                        "text/html": "Total execution time: 00:00:00.024"
                    },
                    "metadata": {}
                },
                {
                    "output_type": "execute_result",
                    "execution_count": 28,
                    "data": {
                        "application/vnd.dataresource+json": {
                            "schema": {
                                "fields": [
                                    {
                                        "name": "PNAME"
                                    },
                                    {
                                        "name": "TITLE"
                                    },
                                    {
                                        "name": "SOLD"
                                    }
                                ]
                            },
                            "data": []
                        },
                        "text/html": "<table><tr><th>PNAME</th><th>TITLE</th><th>SOLD</th></tr></table>"
                    },
                    "metadata": {}
                }
            ],
            "execution_count": 28
        },
        {
            "cell_type": "code",
            "source": [
                "-- 12. Display the Details of Packages for which Development Cost have been recovered. \r\n",
                "SELECT *\r\n",
                "FROM SOFTWARE\r\n",
                "WHERE (SCOST*SOLD) >DCOST"
            ],
            "metadata": {
                "language": "sql",
                "azdata_cell_guid": "01888c31-1a7c-4eff-a442-cae84b8546b1"
            },
            "outputs": [
                {
                    "output_type": "display_data",
                    "data": {
                        "text/html": "(13 rows affected)"
                    },
                    "metadata": {}
                },
                {
                    "output_type": "display_data",
                    "data": {
                        "text/html": "Total execution time: 00:00:00.069"
                    },
                    "metadata": {}
                },
                {
                    "output_type": "execute_result",
                    "execution_count": 33,
                    "data": {
                        "application/vnd.dataresource+json": {
                            "schema": {
                                "fields": [
                                    {
                                        "name": "PNAME"
                                    },
                                    {
                                        "name": "TITLE"
                                    },
                                    {
                                        "name": "DEVELOPIN"
                                    },
                                    {
                                        "name": "SCOST"
                                    },
                                    {
                                        "name": "DCOST"
                                    },
                                    {
                                        "name": "SOLD"
                                    }
                                ]
                            },
                            "data": [
                                {
                                    "0": "MARY",
                                    "1": "README",
                                    "2": "CPP",
                                    "3": "300",
                                    "4": "1200",
                                    "5": "84"
                                },
                                {
                                    "0": "ANAND",
                                    "1": "PARACHUTES",
                                    "2": "BASIC",
                                    "3": "399.95",
                                    "4": "6000",
                                    "5": "43"
                                },
                                {
                                    "0": "ANAND",
                                    "1": "VIDEO TITLING",
                                    "2": "PASCAL",
                                    "3": "7500",
                                    "4": "16000",
                                    "5": "9"
                                },
                                {
                                    "0": "KAMALA",
                                    "1": "PAYROLL PKG.",
                                    "2": "DBASE",
                                    "3": "9000",
                                    "4": "20000",
                                    "5": "7"
                                },
                                {
                                    "0": "MARY",
                                    "1": "CODE GENERATOR",
                                    "2": "C",
                                    "3": "4500",
                                    "4": "20000",
                                    "5": "23"
                                },
                                {
                                    "0": "PATTRICK",
                                    "1": "README",
                                    "2": "CPP",
                                    "3": "300",
                                    "4": "1200",
                                    "5": "84"
                                },
                                {
                                    "0": "QADIR",
                                    "1": "BOMBS AWAY",
                                    "2": "ASSEMBLY",
                                    "3": "750",
                                    "4": "3000",
                                    "5": "11"
                                },
                                {
                                    "0": "QADIR",
                                    "1": "VACCINES",
                                    "2": "C",
                                    "3": "1900",
                                    "4": "3100",
                                    "5": "21"
                                },
                                {
                                    "0": "RAMESH",
                                    "1": "HOTEL MGMT.",
                                    "2": "DBASE",
                                    "3": "13000",
                                    "4": "35000",
                                    "5": "4"
                                },
                                {
                                    "0": "RAMESH",
                                    "1": "DEAD LEE",
                                    "2": "PASCAL",
                                    "3": "599.95",
                                    "4": "4500",
                                    "5": "73"
                                },
                                {
                                    "0": "REMITHA",
                                    "1": "PC UTILITIES",
                                    "2": "C",
                                    "3": "725",
                                    "4": "5000",
                                    "5": "51"
                                },
                                {
                                    "0": "REMITHA",
                                    "1": "TSR HELP PKG.",
                                    "2": "ASSEMBLY",
                                    "3": "2500",
                                    "4": "6000",
                                    "5": "7"
                                },
                                {
                                    "0": "VIJAYA",
                                    "1": "TSR EDITOR",
                                    "2": "C",
                                    "3": "900",
                                    "4": "700",
                                    "5": "6"
                                }
                            ]
                        },
                        "text/html": "<table><tr><th>PNAME</th><th>TITLE</th><th>DEVELOPIN</th><th>SCOST</th><th>DCOST</th><th>SOLD</th></tr><tr><td>MARY</td><td>README</td><td>CPP</td><td>300</td><td>1200</td><td>84</td></tr><tr><td>ANAND</td><td>PARACHUTES</td><td>BASIC</td><td>399.95</td><td>6000</td><td>43</td></tr><tr><td>ANAND</td><td>VIDEO TITLING</td><td>PASCAL</td><td>7500</td><td>16000</td><td>9</td></tr><tr><td>KAMALA</td><td>PAYROLL PKG.</td><td>DBASE</td><td>9000</td><td>20000</td><td>7</td></tr><tr><td>MARY</td><td>CODE GENERATOR</td><td>C</td><td>4500</td><td>20000</td><td>23</td></tr><tr><td>PATTRICK</td><td>README</td><td>CPP</td><td>300</td><td>1200</td><td>84</td></tr><tr><td>QADIR</td><td>BOMBS AWAY</td><td>ASSEMBLY</td><td>750</td><td>3000</td><td>11</td></tr><tr><td>QADIR</td><td>VACCINES</td><td>C</td><td>1900</td><td>3100</td><td>21</td></tr><tr><td>RAMESH</td><td>HOTEL MGMT.</td><td>DBASE</td><td>13000</td><td>35000</td><td>4</td></tr><tr><td>RAMESH</td><td>DEAD LEE</td><td>PASCAL</td><td>599.95</td><td>4500</td><td>73</td></tr><tr><td>REMITHA</td><td>PC UTILITIES</td><td>C</td><td>725</td><td>5000</td><td>51</td></tr><tr><td>REMITHA</td><td>TSR HELP PKG.</td><td>ASSEMBLY</td><td>2500</td><td>6000</td><td>7</td></tr><tr><td>VIJAYA</td><td>TSR EDITOR</td><td>C</td><td>900</td><td>700</td><td>6</td></tr></table>"
                    },
                    "metadata": {}
                }
            ],
            "execution_count": 33
        },
        {
            "cell_type": "code",
            "source": [
                "-- 13. What is the cost of the costliest software development in Basic? \r\n",
                "SELECT MAX(DCOST) AS DCOST\r\n",
                "FROM SOFTWARE\r\n",
                "WHERE DEVELOPIN='BASIC'"
            ],
            "metadata": {
                "language": "sql",
                "azdata_cell_guid": "86353e3b-3d53-4aad-920a-5303d7b94638"
            },
            "outputs": [
                {
                    "output_type": "display_data",
                    "data": {
                        "text/html": "(1 row affected)"
                    },
                    "metadata": {}
                },
                {
                    "output_type": "display_data",
                    "data": {
                        "text/html": "Total execution time: 00:00:00.008"
                    },
                    "metadata": {}
                },
                {
                    "output_type": "execute_result",
                    "execution_count": 48,
                    "data": {
                        "application/vnd.dataresource+json": {
                            "schema": {
                                "fields": [
                                    {
                                        "name": "DCOST"
                                    }
                                ]
                            },
                            "data": [
                                {
                                    "0": "6000"
                                }
                            ]
                        },
                        "text/html": "<table><tr><th>DCOST</th></tr><tr><td>6000</td></tr></table>"
                    },
                    "metadata": {}
                }
            ],
            "execution_count": 48
        },
        {
            "cell_type": "code",
            "source": [
                "-- 14. How many Packages Developed in DBASE? \r\n",
                "SELECT COUNT(*) AS \"Packages Developed in DBASE\"\r\n",
                "FROM SOFTWARE\r\n",
                "WHERE DEVELOPIN='DBASE'"
            ],
            "metadata": {
                "language": "sql",
                "azdata_cell_guid": "0c460e99-9770-4098-8c98-8bfa542767e9"
            },
            "outputs": [
                {
                    "output_type": "display_data",
                    "data": {
                        "text/html": "(1 row affected)"
                    },
                    "metadata": {}
                },
                {
                    "output_type": "display_data",
                    "data": {
                        "text/html": "Total execution time: 00:00:00.007"
                    },
                    "metadata": {}
                },
                {
                    "output_type": "execute_result",
                    "execution_count": 50,
                    "data": {
                        "application/vnd.dataresource+json": {
                            "schema": {
                                "fields": [
                                    {
                                        "name": "Packages Developed in DBASE"
                                    }
                                ]
                            },
                            "data": [
                                {
                                    "0": "2"
                                }
                            ]
                        },
                        "text/html": "<table><tr><th>Packages Developed in DBASE</th></tr><tr><td>2</td></tr></table>"
                    },
                    "metadata": {}
                }
            ],
            "execution_count": 50
        },
        {
            "cell_type": "code",
            "source": [
                "-- 15. How many programmers studied in Pragathi? \r\n",
                "SELECT COUNT(*) \"programmers studied in Pragathi\"\r\n",
                "FROM STUDIES\r\n",
                "WHERE INSTITUTE='PRAGATHI'"
            ],
            "metadata": {
                "language": "sql",
                "azdata_cell_guid": "14a993a7-f700-4d8d-b6c4-de74e780bad3"
            },
            "outputs": [
                {
                    "output_type": "display_data",
                    "data": {
                        "text/html": "(1 row affected)"
                    },
                    "metadata": {}
                },
                {
                    "output_type": "display_data",
                    "data": {
                        "text/html": "Total execution time: 00:00:00.120"
                    },
                    "metadata": {}
                },
                {
                    "output_type": "execute_result",
                    "execution_count": 51,
                    "data": {
                        "application/vnd.dataresource+json": {
                            "schema": {
                                "fields": [
                                    {
                                        "name": "programmers studied in Pragathi"
                                    }
                                ]
                            },
                            "data": [
                                {
                                    "0": "3"
                                }
                            ]
                        },
                        "text/html": "<table><tr><th>programmers studied in Pragathi</th></tr><tr><td>3</td></tr></table>"
                    },
                    "metadata": {}
                }
            ],
            "execution_count": 51
        },
        {
            "cell_type": "code",
            "source": [
                "-- 16. How many Programmers Paid 5000 to 10000 for their course? \r\n",
                "SELECT COUNT(*) AS \"Programmers Paid 5000 to 10000\"\r\n",
                "FROM STUDIES\r\n",
                "WHERE [COURSE FEE] BETWEEN 5000 AND 10000"
            ],
            "metadata": {
                "language": "sql",
                "azdata_cell_guid": "c30f8a70-78a7-4149-b700-b3beee2aa0af"
            },
            "outputs": [
                {
                    "output_type": "display_data",
                    "data": {
                        "text/html": "(1 row affected)"
                    },
                    "metadata": {}
                },
                {
                    "output_type": "display_data",
                    "data": {
                        "text/html": "Total execution time: 00:00:00.009"
                    },
                    "metadata": {}
                },
                {
                    "output_type": "execute_result",
                    "execution_count": 52,
                    "data": {
                        "application/vnd.dataresource+json": {
                            "schema": {
                                "fields": [
                                    {
                                        "name": "Programmers Paid 5000 to 10000"
                                    }
                                ]
                            },
                            "data": [
                                {
                                    "0": "6"
                                }
                            ]
                        },
                        "text/html": "<table><tr><th>Programmers Paid 5000 to 10000</th></tr><tr><td>6</td></tr></table>"
                    },
                    "metadata": {}
                }
            ],
            "execution_count": 52
        },
        {
            "cell_type": "code",
            "source": [
                "-- 17. What is AVG Course Fee \r\n",
                "SELECT AVG([COURSE FEE]) AS AVG_COURSE_FEE\r\n",
                "FROM STUDIES"
            ],
            "metadata": {
                "language": "sql",
                "azdata_cell_guid": "38fdd784-8fd5-4815-91fc-6c0f7e3929b3",
                "tags": []
            },
            "outputs": [
                {
                    "output_type": "display_data",
                    "data": {
                        "text/html": "(1 row affected)"
                    },
                    "metadata": {}
                },
                {
                    "output_type": "display_data",
                    "data": {
                        "text/html": "Total execution time: 00:00:00.019"
                    },
                    "metadata": {}
                },
                {
                    "output_type": "execute_result",
                    "execution_count": 54,
                    "data": {
                        "application/vnd.dataresource+json": {
                            "schema": {
                                "fields": [
                                    {
                                        "name": "AVG_COURSE_FEE"
                                    }
                                ]
                            },
                            "data": [
                                {
                                    "0": "11007"
                                }
                            ]
                        },
                        "text/html": "<table><tr><th>AVG_COURSE_FEE</th></tr><tr><td>11007</td></tr></table>"
                    },
                    "metadata": {}
                }
            ],
            "execution_count": 54
        },
        {
            "cell_type": "code",
            "source": [
                "-- 18. Display the details of the Programmers Knowing C.\r\n",
                "SELECT *\r\n",
                "FROM PROGRAMMER\r\n",
                "WHERE 'C' IN (PROF1,PROF2)"
            ],
            "metadata": {
                "language": "sql",
                "azdata_cell_guid": "1ab65aa1-c64a-4024-817f-2f121e1d1047"
            },
            "outputs": [
                {
                    "output_type": "display_data",
                    "data": {
                        "text/html": "(4 rows affected)"
                    },
                    "metadata": {}
                },
                {
                    "output_type": "display_data",
                    "data": {
                        "text/html": "Total execution time: 00:00:00.020"
                    },
                    "metadata": {}
                },
                {
                    "output_type": "execute_result",
                    "execution_count": 55,
                    "data": {
                        "application/vnd.dataresource+json": {
                            "schema": {
                                "fields": [
                                    {
                                        "name": "PNAME"
                                    },
                                    {
                                        "name": "DOB"
                                    },
                                    {
                                        "name": "DOJ"
                                    },
                                    {
                                        "name": "GENDER"
                                    },
                                    {
                                        "name": "PROF1"
                                    },
                                    {
                                        "name": "PROF2"
                                    },
                                    {
                                        "name": "SALARY"
                                    }
                                ]
                            },
                            "data": [
                                {
                                    "0": "KAMALA",
                                    "1": "1968-10-30",
                                    "2": "1992-01-02",
                                    "3": "F",
                                    "4": "C",
                                    "5": "DBASE",
                                    "6": "2900"
                                },
                                {
                                    "0": "QADIR",
                                    "1": "1965-08-31",
                                    "2": "1991-04-21",
                                    "3": "M",
                                    "4": "ASSEMBLY",
                                    "5": "C",
                                    "6": "3000"
                                },
                                {
                                    "0": "REMITHA",
                                    "1": "1970-04-19",
                                    "2": "1993-04-20",
                                    "3": "F",
                                    "4": "C",
                                    "5": "ASSEMBLY",
                                    "6": "3600"
                                },
                                {
                                    "0": "VIJAYA",
                                    "1": "1965-12-14",
                                    "2": "1992-05-02",
                                    "3": "F",
                                    "4": "FOXPRO",
                                    "5": "C",
                                    "6": "3500"
                                }
                            ]
                        },
                        "text/html": "<table><tr><th>PNAME</th><th>DOB</th><th>DOJ</th><th>GENDER</th><th>PROF1</th><th>PROF2</th><th>SALARY</th></tr><tr><td>KAMALA</td><td>1968-10-30</td><td>1992-01-02</td><td>F</td><td>C</td><td>DBASE</td><td>2900</td></tr><tr><td>QADIR</td><td>1965-08-31</td><td>1991-04-21</td><td>M</td><td>ASSEMBLY</td><td>C</td><td>3000</td></tr><tr><td>REMITHA</td><td>1970-04-19</td><td>1993-04-20</td><td>F</td><td>C</td><td>ASSEMBLY</td><td>3600</td></tr><tr><td>VIJAYA</td><td>1965-12-14</td><td>1992-05-02</td><td>F</td><td>FOXPRO</td><td>C</td><td>3500</td></tr></table>"
                    },
                    "metadata": {}
                }
            ],
            "execution_count": 55
        },
        {
            "cell_type": "code",
            "source": [
                "-- 19. How many Programmers know either COBOL or PASCAL. \r\n",
                "SELECT COUNT(*) AS \"Programmers know either COBOL or PASCAL\" FROM PROGRAMMER WHERE PROF1 IN ('PASCAL','COBOL')"
            ],
            "metadata": {
                "language": "sql",
                "azdata_cell_guid": "43279ddd-3101-4375-a45a-5f05704f9648",
                "tags": []
            },
            "outputs": [
                {
                    "output_type": "display_data",
                    "data": {
                        "text/html": "(1 row affected)"
                    },
                    "metadata": {}
                },
                {
                    "output_type": "display_data",
                    "data": {
                        "text/html": "Total execution time: 00:00:00.022"
                    },
                    "metadata": {}
                },
                {
                    "output_type": "execute_result",
                    "execution_count": 56,
                    "data": {
                        "application/vnd.dataresource+json": {
                            "schema": {
                                "fields": [
                                    {
                                        "name": "Programmers know either COBOL or PASCAL"
                                    }
                                ]
                            },
                            "data": [
                                {
                                    "0": "6"
                                }
                            ]
                        },
                        "text/html": "<table><tr><th>Programmers know either COBOL or PASCAL</th></tr><tr><td>6</td></tr></table>"
                    },
                    "metadata": {}
                }
            ],
            "execution_count": 56
        },
        {
            "cell_type": "code",
            "source": [
                "-- 20. How many Programmers Don’t know PASCAL and C \r\n",
                "SELECT COUNT(*) AS \"Programmers Don’t know PASCAL and C\"\r\n",
                "FROM PROGRAMMER\r\n",
                "WHERE 'PASCAL' NOT IN (PROF1,PROF2) AND 'C' NOT IN (PROF1,PROF2)"
            ],
            "metadata": {
                "language": "sql",
                "azdata_cell_guid": "a52aa7a4-c280-4c13-84a0-b188bea25469"
            },
            "outputs": [
                {
                    "output_type": "display_data",
                    "data": {
                        "text/html": "(1 row affected)"
                    },
                    "metadata": {}
                },
                {
                    "output_type": "display_data",
                    "data": {
                        "text/html": "Total execution time: 00:00:00.071"
                    },
                    "metadata": {}
                },
                {
                    "output_type": "execute_result",
                    "execution_count": 59,
                    "data": {
                        "application/vnd.dataresource+json": {
                            "schema": {
                                "fields": [
                                    {
                                        "name": "Programmers Don’t know PASCAL and C"
                                    }
                                ]
                            },
                            "data": [
                                {
                                    "0": "5"
                                }
                            ]
                        },
                        "text/html": "<table><tr><th>Programmers Don’t know PASCAL and C</th></tr><tr><td>5</td></tr></table>"
                    },
                    "metadata": {}
                }
            ],
            "execution_count": 59
        },
        {
            "cell_type": "code",
            "source": [
                "-- 21. How old is the Oldest Male Programmer. \r\n",
                "SELECT TOP 1\r\n",
                "    DATEDIFF(YY,DOB,GETDATE()) AS \"AGE(YEARS)\"\r\n",
                "FROM PROGRAMMER\r\n",
                "WHERE GENDER='M'\r\n",
                "ORDER BY DOB"
            ],
            "metadata": {
                "language": "sql",
                "azdata_cell_guid": "76f6eb18-caed-4b27-a4b5-acfdc1ffb784"
            },
            "outputs": [
                {
                    "output_type": "display_data",
                    "data": {
                        "text/html": "(1 row affected)"
                    },
                    "metadata": {}
                },
                {
                    "output_type": "display_data",
                    "data": {
                        "text/html": "Total execution time: 00:00:00.005"
                    },
                    "metadata": {}
                },
                {
                    "output_type": "execute_result",
                    "execution_count": 64,
                    "data": {
                        "application/vnd.dataresource+json": {
                            "schema": {
                                "fields": [
                                    {
                                        "name": "AGE(YEARS)"
                                    }
                                ]
                            },
                            "data": [
                                {
                                    "0": "59"
                                }
                            ]
                        },
                        "text/html": "<table><tr><th>AGE(YEARS)</th></tr><tr><td>59</td></tr></table>"
                    },
                    "metadata": {}
                }
            ],
            "execution_count": 64
        },
        {
            "cell_type": "code",
            "source": [
                "-- 22. What is the AVG age of Female Programmers? \r\n",
                "SELECT AVG(DATEDIFF(YY,DOB,GETDATE())) AS AVG_AGE\r\n",
                "FROM PROGRAMMER\r\n",
                "WHERE GENDER='F'"
            ],
            "metadata": {
                "language": "sql",
                "azdata_cell_guid": "9ff3aae0-50f0-475b-8baa-bd47e8375a28"
            },
            "outputs": [
                {
                    "output_type": "display_data",
                    "data": {
                        "text/html": "(1 row affected)"
                    },
                    "metadata": {}
                },
                {
                    "output_type": "display_data",
                    "data": {
                        "text/html": "Total execution time: 00:00:00.006"
                    },
                    "metadata": {}
                },
                {
                    "output_type": "execute_result",
                    "execution_count": 67,
                    "data": {
                        "application/vnd.dataresource+json": {
                            "schema": {
                                "fields": [
                                    {
                                        "name": "AVG_AGE"
                                    }
                                ]
                            },
                            "data": [
                                {
                                    "0": "56"
                                }
                            ]
                        },
                        "text/html": "<table><tr><th>AVG_AGE</th></tr><tr><td>56</td></tr></table>"
                    },
                    "metadata": {}
                }
            ],
            "execution_count": 67
        },
        {
            "cell_type": "code",
            "source": [
                "-- 23. Calculate the Experience in Years for each Programmer and Display with their \r\n",
                "-- names in Descending order. \r\n",
                "\r\n",
                "SELECT PNAME, DATEDIFF(YY,DOJ,GETDATE()) AS \"Experience in Years\"\r\n",
                "FROM PROGRAMMER\r\n",
                "ORDER BY PNAME DESC"
            ],
            "metadata": {
                "language": "sql",
                "azdata_cell_guid": "4fa6be29-0fea-4ce7-8c2b-3f3a0d1251c7",
                "tags": []
            },
            "outputs": [
                {
                    "output_type": "display_data",
                    "data": {
                        "text/html": "(13 rows affected)"
                    },
                    "metadata": {}
                },
                {
                    "output_type": "display_data",
                    "data": {
                        "text/html": "Total execution time: 00:00:00.006"
                    },
                    "metadata": {}
                },
                {
                    "output_type": "execute_result",
                    "execution_count": 69,
                    "data": {
                        "application/vnd.dataresource+json": {
                            "schema": {
                                "fields": [
                                    {
                                        "name": "PNAME"
                                    },
                                    {
                                        "name": "Experience in Years"
                                    }
                                ]
                            },
                            "data": [
                                {
                                    "0": "VIJAYA",
                                    "1": "31"
                                },
                                {
                                    "0": "REVATHI",
                                    "1": "31"
                                },
                                {
                                    "0": "REMITHA",
                                    "1": "30"
                                },
                                {
                                    "0": "REBECCA",
                                    "1": "33"
                                },
                                {
                                    "0": "RAMESH",
                                    "1": "32"
                                },
                                {
                                    "0": "QADIR",
                                    "1": "32"
                                },
                                {
                                    "0": "PATTRICK",
                                    "1": "33"
                                },
                                {
                                    "0": "NELSON",
                                    "1": "34"
                                },
                                {
                                    "0": "MARY",
                                    "1": "32"
                                },
                                {
                                    "0": "KAMALA",
                                    "1": "31"
                                },
                                {
                                    "0": "JULIANA",
                                    "1": "33"
                                },
                                {
                                    "0": "ANAND",
                                    "1": "31"
                                },
                                {
                                    "0": "ALTAF",
                                    "1": "33"
                                }
                            ]
                        },
                        "text/html": "<table><tr><th>PNAME</th><th>Experience in Years</th></tr><tr><td>VIJAYA</td><td>31</td></tr><tr><td>REVATHI</td><td>31</td></tr><tr><td>REMITHA</td><td>30</td></tr><tr><td>REBECCA</td><td>33</td></tr><tr><td>RAMESH</td><td>32</td></tr><tr><td>QADIR</td><td>32</td></tr><tr><td>PATTRICK</td><td>33</td></tr><tr><td>NELSON</td><td>34</td></tr><tr><td>MARY</td><td>32</td></tr><tr><td>KAMALA</td><td>31</td></tr><tr><td>JULIANA</td><td>33</td></tr><tr><td>ANAND</td><td>31</td></tr><tr><td>ALTAF</td><td>33</td></tr></table>"
                    },
                    "metadata": {}
                }
            ],
            "execution_count": 69
        },
        {
            "cell_type": "code",
            "source": [
                "-- 24. Who are the Programmers who celebrate their Birthday’s During the Current\r\n",
                "-- Month?\r\n",
                "SELECT *\r\n",
                "FROM PROGRAMMER\r\n",
                "WHERE MONTH(DOB) = MONTH(GETDATE())"
            ],
            "metadata": {
                "language": "sql",
                "azdata_cell_guid": "af127dd5-3b03-4797-901a-12be9697b4af"
            },
            "outputs": [
                {
                    "output_type": "display_data",
                    "data": {
                        "text/html": "(2 rows affected)"
                    },
                    "metadata": {}
                },
                {
                    "output_type": "display_data",
                    "data": {
                        "text/html": "Total execution time: 00:00:00.021"
                    },
                    "metadata": {}
                },
                {
                    "output_type": "execute_result",
                    "execution_count": 70,
                    "data": {
                        "application/vnd.dataresource+json": {
                            "schema": {
                                "fields": [
                                    {
                                        "name": "PNAME"
                                    },
                                    {
                                        "name": "DOB"
                                    },
                                    {
                                        "name": "DOJ"
                                    },
                                    {
                                        "name": "GENDER"
                                    },
                                    {
                                        "name": "PROF1"
                                    },
                                    {
                                        "name": "PROF2"
                                    },
                                    {
                                        "name": "SALARY"
                                    }
                                ]
                            },
                            "data": [
                                {
                                    "0": "ANAND",
                                    "1": "1966-04-12",
                                    "2": "1992-04-21",
                                    "3": "M",
                                    "4": "PASCAL",
                                    "5": "BASIC",
                                    "6": "3200"
                                },
                                {
                                    "0": "REMITHA",
                                    "1": "1970-04-19",
                                    "2": "1993-04-20",
                                    "3": "F",
                                    "4": "C",
                                    "5": "ASSEMBLY",
                                    "6": "3600"
                                }
                            ]
                        },
                        "text/html": "<table><tr><th>PNAME</th><th>DOB</th><th>DOJ</th><th>GENDER</th><th>PROF1</th><th>PROF2</th><th>SALARY</th></tr><tr><td>ANAND</td><td>1966-04-12</td><td>1992-04-21</td><td>M</td><td>PASCAL</td><td>BASIC</td><td>3200</td></tr><tr><td>REMITHA</td><td>1970-04-19</td><td>1993-04-20</td><td>F</td><td>C</td><td>ASSEMBLY</td><td>3600</td></tr></table>"
                    },
                    "metadata": {}
                }
            ],
            "execution_count": 70
        },
        {
            "cell_type": "code",
            "source": [
                "-- 25. How many Female Programmers are there? \r\n",
                "SELECT COUNT(*) NO_OF_FEMALE_PROGRAMMERS\r\n",
                "FROM PROGRAMMER\r\n",
                "WHERE GENDER='F'"
            ],
            "metadata": {
                "language": "sql",
                "azdata_cell_guid": "e5665b65-d1a6-4c05-97c9-55eedf49395c",
                "tags": []
            },
            "outputs": [
                {
                    "output_type": "display_data",
                    "data": {
                        "text/html": "(1 row affected)"
                    },
                    "metadata": {}
                },
                {
                    "output_type": "display_data",
                    "data": {
                        "text/html": "Total execution time: 00:00:00.021"
                    },
                    "metadata": {}
                },
                {
                    "output_type": "execute_result",
                    "execution_count": 71,
                    "data": {
                        "application/vnd.dataresource+json": {
                            "schema": {
                                "fields": [
                                    {
                                        "name": "NO_OF_FEMALE_PROGRAMMERS"
                                    }
                                ]
                            },
                            "data": [
                                {
                                    "0": "7"
                                }
                            ]
                        },
                        "text/html": "<table><tr><th>NO_OF_FEMALE_PROGRAMMERS</th></tr><tr><td>7</td></tr></table>"
                    },
                    "metadata": {}
                }
            ],
            "execution_count": 71
        },
        {
            "cell_type": "code",
            "source": [
                "-- 26. What are the Languages studied by Male Programmers. \r\n",
                "SELECT DISTINCT(PROF1)\r\n",
                "FROM PROGRAMMER P1\r\n",
                "    JOIN (SELECT PNAME, PROF2\r\n",
                "    FROM PROGRAMMER) P2\r\n",
                "    ON P1.PNAME=P2.PNAME"
            ],
            "metadata": {
                "language": "sql",
                "azdata_cell_guid": "596bd20b-31a3-4edc-bd70-8f0b19fd6e49",
                "tags": []
            },
            "outputs": [
                {
                    "output_type": "display_data",
                    "data": {
                        "text/html": "(8 rows affected)"
                    },
                    "metadata": {}
                },
                {
                    "output_type": "display_data",
                    "data": {
                        "text/html": "Total execution time: 00:00:00.011"
                    },
                    "metadata": {}
                },
                {
                    "output_type": "execute_result",
                    "execution_count": 90,
                    "data": {
                        "application/vnd.dataresource+json": {
                            "schema": {
                                "fields": [
                                    {
                                        "name": "PROF1"
                                    }
                                ]
                            },
                            "data": [
                                {
                                    "0": "ASSEMBLY"
                                },
                                {
                                    "0": "BASIC"
                                },
                                {
                                    "0": "C"
                                },
                                {
                                    "0": "CLIPPER"
                                },
                                {
                                    "0": "COBOL"
                                },
                                {
                                    "0": "CPP"
                                },
                                {
                                    "0": "FOXPRO"
                                },
                                {
                                    "0": "PASCAL"
                                }
                            ]
                        },
                        "text/html": "<table><tr><th>PROF1</th></tr><tr><td>ASSEMBLY</td></tr><tr><td>BASIC</td></tr><tr><td>C</td></tr><tr><td>CLIPPER</td></tr><tr><td>COBOL</td></tr><tr><td>CPP</td></tr><tr><td>FOXPRO</td></tr><tr><td>PASCAL</td></tr></table>"
                    },
                    "metadata": {}
                }
            ],
            "execution_count": 90
        },
        {
            "cell_type": "code",
            "source": [
                "SELECT PROF1 FROM PROGRAMMER WHERE GENDER='M'\r\n",
                "UNION \r\n",
                "SELECT PROF2 FROM PROGRAMMER WHERE GENDER='M'"
            ],
            "metadata": {
                "language": "sql",
                "azdata_cell_guid": "0d555c52-d96b-4e07-bd66-bc07bddc484c"
            },
            "outputs": [
                {
                    "output_type": "display_data",
                    "data": {
                        "text/html": "(7 rows affected)"
                    },
                    "metadata": {}
                },
                {
                    "output_type": "display_data",
                    "data": {
                        "text/html": "Total execution time: 00:00:00.006"
                    },
                    "metadata": {}
                },
                {
                    "output_type": "execute_result",
                    "execution_count": 89,
                    "data": {
                        "application/vnd.dataresource+json": {
                            "schema": {
                                "fields": [
                                    {
                                        "name": "PROF1"
                                    }
                                ]
                            },
                            "data": [
                                {
                                    "0": "ASSEMBLY"
                                },
                                {
                                    "0": "BASIC"
                                },
                                {
                                    "0": "C"
                                },
                                {
                                    "0": "CLIPPER"
                                },
                                {
                                    "0": "COBOL"
                                },
                                {
                                    "0": "DBASE"
                                },
                                {
                                    "0": "PASCAL"
                                }
                            ]
                        },
                        "text/html": "<table><tr><th>PROF1</th></tr><tr><td>ASSEMBLY</td></tr><tr><td>BASIC</td></tr><tr><td>C</td></tr><tr><td>CLIPPER</td></tr><tr><td>COBOL</td></tr><tr><td>DBASE</td></tr><tr><td>PASCAL</td></tr></table>"
                    },
                    "metadata": {}
                }
            ],
            "execution_count": 89
        },
        {
            "cell_type": "code",
            "source": [
                "-- 27. What is the AVG Salary? \r\n",
                "SELECT AVG(SALARY) AS AVG_SALARY\r\n",
                "FROM PROGRAMMER \r\n",
                ""
            ],
            "metadata": {
                "language": "sql",
                "azdata_cell_guid": "66fa0c22-0581-4ade-b3a8-88acd5fe318d",
                "tags": []
            },
            "outputs": [
                {
                    "output_type": "display_data",
                    "data": {
                        "text/html": "(1 row affected)"
                    },
                    "metadata": {}
                },
                {
                    "output_type": "display_data",
                    "data": {
                        "text/html": "Total execution time: 00:00:00.005"
                    },
                    "metadata": {}
                },
                {
                    "output_type": "execute_result",
                    "execution_count": 93,
                    "data": {
                        "application/vnd.dataresource+json": {
                            "schema": {
                                "fields": [
                                    {
                                        "name": "AVG_SALARY"
                                    }
                                ]
                            },
                            "data": [
                                {
                                    "0": "3169"
                                }
                            ]
                        },
                        "text/html": "<table><tr><th>AVG_SALARY</th></tr><tr><td>3169</td></tr></table>"
                    },
                    "metadata": {}
                }
            ],
            "execution_count": 93
        },
        {
            "cell_type": "code",
            "source": [
                "-- 28. How many people draw salary 2000 to 4000? \r\n",
                "SELECT COUNT(*) AS NO_OF_PEOPLE\r\n",
                "FROM PROGRAMMER\r\n",
                "WHERE SALARY BETWEEN 2000 AND 4000"
            ],
            "metadata": {
                "language": "sql",
                "azdata_cell_guid": "4f8423c8-33b2-4bc1-8994-18573ee5a5bb"
            },
            "outputs": [
                {
                    "output_type": "display_data",
                    "data": {
                        "text/html": "(1 row affected)"
                    },
                    "metadata": {}
                },
                {
                    "output_type": "display_data",
                    "data": {
                        "text/html": "Total execution time: 00:00:00.010"
                    },
                    "metadata": {}
                },
                {
                    "output_type": "execute_result",
                    "execution_count": 95,
                    "data": {
                        "application/vnd.dataresource+json": {
                            "schema": {
                                "fields": [
                                    {
                                        "name": "NO_OF_PEOPLE"
                                    }
                                ]
                            },
                            "data": [
                                {
                                    "0": "12"
                                }
                            ]
                        },
                        "text/html": "<table><tr><th>NO_OF_PEOPLE</th></tr><tr><td>12</td></tr></table>"
                    },
                    "metadata": {}
                }
            ],
            "execution_count": 95
        },
        {
            "cell_type": "code",
            "source": [
                "-- 29. Display the details of those who don’t know Clipper, COBOL or PASCAL. \r\n",
                "SELECT *\r\n",
                "FROM PROGRAMMER\r\n",
                "WHERE PROF1 NOT IN ('CLIPPER','COBOL','PASCAL') AND PROF2 NOT IN ('CLIPPER','COBOL','PASCAL')"
            ],
            "metadata": {
                "language": "sql",
                "azdata_cell_guid": "fc56c161-9fb2-45f6-a5c1-37ab232e0e34"
            },
            "outputs": [
                {
                    "output_type": "display_data",
                    "data": {
                        "text/html": "(5 rows affected)"
                    },
                    "metadata": {}
                },
                {
                    "output_type": "display_data",
                    "data": {
                        "text/html": "Total execution time: 00:00:00.007"
                    },
                    "metadata": {}
                },
                {
                    "output_type": "execute_result",
                    "execution_count": 97,
                    "data": {
                        "application/vnd.dataresource+json": {
                            "schema": {
                                "fields": [
                                    {
                                        "name": "PNAME"
                                    },
                                    {
                                        "name": "DOB"
                                    },
                                    {
                                        "name": "DOJ"
                                    },
                                    {
                                        "name": "GENDER"
                                    },
                                    {
                                        "name": "PROF1"
                                    },
                                    {
                                        "name": "PROF2"
                                    },
                                    {
                                        "name": "SALARY"
                                    }
                                ]
                            },
                            "data": [
                                {
                                    "0": "KAMALA",
                                    "1": "1968-10-30",
                                    "2": "1992-01-02",
                                    "3": "F",
                                    "4": "C",
                                    "5": "DBASE",
                                    "6": "2900"
                                },
                                {
                                    "0": "MARY",
                                    "1": "1970-06-24",
                                    "2": "1991-02-01",
                                    "3": "F",
                                    "4": "CPP",
                                    "5": "ORACLE",
                                    "6": "4500"
                                },
                                {
                                    "0": "QADIR",
                                    "1": "1965-08-31",
                                    "2": "1991-04-21",
                                    "3": "M",
                                    "4": "ASSEMBLY",
                                    "5": "C",
                                    "6": "3000"
                                },
                                {
                                    "0": "REMITHA",
                                    "1": "1970-04-19",
                                    "2": "1993-04-20",
                                    "3": "F",
                                    "4": "C",
                                    "5": "ASSEMBLY",
                                    "6": "3600"
                                },
                                {
                                    "0": "VIJAYA",
                                    "1": "1965-12-14",
                                    "2": "1992-05-02",
                                    "3": "F",
                                    "4": "FOXPRO",
                                    "5": "C",
                                    "6": "3500"
                                }
                            ]
                        },
                        "text/html": "<table><tr><th>PNAME</th><th>DOB</th><th>DOJ</th><th>GENDER</th><th>PROF1</th><th>PROF2</th><th>SALARY</th></tr><tr><td>KAMALA</td><td>1968-10-30</td><td>1992-01-02</td><td>F</td><td>C</td><td>DBASE</td><td>2900</td></tr><tr><td>MARY</td><td>1970-06-24</td><td>1991-02-01</td><td>F</td><td>CPP</td><td>ORACLE</td><td>4500</td></tr><tr><td>QADIR</td><td>1965-08-31</td><td>1991-04-21</td><td>M</td><td>ASSEMBLY</td><td>C</td><td>3000</td></tr><tr><td>REMITHA</td><td>1970-04-19</td><td>1993-04-20</td><td>F</td><td>C</td><td>ASSEMBLY</td><td>3600</td></tr><tr><td>VIJAYA</td><td>1965-12-14</td><td>1992-05-02</td><td>F</td><td>FOXPRO</td><td>C</td><td>3500</td></tr></table>"
                    },
                    "metadata": {}
                }
            ],
            "execution_count": 97
        },
        {
            "cell_type": "code",
            "source": [
                "-- 30. Display the Cost of Package Developed By each Programmer. \r\n",
                "SELECT SUM(DCOST) AS DCOST, PNAME\r\n",
                "FROM SOFTWARE\r\n",
                "GROUP BY  PNAME"
            ],
            "metadata": {
                "language": "sql",
                "azdata_cell_guid": "0b14b461-c2ad-4fbc-b8d0-aefa441ffb6e"
            },
            "outputs": [
                {
                    "output_type": "display_data",
                    "data": {
                        "text/html": "(10 rows affected)"
                    },
                    "metadata": {}
                },
                {
                    "output_type": "display_data",
                    "data": {
                        "text/html": "Total execution time: 00:00:00.184"
                    },
                    "metadata": {}
                },
                {
                    "output_type": "execute_result",
                    "execution_count": 108,
                    "data": {
                        "application/vnd.dataresource+json": {
                            "schema": {
                                "fields": [
                                    {
                                        "name": "DCOST"
                                    },
                                    {
                                        "name": "PNAME"
                                    }
                                ]
                            },
                            "data": [
                                {
                                    "0": "22000",
                                    "1": "ANAND"
                                },
                                {
                                    "0": "3500",
                                    "1": "JULIANA"
                                },
                                {
                                    "0": "20000",
                                    "1": "KAMALA"
                                },
                                {
                                    "0": "106200",
                                    "1": "MARY"
                                },
                                {
                                    "0": "1200",
                                    "1": "PATTRICK"
                                },
                                {
                                    "0": "6100",
                                    "1": "QADIR"
                                },
                                {
                                    "0": "39500",
                                    "1": "RAMESH"
                                },
                                {
                                    "0": "11000",
                                    "1": "REMITHA"
                                },
                                {
                                    "0": "75000",
                                    "1": "REVATHI"
                                },
                                {
                                    "0": "700",
                                    "1": "VIJAYA"
                                }
                            ]
                        },
                        "text/html": "<table><tr><th>DCOST</th><th>PNAME</th></tr><tr><td>22000</td><td>ANAND</td></tr><tr><td>3500</td><td>JULIANA</td></tr><tr><td>20000</td><td>KAMALA</td></tr><tr><td>106200</td><td>MARY</td></tr><tr><td>1200</td><td>PATTRICK</td></tr><tr><td>6100</td><td>QADIR</td></tr><tr><td>39500</td><td>RAMESH</td></tr><tr><td>11000</td><td>REMITHA</td></tr><tr><td>75000</td><td>REVATHI</td></tr><tr><td>700</td><td>VIJAYA</td></tr></table>"
                    },
                    "metadata": {}
                }
            ],
            "execution_count": 108
        },
        {
            "cell_type": "code",
            "source": [
                "-- 31. Display the sales values of the Packages Developed by the each Programmer. \r\n",
                "SELECT PNAME, SUM(SOLD) AS SOLD\r\n",
                "FROM SOFTWARE\r\n",
                "GROUP BY PNAME\r\n",
                "ORDER BY SOLD DESC"
            ],
            "metadata": {
                "language": "sql",
                "azdata_cell_guid": "b8e450b0-8b20-400c-a875-745b73efaee4",
                "tags": []
            },
            "outputs": [
                {
                    "output_type": "display_data",
                    "data": {
                        "text/html": "(10 rows affected)"
                    },
                    "metadata": {}
                },
                {
                    "output_type": "display_data",
                    "data": {
                        "text/html": "Total execution time: 00:00:00.008"
                    },
                    "metadata": {}
                },
                {
                    "output_type": "execute_result",
                    "metadata": {},
                    "execution_count": 10,
                    "data": {
                        "application/vnd.dataresource+json": {
                            "schema": {
                                "fields": [
                                    {
                                        "name": "PNAME"
                                    },
                                    {
                                        "name": "SOLD"
                                    }
                                ]
                            },
                            "data": [
                                {
                                    "0": "MARY",
                                    "1": "111"
                                },
                                {
                                    "0": "PATTRICK",
                                    "1": "84"
                                },
                                {
                                    "0": "RAMESH",
                                    "1": "77"
                                },
                                {
                                    "0": "REMITHA",
                                    "1": "58"
                                },
                                {
                                    "0": "ANAND",
                                    "1": "52"
                                },
                                {
                                    "0": "QADIR",
                                    "1": "32"
                                },
                                {
                                    "0": "KAMALA",
                                    "1": "7"
                                },
                                {
                                    "0": "VIJAYA",
                                    "1": "6"
                                },
                                {
                                    "0": "REVATHI",
                                    "1": "2"
                                },
                                {
                                    "0": "JULIANA",
                                    "1": "0"
                                }
                            ]
                        },
                        "text/html": [
                            "<table>",
                            "<tr><th>PNAME</th><th>SOLD</th></tr>",
                            "<tr><td>MARY</td><td>111</td></tr>",
                            "<tr><td>PATTRICK</td><td>84</td></tr>",
                            "<tr><td>RAMESH</td><td>77</td></tr>",
                            "<tr><td>REMITHA</td><td>58</td></tr>",
                            "<tr><td>ANAND</td><td>52</td></tr>",
                            "<tr><td>QADIR</td><td>32</td></tr>",
                            "<tr><td>KAMALA</td><td>7</td></tr>",
                            "<tr><td>VIJAYA</td><td>6</td></tr>",
                            "<tr><td>REVATHI</td><td>2</td></tr>",
                            "<tr><td>JULIANA</td><td>0</td></tr>",
                            "</table>"
                        ]
                    }
                }
            ],
            "execution_count": 10
        },
        {
            "cell_type": "code",
            "source": [
                "-- 33. Display the sales cost of the packages Developed by each Programmer Language wise. \r\n",
                "SELECT PNAME, DEVELOPIN, SUM(SCOST) AS SALES_COST\r\n",
                "FROM SOFTWARE\r\n",
                "GROUP BY PNAME, DEVELOPIN\r\n",
                "ORDER BY DEVELOPIN, SALES_COST"
            ],
            "metadata": {
                "language": "sql",
                "azdata_cell_guid": "0c9bccbc-7b6d-4d2b-82f8-6a986028d826"
            },
            "outputs": [
                {
                    "output_type": "display_data",
                    "data": {
                        "text/html": "(16 rows affected)"
                    },
                    "metadata": {}
                },
                {
                    "output_type": "display_data",
                    "data": {
                        "text/html": "Total execution time: 00:00:00.107"
                    },
                    "metadata": {}
                },
                {
                    "output_type": "execute_result",
                    "metadata": {},
                    "execution_count": 13,
                    "data": {
                        "application/vnd.dataresource+json": {
                            "schema": {
                                "fields": [
                                    {
                                        "name": "PNAME"
                                    },
                                    {
                                        "name": "DEVELOPIN"
                                    },
                                    {
                                        "name": "SALES_COST"
                                    }
                                ]
                            },
                            "data": [
                                {
                                    "0": "QADIR",
                                    "1": "ASSEMBLY",
                                    "2": "750"
                                },
                                {
                                    "0": "REMITHA",
                                    "1": "ASSEMBLY",
                                    "2": "2500"
                                },
                                {
                                    "0": "ANAND",
                                    "1": "BASIC",
                                    "2": "399.95"
                                },
                                {
                                    "0": "REMITHA",
                                    "1": "C",
                                    "2": "725"
                                },
                                {
                                    "0": "VIJAYA",
                                    "1": "C",
                                    "2": "900"
                                },
                                {
                                    "0": "QADIR",
                                    "1": "C",
                                    "2": "1900"
                                },
                                {
                                    "0": "MARY",
                                    "1": "C",
                                    "2": "4500"
                                },
                                {
                                    "0": "JULIANA",
                                    "1": "COBOL",
                                    "2": "3000"
                                },
                                {
                                    "0": "MARY",
                                    "1": "CPP",
                                    "2": "300"
                                },
                                {
                                    "0": "PATTRICK",
                                    "1": "CPP",
                                    "2": "300"
                                },
                                {
                                    "0": "KAMALA",
                                    "1": "DBASE",
                                    "2": "9000"
                                },
                                {
                                    "0": "RAMESH",
                                    "1": "DBASE",
                                    "2": "13000"
                                },
                                {
                                    "0": "MARY",
                                    "1": "ORACLE",
                                    "2": "18000"
                                },
                                {
                                    "0": "RAMESH",
                                    "1": "PASCAL",
                                    "2": "599.95"
                                },
                                {
                                    "0": "REVATHI",
                                    "1": "PASCAL",
                                    "2": "1100"
                                },
                                {
                                    "0": "ANAND",
                                    "1": "PASCAL",
                                    "2": "7500"
                                }
                            ]
                        },
                        "text/html": [
                            "<table>",
                            "<tr><th>PNAME</th><th>DEVELOPIN</th><th>SALES_COST</th></tr>",
                            "<tr><td>QADIR</td><td>ASSEMBLY</td><td>750</td></tr>",
                            "<tr><td>REMITHA</td><td>ASSEMBLY</td><td>2500</td></tr>",
                            "<tr><td>ANAND</td><td>BASIC</td><td>399.95</td></tr>",
                            "<tr><td>REMITHA</td><td>C</td><td>725</td></tr>",
                            "<tr><td>VIJAYA</td><td>C</td><td>900</td></tr>",
                            "<tr><td>QADIR</td><td>C</td><td>1900</td></tr>",
                            "<tr><td>MARY</td><td>C</td><td>4500</td></tr>",
                            "<tr><td>JULIANA</td><td>COBOL</td><td>3000</td></tr>",
                            "<tr><td>MARY</td><td>CPP</td><td>300</td></tr>",
                            "<tr><td>PATTRICK</td><td>CPP</td><td>300</td></tr>",
                            "<tr><td>KAMALA</td><td>DBASE</td><td>9000</td></tr>",
                            "<tr><td>RAMESH</td><td>DBASE</td><td>13000</td></tr>",
                            "<tr><td>MARY</td><td>ORACLE</td><td>18000</td></tr>",
                            "<tr><td>RAMESH</td><td>PASCAL</td><td>599.95</td></tr>",
                            "<tr><td>REVATHI</td><td>PASCAL</td><td>1100</td></tr>",
                            "<tr><td>ANAND</td><td>PASCAL</td><td>7500</td></tr>",
                            "</table>"
                        ]
                    }
                }
            ],
            "execution_count": 13
        },
        {
            "cell_type": "code",
            "source": [
                "-- 34. Display each language name with AVG Development Cost, AVG Selling Cost and AVG Price per Copy. \r\n",
                "SELECT DEVELOPIN,AVG(DCOST) AS AVG_DCOST, AVG(SCOST) AS AVG_SCOST, AVG(SOLD) AS AVG_SOLD\r\n",
                "FROM SOFTWARE GROUP BY DEVELOPIN"
            ],
            "metadata": {
                "language": "sql",
                "azdata_cell_guid": "c0da80be-7b0e-462e-bb26-965a5b27fef3"
            },
            "outputs": [
                {
                    "output_type": "display_data",
                    "data": {
                        "text/html": "(8 rows affected)"
                    },
                    "metadata": {}
                },
                {
                    "output_type": "display_data",
                    "data": {
                        "text/html": "Total execution time: 00:00:00.076"
                    },
                    "metadata": {}
                },
                {
                    "output_type": "execute_result",
                    "metadata": {},
                    "execution_count": 15,
                    "data": {
                        "application/vnd.dataresource+json": {
                            "schema": {
                                "fields": [
                                    {
                                        "name": "DEVELOPIN"
                                    },
                                    {
                                        "name": "AVG_DCOST"
                                    },
                                    {
                                        "name": "AVG_SCOST"
                                    },
                                    {
                                        "name": "AVG_SOLD"
                                    }
                                ]
                            },
                            "data": [
                                {
                                    "0": "ASSEMBLY",
                                    "1": "4500",
                                    "2": "1625",
                                    "3": "9"
                                },
                                {
                                    "0": "BASIC",
                                    "1": "6000",
                                    "2": "399.95",
                                    "3": "43"
                                },
                                {
                                    "0": "C",
                                    "1": "7200",
                                    "2": "2006.25",
                                    "3": "25"
                                },
                                {
                                    "0": "COBOL",
                                    "1": "3500",
                                    "2": "3000",
                                    "3": "0"
                                },
                                {
                                    "0": "CPP",
                                    "1": "1200",
                                    "2": "300",
                                    "3": "84"
                                },
                                {
                                    "0": "DBASE",
                                    "1": "27500",
                                    "2": "11000",
                                    "3": "5"
                                },
                                {
                                    "0": "ORACLE",
                                    "1": "85000",
                                    "2": "18000",
                                    "3": "4"
                                },
                                {
                                    "0": "PASCAL",
                                    "1": "31833.333333333332",
                                    "2": "3066.65",
                                    "3": "28"
                                }
                            ]
                        },
                        "text/html": [
                            "<table>",
                            "<tr><th>DEVELOPIN</th><th>AVG_DCOST</th><th>AVG_SCOST</th><th>AVG_SOLD</th></tr>",
                            "<tr><td>ASSEMBLY</td><td>4500</td><td>1625</td><td>9</td></tr>",
                            "<tr><td>BASIC</td><td>6000</td><td>399.95</td><td>43</td></tr>",
                            "<tr><td>C</td><td>7200</td><td>2006.25</td><td>25</td></tr>",
                            "<tr><td>COBOL</td><td>3500</td><td>3000</td><td>0</td></tr>",
                            "<tr><td>CPP</td><td>1200</td><td>300</td><td>84</td></tr>",
                            "<tr><td>DBASE</td><td>27500</td><td>11000</td><td>5</td></tr>",
                            "<tr><td>ORACLE</td><td>85000</td><td>18000</td><td>4</td></tr>",
                            "<tr><td>PASCAL</td><td>31833.333333333332</td><td>3066.65</td><td>28</td></tr>",
                            "</table>"
                        ]
                    }
                }
            ],
            "execution_count": 15
        },
        {
            "cell_type": "code",
            "source": [
                "-- 35. Display each programmer’s name, costliest and cheapest Packages Developed by him or her. \r\n",
                "--"
            ],
            "metadata": {
                "language": "sql",
                "azdata_cell_guid": "bf42bd47-3cda-4467-9f14-5ac421f64d0d"
            },
            "outputs": [
                {
                    "output_type": "display_data",
                    "data": {
                        "text/html": "(16 rows affected)"
                    },
                    "metadata": {}
                },
                {
                    "output_type": "display_data",
                    "data": {
                        "text/html": "Total execution time: 00:00:00.022"
                    },
                    "metadata": {}
                },
                {
                    "output_type": "execute_result",
                    "metadata": {},
                    "execution_count": 28,
                    "data": {
                        "application/vnd.dataresource+json": {
                            "schema": {
                                "fields": [
                                    {
                                        "name": "PNAME"
                                    },
                                    {
                                        "name": "SCOST"
                                    }
                                ]
                            },
                            "data": [
                                {
                                    "0": "MARY",
                                    "1": "300"
                                },
                                {
                                    "0": "PATTRICK",
                                    "1": "300"
                                },
                                {
                                    "0": "ANAND",
                                    "1": "399.95"
                                },
                                {
                                    "0": "RAMESH",
                                    "1": "599.95"
                                },
                                {
                                    "0": "REMITHA",
                                    "1": "725"
                                },
                                {
                                    "0": "QADIR",
                                    "1": "750"
                                },
                                {
                                    "0": "VIJAYA",
                                    "1": "900"
                                },
                                {
                                    "0": "REVATHI",
                                    "1": "1100"
                                },
                                {
                                    "0": "QADIR",
                                    "1": "1900"
                                },
                                {
                                    "0": "REMITHA",
                                    "1": "2500"
                                },
                                {
                                    "0": "JULIANA",
                                    "1": "3000"
                                },
                                {
                                    "0": "MARY",
                                    "1": "4500"
                                },
                                {
                                    "0": "ANAND",
                                    "1": "7500"
                                },
                                {
                                    "0": "KAMALA",
                                    "1": "9000"
                                },
                                {
                                    "0": "RAMESH",
                                    "1": "13000"
                                },
                                {
                                    "0": "MARY",
                                    "1": "18000"
                                }
                            ]
                        },
                        "text/html": [
                            "<table>",
                            "<tr><th>PNAME</th><th>SCOST</th></tr>",
                            "<tr><td>MARY</td><td>300</td></tr>",
                            "<tr><td>PATTRICK</td><td>300</td></tr>",
                            "<tr><td>ANAND</td><td>399.95</td></tr>",
                            "<tr><td>RAMESH</td><td>599.95</td></tr>",
                            "<tr><td>REMITHA</td><td>725</td></tr>",
                            "<tr><td>QADIR</td><td>750</td></tr>",
                            "<tr><td>VIJAYA</td><td>900</td></tr>",
                            "<tr><td>REVATHI</td><td>1100</td></tr>",
                            "<tr><td>QADIR</td><td>1900</td></tr>",
                            "<tr><td>REMITHA</td><td>2500</td></tr>",
                            "<tr><td>JULIANA</td><td>3000</td></tr>",
                            "<tr><td>MARY</td><td>4500</td></tr>",
                            "<tr><td>ANAND</td><td>7500</td></tr>",
                            "<tr><td>KAMALA</td><td>9000</td></tr>",
                            "<tr><td>RAMESH</td><td>13000</td></tr>",
                            "<tr><td>MARY</td><td>18000</td></tr>",
                            "</table>"
                        ]
                    }
                }
            ],
            "execution_count": 28
        },
        {
            "cell_type": "code",
            "source": [
                "-- 36. Display each institute name with number of Courses, Average Cost per Course. \r\n",
                "SELECT INSTITUTE, COUNT(COURSE) AS NO_OF_COURSES, AVG([COURSE FEE]) AVG_COST_PER_COURSE\r\n",
                "FROM STUDIES\r\n",
                "GROUP BY INSTITUTE"
            ],
            "metadata": {
                "language": "sql",
                "azdata_cell_guid": "72debfd8-7f0d-4d03-a791-c21456736a17"
            },
            "outputs": [
                {
                    "output_type": "display_data",
                    "data": {
                        "text/html": "(6 rows affected)"
                    },
                    "metadata": {}
                },
                {
                    "output_type": "display_data",
                    "data": {
                        "text/html": "Total execution time: 00:00:00.009"
                    },
                    "metadata": {}
                },
                {
                    "output_type": "execute_result",
                    "metadata": {},
                    "execution_count": 29,
                    "data": {
                        "application/vnd.dataresource+json": {
                            "schema": {
                                "fields": [
                                    {
                                        "name": "INSTITUTE"
                                    },
                                    {
                                        "name": "NO_OF_COURSES"
                                    },
                                    {
                                        "name": "AVG_COST_PER_COURSE"
                                    }
                                ]
                            },
                            "data": [
                                {
                                    "0": "APPLE",
                                    "1": "1",
                                    "2": "14000"
                                },
                                {
                                    "0": "BDPS",
                                    "1": "3",
                                    "2": "25333"
                                },
                                {
                                    "0": "BRILLIANT",
                                    "1": "1",
                                    "2": "11000"
                                },
                                {
                                    "0": "COIT",
                                    "1": "1",
                                    "2": "7200"
                                },
                                {
                                    "0": "PRAGATHI",
                                    "1": "3",
                                    "2": "5466"
                                },
                                {
                                    "0": "SABHARI",
                                    "1": "4",
                                    "2": "4625"
                                }
                            ]
                        },
                        "text/html": [
                            "<table>",
                            "<tr><th>INSTITUTE</th><th>NO_OF_COURSES</th><th>AVG_COST_PER_COURSE</th></tr>",
                            "<tr><td>APPLE</td><td>1</td><td>14000</td></tr>",
                            "<tr><td>BDPS</td><td>3</td><td>25333</td></tr>",
                            "<tr><td>BRILLIANT</td><td>1</td><td>11000</td></tr>",
                            "<tr><td>COIT</td><td>1</td><td>7200</td></tr>",
                            "<tr><td>PRAGATHI</td><td>3</td><td>5466</td></tr>",
                            "<tr><td>SABHARI</td><td>4</td><td>4625</td></tr>",
                            "</table>"
                        ]
                    }
                }
            ],
            "execution_count": 29
        },
        {
            "cell_type": "code",
            "source": [
                "-- 37. Display each institute Name with Number of Students. \r\n",
                "SELECT INSTITUTE, COUNT(*) AS NO_OF_STUDENTS\r\n",
                "FROM STUDIES\r\n",
                "GROUP BY INSTITUTE"
            ],
            "metadata": {
                "language": "sql",
                "azdata_cell_guid": "d65e2dcb-dd61-4344-8866-02f12cffadeb"
            },
            "outputs": [
                {
                    "output_type": "display_data",
                    "data": {
                        "text/html": "(6 rows affected)"
                    },
                    "metadata": {}
                },
                {
                    "output_type": "display_data",
                    "data": {
                        "text/html": "Total execution time: 00:00:00.020"
                    },
                    "metadata": {}
                },
                {
                    "output_type": "execute_result",
                    "metadata": {},
                    "execution_count": 30,
                    "data": {
                        "application/vnd.dataresource+json": {
                            "schema": {
                                "fields": [
                                    {
                                        "name": "INSTITUTE"
                                    },
                                    {
                                        "name": "NO_OF_STUDENTS"
                                    }
                                ]
                            },
                            "data": [
                                {
                                    "0": "APPLE",
                                    "1": "1"
                                },
                                {
                                    "0": "BDPS",
                                    "1": "3"
                                },
                                {
                                    "0": "BRILLIANT",
                                    "1": "1"
                                },
                                {
                                    "0": "COIT",
                                    "1": "1"
                                },
                                {
                                    "0": "PRAGATHI",
                                    "1": "3"
                                },
                                {
                                    "0": "SABHARI",
                                    "1": "4"
                                }
                            ]
                        },
                        "text/html": [
                            "<table>",
                            "<tr><th>INSTITUTE</th><th>NO_OF_STUDENTS</th></tr>",
                            "<tr><td>APPLE</td><td>1</td></tr>",
                            "<tr><td>BDPS</td><td>3</td></tr>",
                            "<tr><td>BRILLIANT</td><td>1</td></tr>",
                            "<tr><td>COIT</td><td>1</td></tr>",
                            "<tr><td>PRAGATHI</td><td>3</td></tr>",
                            "<tr><td>SABHARI</td><td>4</td></tr>",
                            "</table>"
                        ]
                    }
                }
            ],
            "execution_count": 30
        },
        {
            "cell_type": "code",
            "source": [
                "-- 38. Display Names of Male and Female Programmers. Gender also. \r\n",
                "SELECT PNAME,GENDER FROM PROGRAMMER"
            ],
            "metadata": {
                "language": "sql",
                "azdata_cell_guid": "32dc2581-5b7a-464b-96ac-14c1cf7d6de5"
            },
            "outputs": [
                {
                    "output_type": "display_data",
                    "data": {
                        "text/html": "(13 rows affected)"
                    },
                    "metadata": {}
                },
                {
                    "output_type": "display_data",
                    "data": {
                        "text/html": "Total execution time: 00:00:00.018"
                    },
                    "metadata": {}
                },
                {
                    "output_type": "execute_result",
                    "metadata": {},
                    "execution_count": 33,
                    "data": {
                        "application/vnd.dataresource+json": {
                            "schema": {
                                "fields": [
                                    {
                                        "name": "PNAME"
                                    },
                                    {
                                        "name": "GENDER"
                                    }
                                ]
                            },
                            "data": [
                                {
                                    "0": "ANAND",
                                    "1": "M"
                                },
                                {
                                    "0": "ALTAF",
                                    "1": "M"
                                },
                                {
                                    "0": "JULIANA",
                                    "1": "F"
                                },
                                {
                                    "0": "KAMALA",
                                    "1": "F"
                                },
                                {
                                    "0": "MARY",
                                    "1": "F"
                                },
                                {
                                    "0": "NELSON",
                                    "1": "M"
                                },
                                {
                                    "0": "PATTRICK",
                                    "1": "M"
                                },
                                {
                                    "0": "QADIR",
                                    "1": "M"
                                },
                                {
                                    "0": "RAMESH",
                                    "1": "M"
                                },
                                {
                                    "0": "REBECCA",
                                    "1": "F"
                                },
                                {
                                    "0": "REMITHA",
                                    "1": "F"
                                },
                                {
                                    "0": "REVATHI",
                                    "1": "F"
                                },
                                {
                                    "0": "VIJAYA",
                                    "1": "F"
                                }
                            ]
                        },
                        "text/html": [
                            "<table>",
                            "<tr><th>PNAME</th><th>GENDER</th></tr>",
                            "<tr><td>ANAND</td><td>M</td></tr>",
                            "<tr><td>ALTAF</td><td>M</td></tr>",
                            "<tr><td>JULIANA</td><td>F</td></tr>",
                            "<tr><td>KAMALA</td><td>F</td></tr>",
                            "<tr><td>MARY</td><td>F</td></tr>",
                            "<tr><td>NELSON</td><td>M</td></tr>",
                            "<tr><td>PATTRICK</td><td>M</td></tr>",
                            "<tr><td>QADIR</td><td>M</td></tr>",
                            "<tr><td>RAMESH</td><td>M</td></tr>",
                            "<tr><td>REBECCA</td><td>F</td></tr>",
                            "<tr><td>REMITHA</td><td>F</td></tr>",
                            "<tr><td>REVATHI</td><td>F</td></tr>",
                            "<tr><td>VIJAYA</td><td>F</td></tr>",
                            "</table>"
                        ]
                    }
                }
            ],
            "execution_count": 33
        },
        {
            "cell_type": "code",
            "source": [
                "-- 39. Display the Name of Programmers and Their Packages. \r\n",
                "SELECT P.PNAME, STRING_AGG (S.TITLE, ', ') as Packages\r\n",
                "FROM PROGRAMMER P LEFT JOIN SOFTWARE S ON P.PNAME=S.PNAME GROUP BY P.PNAME"
            ],
            "metadata": {
                "language": "sql",
                "azdata_cell_guid": "704188af-0585-461c-9324-0ee2fb4db056"
            },
            "outputs": [
                {
                    "output_type": "display_data",
                    "data": {
                        "text/html": "(13 rows affected)"
                    },
                    "metadata": {}
                },
                {
                    "output_type": "display_data",
                    "data": {
                        "text/html": "Total execution time: 00:00:00.008"
                    },
                    "metadata": {}
                },
                {
                    "output_type": "execute_result",
                    "metadata": {},
                    "execution_count": 41,
                    "data": {
                        "application/vnd.dataresource+json": {
                            "schema": {
                                "fields": [
                                    {
                                        "name": "PNAME"
                                    },
                                    {
                                        "name": "Packages"
                                    }
                                ]
                            },
                            "data": [
                                {
                                    "0": "ALTAF",
                                    "1": "NULL"
                                },
                                {
                                    "0": "ANAND",
                                    "1": "PARACHUTES, VIDEO TITLING"
                                },
                                {
                                    "0": "JULIANA",
                                    "1": "INVENTORY"
                                },
                                {
                                    "0": "KAMALA",
                                    "1": "PAYROLL PKG."
                                },
                                {
                                    "0": "MARY",
                                    "1": "README, FINANCIAL ACCT., CODE GENERATOR"
                                },
                                {
                                    "0": "NELSON",
                                    "1": "NULL"
                                },
                                {
                                    "0": "PATTRICK",
                                    "1": "README"
                                },
                                {
                                    "0": "QADIR",
                                    "1": "BOMBS AWAY, VACCINES"
                                },
                                {
                                    "0": "RAMESH",
                                    "1": "HOTEL MGMT., DEAD LEE"
                                },
                                {
                                    "0": "REBECCA",
                                    "1": "NULL"
                                },
                                {
                                    "0": "REMITHA",
                                    "1": "PC UTILITIES, TSR HELP PKG."
                                },
                                {
                                    "0": "REVATHI",
                                    "1": "HOSPITAL MGMT."
                                },
                                {
                                    "0": "VIJAYA",
                                    "1": "TSR EDITOR"
                                }
                            ]
                        },
                        "text/html": [
                            "<table>",
                            "<tr><th>PNAME</th><th>Packages</th></tr>",
                            "<tr><td>ALTAF</td><td>NULL</td></tr>",
                            "<tr><td>ANAND</td><td>PARACHUTES, VIDEO TITLING</td></tr>",
                            "<tr><td>JULIANA</td><td>INVENTORY</td></tr>",
                            "<tr><td>KAMALA</td><td>PAYROLL PKG.</td></tr>",
                            "<tr><td>MARY</td><td>README, FINANCIAL ACCT., CODE GENERATOR</td></tr>",
                            "<tr><td>NELSON</td><td>NULL</td></tr>",
                            "<tr><td>PATTRICK</td><td>README</td></tr>",
                            "<tr><td>QADIR</td><td>BOMBS AWAY, VACCINES</td></tr>",
                            "<tr><td>RAMESH</td><td>HOTEL MGMT., DEAD LEE</td></tr>",
                            "<tr><td>REBECCA</td><td>NULL</td></tr>",
                            "<tr><td>REMITHA</td><td>PC UTILITIES, TSR HELP PKG.</td></tr>",
                            "<tr><td>REVATHI</td><td>HOSPITAL MGMT.</td></tr>",
                            "<tr><td>VIJAYA</td><td>TSR EDITOR</td></tr>",
                            "</table>"
                        ]
                    }
                }
            ],
            "execution_count": 41
        },
        {
            "cell_type": "code",
            "source": [
                "-- 40. Display the Number of Packages in Each Language Except C and C++. \r\n",
                "SELECT DEVELOPIN,COUNT(TITLE) AS \"Number of Packages\"\r\n",
                "FROM (SELECT *\r\n",
                "    FROM SOFTWARE\r\n",
                "    WHERE DEVELOPIN NOT IN ('C','C++','CPP')) A\r\n",
                "GROUP BY DEVELOPIN"
            ],
            "metadata": {
                "language": "sql",
                "azdata_cell_guid": "69ae9f7d-e2b0-46d1-b8d4-706ba8fe3585"
            },
            "outputs": [
                {
                    "output_type": "display_data",
                    "data": {
                        "text/html": "(6 rows affected)"
                    },
                    "metadata": {}
                },
                {
                    "output_type": "display_data",
                    "data": {
                        "text/html": "Total execution time: 00:00:00.008"
                    },
                    "metadata": {}
                },
                {
                    "output_type": "execute_result",
                    "metadata": {},
                    "execution_count": 47,
                    "data": {
                        "application/vnd.dataresource+json": {
                            "schema": {
                                "fields": [
                                    {
                                        "name": "DEVELOPIN"
                                    },
                                    {
                                        "name": "Number of Packages"
                                    }
                                ]
                            },
                            "data": [
                                {
                                    "0": "ASSEMBLY",
                                    "1": "2"
                                },
                                {
                                    "0": "BASIC",
                                    "1": "1"
                                },
                                {
                                    "0": "COBOL",
                                    "1": "1"
                                },
                                {
                                    "0": "DBASE",
                                    "1": "2"
                                },
                                {
                                    "0": "ORACLE",
                                    "1": "1"
                                },
                                {
                                    "0": "PASCAL",
                                    "1": "3"
                                }
                            ]
                        },
                        "text/html": [
                            "<table>",
                            "<tr><th>DEVELOPIN</th><th>Number of Packages</th></tr>",
                            "<tr><td>ASSEMBLY</td><td>2</td></tr>",
                            "<tr><td>BASIC</td><td>1</td></tr>",
                            "<tr><td>COBOL</td><td>1</td></tr>",
                            "<tr><td>DBASE</td><td>2</td></tr>",
                            "<tr><td>ORACLE</td><td>1</td></tr>",
                            "<tr><td>PASCAL</td><td>3</td></tr>",
                            "</table>"
                        ]
                    }
                }
            ],
            "execution_count": 47
        },
        {
            "cell_type": "code",
            "source": [
                "-- 41. Display the Number of Packages in Each Language for which Development Cost is\r\n",
                "-- less than 1000.\r\n",
                ""
            ],
            "metadata": {
                "language": "sql",
                "azdata_cell_guid": "cf2f6baf-2d34-4c81-bd52-3eaebd102028"
            },
            "outputs": [],
            "execution_count": null
        }
    ]
}