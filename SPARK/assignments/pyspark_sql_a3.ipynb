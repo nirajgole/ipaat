{
 "cells": [
  {
   "cell_type": "code",
   "execution_count": 0,
   "metadata": {
    "application/vnd.databricks.v1+cell": {
     "cellMetadata": {},
     "inputWidgets": {},
     "nuid": "4ea52360-25c6-4417-8dce-27998a86c6ad",
     "showTitle": false,
     "title": ""
    }
   },
   "outputs": [],
   "source": [
    "import findspark\n",
    "\n",
    "findspark.find()\n",
    "findspark.init()\n"
   ]
  },
  {
   "cell_type": "code",
   "execution_count": 0,
   "metadata": {
    "application/vnd.databricks.v1+cell": {
     "cellMetadata": {},
     "inputWidgets": {},
     "nuid": "faad5c49-e7b0-487f-acd0-e257bf93eb8d",
     "showTitle": false,
     "title": ""
    }
   },
   "outputs": [],
   "source": [
    "# importing sparksession\n",
    "from pyspark.sql import SparkSession\n",
    "\n",
    "# starting the spark session\n",
    "spark = SparkSession.builder.master(\"local[*]\").appName(\"Banking\").getOrCreate()\n",
    "spark\n"
   ]
  },
  {
   "cell_type": "code",
   "execution_count": 0,
   "metadata": {
    "application/vnd.databricks.v1+cell": {
     "cellMetadata": {},
     "inputWidgets": {},
     "nuid": "22c4db4e-7dde-4990-8664-07dd9847dde2",
     "showTitle": false,
     "title": ""
    }
   },
   "outputs": [],
   "source": [
    "# load data\n",
    "df = spark.read.csv(\"./BankTransactionDataset/Loan.csv\", inferSchema=True, header=True)\n",
    "df.show(10)\n"
   ]
  },
  {
   "cell_type": "code",
   "execution_count": 0,
   "metadata": {
    "application/vnd.databricks.v1+cell": {
     "cellMetadata": {},
     "inputWidgets": {},
     "nuid": "caa064d3-b879-4ca4-991d-a719ef347fea",
     "showTitle": false,
     "title": ""
    }
   },
   "outputs": [],
   "source": [
    "df.dtypes"
   ]
  },
  {
   "cell_type": "code",
   "execution_count": 0,
   "metadata": {
    "application/vnd.databricks.v1+cell": {
     "cellMetadata": {},
     "inputWidgets": {},
     "nuid": "f3317c98-dbff-4428-a127-fbc3f594a29e",
     "showTitle": false,
     "title": ""
    }
   },
   "outputs": [],
   "source": [
    "from pyspark.sql.functions import col, udf\n",
    "from pyspark.sql.types import IntegerType,StringType\n",
    "\n",
    "def get_digits(s):\n",
    "    return ''.join([i for i in s if i.isdigit()])\n",
    "\n",
    "get_digits_udf = udf(get_digits, StringType())"
   ]
  },
  {
   "cell_type": "code",
   "execution_count": 0,
   "metadata": {
    "application/vnd.databricks.v1+cell": {
     "cellMetadata": {},
     "inputWidgets": {},
     "nuid": "84401d05-ac54-48f3-8fc3-905cb17f830d",
     "showTitle": false,
     "title": ""
    }
   },
   "outputs": [],
   "source": [
    "df = df.withColumn('Loan Amount', get_digits_udf(col('Loan Amount')).cast(IntegerType()))\\\n",
    "    .withColumnRenamed(' Debt Record','Debt Record')\\\n",
    "    .withColumn('Debt Record', get_digits_udf(col('Debt Record')).cast(IntegerType()))\\\n",
    "    .withColumnRenamed(' Returned Cheque','Returned Cheque')\\\n",
    "    .withColumnRenamed(' Dishonour of Bill','Dishonor of Bill')\n"
   ]
  },
  {
   "cell_type": "code",
   "execution_count": 0,
   "metadata": {
    "application/vnd.databricks.v1+cell": {
     "cellMetadata": {},
     "inputWidgets": {},
     "nuid": "1be7ac06-a47f-442d-86ca-23ebcc70d9b7",
     "showTitle": false,
     "title": ""
    }
   },
   "outputs": [],
   "source": [
    "df.show()"
   ]
  },
  {
   "cell_type": "code",
   "execution_count": 0,
   "metadata": {
    "application/vnd.databricks.v1+cell": {
     "cellMetadata": {},
     "inputWidgets": {},
     "nuid": "2658252b-8168-4f03-8df9-8f181d2245e1",
     "showTitle": false,
     "title": ""
    }
   },
   "outputs": [],
   "source": [
    "df.dtypes"
   ]
  },
  {
   "cell_type": "code",
   "execution_count": 0,
   "metadata": {
    "application/vnd.databricks.v1+cell": {
     "cellMetadata": {},
     "inputWidgets": {},
     "nuid": "a8eaa154-0fef-4c17-be5b-f1d1ebb5bb46",
     "showTitle": false,
     "title": ""
    }
   },
   "outputs": [],
   "source": [
    "# Number of loans in each category\n",
    "from pyspark.sql import functions as f\n",
    "\n",
    "df.groupBy(\"Loan Category\").agg(f.count(\"Loan Category\").alias(\"count\")).orderBy(\n",
    "    \"count\", ascending=False\n",
    ").show()\n"
   ]
  },
  {
   "cell_type": "code",
   "execution_count": 0,
   "metadata": {
    "application/vnd.databricks.v1+cell": {
     "cellMetadata": {},
     "inputWidgets": {},
     "nuid": "40dc3b86-4ae8-4864-a704-ce70db323884",
     "showTitle": false,
     "title": ""
    }
   },
   "outputs": [],
   "source": [
    "# b. Number of people who have taken more than 1 lakh loan\n",
    "# df.where('\"Loan Amount\" > \"1,00,000\"').show()\n",
    "# df.filter(df['Loan Amount']> '1,00,000').agg(f.count('Loan Amount').alias('count of loan_amount_more_than_1lac')).show()\n",
    "df.filter(df[\"Loan Amount\"] > 100000).count()"
   ]
  },
  {
   "cell_type": "code",
   "execution_count": 0,
   "metadata": {
    "application/vnd.databricks.v1+cell": {
     "cellMetadata": {},
     "inputWidgets": {},
     "nuid": "0e13eceb-e65e-40e2-b149-12fe7c7cc1f9",
     "showTitle": false,
     "title": ""
    }
   },
   "outputs": [],
   "source": [
    "# c. Number of people with income greater than 60000 rupees\n",
    "df.filter(df['Income'] > 60000).count()"
   ]
  },
  {
   "cell_type": "code",
   "execution_count": 0,
   "metadata": {
    "application/vnd.databricks.v1+cell": {
     "cellMetadata": {},
     "inputWidgets": {},
     "nuid": "4d133980-5ac0-4ef1-b7e3-e585bf9fd450",
     "showTitle": false,
     "title": ""
    }
   },
   "outputs": [],
   "source": [
    "# d. Number of people with 2 or more returned cheques and income less than 50000\n",
    "df.filter((df['Returned Cheque'] > 2) & (df['Income'] < 50000)).count()"
   ]
  },
  {
   "cell_type": "code",
   "execution_count": 0,
   "metadata": {
    "application/vnd.databricks.v1+cell": {
     "cellMetadata": {},
     "inputWidgets": {},
     "nuid": "4f3c5d48-2fa0-4672-a33b-4b225deb529c",
     "showTitle": false,
     "title": ""
    }
   },
   "outputs": [],
   "source": [
    "# e. Number of people with 2 or more returned cheques and are single\n",
    "df.filter((df['Returned Cheque'] > 2) & (df['Marital Status']=='SINGLE')).count()"
   ]
  },
  {
   "cell_type": "code",
   "execution_count": 0,
   "metadata": {
    "application/vnd.databricks.v1+cell": {
     "cellMetadata": {},
     "inputWidgets": {},
     "nuid": "802d5681-5f95-4b49-b504-8e51521b5cc9",
     "showTitle": false,
     "title": ""
    }
   },
   "outputs": [],
   "source": [
    "# f. Number of people with expenditure over 50000 a month\n",
    "df.filter(df['Expenditure'] > 50000).count()"
   ]
  }
 ],
 "metadata": {
  "application/vnd.databricks.v1+notebook": {
   "dashboards": [],
   "language": "python",
   "notebookMetadata": {
    "pythonIndentUnit": 4
   },
   "notebookName": "pyspark_sql_a3",
   "widgets": {}
  },
  "kernelspec": {
   "display_name": "Python 3",
   "language": "python",
   "name": "python3"
  },
  "language_info": {
   "codemirror_mode": {
    "name": "ipython",
    "version": 3
   },
   "file_extension": ".py",
   "mimetype": "text/x-python",
   "name": "python",
   "nbconvert_exporter": "python",
   "pygments_lexer": "ipython3",
   "version": "3.11.3"
  }
 },
 "nbformat": 4,
 "nbformat_minor": 0
}
