{
    "metadata": {
        "kernelspec": {
            "name": "SQL",
            "display_name": "SQL",
            "language": "sql"
        },
        "language_info": {
            "name": "sql",
            "version": ""
        }
    },
    "nbformat_minor": 2,
    "nbformat": 4,
    "cells": [
        {
            "cell_type": "markdown",
            "source": [
                "## Simple Queries"
            ],
            "metadata": {
                "azdata_cell_guid": "d5017a02-8a3f-4735-a4c6-aa04839d7502"
            },
            "attachments": {}
        },
        {
            "cell_type": "code",
            "source": [
                "-- 1. LIST ALL THE EMPLOYEE DETAILS.\r\n",
                "SELECT * FROM EMPLOYEE"
            ],
            "metadata": {
                "azdata_cell_guid": "552e8741-6315-41ca-9051-9e8bc1d6d311",
                "language": "sql",
                "tags": [
                    "hide_input"
                ]
            },
            "outputs": [
                {
                    "output_type": "display_data",
                    "data": {
                        "text/html": "(6 rows affected)"
                    },
                    "metadata": {}
                },
                {
                    "output_type": "display_data",
                    "data": {
                        "text/html": "Total execution time: 00:00:00.005"
                    },
                    "metadata": {}
                },
                {
                    "output_type": "execute_result",
                    "metadata": {},
                    "execution_count": 1,
                    "data": {
                        "application/vnd.dataresource+json": {
                            "schema": {
                                "fields": [
                                    {
                                        "name": "Employee_ID"
                                    },
                                    {
                                        "name": "Last_Name"
                                    },
                                    {
                                        "name": "First_Name"
                                    },
                                    {
                                        "name": "Middle_Name"
                                    },
                                    {
                                        "name": "Job_ID"
                                    },
                                    {
                                        "name": "Manager_ID"
                                    },
                                    {
                                        "name": "Hire_Date"
                                    },
                                    {
                                        "name": "Salary"
                                    },
                                    {
                                        "name": "Comm"
                                    },
                                    {
                                        "name": "Department_ID"
                                    }
                                ]
                            },
                            "data": [
                                {
                                    "0": "7369",
                                    "1": "SMITH",
                                    "2": "JOHN",
                                    "3": "Q",
                                    "4": "667",
                                    "5": "7902",
                                    "6": "1984-12-17",
                                    "7": "800.00",
                                    "8": "NULL",
                                    "9": "20"
                                },
                                {
                                    "0": "7499",
                                    "1": "ALLEN",
                                    "2": "KEVIN",
                                    "3": "J",
                                    "4": "670",
                                    "5": "7698",
                                    "6": "1985-02-20",
                                    "7": "1600.00",
                                    "8": "300",
                                    "9": "30"
                                },
                                {
                                    "0": "7505",
                                    "1": "DOYLE",
                                    "2": "JEAN",
                                    "3": "K",
                                    "4": "671",
                                    "5": "7839",
                                    "6": "1985-04-04",
                                    "7": "2850.00",
                                    "8": "NULL",
                                    "9": "30"
                                },
                                {
                                    "0": "7506",
                                    "1": "DENNIS",
                                    "2": "LYNN",
                                    "3": "S",
                                    "4": "671",
                                    "5": "7839",
                                    "6": "1985-05-15",
                                    "7": "2750.00",
                                    "8": "NULL",
                                    "9": "30"
                                },
                                {
                                    "0": "7507",
                                    "1": "BAKER",
                                    "2": "LESLIE",
                                    "3": "D",
                                    "4": "671",
                                    "5": "7839",
                                    "6": "1985-06-10",
                                    "7": "2200.00",
                                    "8": "NULL",
                                    "9": "40"
                                },
                                {
                                    "0": "7521",
                                    "1": "WARK",
                                    "2": "CYNTHIA",
                                    "3": "D",
                                    "4": "670",
                                    "5": "7698",
                                    "6": "1985-02-22",
                                    "7": "1250.00",
                                    "8": "500",
                                    "9": "30"
                                }
                            ]
                        },
                        "text/html": [
                            "<table>",
                            "<tr><th>Employee_ID</th><th>Last_Name</th><th>First_Name</th><th>Middle_Name</th><th>Job_ID</th><th>Manager_ID</th><th>Hire_Date</th><th>Salary</th><th>Comm</th><th>Department_ID</th></tr>",
                            "<tr><td>7369</td><td>SMITH</td><td>JOHN</td><td>Q</td><td>667</td><td>7902</td><td>1984-12-17</td><td>800.00</td><td>NULL</td><td>20</td></tr>",
                            "<tr><td>7499</td><td>ALLEN</td><td>KEVIN</td><td>J</td><td>670</td><td>7698</td><td>1985-02-20</td><td>1600.00</td><td>300</td><td>30</td></tr>",
                            "<tr><td>7505</td><td>DOYLE</td><td>JEAN</td><td>K</td><td>671</td><td>7839</td><td>1985-04-04</td><td>2850.00</td><td>NULL</td><td>30</td></tr>",
                            "<tr><td>7506</td><td>DENNIS</td><td>LYNN</td><td>S</td><td>671</td><td>7839</td><td>1985-05-15</td><td>2750.00</td><td>NULL</td><td>30</td></tr>",
                            "<tr><td>7507</td><td>BAKER</td><td>LESLIE</td><td>D</td><td>671</td><td>7839</td><td>1985-06-10</td><td>2200.00</td><td>NULL</td><td>40</td></tr>",
                            "<tr><td>7521</td><td>WARK</td><td>CYNTHIA</td><td>D</td><td>670</td><td>7698</td><td>1985-02-22</td><td>1250.00</td><td>500</td><td>30</td></tr>",
                            "</table>"
                        ]
                    }
                }
            ],
            "execution_count": 1
        },
        {
            "cell_type": "code",
            "source": [
                "-- 2. LIST ALL THE DEPARTMENT DETAILS\r\n",
                "SELECT * FROM DEPARTMENT"
            ],
            "metadata": {
                "language": "sql",
                "azdata_cell_guid": "7d18f8fc-869b-4c4d-a40c-ef95f388f9f9"
            },
            "outputs": [
                {
                    "output_type": "display_data",
                    "data": {
                        "text/html": "(4 rows affected)"
                    },
                    "metadata": {}
                },
                {
                    "output_type": "display_data",
                    "data": {
                        "text/html": "Total execution time: 00:00:00.002"
                    },
                    "metadata": {}
                },
                {
                    "output_type": "execute_result",
                    "metadata": {},
                    "execution_count": 2,
                    "data": {
                        "application/vnd.dataresource+json": {
                            "schema": {
                                "fields": [
                                    {
                                        "name": "DEPARTMENT_ID"
                                    },
                                    {
                                        "name": "NAME"
                                    },
                                    {
                                        "name": "LOCATION_ID"
                                    }
                                ]
                            },
                            "data": [
                                {
                                    "0": "10",
                                    "1": "Accounting",
                                    "2": "122"
                                },
                                {
                                    "0": "20",
                                    "1": "Sales",
                                    "2": "124"
                                },
                                {
                                    "0": "30",
                                    "1": "Research",
                                    "2": "123"
                                },
                                {
                                    "0": "40",
                                    "1": "Operations",
                                    "2": "167"
                                }
                            ]
                        },
                        "text/html": [
                            "<table>",
                            "<tr><th>DEPARTMENT_ID</th><th>NAME</th><th>LOCATION_ID</th></tr>",
                            "<tr><td>10</td><td>Accounting</td><td>122</td></tr>",
                            "<tr><td>20</td><td>Sales</td><td>124</td></tr>",
                            "<tr><td>30</td><td>Research</td><td>123</td></tr>",
                            "<tr><td>40</td><td>Operations</td><td>167</td></tr>",
                            "</table>"
                        ]
                    }
                }
            ],
            "execution_count": 2
        },
        {
            "cell_type": "code",
            "source": [
                "-- 3. LIST ALL JOB DETAILS.\r\n",
                "SELECT * FROM JOB"
            ],
            "metadata": {
                "language": "sql",
                "azdata_cell_guid": "6d458735-38f0-4ba9-8819-5180dc7e04d8"
            },
            "outputs": [
                {
                    "output_type": "display_data",
                    "data": {
                        "text/html": "(6 rows affected)"
                    },
                    "metadata": {}
                },
                {
                    "output_type": "display_data",
                    "data": {
                        "text/html": "Total execution time: 00:00:00.003"
                    },
                    "metadata": {}
                },
                {
                    "output_type": "execute_result",
                    "metadata": {},
                    "execution_count": 3,
                    "data": {
                        "application/vnd.dataresource+json": {
                            "schema": {
                                "fields": [
                                    {
                                        "name": "JOB_ID"
                                    },
                                    {
                                        "name": "DESIGNATION"
                                    }
                                ]
                            },
                            "data": [
                                {
                                    "0": "667",
                                    "1": "Clerk"
                                },
                                {
                                    "0": "668",
                                    "1": "Staff"
                                },
                                {
                                    "0": "669",
                                    "1": "Analyst"
                                },
                                {
                                    "0": "670",
                                    "1": "Sales Person"
                                },
                                {
                                    "0": "671",
                                    "1": "Manager"
                                },
                                {
                                    "0": "672",
                                    "1": "President"
                                }
                            ]
                        },
                        "text/html": [
                            "<table>",
                            "<tr><th>JOB_ID</th><th>DESIGNATION</th></tr>",
                            "<tr><td>667</td><td>Clerk</td></tr>",
                            "<tr><td>668</td><td>Staff</td></tr>",
                            "<tr><td>669</td><td>Analyst</td></tr>",
                            "<tr><td>670</td><td>Sales Person</td></tr>",
                            "<tr><td>671</td><td>Manager</td></tr>",
                            "<tr><td>672</td><td>President</td></tr>",
                            "</table>"
                        ]
                    }
                }
            ],
            "execution_count": 3
        },
        {
            "cell_type": "code",
            "source": [
                "-- 4. LIST ALL THE LOCATIONS.\r\n",
                "SELECT * FROM LOCATION"
            ],
            "metadata": {
                "language": "sql",
                "azdata_cell_guid": "4c30ce63-00d7-4887-9dbc-6a9b1413d15f"
            },
            "outputs": [
                {
                    "output_type": "display_data",
                    "data": {
                        "text/html": "(4 rows affected)"
                    },
                    "metadata": {}
                },
                {
                    "output_type": "display_data",
                    "data": {
                        "text/html": "Total execution time: 00:00:00.002"
                    },
                    "metadata": {}
                },
                {
                    "output_type": "execute_result",
                    "metadata": {},
                    "execution_count": 4,
                    "data": {
                        "application/vnd.dataresource+json": {
                            "schema": {
                                "fields": [
                                    {
                                        "name": "LOCATION_ID"
                                    },
                                    {
                                        "name": "CITY"
                                    }
                                ]
                            },
                            "data": [
                                {
                                    "0": "122",
                                    "1": "New York"
                                },
                                {
                                    "0": "123",
                                    "1": "Dallas"
                                },
                                {
                                    "0": "124",
                                    "1": "Chicago"
                                },
                                {
                                    "0": "167",
                                    "1": "Boston"
                                }
                            ]
                        },
                        "text/html": [
                            "<table>",
                            "<tr><th>LOCATION_ID</th><th>CITY</th></tr>",
                            "<tr><td>122</td><td>New York</td></tr>",
                            "<tr><td>123</td><td>Dallas</td></tr>",
                            "<tr><td>124</td><td>Chicago</td></tr>",
                            "<tr><td>167</td><td>Boston</td></tr>",
                            "</table>"
                        ]
                    }
                }
            ],
            "execution_count": 4
        },
        {
            "cell_type": "code",
            "source": [
                "-- 5. LIST OUT THE FIRSTNAME, LASTNAME, SALARY, COMMISSION FOR ALL EMPLOYEES.\r\n",
                "SELECT FIRST_NAME, LAST_NAME, SALARY, COMM FROM EMPLOYEE"
            ],
            "metadata": {
                "language": "sql",
                "azdata_cell_guid": "f1e3d428-763c-405c-a161-361941e2ec8f"
            },
            "outputs": [
                {
                    "output_type": "display_data",
                    "data": {
                        "text/html": "(6 rows affected)"
                    },
                    "metadata": {}
                },
                {
                    "output_type": "display_data",
                    "data": {
                        "text/html": "Total execution time: 00:00:00.003"
                    },
                    "metadata": {}
                },
                {
                    "output_type": "execute_result",
                    "metadata": {},
                    "execution_count": 5,
                    "data": {
                        "application/vnd.dataresource+json": {
                            "schema": {
                                "fields": [
                                    {
                                        "name": "FIRST_NAME"
                                    },
                                    {
                                        "name": "LAST_NAME"
                                    },
                                    {
                                        "name": "SALARY"
                                    },
                                    {
                                        "name": "COMM"
                                    }
                                ]
                            },
                            "data": [
                                {
                                    "0": "JOHN",
                                    "1": "SMITH",
                                    "2": "800.00",
                                    "3": "NULL"
                                },
                                {
                                    "0": "KEVIN",
                                    "1": "ALLEN",
                                    "2": "1600.00",
                                    "3": "300"
                                },
                                {
                                    "0": "JEAN",
                                    "1": "DOYLE",
                                    "2": "2850.00",
                                    "3": "NULL"
                                },
                                {
                                    "0": "LYNN",
                                    "1": "DENNIS",
                                    "2": "2750.00",
                                    "3": "NULL"
                                },
                                {
                                    "0": "LESLIE",
                                    "1": "BAKER",
                                    "2": "2200.00",
                                    "3": "NULL"
                                },
                                {
                                    "0": "CYNTHIA",
                                    "1": "WARK",
                                    "2": "1250.00",
                                    "3": "500"
                                }
                            ]
                        },
                        "text/html": [
                            "<table>",
                            "<tr><th>FIRST_NAME</th><th>LAST_NAME</th><th>SALARY</th><th>COMM</th></tr>",
                            "<tr><td>JOHN</td><td>SMITH</td><td>800.00</td><td>NULL</td></tr>",
                            "<tr><td>KEVIN</td><td>ALLEN</td><td>1600.00</td><td>300</td></tr>",
                            "<tr><td>JEAN</td><td>DOYLE</td><td>2850.00</td><td>NULL</td></tr>",
                            "<tr><td>LYNN</td><td>DENNIS</td><td>2750.00</td><td>NULL</td></tr>",
                            "<tr><td>LESLIE</td><td>BAKER</td><td>2200.00</td><td>NULL</td></tr>",
                            "<tr><td>CYNTHIA</td><td>WARK</td><td>1250.00</td><td>500</td></tr>",
                            "</table>"
                        ]
                    }
                }
            ],
            "execution_count": 5
        },
        {
            "cell_type": "code",
            "source": [
                "-- 6. LIST OUT EMPLOYEEID,LAST NAME, DEPARTMENT ID FOR ALL EMPLOYEES AND ALIAS\r\n",
                "-- EMPLOYEEID AS \"ID OF THE EMPLOYEE\", LAST NAME AS \"NAME OF THE EMPLOYEE\",\r\n",
                "-- DEPARTMENTID AS \"DEP_ID\".\r\n",
                "\r\n",
                "SELECT Employee_ID AS \"ID OF THE EMPLOYEE\", LAST_NAME \"NAME OF THE EMPLOYEE\", DEPARTMENT_ID \"DEP_ID\"\r\n",
                "FROM EMPLOYEE"
            ],
            "metadata": {
                "language": "sql",
                "azdata_cell_guid": "e88d8448-110c-49a3-9c85-aae5df40061e"
            },
            "outputs": [
                {
                    "output_type": "display_data",
                    "data": {
                        "text/html": "(6 rows affected)"
                    },
                    "metadata": {}
                },
                {
                    "output_type": "display_data",
                    "data": {
                        "text/html": "Total execution time: 00:00:00.003"
                    },
                    "metadata": {}
                },
                {
                    "output_type": "execute_result",
                    "metadata": {},
                    "execution_count": 7,
                    "data": {
                        "application/vnd.dataresource+json": {
                            "schema": {
                                "fields": [
                                    {
                                        "name": "ID OF THE EMPLOYEE"
                                    },
                                    {
                                        "name": "NAME OF THE EMPLOYEE"
                                    },
                                    {
                                        "name": "DEP_ID"
                                    }
                                ]
                            },
                            "data": [
                                {
                                    "0": "7369",
                                    "1": "SMITH",
                                    "2": "20"
                                },
                                {
                                    "0": "7499",
                                    "1": "ALLEN",
                                    "2": "30"
                                },
                                {
                                    "0": "7505",
                                    "1": "DOYLE",
                                    "2": "30"
                                },
                                {
                                    "0": "7506",
                                    "1": "DENNIS",
                                    "2": "30"
                                },
                                {
                                    "0": "7507",
                                    "1": "BAKER",
                                    "2": "40"
                                },
                                {
                                    "0": "7521",
                                    "1": "WARK",
                                    "2": "30"
                                }
                            ]
                        },
                        "text/html": [
                            "<table>",
                            "<tr><th>ID OF THE EMPLOYEE</th><th>NAME OF THE EMPLOYEE</th><th>DEP_ID</th></tr>",
                            "<tr><td>7369</td><td>SMITH</td><td>20</td></tr>",
                            "<tr><td>7499</td><td>ALLEN</td><td>30</td></tr>",
                            "<tr><td>7505</td><td>DOYLE</td><td>30</td></tr>",
                            "<tr><td>7506</td><td>DENNIS</td><td>30</td></tr>",
                            "<tr><td>7507</td><td>BAKER</td><td>40</td></tr>",
                            "<tr><td>7521</td><td>WARK</td><td>30</td></tr>",
                            "</table>"
                        ]
                    }
                }
            ],
            "execution_count": 7
        },
        {
            "cell_type": "code",
            "source": [
                "-- 7. LIST OUT THE EMPLOYEES ANNUAL SALARY WITH THEIR NAMES ONLY.\r\n",
                "SELECT FIRST_NAME, SALARY*12 AS \"ANNUAL SALARY\" FROM EMPLOYEE"
            ],
            "metadata": {
                "language": "sql",
                "azdata_cell_guid": "c1de53c5-056b-4402-8255-4d0076b899ff"
            },
            "outputs": [
                {
                    "output_type": "display_data",
                    "data": {
                        "text/html": "(6 rows affected)"
                    },
                    "metadata": {}
                },
                {
                    "output_type": "display_data",
                    "data": {
                        "text/html": "Total execution time: 00:00:00.002"
                    },
                    "metadata": {}
                },
                {
                    "output_type": "execute_result",
                    "metadata": {},
                    "execution_count": 12,
                    "data": {
                        "application/vnd.dataresource+json": {
                            "schema": {
                                "fields": [
                                    {
                                        "name": "FIRST_NAME"
                                    },
                                    {
                                        "name": "ANNUAL SALARY"
                                    }
                                ]
                            },
                            "data": [
                                {
                                    "0": "JOHN",
                                    "1": "9600.00"
                                },
                                {
                                    "0": "KEVIN",
                                    "1": "19200.00"
                                },
                                {
                                    "0": "JEAN",
                                    "1": "34200.00"
                                },
                                {
                                    "0": "LYNN",
                                    "1": "33000.00"
                                },
                                {
                                    "0": "LESLIE",
                                    "1": "26400.00"
                                },
                                {
                                    "0": "CYNTHIA",
                                    "1": "15000.00"
                                }
                            ]
                        },
                        "text/html": [
                            "<table>",
                            "<tr><th>FIRST_NAME</th><th>ANNUAL SALARY</th></tr>",
                            "<tr><td>JOHN</td><td>9600.00</td></tr>",
                            "<tr><td>KEVIN</td><td>19200.00</td></tr>",
                            "<tr><td>JEAN</td><td>34200.00</td></tr>",
                            "<tr><td>LYNN</td><td>33000.00</td></tr>",
                            "<tr><td>LESLIE</td><td>26400.00</td></tr>",
                            "<tr><td>CYNTHIA</td><td>15000.00</td></tr>",
                            "</table>"
                        ]
                    }
                }
            ],
            "execution_count": 12
        },
        {
            "cell_type": "markdown",
            "source": [
                "## WHERE"
            ],
            "metadata": {
                "language": "sql",
                "azdata_cell_guid": "793d14de-7977-48fa-98a8-448d13ee3c18"
            },
            "attachments": {}
        },
        {
            "cell_type": "code",
            "source": [
                "-- 1. LIST THE DETAILS ABOUT \"SMITH\"\r\n",
                "SELECT * FROM EMPLOYEE WHERE 'SMITH' in (First_Name,Last_Name)"
            ],
            "metadata": {
                "language": "sql",
                "azdata_cell_guid": "d98fd642-196e-4d18-b033-d2390a7f6e48"
            },
            "outputs": [
                {
                    "output_type": "display_data",
                    "data": {
                        "text/html": "(1 row affected)"
                    },
                    "metadata": {}
                },
                {
                    "output_type": "display_data",
                    "data": {
                        "text/html": "Total execution time: 00:00:00.006"
                    },
                    "metadata": {}
                },
                {
                    "output_type": "execute_result",
                    "metadata": {},
                    "execution_count": 11,
                    "data": {
                        "application/vnd.dataresource+json": {
                            "schema": {
                                "fields": [
                                    {
                                        "name": "Employee_ID"
                                    },
                                    {
                                        "name": "Last_Name"
                                    },
                                    {
                                        "name": "First_Name"
                                    },
                                    {
                                        "name": "Middle_Name"
                                    },
                                    {
                                        "name": "Job_ID"
                                    },
                                    {
                                        "name": "Manager_ID"
                                    },
                                    {
                                        "name": "Hire_Date"
                                    },
                                    {
                                        "name": "Salary"
                                    },
                                    {
                                        "name": "Comm"
                                    },
                                    {
                                        "name": "Department_ID"
                                    }
                                ]
                            },
                            "data": [
                                {
                                    "0": "7369",
                                    "1": "SMITH",
                                    "2": "JOHN",
                                    "3": "Q",
                                    "4": "667",
                                    "5": "7902",
                                    "6": "1984-12-17",
                                    "7": "800.00",
                                    "8": "NULL",
                                    "9": "20"
                                }
                            ]
                        },
                        "text/html": [
                            "<table>",
                            "<tr><th>Employee_ID</th><th>Last_Name</th><th>First_Name</th><th>Middle_Name</th><th>Job_ID</th><th>Manager_ID</th><th>Hire_Date</th><th>Salary</th><th>Comm</th><th>Department_ID</th></tr>",
                            "<tr><td>7369</td><td>SMITH</td><td>JOHN</td><td>Q</td><td>667</td><td>7902</td><td>1984-12-17</td><td>800.00</td><td>NULL</td><td>20</td></tr>",
                            "</table>"
                        ]
                    }
                }
            ],
            "execution_count": 11
        },
        {
            "cell_type": "code",
            "source": [
                "-- 2. LIST OUT THE EMPLOYEES WHO ARE WORKING IN DEPARTMENT 20.\r\n",
                "SELECT * FROM EMPLOYEE WHERE Department_ID=20"
            ],
            "metadata": {
                "language": "sql",
                "azdata_cell_guid": "8d0660fa-105d-4489-97fa-5594966a5ad2",
                "tags": []
            },
            "outputs": [
                {
                    "output_type": "display_data",
                    "data": {
                        "text/html": "(1 row affected)"
                    },
                    "metadata": {}
                },
                {
                    "output_type": "display_data",
                    "data": {
                        "text/html": "Total execution time: 00:00:00.002"
                    },
                    "metadata": {}
                },
                {
                    "output_type": "execute_result",
                    "metadata": {},
                    "execution_count": 14,
                    "data": {
                        "application/vnd.dataresource+json": {
                            "schema": {
                                "fields": [
                                    {
                                        "name": "Employee_ID"
                                    },
                                    {
                                        "name": "Last_Name"
                                    },
                                    {
                                        "name": "First_Name"
                                    },
                                    {
                                        "name": "Middle_Name"
                                    },
                                    {
                                        "name": "Job_ID"
                                    },
                                    {
                                        "name": "Manager_ID"
                                    },
                                    {
                                        "name": "Hire_Date"
                                    },
                                    {
                                        "name": "Salary"
                                    },
                                    {
                                        "name": "Comm"
                                    },
                                    {
                                        "name": "Department_ID"
                                    }
                                ]
                            },
                            "data": [
                                {
                                    "0": "7369",
                                    "1": "SMITH",
                                    "2": "JOHN",
                                    "3": "Q",
                                    "4": "667",
                                    "5": "7902",
                                    "6": "1984-12-17",
                                    "7": "800.00",
                                    "8": "NULL",
                                    "9": "20"
                                }
                            ]
                        },
                        "text/html": [
                            "<table>",
                            "<tr><th>Employee_ID</th><th>Last_Name</th><th>First_Name</th><th>Middle_Name</th><th>Job_ID</th><th>Manager_ID</th><th>Hire_Date</th><th>Salary</th><th>Comm</th><th>Department_ID</th></tr>",
                            "<tr><td>7369</td><td>SMITH</td><td>JOHN</td><td>Q</td><td>667</td><td>7902</td><td>1984-12-17</td><td>800.00</td><td>NULL</td><td>20</td></tr>",
                            "</table>"
                        ]
                    }
                }
            ],
            "execution_count": 14
        },
        {
            "cell_type": "code",
            "source": [
                "-- 3. LIST OUT THE EMPLOYEES WHO ARE EARNING SALARY BETWEEN 3000 AND 4500.\r\n",
                "SELECT * FROM EMPLOYEE WHERE Salary BETWEEN 3000 AND 4500"
            ],
            "metadata": {
                "language": "sql",
                "azdata_cell_guid": "854465b5-2e57-4cee-a4de-591b67d26dfd"
            },
            "outputs": [
                {
                    "output_type": "display_data",
                    "data": {
                        "text/html": "(0 rows affected)"
                    },
                    "metadata": {}
                },
                {
                    "output_type": "display_data",
                    "data": {
                        "text/html": "Total execution time: 00:00:00.001"
                    },
                    "metadata": {}
                },
                {
                    "output_type": "execute_result",
                    "metadata": {},
                    "execution_count": 19,
                    "data": {
                        "application/vnd.dataresource+json": {
                            "schema": {
                                "fields": [
                                    {
                                        "name": "Employee_ID"
                                    },
                                    {
                                        "name": "Last_Name"
                                    },
                                    {
                                        "name": "First_Name"
                                    },
                                    {
                                        "name": "Middle_Name"
                                    },
                                    {
                                        "name": "Job_ID"
                                    },
                                    {
                                        "name": "Manager_ID"
                                    },
                                    {
                                        "name": "Hire_Date"
                                    },
                                    {
                                        "name": "Salary"
                                    },
                                    {
                                        "name": "Comm"
                                    },
                                    {
                                        "name": "Department_ID"
                                    }
                                ]
                            },
                            "data": []
                        },
                        "text/html": [
                            "<table>",
                            "<tr><th>Employee_ID</th><th>Last_Name</th><th>First_Name</th><th>Middle_Name</th><th>Job_ID</th><th>Manager_ID</th><th>Hire_Date</th><th>Salary</th><th>Comm</th><th>Department_ID</th></tr>",
                            "</table>"
                        ]
                    }
                }
            ],
            "execution_count": 19
        },
        {
            "cell_type": "code",
            "source": [
                "-- 4. LIST OUT THE EMPLOYEES WHO ARE WORKING IN DEPARTMENT 10 OR 20.\r\n",
                "SELECT * FROM EMPLOYEE WHERE Department_ID IN (10,20)"
            ],
            "metadata": {
                "language": "sql",
                "azdata_cell_guid": "05313bb0-f66c-44dc-aee9-2c9006437930",
                "tags": []
            },
            "outputs": [
                {
                    "output_type": "display_data",
                    "data": {
                        "text/html": "(1 row affected)"
                    },
                    "metadata": {}
                },
                {
                    "output_type": "display_data",
                    "data": {
                        "text/html": "Total execution time: 00:00:00.002"
                    },
                    "metadata": {}
                },
                {
                    "output_type": "execute_result",
                    "metadata": {},
                    "execution_count": 20,
                    "data": {
                        "application/vnd.dataresource+json": {
                            "schema": {
                                "fields": [
                                    {
                                        "name": "Employee_ID"
                                    },
                                    {
                                        "name": "Last_Name"
                                    },
                                    {
                                        "name": "First_Name"
                                    },
                                    {
                                        "name": "Middle_Name"
                                    },
                                    {
                                        "name": "Job_ID"
                                    },
                                    {
                                        "name": "Manager_ID"
                                    },
                                    {
                                        "name": "Hire_Date"
                                    },
                                    {
                                        "name": "Salary"
                                    },
                                    {
                                        "name": "Comm"
                                    },
                                    {
                                        "name": "Department_ID"
                                    }
                                ]
                            },
                            "data": [
                                {
                                    "0": "7369",
                                    "1": "SMITH",
                                    "2": "JOHN",
                                    "3": "Q",
                                    "4": "667",
                                    "5": "7902",
                                    "6": "1984-12-17",
                                    "7": "800.00",
                                    "8": "NULL",
                                    "9": "20"
                                }
                            ]
                        },
                        "text/html": [
                            "<table>",
                            "<tr><th>Employee_ID</th><th>Last_Name</th><th>First_Name</th><th>Middle_Name</th><th>Job_ID</th><th>Manager_ID</th><th>Hire_Date</th><th>Salary</th><th>Comm</th><th>Department_ID</th></tr>",
                            "<tr><td>7369</td><td>SMITH</td><td>JOHN</td><td>Q</td><td>667</td><td>7902</td><td>1984-12-17</td><td>800.00</td><td>NULL</td><td>20</td></tr>",
                            "</table>"
                        ]
                    }
                }
            ],
            "execution_count": 20
        },
        {
            "cell_type": "code",
            "source": [
                "-- 5. FIND OUT THE EMPLOYEES WHO ARE NOT WORKING IN DEPARTMENT 10 OR 30.\r\n",
                "SELECT * FROM EMPLOYEE WHERE Department_ID NOT IN (10,30)"
            ],
            "metadata": {
                "language": "sql",
                "azdata_cell_guid": "363efa47-e85e-493a-89f4-734bf61baed4"
            },
            "outputs": [
                {
                    "output_type": "display_data",
                    "data": {
                        "text/html": "(2 rows affected)"
                    },
                    "metadata": {}
                },
                {
                    "output_type": "display_data",
                    "data": {
                        "text/html": "Total execution time: 00:00:00.079"
                    },
                    "metadata": {}
                },
                {
                    "output_type": "execute_result",
                    "metadata": {},
                    "execution_count": 21,
                    "data": {
                        "application/vnd.dataresource+json": {
                            "schema": {
                                "fields": [
                                    {
                                        "name": "Employee_ID"
                                    },
                                    {
                                        "name": "Last_Name"
                                    },
                                    {
                                        "name": "First_Name"
                                    },
                                    {
                                        "name": "Middle_Name"
                                    },
                                    {
                                        "name": "Job_ID"
                                    },
                                    {
                                        "name": "Manager_ID"
                                    },
                                    {
                                        "name": "Hire_Date"
                                    },
                                    {
                                        "name": "Salary"
                                    },
                                    {
                                        "name": "Comm"
                                    },
                                    {
                                        "name": "Department_ID"
                                    }
                                ]
                            },
                            "data": [
                                {
                                    "0": "7369",
                                    "1": "SMITH",
                                    "2": "JOHN",
                                    "3": "Q",
                                    "4": "667",
                                    "5": "7902",
                                    "6": "1984-12-17",
                                    "7": "800.00",
                                    "8": "NULL",
                                    "9": "20"
                                },
                                {
                                    "0": "7507",
                                    "1": "BAKER",
                                    "2": "LESLIE",
                                    "3": "D",
                                    "4": "671",
                                    "5": "7839",
                                    "6": "1985-06-10",
                                    "7": "2200.00",
                                    "8": "NULL",
                                    "9": "40"
                                }
                            ]
                        },
                        "text/html": [
                            "<table>",
                            "<tr><th>Employee_ID</th><th>Last_Name</th><th>First_Name</th><th>Middle_Name</th><th>Job_ID</th><th>Manager_ID</th><th>Hire_Date</th><th>Salary</th><th>Comm</th><th>Department_ID</th></tr>",
                            "<tr><td>7369</td><td>SMITH</td><td>JOHN</td><td>Q</td><td>667</td><td>7902</td><td>1984-12-17</td><td>800.00</td><td>NULL</td><td>20</td></tr>",
                            "<tr><td>7507</td><td>BAKER</td><td>LESLIE</td><td>D</td><td>671</td><td>7839</td><td>1985-06-10</td><td>2200.00</td><td>NULL</td><td>40</td></tr>",
                            "</table>"
                        ]
                    }
                }
            ],
            "execution_count": 21
        },
        {
            "cell_type": "code",
            "source": [
                "-- 6. LIST OUT THE EMPLOYEES WHOSE NAME STARTS WITH 'S'.\r\n",
                "SELECT * FROM EMPLOYEE WHERE First_Name LIKE 'S%' OR Last_Name LIKE 'S%'"
            ],
            "metadata": {
                "language": "sql",
                "azdata_cell_guid": "7f85262f-62d2-4ab7-96d4-2fbe70c22fb2"
            },
            "outputs": [
                {
                    "output_type": "display_data",
                    "data": {
                        "text/html": "(1 row affected)"
                    },
                    "metadata": {}
                },
                {
                    "output_type": "display_data",
                    "data": {
                        "text/html": "Total execution time: 00:00:00.002"
                    },
                    "metadata": {}
                },
                {
                    "output_type": "execute_result",
                    "metadata": {},
                    "execution_count": 24,
                    "data": {
                        "application/vnd.dataresource+json": {
                            "schema": {
                                "fields": [
                                    {
                                        "name": "Employee_ID"
                                    },
                                    {
                                        "name": "Last_Name"
                                    },
                                    {
                                        "name": "First_Name"
                                    },
                                    {
                                        "name": "Middle_Name"
                                    },
                                    {
                                        "name": "Job_ID"
                                    },
                                    {
                                        "name": "Manager_ID"
                                    },
                                    {
                                        "name": "Hire_Date"
                                    },
                                    {
                                        "name": "Salary"
                                    },
                                    {
                                        "name": "Comm"
                                    },
                                    {
                                        "name": "Department_ID"
                                    }
                                ]
                            },
                            "data": [
                                {
                                    "0": "7369",
                                    "1": "SMITH",
                                    "2": "JOHN",
                                    "3": "Q",
                                    "4": "667",
                                    "5": "7902",
                                    "6": "1984-12-17",
                                    "7": "800.00",
                                    "8": "NULL",
                                    "9": "20"
                                }
                            ]
                        },
                        "text/html": [
                            "<table>",
                            "<tr><th>Employee_ID</th><th>Last_Name</th><th>First_Name</th><th>Middle_Name</th><th>Job_ID</th><th>Manager_ID</th><th>Hire_Date</th><th>Salary</th><th>Comm</th><th>Department_ID</th></tr>",
                            "<tr><td>7369</td><td>SMITH</td><td>JOHN</td><td>Q</td><td>667</td><td>7902</td><td>1984-12-17</td><td>800.00</td><td>NULL</td><td>20</td></tr>",
                            "</table>"
                        ]
                    }
                }
            ],
            "execution_count": 24
        },
        {
            "cell_type": "code",
            "source": [
                "-- 7. LIST OUT THE EMPLOYEES WHOSE NAME STARTS WITH 'S' AND ENDS WITH 'H'.\r\n",
                "SELECT *\r\n",
                "FROM EMPLOYEE\r\n",
                "WHERE (First_Name LIKE 'S%H' OR Last_Name LIKE 'S%H')"
            ],
            "metadata": {
                "language": "sql",
                "azdata_cell_guid": "a26790c8-61bf-4a28-9da6-95b873ef8a3e",
                "tags": []
            },
            "outputs": [
                {
                    "output_type": "display_data",
                    "data": {
                        "text/html": "(1 row affected)"
                    },
                    "metadata": {}
                },
                {
                    "output_type": "display_data",
                    "data": {
                        "text/html": "Total execution time: 00:00:00.004"
                    },
                    "metadata": {}
                },
                {
                    "output_type": "execute_result",
                    "metadata": {},
                    "execution_count": 25,
                    "data": {
                        "application/vnd.dataresource+json": {
                            "schema": {
                                "fields": [
                                    {
                                        "name": "Employee_ID"
                                    },
                                    {
                                        "name": "Last_Name"
                                    },
                                    {
                                        "name": "First_Name"
                                    },
                                    {
                                        "name": "Middle_Name"
                                    },
                                    {
                                        "name": "Job_ID"
                                    },
                                    {
                                        "name": "Manager_ID"
                                    },
                                    {
                                        "name": "Hire_Date"
                                    },
                                    {
                                        "name": "Salary"
                                    },
                                    {
                                        "name": "Comm"
                                    },
                                    {
                                        "name": "Department_ID"
                                    }
                                ]
                            },
                            "data": [
                                {
                                    "0": "7369",
                                    "1": "SMITH",
                                    "2": "JOHN",
                                    "3": "Q",
                                    "4": "667",
                                    "5": "7902",
                                    "6": "1984-12-17",
                                    "7": "800.00",
                                    "8": "NULL",
                                    "9": "20"
                                }
                            ]
                        },
                        "text/html": [
                            "<table>",
                            "<tr><th>Employee_ID</th><th>Last_Name</th><th>First_Name</th><th>Middle_Name</th><th>Job_ID</th><th>Manager_ID</th><th>Hire_Date</th><th>Salary</th><th>Comm</th><th>Department_ID</th></tr>",
                            "<tr><td>7369</td><td>SMITH</td><td>JOHN</td><td>Q</td><td>667</td><td>7902</td><td>1984-12-17</td><td>800.00</td><td>NULL</td><td>20</td></tr>",
                            "</table>"
                        ]
                    }
                }
            ],
            "execution_count": 25
        },
        {
            "cell_type": "code",
            "source": [
                "-- 8. LIST OUT THE EMPLOYEES WHOSE NAME LENGTH IS 4 AND START WITH 'S'.\r\n",
                "SELECT *\r\n",
                "FROM EMPLOYEE\r\n",
                "WHERE 4 IN (LEN(First_Name),LEN(LAST_NAME)) AND (First_Name LIKE 'S%' OR Last_Name LIKE 'S%')"
            ],
            "metadata": {
                "language": "sql",
                "azdata_cell_guid": "9e8bcb96-2d2c-487e-ab2f-5094f14a3a28"
            },
            "outputs": [
                {
                    "output_type": "display_data",
                    "data": {
                        "text/html": "(1 row affected)"
                    },
                    "metadata": {}
                },
                {
                    "output_type": "display_data",
                    "data": {
                        "text/html": "Total execution time: 00:00:00.003"
                    },
                    "metadata": {}
                },
                {
                    "output_type": "execute_result",
                    "metadata": {},
                    "execution_count": 26,
                    "data": {
                        "application/vnd.dataresource+json": {
                            "schema": {
                                "fields": [
                                    {
                                        "name": "Employee_ID"
                                    },
                                    {
                                        "name": "Last_Name"
                                    },
                                    {
                                        "name": "First_Name"
                                    },
                                    {
                                        "name": "Middle_Name"
                                    },
                                    {
                                        "name": "Job_ID"
                                    },
                                    {
                                        "name": "Manager_ID"
                                    },
                                    {
                                        "name": "Hire_Date"
                                    },
                                    {
                                        "name": "Salary"
                                    },
                                    {
                                        "name": "Comm"
                                    },
                                    {
                                        "name": "Department_ID"
                                    }
                                ]
                            },
                            "data": [
                                {
                                    "0": "7369",
                                    "1": "SMITH",
                                    "2": "JOHN",
                                    "3": "Q",
                                    "4": "667",
                                    "5": "7902",
                                    "6": "1984-12-17",
                                    "7": "800.00",
                                    "8": "NULL",
                                    "9": "20"
                                }
                            ]
                        },
                        "text/html": [
                            "<table>",
                            "<tr><th>Employee_ID</th><th>Last_Name</th><th>First_Name</th><th>Middle_Name</th><th>Job_ID</th><th>Manager_ID</th><th>Hire_Date</th><th>Salary</th><th>Comm</th><th>Department_ID</th></tr>",
                            "<tr><td>7369</td><td>SMITH</td><td>JOHN</td><td>Q</td><td>667</td><td>7902</td><td>1984-12-17</td><td>800.00</td><td>NULL</td><td>20</td></tr>",
                            "</table>"
                        ]
                    }
                }
            ],
            "execution_count": 26
        },
        {
            "cell_type": "code",
            "source": [
                "-- 9. LIST OUT EMPLOYEES WHO ARE WORKING IN DEPARRTMENT 10 AND DRAW THE\r\n",
                "-- SALARIES MORE THAN 3500.\r\n",
                "\r\n",
                "SELECT * FROM EMPLOYEE WHERE Department_ID=10 AND Salary>3500"
            ],
            "metadata": {
                "language": "sql",
                "azdata_cell_guid": "b1fd4990-c416-49f3-be5c-204e7931b21a"
            },
            "outputs": [
                {
                    "output_type": "display_data",
                    "data": {
                        "text/html": "(0 rows affected)"
                    },
                    "metadata": {}
                },
                {
                    "output_type": "display_data",
                    "data": {
                        "text/html": "Total execution time: 00:00:00.003"
                    },
                    "metadata": {}
                },
                {
                    "output_type": "execute_result",
                    "metadata": {},
                    "execution_count": 27,
                    "data": {
                        "application/vnd.dataresource+json": {
                            "schema": {
                                "fields": [
                                    {
                                        "name": "Employee_ID"
                                    },
                                    {
                                        "name": "Last_Name"
                                    },
                                    {
                                        "name": "First_Name"
                                    },
                                    {
                                        "name": "Middle_Name"
                                    },
                                    {
                                        "name": "Job_ID"
                                    },
                                    {
                                        "name": "Manager_ID"
                                    },
                                    {
                                        "name": "Hire_Date"
                                    },
                                    {
                                        "name": "Salary"
                                    },
                                    {
                                        "name": "Comm"
                                    },
                                    {
                                        "name": "Department_ID"
                                    }
                                ]
                            },
                            "data": []
                        },
                        "text/html": [
                            "<table>",
                            "<tr><th>Employee_ID</th><th>Last_Name</th><th>First_Name</th><th>Middle_Name</th><th>Job_ID</th><th>Manager_ID</th><th>Hire_Date</th><th>Salary</th><th>Comm</th><th>Department_ID</th></tr>",
                            "</table>"
                        ]
                    }
                }
            ],
            "execution_count": 27
        },
        {
            "cell_type": "code",
            "source": [
                "-- 10. LIST OUT THE EMPLOYEES WHO ARE NOT RECEVING COMMISSION.\r\n",
                "SELECT * FROM EMPLOYEE WHERE COMM IS NULL"
            ],
            "metadata": {
                "language": "sql",
                "azdata_cell_guid": "bd4049ae-554e-4f16-baa1-f71268d36fb1",
                "tags": []
            },
            "outputs": [
                {
                    "output_type": "display_data",
                    "data": {
                        "text/html": "(4 rows affected)"
                    },
                    "metadata": {}
                },
                {
                    "output_type": "display_data",
                    "data": {
                        "text/html": "Total execution time: 00:00:00.064"
                    },
                    "metadata": {}
                },
                {
                    "output_type": "execute_result",
                    "metadata": {},
                    "execution_count": 28,
                    "data": {
                        "application/vnd.dataresource+json": {
                            "schema": {
                                "fields": [
                                    {
                                        "name": "Employee_ID"
                                    },
                                    {
                                        "name": "Last_Name"
                                    },
                                    {
                                        "name": "First_Name"
                                    },
                                    {
                                        "name": "Middle_Name"
                                    },
                                    {
                                        "name": "Job_ID"
                                    },
                                    {
                                        "name": "Manager_ID"
                                    },
                                    {
                                        "name": "Hire_Date"
                                    },
                                    {
                                        "name": "Salary"
                                    },
                                    {
                                        "name": "Comm"
                                    },
                                    {
                                        "name": "Department_ID"
                                    }
                                ]
                            },
                            "data": [
                                {
                                    "0": "7369",
                                    "1": "SMITH",
                                    "2": "JOHN",
                                    "3": "Q",
                                    "4": "667",
                                    "5": "7902",
                                    "6": "1984-12-17",
                                    "7": "800.00",
                                    "8": "NULL",
                                    "9": "20"
                                },
                                {
                                    "0": "7505",
                                    "1": "DOYLE",
                                    "2": "JEAN",
                                    "3": "K",
                                    "4": "671",
                                    "5": "7839",
                                    "6": "1985-04-04",
                                    "7": "2850.00",
                                    "8": "NULL",
                                    "9": "30"
                                },
                                {
                                    "0": "7506",
                                    "1": "DENNIS",
                                    "2": "LYNN",
                                    "3": "S",
                                    "4": "671",
                                    "5": "7839",
                                    "6": "1985-05-15",
                                    "7": "2750.00",
                                    "8": "NULL",
                                    "9": "30"
                                },
                                {
                                    "0": "7507",
                                    "1": "BAKER",
                                    "2": "LESLIE",
                                    "3": "D",
                                    "4": "671",
                                    "5": "7839",
                                    "6": "1985-06-10",
                                    "7": "2200.00",
                                    "8": "NULL",
                                    "9": "40"
                                }
                            ]
                        },
                        "text/html": [
                            "<table>",
                            "<tr><th>Employee_ID</th><th>Last_Name</th><th>First_Name</th><th>Middle_Name</th><th>Job_ID</th><th>Manager_ID</th><th>Hire_Date</th><th>Salary</th><th>Comm</th><th>Department_ID</th></tr>",
                            "<tr><td>7369</td><td>SMITH</td><td>JOHN</td><td>Q</td><td>667</td><td>7902</td><td>1984-12-17</td><td>800.00</td><td>NULL</td><td>20</td></tr>",
                            "<tr><td>7505</td><td>DOYLE</td><td>JEAN</td><td>K</td><td>671</td><td>7839</td><td>1985-04-04</td><td>2850.00</td><td>NULL</td><td>30</td></tr>",
                            "<tr><td>7506</td><td>DENNIS</td><td>LYNN</td><td>S</td><td>671</td><td>7839</td><td>1985-05-15</td><td>2750.00</td><td>NULL</td><td>30</td></tr>",
                            "<tr><td>7507</td><td>BAKER</td><td>LESLIE</td><td>D</td><td>671</td><td>7839</td><td>1985-06-10</td><td>2200.00</td><td>NULL</td><td>40</td></tr>",
                            "</table>"
                        ]
                    }
                }
            ],
            "execution_count": 28
        },
        {
            "cell_type": "markdown",
            "source": [
                "## ORDER BY CLAUSE"
            ],
            "metadata": {
                "language": "sql",
                "azdata_cell_guid": "6d9ee031-45dc-4049-9568-fbe0cfe71051"
            },
            "attachments": {}
        },
        {
            "cell_type": "code",
            "source": [
                "-- 1. LIST OUT THE EMPLOYEE ID, LAST NAME IN ASCENDING ORDER BASED ON THE EMPLOYEE ID.\r\n",
                "SELECT Employee_ID, LAST_NAME FROM EMPLOYEE ORDER BY Employee_ID"
            ],
            "metadata": {
                "language": "sql",
                "azdata_cell_guid": "34bc57bf-b3af-43d7-a698-b95da6f384fc"
            },
            "outputs": [
                {
                    "output_type": "display_data",
                    "data": {
                        "text/html": "(6 rows affected)"
                    },
                    "metadata": {}
                },
                {
                    "output_type": "display_data",
                    "data": {
                        "text/html": "Total execution time: 00:00:00.001"
                    },
                    "metadata": {}
                },
                {
                    "output_type": "execute_result",
                    "metadata": {},
                    "execution_count": 30,
                    "data": {
                        "application/vnd.dataresource+json": {
                            "schema": {
                                "fields": [
                                    {
                                        "name": "Employee_ID"
                                    },
                                    {
                                        "name": "LAST_NAME"
                                    }
                                ]
                            },
                            "data": [
                                {
                                    "0": "7369",
                                    "1": "SMITH"
                                },
                                {
                                    "0": "7499",
                                    "1": "ALLEN"
                                },
                                {
                                    "0": "7505",
                                    "1": "DOYLE"
                                },
                                {
                                    "0": "7506",
                                    "1": "DENNIS"
                                },
                                {
                                    "0": "7507",
                                    "1": "BAKER"
                                },
                                {
                                    "0": "7521",
                                    "1": "WARK"
                                }
                            ]
                        },
                        "text/html": [
                            "<table>",
                            "<tr><th>Employee_ID</th><th>LAST_NAME</th></tr>",
                            "<tr><td>7369</td><td>SMITH</td></tr>",
                            "<tr><td>7499</td><td>ALLEN</td></tr>",
                            "<tr><td>7505</td><td>DOYLE</td></tr>",
                            "<tr><td>7506</td><td>DENNIS</td></tr>",
                            "<tr><td>7507</td><td>BAKER</td></tr>",
                            "<tr><td>7521</td><td>WARK</td></tr>",
                            "</table>"
                        ]
                    }
                }
            ],
            "execution_count": 30
        },
        {
            "cell_type": "code",
            "source": [
                "-- 2. LIST OUT THE EMPLOYEE ID, NAME IN DESCENDING ORDER BASED ON SALARY.\r\n",
                "SELECT Employee_ID, First_Name AS [NAME]\r\n",
                "FROM EMPLOYEE\r\n",
                "ORDER BY Salary DESC"
            ],
            "metadata": {
                "language": "sql",
                "azdata_cell_guid": "b45e6abd-60a5-426f-beab-1623dabdd2ed"
            },
            "outputs": [
                {
                    "output_type": "display_data",
                    "data": {
                        "text/html": "(6 rows affected)"
                    },
                    "metadata": {}
                },
                {
                    "output_type": "display_data",
                    "data": {
                        "text/html": "Total execution time: 00:00:00.003"
                    },
                    "metadata": {}
                },
                {
                    "output_type": "execute_result",
                    "metadata": {},
                    "execution_count": 31,
                    "data": {
                        "application/vnd.dataresource+json": {
                            "schema": {
                                "fields": [
                                    {
                                        "name": "Employee_ID"
                                    },
                                    {
                                        "name": "NAME"
                                    }
                                ]
                            },
                            "data": [
                                {
                                    "0": "7505",
                                    "1": "JEAN"
                                },
                                {
                                    "0": "7506",
                                    "1": "LYNN"
                                },
                                {
                                    "0": "7507",
                                    "1": "LESLIE"
                                },
                                {
                                    "0": "7499",
                                    "1": "KEVIN"
                                },
                                {
                                    "0": "7521",
                                    "1": "CYNTHIA"
                                },
                                {
                                    "0": "7369",
                                    "1": "JOHN"
                                }
                            ]
                        },
                        "text/html": [
                            "<table>",
                            "<tr><th>Employee_ID</th><th>NAME</th></tr>",
                            "<tr><td>7505</td><td>JEAN</td></tr>",
                            "<tr><td>7506</td><td>LYNN</td></tr>",
                            "<tr><td>7507</td><td>LESLIE</td></tr>",
                            "<tr><td>7499</td><td>KEVIN</td></tr>",
                            "<tr><td>7521</td><td>CYNTHIA</td></tr>",
                            "<tr><td>7369</td><td>JOHN</td></tr>",
                            "</table>"
                        ]
                    }
                }
            ],
            "execution_count": 31
        },
        {
            "cell_type": "code",
            "source": [
                "-- 3. LIST OUT THE EMPLOYEE DETAILS ACCORDING TO THEIR LAST-NAME IN ASCENDING ORDER\r\n",
                "SELECT * FROM EMPLOYEE ORDER BY Last_Name"
            ],
            "metadata": {
                "language": "sql",
                "azdata_cell_guid": "0b43826f-a0ef-40b2-b6de-5fd934a27144"
            },
            "outputs": [
                {
                    "output_type": "display_data",
                    "data": {
                        "text/html": "(6 rows affected)"
                    },
                    "metadata": {}
                },
                {
                    "output_type": "display_data",
                    "data": {
                        "text/html": "Total execution time: 00:00:00.003"
                    },
                    "metadata": {}
                },
                {
                    "output_type": "execute_result",
                    "metadata": {},
                    "execution_count": 32,
                    "data": {
                        "application/vnd.dataresource+json": {
                            "schema": {
                                "fields": [
                                    {
                                        "name": "Employee_ID"
                                    },
                                    {
                                        "name": "Last_Name"
                                    },
                                    {
                                        "name": "First_Name"
                                    },
                                    {
                                        "name": "Middle_Name"
                                    },
                                    {
                                        "name": "Job_ID"
                                    },
                                    {
                                        "name": "Manager_ID"
                                    },
                                    {
                                        "name": "Hire_Date"
                                    },
                                    {
                                        "name": "Salary"
                                    },
                                    {
                                        "name": "Comm"
                                    },
                                    {
                                        "name": "Department_ID"
                                    }
                                ]
                            },
                            "data": [
                                {
                                    "0": "7499",
                                    "1": "ALLEN",
                                    "2": "KEVIN",
                                    "3": "J",
                                    "4": "670",
                                    "5": "7698",
                                    "6": "1985-02-20",
                                    "7": "1600.00",
                                    "8": "300",
                                    "9": "30"
                                },
                                {
                                    "0": "7507",
                                    "1": "BAKER",
                                    "2": "LESLIE",
                                    "3": "D",
                                    "4": "671",
                                    "5": "7839",
                                    "6": "1985-06-10",
                                    "7": "2200.00",
                                    "8": "NULL",
                                    "9": "40"
                                },
                                {
                                    "0": "7506",
                                    "1": "DENNIS",
                                    "2": "LYNN",
                                    "3": "S",
                                    "4": "671",
                                    "5": "7839",
                                    "6": "1985-05-15",
                                    "7": "2750.00",
                                    "8": "NULL",
                                    "9": "30"
                                },
                                {
                                    "0": "7505",
                                    "1": "DOYLE",
                                    "2": "JEAN",
                                    "3": "K",
                                    "4": "671",
                                    "5": "7839",
                                    "6": "1985-04-04",
                                    "7": "2850.00",
                                    "8": "NULL",
                                    "9": "30"
                                },
                                {
                                    "0": "7369",
                                    "1": "SMITH",
                                    "2": "JOHN",
                                    "3": "Q",
                                    "4": "667",
                                    "5": "7902",
                                    "6": "1984-12-17",
                                    "7": "800.00",
                                    "8": "NULL",
                                    "9": "20"
                                },
                                {
                                    "0": "7521",
                                    "1": "WARK",
                                    "2": "CYNTHIA",
                                    "3": "D",
                                    "4": "670",
                                    "5": "7698",
                                    "6": "1985-02-22",
                                    "7": "1250.00",
                                    "8": "500",
                                    "9": "30"
                                }
                            ]
                        },
                        "text/html": [
                            "<table>",
                            "<tr><th>Employee_ID</th><th>Last_Name</th><th>First_Name</th><th>Middle_Name</th><th>Job_ID</th><th>Manager_ID</th><th>Hire_Date</th><th>Salary</th><th>Comm</th><th>Department_ID</th></tr>",
                            "<tr><td>7499</td><td>ALLEN</td><td>KEVIN</td><td>J</td><td>670</td><td>7698</td><td>1985-02-20</td><td>1600.00</td><td>300</td><td>30</td></tr>",
                            "<tr><td>7507</td><td>BAKER</td><td>LESLIE</td><td>D</td><td>671</td><td>7839</td><td>1985-06-10</td><td>2200.00</td><td>NULL</td><td>40</td></tr>",
                            "<tr><td>7506</td><td>DENNIS</td><td>LYNN</td><td>S</td><td>671</td><td>7839</td><td>1985-05-15</td><td>2750.00</td><td>NULL</td><td>30</td></tr>",
                            "<tr><td>7505</td><td>DOYLE</td><td>JEAN</td><td>K</td><td>671</td><td>7839</td><td>1985-04-04</td><td>2850.00</td><td>NULL</td><td>30</td></tr>",
                            "<tr><td>7369</td><td>SMITH</td><td>JOHN</td><td>Q</td><td>667</td><td>7902</td><td>1984-12-17</td><td>800.00</td><td>NULL</td><td>20</td></tr>",
                            "<tr><td>7521</td><td>WARK</td><td>CYNTHIA</td><td>D</td><td>670</td><td>7698</td><td>1985-02-22</td><td>1250.00</td><td>500</td><td>30</td></tr>",
                            "</table>"
                        ]
                    }
                }
            ],
            "execution_count": 32
        },
        {
            "cell_type": "code",
            "source": [
                "-- 4. LIST OUT THE EMPLOYEE DETAILS ACCORDING TO THEIR LAST-NAME IN ASCENDING ORDER AND\r\n",
                "-- THEN ON DEPARTMENT_ID IN DESCENDING ORDER.\r\n",
                "SELECT * FROM EMPLOYEE ORDER BY Last_Name, Department_ID DESC\r\n",
                ""
            ],
            "metadata": {
                "language": "sql",
                "azdata_cell_guid": "ea0ae8fc-9dc7-4c66-93dd-7c48577e26cc"
            },
            "outputs": [
                {
                    "output_type": "display_data",
                    "data": {
                        "text/html": "(6 rows affected)"
                    },
                    "metadata": {}
                },
                {
                    "output_type": "display_data",
                    "data": {
                        "text/html": "Total execution time: 00:00:00.003"
                    },
                    "metadata": {}
                },
                {
                    "output_type": "execute_result",
                    "metadata": {},
                    "execution_count": 33,
                    "data": {
                        "application/vnd.dataresource+json": {
                            "schema": {
                                "fields": [
                                    {
                                        "name": "Employee_ID"
                                    },
                                    {
                                        "name": "Last_Name"
                                    },
                                    {
                                        "name": "First_Name"
                                    },
                                    {
                                        "name": "Middle_Name"
                                    },
                                    {
                                        "name": "Job_ID"
                                    },
                                    {
                                        "name": "Manager_ID"
                                    },
                                    {
                                        "name": "Hire_Date"
                                    },
                                    {
                                        "name": "Salary"
                                    },
                                    {
                                        "name": "Comm"
                                    },
                                    {
                                        "name": "Department_ID"
                                    }
                                ]
                            },
                            "data": [
                                {
                                    "0": "7499",
                                    "1": "ALLEN",
                                    "2": "KEVIN",
                                    "3": "J",
                                    "4": "670",
                                    "5": "7698",
                                    "6": "1985-02-20",
                                    "7": "1600.00",
                                    "8": "300",
                                    "9": "30"
                                },
                                {
                                    "0": "7507",
                                    "1": "BAKER",
                                    "2": "LESLIE",
                                    "3": "D",
                                    "4": "671",
                                    "5": "7839",
                                    "6": "1985-06-10",
                                    "7": "2200.00",
                                    "8": "NULL",
                                    "9": "40"
                                },
                                {
                                    "0": "7506",
                                    "1": "DENNIS",
                                    "2": "LYNN",
                                    "3": "S",
                                    "4": "671",
                                    "5": "7839",
                                    "6": "1985-05-15",
                                    "7": "2750.00",
                                    "8": "NULL",
                                    "9": "30"
                                },
                                {
                                    "0": "7505",
                                    "1": "DOYLE",
                                    "2": "JEAN",
                                    "3": "K",
                                    "4": "671",
                                    "5": "7839",
                                    "6": "1985-04-04",
                                    "7": "2850.00",
                                    "8": "NULL",
                                    "9": "30"
                                },
                                {
                                    "0": "7369",
                                    "1": "SMITH",
                                    "2": "JOHN",
                                    "3": "Q",
                                    "4": "667",
                                    "5": "7902",
                                    "6": "1984-12-17",
                                    "7": "800.00",
                                    "8": "NULL",
                                    "9": "20"
                                },
                                {
                                    "0": "7521",
                                    "1": "WARK",
                                    "2": "CYNTHIA",
                                    "3": "D",
                                    "4": "670",
                                    "5": "7698",
                                    "6": "1985-02-22",
                                    "7": "1250.00",
                                    "8": "500",
                                    "9": "30"
                                }
                            ]
                        },
                        "text/html": [
                            "<table>",
                            "<tr><th>Employee_ID</th><th>Last_Name</th><th>First_Name</th><th>Middle_Name</th><th>Job_ID</th><th>Manager_ID</th><th>Hire_Date</th><th>Salary</th><th>Comm</th><th>Department_ID</th></tr>",
                            "<tr><td>7499</td><td>ALLEN</td><td>KEVIN</td><td>J</td><td>670</td><td>7698</td><td>1985-02-20</td><td>1600.00</td><td>300</td><td>30</td></tr>",
                            "<tr><td>7507</td><td>BAKER</td><td>LESLIE</td><td>D</td><td>671</td><td>7839</td><td>1985-06-10</td><td>2200.00</td><td>NULL</td><td>40</td></tr>",
                            "<tr><td>7506</td><td>DENNIS</td><td>LYNN</td><td>S</td><td>671</td><td>7839</td><td>1985-05-15</td><td>2750.00</td><td>NULL</td><td>30</td></tr>",
                            "<tr><td>7505</td><td>DOYLE</td><td>JEAN</td><td>K</td><td>671</td><td>7839</td><td>1985-04-04</td><td>2850.00</td><td>NULL</td><td>30</td></tr>",
                            "<tr><td>7369</td><td>SMITH</td><td>JOHN</td><td>Q</td><td>667</td><td>7902</td><td>1984-12-17</td><td>800.00</td><td>NULL</td><td>20</td></tr>",
                            "<tr><td>7521</td><td>WARK</td><td>CYNTHIA</td><td>D</td><td>670</td><td>7698</td><td>1985-02-22</td><td>1250.00</td><td>500</td><td>30</td></tr>",
                            "</table>"
                        ]
                    }
                }
            ],
            "execution_count": 33
        },
        {
            "cell_type": "markdown",
            "source": [
                "## GROUP BY & HAVING CLAUSE\r\n",
                "hint keywords - wise\r\n",
                ""
            ],
            "metadata": {
                "language": "sql",
                "azdata_cell_guid": "b4a50058-34cb-4068-b142-a7d08fe197d4"
            },
            "attachments": {}
        },
        {
            "cell_type": "code",
            "source": [
                "-- 1. HOW MANY EMPLOYEES WHO ARE IN DIFFERENT DEPARTMENTS WISE IN THE ORGANIZATION.\r\n",
                "SELECT Department_ID, COUNT(*) AS EMP_COUNT FROM EMPLOYEE GROUP BY Department_ID"
            ],
            "metadata": {
                "language": "sql",
                "azdata_cell_guid": "85dd1ad1-1272-4b51-9c58-dd6a0aca694b"
            },
            "outputs": [
                {
                    "output_type": "display_data",
                    "data": {
                        "text/html": "(3 rows affected)"
                    },
                    "metadata": {}
                },
                {
                    "output_type": "display_data",
                    "data": {
                        "text/html": "Total execution time: 00:00:00.003"
                    },
                    "metadata": {}
                },
                {
                    "output_type": "execute_result",
                    "metadata": {},
                    "execution_count": 36,
                    "data": {
                        "application/vnd.dataresource+json": {
                            "schema": {
                                "fields": [
                                    {
                                        "name": "Department_ID"
                                    },
                                    {
                                        "name": "EMP_COUNT"
                                    }
                                ]
                            },
                            "data": [
                                {
                                    "0": "20",
                                    "1": "1"
                                },
                                {
                                    "0": "30",
                                    "1": "4"
                                },
                                {
                                    "0": "40",
                                    "1": "1"
                                }
                            ]
                        },
                        "text/html": [
                            "<table>",
                            "<tr><th>Department_ID</th><th>EMP_COUNT</th></tr>",
                            "<tr><td>20</td><td>1</td></tr>",
                            "<tr><td>30</td><td>4</td></tr>",
                            "<tr><td>40</td><td>1</td></tr>",
                            "</table>"
                        ]
                    }
                }
            ],
            "execution_count": 36
        },
        {
            "cell_type": "code",
            "source": [
                "-- 2. LIST OUT THE DEPARTMENT WISE MAXIMUM SALARY, MINIMUM SALARY, AVERAGE SALARY OF\r\n",
                "-- THE EMPLOYEES.\r\n",
                "SELECT Department_ID, MAX(Salary) AS MAX_SAL, MIN(Salary) AS MIN_SAL, AVG(Salary) AS AVG_SAL\r\n",
                "FROM EMPLOYEE GROUP BY Department_ID"
            ],
            "metadata": {
                "language": "sql",
                "azdata_cell_guid": "c3456379-994b-436c-a5c2-767752fe4c4e"
            },
            "outputs": [
                {
                    "output_type": "display_data",
                    "data": {
                        "text/html": "(3 rows affected)"
                    },
                    "metadata": {}
                },
                {
                    "output_type": "display_data",
                    "data": {
                        "text/html": "Total execution time: 00:00:00.004"
                    },
                    "metadata": {}
                },
                {
                    "output_type": "execute_result",
                    "metadata": {},
                    "execution_count": 40,
                    "data": {
                        "application/vnd.dataresource+json": {
                            "schema": {
                                "fields": [
                                    {
                                        "name": "Department_ID"
                                    },
                                    {
                                        "name": "MAX_SAL"
                                    },
                                    {
                                        "name": "MIN_SAL"
                                    },
                                    {
                                        "name": "AVG_SAL"
                                    }
                                ]
                            },
                            "data": [
                                {
                                    "0": "20",
                                    "1": "800.00",
                                    "2": "800.00",
                                    "3": "800.00"
                                },
                                {
                                    "0": "30",
                                    "1": "2850.00",
                                    "2": "1250.00",
                                    "3": "2112.50"
                                },
                                {
                                    "0": "40",
                                    "1": "2200.00",
                                    "2": "2200.00",
                                    "3": "2200.00"
                                }
                            ]
                        },
                        "text/html": [
                            "<table>",
                            "<tr><th>Department_ID</th><th>MAX_SAL</th><th>MIN_SAL</th><th>AVG_SAL</th></tr>",
                            "<tr><td>20</td><td>800.00</td><td>800.00</td><td>800.00</td></tr>",
                            "<tr><td>30</td><td>2850.00</td><td>1250.00</td><td>2112.50</td></tr>",
                            "<tr><td>40</td><td>2200.00</td><td>2200.00</td><td>2200.00</td></tr>",
                            "</table>"
                        ]
                    }
                }
            ],
            "execution_count": 40
        },
        {
            "cell_type": "code",
            "source": [
                "-- 3. LIST OUT JOB WISE MAXIMUM SALARY, MINIMUM SALARY, AVERAGE SALARIES OF THE\r\n",
                "-- EMPLOYEES.\r\n",
                "SELECT Job_ID, MAX(Salary) AS MAX_SAL, MIN(Salary) AS MIN_SAL, AVG(Salary) AS AVG_SAL\r\n",
                "FROM EMPLOYEE GROUP BY Job_ID"
            ],
            "metadata": {
                "language": "sql",
                "azdata_cell_guid": "fb737771-c08a-4c18-9bd1-aadd6673a5f5"
            },
            "outputs": [
                {
                    "output_type": "display_data",
                    "data": {
                        "text/html": "(3 rows affected)"
                    },
                    "metadata": {}
                },
                {
                    "output_type": "display_data",
                    "data": {
                        "text/html": "Total execution time: 00:00:00.091"
                    },
                    "metadata": {}
                },
                {
                    "output_type": "execute_result",
                    "metadata": {},
                    "execution_count": 41,
                    "data": {
                        "application/vnd.dataresource+json": {
                            "schema": {
                                "fields": [
                                    {
                                        "name": "Job_ID"
                                    },
                                    {
                                        "name": "MAX_SAL"
                                    },
                                    {
                                        "name": "MIN_SAL"
                                    },
                                    {
                                        "name": "AVG_SAL"
                                    }
                                ]
                            },
                            "data": [
                                {
                                    "0": "667",
                                    "1": "800.00",
                                    "2": "800.00",
                                    "3": "800.00"
                                },
                                {
                                    "0": "670",
                                    "1": "1600.00",
                                    "2": "1250.00",
                                    "3": "1425.00"
                                },
                                {
                                    "0": "671",
                                    "1": "2850.00",
                                    "2": "2200.00",
                                    "3": "2600.00"
                                }
                            ]
                        },
                        "text/html": [
                            "<table>",
                            "<tr><th>Job_ID</th><th>MAX_SAL</th><th>MIN_SAL</th><th>AVG_SAL</th></tr>",
                            "<tr><td>667</td><td>800.00</td><td>800.00</td><td>800.00</td></tr>",
                            "<tr><td>670</td><td>1600.00</td><td>1250.00</td><td>1425.00</td></tr>",
                            "<tr><td>671</td><td>2850.00</td><td>2200.00</td><td>2600.00</td></tr>",
                            "</table>"
                        ]
                    }
                }
            ],
            "execution_count": 41
        },
        {
            "cell_type": "code",
            "source": [
                "-- 4. LIST OUT THE NUMBER OF EMPLOYEES JOINED IN EVERY MONTH IN ASCENDING ORDER.\r\n",
                "SELECT DATENAME(MM,Hire_Date) AS JOINING_MONTH, COUNT(*) AS NO_OF_EMPLOYEE FROM EMPLOYEE GROUP BY DATENAME(MM,Hire_Date) ORDER BY DATENAME(MM,Hire_Date)"
            ],
            "metadata": {
                "language": "sql",
                "azdata_cell_guid": "d1c22b5c-4ca3-43a0-9b77-c8968fdae759"
            },
            "outputs": [
                {
                    "output_type": "display_data",
                    "data": {
                        "text/html": "(5 rows affected)"
                    },
                    "metadata": {}
                },
                {
                    "output_type": "display_data",
                    "data": {
                        "text/html": "Total execution time: 00:00:00.003"
                    },
                    "metadata": {}
                },
                {
                    "output_type": "execute_result",
                    "metadata": {},
                    "execution_count": 46,
                    "data": {
                        "application/vnd.dataresource+json": {
                            "schema": {
                                "fields": [
                                    {
                                        "name": "JOINING_MONTH"
                                    },
                                    {
                                        "name": "NO_OF_EMPLOYEE"
                                    }
                                ]
                            },
                            "data": [
                                {
                                    "0": "April",
                                    "1": "1"
                                },
                                {
                                    "0": "December",
                                    "1": "1"
                                },
                                {
                                    "0": "February",
                                    "1": "2"
                                },
                                {
                                    "0": "June",
                                    "1": "1"
                                },
                                {
                                    "0": "May",
                                    "1": "1"
                                }
                            ]
                        },
                        "text/html": [
                            "<table>",
                            "<tr><th>JOINING_MONTH</th><th>NO_OF_EMPLOYEE</th></tr>",
                            "<tr><td>April</td><td>1</td></tr>",
                            "<tr><td>December</td><td>1</td></tr>",
                            "<tr><td>February</td><td>2</td></tr>",
                            "<tr><td>June</td><td>1</td></tr>",
                            "<tr><td>May</td><td>1</td></tr>",
                            "</table>"
                        ]
                    }
                }
            ],
            "execution_count": 46
        },
        {
            "cell_type": "code",
            "source": [
                "-- 5. LIST OUT THE NUMBER OF EMPLOYEES FOR EACH MONTH AND YEAR, IN THE ASCENDING\r\n",
                "-- ORDER BASED ON THE YEAR, MONTH.\r\n",
                "SELECT MONTH(Hire_Date) AS [MONTH], YEAR(Hire_Date) AS [YEAR], COUNT(*) AS EMP_COUNT\r\n",
                "FROM EMPLOYEE\r\n",
                "GROUP BY MONTH(Hire_Date),YEAR(Hire_Date)\r\n",
                "ORDER BY MONTH(Hire_Date),YEAR(Hire_Date)"
            ],
            "metadata": {
                "language": "sql",
                "azdata_cell_guid": "7dce34f5-e0c5-4345-819a-1e324ef11dc2"
            },
            "outputs": [
                {
                    "output_type": "display_data",
                    "data": {
                        "text/html": "(5 rows affected)"
                    },
                    "metadata": {}
                },
                {
                    "output_type": "display_data",
                    "data": {
                        "text/html": "Total execution time: 00:00:00.001"
                    },
                    "metadata": {}
                },
                {
                    "output_type": "execute_result",
                    "metadata": {},
                    "execution_count": 63,
                    "data": {
                        "application/vnd.dataresource+json": {
                            "schema": {
                                "fields": [
                                    {
                                        "name": "MONTH"
                                    },
                                    {
                                        "name": "YEAR"
                                    },
                                    {
                                        "name": "EMP_COUNT"
                                    }
                                ]
                            },
                            "data": [
                                {
                                    "0": "2",
                                    "1": "1985",
                                    "2": "2"
                                },
                                {
                                    "0": "4",
                                    "1": "1985",
                                    "2": "1"
                                },
                                {
                                    "0": "5",
                                    "1": "1985",
                                    "2": "1"
                                },
                                {
                                    "0": "6",
                                    "1": "1985",
                                    "2": "1"
                                },
                                {
                                    "0": "12",
                                    "1": "1984",
                                    "2": "1"
                                }
                            ]
                        },
                        "text/html": [
                            "<table>",
                            "<tr><th>MONTH</th><th>YEAR</th><th>EMP_COUNT</th></tr>",
                            "<tr><td>2</td><td>1985</td><td>2</td></tr>",
                            "<tr><td>4</td><td>1985</td><td>1</td></tr>",
                            "<tr><td>5</td><td>1985</td><td>1</td></tr>",
                            "<tr><td>6</td><td>1985</td><td>1</td></tr>",
                            "<tr><td>12</td><td>1984</td><td>1</td></tr>",
                            "</table>"
                        ]
                    }
                }
            ],
            "execution_count": 63
        },
        {
            "cell_type": "code",
            "source": [
                "-- 6. LIST OUT THE DEPARTMENT ID HAVING ATLEAST FOUR EMPLOYEES.\r\n",
                "SELECT Department_ID,COUNT(*) AS NO_OF_EMP FROM EMPLOYEE GROUP BY Department_ID HAVING COUNT(*) >=4"
            ],
            "metadata": {
                "language": "sql",
                "azdata_cell_guid": "7fb0908f-22d5-473a-9fc7-21fd5cfa2544"
            },
            "outputs": [
                {
                    "output_type": "display_data",
                    "data": {
                        "text/html": "(1 row affected)"
                    },
                    "metadata": {}
                },
                {
                    "output_type": "display_data",
                    "data": {
                        "text/html": "Total execution time: 00:00:00.002"
                    },
                    "metadata": {}
                },
                {
                    "output_type": "execute_result",
                    "metadata": {},
                    "execution_count": 52,
                    "data": {
                        "application/vnd.dataresource+json": {
                            "schema": {
                                "fields": [
                                    {
                                        "name": "Department_ID"
                                    },
                                    {
                                        "name": "NO_OF_EMP"
                                    }
                                ]
                            },
                            "data": [
                                {
                                    "0": "30",
                                    "1": "4"
                                }
                            ]
                        },
                        "text/html": [
                            "<table>",
                            "<tr><th>Department_ID</th><th>NO_OF_EMP</th></tr>",
                            "<tr><td>30</td><td>4</td></tr>",
                            "</table>"
                        ]
                    }
                }
            ],
            "execution_count": 52
        },
        {
            "cell_type": "code",
            "source": [
                "-- 7. HOW MANY EMPLOYEES JOINED IN JANUARY MONTH.\r\n",
                "SELECT COUNT(*) AS EMP_JOINED_IN_JAN FROM EMPLOYEE WHERE DATENAME(MM,Hire_Date)='Jan'"
            ],
            "metadata": {
                "language": "sql",
                "azdata_cell_guid": "bd7c934a-9aa3-4592-9edb-70f0089d6a62"
            },
            "outputs": [
                {
                    "output_type": "display_data",
                    "data": {
                        "text/html": "(1 row affected)"
                    },
                    "metadata": {}
                },
                {
                    "output_type": "display_data",
                    "data": {
                        "text/html": "Total execution time: 00:00:00.002"
                    },
                    "metadata": {}
                },
                {
                    "output_type": "execute_result",
                    "metadata": {},
                    "execution_count": 59,
                    "data": {
                        "application/vnd.dataresource+json": {
                            "schema": {
                                "fields": [
                                    {
                                        "name": "EMP_JOINED_IN_JAN"
                                    }
                                ]
                            },
                            "data": [
                                {
                                    "0": "0"
                                }
                            ]
                        },
                        "text/html": [
                            "<table>",
                            "<tr><th>EMP_JOINED_IN_JAN</th></tr>",
                            "<tr><td>0</td></tr>",
                            "</table>"
                        ]
                    }
                }
            ],
            "execution_count": 59
        },
        {
            "cell_type": "code",
            "source": [
                "-- 8. HOW MANY EMPLOYEES JOINED IN JANUARY OR SEPTEMBER MONTH.\r\n",
                "SELECT COUNT(*) AS EMP_JOINED_IN_JAN FROM EMPLOYEE WHERE MONTH(Hire_Date) IN (1,9)\r\n",
                ""
            ],
            "metadata": {
                "language": "sql",
                "azdata_cell_guid": "9c09c145-2d16-4b0e-a0df-662fd85b991f"
            },
            "outputs": [
                {
                    "output_type": "display_data",
                    "data": {
                        "text/html": "(1 row affected)"
                    },
                    "metadata": {}
                },
                {
                    "output_type": "display_data",
                    "data": {
                        "text/html": "Total execution time: 00:00:00.022"
                    },
                    "metadata": {}
                },
                {
                    "output_type": "execute_result",
                    "metadata": {},
                    "execution_count": 70,
                    "data": {
                        "application/vnd.dataresource+json": {
                            "schema": {
                                "fields": [
                                    {
                                        "name": "EMP_JOINED_IN_JAN"
                                    }
                                ]
                            },
                            "data": [
                                {
                                    "0": "0"
                                }
                            ]
                        },
                        "text/html": [
                            "<table>",
                            "<tr><th>EMP_JOINED_IN_JAN</th></tr>",
                            "<tr><td>0</td></tr>",
                            "</table>"
                        ]
                    }
                }
            ],
            "execution_count": 70
        },
        {
            "cell_type": "code",
            "source": [
                "-- 9. HOW MANY EMPLOYEES WERE JOINED IN 1985?\r\n",
                "SELECT YEAR(Hire_Date),COUNT(*) AS EMP_JOINED_IN_1985 FROM EMPLOYEE WHERE YEAR(Hire_Date)=1985\r\n",
                ""
            ],
            "metadata": {
                "language": "sql",
                "azdata_cell_guid": "08b3db43-f7dd-4bad-89a2-481366902b33"
            },
            "outputs": [
                {
                    "output_type": "display_data",
                    "data": {
                        "text/html": "(1 row affected)"
                    },
                    "metadata": {}
                },
                {
                    "output_type": "display_data",
                    "data": {
                        "text/html": "Total execution time: 00:00:00.002"
                    },
                    "metadata": {}
                },
                {
                    "output_type": "execute_result",
                    "metadata": {},
                    "execution_count": 71,
                    "data": {
                        "application/vnd.dataresource+json": {
                            "schema": {
                                "fields": [
                                    {
                                        "name": "EMP_JOINED_IN_1985"
                                    }
                                ]
                            },
                            "data": [
                                {
                                    "0": "5"
                                }
                            ]
                        },
                        "text/html": [
                            "<table>",
                            "<tr><th>EMP_JOINED_IN_1985</th></tr>",
                            "<tr><td>5</td></tr>",
                            "</table>"
                        ]
                    }
                }
            ],
            "execution_count": 71
        },
        {
            "cell_type": "code",
            "source": [
                "-- 10. HOW MANY EMPLOYEES WERE JOINED EACH MONTH IN 1985.\r\n",
                "\r\n",
                "SELECT DATENAME(MM,Hire_Date) AS [MONTH],COUNT(*) AS EMP_JOINED_IN_1985\r\n",
                "FROM EMPLOYEE\r\n",
                "GROUP BY YEAR(Hire_Date), DATENAME(MM,Hire_Date)\r\n",
                "HAVING YEAR(Hire_Date)=1985"
            ],
            "metadata": {
                "language": "sql",
                "azdata_cell_guid": "031ca6c4-870b-44d2-8143-4b4b0b473883",
                "tags": []
            },
            "outputs": [
                {
                    "output_type": "display_data",
                    "data": {
                        "text/html": "(4 rows affected)"
                    },
                    "metadata": {}
                },
                {
                    "output_type": "display_data",
                    "data": {
                        "text/html": "Total execution time: 00:00:00.003"
                    },
                    "metadata": {}
                },
                {
                    "output_type": "execute_result",
                    "metadata": {},
                    "execution_count": 81,
                    "data": {
                        "application/vnd.dataresource+json": {
                            "schema": {
                                "fields": [
                                    {
                                        "name": "MONTH"
                                    },
                                    {
                                        "name": "EMP_JOINED_IN_1985"
                                    }
                                ]
                            },
                            "data": [
                                {
                                    "0": "April",
                                    "1": "1"
                                },
                                {
                                    "0": "February",
                                    "1": "2"
                                },
                                {
                                    "0": "June",
                                    "1": "1"
                                },
                                {
                                    "0": "May",
                                    "1": "1"
                                }
                            ]
                        },
                        "text/html": [
                            "<table>",
                            "<tr><th>MONTH</th><th>EMP_JOINED_IN_1985</th></tr>",
                            "<tr><td>April</td><td>1</td></tr>",
                            "<tr><td>February</td><td>2</td></tr>",
                            "<tr><td>June</td><td>1</td></tr>",
                            "<tr><td>May</td><td>1</td></tr>",
                            "</table>"
                        ]
                    }
                }
            ],
            "execution_count": 81
        },
        {
            "cell_type": "code",
            "source": [
                "-- 11. HOW MANY EMPLOYEES WERE JOINED IN MARCH 1985?\r\n",
                "SELECT DATENAME(MM,Hire_Date) AS [MONTH],COUNT(*) AS EMP_JOINED_IN_1985\r\n",
                "FROM EMPLOYEE\r\n",
                "GROUP BY YEAR(Hire_Date), DATENAME(MM,Hire_Date)\r\n",
                "HAVING YEAR(Hire_Date)=1985 AND DATENAME(MM,Hire_Date)='MAR'"
            ],
            "metadata": {
                "language": "sql",
                "azdata_cell_guid": "893beea6-95d1-4ae4-af3a-12232d032e0c"
            },
            "outputs": [
                {
                    "output_type": "display_data",
                    "data": {
                        "text/html": "(0 rows affected)"
                    },
                    "metadata": {}
                },
                {
                    "output_type": "display_data",
                    "data": {
                        "text/html": "Total execution time: 00:00:00.002"
                    },
                    "metadata": {}
                },
                {
                    "output_type": "execute_result",
                    "metadata": {},
                    "execution_count": 91,
                    "data": {
                        "application/vnd.dataresource+json": {
                            "schema": {
                                "fields": [
                                    {
                                        "name": "MONTH"
                                    },
                                    {
                                        "name": "EMP_JOINED_IN_1985"
                                    }
                                ]
                            },
                            "data": []
                        },
                        "text/html": [
                            "<table>",
                            "<tr><th>MONTH</th><th>EMP_JOINED_IN_1985</th></tr>",
                            "</table>"
                        ]
                    }
                }
            ],
            "execution_count": 91
        },
        {
            "cell_type": "code",
            "source": [
                "-- 12. WHICH IS THE DEPARTMENT ID, HAVING GREATER THAN OR EQUAL TO 3 EMPLOYEES JOINED IN\r\n",
                "-- APRIL 1985?\r\n",
                "SELECT Department_ID, COUNT(*) AS EMP_COUNT\r\n",
                "FROM EMPLOYEE\r\n",
                "GROUP BY Department_ID,YEAR(Hire_Date), MONTH(Hire_Date)\r\n",
                "HAVING YEAR(Hire_Date)=1985 AND MONTH(Hire_Date)=4 AND COUNT(*)>=3"
            ],
            "metadata": {
                "language": "sql",
                "azdata_cell_guid": "10afc821-602d-4efe-acf5-b12d4b2b7c12"
            },
            "outputs": [
                {
                    "output_type": "display_data",
                    "data": {
                        "text/html": "(0 rows affected)"
                    },
                    "metadata": {}
                },
                {
                    "output_type": "display_data",
                    "data": {
                        "text/html": "Total execution time: 00:00:00.001"
                    },
                    "metadata": {}
                },
                {
                    "output_type": "execute_result",
                    "metadata": {},
                    "execution_count": 90,
                    "data": {
                        "application/vnd.dataresource+json": {
                            "schema": {
                                "fields": [
                                    {
                                        "name": "Department_ID"
                                    },
                                    {
                                        "name": "EMP_COUNT"
                                    }
                                ]
                            },
                            "data": []
                        },
                        "text/html": [
                            "<table>",
                            "<tr><th>Department_ID</th><th>EMP_COUNT</th></tr>",
                            "</table>"
                        ]
                    }
                }
            ],
            "execution_count": 90
        },
        {
            "cell_type": "markdown",
            "source": [
                "## JOINS"
            ],
            "metadata": {
                "language": "sql",
                "azdata_cell_guid": "7d70bcc8-1ab4-4194-b80d-650e1dd19c9a"
            },
            "attachments": {}
        },
        {
            "cell_type": "code",
            "source": [
                ""
            ],
            "metadata": {
                "language": "sql",
                "azdata_cell_guid": "a5610fdd-6b30-40ec-a62d-0eb5bda3a5a4"
            },
            "outputs": [],
            "execution_count": null
        }
    ]
}