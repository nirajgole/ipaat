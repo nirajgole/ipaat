{
 "cells": [
  {
   "cell_type": "markdown",
   "metadata": {},
   "source": [
    "5. Perform the following operation on PySpark.\\\n",
    "\n",
    "Input Data:\\\n",
    "\n",
    "```\n",
    "+---+--------+\n",
    "| id| name      |\n",
    "+---+--------+\n",
    "| 1 | Intellipaat   |\n",
    "| 1 |Intellipaat1   |\n",
    "| 2 |Intellipaat2   |\n",
    "| 2 |Intellipaat3   |\n",
    "| 3 |Intellipaat4   |\n",
    "| 3 |Intellipaat5   |\n",
    "| 3 |Intellipaat6  |\n",
    "+---+--------+\n",
    "```\n",
    "\n",
    "Output Data:\\\n",
    "\n",
    "```\n",
    "id, names\n",
    "1 yogita,yogita1\n",
    "2 yogita2,yogita3\n",
    "3 yogita4,yogita5,yogita6\n",
    "```\n",
    "\n",
    "NOTE: Prepare a Google Colab notebook, include code and results, and share the notebook link with proper access permissions for evaluation. Failing to do so will result in zero marks.\n"
   ]
  },
  {
   "cell_type": "code",
   "execution_count": 1,
   "metadata": {},
   "outputs": [
    {
     "data": {
      "text/plain": [
       "'C:\\\\Program Files\\\\spark\\\\spark-3.4.1-bin-hadoop3'"
      ]
     },
     "execution_count": 1,
     "metadata": {},
     "output_type": "execute_result"
    }
   ],
   "source": [
    "import findspark\n",
    "\n",
    "findspark.init()\n",
    "findspark.find()\n"
   ]
  },
  {
   "cell_type": "code",
   "execution_count": 2,
   "metadata": {},
   "outputs": [
    {
     "data": {
      "text/html": [
       "\n",
       "            <div>\n",
       "                <p><b>SparkSession - in-memory</b></p>\n",
       "                \n",
       "        <div>\n",
       "            <p><b>SparkContext</b></p>\n",
       "\n",
       "            <p><a href=\"http://N7:4040\">Spark UI</a></p>\n",
       "\n",
       "            <dl>\n",
       "              <dt>Version</dt>\n",
       "                <dd><code>v3.4.1</code></dd>\n",
       "              <dt>Master</dt>\n",
       "                <dd><code>local[*]</code></dd>\n",
       "              <dt>AppName</dt>\n",
       "                <dd><code>AggregateStrings</code></dd>\n",
       "            </dl>\n",
       "        </div>\n",
       "        \n",
       "            </div>\n",
       "        "
      ],
      "text/plain": [
       "<pyspark.sql.session.SparkSession at 0x17499029250>"
      ]
     },
     "execution_count": 2,
     "metadata": {},
     "output_type": "execute_result"
    }
   ],
   "source": [
    "from pyspark.sql import SparkSession, functions as f\n",
    "\n",
    "spark = SparkSession.builder.appName(\"AggregateStrings\").getOrCreate()\n",
    "spark\n"
   ]
  },
  {
   "cell_type": "code",
   "execution_count": 3,
   "metadata": {},
   "outputs": [],
   "source": [
    "input_data = [\n",
    "    [1, \"Intellipaat\"],\n",
    "    [1, \"Intellipaat1\"],\n",
    "    [2, \"Intellipaat2\"],\n",
    "    [2, \"Intellipaat3\"],\n",
    "    [3, \"Intellipaat4\"],\n",
    "    [3, \"Intellipaat5\"],\n",
    "    [3, \"Intellipaat6\"],\n",
    "]"
   ]
  },
  {
   "cell_type": "code",
   "execution_count": 4,
   "metadata": {},
   "outputs": [
    {
     "name": "stdout",
     "output_type": "stream",
     "text": [
      "+---+------------+\n",
      "| id|        name|\n",
      "+---+------------+\n",
      "|  1| Intellipaat|\n",
      "|  1|Intellipaat1|\n",
      "|  2|Intellipaat2|\n",
      "|  2|Intellipaat3|\n",
      "|  3|Intellipaat4|\n",
      "|  3|Intellipaat5|\n",
      "|  3|Intellipaat6|\n",
      "+---+------------+\n",
      "\n"
     ]
    }
   ],
   "source": [
    "# Create a DataFrame from the list\n",
    "df = spark.createDataFrame(input_data, [\"id\", \"name\"])\n",
    "df.show()"
   ]
  },
  {
   "cell_type": "code",
   "execution_count": 5,
   "metadata": {},
   "outputs": [
    {
     "name": "stdout",
     "output_type": "stream",
     "text": [
      "+---+-----------------------+\n",
      "|id |name                   |\n",
      "+---+-----------------------+\n",
      "|1  |yogita,yogita1         |\n",
      "|2  |yogita2,yogita3        |\n",
      "|3  |yogita4,yogita5,yogita6|\n",
      "+---+-----------------------+\n",
      "\n"
     ]
    }
   ],
   "source": [
    "df.groupBy(\"id\").agg(f.collect_list(\"name\").alias(\"name\"))\\\n",
    "    .withColumn(\"name\", f.concat_ws(',',f.col('name')))\\\n",
    "    .withColumn(\"name\", f.regexp_replace('name','Intellipaat','yogita'))\\\n",
    "    .show(20,False)"
   ]
  }
 ],
 "metadata": {
  "kernelspec": {
   "display_name": "Python 3",
   "language": "python",
   "name": "python3"
  },
  "language_info": {
   "codemirror_mode": {
    "name": "ipython",
    "version": 3
   },
   "file_extension": ".py",
   "mimetype": "text/x-python",
   "name": "python",
   "nbconvert_exporter": "python",
   "pygments_lexer": "ipython3",
   "version": "3.11.3"
  }
 },
 "nbformat": 4,
 "nbformat_minor": 2
}
