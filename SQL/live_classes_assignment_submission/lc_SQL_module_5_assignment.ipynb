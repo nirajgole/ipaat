{
    "metadata": {
        "kernelspec": {
            "name": "SQL",
            "display_name": "SQL",
            "language": "sql"
        },
        "language_info": {
            "name": "sql",
            "version": ""
        }
    },
    "nbformat_minor": 2,
    "nbformat": 4,
    "cells": [
        {
            "cell_type": "markdown",
            "source": [
                "# LIVE-CLASSES-Module-5-Assignment"
            ],
            "metadata": {
                "azdata_cell_guid": "39d0ecae-9208-45dd-b11f-622225585ac8"
            },
            "attachments": {}
        },
        {
            "cell_type": "code",
            "source": [
                "-- 1. Arrange the ‘Orders’ dataset in decreasing order of amount\n",
                "SELECT * FROM ORDERS ORDER BY AMOUNT DESC"
            ],
            "metadata": {
                "azdata_cell_guid": "6603c770-7320-4074-8062-3e17e395fd3e",
                "language": "sql"
            },
            "outputs": [
                {
                    "output_type": "display_data",
                    "data": {
                        "text/html": "(3 rows affected)"
                    },
                    "metadata": {}
                },
                {
                    "output_type": "display_data",
                    "data": {
                        "text/html": "Total execution time: 00:00:00.003"
                    },
                    "metadata": {}
                },
                {
                    "output_type": "execute_result",
                    "metadata": {},
                    "execution_count": 1,
                    "data": {
                        "application/vnd.dataresource+json": {
                            "schema": {
                                "fields": [
                                    {
                                        "name": "ORDER_ID"
                                    },
                                    {
                                        "name": "ORDER_DATE"
                                    },
                                    {
                                        "name": "AMOUNT"
                                    },
                                    {
                                        "name": "CUSTOMER_ID"
                                    }
                                ]
                            },
                            "data": [
                                {
                                    "0": "13",
                                    "1": "1997-05-23",
                                    "2": "2212",
                                    "3": "70"
                                },
                                {
                                    "0": "12",
                                    "1": "1998-08-22",
                                    "2": "100",
                                    "3": "30"
                                },
                                {
                                    "0": "11",
                                    "1": "1999-09-23",
                                    "2": "23",
                                    "3": "20"
                                }
                            ]
                        },
                        "text/html": [
                            "<table>",
                            "<tr><th>ORDER_ID</th><th>ORDER_DATE</th><th>AMOUNT</th><th>CUSTOMER_ID</th></tr>",
                            "<tr><td>13</td><td>1997-05-23</td><td>2212</td><td>70</td></tr>",
                            "<tr><td>12</td><td>1998-08-22</td><td>100</td><td>30</td></tr>",
                            "<tr><td>11</td><td>1999-09-23</td><td>23</td><td>20</td></tr>",
                            "</table>"
                        ]
                    }
                }
            ],
            "execution_count": 1
        },
        {
            "cell_type": "code",
            "source": [
                "/*\r\n",
                "2. Create a table with name ‘Employee_details1’ and comprising of these columns – ‘Emp_id’, \r\n",
                "‘Emp_name’, ‘Emp_salary’. Create another table with name ‘Employee_details2’, which \r\n",
                "comprises of same columns as first table\r\n",
                "*/\r\n",
                "CREATE TABLE Employee_details1(\r\n",
                "    emp_id int,\r\n",
                "    emp_name VARCHAR(255),\r\n",
                "    emp_salary int\r\n",
                ")\r\n",
                "CREATE TABLE Employee_details2(\r\n",
                "    emp_id int,\r\n",
                "    emp_name VARCHAR(255),\r\n",
                "    emp_salary int\r\n",
                ")"
            ],
            "metadata": {
                "azdata_cell_guid": "558764ec-d7ab-4f76-a04c-39bd4ba26282",
                "language": "sql"
            },
            "outputs": [
                {
                    "output_type": "display_data",
                    "data": {
                        "text/html": "Commands completed successfully."
                    },
                    "metadata": {}
                },
                {
                    "output_type": "display_data",
                    "data": {
                        "text/html": "Total execution time: 00:00:00.038"
                    },
                    "metadata": {}
                }
            ],
            "execution_count": 2
        },
        {
            "cell_type": "code",
            "source": [
                "-- 3. Apply the union operator on these two tables\r\n",
                "SELECT * FROM Employee_details1\r\n",
                "UNION\r\n",
                "SELECT * FROM Employee_details2"
            ],
            "metadata": {
                "language": "sql",
                "azdata_cell_guid": "dc86a9fd-1e78-4dfa-a303-5fbc6457c2f2",
                "tags": []
            },
            "outputs": [
                {
                    "output_type": "display_data",
                    "data": {
                        "text/html": "(100 rows affected)"
                    },
                    "metadata": {}
                },
                {
                    "output_type": "display_data",
                    "data": {
                        "text/html": "Total execution time: 00:00:00.016"
                    },
                    "metadata": {}
                },
                {
                    "output_type": "execute_result",
                    "metadata": {},
                    "execution_count": 4,
                    "data": {
                        "application/vnd.dataresource+json": {
                            "schema": {
                                "fields": [
                                    {
                                        "name": "emp_id"
                                    },
                                    {
                                        "name": "emp_name"
                                    },
                                    {
                                        "name": "emp_salary"
                                    }
                                ]
                            },
                            "data": [
                                {
                                    "0": "03fd0e6f-70f6-41d4-a508-c422547ffbc2",
                                    "1": "Frasier",
                                    "2": "93469.4"
                                },
                                {
                                    "0": "04dac794-a785-4537-a5f7-a6d35c3e9be5",
                                    "1": "Florette",
                                    "2": "13633.76"
                                },
                                {
                                    "0": "0858665c-33c3-4d50-8033-e9bb7a9a90f8",
                                    "1": "Myrwyn",
                                    "2": "88696.88"
                                },
                                {
                                    "0": "0c0dae53-b6da-4f63-8656-bf4e7d778b6b",
                                    "1": "Flori",
                                    "2": "74889.12"
                                },
                                {
                                    "0": "0ed1b0d6-7790-4387-acb7-d5d6869db49b",
                                    "1": "Sharla",
                                    "2": "34625.23"
                                },
                                {
                                    "0": "100e99b4-8e2d-4123-bc7c-2cbf973755c7",
                                    "1": "Susan",
                                    "2": "41142.91"
                                },
                                {
                                    "0": "158cd3e2-cc84-43e2-9e60-7464fd3cda48",
                                    "1": "Kynthia",
                                    "2": "84014.96"
                                },
                                {
                                    "0": "1712043b-e470-4c92-a146-533cee21531d",
                                    "1": "Zachary",
                                    "2": "54574.77"
                                },
                                {
                                    "0": "171a3eb4-ebd8-4219-ac13-13f1ebc84181",
                                    "1": "Tally",
                                    "2": "62929.4"
                                },
                                {
                                    "0": "1a685085-0761-4fad-ac80-24a495a2170a",
                                    "1": "Al",
                                    "2": "48277.84"
                                },
                                {
                                    "0": "1aa96077-30ac-4187-ac9c-363d81dc9f15",
                                    "1": "Reina",
                                    "2": "41020.09"
                                },
                                {
                                    "0": "1abc4ad6-02ae-46fe-929b-3349b3362d19",
                                    "1": "Dianne",
                                    "2": "24849.51"
                                },
                                {
                                    "0": "1de1afd4-b845-40c1-9e5d-5581c03e41e0",
                                    "1": "Karisa",
                                    "2": "43493.01"
                                },
                                {
                                    "0": "22315c45-7a64-4eb5-a30c-cd3f03c05766",
                                    "1": "Rene",
                                    "2": "31847.46"
                                },
                                {
                                    "0": "2a62bfdf-b76e-4fc5-8e54-83bd06af6162",
                                    "1": "Leanora",
                                    "2": "39090.32"
                                },
                                {
                                    "0": "2e8b9576-1348-4a11-9289-68fa158c710c",
                                    "1": "Maddy",
                                    "2": "38306.7"
                                },
                                {
                                    "0": "2f0a4782-7214-44b5-874c-43e5f54f01ab",
                                    "1": "Misti",
                                    "2": "28378.53"
                                },
                                {
                                    "0": "2f6cebaf-2ed5-42e8-9ab3-2380ae232fb9",
                                    "1": "Shelton",
                                    "2": "88754.86"
                                },
                                {
                                    "0": "3223c391-0ea7-4377-8eed-9829e0f7ef80",
                                    "1": "Emelen",
                                    "2": "28484.38"
                                },
                                {
                                    "0": "328213b9-18db-4f04-a718-13ff3ec6573a",
                                    "1": "Konrad",
                                    "2": "73531.93"
                                },
                                {
                                    "0": "347a85f8-dd1e-4f61-9cc3-f95aff5646ca",
                                    "1": "Rosalynd",
                                    "2": "54530.61"
                                },
                                {
                                    "0": "35f2f6b0-1b64-4aea-91f7-f0a5f4a84648",
                                    "1": "Reggie",
                                    "2": "68054.94"
                                },
                                {
                                    "0": "36325b98-06a4-45dc-9b66-c902565d64bc",
                                    "1": "Ashia",
                                    "2": "78848.94"
                                },
                                {
                                    "0": "3aa6d6a6-7a0e-49de-92b3-f0e1c74e02a8",
                                    "1": "Velvet",
                                    "2": "21423.04"
                                },
                                {
                                    "0": "4020ffec-c208-4929-9d49-9a10fc609af9",
                                    "1": "Briney",
                                    "2": "50573.86"
                                },
                                {
                                    "0": "45b39efb-33f7-42ad-85a2-cbe936b0992d",
                                    "1": "Arte",
                                    "2": "38435.54"
                                },
                                {
                                    "0": "4d2fc360-d8ce-4276-aff4-1b4a21ed12ad",
                                    "1": "Tommi",
                                    "2": "16703.54"
                                },
                                {
                                    "0": "4dda2635-1e58-4a02-a64b-7a2e0eff0a81",
                                    "1": "Eberhard",
                                    "2": "62981.39"
                                },
                                {
                                    "0": "4e5fbc4e-20d7-41a7-8a5f-98cc578c8c3c",
                                    "1": "Yorgo",
                                    "2": "73752.14"
                                },
                                {
                                    "0": "504243d9-9323-4ae9-a2a7-262a9b12ba2e",
                                    "1": "Nicol",
                                    "2": "47555.03"
                                },
                                {
                                    "0": "5181b08f-3429-4d96-8f90-76738426b7e4",
                                    "1": "Jerad",
                                    "2": "36926.9"
                                },
                                {
                                    "0": "51fc2cc3-ff7e-4342-9ec6-712fff2f2242",
                                    "1": "Sande",
                                    "2": "16102.16"
                                },
                                {
                                    "0": "5aba9159-b780-442b-9753-12a262ea6bf8",
                                    "1": "Arabel",
                                    "2": "79128.68"
                                },
                                {
                                    "0": "5b5c654b-7f17-4f93-b69f-afd2fea8a397",
                                    "1": "Samara",
                                    "2": "20984.92"
                                },
                                {
                                    "0": "5d8baeb4-4466-42dd-83a9-c0cc9cdef87d",
                                    "1": "Monti",
                                    "2": "68279.15"
                                },
                                {
                                    "0": "5e4dcc54-ac1c-49cd-8999-16b482074045",
                                    "1": "Barthel",
                                    "2": "36461.99"
                                },
                                {
                                    "0": "61425fe9-f54e-4425-87a3-1a943f31f1c5",
                                    "1": "Avrom",
                                    "2": "79546.41"
                                },
                                {
                                    "0": "61866de4-0a72-46f5-a44c-93212953241a",
                                    "1": "Lanni",
                                    "2": "42767.26"
                                },
                                {
                                    "0": "69633f88-ff4e-42d3-95ab-19a6b7460a2a",
                                    "1": "Dorothea",
                                    "2": "23641.67"
                                },
                                {
                                    "0": "698c5914-044a-488c-8819-8ba87d9b05f3",
                                    "1": "Salaidh",
                                    "2": "29789.7"
                                },
                                {
                                    "0": "69dd5b92-a08f-4ed6-a850-5d2bcbc1469a",
                                    "1": "Karlotta",
                                    "2": "70810.84"
                                },
                                {
                                    "0": "69fbf478-a82d-4438-9c0e-825691e6c513",
                                    "1": "Bianka",
                                    "2": "19073.26"
                                },
                                {
                                    "0": "6c70f986-804a-4cb8-a9b9-c81978d08c21",
                                    "1": "NULL",
                                    "2": "16964.51"
                                },
                                {
                                    "0": "6db61c1e-3270-44f2-bb06-73cdf39738b8",
                                    "1": "Adan",
                                    "2": "15460.68"
                                },
                                {
                                    "0": "6e766564-55ca-4fcd-a393-09617da7cd75",
                                    "1": "Kim",
                                    "2": "90315.45"
                                },
                                {
                                    "0": "71d1572a-1983-497e-8c7b-37172416f4bf",
                                    "1": "Ermina",
                                    "2": "43863.76"
                                },
                                {
                                    "0": "7267cc91-532c-46ed-8900-7bf10c7a9fd0",
                                    "1": "Gabie",
                                    "2": "24328.48"
                                },
                                {
                                    "0": "751d4ec1-1b6e-41f8-98a7-261688243677",
                                    "1": "Dasha",
                                    "2": "52434.07"
                                },
                                {
                                    "0": "76e2b92b-8954-4e2a-9bc3-e9e9e1e8be26",
                                    "1": "Armstrong",
                                    "2": "36527.62"
                                },
                                {
                                    "0": "78ed6dfb-3613-48d2-ae67-877cb8d760b3",
                                    "1": "Bruis",
                                    "2": "15885.06"
                                },
                                {
                                    "0": "7948527b-3d5f-4399-8976-7c42c5c0e60e",
                                    "1": "Zuzana",
                                    "2": "41188.26"
                                },
                                {
                                    "0": "7c001a1b-ec19-403c-97c4-1b83fdf027c7",
                                    "1": "Sarge",
                                    "2": "15718.84"
                                },
                                {
                                    "0": "7c6af690-a828-4afc-bcdf-41b517dc4588",
                                    "1": "Leshia",
                                    "2": "26275.4"
                                },
                                {
                                    "0": "7c8dae27-97a5-4208-a6ec-1bcb309070c2",
                                    "1": "Thibaud",
                                    "2": "33568.17"
                                },
                                {
                                    "0": "7cf095f7-a35a-4c98-8c1e-a1f8a41a2898",
                                    "1": "Rhetta",
                                    "2": "32937.81"
                                },
                                {
                                    "0": "84eb2efb-666e-4752-a8a9-e5d2a1ddcc8c",
                                    "1": "Emelen",
                                    "2": "45293.52"
                                },
                                {
                                    "0": "86af6268-a288-4ad7-b4e8-5042672ed53d",
                                    "1": "Lennard",
                                    "2": "38167.34"
                                },
                                {
                                    "0": "8704c437-e378-48ed-b265-c52aac4316e5",
                                    "1": "Dolph",
                                    "2": "62032.31"
                                },
                                {
                                    "0": "89002d02-c03e-4a33-8f48-4a31478008a8",
                                    "1": "Cherye",
                                    "2": "69582.57"
                                },
                                {
                                    "0": "8b5d0ec5-7e5b-4279-94b6-debd01cd6bf7",
                                    "1": "Shirlee",
                                    "2": "13749.32"
                                },
                                {
                                    "0": "8f3f9ab0-cc8b-4c70-bd7a-8d921f7ac3b4",
                                    "1": "Enrique",
                                    "2": "61810.74"
                                },
                                {
                                    "0": "8f772ebd-b19a-4f3d-9c6c-9f0095c97010",
                                    "1": "Carmelina",
                                    "2": "71663.74"
                                },
                                {
                                    "0": "94e74dd1-57ee-44c9-883b-8199da3ea94f",
                                    "1": "Cathe",
                                    "2": "20531"
                                },
                                {
                                    "0": "997f6b95-3948-4220-8247-22011f1b7b25",
                                    "1": "Cherida",
                                    "2": "14034.98"
                                },
                                {
                                    "0": "9bafe9cc-d521-4861-b9f4-fadaf98cf074",
                                    "1": "Finley",
                                    "2": "10109.24"
                                },
                                {
                                    "0": "9c030818-b31e-4dcf-8895-7ef32742eca9",
                                    "1": "Linnea",
                                    "2": "53610.37"
                                },
                                {
                                    "0": "9f094ec2-1be8-4e8d-998d-331bf1d10abd",
                                    "1": "Domingo",
                                    "2": "58150.16"
                                },
                                {
                                    "0": "a0f87ec1-284f-4bd3-a99d-89652cbe8ace",
                                    "1": "Artemis",
                                    "2": "67811.88"
                                },
                                {
                                    "0": "a2015111-18a7-4eab-ac11-607b8d2251bb",
                                    "1": "Shell",
                                    "2": "66071.42"
                                },
                                {
                                    "0": "a82f9c55-b338-4796-b83f-55215ccfc317",
                                    "1": "Grace",
                                    "2": "51653.31"
                                },
                                {
                                    "0": "ac7777eb-2f18-49c4-b0d3-79f6a23f729a",
                                    "1": "Essa",
                                    "2": "30351.16"
                                },
                                {
                                    "0": "acfaa129-ce77-4dba-8ab0-5f02907547e5",
                                    "1": "Traci",
                                    "2": "11398.41"
                                },
                                {
                                    "0": "ae222637-2fd3-4174-b8ce-aafe8b51737f",
                                    "1": "Lou",
                                    "2": "59787.82"
                                },
                                {
                                    "0": "ae86faab-7fc3-4c52-aeef-604fc4c0e5f8",
                                    "1": "Cristin",
                                    "2": "23897.68"
                                },
                                {
                                    "0": "b52bcfde-894b-43e3-ae12-bb13ddfbe5db",
                                    "1": "Mayne",
                                    "2": "52597.76"
                                },
                                {
                                    "0": "b671cd50-8471-4a1a-a7c4-746ed29824ab",
                                    "1": "Orsola",
                                    "2": "41390.27"
                                },
                                {
                                    "0": "bdc3a0ac-33fe-4634-a3cb-de21ba4dc0b2",
                                    "1": "Chickie",
                                    "2": "51255.59"
                                },
                                {
                                    "0": "c6a0c721-5e58-4321-bd05-6da29587ed40",
                                    "1": "Darya",
                                    "2": "34064.34"
                                },
                                {
                                    "0": "c96cd899-82c8-49e3-a156-47cd1f382cc6",
                                    "1": "Bartlett",
                                    "2": "69067.98"
                                },
                                {
                                    "0": "cb1e2e8e-bfcb-441d-adb2-52620156e64c",
                                    "1": "Corrie",
                                    "2": "20739.95"
                                },
                                {
                                    "0": "ccdd52b4-2eea-4ce5-8395-6f48c399135c",
                                    "1": "Tova",
                                    "2": "57077.12"
                                },
                                {
                                    "0": "d1248d9f-06fe-40bb-b17b-a6975512fea3",
                                    "1": "Callean",
                                    "2": "29633.82"
                                },
                                {
                                    "0": "d4b77cda-5bce-49db-92a8-188457f91dcc",
                                    "1": "Bea",
                                    "2": "25204.07"
                                },
                                {
                                    "0": "d65ab398-7a64-4120-b903-e789b4138e7d",
                                    "1": "Sam",
                                    "2": "78897.08"
                                },
                                {
                                    "0": "db7a6b1d-5aa6-44a0-9bba-1a2d80bd72c4",
                                    "1": "Kerr",
                                    "2": "26864.26"
                                },
                                {
                                    "0": "dc02dfa0-ac9e-4715-8811-79d082019c40",
                                    "1": "Kipp",
                                    "2": "55720.35"
                                },
                                {
                                    "0": "dc7a5d6f-f2c0-475a-a93b-a5c98ef5a7f3",
                                    "1": "Nissy",
                                    "2": "91334.93"
                                },
                                {
                                    "0": "dfd137ae-a807-41ea-85bc-c851fcfba5f5",
                                    "1": "Dari",
                                    "2": "71190"
                                },
                                {
                                    "0": "e1578f26-f6cc-4b3f-9594-1e6ef1a04d59",
                                    "1": "Magdalena",
                                    "2": "85866.64"
                                },
                                {
                                    "0": "e29558c0-8331-4c3e-b9c1-8cead3b4ce86",
                                    "1": "Damita",
                                    "2": "63154.98"
                                },
                                {
                                    "0": "e985cec2-cd86-489f-8c4a-bd9f1c13049b",
                                    "1": "Geralda",
                                    "2": "29147.06"
                                },
                                {
                                    "0": "e9f11af9-e3f3-42b0-810f-9a98c0ad8626",
                                    "1": "Ferrel",
                                    "2": "13021.38"
                                },
                                {
                                    "0": "eb29cb99-536c-4fdf-9f86-dc76a0ac7c5b",
                                    "1": "Clyde",
                                    "2": "99729.89"
                                },
                                {
                                    "0": "eb3a5869-f440-44cf-816e-2fdf283917ca",
                                    "1": "Kellsie",
                                    "2": "88514.62"
                                },
                                {
                                    "0": "ed9179cc-1191-4080-b938-03a5875fd5ea",
                                    "1": "Pepe",
                                    "2": "69015.03"
                                },
                                {
                                    "0": "f38c43ca-389b-4248-bfc3-d67f65f5c67e",
                                    "1": "Quintina",
                                    "2": "46627.67"
                                },
                                {
                                    "0": "f8dd9758-f81e-446c-be9c-bec593eca13b",
                                    "1": "Shannah",
                                    "2": "21619.87"
                                },
                                {
                                    "0": "f8e47474-8682-4c26-ab0a-2bd957977b96",
                                    "1": "Jacquenetta",
                                    "2": "54475.04"
                                },
                                {
                                    "0": "f8ec21a9-9b18-486a-a46c-54a09a5d3d1a",
                                    "1": "Jillene",
                                    "2": "44277.51"
                                },
                                {
                                    "0": "fec57080-35da-47b9-8193-b131ffe867de",
                                    "1": "Manon",
                                    "2": "55408.15"
                                }
                            ]
                        },
                        "text/html": [
                            "<table>",
                            "<tr><th>emp_id</th><th>emp_name</th><th>emp_salary</th></tr>",
                            "<tr><td>03fd0e6f-70f6-41d4-a508-c422547ffbc2</td><td>Frasier</td><td>93469.4</td></tr>",
                            "<tr><td>04dac794-a785-4537-a5f7-a6d35c3e9be5</td><td>Florette</td><td>13633.76</td></tr>",
                            "<tr><td>0858665c-33c3-4d50-8033-e9bb7a9a90f8</td><td>Myrwyn</td><td>88696.88</td></tr>",
                            "<tr><td>0c0dae53-b6da-4f63-8656-bf4e7d778b6b</td><td>Flori</td><td>74889.12</td></tr>",
                            "<tr><td>0ed1b0d6-7790-4387-acb7-d5d6869db49b</td><td>Sharla</td><td>34625.23</td></tr>",
                            "<tr><td>100e99b4-8e2d-4123-bc7c-2cbf973755c7</td><td>Susan</td><td>41142.91</td></tr>",
                            "<tr><td>158cd3e2-cc84-43e2-9e60-7464fd3cda48</td><td>Kynthia</td><td>84014.96</td></tr>",
                            "<tr><td>1712043b-e470-4c92-a146-533cee21531d</td><td>Zachary</td><td>54574.77</td></tr>",
                            "<tr><td>171a3eb4-ebd8-4219-ac13-13f1ebc84181</td><td>Tally</td><td>62929.4</td></tr>",
                            "<tr><td>1a685085-0761-4fad-ac80-24a495a2170a</td><td>Al</td><td>48277.84</td></tr>",
                            "<tr><td>1aa96077-30ac-4187-ac9c-363d81dc9f15</td><td>Reina</td><td>41020.09</td></tr>",
                            "<tr><td>1abc4ad6-02ae-46fe-929b-3349b3362d19</td><td>Dianne</td><td>24849.51</td></tr>",
                            "<tr><td>1de1afd4-b845-40c1-9e5d-5581c03e41e0</td><td>Karisa</td><td>43493.01</td></tr>",
                            "<tr><td>22315c45-7a64-4eb5-a30c-cd3f03c05766</td><td>Rene</td><td>31847.46</td></tr>",
                            "<tr><td>2a62bfdf-b76e-4fc5-8e54-83bd06af6162</td><td>Leanora</td><td>39090.32</td></tr>",
                            "<tr><td>2e8b9576-1348-4a11-9289-68fa158c710c</td><td>Maddy</td><td>38306.7</td></tr>",
                            "<tr><td>2f0a4782-7214-44b5-874c-43e5f54f01ab</td><td>Misti</td><td>28378.53</td></tr>",
                            "<tr><td>2f6cebaf-2ed5-42e8-9ab3-2380ae232fb9</td><td>Shelton</td><td>88754.86</td></tr>",
                            "<tr><td>3223c391-0ea7-4377-8eed-9829e0f7ef80</td><td>Emelen</td><td>28484.38</td></tr>",
                            "<tr><td>328213b9-18db-4f04-a718-13ff3ec6573a</td><td>Konrad</td><td>73531.93</td></tr>",
                            "<tr><td>347a85f8-dd1e-4f61-9cc3-f95aff5646ca</td><td>Rosalynd</td><td>54530.61</td></tr>",
                            "<tr><td>35f2f6b0-1b64-4aea-91f7-f0a5f4a84648</td><td>Reggie</td><td>68054.94</td></tr>",
                            "<tr><td>36325b98-06a4-45dc-9b66-c902565d64bc</td><td>Ashia</td><td>78848.94</td></tr>",
                            "<tr><td>3aa6d6a6-7a0e-49de-92b3-f0e1c74e02a8</td><td>Velvet</td><td>21423.04</td></tr>",
                            "<tr><td>4020ffec-c208-4929-9d49-9a10fc609af9</td><td>Briney</td><td>50573.86</td></tr>",
                            "<tr><td>45b39efb-33f7-42ad-85a2-cbe936b0992d</td><td>Arte</td><td>38435.54</td></tr>",
                            "<tr><td>4d2fc360-d8ce-4276-aff4-1b4a21ed12ad</td><td>Tommi</td><td>16703.54</td></tr>",
                            "<tr><td>4dda2635-1e58-4a02-a64b-7a2e0eff0a81</td><td>Eberhard</td><td>62981.39</td></tr>",
                            "<tr><td>4e5fbc4e-20d7-41a7-8a5f-98cc578c8c3c</td><td>Yorgo</td><td>73752.14</td></tr>",
                            "<tr><td>504243d9-9323-4ae9-a2a7-262a9b12ba2e</td><td>Nicol</td><td>47555.03</td></tr>",
                            "<tr><td>5181b08f-3429-4d96-8f90-76738426b7e4</td><td>Jerad</td><td>36926.9</td></tr>",
                            "<tr><td>51fc2cc3-ff7e-4342-9ec6-712fff2f2242</td><td>Sande</td><td>16102.16</td></tr>",
                            "<tr><td>5aba9159-b780-442b-9753-12a262ea6bf8</td><td>Arabel</td><td>79128.68</td></tr>",
                            "<tr><td>5b5c654b-7f17-4f93-b69f-afd2fea8a397</td><td>Samara</td><td>20984.92</td></tr>",
                            "<tr><td>5d8baeb4-4466-42dd-83a9-c0cc9cdef87d</td><td>Monti</td><td>68279.15</td></tr>",
                            "<tr><td>5e4dcc54-ac1c-49cd-8999-16b482074045</td><td>Barthel</td><td>36461.99</td></tr>",
                            "<tr><td>61425fe9-f54e-4425-87a3-1a943f31f1c5</td><td>Avrom</td><td>79546.41</td></tr>",
                            "<tr><td>61866de4-0a72-46f5-a44c-93212953241a</td><td>Lanni</td><td>42767.26</td></tr>",
                            "<tr><td>69633f88-ff4e-42d3-95ab-19a6b7460a2a</td><td>Dorothea</td><td>23641.67</td></tr>",
                            "<tr><td>698c5914-044a-488c-8819-8ba87d9b05f3</td><td>Salaidh</td><td>29789.7</td></tr>",
                            "<tr><td>69dd5b92-a08f-4ed6-a850-5d2bcbc1469a</td><td>Karlotta</td><td>70810.84</td></tr>",
                            "<tr><td>69fbf478-a82d-4438-9c0e-825691e6c513</td><td>Bianka</td><td>19073.26</td></tr>",
                            "<tr><td>6c70f986-804a-4cb8-a9b9-c81978d08c21</td><td>NULL</td><td>16964.51</td></tr>",
                            "<tr><td>6db61c1e-3270-44f2-bb06-73cdf39738b8</td><td>Adan</td><td>15460.68</td></tr>",
                            "<tr><td>6e766564-55ca-4fcd-a393-09617da7cd75</td><td>Kim</td><td>90315.45</td></tr>",
                            "<tr><td>71d1572a-1983-497e-8c7b-37172416f4bf</td><td>Ermina</td><td>43863.76</td></tr>",
                            "<tr><td>7267cc91-532c-46ed-8900-7bf10c7a9fd0</td><td>Gabie</td><td>24328.48</td></tr>",
                            "<tr><td>751d4ec1-1b6e-41f8-98a7-261688243677</td><td>Dasha</td><td>52434.07</td></tr>",
                            "<tr><td>76e2b92b-8954-4e2a-9bc3-e9e9e1e8be26</td><td>Armstrong</td><td>36527.62</td></tr>",
                            "<tr><td>78ed6dfb-3613-48d2-ae67-877cb8d760b3</td><td>Bruis</td><td>15885.06</td></tr>",
                            "<tr><td>7948527b-3d5f-4399-8976-7c42c5c0e60e</td><td>Zuzana</td><td>41188.26</td></tr>",
                            "<tr><td>7c001a1b-ec19-403c-97c4-1b83fdf027c7</td><td>Sarge</td><td>15718.84</td></tr>",
                            "<tr><td>7c6af690-a828-4afc-bcdf-41b517dc4588</td><td>Leshia</td><td>26275.4</td></tr>",
                            "<tr><td>7c8dae27-97a5-4208-a6ec-1bcb309070c2</td><td>Thibaud</td><td>33568.17</td></tr>",
                            "<tr><td>7cf095f7-a35a-4c98-8c1e-a1f8a41a2898</td><td>Rhetta</td><td>32937.81</td></tr>",
                            "<tr><td>84eb2efb-666e-4752-a8a9-e5d2a1ddcc8c</td><td>Emelen</td><td>45293.52</td></tr>",
                            "<tr><td>86af6268-a288-4ad7-b4e8-5042672ed53d</td><td>Lennard</td><td>38167.34</td></tr>",
                            "<tr><td>8704c437-e378-48ed-b265-c52aac4316e5</td><td>Dolph</td><td>62032.31</td></tr>",
                            "<tr><td>89002d02-c03e-4a33-8f48-4a31478008a8</td><td>Cherye</td><td>69582.57</td></tr>",
                            "<tr><td>8b5d0ec5-7e5b-4279-94b6-debd01cd6bf7</td><td>Shirlee</td><td>13749.32</td></tr>",
                            "<tr><td>8f3f9ab0-cc8b-4c70-bd7a-8d921f7ac3b4</td><td>Enrique</td><td>61810.74</td></tr>",
                            "<tr><td>8f772ebd-b19a-4f3d-9c6c-9f0095c97010</td><td>Carmelina</td><td>71663.74</td></tr>",
                            "<tr><td>94e74dd1-57ee-44c9-883b-8199da3ea94f</td><td>Cathe</td><td>20531</td></tr>",
                            "<tr><td>997f6b95-3948-4220-8247-22011f1b7b25</td><td>Cherida</td><td>14034.98</td></tr>",
                            "<tr><td>9bafe9cc-d521-4861-b9f4-fadaf98cf074</td><td>Finley</td><td>10109.24</td></tr>",
                            "<tr><td>9c030818-b31e-4dcf-8895-7ef32742eca9</td><td>Linnea</td><td>53610.37</td></tr>",
                            "<tr><td>9f094ec2-1be8-4e8d-998d-331bf1d10abd</td><td>Domingo</td><td>58150.16</td></tr>",
                            "<tr><td>a0f87ec1-284f-4bd3-a99d-89652cbe8ace</td><td>Artemis</td><td>67811.88</td></tr>",
                            "<tr><td>a2015111-18a7-4eab-ac11-607b8d2251bb</td><td>Shell</td><td>66071.42</td></tr>",
                            "<tr><td>a82f9c55-b338-4796-b83f-55215ccfc317</td><td>Grace</td><td>51653.31</td></tr>",
                            "<tr><td>ac7777eb-2f18-49c4-b0d3-79f6a23f729a</td><td>Essa</td><td>30351.16</td></tr>",
                            "<tr><td>acfaa129-ce77-4dba-8ab0-5f02907547e5</td><td>Traci</td><td>11398.41</td></tr>",
                            "<tr><td>ae222637-2fd3-4174-b8ce-aafe8b51737f</td><td>Lou</td><td>59787.82</td></tr>",
                            "<tr><td>ae86faab-7fc3-4c52-aeef-604fc4c0e5f8</td><td>Cristin</td><td>23897.68</td></tr>",
                            "<tr><td>b52bcfde-894b-43e3-ae12-bb13ddfbe5db</td><td>Mayne</td><td>52597.76</td></tr>",
                            "<tr><td>b671cd50-8471-4a1a-a7c4-746ed29824ab</td><td>Orsola</td><td>41390.27</td></tr>",
                            "<tr><td>bdc3a0ac-33fe-4634-a3cb-de21ba4dc0b2</td><td>Chickie</td><td>51255.59</td></tr>",
                            "<tr><td>c6a0c721-5e58-4321-bd05-6da29587ed40</td><td>Darya</td><td>34064.34</td></tr>",
                            "<tr><td>c96cd899-82c8-49e3-a156-47cd1f382cc6</td><td>Bartlett</td><td>69067.98</td></tr>",
                            "<tr><td>cb1e2e8e-bfcb-441d-adb2-52620156e64c</td><td>Corrie</td><td>20739.95</td></tr>",
                            "<tr><td>ccdd52b4-2eea-4ce5-8395-6f48c399135c</td><td>Tova</td><td>57077.12</td></tr>",
                            "<tr><td>d1248d9f-06fe-40bb-b17b-a6975512fea3</td><td>Callean</td><td>29633.82</td></tr>",
                            "<tr><td>d4b77cda-5bce-49db-92a8-188457f91dcc</td><td>Bea</td><td>25204.07</td></tr>",
                            "<tr><td>d65ab398-7a64-4120-b903-e789b4138e7d</td><td>Sam</td><td>78897.08</td></tr>",
                            "<tr><td>db7a6b1d-5aa6-44a0-9bba-1a2d80bd72c4</td><td>Kerr</td><td>26864.26</td></tr>",
                            "<tr><td>dc02dfa0-ac9e-4715-8811-79d082019c40</td><td>Kipp</td><td>55720.35</td></tr>",
                            "<tr><td>dc7a5d6f-f2c0-475a-a93b-a5c98ef5a7f3</td><td>Nissy</td><td>91334.93</td></tr>",
                            "<tr><td>dfd137ae-a807-41ea-85bc-c851fcfba5f5</td><td>Dari</td><td>71190</td></tr>",
                            "<tr><td>e1578f26-f6cc-4b3f-9594-1e6ef1a04d59</td><td>Magdalena</td><td>85866.64</td></tr>",
                            "<tr><td>e29558c0-8331-4c3e-b9c1-8cead3b4ce86</td><td>Damita</td><td>63154.98</td></tr>",
                            "<tr><td>e985cec2-cd86-489f-8c4a-bd9f1c13049b</td><td>Geralda</td><td>29147.06</td></tr>",
                            "<tr><td>e9f11af9-e3f3-42b0-810f-9a98c0ad8626</td><td>Ferrel</td><td>13021.38</td></tr>",
                            "<tr><td>eb29cb99-536c-4fdf-9f86-dc76a0ac7c5b</td><td>Clyde</td><td>99729.89</td></tr>",
                            "<tr><td>eb3a5869-f440-44cf-816e-2fdf283917ca</td><td>Kellsie</td><td>88514.62</td></tr>",
                            "<tr><td>ed9179cc-1191-4080-b938-03a5875fd5ea</td><td>Pepe</td><td>69015.03</td></tr>",
                            "<tr><td>f38c43ca-389b-4248-bfc3-d67f65f5c67e</td><td>Quintina</td><td>46627.67</td></tr>",
                            "<tr><td>f8dd9758-f81e-446c-be9c-bec593eca13b</td><td>Shannah</td><td>21619.87</td></tr>",
                            "<tr><td>f8e47474-8682-4c26-ab0a-2bd957977b96</td><td>Jacquenetta</td><td>54475.04</td></tr>",
                            "<tr><td>f8ec21a9-9b18-486a-a46c-54a09a5d3d1a</td><td>Jillene</td><td>44277.51</td></tr>",
                            "<tr><td>fec57080-35da-47b9-8193-b131ffe867de</td><td>Manon</td><td>55408.15</td></tr>",
                            "</table>"
                        ]
                    }
                }
            ],
            "execution_count": 4
        },
        {
            "cell_type": "code",
            "source": [
                "-- 4. Apply the intersect operator on these two tables\r\n",
                "SELECT * FROM Employee_details1\r\n",
                "INTERSECT\r\n",
                "SELECT * FROM Employee_details2"
            ],
            "metadata": {
                "language": "sql",
                "azdata_cell_guid": "d04e4c70-ba4c-42d4-9ecf-00cbed7f1b54"
            },
            "outputs": [
                {
                    "output_type": "display_data",
                    "data": {
                        "text/html": "(0 rows affected)"
                    },
                    "metadata": {}
                },
                {
                    "output_type": "display_data",
                    "data": {
                        "text/html": "Total execution time: 00:00:00.036"
                    },
                    "metadata": {}
                },
                {
                    "output_type": "execute_result",
                    "metadata": {},
                    "execution_count": 5,
                    "data": {
                        "application/vnd.dataresource+json": {
                            "schema": {
                                "fields": [
                                    {
                                        "name": "emp_id"
                                    },
                                    {
                                        "name": "emp_name"
                                    },
                                    {
                                        "name": "emp_salary"
                                    }
                                ]
                            },
                            "data": []
                        },
                        "text/html": [
                            "<table>",
                            "<tr><th>emp_id</th><th>emp_name</th><th>emp_salary</th></tr>",
                            "</table>"
                        ]
                    }
                }
            ],
            "execution_count": 5
        },
        {
            "cell_type": "code",
            "source": [
                "-- 5. Apply the except operator on these two table\r\n",
                "SELECT emp_name FROM Employee_details1\r\n",
                "EXCEPT\r\n",
                "SELECT emp_name FROM Employee_details2"
            ],
            "metadata": {
                "language": "sql",
                "azdata_cell_guid": "2a3179b2-f7c6-463f-b2a9-dfcecaa6ebf1"
            },
            "outputs": [
                {
                    "output_type": "display_data",
                    "data": {
                        "text/html": "(49 rows affected)"
                    },
                    "metadata": {}
                },
                {
                    "output_type": "display_data",
                    "data": {
                        "text/html": "Total execution time: 00:00:00.002"
                    },
                    "metadata": {}
                },
                {
                    "output_type": "execute_result",
                    "metadata": {},
                    "execution_count": 10,
                    "data": {
                        "application/vnd.dataresource+json": {
                            "schema": {
                                "fields": [
                                    {
                                        "name": "emp_name"
                                    }
                                ]
                            },
                            "data": [
                                {
                                    "0": "Adan"
                                },
                                {
                                    "0": "Al"
                                },
                                {
                                    "0": "Arabel"
                                },
                                {
                                    "0": "Armstrong"
                                },
                                {
                                    "0": "Arte"
                                },
                                {
                                    "0": "Avrom"
                                },
                                {
                                    "0": "Barthel"
                                },
                                {
                                    "0": "Bea"
                                },
                                {
                                    "0": "Briney"
                                },
                                {
                                    "0": "Cherye"
                                },
                                {
                                    "0": "Corrie"
                                },
                                {
                                    "0": "Damita"
                                },
                                {
                                    "0": "Dari"
                                },
                                {
                                    "0": "Dasha"
                                },
                                {
                                    "0": "Dolph"
                                },
                                {
                                    "0": "Eberhard"
                                },
                                {
                                    "0": "Enrique"
                                },
                                {
                                    "0": "Essa"
                                },
                                {
                                    "0": "Finley"
                                },
                                {
                                    "0": "Jacquenetta"
                                },
                                {
                                    "0": "Karisa"
                                },
                                {
                                    "0": "Kerr"
                                },
                                {
                                    "0": "Kipp"
                                },
                                {
                                    "0": "Konrad"
                                },
                                {
                                    "0": "Kynthia"
                                },
                                {
                                    "0": "Lanni"
                                },
                                {
                                    "0": "Leanora"
                                },
                                {
                                    "0": "Lennard"
                                },
                                {
                                    "0": "Leshia"
                                },
                                {
                                    "0": "Linnea"
                                },
                                {
                                    "0": "Lou"
                                },
                                {
                                    "0": "Manon"
                                },
                                {
                                    "0": "Misti"
                                },
                                {
                                    "0": "Myrwyn"
                                },
                                {
                                    "0": "Orsola"
                                },
                                {
                                    "0": "Quintina"
                                },
                                {
                                    "0": "Reggie"
                                },
                                {
                                    "0": "Reina"
                                },
                                {
                                    "0": "Sam"
                                },
                                {
                                    "0": "Samara"
                                },
                                {
                                    "0": "Sarge"
                                },
                                {
                                    "0": "Sharla"
                                },
                                {
                                    "0": "Shell"
                                },
                                {
                                    "0": "Shelton"
                                },
                                {
                                    "0": "Tommi"
                                },
                                {
                                    "0": "Tova"
                                },
                                {
                                    "0": "Traci"
                                },
                                {
                                    "0": "Yorgo"
                                },
                                {
                                    "0": "Zachary"
                                }
                            ]
                        },
                        "text/html": [
                            "<table>",
                            "<tr><th>emp_name</th></tr>",
                            "<tr><td>Adan</td></tr>",
                            "<tr><td>Al</td></tr>",
                            "<tr><td>Arabel</td></tr>",
                            "<tr><td>Armstrong</td></tr>",
                            "<tr><td>Arte</td></tr>",
                            "<tr><td>Avrom</td></tr>",
                            "<tr><td>Barthel</td></tr>",
                            "<tr><td>Bea</td></tr>",
                            "<tr><td>Briney</td></tr>",
                            "<tr><td>Cherye</td></tr>",
                            "<tr><td>Corrie</td></tr>",
                            "<tr><td>Damita</td></tr>",
                            "<tr><td>Dari</td></tr>",
                            "<tr><td>Dasha</td></tr>",
                            "<tr><td>Dolph</td></tr>",
                            "<tr><td>Eberhard</td></tr>",
                            "<tr><td>Enrique</td></tr>",
                            "<tr><td>Essa</td></tr>",
                            "<tr><td>Finley</td></tr>",
                            "<tr><td>Jacquenetta</td></tr>",
                            "<tr><td>Karisa</td></tr>",
                            "<tr><td>Kerr</td></tr>",
                            "<tr><td>Kipp</td></tr>",
                            "<tr><td>Konrad</td></tr>",
                            "<tr><td>Kynthia</td></tr>",
                            "<tr><td>Lanni</td></tr>",
                            "<tr><td>Leanora</td></tr>",
                            "<tr><td>Lennard</td></tr>",
                            "<tr><td>Leshia</td></tr>",
                            "<tr><td>Linnea</td></tr>",
                            "<tr><td>Lou</td></tr>",
                            "<tr><td>Manon</td></tr>",
                            "<tr><td>Misti</td></tr>",
                            "<tr><td>Myrwyn</td></tr>",
                            "<tr><td>Orsola</td></tr>",
                            "<tr><td>Quintina</td></tr>",
                            "<tr><td>Reggie</td></tr>",
                            "<tr><td>Reina</td></tr>",
                            "<tr><td>Sam</td></tr>",
                            "<tr><td>Samara</td></tr>",
                            "<tr><td>Sarge</td></tr>",
                            "<tr><td>Sharla</td></tr>",
                            "<tr><td>Shell</td></tr>",
                            "<tr><td>Shelton</td></tr>",
                            "<tr><td>Tommi</td></tr>",
                            "<tr><td>Tova</td></tr>",
                            "<tr><td>Traci</td></tr>",
                            "<tr><td>Yorgo</td></tr>",
                            "<tr><td>Zachary</td></tr>",
                            "</table>"
                        ]
                    }
                }
            ],
            "execution_count": 10
        }
    ]
}