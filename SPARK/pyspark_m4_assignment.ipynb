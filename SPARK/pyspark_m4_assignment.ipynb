{
 "cells": [
  {
   "cell_type": "markdown",
   "metadata": {
    "application/vnd.databricks.v1+cell": {
     "cellMetadata": {},
     "inputWidgets": {},
     "nuid": "c0a1102d-5841-4d83-8f8f-02752d71a88d",
     "showTitle": false,
     "title": ""
    }
   },
   "source": [
    "### PySpark Module 4 Assignment\n",
    "\n",
    "New York City Airbnb Open Data: This dataset is publicly available. This data file\n",
    "includes all needed information to find out more about hosts, geographical availability, and\n",
    "necessary metrics to make predictions and draw conclusions.\n",
    "https://www.kaggle.com/datasets/arianazmoudeh/airbnbopendata/\n"
   ]
  },
  {
   "cell_type": "code",
   "execution_count": 0,
   "metadata": {
    "application/vnd.databricks.v1+cell": {
     "cellMetadata": {},
     "inputWidgets": {},
     "nuid": "a4fe1953-30fd-4700-a162-3bd3316ad1ac",
     "showTitle": false,
     "title": ""
    }
   },
   "outputs": [],
   "source": [
    "# import pandas as pd\n",
    "\n",
    "# df = pd.read_csv('../data/Airbnb_Open_Data.csv')\n",
    "# df.info()"
   ]
  },
  {
   "cell_type": "code",
   "execution_count": 0,
   "metadata": {
    "application/vnd.databricks.v1+cell": {
     "cellMetadata": {},
     "inputWidgets": {},
     "nuid": "3eb1614b-1f56-474e-b1e2-42115d2a9eeb",
     "showTitle": false,
     "title": ""
    }
   },
   "outputs": [],
   "source": [
    "import findspark\n",
    "findspark.find()\n",
    "findspark.init()\n",
    "\n",
    "from pyspark.sql import SparkSession\n",
    "spark = SparkSession.builder\\\n",
    "    .appName('AirBnb NewYork Insights')\\\n",
    "    .master('local[2]')\\\n",
    "    .getOrCreate()"
   ]
  },
  {
   "cell_type": "code",
   "execution_count": 0,
   "metadata": {
    "application/vnd.databricks.v1+cell": {
     "cellMetadata": {},
     "inputWidgets": {},
     "nuid": "d869f42e-a867-4e2f-9800-c25c58e5fa79",
     "showTitle": false,
     "title": ""
    }
   },
   "outputs": [],
   "source": [
    "spark"
   ]
  },
  {
   "cell_type": "code",
   "execution_count": 0,
   "metadata": {
    "application/vnd.databricks.v1+cell": {
     "cellMetadata": {},
     "inputWidgets": {},
     "nuid": "0aa4f6c9-f70d-4f96-ae1b-e0396da56d78",
     "showTitle": false,
     "title": ""
    }
   },
   "outputs": [],
   "source": [
    "from pyspark.sql.types import StructType,StructField,StringType,IntegerType,FloatType,DateType,BooleanType,LongType,CharType,ShortType\n",
    "\n",
    "# schema = StructType([\n",
    "#     StructField('id',IntegerType(),nullable=False),\n",
    "#     StructField('name',StringType()),\n",
    "#     StructField('host_id',StringType()),\n",
    "#     StructField('host_identity_verified',StringType()),\n",
    "#     StructField('host_name',StringType()),\n",
    "#     StructField('neighborhood group',StringType()),\n",
    "#     StructField('neighborhood',StringType()),\n",
    "#     StructField('lat',FloatType(),False),\n",
    "#     StructField('long',FloatType(),False),\n",
    "#     StructField('country',StringType()),\n",
    "#     StructField('country_code',StringType()),\n",
    "#     StructField('instant_bookable',BooleanType()),\n",
    "#     StructField('cancellation_policy',StringType()),\n",
    "#     StructField('room',StringType()),\n",
    "#     StructField('construction_year',StringType()),\n",
    "#     StructField('price',StringType()),\n",
    "#     StructField('service_fee',StringType()),\n",
    "#     StructField('minimum_nights',IntegerType()),\n",
    "#     StructField('number_of_reviews',IntegerType()),\n",
    "#     StructField('last_review',DateType()),\n",
    "#     StructField('reviews_per_month',StringType()),\n",
    "#     StructField('review_rate_number',StringType()),\n",
    "#     StructField('calculated_host_listings_count',StringType()),\n",
    "#     StructField('availability_365',StringType()),\n",
    "#     StructField('house_rules',StringType()),\n",
    "#     StructField('license',StringType()),\n",
    "# ])"
   ]
  },
  {
   "cell_type": "markdown",
   "metadata": {
    "application/vnd.databricks.v1+cell": {
     "cellMetadata": {},
     "inputWidgets": {},
     "nuid": "d00bb25a-4be3-4796-af18-5dcc95934263",
     "showTitle": false,
     "title": ""
    }
   },
   "source": [
    "### Using dataset, we will perform the following tasks:\n"
   ]
  },
  {
   "cell_type": "code",
   "execution_count": 0,
   "metadata": {
    "application/vnd.databricks.v1+cell": {
     "cellMetadata": {},
     "inputWidgets": {},
     "nuid": "34c67d76-c93d-48c4-b81c-cc3c9dd1c397",
     "showTitle": false,
     "title": ""
    }
   },
   "outputs": [],
   "source": [
    "# 1. Load the dataset\n",
    "df = spark.read\\\n",
    "    .option('header',True)\\\n",
    "    .format('csv')\\\n",
    "    .load('../data/Airbnb_Open_Data.csv')\n",
    "\n",
    "# 2. Print the first 10 rows\n",
    "df.show(10)"
   ]
  },
  {
   "cell_type": "code",
   "execution_count": 0,
   "metadata": {
    "application/vnd.databricks.v1+cell": {
     "cellMetadata": {},
     "inputWidgets": {},
     "nuid": "ba6cf651-b3bd-4867-8134-4ebbb3e951d6",
     "showTitle": false,
     "title": ""
    }
   },
   "outputs": [],
   "source": [
    "from pyspark.sql.functions import col,regexp_replace\n",
    "\n",
    "rdd = df\\\n",
    "    .withColumn('id',col('id').cast(IntegerType()))\\\n",
    "    .withColumn('name',col('name').cast(StringType()))\\\n",
    "    .withColumnRenamed('host id','host_id')\\\n",
    "    .withColumn('host_id',col('host_id').cast(LongType()))\\\n",
    "    .withColumn('host_identity_verified',col('host_identity_verified'))\\\n",
    "    .withColumnRenamed('host name','host_name')\\\n",
    "    .withColumn('host_name',col('host_name'))\\\n",
    "    .withColumnRenamed('neighbourhood group','neighborhood_group')\\\n",
    "    .withColumnRenamed('lat','latitude')\\\n",
    "    .withColumn('latitude',col('latitude').cast(FloatType()))\\\n",
    "    .withColumnRenamed('long','longitude')\\\n",
    "    .withColumn('longitude',col('longitude').cast(FloatType()))\\\n",
    "    .withColumn('country',col('country').cast(StringType()))\\\n",
    "    .withColumnRenamed('country code','country_code')\\\n",
    "    .withColumn('country_code',col('country_code').cast(CharType(3)))\\\n",
    "    .withColumn('instant_bookable',col('instant_bookable').cast(BooleanType()))\\\n",
    "    .withColumn('cancellation_policy',col('cancellation_policy').cast(StringType()))\\\n",
    "    .withColumnRenamed('room type','room_type')\\\n",
    "    .withColumn('room_type',col('room_type').cast(StringType()))\\\n",
    "    .withColumnRenamed('Construction year','construction_year')\\\n",
    "    .withColumn('construction_year',col('construction_year').cast(ShortType()))\\\n",
    "    .withColumn('price',regexp_replace(col('price'),r'[\\D]','').cast(IntegerType()))\\\n",
    "    .withColumnRenamed('service fee','service_fee')\\\n",
    "    .withColumn('service_fee',regexp_replace(col('service_fee'),r'[\\D]','').cast(IntegerType()))\\\n",
    "    .withColumnRenamed('minimum nights','minimum_nights')\\\n",
    "    .withColumn('minimum_nights',col('minimum_nights').cast(ShortType()))\\\n",
    "    .withColumnRenamed('number of reviews','number_of_reviews')\\\n",
    "    .withColumn('number_of_reviews',col('number_of_reviews').cast(IntegerType()))\\\n",
    "    .withColumnRenamed('last review','last_review')\\\n",
    "    .withColumnRenamed('reviews per month','reviews_per_month')\\\n",
    "    .withColumn('reviews_per_month',col('reviews_per_month').cast(FloatType()))\\\n",
    "    .withColumnRenamed('review rate number','review_rate_number')\\\n",
    "    .withColumn('review_rate_number',col('review_rate_number').cast(ShortType()))\\\n",
    "    .withColumnRenamed('calculated host listings count','calculated_host_listings_count')\\\n",
    "    .withColumn('calculated_host_listings_count',col('calculated_host_listings_count').cast(ShortType()))\\\n",
    "    .withColumnRenamed('availability 365','availability_365')\\\n",
    "    .withColumn('availability_365',col('availability_365').cast(ShortType()))\\\n",
    "    .withColumn('house_rules',col('house_rules').cast(StringType()))\\\n",
    "    .withColumn('license',col('license').cast(StringType()))\\\n",
    "\n",
    "\n",
    "rdd.show(10)"
   ]
  },
  {
   "cell_type": "code",
   "execution_count": 0,
   "metadata": {
    "application/vnd.databricks.v1+cell": {
     "cellMetadata": {},
     "inputWidgets": {},
     "nuid": "7bd45a16-5e03-4bb8-881f-8aae9519a258",
     "showTitle": false,
     "title": ""
    }
   },
   "outputs": [],
   "source": [
    "# 3. Find the total number of private rooms in the ‘room_type’ column\n",
    "no_of_private_rooms = rdd.filter(rdd['room_type'] == 'Private room').count()\n",
    "f'No of private rooms: {no_of_private_rooms}'"
   ]
  },
  {
   "cell_type": "code",
   "execution_count": 0,
   "metadata": {
    "application/vnd.databricks.v1+cell": {
     "cellMetadata": {},
     "inputWidgets": {},
     "nuid": "f1938f05-0646-46f5-9a0c-fab1cfbb65af",
     "showTitle": false,
     "title": ""
    }
   },
   "outputs": [],
   "source": [
    "# 4. Find the max, min, and average of the price column\n",
    "import pyspark.sql.functions as f\n",
    "price_stat=rdd.agg(\n",
    "    f.max(\"price\").alias('max_price'),\n",
    "    f.min('price').alias('min_price'),\n",
    "    f.avg('price').alias('avg_price')\n",
    ")\n",
    "print(price_stat.dtypes)\n",
    "price_stat.show()"
   ]
  },
  {
   "cell_type": "code",
   "execution_count": 0,
   "metadata": {
    "application/vnd.databricks.v1+cell": {
     "cellMetadata": {},
     "inputWidgets": {},
     "nuid": "e7a2df69-cb9d-4ece-ac93-963c005e2c59",
     "showTitle": false,
     "title": ""
    }
   },
   "outputs": [],
   "source": [
    "# 5. Find the number of rooms available for booking for less than 200 days a year (use the ‘availability_365’ column)\n",
    "no_of_rooms_available=rdd\\\n",
    "    .where('availability_365 < 200 and room_type=\"Private room\"')\\\n",
    "    .count()\n",
    "f'No. of rooms available for booking for less than 200 days a year: {no_of_rooms_available}'"
   ]
  },
  {
   "cell_type": "code",
   "execution_count": 0,
   "metadata": {
    "application/vnd.databricks.v1+cell": {
     "cellMetadata": {},
     "inputWidgets": {},
     "nuid": "7825db29-faf2-485a-8427-b631ace1d447",
     "showTitle": false,
     "title": ""
    }
   },
   "outputs": [],
   "source": [
    "# 6. Find 10 host places that have the most number of reviews\n",
    "top_10_records = rdd.orderBy(col(\"number_of_reviews\").desc()).limit(10)\n",
    "top_10_records.show()"
   ]
  },
  {
   "cell_type": "code",
   "execution_count": 0,
   "metadata": {
    "application/vnd.databricks.v1+cell": {
     "cellMetadata": {},
     "inputWidgets": {},
     "nuid": "04cbe289-94f8-4a02-97bc-3a0cb7b02441",
     "showTitle": false,
     "title": ""
    }
   },
   "outputs": [],
   "source": [
    "#Alternate method\n",
    "rdd.createOrReplaceTempView(\"AirBnbNewYork\")\n",
    "top_10_records = spark.sql('select * from AirBnbNewYork order by number_of_reviews desc limit 10')\n",
    "# ANSI sql does not support TOP keyword\n",
    "top_10_records.show()"
   ]
  },
  {
   "cell_type": "code",
   "execution_count": 0,
   "metadata": {
    "application/vnd.databricks.v1+cell": {
     "cellMetadata": {},
     "inputWidgets": {},
     "nuid": "06bea046-eef0-422d-ac03-6868ca3019e4",
     "showTitle": false,
     "title": ""
    }
   },
   "outputs": [],
   "source": [
    "# spark.stop()"
   ]
  }
 ],
 "metadata": {
  "application/vnd.databricks.v1+notebook": {
   "dashboards": [],
   "language": "python",
   "notebookMetadata": {},
   "notebookName": "pyspark_m4_assignment",
   "widgets": {}
  },
  "kernelspec": {
   "display_name": "Python 3",
   "language": "python",
   "name": "python3"
  },
  "language_info": {
   "codemirror_mode": {
    "name": "ipython",
    "version": 3
   },
   "file_extension": ".py",
   "mimetype": "text/x-python",
   "name": "python",
   "nbconvert_exporter": "python",
   "pygments_lexer": "ipython3",
   "version": "3.11.3"
  }
 },
 "nbformat": 4,
 "nbformat_minor": 0
}
