{
 "cells": [
  {
   "cell_type": "code",
   "execution_count": 0,
   "metadata": {
    "application/vnd.databricks.v1+cell": {
     "cellMetadata": {
      "byteLimit": 2048000,
      "rowLimit": 10000
     },
     "inputWidgets": {},
     "nuid": "061103c6-880b-421e-83a8-4f7c37fd71d0",
     "showTitle": false,
     "title": ""
    }
   },
   "outputs": [],
   "source": [
    "# from pyspark.sql import SparkSession\n",
    "# spark = SparkSession.builder.master(\"local[*]\").appName(\"Banking\").getOrCreate()\n",
    "spark"
   ]
  },
  {
   "cell_type": "code",
   "execution_count": 0,
   "metadata": {
    "application/vnd.databricks.v1+cell": {
     "cellMetadata": {
      "byteLimit": 2048000,
      "rowLimit": 10000
     },
     "inputWidgets": {},
     "nuid": "0ea68dd5-a300-42ff-ace6-09ea01e63654",
     "showTitle": false,
     "title": ""
    }
   },
   "outputs": [],
   "source": [
    "df = spark.read.csv('/Volumes/ng_db/default/ng_db_man_vol/Transaction.csv', inferSchema=True, header=True)\n",
    "df.summary()"
   ]
  },
  {
   "cell_type": "code",
   "execution_count": 0,
   "metadata": {
    "application/vnd.databricks.v1+cell": {
     "cellMetadata": {
      "byteLimit": 2048000,
      "rowLimit": 10000
     },
     "inputWidgets": {},
     "nuid": "558ba0c4-47d1-4c04-89e6-ec097dc6078b",
     "showTitle": false,
     "title": ""
    }
   },
   "outputs": [],
   "source": [
    "# df.show(truncate=False)\n",
    "df.select('Account No').distinct().show()"
   ]
  },
  {
   "cell_type": "code",
   "execution_count": 0,
   "metadata": {
    "application/vnd.databricks.v1+cell": {
     "cellMetadata": {
      "byteLimit": 2048000,
      "rowLimit": 10000
     },
     "inputWidgets": {},
     "nuid": "5794d227-8fdb-4b78-8c9d-69f6465a1280",
     "showTitle": false,
     "title": ""
    }
   },
   "outputs": [],
   "source": [
    "from pyspark.sql import functions as f\n",
    "# a. Count of transaction on every account\n",
    "df.groupBy('Account No').agg(f.count('TRANSACTION DETAILS').alias('no_of_transactions')).orderBy('no_of_transactions', ascending=False).show()"
   ]
  },
  {
   "cell_type": "code",
   "execution_count": 0,
   "metadata": {
    "application/vnd.databricks.v1+cell": {
     "cellMetadata": {
      "byteLimit": 2048000,
      "rowLimit": 10000
     },
     "inputWidgets": {},
     "nuid": "e4038b6e-4917-4145-a3a3-a12ce3c845a1",
     "showTitle": false,
     "title": ""
    }
   },
   "outputs": [],
   "source": [
    "# b. Maximum withdrawal amount of each account\n",
    "from pyspark.sql.types import DecimalType\n",
    "df.groupBy('Account No').agg(f.max(' WITHDRAWAL AMT ').cast(DecimalType(18,2)).alias('max_withdrawl')).orderBy('max_withdrawl', ascending=False).show(truncate=False)"
   ]
  },
  {
   "cell_type": "code",
   "execution_count": 0,
   "metadata": {
    "application/vnd.databricks.v1+cell": {
     "cellMetadata": {
      "byteLimit": 2048000,
      "rowLimit": 10000
     },
     "inputWidgets": {},
     "nuid": "6552aad6-1efc-4be2-a46d-00384cd80a08",
     "showTitle": false,
     "title": ""
    }
   },
   "outputs": [],
   "source": [
    "# c. Minimum withdrawal amount of each account\n",
    "df.groupBy('Account No').agg(f.min(' WITHDRAWAL AMT ').cast(DecimalType(18,2)).alias('min_withdrawl')).orderBy('min_withdrawl').show(truncate=False)\n"
   ]
  },
  {
   "cell_type": "code",
   "execution_count": 0,
   "metadata": {
    "application/vnd.databricks.v1+cell": {
     "cellMetadata": {
      "byteLimit": 2048000,
      "rowLimit": 10000
     },
     "inputWidgets": {},
     "nuid": "723ccc35-e22c-4da7-9832-26d6fa6f1bbe",
     "showTitle": false,
     "title": ""
    }
   },
   "outputs": [],
   "source": [
    "# d. Maximum deposit amount of each account\n",
    "df.groupBy('Account No').agg(f.max(' DEPOSIT AMT ').cast(DecimalType(18,2)).alias('max_deposit')).orderBy('max_deposit',ascending=False).show()"
   ]
  },
  {
   "cell_type": "code",
   "execution_count": 0,
   "metadata": {
    "application/vnd.databricks.v1+cell": {
     "cellMetadata": {
      "byteLimit": 2048000,
      "rowLimit": 10000
     },
     "inputWidgets": {},
     "nuid": "af729100-2313-491c-8541-16c72973cc03",
     "showTitle": false,
     "title": ""
    }
   },
   "outputs": [],
   "source": [
    "# e. Minimum deposit amount of each account\n",
    "df.groupBy('Account No').agg(f.min(' DEPOSIT AMT ').cast(DecimalType(18,2)).alias('min_deposit')).orderBy('min_deposit').show()"
   ]
  },
  {
   "cell_type": "code",
   "execution_count": 0,
   "metadata": {
    "application/vnd.databricks.v1+cell": {
     "cellMetadata": {
      "byteLimit": 2048000,
      "rowLimit": 10000
     },
     "inputWidgets": {},
     "nuid": "835d3775-db5e-4475-9c1c-b72c81f242d6",
     "showTitle": false,
     "title": ""
    }
   },
   "outputs": [],
   "source": [
    "# f. Sum of balance in every bank account\n",
    "df.groupBy('Account No').agg(f.sum('BALANCE AMT').cast(DecimalType(18,2)).alias('total_balance')).orderBy('total_balance',ascending=False).show()"
   ]
  },
  {
   "cell_type": "code",
   "execution_count": 0,
   "metadata": {
    "application/vnd.databricks.v1+cell": {
     "cellMetadata": {
      "byteLimit": 2048000,
      "rowLimit": 10000
     },
     "inputWidgets": {},
     "nuid": "30c64cd4-2768-4cad-9c4b-d2ae6acaf570",
     "showTitle": false,
     "title": ""
    }
   },
   "outputs": [],
   "source": [
    "# g. Number of transaction on each date\n",
    "df.groupBy('VALUE DATE').count().orderBy('count',ascending=False).show()"
   ]
  },
  {
   "cell_type": "code",
   "execution_count": 0,
   "metadata": {
    "application/vnd.databricks.v1+cell": {
     "cellMetadata": {
      "byteLimit": 2048000,
      "rowLimit": 10000
     },
     "inputWidgets": {},
     "nuid": "ff1a7917-6de9-4d26-a3e3-44a9bed93b97",
     "showTitle": false,
     "title": ""
    }
   },
   "outputs": [],
   "source": [
    "# h. List of customers with withdrawal amount more than 1 lakh\n",
    "# df.groupBy('Account No').agg(f.sum(' WITHDRAWAL AMT ').alias('total_withdrawl_amount'))\n",
    "df.groupBy('Account No').agg(f.sum(' WITHDRAWAL AMT ').cast(DecimalType(18,2)).alias('total_withdrawl_amount')).filter(f.col('total_withdrawl_amount') > 100000).show()"
   ]
  }
 ],
 "metadata": {
  "application/vnd.databricks.v1+notebook": {
   "dashboards": [],
   "language": "python",
   "notebookMetadata": {
    "pythonIndentUnit": 4
   },
   "notebookName": "pyspark_sql_transactions",
   "widgets": {}
  }
 },
 "nbformat": 4,
 "nbformat_minor": 0
}
