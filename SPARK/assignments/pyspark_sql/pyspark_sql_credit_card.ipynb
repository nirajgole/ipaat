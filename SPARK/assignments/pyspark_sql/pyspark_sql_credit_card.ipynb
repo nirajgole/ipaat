{
 "cells": [
  {
   "cell_type": "code",
   "execution_count": 0,
   "metadata": {
    "application/vnd.databricks.v1+cell": {
     "cellMetadata": {
      "byteLimit": 2048000,
      "rowLimit": 10000
     },
     "inputWidgets": {},
     "nuid": "a4e95c43-61c8-4119-83d4-3c1055e9e451",
     "showTitle": false,
     "title": ""
    }
   },
   "outputs": [],
   "source": [
    "spark"
   ]
  },
  {
   "cell_type": "code",
   "execution_count": 0,
   "metadata": {
    "application/vnd.databricks.v1+cell": {
     "cellMetadata": {
      "byteLimit": 2048000,
      "rowLimit": 10000
     },
     "inputWidgets": {},
     "nuid": "db7c3744-9cb4-4272-b856-661bb1a06bee",
     "showTitle": false,
     "title": ""
    }
   },
   "outputs": [],
   "source": [
    "df = spark.read.csv('/Volumes/ng_db/default/ng_db_man_vol/Credit_Card.csv', inferSchema=True, header=True)"
   ]
  },
  {
   "cell_type": "code",
   "execution_count": 0,
   "metadata": {
    "application/vnd.databricks.v1+cell": {
     "cellMetadata": {
      "byteLimit": 2048000,
      "rowLimit": 10000
     },
     "inputWidgets": {},
     "nuid": "20a68367-4b68-49dd-926f-ff9b1566e7e8",
     "showTitle": false,
     "title": ""
    }
   },
   "outputs": [],
   "source": [
    "df.show(10)"
   ]
  },
  {
   "cell_type": "code",
   "execution_count": 0,
   "metadata": {
    "application/vnd.databricks.v1+cell": {
     "cellMetadata": {
      "byteLimit": 2048000,
      "rowLimit": 10000
     },
     "inputWidgets": {},
     "nuid": "b05e809c-346f-46ba-8b27-f02ff99acda4",
     "showTitle": false,
     "title": ""
    }
   },
   "outputs": [],
   "source": [
    "# a. Number of members who are eligible for credit cards. [NOTE: People having credit score greater than 700 are eligible]\n",
    "df.filter(df['CreditScore'] > 700).count()\n"
   ]
  },
  {
   "cell_type": "code",
   "execution_count": 0,
   "metadata": {
    "application/vnd.databricks.v1+cell": {
     "cellMetadata": {
      "byteLimit": 2048000,
      "rowLimit": 10000
     },
     "inputWidgets": {},
     "nuid": "32305969-c789-4c9d-ba1e-915339f01f81",
     "showTitle": false,
     "title": ""
    }
   },
   "outputs": [],
   "source": [
    "# b. Number of members who are eligible and active in the bank.\n",
    "df.filter((df['IsActiveMember']==1) & (df['CreditScore'] > 700)).count()"
   ]
  },
  {
   "cell_type": "code",
   "execution_count": 0,
   "metadata": {
    "application/vnd.databricks.v1+cell": {
     "cellMetadata": {
      "byteLimit": 2048000,
      "rowLimit": 10000
     },
     "inputWidgets": {},
     "nuid": "39386959-f6f1-400d-8fb6-96be71742048",
     "showTitle": false,
     "title": ""
    }
   },
   "outputs": [],
   "source": [
    "# c. credit card users in Spain\n",
    "df.filter(df['Geography']=='Spain').count()"
   ]
  }
 ],
 "metadata": {
  "application/vnd.databricks.v1+notebook": {
   "dashboards": [],
   "language": "python",
   "notebookMetadata": {
    "pythonIndentUnit": 4
   },
   "notebookName": "pyspark_sql_credit_card",
   "widgets": {}
  }
 },
 "nbformat": 4,
 "nbformat_minor": 0
}
