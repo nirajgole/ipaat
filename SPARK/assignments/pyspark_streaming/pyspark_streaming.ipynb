{
 "cells": [
  {
   "cell_type": "code",
   "execution_count": 1,
   "metadata": {},
   "outputs": [
    {
     "name": "stdout",
     "output_type": "stream",
     "text": [
      "DataFrame[value: string]\n"
     ]
    }
   ],
   "source": [
    "from pyspark.sql import SparkSession\n",
    "from pyspark.sql.functions import explode, window, lit, split\n",
    "\n",
    "spark = SparkSession.builder.appName(\"RealTimeWordCount\").getOrCreate()\n",
    "\n",
    "# Create a DataFrame representing the streaming data\n",
    "lines_df = (\n",
    "    spark.readStream.format(\"socket\")\n",
    "    .option(\"host\", \"localhost\")\n",
    "    .option(\"port\", 3000)\n",
    "    .load()\n",
    ")\n",
    "\n",
    "print(lines_df)\n",
    "\n",
    "# Split lines into words and explode into separate rows\n",
    "# words_df = lines_df.select(explode(split(lines_df, \" \")).alias(\"word\"))\n",
    "# words_df = lines_df.select(explode(lines_df.value.split(\" \")).alias(\"word\"))\n",
    "words_df = lines_df.withColumn(\"words\", explode(split(lines_df.value, \" \"))) \\\n",
    "               .select(\"words\")\n",
    "# Count word occurrences in tumbling windows of 1 second\n",
    "# word_counts_df = words_df \\\n",
    "#     .withColumn(\"count\", lit(1)) \\\n",
    "#     .groupBy(window(\"word\", \"1 second\"), \"word\") \\\n",
    "#     .agg(sum(\"count\").alias(\"count\"))\n",
    "\n",
    "# Display the word counts (replace with your desired output)\n",
    "words_df.writeStream.outputMode(\"append\").format(\"console\").start().awaitTermination()\n"
   ]
  }
 ],
 "metadata": {
  "kernelspec": {
   "display_name": "Python 3",
   "language": "python",
   "name": "python3"
  },
  "language_info": {
   "codemirror_mode": {
    "name": "ipython",
    "version": 3
   },
   "file_extension": ".py",
   "mimetype": "text/x-python",
   "name": "python",
   "nbconvert_exporter": "python",
   "pygments_lexer": "ipython3",
   "version": "3.11.3"
  }
 },
 "nbformat": 4,
 "nbformat_minor": 2
}
