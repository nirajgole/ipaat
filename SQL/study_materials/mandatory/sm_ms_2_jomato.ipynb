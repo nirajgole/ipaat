{
    "cells": [
        {
            "cell_type": "code",
            "execution_count": 40,
            "metadata": {
                "azdata_cell_guid": "b9a55b8c-f3c5-4209-bd75-f66877efe23e",
                "language": "sql",
                "tags": []
            },
            "outputs": [
                {
                    "data": {
                        "text/html": [
                            "Commands completed successfully."
                        ]
                    },
                    "metadata": {},
                    "output_type": "display_data"
                },
                {
                    "data": {
                        "text/html": [
                            "Total execution time: 00:00:00.004"
                        ]
                    },
                    "metadata": {},
                    "output_type": "display_data"
                }
            ],
            "source": [
                "-- 1. Create a user-defined functions to stuff the Chicken into ‘Quick Bites’. Eg: ‘Quick\n",
                "-- Chicken Bites’.\n",
                "CREATE OR ALTER FUNCTION udf_stuff_chicken(\n",
                "    @restaurant_type VARCHAR(50)\n",
                ")\n",
                "RETURNS VARCHAR(100)\n",
                "AS\n",
                "BEGIN\n",
                "    IF @restaurant_type='Quick Bites'\n",
                "        RETURN 'Quick Chicken Bites'\n",
                "    RETURN @restaurant_type\n",
                "END"
            ]
        },
        {
            "cell_type": "code",
            "execution_count": 41,
            "metadata": {
                "azdata_cell_guid": "e0abcead-ecdf-4b8d-84b3-a84d14c5c0d3",
                "language": "sql"
            },
            "outputs": [
                {
                    "data": {
                        "text/html": [
                            "(10 rows affected)"
                        ]
                    },
                    "metadata": {},
                    "output_type": "display_data"
                },
                {
                    "data": {
                        "text/html": [
                            "Total execution time: 00:00:00.004"
                        ]
                    },
                    "metadata": {},
                    "output_type": "display_data"
                },
                {
                    "data": {
                        "application/vnd.dataresource+json": {
                            "data": [
                                {
                                    "RestaurantName": "L-81 Cafe",
                                    "changed_restaurant_type": "Quick Chicken Bites"
                                },
                                {
                                    "RestaurantName": "1000 B.C",
                                    "changed_restaurant_type": "Quick Chicken Bites"
                                },
                                {
                                    "RestaurantName": "11 to 11 Express Biriyanis",
                                    "changed_restaurant_type": "Quick Chicken Bites"
                                },
                                {
                                    "RestaurantName": "1992 Chats - Space",
                                    "changed_restaurant_type": "Quick Chicken Bites"
                                },
                                {
                                    "RestaurantName": "29 Degrees North",
                                    "changed_restaurant_type": "Quick Chicken Bites"
                                },
                                {
                                    "RestaurantName": "2nd Home Restaurant",
                                    "changed_restaurant_type": "Quick Chicken Bites"
                                },
                                {
                                    "RestaurantName": "30 Square",
                                    "changed_restaurant_type": "Quick Chicken Bites"
                                },
                                {
                                    "RestaurantName": "4Foodiez",
                                    "changed_restaurant_type": "Quick Chicken Bites"
                                },
                                {
                                    "RestaurantName": "4Foodiez - The Restaurant",
                                    "changed_restaurant_type": "Quick Chicken Bites"
                                },
                                {
                                    "RestaurantName": "5 Star Food",
                                    "changed_restaurant_type": "Quick Chicken Bites"
                                }
                            ],
                            "schema": {
                                "fields": [
                                    {
                                        "name": "RestaurantName"
                                    },
                                    {
                                        "name": "changed_restaurant_type"
                                    }
                                ]
                            }
                        },
                        "text/html": [
                            "<table>\n",
                            "<tr><th>RestaurantName</th><th>changed_restaurant_type</th></tr>\n",
                            "<tr><td>L-81 Cafe</td><td>Quick Chicken Bites</td></tr>\n",
                            "<tr><td>1000 B.C</td><td>Quick Chicken Bites</td></tr>\n",
                            "<tr><td>11 to 11 Express Biriyanis</td><td>Quick Chicken Bites</td></tr>\n",
                            "<tr><td>1992 Chats - Space</td><td>Quick Chicken Bites</td></tr>\n",
                            "<tr><td>29 Degrees North</td><td>Quick Chicken Bites</td></tr>\n",
                            "<tr><td>2nd Home Restaurant</td><td>Quick Chicken Bites</td></tr>\n",
                            "<tr><td>30 Square</td><td>Quick Chicken Bites</td></tr>\n",
                            "<tr><td>4Foodiez</td><td>Quick Chicken Bites</td></tr>\n",
                            "<tr><td>4Foodiez - The Restaurant</td><td>Quick Chicken Bites</td></tr>\n",
                            "<tr><td>5 Star Food</td><td>Quick Chicken Bites</td></tr>\n",
                            "</table>"
                        ]
                    },
                    "execution_count": 41,
                    "metadata": {},
                    "output_type": "execute_result"
                }
            ],
            "source": [
                "SELECT top 10 RestaurantName,dbo.udf_stuff_chicken(restaurantType) as changed_restaurant_type\n",
                "FROM restaurants\n",
                "WHERE restaurantType='Quick Bites'"
            ]
        },
        {
            "cell_type": "code",
            "execution_count": 42,
            "metadata": {
                "azdata_cell_guid": "f4fb5bcd-874f-4ac2-ba97-66f3ba9c0b95",
                "language": "sql",
                "tags": []
            },
            "outputs": [
                {
                    "data": {
                        "text/html": [
                            "Commands completed successfully."
                        ]
                    },
                    "metadata": {},
                    "output_type": "display_data"
                },
                {
                    "data": {
                        "text/html": [
                            "Total execution time: 00:00:00.006"
                        ]
                    },
                    "metadata": {},
                    "output_type": "display_data"
                }
            ],
            "source": [
                "-- 2. Use the function to display the restaurant name and cuisine type which has the\n",
                "-- maximum number of rating.\n",
                "CREATE OR ALTER FUNCTION udf_get_max_rating_restaurant()\n",
                "RETURNS TABLE\n",
                "AS\n",
                "RETURN(\n",
                "SELECT RestaurantName,CuisinesType\n",
                "FROM restaurants\n",
                "WHERE Rating=(select MAX(Rating) FROM restaurants)\n",
                ")"
            ]
        },
        {
            "cell_type": "code",
            "execution_count": 43,
            "metadata": {
                "azdata_cell_guid": "60953d8c-84be-4609-8a7d-86f395a5bae5",
                "language": "sql"
            },
            "outputs": [
                {
                    "data": {
                        "text/html": [
                            "Warning: Null value is eliminated by an aggregate or other SET operation."
                        ]
                    },
                    "metadata": {},
                    "output_type": "display_data"
                },
                {
                    "data": {
                        "text/html": [
                            "(3 rows affected)"
                        ]
                    },
                    "metadata": {},
                    "output_type": "display_data"
                },
                {
                    "data": {
                        "text/html": [
                            "Total execution time: 00:00:00.008"
                        ]
                    },
                    "metadata": {},
                    "output_type": "display_data"
                },
                {
                    "data": {
                        "application/vnd.dataresource+json": {
                            "data": [
                                {
                                    "CuisinesType": "Asian, Chinese, Thai, Momos",
                                    "RestaurantName": "Asia Kitchen By Mainland China"
                                },
                                {
                                    "CuisinesType": "Continental, North Indian, Italian, South Indian, Finger Food",
                                    "RestaurantName": "Byg Brewski Brewing Company"
                                },
                                {
                                    "CuisinesType": "Healthy Food, Salad, Mediterranean",
                                    "RestaurantName": "Sant?de?ed??ede??d??ede?ed???de??d??ede?ed??ede??d???de?ed???de??d??? Spa Cuisine"
                                }
                            ],
                            "schema": {
                                "fields": [
                                    {
                                        "name": "RestaurantName"
                                    },
                                    {
                                        "name": "CuisinesType"
                                    }
                                ]
                            }
                        },
                        "text/html": [
                            "<table>\n",
                            "<tr><th>RestaurantName</th><th>CuisinesType</th></tr>\n",
                            "<tr><td>Asia Kitchen By Mainland China</td><td>Asian, Chinese, Thai, Momos</td></tr>\n",
                            "<tr><td>Byg Brewski Brewing Company</td><td>Continental, North Indian, Italian, South Indian, Finger Food</td></tr>\n",
                            "<tr><td>Sant?de?ed??ede??d??ede?ed???de??d??ede?ed??ede??d???de?ed???de??d??? Spa Cuisine</td><td>Healthy Food, Salad, Mediterranean</td></tr>\n",
                            "</table>"
                        ]
                    },
                    "execution_count": 43,
                    "metadata": {},
                    "output_type": "execute_result"
                }
            ],
            "source": [
                "select * FROM dbo.udf_get_max_rating_restaurant()"
            ]
        },
        {
            "cell_type": "code",
            "execution_count": 44,
            "metadata": {
                "azdata_cell_guid": "d98274d2-0117-4968-babe-e849c4f5ccfa",
                "language": "sql"
            },
            "outputs": [
                {
                    "data": {
                        "text/html": [
                            "Commands completed successfully."
                        ]
                    },
                    "metadata": {},
                    "output_type": "display_data"
                },
                {
                    "data": {
                        "text/html": [
                            "Total execution time: 00:00:00.004"
                        ]
                    },
                    "metadata": {},
                    "output_type": "display_data"
                }
            ],
            "source": [
                "-- 3. Create a Rating Status column to display the rating as ‘Excellent’ if it has more the 4\n",
                "-- start rating, ‘Good’ if it has above 3.5 and below 5 star rating, ‘Average’ if it is above 3\n",
                "-- and below 3.5 and ‘Bad’ if it is below 3 star rating.\n",
                "CREATE OR ALTER FUNCTION udf_get_rating_status(\n",
                "    @rating FLOAT\n",
                ")\n",
                "RETURNS VARCHAR(50)\n",
                "AS\n",
                "BEGIN\n",
                "    RETURN CASE\n",
                "        WHEN @rating>4 THEN 'Excellent'\n",
                "        WHEN @rating>3.5 AND @rating<4 THEN 'Good'\n",
                "        WHEN @rating>3 AND @rating<3.5 THEN 'Average'\n",
                "        ELSE 'Bad'\n",
                "    END\n",
                "END"
            ]
        },
        {
            "cell_type": "code",
            "execution_count": 45,
            "metadata": {
                "azdata_cell_guid": "a6172d14-0b6a-442c-98f0-3d92e11fe99f",
                "language": "sql"
            },
            "outputs": [
                {
                    "data": {
                        "text/html": [
                            "(20 rows affected)"
                        ]
                    },
                    "metadata": {},
                    "output_type": "display_data"
                },
                {
                    "data": {
                        "text/html": [
                            "Total execution time: 00:00:00.006"
                        ]
                    },
                    "metadata": {},
                    "output_type": "display_data"
                },
                {
                    "data": {
                        "application/vnd.dataresource+json": {
                            "data": [
                                {
                                    "Rating": "3.9",
                                    "RatingSatus": "Good",
                                    "RestaurantName": "L-81 Cafe"
                                },
                                {
                                    "Rating": "3.7",
                                    "RatingSatus": "Good",
                                    "RestaurantName": "refuel"
                                },
                                {
                                    "Rating": "2.7",
                                    "RatingSatus": "Bad",
                                    "RestaurantName": "Biryani Central"
                                },
                                {
                                    "Rating": "2.8",
                                    "RatingSatus": "Bad",
                                    "RestaurantName": "The Bbq"
                                },
                                {
                                    "Rating": "3.4",
                                    "RatingSatus": "Average",
                                    "RestaurantName": "The Bbq"
                                },
                                {
                                    "Rating": "4.1",
                                    "RatingSatus": "Excellent",
                                    "RestaurantName": "Italy"
                                },
                                {
                                    "Rating": "2.8",
                                    "RatingSatus": "Bad",
                                    "RestaurantName": "North Parontha Hut"
                                },
                                {
                                    "Rating": "3.2",
                                    "RatingSatus": "Average",
                                    "RestaurantName": "1000 B.C"
                                },
                                {
                                    "Rating": "3.7",
                                    "RatingSatus": "Good",
                                    "RestaurantName": "1Q1"
                                },
                                {
                                    "Rating": "3.5",
                                    "RatingSatus": "Bad",
                                    "RestaurantName": "11 to 11 Express Biriyanis"
                                },
                                {
                                    "Rating": "4.4",
                                    "RatingSatus": "Excellent",
                                    "RestaurantName": "1131 Bar + Kitchen"
                                },
                                {
                                    "Rating": "4.1",
                                    "RatingSatus": "Excellent",
                                    "RestaurantName": "12th Main - Grand Mercure"
                                },
                                {
                                    "Rating": "4.1",
                                    "RatingSatus": "Excellent",
                                    "RestaurantName": "1441 Pizzeria"
                                },
                                {
                                    "Rating": "4.2",
                                    "RatingSatus": "Excellent",
                                    "RestaurantName": "1522 - The Pub"
                                },
                                {
                                    "Rating": "4",
                                    "RatingSatus": "Bad",
                                    "RestaurantName": "154 Breakfast Club"
                                },
                                {
                                    "Rating": "4.1",
                                    "RatingSatus": "Excellent",
                                    "RestaurantName": "1722 Urban Bistro"
                                },
                                {
                                    "Rating": "3.5",
                                    "RatingSatus": "Bad",
                                    "RestaurantName": "18+ Ice Cafe"
                                },
                                {
                                    "Rating": "3.9",
                                    "RatingSatus": "Good",
                                    "RestaurantName": "States"
                                },
                                {
                                    "Rating": "3.4",
                                    "RatingSatus": "Average",
                                    "RestaurantName": "1980s Games Cafe"
                                },
                                {
                                    "Rating": "3.7",
                                    "RatingSatus": "Good",
                                    "RestaurantName": "1992 Chats - Space"
                                }
                            ],
                            "schema": {
                                "fields": [
                                    {
                                        "name": "RestaurantName"
                                    },
                                    {
                                        "name": "Rating"
                                    },
                                    {
                                        "name": "RatingSatus"
                                    }
                                ]
                            }
                        },
                        "text/html": [
                            "<table>\n",
                            "<tr><th>RestaurantName</th><th>Rating</th><th>RatingSatus</th></tr>\n",
                            "<tr><td>L-81 Cafe</td><td>3.9</td><td>Good</td></tr>\n",
                            "<tr><td>refuel</td><td>3.7</td><td>Good</td></tr>\n",
                            "<tr><td>Biryani Central</td><td>2.7</td><td>Bad</td></tr>\n",
                            "<tr><td>The Bbq</td><td>2.8</td><td>Bad</td></tr>\n",
                            "<tr><td>The Bbq</td><td>3.4</td><td>Average</td></tr>\n",
                            "<tr><td>Italy</td><td>4.1</td><td>Excellent</td></tr>\n",
                            "<tr><td>North Parontha Hut</td><td>2.8</td><td>Bad</td></tr>\n",
                            "<tr><td>1000 B.C</td><td>3.2</td><td>Average</td></tr>\n",
                            "<tr><td>1Q1</td><td>3.7</td><td>Good</td></tr>\n",
                            "<tr><td>11 to 11 Express Biriyanis</td><td>3.5</td><td>Bad</td></tr>\n",
                            "<tr><td>1131 Bar + Kitchen</td><td>4.4</td><td>Excellent</td></tr>\n",
                            "<tr><td>12th Main - Grand Mercure</td><td>4.1</td><td>Excellent</td></tr>\n",
                            "<tr><td>1441 Pizzeria</td><td>4.1</td><td>Excellent</td></tr>\n",
                            "<tr><td>1522 - The Pub</td><td>4.2</td><td>Excellent</td></tr>\n",
                            "<tr><td>154 Breakfast Club</td><td>4</td><td>Bad</td></tr>\n",
                            "<tr><td>1722 Urban Bistro</td><td>4.1</td><td>Excellent</td></tr>\n",
                            "<tr><td>18+ Ice Cafe</td><td>3.5</td><td>Bad</td></tr>\n",
                            "<tr><td>States</td><td>3.9</td><td>Good</td></tr>\n",
                            "<tr><td>1980s Games Cafe</td><td>3.4</td><td>Average</td></tr>\n",
                            "<tr><td>1992 Chats - Space</td><td>3.7</td><td>Good</td></tr>\n",
                            "</table>"
                        ]
                    },
                    "execution_count": 45,
                    "metadata": {},
                    "output_type": "execute_result"
                }
            ],
            "source": [
                "SELECT top 20 RestaurantName,Rating,dbo.udf_get_rating_status(rating) as RatingSatus\n",
                "FROM restaurants"
            ]
        },
        {
            "cell_type": "code",
            "execution_count": 46,
            "metadata": {
                "azdata_cell_guid": "e48e106d-7be7-4e49-b421-1a2a70cf3286",
                "language": "sql"
            },
            "outputs": [
                {
                    "data": {
                        "text/html": [
                            "(10 rows affected)"
                        ]
                    },
                    "metadata": {},
                    "output_type": "display_data"
                },
                {
                    "data": {
                        "text/html": [
                            "Total execution time: 00:00:00.002"
                        ]
                    },
                    "metadata": {},
                    "output_type": "display_data"
                },
                {
                    "data": {
                        "application/vnd.dataresource+json": {
                            "data": [
                                {
                                    "AbsoluteRating": "3.9",
                                    "CeilingRating": "4",
                                    "FloorRating": "3",
                                    "rating": "3.9"
                                },
                                {
                                    "AbsoluteRating": "3.7",
                                    "CeilingRating": "4",
                                    "FloorRating": "3",
                                    "rating": "3.7"
                                },
                                {
                                    "AbsoluteRating": "2.7",
                                    "CeilingRating": "3",
                                    "FloorRating": "2",
                                    "rating": "2.7"
                                },
                                {
                                    "AbsoluteRating": "2.8",
                                    "CeilingRating": "3",
                                    "FloorRating": "2",
                                    "rating": "2.8"
                                },
                                {
                                    "AbsoluteRating": "3.4",
                                    "CeilingRating": "4",
                                    "FloorRating": "3",
                                    "rating": "3.4"
                                },
                                {
                                    "AbsoluteRating": "4.1",
                                    "CeilingRating": "5",
                                    "FloorRating": "4",
                                    "rating": "4.1"
                                },
                                {
                                    "AbsoluteRating": "2.8",
                                    "CeilingRating": "3",
                                    "FloorRating": "2",
                                    "rating": "2.8"
                                },
                                {
                                    "AbsoluteRating": "3.2",
                                    "CeilingRating": "4",
                                    "FloorRating": "3",
                                    "rating": "3.2"
                                },
                                {
                                    "AbsoluteRating": "3.7",
                                    "CeilingRating": "4",
                                    "FloorRating": "3",
                                    "rating": "3.7"
                                },
                                {
                                    "AbsoluteRating": "3.5",
                                    "CeilingRating": "4",
                                    "FloorRating": "3",
                                    "rating": "3.5"
                                }
                            ],
                            "schema": {
                                "fields": [
                                    {
                                        "name": "rating"
                                    },
                                    {
                                        "name": "FloorRating"
                                    },
                                    {
                                        "name": "CeilingRating"
                                    },
                                    {
                                        "name": "AbsoluteRating"
                                    }
                                ]
                            }
                        },
                        "text/html": [
                            "<table>\n",
                            "<tr><th>rating</th><th>FloorRating</th><th>CeilingRating</th><th>AbsoluteRating</th></tr>\n",
                            "<tr><td>3.9</td><td>3</td><td>4</td><td>3.9</td></tr>\n",
                            "<tr><td>3.7</td><td>3</td><td>4</td><td>3.7</td></tr>\n",
                            "<tr><td>2.7</td><td>2</td><td>3</td><td>2.7</td></tr>\n",
                            "<tr><td>2.8</td><td>2</td><td>3</td><td>2.8</td></tr>\n",
                            "<tr><td>3.4</td><td>3</td><td>4</td><td>3.4</td></tr>\n",
                            "<tr><td>4.1</td><td>4</td><td>5</td><td>4.1</td></tr>\n",
                            "<tr><td>2.8</td><td>2</td><td>3</td><td>2.8</td></tr>\n",
                            "<tr><td>3.2</td><td>3</td><td>4</td><td>3.2</td></tr>\n",
                            "<tr><td>3.7</td><td>3</td><td>4</td><td>3.7</td></tr>\n",
                            "<tr><td>3.5</td><td>3</td><td>4</td><td>3.5</td></tr>\n",
                            "</table>"
                        ]
                    },
                    "execution_count": 46,
                    "metadata": {},
                    "output_type": "execute_result"
                }
            ],
            "source": [
                "-- 4. Find the Ceil, floor and absolute values of the rating column and display the current date\n",
                "-- and separately display the year, month_name and day.\n",
                "SELECT TOP 10\n",
                "rating,\n",
                "FLOOR(Rating) as FloorRating,\n",
                "CEILING(Rating) as CeilingRating,\n",
                "ABS(Rating) as AbsoluteRating\n",
                "FROM restaurants"
            ]
        },
        {
            "cell_type": "code",
            "execution_count": 47,
            "metadata": {
                "azdata_cell_guid": "ee47e8e3-10b9-49c4-bf5c-4318a67a77e0",
                "language": "sql"
            },
            "outputs": [
                {
                    "data": {
                        "text/html": [
                            "(1 row affected)"
                        ]
                    },
                    "metadata": {},
                    "output_type": "display_data"
                },
                {
                    "data": {
                        "text/html": [
                            "Total execution time: 00:00:00.001"
                        ]
                    },
                    "metadata": {},
                    "output_type": "display_data"
                },
                {
                    "data": {
                        "application/vnd.dataresource+json": {
                            "data": [
                                {
                                    "(No column name)": "17"
                                }
                            ],
                            "schema": {
                                "fields": [
                                    {
                                        "name": "(No column name)"
                                    },
                                    {
                                        "name": "(No column name)"
                                    },
                                    {
                                        "name": "(No column name)"
                                    },
                                    {
                                        "name": "(No column name)"
                                    }
                                ]
                            }
                        },
                        "text/html": [
                            "<table>\n",
                            "<tr><th>(No column name)</th><th>(No column name)</th><th>(No column name)</th><th>(No column name)</th></tr>\n",
                            "<tr><td>2023-11-17</td><td>2023</td><td>November</td><td>17</td></tr>\n",
                            "</table>"
                        ]
                    },
                    "execution_count": 47,
                    "metadata": {},
                    "output_type": "execute_result"
                }
            ],
            "source": [
                "-- SELECT CURRENT_TIMESTAMP\n",
                "-- SELECT GETDATE()\n",
                "SELECT convert(date,GETDATE()), YEAR(GETDATE()),DATENAME(MONTH,GETDATE()),DAY(GETDATE())"
            ]
        },
        {
            "cell_type": "code",
            "execution_count": 48,
            "metadata": {
                "azdata_cell_guid": "df2ec91a-c477-477b-acb1-d0716e3ea82b",
                "language": "sql"
            },
            "outputs": [
                {
                    "data": {
                        "text/html": [
                            "Warning: Null value is eliminated by an aggregate or other SET operation."
                        ]
                    },
                    "metadata": {},
                    "output_type": "display_data"
                },
                {
                    "data": {
                        "text/html": [
                            "(10 rows affected)"
                        ]
                    },
                    "metadata": {},
                    "output_type": "display_data"
                },
                {
                    "data": {
                        "text/html": [
                            "Total execution time: 00:00:00.007"
                        ]
                    },
                    "metadata": {},
                    "output_type": "display_data"
                },
                {
                    "data": {
                        "application/vnd.dataresource+json": {
                            "data": [
                                {
                                    "RestaurantType": "NULL",
                                    "TotalAverageCost": "3807739"
                                },
                                {
                                    "RestaurantType": "Casual Dining",
                                    "TotalAverageCost": "1220950"
                                },
                                {
                                    "RestaurantType": "Quick Bites",
                                    "TotalAverageCost": "860740"
                                },
                                {
                                    "RestaurantType": "Cafe",
                                    "TotalAverageCost": "234150"
                                },
                                {
                                    "RestaurantType": "Fine Dining",
                                    "TotalAverageCost": "220000"
                                },
                                {
                                    "RestaurantType": "Delivery",
                                    "TotalAverageCost": "148850"
                                },
                                {
                                    "RestaurantType": "Casual Dining, Bar",
                                    "TotalAverageCost": "138650"
                                },
                                {
                                    "RestaurantType": "Takeaway, Delivery",
                                    "TotalAverageCost": "111939"
                                },
                                {
                                    "RestaurantType": "Bar",
                                    "TotalAverageCost": "104400"
                                },
                                {
                                    "RestaurantType": "Lounge",
                                    "TotalAverageCost": "102750"
                                }
                            ],
                            "schema": {
                                "fields": [
                                    {
                                        "name": "RestaurantType"
                                    },
                                    {
                                        "name": "TotalAverageCost"
                                    }
                                ]
                            }
                        },
                        "text/html": [
                            "<table>\n",
                            "<tr><th>RestaurantType</th><th>TotalAverageCost</th></tr>\n",
                            "<tr><td>NULL</td><td>3807739</td></tr>\n",
                            "<tr><td>Casual Dining</td><td>1220950</td></tr>\n",
                            "<tr><td>Quick Bites</td><td>860740</td></tr>\n",
                            "<tr><td>Cafe</td><td>234150</td></tr>\n",
                            "<tr><td>Fine Dining</td><td>220000</td></tr>\n",
                            "<tr><td>Delivery</td><td>148850</td></tr>\n",
                            "<tr><td>Casual Dining, Bar</td><td>138650</td></tr>\n",
                            "<tr><td>Takeaway, Delivery</td><td>111939</td></tr>\n",
                            "<tr><td>Bar</td><td>104400</td></tr>\n",
                            "<tr><td>Lounge</td><td>102750</td></tr>\n",
                            "</table>"
                        ]
                    },
                    "execution_count": 48,
                    "metadata": {},
                    "output_type": "execute_result"
                }
            ],
            "source": [
                "-- 5. Display the restaurant type and total average cost using rollup.\n",
                "SELECT RestaurantType,SUM(AverageCost) as TotalAverageCost\n",
                "FROM restaurants\n",
                "GROUP BY RestaurantType\n",
                "WITH ROLLUP\n",
                "ORDER BY TotalAverageCost desc"
            ]
        }
    ],
    "metadata": {
        "kernelspec": {
            "display_name": "SQL",
            "language": "sql",
            "name": "SQL"
        },
        "language_info": {
            "name": "sql",
            "version": ""
        }
    },
    "nbformat": 4,
    "nbformat_minor": 2
}
