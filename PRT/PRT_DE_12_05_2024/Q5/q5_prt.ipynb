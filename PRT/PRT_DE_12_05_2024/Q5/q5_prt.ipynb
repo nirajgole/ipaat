{
 "cells": [
  {
   "cell_type": "code",
   "execution_count": 1,
   "metadata": {},
   "outputs": [
    {
     "data": {
      "text/plain": [
       "'C:\\\\Program Files\\\\spark\\\\spark-3.4.1-bin-hadoop3'"
      ]
     },
     "execution_count": 1,
     "metadata": {},
     "output_type": "execute_result"
    }
   ],
   "source": [
    "import findspark\n",
    "\n",
    "findspark.init()\n",
    "findspark.find()\n"
   ]
  },
  {
   "cell_type": "code",
   "execution_count": 2,
   "metadata": {},
   "outputs": [
    {
     "data": {
      "text/html": [
       "\n",
       "            <div>\n",
       "                <p><b>SparkSession - in-memory</b></p>\n",
       "                \n",
       "        <div>\n",
       "            <p><b>SparkContext</b></p>\n",
       "\n",
       "            <p><a href=\"http://N7:4040\">Spark UI</a></p>\n",
       "\n",
       "            <dl>\n",
       "              <dt>Version</dt>\n",
       "                <dd><code>v3.4.1</code></dd>\n",
       "              <dt>Master</dt>\n",
       "                <dd><code>local[*]</code></dd>\n",
       "              <dt>AppName</dt>\n",
       "                <dd><code>AutoSales</code></dd>\n",
       "            </dl>\n",
       "        </div>\n",
       "        \n",
       "            </div>\n",
       "        "
      ],
      "text/plain": [
       "<pyspark.sql.session.SparkSession at 0x22c5584d790>"
      ]
     },
     "execution_count": 2,
     "metadata": {},
     "output_type": "execute_result"
    }
   ],
   "source": [
    "from pyspark.sql import SparkSession, functions as f\n",
    "\n",
    "spark = SparkSession.builder.appName(\"AutoSales\").getOrCreate()\n",
    "spark\n"
   ]
  },
  {
   "cell_type": "code",
   "execution_count": 3,
   "metadata": {},
   "outputs": [],
   "source": [
    "input_data = [\n",
    "    [1, \"Intellipaat\"],\n",
    "    [1, \"Intellipaat1\"],\n",
    "    [2, \"Intellipaat2\"],\n",
    "    [2, \"Intellipaat3\"],\n",
    "    [3, \"Intellipaat4\"],\n",
    "    [3, \"Intellipaat5\"],\n",
    "    [3, \"Intellipaat6\"],\n",
    "]\n"
   ]
  },
  {
   "cell_type": "code",
   "execution_count": 4,
   "metadata": {},
   "outputs": [
    {
     "name": "stdout",
     "output_type": "stream",
     "text": [
      "+---+------------+\n",
      "| id|        name|\n",
      "+---+------------+\n",
      "|  1| Intellipaat|\n",
      "|  1|Intellipaat1|\n",
      "|  2|Intellipaat2|\n",
      "|  2|Intellipaat3|\n",
      "|  3|Intellipaat4|\n",
      "|  3|Intellipaat5|\n",
      "|  3|Intellipaat6|\n",
      "+---+------------+\n",
      "\n"
     ]
    }
   ],
   "source": [
    "# Create a DataFrame from the list\n",
    "df = spark.createDataFrame(input_data, [\"id\", \"name\"])\n",
    "df.show()\n"
   ]
  },
  {
   "cell_type": "code",
   "execution_count": 7,
   "metadata": {},
   "outputs": [
    {
     "name": "stdout",
     "output_type": "stream",
     "text": [
      "+---+--------------------+\n",
      "| id|                name|\n",
      "+---+--------------------+\n",
      "|  1|Intellipaat,Intel...|\n",
      "|  2|Intellipaat2,Inte...|\n",
      "|  3|Intellipaat4,Inte...|\n",
      "+---+--------------------+\n",
      "\n"
     ]
    }
   ],
   "source": [
    "df.groupBy(\"id\").agg(f.collect_list(\"name\").alias(\"name\")).withColumn(\n",
    "    \"name\", f.concat_ws(\",\", f.col(\"name\"))\n",
    ").show()\n"
   ]
  },
  {
   "cell_type": "code",
   "execution_count": null,
   "metadata": {},
   "outputs": [],
   "source": []
  }
 ],
 "metadata": {
  "kernelspec": {
   "display_name": "Python 3",
   "language": "python",
   "name": "python3"
  },
  "language_info": {
   "codemirror_mode": {
    "name": "ipython",
    "version": 3
   },
   "file_extension": ".py",
   "mimetype": "text/x-python",
   "name": "python",
   "nbconvert_exporter": "python",
   "pygments_lexer": "ipython3",
   "version": "3.11.3"
  }
 },
 "nbformat": 4,
 "nbformat_minor": 2
}
