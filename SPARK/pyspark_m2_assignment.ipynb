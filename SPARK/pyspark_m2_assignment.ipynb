{
 "cells": [
  {
   "cell_type": "markdown",
   "metadata": {},
   "source": [
    "### PySpark Module 2 Assignment\n",
    "\n",
    "Tasks to be Done\n"
   ]
  },
  {
   "cell_type": "markdown",
   "metadata": {},
   "source": [
    "1. String:\n"
   ]
  },
  {
   "cell_type": "code",
   "execution_count": 2,
   "metadata": {},
   "outputs": [
    {
     "name": "stdout",
     "output_type": "stream",
     "text": [
      "First character:  s\n",
      "Characters from 2 to 5:  me_\n",
      "Count of \"a\":  0\n"
     ]
    }
   ],
   "source": [
    "# a) Create a string having some text in it\n",
    "string = 'some_text'\n",
    "# b) Print the first character of the string\n",
    "print('First character: ',string[0])\n",
    "# c) Slice and print the characters of indices from 2 to 5\n",
    "print('Characters from 2 to 5: ',string[2:5])\n",
    "# d) “Count the number of times ‘a’ comes in the string”?\n",
    "print('Count of \"a\": ',string.count('a'))"
   ]
  },
  {
   "cell_type": "markdown",
   "metadata": {},
   "source": [
    "2. Tuple:\n"
   ]
  },
  {
   "cell_type": "code",
   "execution_count": 7,
   "metadata": {},
   "outputs": [
    {
     "name": "stdout",
     "output_type": "stream",
     "text": [
      "0 123\n",
      "1 123\n",
      "2 {1: '🚀'}\n",
      "3 ('three', (4, 5))\n",
      "last element ('three', (4, 5))\n",
      "('123', 123, {1: '🚀'}, ('three', (4, 5)))\n"
     ]
    }
   ],
   "source": [
    "# a) Create a tuple\n",
    "tp=('123',123,{1:'🚀'},(('three'),(4,5)))\n",
    "# b) Print the tuple elements using their indices\n",
    "for i,v in enumerate(tp):\n",
    "    print(i,v)\n",
    "# c) Print the last tuple element using negative indexing\n",
    "print('last element',tp[-1])\n",
    "# d) Print a range of items using the slicing operator in the tuple\n",
    "print(tp[::])"
   ]
  },
  {
   "cell_type": "markdown",
   "metadata": {},
   "source": [
    "3. List:\n"
   ]
  },
  {
   "cell_type": "code",
   "execution_count": 12,
   "metadata": {},
   "outputs": [
    {
     "name": "stdout",
     "output_type": "stream",
     "text": [
      "0 string\n",
      "1 0\n",
      "2 True\n",
      "3 {'key': 'value'}\n",
      "4 ('my', 'tuple')\n",
      "2\n",
      "[True, {'key': 'value'}, ('my', 'tuple')]\n",
      "['string', 0, True, {'key': 'value'}, ('my', 'tuple'), [1, 2, 3, 4], '🚀']\n",
      "['🚀', [1, 2, 3, 4], ('my', 'tuple'), {'key': 'value'}, True, 0, 'string']\n"
     ]
    }
   ],
   "source": [
    "# a) Create a list with elements of mixed data types\n",
    "lst = ['string',0,True,{'key':'value'},('my','tuple')]\n",
    "# b) Print an element from the list using its index\n",
    "for i,v in enumerate(lst):\n",
    "    print(i,v)\n",
    "# c) Create a nested list\n",
    "lst.append([1,2,3,4])\n",
    "# d) Print one element of the list inside the nested list\n",
    "print(lst[-1][1])\n",
    "# e) Print elements of indices from 2 to 5 using the slicing operator\n",
    "print(lst[2:5])\n",
    "# f) Add an element to the list and print the list\n",
    "lst.append('🚀')\n",
    "print(lst)\n",
    "# g) Reverse all the values of the list, e.g., the last value should come at first\n",
    "print(lst[::-1])"
   ]
  },
  {
   "cell_type": "markdown",
   "metadata": {},
   "source": [
    "4. Dictionaries:\n"
   ]
  },
  {
   "cell_type": "code",
   "execution_count": 17,
   "metadata": {},
   "outputs": [
    {
     "name": "stdout",
     "output_type": "stream",
     "text": [
      "1 - 1\n",
      "2 - 2\n",
      "3 - 3\n",
      "{}\n"
     ]
    }
   ],
   "source": [
    "# a) Create a dictionary\n",
    "dct={1:'1',2:'2',3:'3'}\n",
    "# b) Print the dictionary values using keys\n",
    "for k,v in dct.items():\n",
    "    print(k,'-',v)\n",
    "# c) Modify an element in the dictionary\n",
    "dct[1]='one'\n",
    "# d) Add an element in the dictionary\n",
    "dct[4]='4'\n",
    "# e) Remove elements from the dictionary\n",
    "dct.clear()\n",
    "# f) Print all the dictionary values using for loop\n",
    "print(dct)"
   ]
  },
  {
   "cell_type": "markdown",
   "metadata": {},
   "source": [
    "5. File I/O:\n"
   ]
  },
  {
   "cell_type": "code",
   "execution_count": 36,
   "metadata": {},
   "outputs": [
    {
     "name": "stdout",
     "output_type": "stream",
     "text": [
      "H\n",
      "e\n",
      "l\n",
      "l\n",
      "o\n",
      "['HelloSomething']\n"
     ]
    }
   ],
   "source": [
    "# a) Open a file in the write mode\n",
    "f=open('_text.txt','w')\n",
    "# b) Add text to the file using Python’s File I/O functions\n",
    "f.write('Hello')\n",
    "# c) Read the file text line by line using for loop\n",
    "f=open('_text.txt','r')\n",
    "for i in f.read():\n",
    "    print(i)\n",
    "f.close()\n",
    "\n",
    "# or\n",
    "\n",
    "with open('_text.txt','a') as myFile:\n",
    "    myFile.write('Something')\n",
    "\n",
    "with open('_text.txt','r') as myFile:\n",
    "    a=myFile.readlines(2)\n",
    "    print(a)\n"
   ]
  },
  {
   "cell_type": "markdown",
   "metadata": {},
   "source": [
    "6. Set:\n"
   ]
  },
  {
   "cell_type": "code",
   "execution_count": 4,
   "metadata": {},
   "outputs": [
    {
     "name": "stdout",
     "output_type": "stream",
     "text": [
      "<class 'set'>\n"
     ]
    },
    {
     "data": {
      "text/plain": [
       "{(1, 2, 3), 1, 1.1, 2, 3, 4}"
      ]
     },
     "execution_count": 4,
     "metadata": {},
     "output_type": "execute_result"
    }
   ],
   "source": [
    "# a) Create a set\n",
    "st={1,2,2,3,3,3,4,4,4,4}\n",
    "# b) Print the data type of the set\n",
    "print(type(st))\n",
    "# c) Add more elements to the set\n",
    "st.update([1.1,(1,2,3)])\n",
    "# d) Print the union of two set\n",
    "st.union({1,2,3})"
   ]
  }
 ],
 "metadata": {
  "kernelspec": {
   "display_name": "Python 3",
   "language": "python",
   "name": "python3"
  },
  "language_info": {
   "codemirror_mode": {
    "name": "ipython",
    "version": 3
   },
   "file_extension": ".py",
   "mimetype": "text/x-python",
   "name": "python",
   "nbconvert_exporter": "python",
   "pygments_lexer": "ipython3",
   "version": "3.11.3"
  }
 },
 "nbformat": 4,
 "nbformat_minor": 2
}
