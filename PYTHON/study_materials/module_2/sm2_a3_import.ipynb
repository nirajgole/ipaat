{
 "cells": [
  {
   "attachments": {},
   "cell_type": "markdown",
   "metadata": {},
   "source": [
    "```\n",
    "1. Create a Python file named Module:\n",
    "a. Inside the file, define 4 methods named – addition, subtraction,\n",
    "multiplication, and division.\n",
    "b. Each method should only accept 2 arguments and should return the\n",
    "result of operation performed in each method. For e.g., addition() should\n",
    "return the sum of two arguments.\n",
    "c. Save the Module file in .py format\n",
    "\n",
    "2. Open a new python file and import the Module.py file\n",
    "a. Now call the 4 methods from the Module.py file, i.e., addition(),\n",
    "subtraction(), multiplication(), and division().\n",
    "3. From the Module file, import only the addition() and pass the arguments so\n",
    "that it can display the result from the method.\n",
    "4. From the Module file, import only the subtraction() and pass the arguments\n",
    "so that it can display the result from the method.\n",
    "5. From the Module file, import both the multiplication() and division() and\n",
    "pass the arguments so that it can display the result from the methods.\n",
    "\n",
    "```"
   ]
  },
  {
   "cell_type": "code",
   "execution_count": 3,
   "metadata": {},
   "outputs": [
    {
     "name": "stdout",
     "output_type": "stream",
     "text": [
      "Addition: 30\n",
      "Subtraction: -10\n",
      "Multiplication: 200\n",
      "Division: 0.5\n"
     ]
    }
   ],
   "source": [
    "from Module import addition,subtraction,multiplication,division\n",
    "\n",
    "add=addition(10,20)\n",
    "print('Addition:',add)\n",
    "sub=subtraction(10,20)\n",
    "print('Subtraction:',sub)\n",
    "mul=multiplication(10,20)\n",
    "print('Multiplication:',mul)\n",
    "div=division(10,20)\n",
    "print('Division:',div)"
   ]
  }
 ],
 "metadata": {
  "kernelspec": {
   "display_name": "Python 3",
   "language": "python",
   "name": "python3"
  },
  "language_info": {
   "codemirror_mode": {
    "name": "ipython",
    "version": 3
   },
   "file_extension": ".py",
   "mimetype": "text/x-python",
   "name": "python",
   "nbconvert_exporter": "python",
   "pygments_lexer": "ipython3",
   "version": "3.11.4"
  },
  "orig_nbformat": 4
 },
 "nbformat": 4,
 "nbformat_minor": 2
}
