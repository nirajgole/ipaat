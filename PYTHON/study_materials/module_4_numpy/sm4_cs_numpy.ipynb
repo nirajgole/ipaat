{
 "cells": [
  {
   "attachments": {},
   "cell_type": "markdown",
   "metadata": {},
   "source": [
    "### Module 4 - Numpy Case Study\n"
   ]
  },
  {
   "cell_type": "code",
   "execution_count": 1,
   "metadata": {},
   "outputs": [],
   "source": [
    "import numpy as np"
   ]
  },
  {
   "attachments": {},
   "cell_type": "markdown",
   "metadata": {},
   "source": [
    "```\n",
    "1. Create a function that takes dimensions as tuples e.g. (3, 3) and a numeric\n",
    "value and returns a NumPy array of the given dimension filled with the\n",
    "given value e.g.: solve((3, 3), 5) will return\n",
    "[\n",
    "[5, 5, 5],\n",
    "[5, 5, 5],\n",
    "[5, 5, 5]\n",
    "]\n",
    "```\n"
   ]
  },
  {
   "cell_type": "code",
   "execution_count": 2,
   "metadata": {},
   "outputs": [
    {
     "data": {
      "text/plain": [
       "array([[5, 5, 5],\n",
       "       [5, 5, 5],\n",
       "       [5, 5, 5]])"
      ]
     },
     "execution_count": 2,
     "metadata": {},
     "output_type": "execute_result"
    }
   ],
   "source": [
    "def solve(shape, n):\n",
    "    return np.full(shape, n)\n",
    "\n",
    "\n",
    "solve((3, 3), 5)"
   ]
  },
  {
   "attachments": {},
   "cell_type": "markdown",
   "metadata": {},
   "source": [
    "2. Create a method that takes n NumPy arrays of the same dimensions,\n",
    "   sums them and returns the answer.\n"
   ]
  },
  {
   "cell_type": "code",
   "execution_count": 7,
   "metadata": {},
   "outputs": [
    {
     "data": {
      "text/plain": [
       "array([135, 355, 226, 459])"
      ]
     },
     "execution_count": 7,
     "metadata": {},
     "output_type": "execute_result"
    }
   ],
   "source": [
    "def sum_arr(*args):\n",
    "    try:\n",
    "        return sum(np.array(arg) for arg in args)\n",
    "    except Exception:\n",
    "        print(\"Error\")\n",
    "\n",
    "\n",
    "sum_arr([12, 232, 3, 3], [123, 123, 223, 456])"
   ]
  },
  {
   "attachments": {},
   "cell_type": "markdown",
   "metadata": {},
   "source": [
    "```\n",
    "3. Given a 2 D Array of N X M Dimension, write a function that accepts this\n",
    "array as well as two numbers N and M. The method should return the\n",
    "top-left N X M sub matrix, e.g:\n",
    "[\n",
    "[1, 2, 3],\n",
    "[4, 5, 6],\n",
    "[7, 8, 9],\n",
    "]\n",
    "top_left_sub_matrix (matrix, 2, 2) -> should return:\n",
    "[\n",
    "[1, 2]\n",
    "[4, 5]\n",
    "]\n",
    "```\n"
   ]
  },
  {
   "cell_type": "code",
   "execution_count": 14,
   "metadata": {},
   "outputs": [
    {
     "data": {
      "text/plain": [
       "array([[1, 2],\n",
       "       [4, 5]])"
      ]
     },
     "execution_count": 14,
     "metadata": {},
     "output_type": "execute_result"
    }
   ],
   "source": [
    "def get_sub_arr(arr, n, m):\n",
    "    return arr[0:n, 0:m]\n",
    "\n",
    "\n",
    "arr = np.array([\n",
    "    [1, 2, 3],\n",
    "    [4, 5, 6],\n",
    "    [7, 8, 9],\n",
    "])\n",
    "get_sub_arr(arr, 2, 2)"
   ]
  },
  {
   "attachments": {},
   "cell_type": "markdown",
   "metadata": {},
   "source": [
    "```\n",
    "4. Given a 2 D Array of N X M Dimension, write a function that accepts this\n",
    "array as well as two numbers N and M. The method should return the\n",
    "bottom-right N X M sub matrix, e.g:\n",
    "[\n",
    "[1, 2, 3],\n",
    "[4, 5, 6],\n",
    "[7, 8, 9],\n",
    "]\n",
    "sub_matrix(matrix, 1, 1) -> should return : (Keep in mind these arrays are\n",
    "zero indexed)\n",
    "[\n",
    "[5, 6]\n",
    "[8, 9]\n",
    "]\n",
    "```\n"
   ]
  },
  {
   "cell_type": "code",
   "execution_count": 17,
   "metadata": {},
   "outputs": [
    {
     "data": {
      "text/plain": [
       "array([[5, 6],\n",
       "       [8, 9]])"
      ]
     },
     "execution_count": 17,
     "metadata": {},
     "output_type": "execute_result"
    }
   ],
   "source": [
    "def get_sub_arr(arr, n, m):\n",
    "    return arr[-n:, -m:]\n",
    "\n",
    "\n",
    "arr = np.array([\n",
    "    [1, 2, 3],\n",
    "    [4, 5, 6],\n",
    "    [7, 8, 9],\n",
    "])\n",
    "get_sub_arr(arr, 2, 2)"
   ]
  },
  {
   "attachments": {},
   "cell_type": "markdown",
   "metadata": {},
   "source": [
    "```\n",
    "5. Given a 1 D NumPy Array. Write a function that accepts this array as\n",
    "parameters. The method should return a dictionary with 'mean' and\n",
    "'std_dev' as key and array's mean and array's standard deviation as\n",
    "values:\n",
    "[1, 1, 1]\n",
    "solution(arr) -> should return :\n",
    "{'mean': 1.0, 'std_dev': 0.0}\n",
    "```\n"
   ]
  },
  {
   "cell_type": "code",
   "execution_count": 20,
   "metadata": {},
   "outputs": [
    {
     "data": {
      "text/plain": [
       "{'mean': 1.0, 'std_dev': 0.0}"
      ]
     },
     "execution_count": 20,
     "metadata": {},
     "output_type": "execute_result"
    }
   ],
   "source": [
    "def solution(arr):\n",
    "    return {'mean': np.mean(arr), 'std_dev': np.std(arr)}\n",
    "\n",
    "\n",
    "solution(np.ones(3))"
   ]
  }
 ],
 "metadata": {
  "kernelspec": {
   "display_name": "Python 3",
   "language": "python",
   "name": "python3"
  },
  "language_info": {
   "codemirror_mode": {
    "name": "ipython",
    "version": 3
   },
   "file_extension": ".py",
   "mimetype": "text/x-python",
   "name": "python",
   "nbconvert_exporter": "python",
   "pygments_lexer": "ipython3",
   "version": "3.11.3"
  },
  "orig_nbformat": 4
 },
 "nbformat": 4,
 "nbformat_minor": 2
}
