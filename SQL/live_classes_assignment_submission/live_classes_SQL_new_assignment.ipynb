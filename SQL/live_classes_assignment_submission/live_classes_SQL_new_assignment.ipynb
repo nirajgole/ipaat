{
    "metadata": {
        "kernelspec": {
            "name": "SQL",
            "display_name": "SQL",
            "language": "sql"
        },
        "language_info": {
            "name": "sql",
            "version": ""
        }
    },
    "nbformat_minor": 2,
    "nbformat": 4,
    "cells": [
        {
            "cell_type": "code",
            "source": [
                "-- 1 Display the “FIRST_NAME” from Employee table using the alias name \r\n",
                "-- as Employee_name.\r\n",
                "SELECT FIRST_NAME AS Employee_name\r\n",
                "FROM EMPLOYEEDETAILS"
            ],
            "metadata": {
                "azdata_cell_guid": "b95bfe2e-e7cc-4ef6-b41a-ff0277585c72",
                "language": "sql"
            },
            "outputs": [
                {
                    "output_type": "display_data",
                    "data": {
                        "text/html": "(8 rows affected)"
                    },
                    "metadata": {}
                },
                {
                    "output_type": "display_data",
                    "data": {
                        "text/html": "Total execution time: 00:00:00.002"
                    },
                    "metadata": {}
                },
                {
                    "output_type": "execute_result",
                    "execution_count": 2,
                    "data": {
                        "application/vnd.dataresource+json": {
                            "schema": {
                                "fields": [
                                    {
                                        "name": "Employee_name"
                                    }
                                ]
                            },
                            "data": [
                                {
                                    "0": "Anika"
                                },
                                {
                                    "0": "Veena"
                                },
                                {
                                    "0": "Vishal"
                                },
                                {
                                    "0": "Sushanth"
                                },
                                {
                                    "0": "Bhupal"
                                },
                                {
                                    "0": "Dheeraj"
                                },
                                {
                                    "0": "Karan"
                                },
                                {
                                    "0": "Chandrika"
                                }
                            ]
                        },
                        "text/html": "<table><tr><th>Employee_name</th></tr><tr><td>Anika</td></tr><tr><td>Veena</td></tr><tr><td>Vishal</td></tr><tr><td>Sushanth</td></tr><tr><td>Bhupal</td></tr><tr><td>Dheeraj</td></tr><tr><td>Karan</td></tr><tr><td>Chandrika</td></tr></table>"
                    },
                    "metadata": {}
                }
            ],
            "execution_count": 2
        },
        {
            "cell_type": "code",
            "source": [
                "-- 2 Display “LAST_NAME” from Employee table in upper case.\r\n",
                "SELECT UPPER(LAST_NAME) AS LAST_NAME\r\n",
                "FROM EMPLOYEEDETAILS"
            ],
            "metadata": {
                "language": "sql",
                "azdata_cell_guid": "cc99dacd-febb-482f-8bea-0a46d83c6633"
            },
            "outputs": [
                {
                    "output_type": "display_data",
                    "data": {
                        "text/html": "(8 rows affected)"
                    },
                    "metadata": {}
                },
                {
                    "output_type": "display_data",
                    "data": {
                        "text/html": "Total execution time: 00:00:00.002"
                    },
                    "metadata": {}
                },
                {
                    "output_type": "execute_result",
                    "execution_count": 2,
                    "data": {
                        "application/vnd.dataresource+json": {
                            "schema": {
                                "fields": [
                                    {
                                        "name": "LAST_NAME"
                                    }
                                ]
                            },
                            "data": [
                                {
                                    "0": "ARORA"
                                },
                                {
                                    "0": "VERMA"
                                },
                                {
                                    "0": "SINGHAL"
                                },
                                {
                                    "0": "SINGH"
                                },
                                {
                                    "0": "BHATI"
                                },
                                {
                                    "0": "DIWAN"
                                },
                                {
                                    "0": "KUMAR"
                                },
                                {
                                    "0": "CHAUHAN"
                                }
                            ]
                        },
                        "text/html": "<table><tr><th>LAST_NAME</th></tr><tr><td>ARORA</td></tr><tr><td>VERMA</td></tr><tr><td>SINGHAL</td></tr><tr><td>SINGH</td></tr><tr><td>BHATI</td></tr><tr><td>DIWAN</td></tr><tr><td>KUMAR</td></tr><tr><td>CHAUHAN</td></tr></table>"
                    },
                    "metadata": {}
                }
            ],
            "execution_count": 2
        },
        {
            "cell_type": "code",
            "source": [
                "-- 3 Display unique values of DEPARTMENT from EMPLOYEE table.\r\n",
                "SELECT DISTINCT(DEPARTMENT) AS DEPARTMENTS\r\n",
                "FROM EMPLOYEEDETAILS"
            ],
            "metadata": {
                "language": "sql",
                "azdata_cell_guid": "8274c5b9-cbff-41f4-a265-e673c6a5aa73"
            },
            "outputs": [
                {
                    "output_type": "display_data",
                    "data": {
                        "text/html": "(3 rows affected)"
                    },
                    "metadata": {}
                },
                {
                    "output_type": "display_data",
                    "data": {
                        "text/html": "Total execution time: 00:00:00.002"
                    },
                    "metadata": {}
                },
                {
                    "output_type": "execute_result",
                    "execution_count": 4,
                    "data": {
                        "application/vnd.dataresource+json": {
                            "schema": {
                                "fields": [
                                    {
                                        "name": "DEPARTMENTS"
                                    }
                                ]
                            },
                            "data": [
                                {
                                    "0": "Account"
                                },
                                {
                                    "0": "Admin"
                                },
                                {
                                    "0": "HR"
                                }
                            ]
                        },
                        "text/html": "<table><tr><th>DEPARTMENTS</th></tr><tr><td>Account</td></tr><tr><td>Admin</td></tr><tr><td>HR</td></tr></table>"
                    },
                    "metadata": {}
                }
            ],
            "execution_count": 4
        },
        {
            "cell_type": "code",
            "source": [
                "-- 4 Display the first three characters of LAST_NAME from EMPLOYEE table.\r\n",
                "SELECT LAST_NAME, SUBSTRING(LAST_NAME,1,3)\r\n",
                "FROM EMPLOYEEDETAILS "
            ],
            "metadata": {
                "language": "sql",
                "azdata_cell_guid": "b9185765-5b57-479a-93c1-7a32d2da5807"
            },
            "outputs": [
                {
                    "output_type": "display_data",
                    "data": {
                        "text/html": "(8 rows affected)"
                    },
                    "metadata": {}
                },
                {
                    "output_type": "display_data",
                    "data": {
                        "text/html": "Total execution time: 00:00:00.003"
                    },
                    "metadata": {}
                },
                {
                    "output_type": "execute_result",
                    "execution_count": 13,
                    "data": {
                        "application/vnd.dataresource+json": {
                            "schema": {
                                "fields": [
                                    {
                                        "name": "LAST_NAME"
                                    },
                                    {
                                        "name": "(No column name)"
                                    }
                                ]
                            },
                            "data": [
                                {
                                    "0": "Arora",
                                    "1": "Aro"
                                },
                                {
                                    "0": "Verma",
                                    "1": "Ver"
                                },
                                {
                                    "0": "Singhal",
                                    "1": "Sin"
                                },
                                {
                                    "0": "Singh",
                                    "1": "Sin"
                                },
                                {
                                    "0": "Bhati",
                                    "1": "Bha"
                                },
                                {
                                    "0": "Diwan",
                                    "1": "Diw"
                                },
                                {
                                    "0": "Kumar",
                                    "1": "Kum"
                                },
                                {
                                    "0": "Chauhan",
                                    "1": "Cha"
                                }
                            ]
                        },
                        "text/html": "<table><tr><th>LAST_NAME</th><th>(No column name)</th></tr><tr><td>Arora</td><td>Aro</td></tr><tr><td>Verma</td><td>Ver</td></tr><tr><td>Singhal</td><td>Sin</td></tr><tr><td>Singh</td><td>Sin</td></tr><tr><td>Bhati</td><td>Bha</td></tr><tr><td>Diwan</td><td>Diw</td></tr><tr><td>Kumar</td><td>Kum</td></tr><tr><td>Chauhan</td><td>Cha</td></tr></table>"
                    },
                    "metadata": {}
                }
            ],
            "execution_count": 13
        },
        {
            "cell_type": "code",
            "source": [
                "-- 5 Display the unique values of DEPARTMENT from EMPLOYEE table and \r\n",
                "-- prints its length.\r\n",
                "SELECT DISTINCT(DEPARTMENT) AS DEPARTMENTS, LEN(DEPARTMENT) AS LEN\r\n",
                "FROM EMPLOYEEDETAILS"
            ],
            "metadata": {
                "language": "sql",
                "azdata_cell_guid": "1457058d-57b0-44bd-814f-88fc832f6048"
            },
            "outputs": [
                {
                    "output_type": "display_data",
                    "data": {
                        "text/html": "(3 rows affected)"
                    },
                    "metadata": {}
                },
                {
                    "output_type": "display_data",
                    "data": {
                        "text/html": "Total execution time: 00:00:00.003"
                    },
                    "metadata": {}
                },
                {
                    "output_type": "execute_result",
                    "execution_count": 14,
                    "data": {
                        "application/vnd.dataresource+json": {
                            "schema": {
                                "fields": [
                                    {
                                        "name": "DEPARTMENTS"
                                    },
                                    {
                                        "name": "LEN"
                                    }
                                ]
                            },
                            "data": [
                                {
                                    "0": "Account",
                                    "1": "7"
                                },
                                {
                                    "0": "Admin",
                                    "1": "5"
                                },
                                {
                                    "0": "HR",
                                    "1": "2"
                                }
                            ]
                        },
                        "text/html": "<table><tr><th>DEPARTMENTS</th><th>LEN</th></tr><tr><td>Account</td><td>7</td></tr><tr><td>Admin</td><td>5</td></tr><tr><td>HR</td><td>2</td></tr></table>"
                    },
                    "metadata": {}
                }
            ],
            "execution_count": 14
        },
        {
            "cell_type": "code",
            "source": [
                "-- 6 Display the FIRST_NAME and LAST_NAME from EMPLOYEE table into a \r\n",
                "-- single column AS FULL_NAME a space char should separate them.\r\n",
                "-- SELECT\r\n",
                "--     FIRST_NAME +' '+\r\n",
                "--     LAST_NAME AS FULL_NAME\r\n",
                "-- FROM EMPLOYEEDETAILS\r\n",
                "SELECT\r\n",
                "CONCAT_WS(' ',FIRST_NAME,LAST_NAME)\r\n",
                "    AS FULL_NAME\r\n",
                "FROM EMPLOYEEDETAILS"
            ],
            "metadata": {
                "language": "sql",
                "azdata_cell_guid": "28ae0247-5827-41cc-8012-eb49a8d2e11b",
                "tags": []
            },
            "outputs": [
                {
                    "output_type": "display_data",
                    "data": {
                        "text/html": "(8 rows affected)"
                    },
                    "metadata": {}
                },
                {
                    "output_type": "display_data",
                    "data": {
                        "text/html": "Total execution time: 00:00:00.001"
                    },
                    "metadata": {}
                },
                {
                    "output_type": "execute_result",
                    "execution_count": 22,
                    "data": {
                        "application/vnd.dataresource+json": {
                            "schema": {
                                "fields": [
                                    {
                                        "name": "FULL_NAME"
                                    }
                                ]
                            },
                            "data": [
                                {
                                    "0": "Anika Arora"
                                },
                                {
                                    "0": "Veena Verma"
                                },
                                {
                                    "0": "Vishal Singhal"
                                },
                                {
                                    "0": "Sushanth Singh"
                                },
                                {
                                    "0": "Bhupal Bhati"
                                },
                                {
                                    "0": "Dheeraj Diwan"
                                },
                                {
                                    "0": "Karan Kumar"
                                },
                                {
                                    "0": "Chandrika Chauhan"
                                }
                            ]
                        },
                        "text/html": "<table><tr><th>FULL_NAME</th></tr><tr><td>Anika Arora</td></tr><tr><td>Veena Verma</td></tr><tr><td>Vishal Singhal</td></tr><tr><td>Sushanth Singh</td></tr><tr><td>Bhupal Bhati</td></tr><tr><td>Dheeraj Diwan</td></tr><tr><td>Karan Kumar</td></tr><tr><td>Chandrika Chauhan</td></tr></table>"
                    },
                    "metadata": {}
                }
            ],
            "execution_count": 22
        },
        {
            "cell_type": "code",
            "source": [
                "-- 7 DISPLAY all EMPLOYEE details from the employee table \r\n",
                "-- order by FIRST_NAME Ascending.\r\n",
                "SELECT *\r\n",
                "FROM EMPLOYEEDETAILS\r\n",
                "ORDER BY FIRST_NAME "
            ],
            "metadata": {
                "language": "sql",
                "azdata_cell_guid": "4b494a86-69be-4bc8-9f60-cea91aaba630"
            },
            "outputs": [
                {
                    "output_type": "display_data",
                    "data": {
                        "text/html": "(8 rows affected)"
                    },
                    "metadata": {}
                },
                {
                    "output_type": "display_data",
                    "data": {
                        "text/html": "Total execution time: 00:00:00.003"
                    },
                    "metadata": {}
                },
                {
                    "output_type": "execute_result",
                    "execution_count": 23,
                    "data": {
                        "application/vnd.dataresource+json": {
                            "schema": {
                                "fields": [
                                    {
                                        "name": "Employee_id"
                                    },
                                    {
                                        "name": "First_name"
                                    },
                                    {
                                        "name": "Last_Name"
                                    },
                                    {
                                        "name": "Salary"
                                    },
                                    {
                                        "name": "Joining_date"
                                    },
                                    {
                                        "name": "Department"
                                    }
                                ]
                            },
                            "data": [
                                {
                                    "0": "1",
                                    "1": "Anika",
                                    "2": "Arora",
                                    "3": "100000",
                                    "4": "2020-02-14 09:00:00.0000000",
                                    "5": "HR"
                                },
                                {
                                    "0": "5",
                                    "1": "Bhupal",
                                    "2": "Bhati",
                                    "3": "500000",
                                    "4": "2011-06-18 09:00:00.0000000",
                                    "5": "Admin"
                                },
                                {
                                    "0": "8",
                                    "1": "Chandrika",
                                    "2": "Chauhan",
                                    "3": "90000",
                                    "4": "2011-04-15 09:00:00.0000000",
                                    "5": "Admin"
                                },
                                {
                                    "0": "6",
                                    "1": "Dheeraj",
                                    "2": "Diwan",
                                    "3": "200000",
                                    "4": "2011-06-19 09:00:00.0000000",
                                    "5": "Account"
                                },
                                {
                                    "0": "7",
                                    "1": "Karan",
                                    "2": "Kumar",
                                    "3": "75000",
                                    "4": "2020-01-14 09:00:00.0000000",
                                    "5": "Account"
                                },
                                {
                                    "0": "4",
                                    "1": "Sushanth",
                                    "2": "Singh",
                                    "3": "500000",
                                    "4": "2020-02-17 09:00:00.0000000",
                                    "5": "Admin"
                                },
                                {
                                    "0": "2",
                                    "1": "Veena",
                                    "2": "Verma",
                                    "3": "80000",
                                    "4": "2011-06-15 09:00:00.0000000",
                                    "5": "Admin"
                                },
                                {
                                    "0": "3",
                                    "1": "Vishal",
                                    "2": "Singhal",
                                    "3": "300000",
                                    "4": "2020-02-16 09:00:00.0000000",
                                    "5": "HR"
                                }
                            ]
                        },
                        "text/html": "<table><tr><th>Employee_id</th><th>First_name</th><th>Last_Name</th><th>Salary</th><th>Joining_date</th><th>Department</th></tr><tr><td>1</td><td>Anika</td><td>Arora</td><td>100000</td><td>2020-02-14 09:00:00.0000000</td><td>HR</td></tr><tr><td>5</td><td>Bhupal</td><td>Bhati</td><td>500000</td><td>2011-06-18 09:00:00.0000000</td><td>Admin</td></tr><tr><td>8</td><td>Chandrika</td><td>Chauhan</td><td>90000</td><td>2011-04-15 09:00:00.0000000</td><td>Admin</td></tr><tr><td>6</td><td>Dheeraj</td><td>Diwan</td><td>200000</td><td>2011-06-19 09:00:00.0000000</td><td>Account</td></tr><tr><td>7</td><td>Karan</td><td>Kumar</td><td>75000</td><td>2020-01-14 09:00:00.0000000</td><td>Account</td></tr><tr><td>4</td><td>Sushanth</td><td>Singh</td><td>500000</td><td>2020-02-17 09:00:00.0000000</td><td>Admin</td></tr><tr><td>2</td><td>Veena</td><td>Verma</td><td>80000</td><td>2011-06-15 09:00:00.0000000</td><td>Admin</td></tr><tr><td>3</td><td>Vishal</td><td>Singhal</td><td>300000</td><td>2020-02-16 09:00:00.0000000</td><td>HR</td></tr></table>"
                    },
                    "metadata": {}
                }
            ],
            "execution_count": 23
        },
        {
            "cell_type": "code",
            "source": [
                "-- 8. Display all EMPLOYEE details order by FIRST_NAME Ascending and \r\n",
                "-- DEPARTMENT Descending.\r\n",
                "\r\n",
                "SELECT *\r\n",
                "FROM EMPLOYEEDETAILS\r\n",
                "ORDER BY FIRST_NAME, DEPARTMENT DESC"
            ],
            "metadata": {
                "language": "sql",
                "azdata_cell_guid": "77d16170-0159-4e1a-ab83-608d7ea7d704"
            },
            "outputs": [
                {
                    "output_type": "display_data",
                    "data": {
                        "text/html": "(8 rows affected)"
                    },
                    "metadata": {}
                },
                {
                    "output_type": "display_data",
                    "data": {
                        "text/html": "Total execution time: 00:00:00.004"
                    },
                    "metadata": {}
                },
                {
                    "output_type": "execute_result",
                    "execution_count": 27,
                    "data": {
                        "application/vnd.dataresource+json": {
                            "schema": {
                                "fields": [
                                    {
                                        "name": "Employee_id"
                                    },
                                    {
                                        "name": "First_name"
                                    },
                                    {
                                        "name": "Last_Name"
                                    },
                                    {
                                        "name": "Salary"
                                    },
                                    {
                                        "name": "Joining_date"
                                    },
                                    {
                                        "name": "Department"
                                    }
                                ]
                            },
                            "data": [
                                {
                                    "0": "1",
                                    "1": "Anika",
                                    "2": "Arora",
                                    "3": "100000",
                                    "4": "2020-02-14 09:00:00.0000000",
                                    "5": "HR"
                                },
                                {
                                    "0": "5",
                                    "1": "Bhupal",
                                    "2": "Bhati",
                                    "3": "500000",
                                    "4": "2011-06-18 09:00:00.0000000",
                                    "5": "Admin"
                                },
                                {
                                    "0": "8",
                                    "1": "Chandrika",
                                    "2": "Chauhan",
                                    "3": "90000",
                                    "4": "2011-04-15 09:00:00.0000000",
                                    "5": "Admin"
                                },
                                {
                                    "0": "6",
                                    "1": "Dheeraj",
                                    "2": "Diwan",
                                    "3": "200000",
                                    "4": "2011-06-19 09:00:00.0000000",
                                    "5": "Account"
                                },
                                {
                                    "0": "7",
                                    "1": "Karan",
                                    "2": "Kumar",
                                    "3": "75000",
                                    "4": "2020-01-14 09:00:00.0000000",
                                    "5": "Account"
                                },
                                {
                                    "0": "4",
                                    "1": "Sushanth",
                                    "2": "Singh",
                                    "3": "500000",
                                    "4": "2020-02-17 09:00:00.0000000",
                                    "5": "Admin"
                                },
                                {
                                    "0": "2",
                                    "1": "Veena",
                                    "2": "Verma",
                                    "3": "80000",
                                    "4": "2011-06-15 09:00:00.0000000",
                                    "5": "Admin"
                                },
                                {
                                    "0": "3",
                                    "1": "Vishal",
                                    "2": "Singhal",
                                    "3": "300000",
                                    "4": "2020-02-16 09:00:00.0000000",
                                    "5": "HR"
                                }
                            ]
                        },
                        "text/html": "<table><tr><th>Employee_id</th><th>First_name</th><th>Last_Name</th><th>Salary</th><th>Joining_date</th><th>Department</th></tr><tr><td>1</td><td>Anika</td><td>Arora</td><td>100000</td><td>2020-02-14 09:00:00.0000000</td><td>HR</td></tr><tr><td>5</td><td>Bhupal</td><td>Bhati</td><td>500000</td><td>2011-06-18 09:00:00.0000000</td><td>Admin</td></tr><tr><td>8</td><td>Chandrika</td><td>Chauhan</td><td>90000</td><td>2011-04-15 09:00:00.0000000</td><td>Admin</td></tr><tr><td>6</td><td>Dheeraj</td><td>Diwan</td><td>200000</td><td>2011-06-19 09:00:00.0000000</td><td>Account</td></tr><tr><td>7</td><td>Karan</td><td>Kumar</td><td>75000</td><td>2020-01-14 09:00:00.0000000</td><td>Account</td></tr><tr><td>4</td><td>Sushanth</td><td>Singh</td><td>500000</td><td>2020-02-17 09:00:00.0000000</td><td>Admin</td></tr><tr><td>2</td><td>Veena</td><td>Verma</td><td>80000</td><td>2011-06-15 09:00:00.0000000</td><td>Admin</td></tr><tr><td>3</td><td>Vishal</td><td>Singhal</td><td>300000</td><td>2020-02-16 09:00:00.0000000</td><td>HR</td></tr></table>"
                    },
                    "metadata": {}
                }
            ],
            "execution_count": 27
        },
        {
            "cell_type": "code",
            "source": [
                "-- 9 Display details for EMPLOYEE with the first name as “VEENA” and \r\n",
                "-- “KARAN” from EMPLOYEE table\r\n",
                "\r\n",
                "SELECT *\r\n",
                "FROM EMPLOYEEDETAILS\r\n",
                "WHERE FIRST_NAME IN ('VEENA','KARAN')"
            ],
            "metadata": {
                "language": "sql",
                "azdata_cell_guid": "f71328de-8036-477a-832d-468fd9fc746a"
            },
            "outputs": [
                {
                    "output_type": "display_data",
                    "data": {
                        "text/html": "(2 rows affected)"
                    },
                    "metadata": {}
                },
                {
                    "output_type": "display_data",
                    "data": {
                        "text/html": "Total execution time: 00:00:00.006"
                    },
                    "metadata": {}
                },
                {
                    "output_type": "execute_result",
                    "execution_count": 28,
                    "data": {
                        "application/vnd.dataresource+json": {
                            "schema": {
                                "fields": [
                                    {
                                        "name": "Employee_id"
                                    },
                                    {
                                        "name": "First_name"
                                    },
                                    {
                                        "name": "Last_Name"
                                    },
                                    {
                                        "name": "Salary"
                                    },
                                    {
                                        "name": "Joining_date"
                                    },
                                    {
                                        "name": "Department"
                                    }
                                ]
                            },
                            "data": [
                                {
                                    "0": "2",
                                    "1": "Veena",
                                    "2": "Verma",
                                    "3": "80000",
                                    "4": "2011-06-15 09:00:00.0000000",
                                    "5": "Admin"
                                },
                                {
                                    "0": "7",
                                    "1": "Karan",
                                    "2": "Kumar",
                                    "3": "75000",
                                    "4": "2020-01-14 09:00:00.0000000",
                                    "5": "Account"
                                }
                            ]
                        },
                        "text/html": "<table><tr><th>Employee_id</th><th>First_name</th><th>Last_Name</th><th>Salary</th><th>Joining_date</th><th>Department</th></tr><tr><td>2</td><td>Veena</td><td>Verma</td><td>80000</td><td>2011-06-15 09:00:00.0000000</td><td>Admin</td></tr><tr><td>7</td><td>Karan</td><td>Kumar</td><td>75000</td><td>2020-01-14 09:00:00.0000000</td><td>Account</td></tr></table>"
                    },
                    "metadata": {}
                }
            ],
            "execution_count": 28
        },
        {
            "cell_type": "code",
            "source": [
                "-- 10 Display details of EMPLOYEE with DEPARTMENT name as “Admin”.\r\n",
                "SELECT * FROM EMPLOYEEDETAILS WHERE DEPARTMENT='ADMIN'"
            ],
            "metadata": {
                "language": "sql",
                "azdata_cell_guid": "1d28b400-58b9-4e82-b6ea-780ad455ed22"
            },
            "outputs": [
                {
                    "output_type": "display_data",
                    "data": {
                        "text/html": "(4 rows affected)"
                    },
                    "metadata": {}
                },
                {
                    "output_type": "display_data",
                    "data": {
                        "text/html": "Total execution time: 00:00:00.003"
                    },
                    "metadata": {}
                },
                {
                    "output_type": "execute_result",
                    "execution_count": 29,
                    "data": {
                        "application/vnd.dataresource+json": {
                            "schema": {
                                "fields": [
                                    {
                                        "name": "Employee_id"
                                    },
                                    {
                                        "name": "First_name"
                                    },
                                    {
                                        "name": "Last_Name"
                                    },
                                    {
                                        "name": "Salary"
                                    },
                                    {
                                        "name": "Joining_date"
                                    },
                                    {
                                        "name": "Department"
                                    }
                                ]
                            },
                            "data": [
                                {
                                    "0": "2",
                                    "1": "Veena",
                                    "2": "Verma",
                                    "3": "80000",
                                    "4": "2011-06-15 09:00:00.0000000",
                                    "5": "Admin"
                                },
                                {
                                    "0": "4",
                                    "1": "Sushanth",
                                    "2": "Singh",
                                    "3": "500000",
                                    "4": "2020-02-17 09:00:00.0000000",
                                    "5": "Admin"
                                },
                                {
                                    "0": "5",
                                    "1": "Bhupal",
                                    "2": "Bhati",
                                    "3": "500000",
                                    "4": "2011-06-18 09:00:00.0000000",
                                    "5": "Admin"
                                },
                                {
                                    "0": "8",
                                    "1": "Chandrika",
                                    "2": "Chauhan",
                                    "3": "90000",
                                    "4": "2011-04-15 09:00:00.0000000",
                                    "5": "Admin"
                                }
                            ]
                        },
                        "text/html": "<table><tr><th>Employee_id</th><th>First_name</th><th>Last_Name</th><th>Salary</th><th>Joining_date</th><th>Department</th></tr><tr><td>2</td><td>Veena</td><td>Verma</td><td>80000</td><td>2011-06-15 09:00:00.0000000</td><td>Admin</td></tr><tr><td>4</td><td>Sushanth</td><td>Singh</td><td>500000</td><td>2020-02-17 09:00:00.0000000</td><td>Admin</td></tr><tr><td>5</td><td>Bhupal</td><td>Bhati</td><td>500000</td><td>2011-06-18 09:00:00.0000000</td><td>Admin</td></tr><tr><td>8</td><td>Chandrika</td><td>Chauhan</td><td>90000</td><td>2011-04-15 09:00:00.0000000</td><td>Admin</td></tr></table>"
                    },
                    "metadata": {}
                }
            ],
            "execution_count": 29
        },
        {
            "cell_type": "code",
            "source": [
                "-- 11 DISPLAY details of the EMPLOYEES whose FIRST_NAME contains ‘V’.\r\n",
                "SELECT * FROM EMPLOYEEDETAILS WHERE FIRST_NAME LIKE '%v%'"
            ],
            "metadata": {
                "language": "sql",
                "azdata_cell_guid": "81fa857f-06fb-402c-aebc-ec58e3668fdc"
            },
            "outputs": [
                {
                    "output_type": "display_data",
                    "data": {
                        "text/html": "(2 rows affected)"
                    },
                    "metadata": {}
                },
                {
                    "output_type": "display_data",
                    "data": {
                        "text/html": "Total execution time: 00:00:00.002"
                    },
                    "metadata": {}
                },
                {
                    "output_type": "execute_result",
                    "execution_count": 32,
                    "data": {
                        "application/vnd.dataresource+json": {
                            "schema": {
                                "fields": [
                                    {
                                        "name": "Employee_id"
                                    },
                                    {
                                        "name": "First_name"
                                    },
                                    {
                                        "name": "Last_Name"
                                    },
                                    {
                                        "name": "Salary"
                                    },
                                    {
                                        "name": "Joining_date"
                                    },
                                    {
                                        "name": "Department"
                                    }
                                ]
                            },
                            "data": [
                                {
                                    "0": "2",
                                    "1": "Veena",
                                    "2": "Verma",
                                    "3": "80000",
                                    "4": "2011-06-15 09:00:00.0000000",
                                    "5": "Admin"
                                },
                                {
                                    "0": "3",
                                    "1": "Vishal",
                                    "2": "Singhal",
                                    "3": "300000",
                                    "4": "2020-02-16 09:00:00.0000000",
                                    "5": "HR"
                                }
                            ]
                        },
                        "text/html": "<table><tr><th>Employee_id</th><th>First_name</th><th>Last_Name</th><th>Salary</th><th>Joining_date</th><th>Department</th></tr><tr><td>2</td><td>Veena</td><td>Verma</td><td>80000</td><td>2011-06-15 09:00:00.0000000</td><td>Admin</td></tr><tr><td>3</td><td>Vishal</td><td>Singhal</td><td>300000</td><td>2020-02-16 09:00:00.0000000</td><td>HR</td></tr></table>"
                    },
                    "metadata": {}
                }
            ],
            "execution_count": 32
        },
        {
            "cell_type": "code",
            "source": [
                "-- 12 DISPLAY details of the EMPLOYEES whose SALARY lies between \r\n",
                "-- 100000 and 500000.\r\n",
                "SELECT *\r\n",
                "FROM EMPLOYEEDETAILS\r\n",
                "WHERE SALARY BETWEEN 100000 AND 500000"
            ],
            "metadata": {
                "language": "sql",
                "azdata_cell_guid": "fc8c0563-bf1e-4fc0-82aa-f544bc3a8a88"
            },
            "outputs": [
                {
                    "output_type": "display_data",
                    "data": {
                        "text/html": "(5 rows affected)"
                    },
                    "metadata": {}
                },
                {
                    "output_type": "display_data",
                    "data": {
                        "text/html": "Total execution time: 00:00:00.008"
                    },
                    "metadata": {}
                },
                {
                    "output_type": "execute_result",
                    "execution_count": 33,
                    "data": {
                        "application/vnd.dataresource+json": {
                            "schema": {
                                "fields": [
                                    {
                                        "name": "Employee_id"
                                    },
                                    {
                                        "name": "First_name"
                                    },
                                    {
                                        "name": "Last_Name"
                                    },
                                    {
                                        "name": "Salary"
                                    },
                                    {
                                        "name": "Joining_date"
                                    },
                                    {
                                        "name": "Department"
                                    }
                                ]
                            },
                            "data": [
                                {
                                    "0": "1",
                                    "1": "Anika",
                                    "2": "Arora",
                                    "3": "100000",
                                    "4": "2020-02-14 09:00:00.0000000",
                                    "5": "HR"
                                },
                                {
                                    "0": "3",
                                    "1": "Vishal",
                                    "2": "Singhal",
                                    "3": "300000",
                                    "4": "2020-02-16 09:00:00.0000000",
                                    "5": "HR"
                                },
                                {
                                    "0": "4",
                                    "1": "Sushanth",
                                    "2": "Singh",
                                    "3": "500000",
                                    "4": "2020-02-17 09:00:00.0000000",
                                    "5": "Admin"
                                },
                                {
                                    "0": "5",
                                    "1": "Bhupal",
                                    "2": "Bhati",
                                    "3": "500000",
                                    "4": "2011-06-18 09:00:00.0000000",
                                    "5": "Admin"
                                },
                                {
                                    "0": "6",
                                    "1": "Dheeraj",
                                    "2": "Diwan",
                                    "3": "200000",
                                    "4": "2011-06-19 09:00:00.0000000",
                                    "5": "Account"
                                }
                            ]
                        },
                        "text/html": "<table><tr><th>Employee_id</th><th>First_name</th><th>Last_Name</th><th>Salary</th><th>Joining_date</th><th>Department</th></tr><tr><td>1</td><td>Anika</td><td>Arora</td><td>100000</td><td>2020-02-14 09:00:00.0000000</td><td>HR</td></tr><tr><td>3</td><td>Vishal</td><td>Singhal</td><td>300000</td><td>2020-02-16 09:00:00.0000000</td><td>HR</td></tr><tr><td>4</td><td>Sushanth</td><td>Singh</td><td>500000</td><td>2020-02-17 09:00:00.0000000</td><td>Admin</td></tr><tr><td>5</td><td>Bhupal</td><td>Bhati</td><td>500000</td><td>2011-06-18 09:00:00.0000000</td><td>Admin</td></tr><tr><td>6</td><td>Dheeraj</td><td>Diwan</td><td>200000</td><td>2011-06-19 09:00:00.0000000</td><td>Account</td></tr></table>"
                    },
                    "metadata": {}
                }
            ],
            "execution_count": 33
        },
        {
            "cell_type": "code",
            "source": [
                "-- 13 Display details of the employees who have joined in Feb-2020.\r\n",
                "SELECT * FROM EMPLOYEEDETAILS WHERE JOINING_DATE BETWEEN '2020-02-01' AND '2020-02-29'"
            ],
            "metadata": {
                "language": "sql",
                "azdata_cell_guid": "237adb8e-7f9f-425b-8686-eef7be024e7b"
            },
            "outputs": [
                {
                    "output_type": "display_data",
                    "data": {
                        "text/html": "(3 rows affected)"
                    },
                    "metadata": {}
                },
                {
                    "output_type": "display_data",
                    "data": {
                        "text/html": "Total execution time: 00:00:00.005"
                    },
                    "metadata": {}
                },
                {
                    "output_type": "execute_result",
                    "execution_count": 36,
                    "data": {
                        "application/vnd.dataresource+json": {
                            "schema": {
                                "fields": [
                                    {
                                        "name": "Employee_id"
                                    },
                                    {
                                        "name": "First_name"
                                    },
                                    {
                                        "name": "Last_Name"
                                    },
                                    {
                                        "name": "Salary"
                                    },
                                    {
                                        "name": "Joining_date"
                                    },
                                    {
                                        "name": "Department"
                                    }
                                ]
                            },
                            "data": [
                                {
                                    "0": "1",
                                    "1": "Anika",
                                    "2": "Arora",
                                    "3": "100000",
                                    "4": "2020-02-14 09:00:00.0000000",
                                    "5": "HR"
                                },
                                {
                                    "0": "3",
                                    "1": "Vishal",
                                    "2": "Singhal",
                                    "3": "300000",
                                    "4": "2020-02-16 09:00:00.0000000",
                                    "5": "HR"
                                },
                                {
                                    "0": "4",
                                    "1": "Sushanth",
                                    "2": "Singh",
                                    "3": "500000",
                                    "4": "2020-02-17 09:00:00.0000000",
                                    "5": "Admin"
                                }
                            ]
                        },
                        "text/html": "<table><tr><th>Employee_id</th><th>First_name</th><th>Last_Name</th><th>Salary</th><th>Joining_date</th><th>Department</th></tr><tr><td>1</td><td>Anika</td><td>Arora</td><td>100000</td><td>2020-02-14 09:00:00.0000000</td><td>HR</td></tr><tr><td>3</td><td>Vishal</td><td>Singhal</td><td>300000</td><td>2020-02-16 09:00:00.0000000</td><td>HR</td></tr><tr><td>4</td><td>Sushanth</td><td>Singh</td><td>500000</td><td>2020-02-17 09:00:00.0000000</td><td>Admin</td></tr></table>"
                    },
                    "metadata": {}
                }
            ],
            "execution_count": 36
        },
        {
            "cell_type": "code",
            "source": [
                "-- 14 Display employee names with salaries >= 50000 and <= 100000.\r\n",
                "SELECT FIRST_NAME FROM EMPLOYEEDETAILS WHERE Salary >= 50000 AND Salary <= 100000"
            ],
            "metadata": {
                "language": "sql",
                "azdata_cell_guid": "237eb95f-a03d-41c4-8b18-889e24e0e85e"
            },
            "outputs": [
                {
                    "output_type": "display_data",
                    "data": {
                        "text/html": "(4 rows affected)"
                    },
                    "metadata": {}
                },
                {
                    "output_type": "display_data",
                    "data": {
                        "text/html": "Total execution time: 00:00:00.002"
                    },
                    "metadata": {}
                },
                {
                    "output_type": "execute_result",
                    "execution_count": 37,
                    "data": {
                        "application/vnd.dataresource+json": {
                            "schema": {
                                "fields": [
                                    {
                                        "name": "FIRST_NAME"
                                    }
                                ]
                            },
                            "data": [
                                {
                                    "0": "Anika"
                                },
                                {
                                    "0": "Veena"
                                },
                                {
                                    "0": "Karan"
                                },
                                {
                                    "0": "Chandrika"
                                }
                            ]
                        },
                        "text/html": "<table><tr><th>FIRST_NAME</th></tr><tr><td>Anika</td></tr><tr><td>Veena</td></tr><tr><td>Karan</td></tr><tr><td>Chandrika</td></tr></table>"
                    },
                    "metadata": {}
                }
            ],
            "execution_count": 37
        },
        {
            "cell_type": "code",
            "source": [
                "-- 16 DISPLAY details of the EMPLOYEES who are also Managers.\r\n",
                "SELECT *\r\n",
                "FROM EmployeeDetails ED JOIN EmployeeTitle ET ON  ED.Employee_id=ET.Employee_ref_id\r\n",
                "WHERE ET.Employee_title='MANAGER'"
            ],
            "metadata": {
                "language": "sql",
                "azdata_cell_guid": "7ffd7b23-e173-49f3-8d74-91dbbe0c4671"
            },
            "outputs": [
                {
                    "output_type": "display_data",
                    "data": {
                        "text/html": "(2 rows affected)"
                    },
                    "metadata": {}
                },
                {
                    "output_type": "display_data",
                    "data": {
                        "text/html": "Total execution time: 00:00:00.012"
                    },
                    "metadata": {}
                },
                {
                    "output_type": "execute_result",
                    "execution_count": 39,
                    "data": {
                        "application/vnd.dataresource+json": {
                            "schema": {
                                "fields": [
                                    {
                                        "name": "Employee_id"
                                    },
                                    {
                                        "name": "First_name"
                                    },
                                    {
                                        "name": "Last_Name"
                                    },
                                    {
                                        "name": "Salary"
                                    },
                                    {
                                        "name": "Joining_date"
                                    },
                                    {
                                        "name": "Department"
                                    },
                                    {
                                        "name": "Employee_ref_id"
                                    },
                                    {
                                        "name": "Employee_title"
                                    },
                                    {
                                        "name": "Affective_Date"
                                    }
                                ]
                            },
                            "data": [
                                {
                                    "0": "1",
                                    "1": "Anika",
                                    "2": "Arora",
                                    "3": "100000",
                                    "4": "2020-02-14 09:00:00.0000000",
                                    "5": "HR",
                                    "6": "1",
                                    "7": "Manager",
                                    "8": "2016-02-20 00:00:00.0000000"
                                },
                                {
                                    "0": "5",
                                    "1": "Bhupal",
                                    "2": "Bhati",
                                    "3": "500000",
                                    "4": "2011-06-18 09:00:00.0000000",
                                    "5": "Admin",
                                    "6": "5",
                                    "7": "Manager",
                                    "8": "2016-06-11 00:00:00.0000000"
                                }
                            ]
                        },
                        "text/html": "<table><tr><th>Employee_id</th><th>First_name</th><th>Last_Name</th><th>Salary</th><th>Joining_date</th><th>Department</th><th>Employee_ref_id</th><th>Employee_title</th><th>Affective_Date</th></tr><tr><td>1</td><td>Anika</td><td>Arora</td><td>100000</td><td>2020-02-14 09:00:00.0000000</td><td>HR</td><td>1</td><td>Manager</td><td>2016-02-20 00:00:00.0000000</td></tr><tr><td>5</td><td>Bhupal</td><td>Bhati</td><td>500000</td><td>2011-06-18 09:00:00.0000000</td><td>Admin</td><td>5</td><td>Manager</td><td>2016-06-11 00:00:00.0000000</td></tr></table>"
                    },
                    "metadata": {}
                }
            ],
            "execution_count": 39
        },
        {
            "cell_type": "markdown",
            "source": [
                "-- 17 DISPLAY duplicate records having matching data in some fields of a table.\r\n",
                "\r\n",
                "-- ?? PLEASE EXPLAIN ABOEVE PRONBLEM STATEMENT"
            ],
            "metadata": {
                "language": "",
                "azdata_cell_guid": "6eed4909-dcdc-4ccd-aa91-2fb464b3c72f",
                "tags": []
            },
            "attachments": {}
        },
        {
            "cell_type": "code",
            "source": [
                "-- 18 Display only odd rows from a table.\r\n",
                "SELECT *\r\n",
                "FROM (SELECT ROW_NUMBER() OVER(ORDER BY EMPLOYEE_ID) AS RN,*\r\n",
                "    FROM EmployeeDetailS) A\r\n",
                "WHERE rn%2=1"
            ],
            "metadata": {
                "language": "sql",
                "azdata_cell_guid": "07cbc356-7155-4935-a636-e58ed06ee702"
            },
            "outputs": [
                {
                    "output_type": "display_data",
                    "data": {
                        "text/html": "(4 rows affected)"
                    },
                    "metadata": {}
                },
                {
                    "output_type": "display_data",
                    "data": {
                        "text/html": "Total execution time: 00:00:00.003"
                    },
                    "metadata": {}
                },
                {
                    "output_type": "execute_result",
                    "execution_count": 48,
                    "data": {
                        "application/vnd.dataresource+json": {
                            "schema": {
                                "fields": [
                                    {
                                        "name": "RN"
                                    },
                                    {
                                        "name": "Employee_id"
                                    },
                                    {
                                        "name": "First_name"
                                    },
                                    {
                                        "name": "Last_Name"
                                    },
                                    {
                                        "name": "Salary"
                                    },
                                    {
                                        "name": "Joining_date"
                                    },
                                    {
                                        "name": "Department"
                                    }
                                ]
                            },
                            "data": [
                                {
                                    "0": "1",
                                    "1": "1",
                                    "2": "Anika",
                                    "3": "Arora",
                                    "4": "100000",
                                    "5": "2020-02-14 09:00:00.0000000",
                                    "6": "HR"
                                },
                                {
                                    "0": "3",
                                    "1": "3",
                                    "2": "Vishal",
                                    "3": "Singhal",
                                    "4": "300000",
                                    "5": "2020-02-16 09:00:00.0000000",
                                    "6": "HR"
                                },
                                {
                                    "0": "5",
                                    "1": "5",
                                    "2": "Bhupal",
                                    "3": "Bhati",
                                    "4": "500000",
                                    "5": "2011-06-18 09:00:00.0000000",
                                    "6": "Admin"
                                },
                                {
                                    "0": "7",
                                    "1": "7",
                                    "2": "Karan",
                                    "3": "Kumar",
                                    "4": "75000",
                                    "5": "2020-01-14 09:00:00.0000000",
                                    "6": "Account"
                                }
                            ]
                        },
                        "text/html": "<table><tr><th>RN</th><th>Employee_id</th><th>First_name</th><th>Last_Name</th><th>Salary</th><th>Joining_date</th><th>Department</th></tr><tr><td>1</td><td>1</td><td>Anika</td><td>Arora</td><td>100000</td><td>2020-02-14 09:00:00.0000000</td><td>HR</td></tr><tr><td>3</td><td>3</td><td>Vishal</td><td>Singhal</td><td>300000</td><td>2020-02-16 09:00:00.0000000</td><td>HR</td></tr><tr><td>5</td><td>5</td><td>Bhupal</td><td>Bhati</td><td>500000</td><td>2011-06-18 09:00:00.0000000</td><td>Admin</td></tr><tr><td>7</td><td>7</td><td>Karan</td><td>Kumar</td><td>75000</td><td>2020-01-14 09:00:00.0000000</td><td>Account</td></tr></table>"
                    },
                    "metadata": {}
                }
            ],
            "execution_count": 48
        },
        {
            "cell_type": "code",
            "source": [
                "-- 19 Clone a new table from EMPLOYEE table.\r\n",
                "SELECT *\n",
                "INTO #EMPLOYEE\n",
                "FROM EmployeeDetails\r\n",
                ""
            ],
            "metadata": {
                "language": "sql",
                "azdata_cell_guid": "fbd249be-8614-4f13-85ea-6f47d5f38f7a",
                "tags": []
            },
            "outputs": [
                {
                    "output_type": "error",
                    "ename": "",
                    "evalue": "Msg 2714, Level 16, State 6, Line 2\r\nThere is already an object named '#EMPLOYEE' in the database.",
                    "traceback": []
                },
                {
                    "output_type": "display_data",
                    "data": {
                        "text/html": "Total execution time: 00:00:00.006"
                    },
                    "metadata": {}
                }
            ],
            "execution_count": 52
        },
        {
            "cell_type": "code",
            "source": [
                "-- 20 DISPLAY the TOP 2 highest salary from a table.\r\n",
                "SELECT TOP(2)\r\n",
                "    SALARY\r\n",
                "FROM EmployeeDetails\r\n",
                "ORDER BY Salary DESC"
            ],
            "metadata": {
                "language": "sql",
                "azdata_cell_guid": "12ceec99-636e-4da2-82ef-2d9e14e99ca6"
            },
            "outputs": [
                {
                    "output_type": "display_data",
                    "data": {
                        "text/html": "(2 rows affected)"
                    },
                    "metadata": {}
                },
                {
                    "output_type": "display_data",
                    "data": {
                        "text/html": "Total execution time: 00:00:00.003"
                    },
                    "metadata": {}
                },
                {
                    "output_type": "execute_result",
                    "execution_count": 54,
                    "data": {
                        "application/vnd.dataresource+json": {
                            "schema": {
                                "fields": [
                                    {
                                        "name": "SALARY"
                                    }
                                ]
                            },
                            "data": [
                                {
                                    "0": "500000"
                                },
                                {
                                    "0": "500000"
                                }
                            ]
                        },
                        "text/html": "<table><tr><th>SALARY</th></tr><tr><td>500000</td></tr><tr><td>500000</td></tr></table>"
                    },
                    "metadata": {}
                }
            ],
            "execution_count": 54
        },
        {
            "cell_type": "markdown",
            "source": [
                "-- 21. DISPLAY the list of employees with the same salary.\r\n",
                "SELECT * FROM EMPLOYEEDETAILS WHERE SALARY = (SELECT SALARY, COUNT(SALARY) AS CNT\r\n",
                "FROM EmployeeDetails\r\n",
                "GROUP BY Salary\r\n",
                "HAVING COUNT(SALARY) >1)"
            ],
            "metadata": {
                "language": "",
                "azdata_cell_guid": "5545f647-ee29-4694-8e78-449cdae4193c",
                "tags": [
                    "parameters"
                ]
            },
            "attachments": {}
        },
        {
            "cell_type": "code",
            "source": [
                "-- 22 Display the second highest salary from a table.\r\n",
                "SELECT MAX(salary) as second_highest_salary\r\n",
                "FROM (\r\n",
                "    SELECT DENSE_RANK() OVER (ORDER BY salary DESC) as salary_rank, salary\r\n",
                "    FROM #EMPLOYEE\r\n",
                ") sub_query\r\n",
                "WHERE salary_rank = 2;"
            ],
            "metadata": {
                "azdata_cell_guid": "fcdc4221-ca71-494f-9a59-889480e1d8c0",
                "language": "sql"
            },
            "outputs": [
                {
                    "output_type": "display_data",
                    "data": {
                        "text/html": "(1 row affected)"
                    },
                    "metadata": {}
                },
                {
                    "output_type": "display_data",
                    "data": {
                        "text/html": "Total execution time: 00:00:00.003"
                    },
                    "metadata": {}
                },
                {
                    "output_type": "execute_result",
                    "execution_count": 72,
                    "data": {
                        "application/vnd.dataresource+json": {
                            "schema": {
                                "fields": [
                                    {
                                        "name": "second_highest_salary"
                                    }
                                ]
                            },
                            "data": [
                                {
                                    "0": "300000"
                                }
                            ]
                        },
                        "text/html": "<table><tr><th>second_highest_salary</th></tr><tr><td>300000</td></tr></table>"
                    },
                    "metadata": {}
                }
            ],
            "execution_count": 72
        },
        {
            "cell_type": "code",
            "source": [
                "-- 23 Display the first 50% records from a table.\r\n",
                "SELECT TOP 50 PERCENT * FROM EmployeeDetails"
            ],
            "metadata": {
                "language": "sql",
                "azdata_cell_guid": "daff74d8-0581-4f4d-92c3-0ce66f04465f"
            },
            "outputs": [
                {
                    "output_type": "display_data",
                    "data": {
                        "text/html": "(4 rows affected)"
                    },
                    "metadata": {}
                },
                {
                    "output_type": "display_data",
                    "data": {
                        "text/html": "Total execution time: 00:00:00.002"
                    },
                    "metadata": {}
                },
                {
                    "output_type": "execute_result",
                    "execution_count": 75,
                    "data": {
                        "application/vnd.dataresource+json": {
                            "schema": {
                                "fields": [
                                    {
                                        "name": "Employee_id"
                                    },
                                    {
                                        "name": "First_name"
                                    },
                                    {
                                        "name": "Last_Name"
                                    },
                                    {
                                        "name": "Salary"
                                    },
                                    {
                                        "name": "Joining_date"
                                    },
                                    {
                                        "name": "Department"
                                    }
                                ]
                            },
                            "data": [
                                {
                                    "0": "1",
                                    "1": "Anika",
                                    "2": "Arora",
                                    "3": "100000",
                                    "4": "2020-02-14 09:00:00.0000000",
                                    "5": "HR"
                                },
                                {
                                    "0": "2",
                                    "1": "Veena",
                                    "2": "Verma",
                                    "3": "80000",
                                    "4": "2011-06-15 09:00:00.0000000",
                                    "5": "Admin"
                                },
                                {
                                    "0": "3",
                                    "1": "Vishal",
                                    "2": "Singhal",
                                    "3": "300000",
                                    "4": "2020-02-16 09:00:00.0000000",
                                    "5": "HR"
                                },
                                {
                                    "0": "4",
                                    "1": "Sushanth",
                                    "2": "Singh",
                                    "3": "500000",
                                    "4": "2020-02-17 09:00:00.0000000",
                                    "5": "Admin"
                                }
                            ]
                        },
                        "text/html": "<table><tr><th>Employee_id</th><th>First_name</th><th>Last_Name</th><th>Salary</th><th>Joining_date</th><th>Department</th></tr><tr><td>1</td><td>Anika</td><td>Arora</td><td>100000</td><td>2020-02-14 09:00:00.0000000</td><td>HR</td></tr><tr><td>2</td><td>Veena</td><td>Verma</td><td>80000</td><td>2011-06-15 09:00:00.0000000</td><td>Admin</td></tr><tr><td>3</td><td>Vishal</td><td>Singhal</td><td>300000</td><td>2020-02-16 09:00:00.0000000</td><td>HR</td></tr><tr><td>4</td><td>Sushanth</td><td>Singh</td><td>500000</td><td>2020-02-17 09:00:00.0000000</td><td>Admin</td></tr></table>"
                    },
                    "metadata": {}
                }
            ],
            "execution_count": 75
        },
        {
            "cell_type": "code",
            "source": [
                "-- 24. Display the departments that have less than 4 people in it.\r\n",
                "SELECT DEPARTMENT FROM EmployeeDetails GROUP BY Department HAVING COUNT(DEPARTMENT)<4"
            ],
            "metadata": {
                "language": "sql",
                "azdata_cell_guid": "f5a05236-afbb-4610-821c-bdae7f9289d1",
                "tags": []
            },
            "outputs": [
                {
                    "output_type": "display_data",
                    "data": {
                        "text/html": "(2 rows affected)"
                    },
                    "metadata": {}
                },
                {
                    "output_type": "display_data",
                    "data": {
                        "text/html": "Total execution time: 00:00:00.003"
                    },
                    "metadata": {}
                },
                {
                    "output_type": "execute_result",
                    "execution_count": 80,
                    "data": {
                        "application/vnd.dataresource+json": {
                            "schema": {
                                "fields": [
                                    {
                                        "name": "DEPARTMENT"
                                    }
                                ]
                            },
                            "data": [
                                {
                                    "0": "Account"
                                },
                                {
                                    "0": "HR"
                                }
                            ]
                        },
                        "text/html": "<table><tr><th>DEPARTMENT</th></tr><tr><td>Account</td></tr><tr><td>HR</td></tr></table>"
                    },
                    "metadata": {}
                }
            ],
            "execution_count": 80
        },
        {
            "cell_type": "code",
            "source": [
                "-- 25. Display all departments along with the number of people in there.\r\n",
                "SELECT Department,COUNT(*) AS NO_OF_PEOPLEE FROM EmployeeDetails GROUP BY Department"
            ],
            "metadata": {
                "language": "sql",
                "azdata_cell_guid": "b8b19d32-24ab-4b0a-a284-2eeb8f63e6df"
            },
            "outputs": [
                {
                    "output_type": "display_data",
                    "data": {
                        "text/html": "(3 rows affected)"
                    },
                    "metadata": {}
                },
                {
                    "output_type": "display_data",
                    "data": {
                        "text/html": "Total execution time: 00:00:00.003"
                    },
                    "metadata": {}
                },
                {
                    "output_type": "execute_result",
                    "execution_count": 83,
                    "data": {
                        "application/vnd.dataresource+json": {
                            "schema": {
                                "fields": [
                                    {
                                        "name": "Department"
                                    },
                                    {
                                        "name": "NO_OF_PEOPLEE"
                                    }
                                ]
                            },
                            "data": [
                                {
                                    "0": "Account",
                                    "1": "2"
                                },
                                {
                                    "0": "Admin",
                                    "1": "4"
                                },
                                {
                                    "0": "HR",
                                    "1": "2"
                                }
                            ]
                        },
                        "text/html": "<table><tr><th>Department</th><th>NO_OF_PEOPLEE</th></tr><tr><td>Account</td><td>2</td></tr><tr><td>Admin</td><td>4</td></tr><tr><td>HR</td><td>2</td></tr></table>"
                    },
                    "metadata": {}
                }
            ],
            "execution_count": 83
        },
        {
            "cell_type": "code",
            "source": [
                "-- 26 Display the name of employees having the highest salary in each \r\n",
                "-- department.\r\n",
                "SELECT FIRST_NAME, ED.DEPARTMENT, SALARY\r\n",
                "FROM EmployeeDetails ED INNER JOIN\r\n",
                "    (SELECT DEPARTMENT, MAX(Salary) AS MAX_SAL\r\n",
                "    FROM EmployeeDetails\r\n",
                "    GROUP BY Department) MS ON ED.DEPARTMENT=MS.Department AND ED.Salary=MS.MAX_SAL"
            ],
            "metadata": {
                "language": "sql",
                "azdata_cell_guid": "195ad091-0470-432a-b54a-6ba57c210c64"
            },
            "outputs": [
                {
                    "output_type": "display_data",
                    "data": {
                        "text/html": "(4 rows affected)"
                    },
                    "metadata": {}
                },
                {
                    "output_type": "display_data",
                    "data": {
                        "text/html": "Total execution time: 00:00:00.006"
                    },
                    "metadata": {}
                },
                {
                    "output_type": "execute_result",
                    "execution_count": 90,
                    "data": {
                        "application/vnd.dataresource+json": {
                            "schema": {
                                "fields": [
                                    {
                                        "name": "FIRST_NAME"
                                    },
                                    {
                                        "name": "DEPARTMENT"
                                    },
                                    {
                                        "name": "SALARY"
                                    }
                                ]
                            },
                            "data": [
                                {
                                    "0": "Vishal",
                                    "1": "HR",
                                    "2": "300000"
                                },
                                {
                                    "0": "Sushanth",
                                    "1": "Admin",
                                    "2": "500000"
                                },
                                {
                                    "0": "Bhupal",
                                    "1": "Admin",
                                    "2": "500000"
                                },
                                {
                                    "0": "Dheeraj",
                                    "1": "Account",
                                    "2": "200000"
                                }
                            ]
                        },
                        "text/html": "<table><tr><th>FIRST_NAME</th><th>DEPARTMENT</th><th>SALARY</th></tr><tr><td>Vishal</td><td>HR</td><td>300000</td></tr><tr><td>Sushanth</td><td>Admin</td><td>500000</td></tr><tr><td>Bhupal</td><td>Admin</td><td>500000</td></tr><tr><td>Dheeraj</td><td>Account</td><td>200000</td></tr></table>"
                    },
                    "metadata": {}
                }
            ],
            "execution_count": 90
        },
        {
            "cell_type": "code",
            "source": [
                "-- 27 Display the names of employees who earn the highest salary.\r\n",
                "SELECT FIRST_NAME\r\n",
                "FROM EmployeeDetails\r\n",
                "WHERE Salary=(SELECT MAX(SALARY) MAX_SAL\r\n",
                "FROM EmployeeDetails)"
            ],
            "metadata": {
                "language": "sql",
                "azdata_cell_guid": "57316e2e-7e0f-4349-ad71-6f33d7b2c847"
            },
            "outputs": [
                {
                    "output_type": "display_data",
                    "data": {
                        "text/html": "(2 rows affected)"
                    },
                    "metadata": {}
                },
                {
                    "output_type": "display_data",
                    "data": {
                        "text/html": "Total execution time: 00:00:00.003"
                    },
                    "metadata": {}
                },
                {
                    "output_type": "execute_result",
                    "execution_count": 96,
                    "data": {
                        "application/vnd.dataresource+json": {
                            "schema": {
                                "fields": [
                                    {
                                        "name": "FIRST_NAME"
                                    }
                                ]
                            },
                            "data": [
                                {
                                    "0": "Sushanth"
                                },
                                {
                                    "0": "Bhupal"
                                }
                            ]
                        },
                        "text/html": "<table><tr><th>FIRST_NAME</th></tr><tr><td>Sushanth</td></tr><tr><td>Bhupal</td></tr></table>"
                    },
                    "metadata": {}
                }
            ],
            "execution_count": 96
        },
        {
            "cell_type": "code",
            "source": [
                "-- 28 Diplay the average salaries for each department\r\n",
                "SELECT Department,AVG(SALARY) FROM EmployeeDetails GROUP BY Department"
            ],
            "metadata": {
                "language": "sql",
                "azdata_cell_guid": "f9dc294a-b63b-495d-8d9a-67fd7516f84d"
            },
            "outputs": [
                {
                    "output_type": "display_data",
                    "data": {
                        "text/html": "(3 rows affected)"
                    },
                    "metadata": {}
                },
                {
                    "output_type": "display_data",
                    "data": {
                        "text/html": "Total execution time: 00:00:00.004"
                    },
                    "metadata": {}
                },
                {
                    "output_type": "execute_result",
                    "execution_count": 99,
                    "data": {
                        "application/vnd.dataresource+json": {
                            "schema": {
                                "fields": [
                                    {
                                        "name": "Department"
                                    },
                                    {
                                        "name": "(No column name)"
                                    }
                                ]
                            },
                            "data": [
                                {
                                    "0": "Account",
                                    "1": "137500"
                                },
                                {
                                    "0": "Admin",
                                    "1": "292500"
                                },
                                {
                                    "0": "HR",
                                    "1": "200000"
                                }
                            ]
                        },
                        "text/html": "<table><tr><th>Department</th><th>(No column name)</th></tr><tr><td>Account</td><td>137500</td></tr><tr><td>Admin</td><td>292500</td></tr><tr><td>HR</td><td>200000</td></tr></table>"
                    },
                    "metadata": {}
                }
            ],
            "execution_count": 99
        },
        {
            "cell_type": "code",
            "source": [
                "-- 29 display the name of the employee who has got maximum bonus\r\n",
                "-- SELECT FIRST_NAME FROM EmployeeDetails WHERE EMPLOYEE_ID IN (SELECT Employee_ref_id_FK,MAX(Bonus_Amount) BA FROM EmployeeBonus)\r\n",
                "SELECT Employee_ref_id_FK\r\n",
                "FROM EmployeeTitle\r\n",
                "WHERE BONUS=(SELECT MAX(Bonus_Amount) BA\r\n",
                "FROM EmployeeBonus)"
            ],
            "metadata": {
                "language": "sql",
                "azdata_cell_guid": "192e0528-6bc3-4490-9d7d-b6274beac43c",
                "tags": []
            },
            "outputs": [
                {
                    "output_type": "error",
                    "ename": "",
                    "evalue": "Msg 8120, Level 16, State 1, Line 3\r\nColumn 'EmployeeBonus.Employee_ref_id_FK' is invalid in the select list because it is not contained in either an aggregate function or the GROUP BY clause.",
                    "traceback": []
                },
                {
                    "output_type": "display_data",
                    "data": {
                        "text/html": "Total execution time: 00:00:00"
                    },
                    "metadata": {}
                }
            ],
            "execution_count": 107
        },
        {
            "cell_type": "code",
            "source": [
                "-- 30 Display the first name and title of all the employees\r\n",
                "SELECT FIRST_NAME, ET.Employee_title\r\n",
                "FROM EmployeeDetails ED INNER JOIN EmployeeTitle ET ON ED.Employee_id=ET.Employee_ref_id"
            ],
            "metadata": {
                "language": "sql",
                "azdata_cell_guid": "5b97dff4-ba34-4dd5-8f4c-765560498624"
            },
            "outputs": [
                {
                    "output_type": "display_data",
                    "data": {
                        "text/html": "(8 rows affected)"
                    },
                    "metadata": {}
                },
                {
                    "output_type": "display_data",
                    "data": {
                        "text/html": "Total execution time: 00:00:00.003"
                    },
                    "metadata": {}
                },
                {
                    "output_type": "execute_result",
                    "execution_count": 101,
                    "data": {
                        "application/vnd.dataresource+json": {
                            "schema": {
                                "fields": [
                                    {
                                        "name": "FIRST_NAME"
                                    },
                                    {
                                        "name": "Employee_title"
                                    }
                                ]
                            },
                            "data": [
                                {
                                    "0": "Anika",
                                    "1": "Manager"
                                },
                                {
                                    "0": "Veena",
                                    "1": "Executive"
                                },
                                {
                                    "0": "Chandrika",
                                    "1": "Executive"
                                },
                                {
                                    "0": "Bhupal",
                                    "1": "Manager"
                                },
                                {
                                    "0": "Sushanth",
                                    "1": "Asst. Manager"
                                },
                                {
                                    "0": "Karan",
                                    "1": "Executive"
                                },
                                {
                                    "0": "Dheeraj",
                                    "1": "Lead"
                                },
                                {
                                    "0": "Vishal",
                                    "1": "Lead"
                                }
                            ]
                        },
                        "text/html": "<table><tr><th>FIRST_NAME</th><th>Employee_title</th></tr><tr><td>Anika</td><td>Manager</td></tr><tr><td>Veena</td><td>Executive</td></tr><tr><td>Chandrika</td><td>Executive</td></tr><tr><td>Bhupal</td><td>Manager</td></tr><tr><td>Sushanth</td><td>Asst. Manager</td></tr><tr><td>Karan</td><td>Executive</td></tr><tr><td>Dheeraj</td><td>Lead</td></tr><tr><td>Vishal</td><td>Lead</td></tr></table>"
                    },
                    "metadata": {}
                }
            ],
            "execution_count": 101
        }
    ]
}