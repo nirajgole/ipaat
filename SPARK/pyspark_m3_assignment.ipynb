{
 "cells": [
  {
   "cell_type": "markdown",
   "metadata": {
    "application/vnd.databricks.v1+cell": {
     "cellMetadata": {},
     "inputWidgets": {},
     "nuid": "8a0d75f2-b201-47bd-b61f-648bc3171730",
     "showTitle": false,
     "title": ""
    }
   },
   "source": [
    "### PySpark Module 3 Assignment\n",
    "\n",
    "Tasks to be Done\n"
   ]
  },
  {
   "cell_type": "markdown",
   "metadata": {
    "application/vnd.databricks.v1+cell": {
     "cellMetadata": {},
     "inputWidgets": {},
     "nuid": "aabd9ac5-d7b5-4025-bb2d-bdd31633dd6e",
     "showTitle": false,
     "title": ""
    }
   },
   "source": [
    "1. Functions:\n"
   ]
  },
  {
   "cell_type": "code",
   "execution_count": 0,
   "metadata": {
    "application/vnd.databricks.v1+cell": {
     "cellMetadata": {},
     "inputWidgets": {},
     "nuid": "0fdf9c17-b0c3-4187-82a2-8b69dc991fc9",
     "showTitle": false,
     "title": ""
    }
   },
   "outputs": [],
   "source": [
    "# a) Write a function to convert temperature from Kelvin to Celsius\n",
    "def kelvin_to_celsius(kelvin):\n",
    "    return (kelvin - 273.15)\n",
    "# b) Print the output by passing the Kelvin value as an argument in the function\n",
    "print(kelvin_to_celsius(300))\n",
    "# c) Write a function ‘student’ with two arguments: ‘firstname’ and ‘lastname’\n",
    "def student(first_name:str='',last_name:str='')->str:\n",
    "    return f\"{first_name} {last_name}\"\n",
    "# d) Print the output by passing the values of both arguments during the function call\n",
    "print(student('James','Gordon'))\n"
   ]
  },
  {
   "cell_type": "markdown",
   "metadata": {
    "application/vnd.databricks.v1+cell": {
     "cellMetadata": {},
     "inputWidgets": {},
     "nuid": "050b12a9-eed7-462a-8be7-6fa6b792b4de",
     "showTitle": false,
     "title": ""
    }
   },
   "source": [
    "2. Lambda Functions:\n"
   ]
  },
  {
   "cell_type": "code",
   "execution_count": 0,
   "metadata": {
    "application/vnd.databricks.v1+cell": {
     "cellMetadata": {},
     "inputWidgets": {},
     "nuid": "50c12dd8-4bb0-4d2a-a858-d056b6e316e1",
     "showTitle": false,
     "title": ""
    }
   },
   "outputs": [],
   "source": [
    "# a) Write a lambda function that returns the cube of a given value\n",
    "get_cube=lambda a : a**3\n",
    "print(get_cube(2))\n",
    "# b) Write a lambda function with three arguments and print the sum of them\n",
    "get_sum=lambda *args : sum(args)\n",
    "print(get_sum(1,2,3))"
   ]
  },
  {
   "cell_type": "markdown",
   "metadata": {
    "application/vnd.databricks.v1+cell": {
     "cellMetadata": {},
     "inputWidgets": {},
     "nuid": "fa6c9ac2-29fa-49b6-a1b1-84871355f01c",
     "showTitle": false,
     "title": ""
    }
   },
   "source": [
    "3. Object-oriented Programming:\n"
   ]
  },
  {
   "cell_type": "code",
   "execution_count": 0,
   "metadata": {
    "application/vnd.databricks.v1+cell": {
     "cellMetadata": {},
     "inputWidgets": {},
     "nuid": "c42bfe30-107b-43ce-ae36-6ec2c97e7c8a",
     "showTitle": false,
     "title": ""
    }
   },
   "outputs": [],
   "source": [
    "# a) Write a Python program to create a class named ‘BankAccount’\n",
    "class BankAccount:\n",
    "    def __init__(self, name, balance=0):\n",
    "        self.name = name\n",
    "        self.balance = balance\n",
    "\n",
    "    def deposit(self, amount):\n",
    "        self.balance += amount\n",
    "        print(f\"Amount {amount}$ has been deposited. New balance: {self.balance}$.\")\n",
    "\n",
    "    def withdraw(self, amount):\n",
    "        if amount > self.balance:\n",
    "            print(\"Insufficient funds!\")\n",
    "        else:\n",
    "            self.balance -= amount\n",
    "            print(f\"Amount {amount}$ has been withdrawn. New balance: {self.balance}$.\")\n",
    "\n",
    "\n",
    "# c) Extend the BankAccount class to a CheckingAccount class that charges $1 for\n",
    "# every deposit and withdrawal\n",
    "class CheckingAccount(BankAccount):\n",
    "    def __init__(self, name, balance=0):\n",
    "        super().__init__(name, balance)\n",
    "\n",
    "    def deposit(self, amount):\n",
    "        super().deposit(amount - 1)\n",
    "        print(f\"$1 has been charged for deposit. {amount - 1}$ has been deposited. New balance: {self.balance}$.\")\n",
    "\n",
    "    def withdraw(self, amount):\n",
    "        super().withdraw(amount + 1)\n",
    "        print(f\"$1 has been charged for withdrawal. {amount}$ has been withdrawn. New balance: {self.balance}$.\")\n",
    "\n",
    "account1 = BankAccount(\"Alice\", 100)\n",
    "account1.deposit(50)\n",
    "account1.withdraw(20)\n",
    "\n",
    "account2 = CheckingAccount(\"Bob\", 200)\n",
    "account2.deposit(100)\n",
    "account2.withdraw(50)\n"
   ]
  },
  {
   "cell_type": "code",
   "execution_count": 0,
   "metadata": {
    "application/vnd.databricks.v1+cell": {
     "cellMetadata": {},
     "inputWidgets": {},
     "nuid": "3e85684f-e676-4702-b604-a1030ab6f5aa",
     "showTitle": false,
     "title": ""
    }
   },
   "outputs": [],
   "source": [
    "# d) Write a Python class to implement pow(x, n)\n",
    "get_power=lambda x,n:pow(x,n)\n",
    "print(get_power(100,0))"
   ]
  },
  {
   "cell_type": "code",
   "execution_count": 0,
   "metadata": {
    "application/vnd.databricks.v1+cell": {
     "cellMetadata": {},
     "inputWidgets": {},
     "nuid": "54d613fa-9f25-48dd-9d00-0f563ad5e840",
     "showTitle": false,
     "title": ""
    }
   },
   "outputs": [],
   "source": [
    "# e) Write a Python program to create a global variable named ‘money = 1000’,\n",
    "# then define a function named ‘value’, and then create a local variable named\n",
    "# ‘money = 100’ inside the function. Print the money variable both inside and\n",
    "# outside the function\n",
    "\n",
    "# global money\n",
    "money=1000\n",
    "def value():\n",
    "    money=100\n",
    "    print(money)\n",
    "value()\n",
    "print(money)"
   ]
  },
  {
   "cell_type": "code",
   "execution_count": 0,
   "metadata": {
    "application/vnd.databricks.v1+cell": {
     "cellMetadata": {},
     "inputWidgets": {},
     "nuid": "67235d9e-c484-4c4c-8b40-21e21d153cda",
     "showTitle": false,
     "title": ""
    }
   },
   "outputs": [],
   "source": [
    "# f) Write a Python Program to define a function named ‘student’ with two\n",
    "# arguments, ‘name’ and ‘city’, in such a way that the function should print the\n",
    "# ‘city’ 5 seconds after it prints a ‘name\n",
    "import time\n",
    "\n",
    "\n",
    "def student(name,city):\n",
    "    print(name)\n",
    "    time.sleep(5)\n",
    "    print(city)\n",
    "\n",
    "student('Ganesh','Mumbai')"
   ]
  }
 ],
 "metadata": {
  "application/vnd.databricks.v1+notebook": {
   "dashboards": [],
   "language": "python",
   "notebookMetadata": {},
   "notebookName": "pyspark_m3_assignment",
   "widgets": {}
  },
  "kernelspec": {
   "display_name": "Python 3",
   "language": "python",
   "name": "python3"
  },
  "language_info": {
   "codemirror_mode": {
    "name": "ipython",
    "version": 3
   },
   "file_extension": ".py",
   "mimetype": "text/x-python",
   "name": "python",
   "nbconvert_exporter": "python",
   "pygments_lexer": "ipython3",
   "version": "3.11.3"
  }
 },
 "nbformat": 4,
 "nbformat_minor": 0
}
