{
    "metadata": {
        "kernelspec": {
            "name": "SQL",
            "display_name": "SQL",
            "language": "sql"
        },
        "language_info": {
            "name": "sql",
            "version": ""
        }
    },
    "nbformat_minor": 2,
    "nbformat": 4,
    "cells": [
        {
            "cell_type": "code",
            "source": [
                "IF NOT EXISTS( SELECT * FROM sys.databases WHERE name = 'ABC_Fashion')\r\n",
                "BEGIN\r\n",
                "CREATE DATABASE ABC_Fashion\r\n",
                "END"
            ],
            "metadata": {
                "azdata_cell_guid": "36d2d1ec-9a6b-4173-8c36-25f6bc8dde97",
                "language": "sql",
                "tags": []
            },
            "outputs": [
                {
                    "output_type": "display_data",
                    "data": {
                        "text/html": "Commands completed successfully."
                    },
                    "metadata": {}
                },
                {
                    "output_type": "display_data",
                    "data": {
                        "text/html": "Total execution time: 00:00:00.018"
                    },
                    "metadata": {}
                }
            ],
            "execution_count": 1
        },
        {
            "cell_type": "code",
            "source": [
                "USE ABC_Fashion\r\n",
                "SELECT * from ABC_Fashion.INFORMATION_SCHEMA.TABLES"
            ],
            "metadata": {
                "azdata_cell_guid": "97521e5b-1866-42b8-af3e-136e243d61f6",
                "language": "sql",
                "tags": []
            },
            "outputs": [
                {
                    "output_type": "display_data",
                    "data": {
                        "text/html": "(4 rows affected)"
                    },
                    "metadata": {}
                },
                {
                    "output_type": "display_data",
                    "data": {
                        "text/html": "Total execution time: 00:00:00.062"
                    },
                    "metadata": {}
                },
                {
                    "output_type": "execute_result",
                    "metadata": {},
                    "execution_count": 2,
                    "data": {
                        "application/vnd.dataresource+json": {
                            "schema": {
                                "fields": [
                                    {
                                        "name": "TABLE_CATALOG"
                                    },
                                    {
                                        "name": "TABLE_SCHEMA"
                                    },
                                    {
                                        "name": "TABLE_NAME"
                                    },
                                    {
                                        "name": "TABLE_TYPE"
                                    }
                                ]
                            },
                            "data": [
                                {
                                    "TABLE_CATALOG": "ABC_Fashion",
                                    "TABLE_SCHEMA": "dbo",
                                    "TABLE_NAME": "sysdiagrams",
                                    "TABLE_TYPE": "BASE TABLE"
                                },
                                {
                                    "TABLE_CATALOG": "ABC_Fashion",
                                    "TABLE_SCHEMA": "dbo",
                                    "TABLE_NAME": "orders",
                                    "TABLE_TYPE": "BASE TABLE"
                                },
                                {
                                    "TABLE_CATALOG": "ABC_Fashion",
                                    "TABLE_SCHEMA": "dbo",
                                    "TABLE_NAME": "customer",
                                    "TABLE_TYPE": "BASE TABLE"
                                },
                                {
                                    "TABLE_CATALOG": "ABC_Fashion",
                                    "TABLE_SCHEMA": "dbo",
                                    "TABLE_NAME": "salesman",
                                    "TABLE_TYPE": "BASE TABLE"
                                }
                            ]
                        },
                        "text/html": [
                            "<table>",
                            "<tr><th>TABLE_CATALOG</th><th>TABLE_SCHEMA</th><th>TABLE_NAME</th><th>TABLE_TYPE</th></tr>",
                            "<tr><td>ABC_Fashion</td><td>dbo</td><td>sysdiagrams</td><td>BASE TABLE</td></tr>",
                            "<tr><td>ABC_Fashion</td><td>dbo</td><td>orders</td><td>BASE TABLE</td></tr>",
                            "<tr><td>ABC_Fashion</td><td>dbo</td><td>customer</td><td>BASE TABLE</td></tr>",
                            "<tr><td>ABC_Fashion</td><td>dbo</td><td>salesman</td><td>BASE TABLE</td></tr>",
                            "</table>"
                        ]
                    }
                }
            ],
            "execution_count": 2
        },
        {
            "cell_type": "code",
            "source": [
                "-- 1. Insert a new record in your Orders table.\r\n",
                "-- INSERT INTO salesman\r\n",
                "-- VALUES\r\n",
                "-- (101,'Joe',50,'California',17),\r\n",
                "-- (102,'Simon',75,'Texas',25),\r\n",
                "-- (103,'Jessie',105,'Florida',35),\r\n",
                "-- (104,'Danny',100,'Texas',22),\r\n",
                "-- (105,'Lia',65,'New Jersy',30)"
            ],
            "metadata": {
                "azdata_cell_guid": "caf1c599-57fe-40db-aec1-aeb6af757fd7",
                "language": "sql"
            },
            "outputs": [
                {
                    "output_type": "display_data",
                    "data": {
                        "text/html": "(5 rows affected)"
                    },
                    "metadata": {}
                },
                {
                    "output_type": "display_data",
                    "data": {
                        "text/html": "Total execution time: 00:00:00.005"
                    },
                    "metadata": {}
                }
            ],
            "execution_count": 58
        },
        {
            "cell_type": "code",
            "source": [
                "TRUNCATE TABLE CUSTOMER\r\n",
                "GO\r\n",
                "INSERT INTO CUSTOMER\r\n",
                "VALUES\r\n",
                "(2345,'Andrew',550,101),\r\n",
                "(1575,'Lucky',4500,103),\r\n",
                "(2345,'Andrew',4000,104),\r\n",
                "(3747,'Remona',2700,105),\r\n",
                "(4004,'Julia',4545,104)"
            ],
            "metadata": {
                "language": "sql",
                "azdata_cell_guid": "108d9b9b-8789-49f6-833f-a38dd44d0121",
                "tags": []
            },
            "outputs": [
                {
                    "output_type": "display_data",
                    "data": {
                        "text/html": "Commands completed successfully."
                    },
                    "metadata": {}
                },
                {
                    "output_type": "display_data",
                    "data": {
                        "text/html": "(5 rows affected)"
                    },
                    "metadata": {}
                },
                {
                    "output_type": "display_data",
                    "data": {
                        "text/html": "Total execution time: 00:00:00.008"
                    },
                    "metadata": {}
                }
            ],
            "execution_count": 7
        },
        {
            "cell_type": "code",
            "source": [
                "-- INSERT INTO ORDERS\r\n",
                "-- VALUES\r\n",
                "-- (5001,101,2345,'2021-04-07',550),\r\n",
                "-- (5003,105,1234,'2022-02-15',1500)"
            ],
            "metadata": {
                "language": "sql",
                "azdata_cell_guid": "a631ad52-8163-44f8-97c9-9fbae9111c4c"
            },
            "outputs": [
                {
                    "output_type": "display_data",
                    "data": {
                        "text/html": "(2 rows affected)"
                    },
                    "metadata": {}
                },
                {
                    "output_type": "display_data",
                    "data": {
                        "text/html": "Total execution time: 00:00:00.007"
                    },
                    "metadata": {}
                }
            ],
            "execution_count": 25
        },
        {
            "cell_type": "code",
            "source": [
                "-- 1. Insert a new record in your Orders tabl\r\n",
                "-- INSERT INTO ORDERS\r\n",
                "-- VALUES(5004,104,1575,'2022-02-15',6000)"
            ],
            "metadata": {
                "language": "sql",
                "azdata_cell_guid": "26f144ef-e4a5-4d8b-8f33-c5bd367194a1"
            },
            "outputs": [
                {
                    "output_type": "display_data",
                    "data": {
                        "text/html": "(1 row affected)"
                    },
                    "metadata": {}
                },
                {
                    "output_type": "display_data",
                    "data": {
                        "text/html": "Total execution time: 00:00:00.006"
                    },
                    "metadata": {}
                }
            ],
            "execution_count": 26
        },
        {
            "cell_type": "code",
            "source": [
                "-- 2. Add Primary key constraint for SalesmanId column in Salesman table.\r\n",
                "ALTER TABLE SALESMAN \r\n",
                "ADD CONSTRAINT PK_SALESMAN \r\n",
                "PRIMARY KEY (SALESMAN_ID)\r\n",
                ""
            ],
            "metadata": {
                "language": "sql",
                "azdata_cell_guid": "dd914bd1-03e3-4f41-9aa6-a07f968a4f55"
            },
            "outputs": [
                {
                    "output_type": "error",
                    "evalue": "Msg 1779, Level 16, State 0, Line 2\r\nTable 'SALESMAN' already has a primary key defined on it.",
                    "ename": "",
                    "traceback": []
                },
                {
                    "output_type": "error",
                    "evalue": "Msg 1750, Level 16, State 0, Line 2\r\nCould not create constraint or index. See previous errors.",
                    "ename": "",
                    "traceback": []
                },
                {
                    "output_type": "display_data",
                    "data": {
                        "text/html": "Total execution time: 00:00:00.002"
                    },
                    "metadata": {}
                }
            ],
            "execution_count": 3
        },
        {
            "cell_type": "code",
            "source": [
                "--  Add default constraint for City column in Salesman table.\r\n",
                "ALTER TABLE SALESMAN\r\n",
                "ADD CONSTRAINT DF_CITY\r\n",
                "DEFAULT 'INDIAN_CITY' FOR City"
            ],
            "metadata": {
                "language": "sql",
                "azdata_cell_guid": "321567ee-ee17-4bc4-a82f-2b8f43dfe119"
            },
            "outputs": [
                {
                    "output_type": "display_data",
                    "data": {
                        "text/html": "Commands completed successfully."
                    },
                    "metadata": {}
                },
                {
                    "output_type": "display_data",
                    "data": {
                        "text/html": "Total execution time: 00:00:00.013"
                    },
                    "metadata": {}
                }
            ],
            "execution_count": 4
        },
        {
            "cell_type": "code",
            "source": [
                "--  Add Foreign key constraint for SalesmanId column in Customer table.\r\n",
                "ALTER TABLE CUSTOMER\r\n",
                "ADD CONSTRAINT FK_Customer_SalesmanId\r\n",
                "FOREIGN KEY (salesman_id) REFERENCES salesman(salesman_id)"
            ],
            "metadata": {
                "language": "sql",
                "azdata_cell_guid": "0f024407-43f7-4a6b-bbe1-8a0d51da4c3c"
            },
            "outputs": [
                {
                    "output_type": "display_data",
                    "data": {
                        "text/html": "Commands completed successfully."
                    },
                    "metadata": {}
                },
                {
                    "output_type": "display_data",
                    "data": {
                        "text/html": "Total execution time: 00:00:00.009"
                    },
                    "metadata": {}
                }
            ],
            "execution_count": 8
        },
        {
            "cell_type": "code",
            "source": [
                "-- SELECT CONSTRAINT_NAME, CONSTRAINT_TYPE\r\n",
                "-- FROM INFORMATION_SCHEMA.TABLE_CONSTRAINTS\r\n",
                "-- WHERE TABLE_NAME='customer'"
            ],
            "metadata": {
                "language": "sql",
                "azdata_cell_guid": "d24b597b-9542-4894-9007-fbc822cd4c6c"
            },
            "outputs": [
                {
                    "output_type": "display_data",
                    "data": {
                        "text/html": "(1 row affected)"
                    },
                    "metadata": {}
                },
                {
                    "output_type": "display_data",
                    "data": {
                        "text/html": "Total execution time: 00:00:00.026"
                    },
                    "metadata": {}
                },
                {
                    "output_type": "execute_result",
                    "metadata": {},
                    "execution_count": 10,
                    "data": {
                        "application/vnd.dataresource+json": {
                            "schema": {
                                "fields": [
                                    {
                                        "name": "CONSTRAINT_NAME"
                                    },
                                    {
                                        "name": "CONSTRAINT_TYPE"
                                    }
                                ]
                            },
                            "data": [
                                {
                                    "CONSTRAINT_NAME": "FK_Customer_SalesmanId",
                                    "CONSTRAINT_TYPE": "FOREIGN KEY"
                                }
                            ]
                        },
                        "text/html": [
                            "<table>",
                            "<tr><th>CONSTRAINT_NAME</th><th>CONSTRAINT_TYPE</th></tr>",
                            "<tr><td>FK_Customer_SalesmanId</td><td>FOREIGN KEY</td></tr>",
                            "</table>"
                        ]
                    }
                }
            ],
            "execution_count": 10
        },
        {
            "cell_type": "code",
            "source": [
                "--  Add not null constraint in Customer_name column for the Customer table\r\n",
                "ALTER TABLE Customer\r\n",
                "ALTER COLUMN CUSTOMER_NAME VARCHAR(50) NOT NULL"
            ],
            "metadata": {
                "language": "sql",
                "azdata_cell_guid": "1b69f1be-c564-4976-9611-c7683d30b9e8"
            },
            "outputs": [
                {
                    "output_type": "display_data",
                    "data": {
                        "text/html": "Commands completed successfully."
                    },
                    "metadata": {}
                },
                {
                    "output_type": "display_data",
                    "data": {
                        "text/html": "Total execution time: 00:00:00.013"
                    },
                    "metadata": {}
                }
            ],
            "execution_count": 11
        },
        {
            "cell_type": "code",
            "source": [
                "-- 3. Fetch the data where the Customer’s name is ending with ‘N’ also get the purchase\r\n",
                "-- amount value greater than 500.\r\n",
                "SELECT * FROM customer\r\n",
                "WHERE customer_name LIKE '%n' AND purchase_amount>500"
            ],
            "metadata": {
                "language": "sql",
                "azdata_cell_guid": "2ce275b0-ee32-4138-b931-4b4e1bae396b"
            },
            "outputs": [
                {
                    "output_type": "display_data",
                    "data": {
                        "text/html": "(0 rows affected)"
                    },
                    "metadata": {}
                },
                {
                    "output_type": "display_data",
                    "data": {
                        "text/html": "Total execution time: 00:00:00.001"
                    },
                    "metadata": {}
                },
                {
                    "output_type": "execute_result",
                    "metadata": {},
                    "execution_count": 17,
                    "data": {
                        "application/vnd.dataresource+json": {
                            "schema": {
                                "fields": [
                                    {
                                        "name": "customer_id"
                                    },
                                    {
                                        "name": "customer_name"
                                    },
                                    {
                                        "name": "purchase_amount"
                                    },
                                    {
                                        "name": "salesman_id"
                                    }
                                ]
                            },
                            "data": []
                        },
                        "text/html": [
                            "<table>",
                            "<tr><th>customer_id</th><th>customer_name</th><th>purchase_amount</th><th>salesman_id</th></tr>",
                            "</table>"
                        ]
                    }
                }
            ],
            "execution_count": 17
        },
        {
            "cell_type": "code",
            "source": [
                "-- 4. Using SET operators, retrieve the first result with unique SalesmanId values from two\r\n",
                "-- tables, and the other result containing SalesmanId with duplicates from two tables.\r\n",
                "-- did not understand this question\r\n",
                "SELECT distinct salesman_id\r\n",
                "FROM salesman"
            ],
            "metadata": {
                "language": "sql",
                "azdata_cell_guid": "3cc7307e-092d-4883-bf9b-c71967a8fdc8"
            },
            "outputs": [
                {
                    "output_type": "display_data",
                    "data": {
                        "text/html": "(5 rows affected)"
                    },
                    "metadata": {}
                },
                {
                    "output_type": "display_data",
                    "data": {
                        "text/html": "Total execution time: 00:00:00.002"
                    },
                    "metadata": {}
                },
                {
                    "output_type": "execute_result",
                    "metadata": {},
                    "execution_count": 18,
                    "data": {
                        "application/vnd.dataresource+json": {
                            "schema": {
                                "fields": [
                                    {
                                        "name": "salesman_id"
                                    }
                                ]
                            },
                            "data": [
                                {
                                    "salesman_id": "101"
                                },
                                {
                                    "salesman_id": "102"
                                },
                                {
                                    "salesman_id": "103"
                                },
                                {
                                    "salesman_id": "104"
                                },
                                {
                                    "salesman_id": "105"
                                }
                            ]
                        },
                        "text/html": [
                            "<table>",
                            "<tr><th>salesman_id</th></tr>",
                            "<tr><td>101</td></tr>",
                            "<tr><td>102</td></tr>",
                            "<tr><td>103</td></tr>",
                            "<tr><td>104</td></tr>",
                            "<tr><td>105</td></tr>",
                            "</table>"
                        ]
                    }
                }
            ],
            "execution_count": 18
        },
        {
            "cell_type": "code",
            "source": [
                "-- 5. Display the below columns which has the matching data.\r\n",
                "-- Orderdate, Salesman Name, Customer Name, Commission, and City which has the\r\n",
                "-- range of Purchase Amount between 500 to 1500.\r\n",
                "SELECT o.order_date,s.salesman_name,c.customer_name,s.commision,s.city,c.purchase_amount\r\n",
                "FROM customer c\r\n",
                "LEFT JOIN salesman s ON c.salesman_id=s.salesman_id\r\n",
                "LEFT JOIN orders o ON c.customer_id=o.customer_id\r\n",
                "WHERE purchase_amount BETWEEN 500 AND 1500\r\n",
                ""
            ],
            "metadata": {
                "language": "sql",
                "azdata_cell_guid": "7b33f4cb-f0c8-463b-be5f-774f679daf69"
            },
            "outputs": [
                {
                    "output_type": "display_data",
                    "data": {
                        "text/html": "(1 row affected)"
                    },
                    "metadata": {}
                },
                {
                    "output_type": "display_data",
                    "data": {
                        "text/html": "Total execution time: 00:00:00.004"
                    },
                    "metadata": {}
                },
                {
                    "output_type": "execute_result",
                    "metadata": {},
                    "execution_count": 20,
                    "data": {
                        "application/vnd.dataresource+json": {
                            "schema": {
                                "fields": [
                                    {
                                        "name": "order_date"
                                    },
                                    {
                                        "name": "salesman_name"
                                    },
                                    {
                                        "name": "customer_name"
                                    },
                                    {
                                        "name": "commision"
                                    },
                                    {
                                        "name": "city"
                                    },
                                    {
                                        "name": "purchase_amount"
                                    }
                                ]
                            },
                            "data": [
                                {
                                    "order_date": "2021-04-07",
                                    "salesman_name": "Joe",
                                    "customer_name": "Andrew",
                                    "commision": "50",
                                    "city": "California",
                                    "purchase_amount": "550.00"
                                }
                            ]
                        },
                        "text/html": [
                            "<table>",
                            "<tr><th>order_date</th><th>salesman_name</th><th>customer_name</th><th>commision</th><th>city</th><th>purchase_amount</th></tr>",
                            "<tr><td>2021-04-07</td><td>Joe</td><td>Andrew</td><td>50</td><td>California</td><td>550.00</td></tr>",
                            "</table>"
                        ]
                    }
                }
            ],
            "execution_count": 20
        },
        {
            "cell_type": "code",
            "source": [
                "-- 6. Using right join fetch all the results from Salesman and Orders table.\r\n",
                "SELECT s.salesman_id,s.salesman_name,o.amount\r\n",
                "FROM salesman s\r\n",
                "RIGHT JOIN orders o ON s.salesman_id=o.salesman_id"
            ],
            "metadata": {
                "language": "sql",
                "azdata_cell_guid": "56546a44-bb5d-4716-8bc2-c47ac6079faf"
            },
            "outputs": [
                {
                    "output_type": "display_data",
                    "data": {
                        "text/html": "(3 rows affected)"
                    },
                    "metadata": {}
                },
                {
                    "output_type": "display_data",
                    "data": {
                        "text/html": "Total execution time: 00:00:00.002"
                    },
                    "metadata": {}
                },
                {
                    "output_type": "execute_result",
                    "metadata": {},
                    "execution_count": 24,
                    "data": {
                        "application/vnd.dataresource+json": {
                            "schema": {
                                "fields": [
                                    {
                                        "name": "salesman_id"
                                    },
                                    {
                                        "name": "salesman_name"
                                    },
                                    {
                                        "name": "amount"
                                    }
                                ]
                            },
                            "data": [
                                {
                                    "salesman_id": "101",
                                    "salesman_name": "Joe",
                                    "amount": "550"
                                },
                                {
                                    "salesman_id": "105",
                                    "salesman_name": "Lia",
                                    "amount": "1500"
                                },
                                {
                                    "salesman_id": "104",
                                    "salesman_name": "Danny",
                                    "amount": "6000"
                                }
                            ]
                        },
                        "text/html": [
                            "<table>",
                            "<tr><th>salesman_id</th><th>salesman_name</th><th>amount</th></tr>",
                            "<tr><td>101</td><td>Joe</td><td>550</td></tr>",
                            "<tr><td>105</td><td>Lia</td><td>1500</td></tr>",
                            "<tr><td>104</td><td>Danny</td><td>6000</td></tr>",
                            "</table>"
                        ]
                    }
                }
            ],
            "execution_count": 24
        }
    ]
}