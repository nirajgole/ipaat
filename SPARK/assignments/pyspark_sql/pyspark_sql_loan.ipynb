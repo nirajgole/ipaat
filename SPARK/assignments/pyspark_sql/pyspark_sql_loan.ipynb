{
 "cells": [
  {
   "cell_type": "code",
   "execution_count": 0,
   "metadata": {
    "application/vnd.databricks.v1+cell": {
     "cellMetadata": {
      "byteLimit": 2048000,
      "rowLimit": 10000
     },
     "inputWidgets": {},
     "nuid": "082def7f-f1a2-4973-98aa-186e02ff4730",
     "showTitle": false,
     "title": ""
    }
   },
   "outputs": [],
   "source": [
    "spark"
   ]
  },
  {
   "cell_type": "code",
   "execution_count": 0,
   "metadata": {
    "application/vnd.databricks.v1+cell": {
     "cellMetadata": {
      "byteLimit": 2048000,
      "implicitDf": true,
      "rowLimit": 10000
     },
     "inputWidgets": {},
     "nuid": "8cceb088-2d39-4470-9284-b9c5cc32a6d2",
     "showTitle": false,
     "title": ""
    }
   },
   "outputs": [],
   "source": [
    "%sql\n",
    "use catalog `ng_db`; select * from `default`.`loan` limit 100;"
   ]
  },
  {
   "cell_type": "code",
   "execution_count": 0,
   "metadata": {
    "application/vnd.databricks.v1+cell": {
     "cellMetadata": {
      "byteLimit": 2048000,
      "rowLimit": 10000
     },
     "inputWidgets": {},
     "nuid": "ba8e444c-9dad-4a4a-ac7f-09f3cff5d06a",
     "showTitle": false,
     "title": ""
    }
   },
   "outputs": [],
   "source": [
    "df = spark.table('ng_db.default.loan')\n",
    "df.show()"
   ]
  },
  {
   "cell_type": "code",
   "execution_count": 0,
   "metadata": {
    "application/vnd.databricks.v1+cell": {
     "cellMetadata": {
      "byteLimit": 2048000,
      "rowLimit": 10000
     },
     "inputWidgets": {},
     "nuid": "da2d70af-9d22-45ea-b429-6c82f2bf8496",
     "showTitle": false,
     "title": ""
    }
   },
   "outputs": [],
   "source": [
    "from pyspark.sql.types import IntegerType,StringType\n",
    "\n",
    "def get_digits(s):\n",
    "    return ''.join([i for i in s if i.isdigit()])\n",
    "\n",
    "get_digits_udf = udf(get_digits, StringType())"
   ]
  },
  {
   "cell_type": "code",
   "execution_count": 0,
   "metadata": {
    "application/vnd.databricks.v1+cell": {
     "cellMetadata": {
      "byteLimit": 2048000,
      "rowLimit": 10000
     },
     "inputWidgets": {},
     "nuid": "68f81e45-251b-469d-ab30-938d3d7bd7b3",
     "showTitle": false,
     "title": ""
    }
   },
   "outputs": [],
   "source": [
    "from pyspark.sql.functions import col, udf\n",
    "\n",
    "df = df.withColumn('Loan Amount', get_digits_udf(col('Loan Amount')).cast(IntegerType()))\\\n",
    "    .withColumnRenamed(' Debt Record','Debt Record')\\\n",
    "    .withColumn('Debt Record', get_digits_udf(col('Debt Record')).cast(IntegerType()))\\\n",
    "    .withColumnRenamed(' Returned Cheque','Returned Cheque')\\\n",
    "    .withColumnRenamed(' Dishonour of Bill','Dishonor of Bill')"
   ]
  },
  {
   "cell_type": "code",
   "execution_count": 0,
   "metadata": {
    "application/vnd.databricks.v1+cell": {
     "cellMetadata": {
      "byteLimit": 2048000,
      "rowLimit": 10000
     },
     "inputWidgets": {},
     "nuid": "04350013-6be3-44df-af79-f3e73999c0a0",
     "showTitle": false,
     "title": ""
    }
   },
   "outputs": [],
   "source": [
    "# Number of loans in each category\n",
    "from pyspark.sql import functions as f\n",
    "\n",
    "df.groupBy(\"Loan Category\").agg(f.count(\"Loan Category\").alias(\"count\")).orderBy(\n",
    "    \"count\", ascending=False\n",
    ").show()"
   ]
  },
  {
   "cell_type": "code",
   "execution_count": 0,
   "metadata": {
    "application/vnd.databricks.v1+cell": {
     "cellMetadata": {
      "byteLimit": 2048000,
      "rowLimit": 10000
     },
     "inputWidgets": {},
     "nuid": "898feaec-c257-4747-9f35-c373bdaaa6b3",
     "showTitle": false,
     "title": ""
    }
   },
   "outputs": [],
   "source": [
    "# b. Number of people who have taken more than 1 lakh loan\n",
    "# df.where('\"Loan Amount\" > \"1,00,000\"').show()\n",
    "# df.filter(df['Loan Amount']> '1,00,000').agg(f.count('Loan Amount').alias('count of loan_amount_more_than_1lac')).show()\n",
    "df.filter(df[\"Loan Amount\"] > 100000).count()"
   ]
  },
  {
   "cell_type": "code",
   "execution_count": 0,
   "metadata": {
    "application/vnd.databricks.v1+cell": {
     "cellMetadata": {
      "byteLimit": 2048000,
      "rowLimit": 10000
     },
     "inputWidgets": {},
     "nuid": "d88ac9cd-b306-4f6d-93e8-c0812de2baeb",
     "showTitle": false,
     "title": ""
    }
   },
   "outputs": [],
   "source": [
    "# c. Number of people with income greater than 60000 rupees\n",
    "df.filter(df['Income'] > 60000).count()"
   ]
  },
  {
   "cell_type": "code",
   "execution_count": 0,
   "metadata": {
    "application/vnd.databricks.v1+cell": {
     "cellMetadata": {
      "byteLimit": 2048000,
      "rowLimit": 10000
     },
     "inputWidgets": {},
     "nuid": "b861254e-44fc-4163-a9ec-08565bf75eda",
     "showTitle": false,
     "title": ""
    }
   },
   "outputs": [],
   "source": [
    "# d. Number of people with 2 or more returned cheques and income less than 50000\n",
    "df.filter((df['Returned Cheque'] > 2) & (df['Income'] < 50000)).count()"
   ]
  },
  {
   "cell_type": "code",
   "execution_count": 0,
   "metadata": {
    "application/vnd.databricks.v1+cell": {
     "cellMetadata": {
      "byteLimit": 2048000,
      "rowLimit": 10000
     },
     "inputWidgets": {},
     "nuid": "b7a8b617-5c57-4829-9e7d-df3ca3f2caa3",
     "showTitle": false,
     "title": ""
    }
   },
   "outputs": [],
   "source": [
    "# e. Number of people with 2 or more returned cheques and are single\n",
    "df.filter((df['Returned Cheque'] > 2) & (df['Marital Status']=='SINGLE')).count()"
   ]
  },
  {
   "cell_type": "code",
   "execution_count": 0,
   "metadata": {
    "application/vnd.databricks.v1+cell": {
     "cellMetadata": {
      "byteLimit": 2048000,
      "rowLimit": 10000
     },
     "inputWidgets": {},
     "nuid": "761dce9d-0341-46ff-9c07-7d9fe4815e33",
     "showTitle": false,
     "title": ""
    }
   },
   "outputs": [],
   "source": [
    "# f. Number of people with expenditure over 50000 a month\n",
    "df.filter(df['Expenditure'] > 50000).count()"
   ]
  }
 ],
 "metadata": {
  "application/vnd.databricks.v1+notebook": {
   "dashboards": [],
   "language": "python",
   "notebookMetadata": {
    "mostRecentlyExecutedCommandWithImplicitDF": {
     "commandId": 3946802855366548,
     "dataframes": [
      "_sqldf"
     ]
    },
    "pythonIndentUnit": 4
   },
   "notebookName": "pyspark_sql_loan",
   "widgets": {}
  }
 },
 "nbformat": 4,
 "nbformat_minor": 0
}
