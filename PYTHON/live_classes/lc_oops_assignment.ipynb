{
 "cells": [
  {
   "attachments": {},
   "cell_type": "markdown",
   "metadata": {},
   "source": [
    "Q1. Write a Python program to demonstrate multiple inheritance.\n",
    "\n",
    "1. Employee class has 3 data members EmployeeID, Gender (String), Salary and\n",
    "   PerformanceRating(Out of 5) of type int. It has a get() function to get these details from\n",
    "   the user.\n",
    "2. JoiningDetail class has a data member DateOfJoining of type Date and a function\n",
    "   getDoJ to get the Date of joining of employees.\n",
    "3. Information Class uses the marks from Employee class and the DateOfJoining date\n",
    "   from the JoiningDetail class to calculate the top 3 Employees based on their Ratings\n",
    "   and then Display, using readData, all the details on these employees in Ascending\n",
    "   order of their Date Of Joining.\n"
   ]
  },
  {
   "cell_type": "code",
   "execution_count": 22,
   "metadata": {},
   "outputs": [
    {
     "name": "stdout",
     "output_type": "stream",
     "text": [
      "23 12-12-2023 4\n"
     ]
    }
   ],
   "source": [
    "class Employee:\n",
    "    def __init__(self,empId:int,gender:str,salary:int,perf_rating:int,marks:int)->None:\n",
    "        self.employeeId_id=empId\n",
    "        self.gender=gender\n",
    "        self.salary=salary\n",
    "        self.performance_rating=perf_rating\n",
    "        self.marks=marks\n",
    "\n",
    "class JoiningDetails():\n",
    "    def __init__(self,doj) -> None:\n",
    "        self.data_of_joining=doj\n",
    "\n",
    "class Information(Employee,JoiningDetails):\n",
    "    def __init__(self,empId:int,gender:str,salary:int,perf_rating:int,marks:int,doj) -> None:\n",
    "        Employee.__init__(self,empId,gender,salary,perf_rating,marks)\n",
    "        JoiningDetails.__init__(self,doj)\n",
    "    def readData(self):\n",
    "        print(self.marks,self.data_of_joining,self.performance_rating)\n",
    "\n",
    "i1=Information(1,'M',10000,4,23,'12-12-2023')\n",
    "i1.readData()\n",
    "# i1.marks"
   ]
  }
 ],
 "metadata": {
  "kernelspec": {
   "display_name": "Python 3",
   "language": "python",
   "name": "python3"
  },
  "language_info": {
   "codemirror_mode": {
    "name": "ipython",
    "version": 3
   },
   "file_extension": ".py",
   "mimetype": "text/x-python",
   "name": "python",
   "nbconvert_exporter": "python",
   "pygments_lexer": "ipython3",
   "version": "3.11.3"
  },
  "orig_nbformat": 4
 },
 "nbformat": 4,
 "nbformat_minor": 2
}
