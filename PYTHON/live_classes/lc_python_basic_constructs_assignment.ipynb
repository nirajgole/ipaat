{
 "cells": [
  {
   "cell_type": "code",
   "execution_count": 6,
   "metadata": {},
   "outputs": [
    {
     "data": {
      "text/plain": [
       "162.8894626777442"
      ]
     },
     "execution_count": 6,
     "metadata": {},
     "output_type": "execute_result"
    }
   ],
   "source": [
    "# Q1. Using Python script as a calculator\n",
    "# Create the variables n, r, p and assign them values 10, 5, and 100 respectively. Then\n",
    "# evaluate the following expression in the Python console.\n",
    "# 𝐴 = 𝑝 (1 + 𝑟/ 100)n\n",
    "# a. 100\n",
    "# b. 162.89 - Ans\n",
    "# c. 189\n",
    "# d. None of the above\n",
    "\n",
    "from calcy import add,sub,mul,div\n",
    "n, r, p = 10, 5, 100\n",
    "\n",
    "A = mul(p,pow(add(1,div(r,100)),n))\n",
    "A"
   ]
  },
  {
   "cell_type": "code",
   "execution_count": 9,
   "metadata": {},
   "outputs": [
    {
     "name": "stdout",
     "output_type": "stream",
     "text": [
      "There are 20 students in the class, with 10 who play at least one sport.\n"
     ]
    }
   ],
   "source": [
    "# Q2. In a given string format operation, how will you print the given string.\n",
    "A = 10\n",
    "B = 20\n",
    "Str = \"There are {} students in the class, with {} who play at least one sport.\"\n",
    "# a. print(string.format(a,b))\n",
    "# b. print(string+a+b)\n",
    "# c. print(string.format(b,a)) - ans\n",
    "# d. None of the above\n",
    "\n",
    "# Str = f\"There are {B} students in the class, with {A} who play at least one sport.\"\n",
    "\n",
    "print(Str.format(B,A))"
   ]
  },
  {
   "cell_type": "code",
   "execution_count": 18,
   "metadata": {},
   "outputs": [
    {
     "name": "stdout",
     "output_type": "stream",
     "text": [
      "It goes without saying, \"Time is Money\" and none can deny it.\n"
     ]
    }
   ],
   "source": [
    "# Q3. In a given sample string, How do you print a double quoted string in between a\n",
    "# regular string using the escape character?\n",
    "# Sample output = It goes without saying, “Time is Money”, and none can deny it.\n",
    "# a. print(“It goes without saying, \\“Time is Money\\”, and none can deny it.”) - ans\n",
    "# b. print(“It goes without saying, \\Time is Money\\, and none can deny it.”)\n",
    "# c. print(“It goes without saying” + “Time is Money” + “and none can deny it.”)\n",
    "# d. None of the above.\n",
    "\n",
    "# print('It goes without saying” “Time is Money” “and none can deny it.')\n",
    "print(\"It goes without saying, \\\"Time is Money\\\" and none can deny it.\")"
   ]
  },
  {
   "cell_type": "code",
   "execution_count": 19,
   "metadata": {},
   "outputs": [
    {
     "data": {
      "text/plain": [
       "3"
      ]
     },
     "execution_count": 19,
     "metadata": {},
     "output_type": "execute_result"
    }
   ],
   "source": [
    "# Q4. What will be the output of the following code?\n",
    "x = lambda a,b: a//b\n",
    "x(10,3)\n",
    "# a. 3.3333333333\n",
    "# b. 3 - ans\n",
    "# c. 30\n",
    "# d. 1000\n",
    "\n"
   ]
  },
  {
   "cell_type": "code",
   "execution_count": 23,
   "metadata": {},
   "outputs": [
    {
     "name": "stdout",
     "output_type": "stream",
     "text": [
      "Greater\n"
     ]
    }
   ],
   "source": [
    "# Q5. What will be the output of the following code?\n",
    "A = 10\n",
    "B = 12\n",
    "print(\"Smaller\") if A == B else print(\"Greater\") if A < B else print(\"True\")\n",
    "# a. True\n",
    "# b. Smaller\n",
    "# c. Greater - ans\n",
    "# d. None of the above\n",
    "\n"
   ]
  },
  {
   "cell_type": "code",
   "execution_count": 25,
   "metadata": {},
   "outputs": [
    {
     "name": "stdout",
     "output_type": "stream",
     "text": [
      "[2, 7, 3, 5, 4, 6]\n"
     ]
    },
    {
     "ename": "NameError",
     "evalue": "name 'numpy' is not defined",
     "output_type": "error",
     "traceback": [
      "\u001b[1;31m---------------------------------------------------------------------------\u001b[0m",
      "\u001b[1;31mNameError\u001b[0m                                 Traceback (most recent call last)",
      "Cell \u001b[1;32mIn[25], line 6\u001b[0m\n\u001b[0;32m      4\u001b[0m my_list1\u001b[39m=\u001b[39m[\u001b[39m2\u001b[39m,\u001b[39m7\u001b[39m,\u001b[39m3\u001b[39m,\u001b[39m5\u001b[39m,\u001b[39m4\u001b[39m,\u001b[39m6\u001b[39m]\n\u001b[0;32m      5\u001b[0m \u001b[39mprint\u001b[39m(my_list1)\n\u001b[1;32m----> 6\u001b[0m arr_1\u001b[39m=\u001b[39m numpy\u001b[39m.\u001b[39marray(my_list1,dtype\u001b[39m=\u001b[39m\u001b[39mint\u001b[39m)\n\u001b[0;32m      7\u001b[0m \u001b[39mprint\u001b[39m(arr_1)\n\u001b[0;32m      8\u001b[0m \u001b[39m# a. [2 7 3 5 4 6]\u001b[39;00m\n\u001b[0;32m      9\u001b[0m \u001b[39m# b. TypeError\u001b[39;00m\n\u001b[0;32m     10\u001b[0m \u001b[39m# c. NameError: name 'numpy' is not defined\u001b[39;00m\n\u001b[0;32m     11\u001b[0m \u001b[39m# d. None of the above - ans\u001b[39;00m\n",
      "\u001b[1;31mNameError\u001b[0m: name 'numpy' is not defined"
     ]
    }
   ],
   "source": [
    "# Q6. What will be the output of the following code?\n",
    "import os\n",
    "import numpy as np\n",
    "my_list1=[2,7,3,5,4,6]\n",
    "print(my_list1)\n",
    "arr_1= numpy.array(my_list1,dtype=int)\n",
    "print(arr_1)\n",
    "# a. [2 7 3 5 4 6]\n",
    "# b. TypeError\n",
    "# c. NameError: name 'numpy' is not defined - ans\n",
    "# d. None of the above\n"
   ]
  },
  {
   "cell_type": "code",
   "execution_count": 29,
   "metadata": {},
   "outputs": [
    {
     "data": {
      "text/plain": [
       "'Learn'"
      ]
     },
     "execution_count": 29,
     "metadata": {},
     "output_type": "execute_result"
    }
   ],
   "source": [
    "# Q7. Create a string called ‘string’ with the value as “Machine Learning”. Which code(s)\n",
    "# is/are appropriate to slice the substring “Learn”?\n",
    "# a. string[slice(13,8,1)]\n",
    "# b. string[slice(1,8,1)]\n",
    "# c. string[8:14]\n",
    "# d. string[slice(8,13,1)] - ans\n",
    "string=\"Machine Learning\"\n",
    "# string[8:13]\n",
    "string[slice(8,13,1)]\n"
   ]
  },
  {
   "cell_type": "code",
   "execution_count": 30,
   "metadata": {},
   "outputs": [
    {
     "data": {
      "text/plain": [
       "2"
      ]
     },
     "execution_count": 30,
     "metadata": {},
     "output_type": "execute_result"
    }
   ],
   "source": [
    "# Q8. Create a sequence of numbers from 10 to 25 and increment by 4. What is the index\n",
    "# of the value 18?\n",
    "# a. 3\n",
    "# b. 2 - ans\n",
    "# c. 0\n",
    "# d. 1\n",
    "list(range(10,25,4)).index(18)"
   ]
  },
  {
   "cell_type": "code",
   "execution_count": 31,
   "metadata": {},
   "outputs": [
    {
     "name": "stdout",
     "output_type": "stream",
     "text": [
      "625 625\n"
     ]
    }
   ],
   "source": [
    "# Q9. Which of the following is true with respect to the below codes?\n",
    "num1=5**4\n",
    "num2=pow(5,4)\n",
    "print(num1,num2)\n",
    "# a. num1 = num2 - ans\n",
    "# b. num1 ≠ num2\n",
    "# c. num1 < num2\n",
    "# d. num1 > num2"
   ]
  },
  {
   "cell_type": "code",
   "execution_count": null,
   "metadata": {},
   "outputs": [],
   "source": [
    "# Q10.A Python NameError exception is raised when: -\n",
    "# a. Trying to access a variable which has not been defined - ans\n",
    "# b. Trying to access a key in a dictionary that does not exist\n",
    "# c. Accessing a column with misspelled column name\n",
    "# d. Accessing the function from a module that has not been imported"
   ]
  },
  {
   "cell_type": "code",
   "execution_count": 32,
   "metadata": {},
   "outputs": [
    {
     "name": "stdout",
     "output_type": "stream",
     "text": [
      "string\n"
     ]
    }
   ],
   "source": [
    "# Q11.What type of exception will be raised for the code given below?\n",
    "x='string'\n",
    "print(x)\n",
    "# a. NameError - ans\n",
    "# b. KeyError\n",
    "# c. ValueError\n",
    "# d. AttributeError"
   ]
  },
  {
   "cell_type": "code",
   "execution_count": 33,
   "metadata": {},
   "outputs": [
    {
     "data": {
      "text/plain": [
       "['calcy.py', 'lc_python_basic_constructs_assignment.ipynb', '__pycache__']"
      ]
     },
     "execution_count": 33,
     "metadata": {},
     "output_type": "execute_result"
    }
   ],
   "source": [
    "# Q12.A FileNotFoundError exception is raised by operating system errors when: -\n",
    "# a. Trying to create a file or directory which already exists\n",
    "# b. A file or directory is requested but does not exist in the working directory - ans\n",
    "# c. Trying to run an operation without the adequate access rights\n",
    "# d. A directory operation, os.listdir() is requested on something which is not a\n",
    "# directory\n",
    "import os\n",
    "os.listdir()"
   ]
  },
  {
   "cell_type": "code",
   "execution_count": 36,
   "metadata": {},
   "outputs": [
    {
     "data": {
      "text/plain": [
       "str"
      ]
     },
     "execution_count": 36,
     "metadata": {},
     "output_type": "execute_result"
    }
   ],
   "source": [
    "# Q13.Consider a variable Z. The value of Z is \"ID-5632\". Data type of Z is: -\n",
    "# a. Complex\n",
    "# b. Character - ans\n",
    "# c. Integer\n",
    "# d. Boolean\n",
    "Z=\"ID-5632\"\n",
    "type(Z)"
   ]
  },
  {
   "cell_type": "code",
   "execution_count": null,
   "metadata": {},
   "outputs": [],
   "source": [
    "# Q14.Which of the following variable(s) are character data type?\n",
    "# a. K= “4”\n",
    "# b. J= “Welcome”\n",
    "# c. L= “?”\n",
    "# d. All of the above - ans"
   ]
  },
  {
   "cell_type": "code",
   "execution_count": null,
   "metadata": {},
   "outputs": [],
   "source": [
    "# Q15.Choose the symbol/s that does not have the ability to convert any values to string?\n",
    "# a. ( ) - ans\n",
    "# b. “ ”\n",
    "# c. {}\n",
    "# d. #"
   ]
  },
  {
   "cell_type": "code",
   "execution_count": 44,
   "metadata": {},
   "outputs": [
    {
     "data": {
      "text/plain": [
       "{'india': 'delhi',\n",
       " 'china': 'Beijing',\n",
       " 'Japan': 'Tokyo',\n",
       " 'Qatar': 'Doha',\n",
       " 'France': 'Paris'}"
      ]
     },
     "execution_count": 44,
     "metadata": {},
     "output_type": "execute_result"
    }
   ],
   "source": [
    "# Q16.Create a dictionary ‘Country’ that maps the following countries to their capitals\n",
    "# respectively:\n",
    "# Country |India |China |Japan |Qatar |France\n",
    "# State   |Delhi |Beijing |Tokyo |Doha |Marseilles\n",
    "# Find 2 commands to replace “Marseilles” with “Paris” is\n",
    "Country = {'india':'delhi','china':'Beijing','Japan':'Tokyo','Qatar':'Doha','France':'Marseilles'}\n",
    "\n",
    "#Method 1\n",
    "# Country['France']='Paris'\n",
    "\n",
    "# Method 2\n",
    "Country.update({'France':'Paris'})\n",
    "\n",
    "Country"
   ]
  },
  {
   "cell_type": "code",
   "execution_count": 48,
   "metadata": {},
   "outputs": [
    {
     "ename": "TypeError",
     "evalue": "'tuple' object does not support item assignment",
     "output_type": "error",
     "traceback": [
      "\u001b[1;31m---------------------------------------------------------------------------\u001b[0m",
      "\u001b[1;31mTypeError\u001b[0m                                 Traceback (most recent call last)",
      "Cell \u001b[1;32mIn[48], line 9\u001b[0m\n\u001b[0;32m      3\u001b[0m tuple_2 \u001b[39m=\u001b[39m (\u001b[39m8\u001b[39m,\u001b[39m9\u001b[39m,\u001b[39m4\u001b[39m)\n\u001b[0;32m      4\u001b[0m \u001b[39m# Identify which of the following code does not work on a tuple.\u001b[39;00m\n\u001b[0;32m      5\u001b[0m \u001b[39m# a. sum(tuple_1)\u001b[39;00m\n\u001b[0;32m      6\u001b[0m \u001b[39m# b. len(tuple_2)\u001b[39;00m\n\u001b[0;32m      7\u001b[0m \u001b[39m# c. tuple_2 + tuple_1\u001b[39;00m\n\u001b[0;32m      8\u001b[0m \u001b[39m# d. tuple_1[3] = 45\u001b[39;00m\n\u001b[1;32m----> 9\u001b[0m tuple_1[\u001b[39m3\u001b[39;49m] \u001b[39m=\u001b[39m \u001b[39m45\u001b[39m\n",
      "\u001b[1;31mTypeError\u001b[0m: 'tuple' object does not support item assignment"
     ]
    }
   ],
   "source": [
    "# Q17. Create the tuples given below\n",
    "tuple_1 = (1,5,6,7,8)\n",
    "tuple_2 = (8,9,4)\n",
    "# Identify which of the following code does not work on a tuple.\n",
    "# a. sum(tuple_1)\n",
    "# b. len(tuple_2)\n",
    "# c. tuple_2 + tuple_1\n",
    "# d. tuple_1[3] = 45 - ans\n",
    "tuple_1[3] = 45"
   ]
  },
  {
   "cell_type": "code",
   "execution_count": 49,
   "metadata": {},
   "outputs": [
    {
     "name": "stdout",
     "output_type": "stream",
     "text": [
      "6\n"
     ]
    }
   ],
   "source": [
    "# Q18. How many elements in the following data structure?\n",
    "s={1,2,3,4,4,4,5,6}\n",
    "print(len(s))"
   ]
  },
  {
   "cell_type": "code",
   "execution_count": 58,
   "metadata": {},
   "outputs": [
    {
     "data": {
      "text/plain": [
       "[(3, 4, 5), (8, 6, 10), (5, 12, 13)]"
      ]
     },
     "execution_count": 58,
     "metadata": {},
     "output_type": "execute_result"
    }
   ],
   "source": [
    "# Q19.Write a function which finds all pythagorean triplets of triangles whose sides are no\n",
    "# greater than a natural number N\n",
    "\n",
    "def pythagoreanTriplets(limits):\n",
    "    c, m = 0, 2\n",
    "    triplets = []\n",
    "    while c < limits:\n",
    "        for n in range(1, m):\n",
    "            a = m * m - n * n\n",
    "            b = 2 * m * n\n",
    "            c = m * m + n * n\n",
    "            if c > limits:\n",
    "                break\n",
    "            triplets.append((a, b, c))\n",
    "        m += 1\n",
    "    return triplets\n",
    "\n",
    "pythagoreanTriplets(13)"
   ]
  }
 ],
 "metadata": {
  "kernelspec": {
   "display_name": "Python 3",
   "language": "python",
   "name": "python3"
  },
  "language_info": {
   "codemirror_mode": {
    "name": "ipython",
    "version": 3
   },
   "file_extension": ".py",
   "mimetype": "text/x-python",
   "name": "python",
   "nbconvert_exporter": "python",
   "pygments_lexer": "ipython3",
   "version": "3.11.1"
  },
  "orig_nbformat": 4
 },
 "nbformat": 4,
 "nbformat_minor": 2
}
