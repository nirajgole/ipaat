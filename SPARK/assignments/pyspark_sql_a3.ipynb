{
 "cells": [
  {
   "cell_type": "code",
   "execution_count": 100,
   "metadata": {},
   "outputs": [],
   "source": [
    "import findspark\n",
    "\n",
    "findspark.find()\n",
    "findspark.init()\n"
   ]
  },
  {
   "cell_type": "code",
   "execution_count": 101,
   "metadata": {},
   "outputs": [
    {
     "data": {
      "text/html": [
       "\n",
       "            <div>\n",
       "                <p><b>SparkSession - in-memory</b></p>\n",
       "                \n",
       "        <div>\n",
       "            <p><b>SparkContext</b></p>\n",
       "\n",
       "            <p><a href=\"http://N7:4040\">Spark UI</a></p>\n",
       "\n",
       "            <dl>\n",
       "              <dt>Version</dt>\n",
       "                <dd><code>v3.4.1</code></dd>\n",
       "              <dt>Master</dt>\n",
       "                <dd><code>local[*]</code></dd>\n",
       "              <dt>AppName</dt>\n",
       "                <dd><code>Banking</code></dd>\n",
       "            </dl>\n",
       "        </div>\n",
       "        \n",
       "            </div>\n",
       "        "
      ],
      "text/plain": [
       "<pyspark.sql.session.SparkSession at 0x1f1eb1b2f10>"
      ]
     },
     "execution_count": 101,
     "metadata": {},
     "output_type": "execute_result"
    }
   ],
   "source": [
    "# importing sparksession\n",
    "from pyspark.sql import SparkSession\n",
    "\n",
    "# starting the spark session\n",
    "spark = SparkSession.builder.master(\"local[*]\").appName(\"Banking\").getOrCreate()\n",
    "spark\n"
   ]
  },
  {
   "cell_type": "code",
   "execution_count": 102,
   "metadata": {},
   "outputs": [
    {
     "name": "stdout",
     "output_type": "stream",
     "text": [
      "+-----------+---+------+-----------------+--------------+-----------+------+-----------+-------------+-------------+-----------+-------+------------+----------------+------------------+\n",
      "|Customer_ID|Age|Gender|       Occupation|Marital Status|Family Size|Income|Expenditure|Use Frequency|Loan Category|Loan Amount|Overdue| Debt Record| Returned Cheque| Dishonour of Bill|\n",
      "+-----------+---+------+-----------------+--------------+-----------+------+-----------+-------------+-------------+-----------+-------+------------+----------------+------------------+\n",
      "|    IB14001| 30|  MALE|     BANK MANAGER|        SINGLE|          4| 50000|      22199|            6|      HOUSING| 10,00,000 |      5|      42,898|               6|                 9|\n",
      "|    IB14008| 44|  MALE|        PROFESSOR|       MARRIED|          6| 51000|      19999|            4|     SHOPPING|     50,000|      3|      33,999|               1|                 5|\n",
      "|    IB14012| 30|FEMALE|          DENTIST|        SINGLE|          3| 58450|      27675|            5|   TRAVELLING|     75,000|      6|      20,876|               3|                 1|\n",
      "|    IB14018| 29|  MALE|          TEACHER|       MARRIED|          5| 45767|      12787|            3|    GOLD LOAN|  6,00,000 |      7|      11,000|               0|                 4|\n",
      "|    IB14022| 34|  MALE|           POLICE|        SINGLE|          4| 43521|      11999|            3|   AUTOMOBILE|  2,00,000 |      2|      43,898|               1|                 2|\n",
      "|    IB14024| 55|FEMALE|            NURSE|       MARRIED|          6| 34999|      19888|            4|   AUTOMOBILE|     47,787|      1|      50,000|               0|                 3|\n",
      "|    IB14025| 39|FEMALE|          TEACHER|       MARRIED|          6| 46619|      18675|            4|      HOUSING| 12,09,867 |      8|      29,999|               6|                 8|\n",
      "|    IB14027| 51|  MALE|   SYSTEM MANAGER|       MARRIED|          3| 49999|      19111|            5|  RESTAURANTS|     60,676|      8|      13,000|               2|                 5|\n",
      "|    IB14029| 24|FEMALE|          TEACHER|        SINGLE|          3| 45008|      17454|            4|   AUTOMOBILE|  3,99,435 |      9|      51,987|               4|                 7|\n",
      "|    IB14031| 37|FEMALE|SOFTWARE ENGINEER|       MARRIED|          5| 55999|      23999|            5|   AUTOMOBILE|     60,999|      2|           0|               5|                 3|\n",
      "+-----------+---+------+-----------------+--------------+-----------+------+-----------+-------------+-------------+-----------+-------+------------+----------------+------------------+\n",
      "only showing top 10 rows\n",
      "\n"
     ]
    }
   ],
   "source": [
    "# load data\n",
    "df = spark.read.csv(\"./BankTransactionDataset/Loan.csv\", inferSchema=True, header=True)\n",
    "df.show(10)\n"
   ]
  },
  {
   "cell_type": "code",
   "execution_count": 103,
   "metadata": {},
   "outputs": [
    {
     "data": {
      "text/plain": [
       "[('Customer_ID', 'string'),\n",
       " ('Age', 'int'),\n",
       " ('Gender', 'string'),\n",
       " ('Occupation', 'string'),\n",
       " ('Marital Status', 'string'),\n",
       " ('Family Size', 'int'),\n",
       " ('Income', 'int'),\n",
       " ('Expenditure', 'int'),\n",
       " ('Use Frequency', 'int'),\n",
       " ('Loan Category', 'string'),\n",
       " ('Loan Amount', 'string'),\n",
       " ('Overdue', 'int'),\n",
       " (' Debt Record', 'string'),\n",
       " (' Returned Cheque', 'int'),\n",
       " (' Dishonour of Bill', 'int')]"
      ]
     },
     "execution_count": 103,
     "metadata": {},
     "output_type": "execute_result"
    }
   ],
   "source": [
    "df.dtypes"
   ]
  },
  {
   "cell_type": "code",
   "execution_count": 104,
   "metadata": {},
   "outputs": [],
   "source": [
    "from pyspark.sql.functions import col, udf\n",
    "from pyspark.sql.types import IntegerType,StringType\n",
    "\n",
    "def get_digits(s):\n",
    "    return ''.join([i for i in s if i.isdigit()])\n",
    "\n",
    "get_digits_udf = udf(get_digits, StringType())"
   ]
  },
  {
   "cell_type": "code",
   "execution_count": 105,
   "metadata": {},
   "outputs": [],
   "source": [
    "df = df.withColumn('Loan Amount', get_digits_udf(col('Loan Amount')).cast(IntegerType()))\\\n",
    "    .withColumnRenamed(' Debt Record','Debt Record')\\\n",
    "    .withColumn('Debt Record', get_digits_udf(col('Debt Record')).cast(IntegerType()))\\\n",
    "    .withColumnRenamed(' Returned Cheque','Returned Cheque')\\\n",
    "    .withColumnRenamed(' Dishonour of Bill','Dishonor of Bill')\n"
   ]
  },
  {
   "cell_type": "code",
   "execution_count": 106,
   "metadata": {},
   "outputs": [
    {
     "name": "stdout",
     "output_type": "stream",
     "text": [
      "+-----------+---+------+-------------------+--------------+-----------+------+-----------+-------------+------------------+-----------+-------+-----------+---------------+----------------+\n",
      "|Customer_ID|Age|Gender|         Occupation|Marital Status|Family Size|Income|Expenditure|Use Frequency|     Loan Category|Loan Amount|Overdue|Debt Record|Returned Cheque|Dishonor of Bill|\n",
      "+-----------+---+------+-------------------+--------------+-----------+------+-----------+-------------+------------------+-----------+-------+-----------+---------------+----------------+\n",
      "|    IB14001| 30|  MALE|       BANK MANAGER|        SINGLE|          4| 50000|      22199|            6|           HOUSING|    1000000|      5|      42898|              6|               9|\n",
      "|    IB14008| 44|  MALE|          PROFESSOR|       MARRIED|          6| 51000|      19999|            4|          SHOPPING|      50000|      3|      33999|              1|               5|\n",
      "|    IB14012| 30|FEMALE|            DENTIST|        SINGLE|          3| 58450|      27675|            5|        TRAVELLING|      75000|      6|      20876|              3|               1|\n",
      "|    IB14018| 29|  MALE|            TEACHER|       MARRIED|          5| 45767|      12787|            3|         GOLD LOAN|     600000|      7|      11000|              0|               4|\n",
      "|    IB14022| 34|  MALE|             POLICE|        SINGLE|          4| 43521|      11999|            3|        AUTOMOBILE|     200000|      2|      43898|              1|               2|\n",
      "|    IB14024| 55|FEMALE|              NURSE|       MARRIED|          6| 34999|      19888|            4|        AUTOMOBILE|      47787|      1|      50000|              0|               3|\n",
      "|    IB14025| 39|FEMALE|            TEACHER|       MARRIED|          6| 46619|      18675|            4|           HOUSING|    1209867|      8|      29999|              6|               8|\n",
      "|    IB14027| 51|  MALE|     SYSTEM MANAGER|       MARRIED|          3| 49999|      19111|            5|       RESTAURANTS|      60676|      8|      13000|              2|               5|\n",
      "|    IB14029| 24|FEMALE|            TEACHER|        SINGLE|          3| 45008|      17454|            4|        AUTOMOBILE|     399435|      9|      51987|              4|               7|\n",
      "|    IB14031| 37|FEMALE|  SOFTWARE ENGINEER|       MARRIED|          5| 55999|      23999|            5|        AUTOMOBILE|      60999|      2|          0|              5|               3|\n",
      "|    IB14032| 24|  MALE|       DATA ANALYST|        SINGLE|          4| 60111|      28999|            6|        AUTOMOBILE|      35232|      5|      33333|              1|               2|\n",
      "|    IB14034| 32|  MALE|   PRODUCT ENGINEER|       MARRIED|          6|  null|      29000|            7|COMPUTER SOFTWARES|      80660|      6|       4500|              5|               4|\n",
      "|    IB14037| 54|FEMALE|            TEACHER|       MARRIED|          5| 48099|      19999|            4|       RESTAURANTS|      30999|      1|      12000|              7|               5|\n",
      "|    IB14039| 45|  MALE|    ACCOUNT MANAGER|       MARRIED|          7| 45777|      18452|            4|         GOLD LOAN|     987611|      7|      39999|              8|               1|\n",
      "|    IB14041| 59|FEMALE|ASSISTANT PROFESSOR|       MARRIED|          4| 50999|      22999|            5|  EDUCATIONAL LOAN|     599934|      3|       9000|              9|               9|\n",
      "|    IB14042| 25|FEMALE|             DOCTOR|        SINGLE|          4| 60111|      27111|            5|        TRAVELLING|    1290929|      4|      18000|              1|               0|\n",
      "|    IB14045| 31|  MALE|       STORE KEEPER|        SINGLE|          5| 40999|      11999|            3|       BOOK STORES|     167654|      1|       4500|              0|               1|\n",
      "|    IB14049| 49|  MALE|       BANK MANAGER|       MARRIED|          4| 45999|      14500|            4|        TRAVELLING|      79999|      4|       6700|              7|               3|\n",
      "|    IB14050| 56|  MALE|     CIVIL ENGINEER|       MARRIED|          4|  null|      13999|            3|           HOUSING|    1065577|      6|      19999|              4|               2|\n",
      "|    IB14054| 58|FEMALE|             DOCTOR|       MARRIED|          5| 60000|      25000|            5|           HOUSING|     900000|      5|      21000|              9|               0|\n",
      "+-----------+---+------+-------------------+--------------+-----------+------+-----------+-------------+------------------+-----------+-------+-----------+---------------+----------------+\n",
      "only showing top 20 rows\n",
      "\n"
     ]
    }
   ],
   "source": [
    "df.show()"
   ]
  },
  {
   "cell_type": "code",
   "execution_count": 107,
   "metadata": {},
   "outputs": [
    {
     "data": {
      "text/plain": [
       "[('Customer_ID', 'string'),\n",
       " ('Age', 'int'),\n",
       " ('Gender', 'string'),\n",
       " ('Occupation', 'string'),\n",
       " ('Marital Status', 'string'),\n",
       " ('Family Size', 'int'),\n",
       " ('Income', 'int'),\n",
       " ('Expenditure', 'int'),\n",
       " ('Use Frequency', 'int'),\n",
       " ('Loan Category', 'string'),\n",
       " ('Loan Amount', 'int'),\n",
       " ('Overdue', 'int'),\n",
       " ('Debt Record', 'int'),\n",
       " ('Returned Cheque', 'int'),\n",
       " ('Dishonor of Bill', 'int')]"
      ]
     },
     "execution_count": 107,
     "metadata": {},
     "output_type": "execute_result"
    }
   ],
   "source": [
    "df.dtypes"
   ]
  },
  {
   "cell_type": "code",
   "execution_count": 108,
   "metadata": {},
   "outputs": [
    {
     "name": "stdout",
     "output_type": "stream",
     "text": [
      "+------------------+-----+\n",
      "|     Loan Category|count|\n",
      "+------------------+-----+\n",
      "|         GOLD LOAN|   77|\n",
      "|           HOUSING|   67|\n",
      "|        AUTOMOBILE|   60|\n",
      "|        TRAVELLING|   53|\n",
      "|       RESTAURANTS|   41|\n",
      "|COMPUTER SOFTWARES|   35|\n",
      "|          SHOPPING|   35|\n",
      "|          BUSINESS|   24|\n",
      "|  EDUCATIONAL LOAN|   20|\n",
      "|        RESTAURANT|   20|\n",
      "|           DINNING|   14|\n",
      "|       ELECTRONICS|   14|\n",
      "|   HOME APPLIANCES|   14|\n",
      "|       AGRICULTURE|   12|\n",
      "|       BOOK STORES|    7|\n",
      "|          BUILDING|    7|\n",
      "+------------------+-----+\n",
      "\n"
     ]
    }
   ],
   "source": [
    "# Number of loans in each category\n",
    "from pyspark.sql import functions as f\n",
    "\n",
    "df.groupBy(\"Loan Category\").agg(f.count(\"Loan Category\").alias(\"count\")).orderBy(\n",
    "    \"count\", ascending=False\n",
    ").show()\n"
   ]
  },
  {
   "cell_type": "code",
   "execution_count": 109,
   "metadata": {},
   "outputs": [
    {
     "data": {
      "text/plain": [
       "450"
      ]
     },
     "execution_count": 109,
     "metadata": {},
     "output_type": "execute_result"
    }
   ],
   "source": [
    "# b. Number of people who have taken more than 1 lakh loan\n",
    "# df.where('\"Loan Amount\" > \"1,00,000\"').show()\n",
    "# df.filter(df['Loan Amount']> '1,00,000').agg(f.count('Loan Amount').alias('count of loan_amount_more_than_1lac')).show()\n",
    "df.filter(df[\"Loan Amount\"] > 100000).count()"
   ]
  },
  {
   "cell_type": "code",
   "execution_count": 110,
   "metadata": {},
   "outputs": [
    {
     "data": {
      "text/plain": [
       "198"
      ]
     },
     "execution_count": 110,
     "metadata": {},
     "output_type": "execute_result"
    }
   ],
   "source": [
    "# c. Number of people with income greater than 60000 rupees\n",
    "df.filter(df['Income'] > 60000).count()"
   ]
  },
  {
   "cell_type": "code",
   "execution_count": 111,
   "metadata": {},
   "outputs": [
    {
     "data": {
      "text/plain": [
       "117"
      ]
     },
     "execution_count": 111,
     "metadata": {},
     "output_type": "execute_result"
    }
   ],
   "source": [
    "# d. Number of people with 2 or more returned cheques and income less than 50000\n",
    "df.filter((df['Returned Cheque'] > 2) & (df['Income'] < 50000)).count()"
   ]
  },
  {
   "cell_type": "code",
   "execution_count": 116,
   "metadata": {},
   "outputs": [
    {
     "data": {
      "text/plain": [
       "90"
      ]
     },
     "execution_count": 116,
     "metadata": {},
     "output_type": "execute_result"
    }
   ],
   "source": [
    "# e. Number of people with 2 or more returned cheques and are single\n",
    "df.filter((df['Returned Cheque'] > 2) & (df['Marital Status']=='SINGLE')).count()"
   ]
  },
  {
   "cell_type": "code",
   "execution_count": 117,
   "metadata": {},
   "outputs": [
    {
     "data": {
      "text/plain": [
       "6"
      ]
     },
     "execution_count": 117,
     "metadata": {},
     "output_type": "execute_result"
    }
   ],
   "source": [
    "# f. Number of people with expenditure over 50000 a month\n",
    "df.filter(df['Expenditure'] > 50000).count()"
   ]
  }
 ],
 "metadata": {
  "kernelspec": {
   "display_name": "Python 3",
   "language": "python",
   "name": "python3"
  },
  "language_info": {
   "codemirror_mode": {
    "name": "ipython",
    "version": 3
   },
   "file_extension": ".py",
   "mimetype": "text/x-python",
   "name": "python",
   "nbconvert_exporter": "python",
   "pygments_lexer": "ipython3",
   "version": "3.11.3"
  }
 },
 "nbformat": 4,
 "nbformat_minor": 2
}
