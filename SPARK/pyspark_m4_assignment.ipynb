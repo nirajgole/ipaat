{
 "cells": [
  {
   "cell_type": "markdown",
   "metadata": {},
   "source": [
    "### PySpark Module 4 Assignment\n",
    "\n",
    "New York City Airbnb Open Data: This dataset is publicly available. This data file\n",
    "includes all needed information to find out more about hosts, geographical availability, and\n",
    "necessary metrics to make predictions and draw conclusions.\n",
    "https://www.kaggle.com/datasets/arianazmoudeh/airbnbopendata/\n"
   ]
  },
  {
   "cell_type": "code",
   "execution_count": 1,
   "metadata": {},
   "outputs": [],
   "source": [
    "# import pandas as pd\n",
    "\n",
    "# df = pd.read_csv('../data/Airbnb_Open_Data.csv')\n",
    "# df.info()"
   ]
  },
  {
   "cell_type": "code",
   "execution_count": 2,
   "metadata": {},
   "outputs": [],
   "source": [
    "import findspark\n",
    "findspark.find()\n",
    "findspark.init()\n",
    "\n",
    "from pyspark.sql import SparkSession\n",
    "spark = SparkSession.builder\\\n",
    "    .appName('AirBnb NewYork Insights')\\\n",
    "    .master('local[2]')\\\n",
    "    .getOrCreate()"
   ]
  },
  {
   "cell_type": "code",
   "execution_count": 3,
   "metadata": {},
   "outputs": [
    {
     "data": {
      "text/html": [
       "\n",
       "            <div>\n",
       "                <p><b>SparkSession - in-memory</b></p>\n",
       "                \n",
       "        <div>\n",
       "            <p><b>SparkContext</b></p>\n",
       "\n",
       "            <p><a href=\"http://N7:4040\">Spark UI</a></p>\n",
       "\n",
       "            <dl>\n",
       "              <dt>Version</dt>\n",
       "                <dd><code>v3.4.1</code></dd>\n",
       "              <dt>Master</dt>\n",
       "                <dd><code>local[2]</code></dd>\n",
       "              <dt>AppName</dt>\n",
       "                <dd><code>AirBnb NewYork Insights</code></dd>\n",
       "            </dl>\n",
       "        </div>\n",
       "        \n",
       "            </div>\n",
       "        "
      ],
      "text/plain": [
       "<pyspark.sql.session.SparkSession at 0x2a74d2947d0>"
      ]
     },
     "execution_count": 3,
     "metadata": {},
     "output_type": "execute_result"
    }
   ],
   "source": [
    "spark"
   ]
  },
  {
   "cell_type": "code",
   "execution_count": 4,
   "metadata": {},
   "outputs": [],
   "source": [
    "from pyspark.sql.types import StructType,StructField,StringType,IntegerType,FloatType,DateType,BooleanType,LongType,CharType,ShortType\n",
    "\n",
    "# schema = StructType([\n",
    "#     StructField('id',IntegerType(),nullable=False),\n",
    "#     StructField('name',StringType()),\n",
    "#     StructField('host_id',StringType()),\n",
    "#     StructField('host_identity_verified',StringType()),\n",
    "#     StructField('host_name',StringType()),\n",
    "#     StructField('neighborhood group',StringType()),\n",
    "#     StructField('neighborhood',StringType()),\n",
    "#     StructField('lat',FloatType(),False),\n",
    "#     StructField('long',FloatType(),False),\n",
    "#     StructField('country',StringType()),\n",
    "#     StructField('country_code',StringType()),\n",
    "#     StructField('instant_bookable',BooleanType()),\n",
    "#     StructField('cancellation_policy',StringType()),\n",
    "#     StructField('room',StringType()),\n",
    "#     StructField('construction_year',StringType()),\n",
    "#     StructField('price',StringType()),\n",
    "#     StructField('service_fee',StringType()),\n",
    "#     StructField('minimum_nights',IntegerType()),\n",
    "#     StructField('number_of_reviews',IntegerType()),\n",
    "#     StructField('last_review',DateType()),\n",
    "#     StructField('reviews_per_month',StringType()),\n",
    "#     StructField('review_rate_number',StringType()),\n",
    "#     StructField('calculated_host_listings_count',StringType()),\n",
    "#     StructField('availability_365',StringType()),\n",
    "#     StructField('house_rules',StringType()),\n",
    "#     StructField('license',StringType()),\n",
    "# ])"
   ]
  },
  {
   "cell_type": "markdown",
   "metadata": {},
   "source": [
    "### Using dataset, we will perform the following tasks:\n"
   ]
  },
  {
   "cell_type": "code",
   "execution_count": 5,
   "metadata": {},
   "outputs": [
    {
     "name": "stdout",
     "output_type": "stream",
     "text": [
      "+-------+--------------------+-----------+----------------------+---------+-------------------+------------------+--------+---------+-------------+------------+----------------+-------------------+---------------+-----------------+-------+-----------+--------------+-----------------+-----------+-----------------+------------------+------------------------------+----------------+--------------------+-------+\n",
      "|     id|                NAME|    host id|host_identity_verified|host name|neighbourhood group|     neighbourhood|     lat|     long|      country|country code|instant_bookable|cancellation_policy|      room type|Construction year|  price|service fee|minimum nights|number of reviews|last review|reviews per month|review rate number|calculated host listings count|availability 365|         house_rules|license|\n",
      "+-------+--------------------+-----------+----------------------+---------+-------------------+------------------+--------+---------+-------------+------------+----------------+-------------------+---------------+-----------------+-------+-----------+--------------+-----------------+-----------+-----------------+------------------+------------------------------+----------------+--------------------+-------+\n",
      "|1001254|Clean & quiet apt...|80014485718|           unconfirmed| Madaline|           Brooklyn|        Kensington|40.64749|-73.97237|United States|          US|           FALSE|             strict|   Private room|             2020|  $966 |      $193 |            10|                9| 10/19/2021|             0.21|                 4|                             6|             286|Clean up and trea...|   null|\n",
      "|1002102|Skylit Midtown Ca...|52335172823|              verified|    Jenna|          Manhattan|           Midtown|40.75362|-73.98377|United States|          US|           FALSE|           moderate|Entire home/apt|             2007|  $142 |       $28 |            30|               45|  5/21/2022|             0.38|                 4|                             2|             228|Pet friendly but ...|   null|\n",
      "|1002403|THE VILLAGE OF HA...|78829239556|                  null|    Elise|          Manhattan|            Harlem|40.80902| -73.9419|United States|          US|            TRUE|           flexible|   Private room|             2005|  $620 |      $124 |             3|                0|       null|             null|                 5|                             1|             352|I encourage you t...|   null|\n",
      "|1002755|                null|85098326012|           unconfirmed|    Garry|           Brooklyn|      Clinton Hill|40.68514|-73.95976|United States|          US|            TRUE|           moderate|Entire home/apt|             2005|  $368 |       $74 |            30|              270|   7/5/2019|             4.64|                 4|                             1|             322|                null|   null|\n",
      "|1003689|Entire Apt: Spaci...|92037596077|              verified|   Lyndon|          Manhattan|       East Harlem|40.79851|-73.94399|United States|          US|           FALSE|           moderate|Entire home/apt|             2009|  $204 |       $41 |            10|                9| 11/19/2018|              0.1|                 3|                             1|             289|Please no smoking...|   null|\n",
      "|1004098|Large Cozy 1 BR A...|45498551794|              verified| Michelle|          Manhattan|       Murray Hill|40.74767|  -73.975|United States|          US|            TRUE|           flexible|Entire home/apt|             2013|  $577 |      $115 |             3|               74|  6/22/2019|             0.59|                 3|                             1|             374|No smoking, pleas...|   null|\n",
      "|1004650|     BlissArtsSpace!|61300605564|                  null|  Alberta|           Brooklyn|Bedford-Stuyvesant|40.68688|-73.95596|United States|          US|           FALSE|           moderate|   Private room|             2015|   $71 |       $14 |            45|               49|  10/5/2017|              0.4|                 5|                             1|             224|Please no shoes i...|   null|\n",
      "|1005202|     BlissArtsSpace!|90821839709|           unconfirmed|     Emma|           Brooklyn|Bedford-Stuyvesant|40.68688|-73.95596|United States|          US|           FALSE|           moderate|   Private room|             2009|$1,060 |      $212 |            45|               49|  10/5/2017|              0.4|                 5|                             1|             219|House Guidelines ...|   null|\n",
      "|1005754|Large Furnished R...|79384379533|              verified|   Evelyn|          Manhattan|    Hell's Kitchen|40.76489|-73.98493|United States|          US|            TRUE|             strict|   Private room|             2005|$1,018 |      $204 |             2|              430|  6/24/2019|             3.47|                 3|                             1|             180|- Please clean up...|   null|\n",
      "|1006307|Cozy Clean Guest ...|75527839483|           unconfirmed|     Carl|          Manhattan|   Upper West Side|40.80178|-73.96723|United States|          US|           FALSE|             strict|   Private room|             2015|  $291 |       $58 |             2|              118|  7/21/2017|             0.99|                 5|                             1|             375|NO SMOKING OR PET...|   null|\n",
      "+-------+--------------------+-----------+----------------------+---------+-------------------+------------------+--------+---------+-------------+------------+----------------+-------------------+---------------+-----------------+-------+-----------+--------------+-----------------+-----------+-----------------+------------------+------------------------------+----------------+--------------------+-------+\n",
      "only showing top 10 rows\n",
      "\n"
     ]
    }
   ],
   "source": [
    "# 1. Load the dataset\n",
    "df = spark.read\\\n",
    "    .option('header',True)\\\n",
    "    .format('csv')\\\n",
    "    .load('../data/Airbnb_Open_Data.csv')\n",
    "\n",
    "# 2. Print the first 10 rows\n",
    "df.show(10)"
   ]
  },
  {
   "cell_type": "code",
   "execution_count": 6,
   "metadata": {},
   "outputs": [
    {
     "name": "stdout",
     "output_type": "stream",
     "text": [
      "+-------+--------------------+-----------+----------------------+---------+------------------+------------------+--------+---------+-------------+------------+----------------+-------------------+---------------+-----------------+-----+-----------+--------------+-----------------+-----------+-----------------+------------------+------------------------------+----------------+--------------------+-------+\n",
      "|     id|                name|    host_id|host_identity_verified|host_name|neighborhood_group|     neighbourhood|latitude|longitude|      country|country_code|instant_bookable|cancellation_policy|      room_type|construction_year|price|service_fee|minimum_nights|number_of_reviews|last_review|reviews_per_month|review_rate_number|calculated_host_listings_count|availability_365|         house_rules|license|\n",
      "+-------+--------------------+-----------+----------------------+---------+------------------+------------------+--------+---------+-------------+------------+----------------+-------------------+---------------+-----------------+-----+-----------+--------------+-----------------+-----------+-----------------+------------------+------------------------------+----------------+--------------------+-------+\n",
      "|1001254|Clean & quiet apt...|80014485718|           unconfirmed| Madaline|          Brooklyn|        Kensington|40.64749|-73.97237|United States|          US|           false|             strict|   Private room|             2020|  966|        193|            10|                9| 10/19/2021|             0.21|                 4|                             6|             286|Clean up and trea...|   null|\n",
      "|1002102|Skylit Midtown Ca...|52335172823|              verified|    Jenna|         Manhattan|           Midtown|40.75362|-73.98377|United States|          US|           false|           moderate|Entire home/apt|             2007|  142|         28|            30|               45|  5/21/2022|             0.38|                 4|                             2|             228|Pet friendly but ...|   null|\n",
      "|1002403|THE VILLAGE OF HA...|78829239556|                  null|    Elise|         Manhattan|            Harlem|40.80902| -73.9419|United States|          US|            true|           flexible|   Private room|             2005|  620|        124|             3|                0|       null|             null|                 5|                             1|             352|I encourage you t...|   null|\n",
      "|1002755|                null|85098326012|           unconfirmed|    Garry|          Brooklyn|      Clinton Hill|40.68514|-73.95976|United States|          US|            true|           moderate|Entire home/apt|             2005|  368|         74|            30|              270|   7/5/2019|             4.64|                 4|                             1|             322|                null|   null|\n",
      "|1003689|Entire Apt: Spaci...|92037596077|              verified|   Lyndon|         Manhattan|       East Harlem|40.79851|-73.94399|United States|          US|           false|           moderate|Entire home/apt|             2009|  204|         41|            10|                9| 11/19/2018|              0.1|                 3|                             1|             289|Please no smoking...|   null|\n",
      "|1004098|Large Cozy 1 BR A...|45498551794|              verified| Michelle|         Manhattan|       Murray Hill|40.74767|  -73.975|United States|          US|            true|           flexible|Entire home/apt|             2013|  577|        115|             3|               74|  6/22/2019|             0.59|                 3|                             1|             374|No smoking, pleas...|   null|\n",
      "|1004650|     BlissArtsSpace!|61300605564|                  null|  Alberta|          Brooklyn|Bedford-Stuyvesant|40.68688|-73.95596|United States|          US|           false|           moderate|   Private room|             2015|   71|         14|            45|               49|  10/5/2017|              0.4|                 5|                             1|             224|Please no shoes i...|   null|\n",
      "|1005202|     BlissArtsSpace!|90821839709|           unconfirmed|     Emma|          Brooklyn|Bedford-Stuyvesant|40.68688|-73.95596|United States|          US|           false|           moderate|   Private room|             2009| 1060|        212|            45|               49|  10/5/2017|              0.4|                 5|                             1|             219|House Guidelines ...|   null|\n",
      "|1005754|Large Furnished R...|79384379533|              verified|   Evelyn|         Manhattan|    Hell's Kitchen|40.76489|-73.98493|United States|          US|            true|             strict|   Private room|             2005| 1018|        204|             2|              430|  6/24/2019|             3.47|                 3|                             1|             180|- Please clean up...|   null|\n",
      "|1006307|Cozy Clean Guest ...|75527839483|           unconfirmed|     Carl|         Manhattan|   Upper West Side|40.80178|-73.96723|United States|          US|           false|             strict|   Private room|             2015|  291|         58|             2|              118|  7/21/2017|             0.99|                 5|                             1|             375|NO SMOKING OR PET...|   null|\n",
      "+-------+--------------------+-----------+----------------------+---------+------------------+------------------+--------+---------+-------------+------------+----------------+-------------------+---------------+-----------------+-----+-----------+--------------+-----------------+-----------+-----------------+------------------+------------------------------+----------------+--------------------+-------+\n",
      "only showing top 10 rows\n",
      "\n"
     ]
    }
   ],
   "source": [
    "from pyspark.sql.functions import col,regexp_replace\n",
    "\n",
    "rdd = df\\\n",
    "    .withColumn('id',col('id').cast(IntegerType()))\\\n",
    "    .withColumn('name',col('name').cast(StringType()))\\\n",
    "    .withColumnRenamed('host id','host_id')\\\n",
    "    .withColumn('host_id',col('host_id').cast(LongType()))\\\n",
    "    .withColumn('host_identity_verified',col('host_identity_verified'))\\\n",
    "    .withColumnRenamed('host name','host_name')\\\n",
    "    .withColumn('host_name',col('host_name'))\\\n",
    "    .withColumnRenamed('neighbourhood group','neighborhood_group')\\\n",
    "    .withColumnRenamed('lat','latitude')\\\n",
    "    .withColumn('latitude',col('latitude').cast(FloatType()))\\\n",
    "    .withColumnRenamed('long','longitude')\\\n",
    "    .withColumn('longitude',col('longitude').cast(FloatType()))\\\n",
    "    .withColumn('country',col('country').cast(StringType()))\\\n",
    "    .withColumnRenamed('country code','country_code')\\\n",
    "    .withColumn('country_code',col('country_code').cast(CharType(3)))\\\n",
    "    .withColumn('instant_bookable',col('instant_bookable').cast(BooleanType()))\\\n",
    "    .withColumn('cancellation_policy',col('cancellation_policy').cast(StringType()))\\\n",
    "    .withColumnRenamed('room type','room_type')\\\n",
    "    .withColumn('room_type',col('room_type').cast(StringType()))\\\n",
    "    .withColumnRenamed('Construction year','construction_year')\\\n",
    "    .withColumn('construction_year',col('construction_year').cast(ShortType()))\\\n",
    "    .withColumn('price',regexp_replace(col('price'),r'[\\D]','').cast(IntegerType()))\\\n",
    "    .withColumnRenamed('service fee','service_fee')\\\n",
    "    .withColumn('service_fee',regexp_replace(col('service_fee'),r'[\\D]','').cast(IntegerType()))\\\n",
    "    .withColumnRenamed('minimum nights','minimum_nights')\\\n",
    "    .withColumn('minimum_nights',col('minimum_nights').cast(ShortType()))\\\n",
    "    .withColumnRenamed('number of reviews','number_of_reviews')\\\n",
    "    .withColumn('number_of_reviews',col('number_of_reviews').cast(IntegerType()))\\\n",
    "    .withColumnRenamed('last review','last_review')\\\n",
    "    .withColumnRenamed('reviews per month','reviews_per_month')\\\n",
    "    .withColumn('reviews_per_month',col('reviews_per_month').cast(FloatType()))\\\n",
    "    .withColumnRenamed('review rate number','review_rate_number')\\\n",
    "    .withColumn('review_rate_number',col('review_rate_number').cast(ShortType()))\\\n",
    "    .withColumnRenamed('calculated host listings count','calculated_host_listings_count')\\\n",
    "    .withColumn('calculated_host_listings_count',col('calculated_host_listings_count').cast(ShortType()))\\\n",
    "    .withColumnRenamed('availability 365','availability_365')\\\n",
    "    .withColumn('availability_365',col('availability_365').cast(ShortType()))\\\n",
    "    .withColumn('house_rules',col('house_rules').cast(StringType()))\\\n",
    "    .withColumn('license',col('license').cast(StringType()))\\\n",
    "\n",
    "\n",
    "rdd.show(10)"
   ]
  },
  {
   "cell_type": "code",
   "execution_count": 7,
   "metadata": {},
   "outputs": [
    {
     "data": {
      "text/plain": [
       "'No of private rooms: 46351'"
      ]
     },
     "execution_count": 7,
     "metadata": {},
     "output_type": "execute_result"
    }
   ],
   "source": [
    "# 3. Find the total number of private rooms in the ‘room_type’ column\n",
    "no_of_private_rooms = rdd.filter(rdd['room_type'] == 'Private room').count()\n",
    "f'No of private rooms: {no_of_private_rooms}'"
   ]
  },
  {
   "cell_type": "code",
   "execution_count": 8,
   "metadata": {},
   "outputs": [
    {
     "name": "stdout",
     "output_type": "stream",
     "text": [
      "[('max_price', 'int'), ('min_price', 'int'), ('avg_price', 'double')]\n",
      "+---------+---------+-----------------+\n",
      "|max_price|min_price|        avg_price|\n",
      "+---------+---------+-----------------+\n",
      "|     2022|       10|623.8110062339997|\n",
      "+---------+---------+-----------------+\n",
      "\n"
     ]
    }
   ],
   "source": [
    "# 4. Find the max, min, and average of the price column\n",
    "import pyspark.sql.functions as f\n",
    "price_stat=rdd.agg(\n",
    "    f.max(\"price\").alias('max_price'),\n",
    "    f.min('price').alias('min_price'),\n",
    "    f.avg('price').alias('avg_price')\n",
    ")\n",
    "print(price_stat.dtypes)\n",
    "price_stat.show()"
   ]
  },
  {
   "cell_type": "code",
   "execution_count": 9,
   "metadata": {},
   "outputs": [
    {
     "data": {
      "text/plain": [
       "'No. of rooms available for booking for less than 200 days a year: 31347'"
      ]
     },
     "execution_count": 9,
     "metadata": {},
     "output_type": "execute_result"
    }
   ],
   "source": [
    "# 5. Find the number of rooms available for booking for less than 200 days a year (use the ‘availability_365’ column)\n",
    "no_of_rooms_available=rdd\\\n",
    "    .where('availability_365 < 200 and room_type=\"Private room\"')\\\n",
    "    .count()\n",
    "f'No. of rooms available for booking for less than 200 days a year: {no_of_rooms_available}'"
   ]
  },
  {
   "cell_type": "code",
   "execution_count": 10,
   "metadata": {},
   "outputs": [
    {
     "name": "stdout",
     "output_type": "stream",
     "text": [
      "+--------+--------------------+-----------+----------------------+------------+------------------+------------------+--------+---------+-------------+------------+----------------+-------------------+---------------+-----------------+-----+-----------+--------------+-----------------+-----------+-----------------+------------------+------------------------------+----------------+-----------+-------+\n",
      "|      id|                name|    host_id|host_identity_verified|   host_name|neighborhood_group|     neighbourhood|latitude|longitude|      country|country_code|instant_bookable|cancellation_policy|      room_type|construction_year|price|service_fee|minimum_nights|number_of_reviews|last_review|reviews_per_month|review_rate_number|calculated_host_listings_count|availability_365|house_rules|license|\n",
      "+--------+--------------------+-----------+----------------------+------------+------------------+------------------+--------+---------+-------------+------------+----------------+-------------------+---------------+-----------------+-----+-----------+--------------+-----------------+-----------+-----------------+------------------+------------------------------+----------------+-----------+-------+\n",
      "|29990458|Sonder Battery Pa...|53558555483|              verified|Sonder (NYC)|         Manhattan|Financial District|40.70617|-74.01486|United States|          US|           false|             strict|Entire home/apt|             2019|  121|         24|             2|             1024|  2/21/2022|            57.31|                 4|                            54|             365|       null|   null|\n",
      "|35378697|           City King|44069230937|              verified|   Arlo SoHo|         Manhattan|              SoHo| 40.7244|-74.00794|United States|          US|           false|           moderate|     Hotel room|             2017| 1097|        219|             1|             1010| 11/22/2021|            33.08|                 4|                            11|              80|       null|   null|\n",
      "|28505324|Amazing Micro Uni...|23813117370|              verified|   The Ridge|         Manhattan|      East Village| 40.7238|-73.99038|United States|          US|            true|             strict|   Private room|             2011|  123|         25|             1|              966|   3/2/2022|            34.46|                 2|                             4|             355|       null|   null|\n",
      "|30316315|Enjoy great views...|41031720514|           unconfirmed|     Row NYC|         Manhattan|  Theater District|40.75876|-73.98846|United States|          US|           false|           flexible|     Hotel room|             2004|  486|         97|             1|              884|  2/19/2022|            25.23|                 3|                             9|             360|       null|   null|\n",
      "|28424688|Come catch a Broa...|20032806094|              verified|           M|         Manhattan|  Theater District| 40.7636|-73.98473|United States|          US|           false|           flexible|   Private room|             2008|   89|         18|             1|              849|   3/3/2022|             90.0|                 4|                            12|             361|       null|   null|\n",
      "|28520788|Hudson River View...|78564178478|           unconfirmed|           M|         Manhattan|  Theater District| 40.7619|-73.98454|United States|          US|           false|           moderate|   Private room|             2004|  552|        110|             1|              797|   3/2/2022|            84.49|                 4|                            12|             361|       null|   null|\n",
      "|28398178|Beautiful Standar...|87332142446|           unconfirmed|   The Ridge|         Manhattan|   Lower East Side|40.72259|-73.98841|United States|          US|           false|             strict|   Private room|             2018|   74|         15|             1|              776|   3/3/2022|            30.51|                 4|                             4|             338|       null|   null|\n",
      "|32776260|      King Room City|90212124971|              verified|  Arlo NoMad|         Manhattan|           Midtown|40.74623|-73.98499|United States|          US|            true|             strict|     Hotel room|             2012|  257|         51|             1|              738|  1/10/2022|            24.49|                 3|                            11|             118|       null|   null|\n",
      "|29047130|THE PRIVACY DEN ~...|12571850348|           unconfirmed|     Miss Dy|            Queens|           Jamaica|40.66946|-73.76679|United States|          US|            true|           moderate|Entire home/apt|             2005| 1147|        229|             1|              698|  2/27/2022|            10.55|                 5|                             1|              74|       null|   null|\n",
      "|30995644|Entire New Apartm...|19892961158|           unconfirmed|        J. E|          Brooklyn|           Gowanus|40.66714|-73.99411|United States|          US|            true|           moderate|   Private room|             2008|  847|        169|             1|              679|  2/13/2022|             9.51|                 2|                             1|              65|       null|   null|\n",
      "+--------+--------------------+-----------+----------------------+------------+------------------+------------------+--------+---------+-------------+------------+----------------+-------------------+---------------+-----------------+-----+-----------+--------------+-----------------+-----------+-----------------+------------------+------------------------------+----------------+-----------+-------+\n",
      "\n"
     ]
    }
   ],
   "source": [
    "# 6. Find 10 host places that have the most number of reviews\n",
    "top_10_records = rdd.orderBy(col(\"number_of_reviews\").desc()).limit(10)\n",
    "top_10_records.show()"
   ]
  },
  {
   "cell_type": "code",
   "execution_count": 11,
   "metadata": {},
   "outputs": [
    {
     "name": "stdout",
     "output_type": "stream",
     "text": [
      "+--------+--------------------+-----------+----------------------+------------+------------------+------------------+--------+---------+-------------+------------+----------------+-------------------+---------------+-----------------+-----+-----------+--------------+-----------------+-----------+-----------------+------------------+------------------------------+----------------+-----------+-------+\n",
      "|      id|                name|    host_id|host_identity_verified|   host_name|neighborhood_group|     neighbourhood|latitude|longitude|      country|country_code|instant_bookable|cancellation_policy|      room_type|construction_year|price|service_fee|minimum_nights|number_of_reviews|last_review|reviews_per_month|review_rate_number|calculated_host_listings_count|availability_365|house_rules|license|\n",
      "+--------+--------------------+-----------+----------------------+------------+------------------+------------------+--------+---------+-------------+------------+----------------+-------------------+---------------+-----------------+-----+-----------+--------------+-----------------+-----------+-----------------+------------------+------------------------------+----------------+-----------+-------+\n",
      "|29990458|Sonder Battery Pa...|53558555483|              verified|Sonder (NYC)|         Manhattan|Financial District|40.70617|-74.01486|United States|          US|           false|             strict|Entire home/apt|             2019|  121|         24|             2|             1024|  2/21/2022|            57.31|                 4|                            54|             365|       null|   null|\n",
      "|35378697|           City King|44069230937|              verified|   Arlo SoHo|         Manhattan|              SoHo| 40.7244|-74.00794|United States|          US|           false|           moderate|     Hotel room|             2017| 1097|        219|             1|             1010| 11/22/2021|            33.08|                 4|                            11|              80|       null|   null|\n",
      "|28505324|Amazing Micro Uni...|23813117370|              verified|   The Ridge|         Manhattan|      East Village| 40.7238|-73.99038|United States|          US|            true|             strict|   Private room|             2011|  123|         25|             1|              966|   3/2/2022|            34.46|                 2|                             4|             355|       null|   null|\n",
      "|30316315|Enjoy great views...|41031720514|           unconfirmed|     Row NYC|         Manhattan|  Theater District|40.75876|-73.98846|United States|          US|           false|           flexible|     Hotel room|             2004|  486|         97|             1|              884|  2/19/2022|            25.23|                 3|                             9|             360|       null|   null|\n",
      "|28424688|Come catch a Broa...|20032806094|              verified|           M|         Manhattan|  Theater District| 40.7636|-73.98473|United States|          US|           false|           flexible|   Private room|             2008|   89|         18|             1|              849|   3/3/2022|             90.0|                 4|                            12|             361|       null|   null|\n",
      "|28520788|Hudson River View...|78564178478|           unconfirmed|           M|         Manhattan|  Theater District| 40.7619|-73.98454|United States|          US|           false|           moderate|   Private room|             2004|  552|        110|             1|              797|   3/2/2022|            84.49|                 4|                            12|             361|       null|   null|\n",
      "|28398178|Beautiful Standar...|87332142446|           unconfirmed|   The Ridge|         Manhattan|   Lower East Side|40.72259|-73.98841|United States|          US|           false|             strict|   Private room|             2018|   74|         15|             1|              776|   3/3/2022|            30.51|                 4|                             4|             338|       null|   null|\n",
      "|32776260|      King Room City|90212124971|              verified|  Arlo NoMad|         Manhattan|           Midtown|40.74623|-73.98499|United States|          US|            true|             strict|     Hotel room|             2012|  257|         51|             1|              738|  1/10/2022|            24.49|                 3|                            11|             118|       null|   null|\n",
      "|29047130|THE PRIVACY DEN ~...|12571850348|           unconfirmed|     Miss Dy|            Queens|           Jamaica|40.66946|-73.76679|United States|          US|            true|           moderate|Entire home/apt|             2005| 1147|        229|             1|              698|  2/27/2022|            10.55|                 5|                             1|              74|       null|   null|\n",
      "|30995644|Entire New Apartm...|19892961158|           unconfirmed|        J. E|          Brooklyn|           Gowanus|40.66714|-73.99411|United States|          US|            true|           moderate|   Private room|             2008|  847|        169|             1|              679|  2/13/2022|             9.51|                 2|                             1|              65|       null|   null|\n",
      "+--------+--------------------+-----------+----------------------+------------+------------------+------------------+--------+---------+-------------+------------+----------------+-------------------+---------------+-----------------+-----+-----------+--------------+-----------------+-----------+-----------------+------------------+------------------------------+----------------+-----------+-------+\n",
      "\n"
     ]
    }
   ],
   "source": [
    "#Alternate method\n",
    "rdd.createOrReplaceTempView(\"AirBnbNewYork\")\n",
    "top_10_records = spark.sql('select * from AirBnbNewYork order by number_of_reviews desc limit 10')\n",
    "# ANSI sql does not support TOP keyword\n",
    "top_10_records.show()"
   ]
  },
  {
   "cell_type": "code",
   "execution_count": 12,
   "metadata": {},
   "outputs": [],
   "source": [
    "# spark.stop()"
   ]
  }
 ],
 "metadata": {
  "kernelspec": {
   "display_name": "Python 3",
   "language": "python",
   "name": "python3"
  },
  "language_info": {
   "codemirror_mode": {
    "name": "ipython",
    "version": 3
   },
   "file_extension": ".py",
   "mimetype": "text/x-python",
   "name": "python",
   "nbconvert_exporter": "python",
   "pygments_lexer": "ipython3",
   "version": "3.11.3"
  }
 },
 "nbformat": 4,
 "nbformat_minor": 2
}
