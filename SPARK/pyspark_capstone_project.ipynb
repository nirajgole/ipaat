{
 "cells": [
  {
   "cell_type": "markdown",
   "metadata": {
    "application/vnd.databricks.v1+cell": {
     "cellMetadata": {},
     "inputWidgets": {},
     "nuid": "a98f2ca3-ea4c-43fd-9a41-775a5cafdbb8",
     "showTitle": false,
     "title": ""
    }
   },
   "source": [
    "### PySpark Project\n"
   ]
  },
  {
   "cell_type": "code",
   "execution_count": 0,
   "metadata": {
    "application/vnd.databricks.v1+cell": {
     "cellMetadata": {},
     "inputWidgets": {},
     "nuid": "07bc57ca-04e0-471c-bb0d-c9d803b91111",
     "showTitle": false,
     "title": ""
    }
   },
   "outputs": [],
   "source": [
    "#configuring spark\n",
    "import findspark\n",
    "findspark.init()\n",
    "findspark.find()"
   ]
  },
  {
   "cell_type": "code",
   "execution_count": 0,
   "metadata": {
    "application/vnd.databricks.v1+cell": {
     "cellMetadata": {},
     "inputWidgets": {},
     "nuid": "8dd3a44c-afc1-4a6f-9b00-36111161a685",
     "showTitle": false,
     "title": ""
    }
   },
   "outputs": [],
   "source": [
    "from pyspark.sql import SparkSession\n",
    "#starting application with two worker nodes\n",
    "spark=SparkSession.builder.appName('FbPostAnalysis').master('local[2]').getOrCreate()\n",
    "spark"
   ]
  },
  {
   "cell_type": "code",
   "execution_count": 0,
   "metadata": {
    "application/vnd.databricks.v1+cell": {
     "cellMetadata": {},
     "inputWidgets": {},
     "nuid": "eea1cb02-e25b-46bf-aac0-311d14627bd4",
     "showTitle": false,
     "title": ""
    }
   },
   "outputs": [],
   "source": [
    "df=spark\\\n",
    "    .read\\\n",
    "    .option('mode','FAILFAST')\\\n",
    "    .csv('../data/dataset_Facebook_cos.csv',header=True,inferSchema=True)\n",
    "df.show()"
   ]
  },
  {
   "cell_type": "code",
   "execution_count": 0,
   "metadata": {
    "application/vnd.databricks.v1+cell": {
     "cellMetadata": {},
     "inputWidgets": {},
     "nuid": "1aa372f6-1966-40c6-a31b-56b59684d34a",
     "showTitle": false,
     "title": ""
    }
   },
   "outputs": [],
   "source": [
    "df.printSchema()"
   ]
  },
  {
   "cell_type": "code",
   "execution_count": 0,
   "metadata": {
    "application/vnd.databricks.v1+cell": {
     "cellMetadata": {},
     "inputWidgets": {},
     "nuid": "dacc7daf-9fb9-4e89-8f0a-d63d3b599e04",
     "showTitle": false,
     "title": ""
    }
   },
   "outputs": [],
   "source": [
    "# 1. The total number of posts made\n",
    "df.count()"
   ]
  },
  {
   "cell_type": "code",
   "execution_count": 0,
   "metadata": {
    "application/vnd.databricks.v1+cell": {
     "cellMetadata": {},
     "inputWidgets": {},
     "nuid": "eb3a7b2c-25bf-44ab-984a-7ca8994d807a",
     "showTitle": false,
     "title": ""
    }
   },
   "outputs": [],
   "source": [
    "# 2. The percentage of the growth or decline of the page, in terms of likes\n",
    "# (subscriptions on the page), from the first post to the latest post\n",
    "import pyspark.sql.functions as f\n",
    "first_post_likes=df.select('Page total likes').orderBy('Post Month','Post Weekday','Post Hour').first()['Page total likes']\n",
    "last_post_likes=df.select('Page total likes').orderBy('Post Month','Post Weekday','Post Hour',ascending=False).first()['Page total likes']\n",
    "\n",
    "# type(first_post_likes)\n",
    "growth_percentage=f'{round((last_post_likes-first_post_likes)/last_post_likes*100)}%'\n",
    "growth_percentage"
   ]
  },
  {
   "cell_type": "code",
   "execution_count": 0,
   "metadata": {
    "application/vnd.databricks.v1+cell": {
     "cellMetadata": {},
     "inputWidgets": {},
     "nuid": "e049f08e-d5b0-48c7-bf79-c9f8ca6c83e2",
     "showTitle": false,
     "title": ""
    }
   },
   "outputs": [],
   "source": [
    "# 3. Which month, on average, has the highest number of post interactions?\n",
    "df.groupBy('Post Month').agg(f.avg('Total Interactions').alias('Average Monthly Interaction')).orderBy(f.desc('Average Monthly Interaction')).show(3)"
   ]
  },
  {
   "cell_type": "code",
   "execution_count": 0,
   "metadata": {
    "application/vnd.databricks.v1+cell": {
     "cellMetadata": {},
     "inputWidgets": {},
     "nuid": "e02a52b5-87ff-41c2-ad54-8aaea285391a",
     "showTitle": false,
     "title": ""
    }
   },
   "outputs": [],
   "source": [
    "# 5. Which hour of the day, on average, has the highest number of post interactions?\n",
    "df.groupBy('Post Hour').agg(f.avg('Total Interactions').alias('Average Hourly Interaction')).orderBy(f.desc('Average Hourly Interaction')).show(3)"
   ]
  },
  {
   "cell_type": "code",
   "execution_count": 0,
   "metadata": {
    "application/vnd.databricks.v1+cell": {
     "cellMetadata": {},
     "inputWidgets": {},
     "nuid": "01edfc6c-d9f9-40fe-a672-4602da8f2c41",
     "showTitle": false,
     "title": ""
    }
   },
   "outputs": [],
   "source": [
    "# 6. Determine if paid (promoted) posts have a higher correlation with a large number\n",
    "# of post shares when compared to the post shares of organic (non-promoted) posts.\n",
    "# This is to determine the commercial viability of investing in paid posts for\n",
    "# promoting cosmetic products. Answer with either a Yes or a No, and provide the\n",
    "# methodology of how you reached your conclusion\n",
    "df.groupBy('Paid').agg(\n",
    "    f.avg('Lifetime Post Total Reach').alias('Total Lifetime Reach'),\n",
    "    f.avg('Lifetime Post Consumers').alias('Total Lifetime Consumers'),\n",
    "    f.avg('Lifetime Engaged Users').alias('Total Lifetime Engaged'),\n",
    "    f.avg('share').alias('share'),\n",
    ").show()\n",
    "\n",
    "# df.where(df['Paid']==1).corr('Paid','share')\n",
    "'''\n",
    "Ans: Yes, Promoted posts have more shares than non-promoted shares.\n",
    "'''"
   ]
  },
  {
   "cell_type": "code",
   "execution_count": 0,
   "metadata": {
    "application/vnd.databricks.v1+cell": {
     "cellMetadata": {},
     "inputWidgets": {},
     "nuid": "2dfa7239-8821-4c65-b6b9-be1127d4cf58",
     "showTitle": false,
     "title": ""
    }
   },
   "outputs": [],
   "source": [
    "# 7. Which post type (photo, video, status, or link) is the most attractive to people who\n",
    "# have subscribed to your page (people who have liked the page)?\n",
    "df.groupBy('Type')\\\n",
    "    .agg(\n",
    "    f.sum('Lifetime Post reach by people who like your Page').alias('Number of people who liked page')\n",
    ")\\\n",
    "    .orderBy(f.desc('Number of people who liked page'))\\\n",
    "    .show()"
   ]
  },
  {
   "cell_type": "code",
   "execution_count": 0,
   "metadata": {
    "application/vnd.databricks.v1+cell": {
     "cellMetadata": {},
     "inputWidgets": {},
     "nuid": "576b00de-431d-4f61-a7dc-476b67408e4e",
     "showTitle": false,
     "title": ""
    }
   },
   "outputs": [],
   "source": [
    "# 8. Which hour of the day is ideal for posting photographic content? Arrange the\n",
    "# hours of the day according to the order of the Lifetime Post Impressions column?\n",
    "df.groupBy('Post Hour')\\\n",
    "    .agg(\n",
    "    f.avg('Lifetime Post Total Impressions').alias('Average Impressions')\n",
    ")\\\n",
    "    .orderBy(f.desc('Average Impressions'))\\\n",
    "    .show()"
   ]
  },
  {
   "cell_type": "code",
   "execution_count": 0,
   "metadata": {
    "application/vnd.databricks.v1+cell": {
     "cellMetadata": {},
     "inputWidgets": {},
     "nuid": "213b9805-4cf1-42f5-9b61-9dabcc7e140e",
     "showTitle": false,
     "title": ""
    }
   },
   "outputs": [],
   "source": [
    "# 9. Create an additional column with the name Likes-to-comment Ratio, with the\n",
    "# column values having the equation: likes to comment ratio = like/comment\n",
    "# Hint: Make sure the ratio is in a decimal format, and correct it to 2 decimal places\n",
    "\n",
    "df.select(\"*\",f.round(f.col('like')/f.col('comment'),2).alias('Likes-to-comment Ratio')).show()"
   ]
  },
  {
   "cell_type": "code",
   "execution_count": 0,
   "metadata": {
    "application/vnd.databricks.v1+cell": {
     "cellMetadata": {},
     "inputWidgets": {},
     "nuid": "d14a57f4-c448-42d2-bc67-c2070e8757e8",
     "showTitle": false,
     "title": ""
    }
   },
   "outputs": [],
   "source": [
    "# 10. Arrange post categories (1,2,3) in the descending order of the reach that they\n",
    "# can accumulate on average\n",
    "df.groupBy('Type').agg(\n",
    "   f.ceil(f.avg('Lifetime Post Total Reach')).alias('Average Reach')\n",
    ")\\\n",
    "    .orderBy(f.desc('Average Reach'))\\\n",
    "    .show()"
   ]
  },
  {
   "cell_type": "code",
   "execution_count": 0,
   "metadata": {
    "application/vnd.databricks.v1+cell": {
     "cellMetadata": {},
     "inputWidgets": {},
     "nuid": "22899ab1-9805-4a4b-ac38-0e6e2d0f894e",
     "showTitle": false,
     "title": ""
    }
   },
   "outputs": [],
   "source": [
    "# 11. Determine the standard deviation of the average post reach for each of the day\n",
    "# hours. This is to determine if the time of the day is an ideal criterion to identify\n",
    "# when to create posts\n",
    "df.groupBy('Post hour').agg(\n",
    "    f.stddev(f.col('Lifetime Post Total Reach'))\n",
    ").show()"
   ]
  },
  {
   "cell_type": "code",
   "execution_count": 0,
   "metadata": {
    "application/vnd.databricks.v1+cell": {
     "cellMetadata": {},
     "inputWidgets": {},
     "nuid": "556f099a-9508-453e-8261-8ae97055fd0e",
     "showTitle": false,
     "title": ""
    }
   },
   "outputs": [],
   "source": [
    "# 12. Is there any correlation between the number of post consumptions and the\n",
    "# total interactions on the post?\n",
    "df.corr('Lifetime Post Consumptions','Total Interactions')\n",
    "'''\n",
    "Ans: There is very weak relationship.\n",
    "'''"
   ]
  },
  {
   "cell_type": "code",
   "execution_count": 0,
   "metadata": {
    "application/vnd.databricks.v1+cell": {
     "cellMetadata": {},
     "inputWidgets": {},
     "nuid": "8ec69dee-f765-4bd4-aca4-0a3f8e6054e9",
     "showTitle": false,
     "title": ""
    }
   },
   "outputs": [],
   "source": [
    "# 13. Determine the two best days in a week to create posts, when people are\n",
    "# extremely active on social media, based on the data that you have\n",
    "# Hint: Question 13 can have a subjective answer. You are free to choose your own\n",
    "# approach to determine the best days to post in a week. Make sure to validate your\n",
    "# claims with the relevant code and explanation of your approach.\n",
    "df.groupBy('Post Weekday').agg(\n",
    "    f.count('Post Hour').alias('Average Hours'),\n",
    "    f.avg('Total Interactions').alias('Average Interaction'),\n",
    "    f.avg('comment').alias('Average Comment'),\n",
    "    f.avg('like').alias('Average like'),\n",
    "    f.avg('share').alias('Average share'),\n",
    ").orderBy(f.desc('Average Hours'))\\\n",
    "    .show()\n",
    "'''\n",
    "Ans: According to results Monday and Thursday are two days best for social media posts interactions.\n",
    "'''"
   ]
  }
 ],
 "metadata": {
  "application/vnd.databricks.v1+notebook": {
   "dashboards": [],
   "language": "python",
   "notebookMetadata": {},
   "notebookName": "pyspark_capstone_project",
   "widgets": {}
  },
  "kernelspec": {
   "display_name": "Python 3",
   "language": "python",
   "name": "python3"
  },
  "language_info": {
   "codemirror_mode": {
    "name": "ipython",
    "version": 3
   },
   "file_extension": ".py",
   "mimetype": "text/x-python",
   "name": "python",
   "nbconvert_exporter": "python",
   "pygments_lexer": "ipython3",
   "version": "3.11.3"
  }
 },
 "nbformat": 4,
 "nbformat_minor": 0
}
