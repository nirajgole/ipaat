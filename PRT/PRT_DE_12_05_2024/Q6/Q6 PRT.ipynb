{
 "cells": [
  {
   "cell_type": "markdown",
   "metadata": {
    "application/vnd.databricks.v1+cell": {
     "cellMetadata": {},
     "inputWidgets": {},
     "nuid": "cf34473b-06f9-4eaf-abda-b3036095ad60",
     "showTitle": false,
     "title": ""
    }
   },
   "source": [
    "6) Calculate Monthwise cumulative revenue using Azure DataBricks.\\\n",
    "Input Data:\\\n",
    "```\n",
    "+-------+----------+\n",
    "|revenue|      date|\n",
    "+-------+----------+\n",
    "|   3000|2024/01/01|\n",
    "|   2000|2024/01/02|\n",
    "|  50000|2024/01/22|\n",
    "|  45000|2024/02/02|\n",
    "|  13000|2024/03/08|\n",
    "+-------+----------+\n",
    "```\n",
    "Output Data:\n",
    "```\n",
    "+-------+----------+-------+------------------+\n",
    "|revenue|      date   |  month  |cumulative_revenue|\n",
    "+-------+----------+-------+------------------+\n",
    "|   3000|2024-01-01|2024-01|              3000|\n",
    "|   2000|2024-01-02|2024-01|              5000|\n",
    "|  50000|2024-01-22|2024-01|             55000|\n",
    "|  45000|2024-02-02|2024-02|             45000|\n",
    "|  13000|2024-03-08|2024-03|             13000|\n",
    "+-------+----------+-------+------------------+\n",
    "```"
   ]
  },
  {
   "cell_type": "code",
   "execution_count": 0,
   "metadata": {
    "application/vnd.databricks.v1+cell": {
     "cellMetadata": {
      "byteLimit": 2048000,
      "rowLimit": 10000
     },
     "inputWidgets": {},
     "nuid": "e82be5f5-f35a-44f1-96ea-60a516cf382e",
     "showTitle": false,
     "title": ""
    }
   },
   "outputs": [
    {
     "output_type": "display_data",
     "data": {
      "text/html": [
       "\n",
       "            <div>\n",
       "                <p><b>SparkSession - hive</b></p>\n",
       "                \n",
       "        <div>\n",
       "            <p><b>SparkContext</b></p>\n",
       "\n",
       "            <p><a href=\"/?o=307084983944736#setting/sparkui/0512-110334-2ndtjvv1/driver-8104935758769584238\">Spark UI</a></p>\n",
       "\n",
       "            <dl>\n",
       "              <dt>Version</dt>\n",
       "                <dd><code>v3.3.2</code></dd>\n",
       "              <dt>Master</dt>\n",
       "                <dd><code>local[8]</code></dd>\n",
       "              <dt>AppName</dt>\n",
       "                <dd><code>Databricks Shell</code></dd>\n",
       "            </dl>\n",
       "        </div>\n",
       "        \n",
       "            </div>\n",
       "        "
      ]
     },
     "metadata": {
      "application/vnd.databricks.v1+output": {
       "addedWidgets": {},
       "arguments": {},
       "data": "\n            <div>\n                <p><b>SparkSession - hive</b></p>\n                \n        <div>\n            <p><b>SparkContext</b></p>\n\n            <p><a href=\"/?o=307084983944736#setting/sparkui/0512-110334-2ndtjvv1/driver-8104935758769584238\">Spark UI</a></p>\n\n            <dl>\n              <dt>Version</dt>\n                <dd><code>v3.3.2</code></dd>\n              <dt>Master</dt>\n                <dd><code>local[8]</code></dd>\n              <dt>AppName</dt>\n                <dd><code>Databricks Shell</code></dd>\n            </dl>\n        </div>\n        \n            </div>\n        ",
       "datasetInfos": [],
       "metadata": {},
       "removedWidgets": [],
       "textData": null,
       "type": "htmlSandbox"
      }
     },
     "output_type": "display_data"
    }
   ],
   "source": [
    "spark"
   ]
  },
  {
   "cell_type": "code",
   "execution_count": 0,
   "metadata": {
    "application/vnd.databricks.v1+cell": {
     "cellMetadata": {
      "byteLimit": 2048000,
      "rowLimit": 10000
     },
     "inputWidgets": {},
     "nuid": "df84c1d4-6bbe-4320-beac-50cf0b757671",
     "showTitle": false,
     "title": ""
    }
   },
   "outputs": [],
   "source": [
    "input_data = [\n",
    "    (3000, \"2024-01-01\"),\n",
    "    (2000, \"2024-01-02\"),\n",
    "    (50000, \"2024-01-22\"),\n",
    "    (45000, \"2024-02-02\"),\n",
    "    (13000, \"2024-03-08\"),\n",
    "]"
   ]
  },
  {
   "cell_type": "code",
   "execution_count": 0,
   "metadata": {
    "application/vnd.databricks.v1+cell": {
     "cellMetadata": {
      "byteLimit": 2048000,
      "rowLimit": 10000
     },
     "inputWidgets": {},
     "nuid": "8f266f5f-d90b-462b-a313-879acfad79dd",
     "showTitle": false,
     "title": ""
    }
   },
   "outputs": [],
   "source": [
    "df = spark.createDataFrame(input_data, [\"revenue\", \"date\"])"
   ]
  },
  {
   "cell_type": "code",
   "execution_count": 0,
   "metadata": {
    "application/vnd.databricks.v1+cell": {
     "cellMetadata": {
      "byteLimit": 2048000,
      "rowLimit": 10000
     },
     "inputWidgets": {},
     "nuid": "943b2c2d-8a1e-413e-999e-1191e7b966c7",
     "showTitle": false,
     "title": ""
    }
   },
   "outputs": [],
   "source": [
    "from pyspark.sql import functions as F, Window\n",
    "df = df.withColumn(\"month\", F.month(F.col(\"date\")).cast(\"string\"))"
   ]
  },
  {
   "cell_type": "code",
   "execution_count": 0,
   "metadata": {
    "application/vnd.databricks.v1+cell": {
     "cellMetadata": {
      "byteLimit": 2048000,
      "rowLimit": 10000
     },
     "inputWidgets": {},
     "nuid": "214f5c30-e807-4099-919d-5ed98eb9970b",
     "showTitle": false,
     "title": ""
    }
   },
   "outputs": [
    {
     "output_type": "display_data",
     "data": {
      "text/html": [
       "<style scoped>\n",
       "  .table-result-container {\n",
       "    max-height: 300px;\n",
       "    overflow: auto;\n",
       "  }\n",
       "  table, th, td {\n",
       "    border: 1px solid black;\n",
       "    border-collapse: collapse;\n",
       "  }\n",
       "  th, td {\n",
       "    padding: 5px;\n",
       "  }\n",
       "  th {\n",
       "    text-align: left;\n",
       "  }\n",
       "</style><div class='table-result-container'><table class='table-result'><thead style='background-color: white'><tr><th>revenue</th><th>date</th><th>month</th><th>cumulative_revenue</th></tr></thead><tbody><tr><td>3000</td><td>2024-01-01</td><td>1</td><td>3000</td></tr><tr><td>2000</td><td>2024-01-02</td><td>1</td><td>5000</td></tr><tr><td>50000</td><td>2024-01-22</td><td>1</td><td>55000</td></tr><tr><td>45000</td><td>2024-02-02</td><td>2</td><td>45000</td></tr><tr><td>13000</td><td>2024-03-08</td><td>3</td><td>13000</td></tr></tbody></table></div>"
      ]
     },
     "metadata": {
      "application/vnd.databricks.v1+output": {
       "addedWidgets": {},
       "aggData": [],
       "aggError": "",
       "aggOverflow": false,
       "aggSchema": [],
       "aggSeriesLimitReached": false,
       "aggType": "",
       "arguments": {},
       "columnCustomDisplayInfos": {},
       "data": [
        [
         3000,
         "2024-01-01",
         "1",
         3000
        ],
        [
         2000,
         "2024-01-02",
         "1",
         5000
        ],
        [
         50000,
         "2024-01-22",
         "1",
         55000
        ],
        [
         45000,
         "2024-02-02",
         "2",
         45000
        ],
        [
         13000,
         "2024-03-08",
         "3",
         13000
        ]
       ],
       "datasetInfos": [],
       "dbfsResultPath": null,
       "isJsonSchema": true,
       "metadata": {},
       "overflow": false,
       "plotOptions": {
        "customPlotOptions": {},
        "displayType": "table",
        "pivotAggregation": null,
        "pivotColumns": null,
        "xColumns": null,
        "yColumns": null
       },
       "removedWidgets": [],
       "schema": [
        {
         "metadata": "{}",
         "name": "revenue",
         "type": "\"long\""
        },
        {
         "metadata": "{}",
         "name": "date",
         "type": "\"string\""
        },
        {
         "metadata": "{}",
         "name": "month",
         "type": "\"string\""
        },
        {
         "metadata": "{}",
         "name": "cumulative_revenue",
         "type": "\"long\""
        }
       ],
       "type": "table"
      }
     },
     "output_type": "display_data"
    }
   ],
   "source": [
    "_window = Window.orderBy(F.col(\"date\")).partitionBy(\"month\")\n",
    "df = df.withColumn(\"cumulative_revenue\", F.sum(\"revenue\").over(_window))\n",
    "display(df)"
   ]
  }
 ],
 "metadata": {
  "application/vnd.databricks.v1+notebook": {
   "dashboards": [],
   "language": "python",
   "notebookMetadata": {
    "pythonIndentUnit": 4
   },
   "notebookName": "Q6 PRT",
   "widgets": {}
  }
 },
 "nbformat": 4,
 "nbformat_minor": 0
}
