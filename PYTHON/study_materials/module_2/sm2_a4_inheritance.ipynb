{
 "cells": [
  {
   "attachments": {},
   "cell_type": "markdown",
   "metadata": {},
   "source": [
    "### Module 2 : Inheritance Assignment"
   ]
  },
  {
   "attachments": {},
   "cell_type": "markdown",
   "metadata": {},
   "source": [
    "```\n",
    "1. Create a class named parent_Class and inside the class, initialize a global\n",
    "variable num as 10\n",
    "a. Create another class named child_Class and this class should be\n",
    "inherited from the parent class.\n",
    "b. Now create an object for the child_Class and with the help of\n",
    "child_Class object, display the value of ‘num\n",
    "```"
   ]
  },
  {
   "cell_type": "code",
   "execution_count": 1,
   "metadata": {},
   "outputs": [
    {
     "data": {
      "text/plain": [
       "10"
      ]
     },
     "execution_count": 1,
     "metadata": {},
     "output_type": "execute_result"
    }
   ],
   "source": [
    "class Parent_Class:\n",
    "    num=10\n",
    "\n",
    "class Child_Class(Parent_Class):\n",
    "    pass\n",
    "\n",
    "c1=Child_Class.num\n",
    "c1"
   ]
  },
  {
   "attachments": {},
   "cell_type": "markdown",
   "metadata": {},
   "source": [
    "```\n",
    "2. Create three classes named A, B and C\n",
    "a. Inside the A class, create a constructor. Inside the constructor, initialize\n",
    "2 global variables name and age.\n",
    "b. After initializing the global variables inside the constructor, now create a\n",
    "function named ‘details’ and that function should return the ‘name’ variable.\n",
    "c. Inside the B class, create a constructor. Inside the constructor, initialize 2\n",
    "global variables name and id.\n",
    "d. After initializing the global variables inside the constructor, now create a\n",
    "function named ‘details’ and that function should return the ‘name’ variable.\n",
    "e. The C class should inherit from class A, and B. Inside the class C,\n",
    "create a constructor, and inside the constructor, call the constructor of\n",
    "class A.\n",
    "f. Now, create a method inside the class C, as get_details, and this function\n",
    "should return the value of name.\n",
    "g. Atlast, create an object of class C, and with the help of the object, call\n",
    "the get_details().\n",
    "```"
   ]
  },
  {
   "cell_type": "code",
   "execution_count": 3,
   "metadata": {},
   "outputs": [
    {
     "data": {
      "text/plain": [
       "'james'"
      ]
     },
     "execution_count": 3,
     "metadata": {},
     "output_type": "execute_result"
    }
   ],
   "source": [
    "class A:\n",
    "    def __init__(self,name,age) -> None:\n",
    "        self.name=name\n",
    "        self.age=age\n",
    "    \n",
    "    def details(self):\n",
    "        return self.name\n",
    "\n",
    "class B:\n",
    "    def __init__(self,name,id) -> None:\n",
    "        self.name=name\n",
    "        self.id=id\n",
    "\n",
    "class C(A,B):\n",
    "    def __init__(self,name,age) -> None:\n",
    "        A.__init__(self,name,age)\n",
    "    \n",
    "    def get_details(self):\n",
    "        return self.name\n",
    "\n",
    "c=C('james',12)\n",
    "c.get_details()"
   ]
  },
  {
   "attachments": {},
   "cell_type": "markdown",
   "metadata": {},
   "source": [
    "```\n",
    "3. Create a class named ‘Sub1’, inside the class, generate a user defined\n",
    "function named ‘first’ and inside the function, pass the following statement\n",
    "in the print()- ‘This is the first function from Sub 1 class’.\n",
    "a. Now create another class named ‘Sub2’, and inside the class, create a\n",
    "function named ‘second’, and pass the following message in the print()-\n",
    "‘This is the second function from the Sub 2 class’.\n",
    "b. After that, create another class named ‘Super’ and inside that class,\n",
    "create a method named ‘final’, and pass the below message in the print()-\n",
    "‘This is the final method from the super class’.\n",
    "c. Now, create an object for the Super class and call all the 3 user defined\n",
    "methods, i.e., first(), second(), and final().\n",
    "\n",
    "```"
   ]
  },
  {
   "cell_type": "code",
   "execution_count": 4,
   "metadata": {},
   "outputs": [
    {
     "name": "stdout",
     "output_type": "stream",
     "text": [
      "This is the first function from class Sub1.\n",
      "This is the second function from the Sub 2 class.\n",
      "This is the final function from the Super class.\n"
     ]
    }
   ],
   "source": [
    "class Sub1:\n",
    "    def first(self):\n",
    "        print(\"This is the first function from class Sub1.\")\n",
    "\n",
    "class Sub2:\n",
    "    def second(self):\n",
    "        print('This is the second function from the Sub 2 class.')\n",
    "\n",
    "class Super(Sub1,Sub2):\n",
    "    def final(self):\n",
    "        print('This is the final function from the Super class.')\n",
    "\n",
    "s1=Super()\n",
    "s1.first()\n",
    "s1.second()\n",
    "s1.final()"
   ]
  },
  {
   "attachments": {},
   "cell_type": "markdown",
   "metadata": {},
   "source": [
    "```\n",
    "4. Create a class named ‘Parent’, and inside the class, create a function\n",
    "named ‘fun1’ and pass the following message in the print()- ‘This is the\n",
    "message from the fun1’.\n",
    "a. Now create a class named ‘Child1’ and inside the class, create a\n",
    "method named ‘fun2’ and pass the following message in the print()- ‘This is\n",
    "the message from the fun2’.\n",
    "b. After that, create another class named ‘Child2’ and inside the class,\n",
    "create a method named ‘fun3’ and pass the following message in the\n",
    "print()- ‘This is the message from the fun3’.\n",
    "c. Now, create an object of Child2 class and with the help of the object, call\n",
    "the ‘fun1’ method from the ‘Parent' class.\n",
    "```"
   ]
  },
  {
   "cell_type": "code",
   "execution_count": 5,
   "metadata": {},
   "outputs": [
    {
     "name": "stdout",
     "output_type": "stream",
     "text": [
      "This is the message from fun3\n",
      "This is the message from fun1\n"
     ]
    }
   ],
   "source": [
    "class Parent:\n",
    "    def fun1(self):\n",
    "        print('This is the message from fun1')\n",
    "\n",
    "class Child1:\n",
    "    def fun2(self):\n",
    "        print('This is the message from fun2')\n",
    "\n",
    "class Child2(Parent):\n",
    "    def fun3(self):\n",
    "        print('This is the message from fun3')\n",
    "\n",
    "c2=Child2()\n",
    "c2.fun3()\n",
    "c2.fun1()"
   ]
  },
  {
   "attachments": {},
   "cell_type": "markdown",
   "metadata": {},
   "source": [
    "```\n",
    "5. Create a class named ‘Parent’, and inside the class, create a function\n",
    "named ‘fun1’ and pass the following message in the print()- ‘This is the\n",
    "message from the fun1’.\n",
    "a. Now create a class named ‘Child’ and inside the class, create a method\n",
    "named ‘fun2’ and pass the following message in the print()- ‘This is the\n",
    "message from the fun2’.\n",
    "b. After that, create another class named ‘Hybrid’ and inside the class,\n",
    "create a method named ‘fun3’ and pass the following message in the\n",
    "print()- ‘This is the message from the fun3’.\n",
    "c. Now create an object of Hybrid class and with the help of the object, call\n",
    "the ‘fun1’, ‘fun2’ and ‘fun3’ methods.\n",
    "\n",
    "```"
   ]
  },
  {
   "cell_type": "code",
   "execution_count": 6,
   "metadata": {},
   "outputs": [
    {
     "name": "stdout",
     "output_type": "stream",
     "text": [
      "This is the message from the fun1.\n",
      "This is the message from fun2.\n",
      "This is the message from fun3.\n"
     ]
    }
   ],
   "source": [
    "class Parent:\n",
    "    def fun1(self):\n",
    "        print(\"This is the message from the fun1.\")\n",
    "\n",
    "class Child:\n",
    "    def fun2(self):\n",
    "        print('This is the message from fun2.')\n",
    "\n",
    "class Hybrid(Parent,Child):\n",
    "    def fun3(self):\n",
    "        print('This is the message from fun3.')\n",
    "    \n",
    "h1=Hybrid()\n",
    "h1.fun1()\n",
    "h1.fun2()\n",
    "h1.fun3()"
   ]
  }
 ],
 "metadata": {
  "kernelspec": {
   "display_name": "Python 3",
   "language": "python",
   "name": "python3"
  },
  "language_info": {
   "codemirror_mode": {
    "name": "ipython",
    "version": 3
   },
   "file_extension": ".py",
   "mimetype": "text/x-python",
   "name": "python",
   "nbconvert_exporter": "python",
   "pygments_lexer": "ipython3",
   "version": "3.11.4"
  },
  "orig_nbformat": 4
 },
 "nbformat": 4,
 "nbformat_minor": 2
}
