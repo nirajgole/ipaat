{
 "cells": [
  {
   "attachments": {},
   "cell_type": "markdown",
   "metadata": {},
   "source": [
    "Q1. Write a Python program to demonstrate multiple inheritance.\n",
    "\n",
    "1. Employee class has 3 data members EmployeeID, Gender (String), Salary and\n",
    "   PerformanceRating(Out of 5) of type int. It has a get() function to get these details from\n",
    "   the user.\n",
    "2. JoiningDetail class has a data member DateOfJoining of type Date and a function\n",
    "   getDoJ to get the Date of joining of employees.\n",
    "3. Information Class uses the marks from Employee class and the DateOfJoining date\n",
    "   from the JoiningDetail class to calculate the top 3 Employees based on their Ratings\n",
    "   and then Display, using readData, all the details on these employees in Ascending\n",
    "   order of their Date Of Joining.\n"
   ]
  },
  {
   "cell_type": "code",
   "execution_count": 11,
   "metadata": {},
   "outputs": [
    {
     "data": {
      "text/plain": [
       "[{'Employee ID': 1, 'Gender': 'M', 'Salary': 10000, 'DOJ': '2023-12-12'},\n",
       " {'Employee ID': 3, 'Gender': 'F', 'Salary': 8976, 'DOJ': '2023-12-21'}]"
      ]
     },
     "execution_count": 11,
     "metadata": {},
     "output_type": "execute_result"
    }
   ],
   "source": [
    "from datetime import datetime as dt\n",
    "\n",
    "\n",
    "class Employee:\n",
    "    def __init__(self, empId: int, gender: str, salary: int, perf_rating: int, marks: int) -> None:\n",
    "        self.employeeId_id = empId\n",
    "        self.gender = gender\n",
    "        self.salary = salary\n",
    "        self.performance_rating = perf_rating\n",
    "        self.marks = marks\n",
    "\n",
    "\n",
    "class JoiningDetails(Employee):\n",
    "    def __init__(self, empId, gender, salary, rating, marks, doj: dt) -> None:\n",
    "        Employee.__init__(self, empId, gender, salary, rating, marks)\n",
    "        self.data_of_joining = doj\n",
    "\n",
    "\n",
    "class Information:\n",
    "    def readData(self, employees):\n",
    "        return [i for i in sorted(employees, key=lambda x: x.performance_rating, reverse=True)][0:3]\n",
    "\n",
    "\n",
    "e1 = JoiningDetails(1, 'M', 10000,\n",
    "                    4.3, 100, '2023-12-12')\n",
    "e2 = JoiningDetails(3, 'F', 8976,\n",
    "                    4.5, 90, '2023-12-21')\n",
    "\n",
    "data = [e1, e2]\n",
    "\n",
    "\n",
    "i1 = Information()\n",
    "top_3_rated = i1.readData(data)\n",
    "result = [{'Employee ID': i.employeeId_id, 'Gender': i.gender, 'Salary': i.salary, 'DOJ': i.data_of_joining} for i in sorted(\n",
    "    top_3_rated, key=lambda x: x.data_of_joining)]\n",
    "result"
   ]
  },
  {
   "attachments": {},
   "cell_type": "markdown",
   "metadata": {},
   "source": [
    "```\n",
    "Q.2 Write a Python program to demonstrate Polymorphism.\n",
    "1. Class Vehicle with a parameterized function Fare, that takes input value as fare and\n",
    "returns it to calling Objects.\n",
    "2. Create five separate variables Bus, Car, Train, Truck and Ship that call the Fare\n",
    "function.\n",
    "3. Use a third variable TotalFare to store the sum of fare for each Vehicle Type.\n",
    "4. Print the TotalFare.\n",
    "```\n"
   ]
  },
  {
   "cell_type": "code",
   "execution_count": 14,
   "metadata": {},
   "outputs": [
    {
     "data": {
      "text/plain": [
       "1273.26"
      ]
     },
     "execution_count": 14,
     "metadata": {},
     "output_type": "execute_result"
    }
   ],
   "source": [
    "class Vehicle:\n",
    "    def Fare(self, fare):\n",
    "        return fare\n",
    "\n",
    "\n",
    "bus = Vehicle().Fare(200)\n",
    "car = Vehicle().Fare(56.23)\n",
    "train = Vehicle().Fare(123)\n",
    "truck = Vehicle().Fare(852)\n",
    "ship = Vehicle().Fare(42.03)\n",
    "\n",
    "total_fare = sum([bus, car, train, truck, ship])\n",
    "total_fare"
   ]
  },
  {
   "attachments": {},
   "cell_type": "markdown",
   "metadata": {},
   "source": [
    "```\n",
    "Q3. Consider an ongoing test cricket series. Following are the names of the players and their\n",
    "scores in the test1 and 2.\n",
    "Test Match 1 :\n",
    "Dhoni : 56 , Balaji : 94\n",
    "Test Match 2 :\n",
    "Balaji : 80 , Dravid : 105\n",
    "Calculate the highest number of runs scored by an individual cricketer in both of the matches.\n",
    "Create a python function Max_Score (M) that reads a dictionary M that recognizes the player\n",
    "with the highest total score. This function will return ( Top player , Total Score ) . You can\n",
    "consider the Top player as String who is the highest scorer and Top score as Integer .\n",
    "Input : Max_Score({‘test1’:{‘Dhoni’:56, ‘Balaji : 85}, ‘test2’:{‘Dhoni’ 87, ‘Balaji’’:200}})\n",
    "Output : (‘Balaji ‘ , 200)\n",
    "\n",
    "```\n"
   ]
  },
  {
   "cell_type": "code",
   "execution_count": 46,
   "metadata": {},
   "outputs": [
    {
     "data": {
      "text/plain": [
       "('Balaji', 200)"
      ]
     },
     "execution_count": 46,
     "metadata": {},
     "output_type": "execute_result"
    }
   ],
   "source": [
    "def Max_Score(dct):\n",
    "    max_score = 0\n",
    "    result = None\n",
    "    for v in dct.values():\n",
    "        for k, v in v.items():\n",
    "            if v > max_score:\n",
    "                max_score = v\n",
    "                result = (k, v)\n",
    "\n",
    "    return result\n",
    "\n",
    "\n",
    "Max_Score({'test1': {'Dhoni': 56, 'Balaji': 85},\n",
    "          'test2': {'Dhoni': 87, 'Balaji': 200}})"
   ]
  },
  {
   "attachments": {},
   "cell_type": "markdown",
   "metadata": {},
   "source": [
    "```\n",
    "Q4. Create a simple Card game in which there are 8 cards which are randomly chosen from a\n",
    "deck. The first card is shown face up. The game asks the player to predict whether the next card\n",
    "in the selection will have a higher or lower value than the currently showing card.\n",
    "For example, say the card that’s shown is a 3. The player chooses “higher,” and the next card is\n",
    "shown. If that card has a higher value, the player is correct. In this example, if the player had\n",
    "chosen “lower,” they would have been incorrect. If the player guesses correctly, they get 20\n",
    "points. If they choose incorrectly, they lose 15 points. If the next card to be turned over has the\n",
    "same value as the previous card, the player is incorrect.\n",
    "```\n"
   ]
  },
  {
   "cell_type": "code",
   "execution_count": 66,
   "metadata": {},
   "outputs": [
    {
     "name": "stdout",
     "output_type": "stream",
     "text": [
      "13 9\n"
     ]
    },
    {
     "data": {
      "text/plain": [
       "'Correct! you earned 20 points'"
      ]
     },
     "execution_count": 66,
     "metadata": {},
     "output_type": "execute_result"
    }
   ],
   "source": [
    "import numpy as np\n",
    "cards = list(np.random.randint(1, 14, 8))\n",
    "\n",
    "\n",
    "def deal(deck):\n",
    "    guess = input('Enter guess (low/high):').lower()\n",
    "    face_up, next_card = deck[:2]\n",
    "    print(face_up, next_card)\n",
    "    if face_up > next_card and guess == 'low':\n",
    "        return 'Correct! You earned 20 points'\n",
    "    if face_up < next_card and guess == 'high':\n",
    "        return 'Correct! You earned 20 points'\n",
    "    return 'Incorrect! You lose 15 points'\n",
    "\n",
    "\n",
    "deal(cards)"
   ]
  },
  {
   "attachments": {},
   "cell_type": "markdown",
   "metadata": {},
   "source": [
    "```\n",
    "Q5. Create an empty dictionary called Car_0 . Then fill the dictionary with Keys : color , speed\n",
    ", X_position and Y_position.\n",
    "car_0 = {'x_position': 10, 'y_position': 72, 'speed': 'medium'} .\n",
    "a) If the speed is slow the coordinates of the X_pos get incremented by 2.\n",
    "b) If the speed is Medium the coordinates of the X_pos gets incremented by 9\n",
    "c) Now if the speed is Fast the coordinates of the X_pos gets incremented by 22.\n",
    "Print the modified dictionary.\n",
    "```\n"
   ]
  },
  {
   "cell_type": "code",
   "execution_count": 75,
   "metadata": {},
   "outputs": [
    {
     "name": "stdout",
     "output_type": "stream",
     "text": [
      "10 medium\n"
     ]
    },
    {
     "data": {
      "text/plain": [
       "{'x_position': 19, 'y_position': 72, 'speed': 'medium'}"
      ]
     },
     "execution_count": 75,
     "metadata": {},
     "output_type": "execute_result"
    }
   ],
   "source": [
    "car_0 = {'x_position': 10, 'y_position': 72, 'speed': 'medium'}\n",
    "\n",
    "x_position, _, speed = car_0.values()\n",
    "\n",
    "if speed == 'slow':\n",
    "    car_0.x_position += 2\n",
    "elif speed == 'medium':\n",
    "    car_0['x_position'] += 9\n",
    "elif speed == 'fast':\n",
    "    car_0.x_position += 22\n",
    "\n",
    "car_0"
   ]
  },
  {
   "attachments": {},
   "cell_type": "markdown",
   "metadata": {},
   "source": [
    "```\n",
    "Q6. Show a basic implementation of abstraction in python using the abstract classes.\n",
    "1. Create an abstract class in python.\n",
    "2. Implement abstraction with the other classes and base class as abstract class.\n",
    "```\n"
   ]
  },
  {
   "cell_type": "code",
   "execution_count": 82,
   "metadata": {},
   "outputs": [
    {
     "name": "stdout",
     "output_type": "stream",
     "text": [
      "Implemented\n"
     ]
    }
   ],
   "source": [
    "from abc import ABC, abstractmethod\n",
    "\n",
    "\n",
    "class Template(ABC):\n",
    "    @abstractmethod\n",
    "    def must_implement():\n",
    "        pass\n",
    "\n",
    "\n",
    "class NewOne(Template):\n",
    "    def must_implement():\n",
    "        print('Implemented')\n",
    "\n",
    "\n",
    "NewOne.must_implement()"
   ]
  },
  {
   "attachments": {},
   "cell_type": "markdown",
   "metadata": {},
   "source": [
    "Q7. Create a program in python to demonstrate Polymorphism.\n",
    "\n",
    "1. Make use of private and protected members using python name mangling techniques.\n"
   ]
  },
  {
   "cell_type": "code",
   "execution_count": 83,
   "metadata": {},
   "outputs": [
    {
     "name": "stdout",
     "output_type": "stream",
     "text": [
      "John Doe\n",
      "25\n"
     ]
    }
   ],
   "source": [
    "class Student:\n",
    "\n",
    "    def __init__(self, name, age):\n",
    "        self._name = name  # protected\n",
    "        self.__age = age  # private\n",
    "\n",
    "    def get_name(self):\n",
    "        return self._name\n",
    "\n",
    "    def get_age(self):\n",
    "        return self.__age  # name mangling prevents direct access\n",
    "\n",
    "\n",
    "student = Student(\"John Doe\", 25)\n",
    "\n",
    "# This will work because _name is protected\n",
    "print(student.get_name())\n",
    "\n",
    "# This will not work because __age is private\n",
    "# print(student.__age)\n",
    "\n",
    "# This will work because name mangling will convert __age to _Student__age\n",
    "print(student._Student__age)"
   ]
  },
  {
   "attachments": {},
   "cell_type": "markdown",
   "metadata": {},
   "source": [
    "```\n",
    "Q8. Given a list of 50 natural numbers from 1-50. Create a function that will take every element\n",
    "from the list and return the square of each element. Use the python map and filter methods to\n",
    "implement the function on the given list.\n",
    "```\n"
   ]
  },
  {
   "cell_type": "code",
   "execution_count": 86,
   "metadata": {},
   "outputs": [
    {
     "data": {
      "text/plain": [
       "[1,\n",
       " 4,\n",
       " 9,\n",
       " 16,\n",
       " 25,\n",
       " 36,\n",
       " 49,\n",
       " 64,\n",
       " 81,\n",
       " 100,\n",
       " 121,\n",
       " 144,\n",
       " 169,\n",
       " 196,\n",
       " 225,\n",
       " 256,\n",
       " 289,\n",
       " 324,\n",
       " 361,\n",
       " 400,\n",
       " 441,\n",
       " 484,\n",
       " 529,\n",
       " 576,\n",
       " 625,\n",
       " 676,\n",
       " 729,\n",
       " 784,\n",
       " 841,\n",
       " 900,\n",
       " 961,\n",
       " 1024,\n",
       " 1089,\n",
       " 1156,\n",
       " 1225,\n",
       " 1296,\n",
       " 1369,\n",
       " 1444,\n",
       " 1521,\n",
       " 1600,\n",
       " 1681,\n",
       " 1764,\n",
       " 1849,\n",
       " 1936,\n",
       " 2025,\n",
       " 2116,\n",
       " 2209,\n",
       " 2304,\n",
       " 2401,\n",
       " 2500]"
      ]
     },
     "execution_count": 86,
     "metadata": {},
     "output_type": "execute_result"
    }
   ],
   "source": [
    "# we dont need filter here\n",
    "\n",
    "# [i**2 for i in range(1,51)]\n",
    "\n",
    "list(map(lambda x: x**2, range(1, 51)))"
   ]
  },
  {
   "attachments": {},
   "cell_type": "markdown",
   "metadata": {},
   "source": [
    "Q9. Create a class, Triangle. Its init() method should take self, angle1, angle2, and angle3 as\n",
    "arguments.\n",
    "\n",
    "Q10. Create a class variable named number_of_sides and set it equal to 3.\n",
    "\n",
    "```\n",
    "Q11. Create a method named check_angles. The sum of a triangle's three angles should return\n",
    "True if the sum is equal to 180, and False otherwise. The method should print whether the\n",
    "angles belong to a triangle or not.\n",
    "```\n",
    "\n",
    "11.1 Write methods to verify if the triangle is an acute triangle or obtuse triangle.\n",
    "\n",
    "11.2 Create an instance of the triangle class and call all the defined methods.\n",
    "\n",
    "11.3 Create three child classes of triangle class - isosceles_triangle, right_triangle and\n",
    "equilateral_triangle.\n",
    "11.4 Define methods which check for their properties\n"
   ]
  },
  {
   "cell_type": "code",
   "execution_count": 96,
   "metadata": {},
   "outputs": [
    {
     "name": "stdout",
     "output_type": "stream",
     "text": [
      "True False\n"
     ]
    }
   ],
   "source": [
    "class Triangle:\n",
    "    number_of_sides = 3\n",
    "\n",
    "    def __init__(self, angle1, angle2, angle3) -> None:\n",
    "        self.first_angle = angle1\n",
    "        self.second_angle = angle2\n",
    "        self.third_angle = angle3\n",
    "\n",
    "    def check_angles(self):\n",
    "        return True if sum([self.first_angle, self.second_angle, self.third_angle]) else False\n",
    "\n",
    "    def is_acute(self):\n",
    "        return True if self.first_angle < 90 and self.second_angle < 90 and self.third_angle < 90 else False\n",
    "\n",
    "    def is_obtuse(self):\n",
    "        return sum([True for i in [self.first_angle, self.second_angle, self.third_angle] if i < 90]) == 2"
   ]
  },
  {
   "cell_type": "code",
   "execution_count": null,
   "metadata": {},
   "outputs": [],
   "source": [
    "t1 = Triangle(60, 60, 60)\n",
    "is_acute = t1.is_acute()\n",
    "is_obtuse = t1.is_obtuse()\n",
    "print(is_acute, is_obtuse)"
   ]
  },
  {
   "cell_type": "code",
   "execution_count": 108,
   "metadata": {},
   "outputs": [
    {
     "data": {
      "text/plain": [
       "True"
      ]
     },
     "execution_count": 108,
     "metadata": {},
     "output_type": "execute_result"
    }
   ],
   "source": [
    "class IsoscelesTriangle(Triangle):\n",
    "    def __init__(self, angle1, angle2, angle3) -> None:\n",
    "        super().__init__(angle1, angle2, angle3)\n",
    "\n",
    "    def is_isosceles(self):\n",
    "        return (self.first_angle == self.second_angle) or (self.second_angle == self.third_angle) or (self.third_angle == self.first_angle)\n",
    "\n",
    "\n",
    "i1 = IsoscelesTriangle(90, 45, 45)\n",
    "i1.is_isosceles()"
   ]
  },
  {
   "cell_type": "code",
   "execution_count": 109,
   "metadata": {},
   "outputs": [
    {
     "data": {
      "text/plain": [
       "True"
      ]
     },
     "execution_count": 109,
     "metadata": {},
     "output_type": "execute_result"
    }
   ],
   "source": [
    "class RightTriangle(Triangle):\n",
    "    def __init__(self, angle1, angle2, angle3) -> None:\n",
    "        super().__init__(angle1, angle2, angle3)\n",
    "\n",
    "    def is_right_triangle(self):\n",
    "        return any(True for i in [self.first_angle, self.second_angle, self.third_angle] if i == 90)\n",
    "\n",
    "\n",
    "i1 = RightTriangle(90, 45, 45)\n",
    "i1.is_right_triangle()"
   ]
  },
  {
   "cell_type": "code",
   "execution_count": 110,
   "metadata": {},
   "outputs": [
    {
     "data": {
      "text/plain": [
       "True"
      ]
     },
     "execution_count": 110,
     "metadata": {},
     "output_type": "execute_result"
    }
   ],
   "source": [
    "class EquilateralTriangle(Triangle):\n",
    "    def __init__(self, angle1, angle2, angle3) -> None:\n",
    "        super().__init__(angle1, angle2, angle3)\n",
    "\n",
    "    def is_equilateral(self):\n",
    "        return self.first_angle == self.second_angle or self.second_angle == self.third_angle or self.third_angle == self.first_angle\n",
    "\n",
    "\n",
    "i1 = EquilateralTriangle(90, 45, 45)\n",
    "i1.is_equilateral()"
   ]
  },
  {
   "attachments": {},
   "cell_type": "markdown",
   "metadata": {},
   "source": [
    "Q12. Create a class isosceles_right_triangle which inherits from isosceles_triangle and\n",
    "right_triangle.\n",
    "12.1 Define methods which check for their properties\n"
   ]
  },
  {
   "cell_type": "code",
   "execution_count": 114,
   "metadata": {},
   "outputs": [
    {
     "data": {
      "text/plain": [
       "True"
      ]
     },
     "execution_count": 114,
     "metadata": {},
     "output_type": "execute_result"
    }
   ],
   "source": [
    "class IsoscelesRightTriangle(IsoscelesTriangle, RightTriangle):\n",
    "    def __init__(self, angle1, angle2, angle3) -> None:\n",
    "        super().__init__(angle1, angle2, angle3)\n",
    "\n",
    "    def is_isosceles_right_triangle(self):\n",
    "        return self.is_isosceles() and self.is_right_triangle()\n",
    "\n",
    "\n",
    "i1 = IsoscelesRightTriangle(90, 45, 45)\n",
    "i1.is_isosceles_right_triangle()"
   ]
  }
 ],
 "metadata": {
  "kernelspec": {
   "display_name": "Python 3",
   "language": "python",
   "name": "python3"
  },
  "language_info": {
   "codemirror_mode": {
    "name": "ipython",
    "version": 3
   },
   "file_extension": ".py",
   "mimetype": "text/x-python",
   "name": "python",
   "nbconvert_exporter": "python",
   "pygments_lexer": "ipython3",
   "version": "3.11.3"
  },
  "orig_nbformat": 4
 },
 "nbformat": 4,
 "nbformat_minor": 2
}
