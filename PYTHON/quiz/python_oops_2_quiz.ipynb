{
 "cells": [
  {
   "cell_type": "code",
   "execution_count": 1,
   "metadata": {},
   "outputs": [
    {
     "ename": "AttributeError",
     "evalue": "'Myclass' object has no attribute 'age'",
     "output_type": "error",
     "traceback": [
      "\u001b[1;31m---------------------------------------------------------------------------\u001b[0m",
      "\u001b[1;31mAttributeError\u001b[0m                            Traceback (most recent call last)",
      "Cell \u001b[1;32mIn[1], line 7\u001b[0m\n\u001b[0;32m      4\u001b[0m         \u001b[38;5;28mself\u001b[39m\u001b[38;5;241m.\u001b[39mnumber \u001b[38;5;241m=\u001b[39m \u001b[38;5;241m20\u001b[39m\n\u001b[0;32m      6\u001b[0m obj \u001b[38;5;241m=\u001b[39m Myclass()\n\u001b[1;32m----> 7\u001b[0m \u001b[38;5;28mprint\u001b[39m(\u001b[43mobj\u001b[49m\u001b[38;5;241;43m.\u001b[39;49m\u001b[43mage\u001b[49m, obj\u001b[38;5;241m.\u001b[39mname)\n",
      "\u001b[1;31mAttributeError\u001b[0m: 'Myclass' object has no attribute 'age'"
     ]
    }
   ],
   "source": [
    "class Myclass:\n",
    "    def __init__(self):\n",
    "        self.string = \"Twenty\"\n",
    "        self.number = 20\n",
    "\n",
    "\n",
    "obj = Myclass()\n",
    "print(obj.age, obj.name)\n"
   ]
  },
  {
   "cell_type": "code",
   "execution_count": 2,
   "metadata": {},
   "outputs": [
    {
     "name": "stdout",
     "output_type": "stream",
     "text": [
      "Python\n"
     ]
    }
   ],
   "source": [
    "class Myclass:\n",
    "    def __init__(self, name, age):\n",
    "        self.name = name\n",
    "        self.age = age\n",
    "\n",
    "    def view(self):\n",
    "        print(self.name)\n",
    "\n",
    "\n",
    "obj = Myclass(\"Python\", 1990)\n",
    "obj.view()\n"
   ]
  },
  {
   "cell_type": "code",
   "execution_count": 3,
   "metadata": {},
   "outputs": [
    {
     "name": "stdout",
     "output_type": "stream",
     "text": [
      "madaM 3\n"
     ]
    }
   ],
   "source": [
    "class Myclass:\n",
    "    def __init__(self):\n",
    "        self.string = \"Madam\"\n",
    "        self.number = 20\n",
    "\n",
    "    def view(self):\n",
    "        print(self.string[::-1], self.number // 6)\n",
    "\n",
    "\n",
    "obj = Myclass()\n",
    "obj.view()\n"
   ]
  },
  {
   "cell_type": "code",
   "execution_count": 4,
   "metadata": {},
   "outputs": [
    {
     "name": "stdout",
     "output_type": "stream",
     "text": [
      "['Rajesh', 28]\n"
     ]
    }
   ],
   "source": [
    "class myClass:\n",
    "    def __init__(self, name, age):\n",
    "        self.name = name\n",
    "        self.age = age\n",
    "\n",
    "    def view(self):\n",
    "        print([self.name, self.age])\n",
    "\n",
    "\n",
    "class myclass:\n",
    "    def __init__(self, name, age):\n",
    "        self.name = name\n",
    "        self.age = age\n",
    "\n",
    "    def view(self):\n",
    "        print([self.name, self.age])\n",
    "\n",
    "\n",
    "obj1 = myClass(\"Rajesh\", 29)\n",
    "obj2 = myclass(\"Ramesh\", 28)\n",
    "print([obj1.name, obj2.age])\n"
   ]
  },
  {
   "cell_type": "code",
   "execution_count": 5,
   "metadata": {},
   "outputs": [
    {
     "name": "stdout",
     "output_type": "stream",
     "text": [
      "None None None\n"
     ]
    }
   ],
   "source": [
    "class Name:\n",
    "    def view(self):\n",
    "        self.name = \"Rajesh\"\n",
    "\n",
    "\n",
    "class Age:\n",
    "    def view(self):\n",
    "        self.age = 29\n",
    "\n",
    "\n",
    "class Profession:\n",
    "    def view(self):\n",
    "        self.profession = \"Teacher\"\n",
    "\n",
    "\n",
    "obj1 = Name()\n",
    "obj2 = Age()\n",
    "obj3 = Profession()\n",
    "print(obj1.view(), obj2.view(), obj1.view())\n"
   ]
  },
  {
   "cell_type": "code",
   "execution_count": 6,
   "metadata": {},
   "outputs": [
    {
     "name": "stdout",
     "output_type": "stream",
     "text": [
      "Bruce 29 Superhero\n"
     ]
    }
   ],
   "source": [
    "class Base:\n",
    "    def __init__(self):\n",
    "        self.name = \"Bruce\"\n",
    "        self.age = 29\n",
    "\n",
    "\n",
    "class Derived(Base):\n",
    "    def __init__(self):\n",
    "        super().__init__()\n",
    "        self.profession = \"Superhero\"\n",
    "\n",
    "    def view(self):\n",
    "        print(self.name, self.age, self.profession)\n",
    "\n",
    "\n",
    "obj = Derived()\n",
    "obj.view()\n"
   ]
  },
  {
   "cell_type": "code",
   "execution_count": 7,
   "metadata": {},
   "outputs": [
    {
     "ename": "AttributeError",
     "evalue": "'Derived' object has no attribute 'age'",
     "output_type": "error",
     "traceback": [
      "\u001b[1;31m---------------------------------------------------------------------------\u001b[0m",
      "\u001b[1;31mAttributeError\u001b[0m                            Traceback (most recent call last)",
      "Cell \u001b[1;32mIn[7], line 14\u001b[0m\n\u001b[0;32m     12\u001b[0m         \u001b[38;5;28mprint\u001b[39m(\u001b[38;5;28mself\u001b[39m\u001b[38;5;241m.\u001b[39mname, \u001b[38;5;28mself\u001b[39m\u001b[38;5;241m.\u001b[39mage,\u001b[38;5;28mself\u001b[39m\u001b[38;5;241m.\u001b[39mprofession)\n\u001b[0;32m     13\u001b[0m obj \u001b[38;5;241m=\u001b[39m Derived()\n\u001b[1;32m---> 14\u001b[0m \u001b[43mobj\u001b[49m\u001b[38;5;241;43m.\u001b[39;49m\u001b[43mview\u001b[49m\u001b[43m(\u001b[49m\u001b[43m)\u001b[49m\n",
      "Cell \u001b[1;32mIn[7], line 12\u001b[0m, in \u001b[0;36mDerived.view\u001b[1;34m(self)\u001b[0m\n\u001b[0;32m     11\u001b[0m \u001b[38;5;28;01mdef\u001b[39;00m \u001b[38;5;21mview\u001b[39m(\u001b[38;5;28mself\u001b[39m):\n\u001b[1;32m---> 12\u001b[0m     \u001b[38;5;28mprint\u001b[39m(\u001b[38;5;28mself\u001b[39m\u001b[38;5;241m.\u001b[39mname, \u001b[38;5;28;43mself\u001b[39;49m\u001b[38;5;241;43m.\u001b[39;49m\u001b[43mage\u001b[49m,\u001b[38;5;28mself\u001b[39m\u001b[38;5;241m.\u001b[39mprofession)\n",
      "\u001b[1;31mAttributeError\u001b[0m: 'Derived' object has no attribute 'age'"
     ]
    }
   ],
   "source": [
    "class Base1:\n",
    "    def __init__(self):\n",
    "        self.name = \"Ramesh\"\n",
    "\n",
    "\n",
    "class Base2:\n",
    "    def __init__(self):\n",
    "        self.age = 29\n",
    "\n",
    "\n",
    "class Derived(Base1, Base2):\n",
    "    def __init__(self):\n",
    "        self.profession = \"Teacher\"\n",
    "        super().__init__()\n",
    "\n",
    "    def view(self):\n",
    "        print(self.name, self.age, self.profession)\n",
    "\n",
    "\n",
    "obj = Derived()\n",
    "obj.view()\n"
   ]
  },
  {
   "cell_type": "code",
   "execution_count": 8,
   "metadata": {},
   "outputs": [
    {
     "data": {
      "text/plain": [
       "'Rajesh'"
      ]
     },
     "execution_count": 8,
     "metadata": {},
     "output_type": "execute_result"
    }
   ],
   "source": [
    "class Base:\n",
    "    def __init__(self):\n",
    "        self.name = \"Rajesh\"\n",
    "\n",
    "\n",
    "class Derived(Base):\n",
    "    def __init__(self):\n",
    "        self.age = 29\n",
    "        super().__init__()\n",
    "\n",
    "\n",
    "class Child(Derived):\n",
    "    def __init__(self):\n",
    "        self.profession = \"Teacher\"\n",
    "\n",
    "    def view(self):\n",
    "        Derived.__init__(self)\n",
    "        return self.name\n",
    "\n",
    "\n",
    "obj = Child()\n",
    "obj.view()\n"
   ]
  },
  {
   "cell_type": "code",
   "execution_count": 9,
   "metadata": {},
   "outputs": [
    {
     "data": {
      "text/plain": [
       "('Rajesh', 'Football', 29)"
      ]
     },
     "execution_count": 9,
     "metadata": {},
     "output_type": "execute_result"
    }
   ],
   "source": [
    "class Base:\n",
    "    def __init__(self):\n",
    "        self.name = \"Rajesh\"\n",
    "\n",
    "\n",
    "class Derived1(Base):\n",
    "    def __init__(self):\n",
    "        self.age = 29\n",
    "        super().__init__()\n",
    "\n",
    "\n",
    "class Derived2(Base):\n",
    "    def __init__(self):\n",
    "        self.profession = \"Teacher\"\n",
    "        super().__init__()\n",
    "\n",
    "\n",
    "class Child(Derived1, Derived2):\n",
    "    def __init__(self):\n",
    "        pass\n",
    "\n",
    "    def view(self):\n",
    "        super().__init__()\n",
    "        Derived2.__init__(self)\n",
    "        self.interest = \"Football\"\n",
    "        return self.name, self.interest, self.age\n",
    "\n",
    "\n",
    "obj = Child()\n",
    "obj.view()\n"
   ]
  },
  {
   "cell_type": "code",
   "execution_count": 10,
   "metadata": {},
   "outputs": [],
   "source": [
    "class Base:\n",
    "    def __init__(self):\n",
    "        self.name = \"Rajesh\"\n",
    "\n",
    "\n",
    "class Derived1(Base):\n",
    "    def __init__(self, age):\n",
    "        self.age = age\n",
    "        super().__init__()\n",
    "\n",
    "\n",
    "class Derived2(Base):\n",
    "    def __init__(self, profession):\n",
    "        self.profession = profession\n",
    "        super().__init__()\n",
    "\n",
    "\n",
    "class Derived3(Base):\n",
    "    def __init__(self, interest):\n",
    "        self.interest = interest\n",
    "        super().__init__()\n",
    "\n",
    "\n",
    "obj = Base()\n",
    "obj1 = Derived1(29)\n",
    "obj2 = Derived2(\"Teacher\")\n",
    "obj3 = Derived3(\"Football\")\n"
   ]
  },
  {
   "cell_type": "code",
   "execution_count": 11,
   "metadata": {},
   "outputs": [
    {
     "name": "stdout",
     "output_type": "stream",
     "text": [
      "Rajesh\n"
     ]
    }
   ],
   "source": [
    "from abc import ABC, abstractmethod\n",
    "\n",
    "\n",
    "class School(ABC):\n",
    "    def __init__(self):\n",
    "        self.name = \"Rajesh\"\n",
    "        self.age = 29\n",
    "\n",
    "\n",
    "obj = School()\n",
    "print(obj.name)\n"
   ]
  },
  {
   "cell_type": "code",
   "execution_count": 12,
   "metadata": {},
   "outputs": [
    {
     "ename": "AttributeError",
     "evalue": "'Section' object has no attribute 'name'",
     "output_type": "error",
     "traceback": [
      "\u001b[1;31m---------------------------------------------------------------------------\u001b[0m",
      "\u001b[1;31mAttributeError\u001b[0m                            Traceback (most recent call last)",
      "Cell \u001b[1;32mIn[12], line 14\u001b[0m\n\u001b[0;32m     12\u001b[0m         \u001b[38;5;28mprint\u001b[39m(\u001b[38;5;28mself\u001b[39m\u001b[38;5;241m.\u001b[39mage)\n\u001b[0;32m     13\u001b[0m obj \u001b[38;5;241m=\u001b[39m Section()\n\u001b[1;32m---> 14\u001b[0m \u001b[43mobj\u001b[49m\u001b[38;5;241;43m.\u001b[39;49m\u001b[43mname\u001b[49m\n",
      "\u001b[1;31mAttributeError\u001b[0m: 'Section' object has no attribute 'name'"
     ]
    }
   ],
   "source": [
    "from abc import ABC, abstractmethod\n",
    "\n",
    "\n",
    "class School(ABC):\n",
    "    @abstractmethod\n",
    "    def __init__(self):\n",
    "        self.name = \"Rajesh\"\n",
    "        self.age = 29\n",
    "\n",
    "\n",
    "class Section(School):\n",
    "    def __init__(self):\n",
    "        pass\n",
    "\n",
    "    def view(self):\n",
    "        School.__init__(self)\n",
    "        print(self.age)\n",
    "\n",
    "\n",
    "obj = Section()\n",
    "obj.name\n"
   ]
  },
  {
   "cell_type": "code",
   "execution_count": 13,
   "metadata": {},
   "outputs": [
    {
     "name": "stdout",
     "output_type": "stream",
     "text": [
      "Rajesh\n"
     ]
    }
   ],
   "source": [
    "class School(ABC):\n",
    "    @abstractmethod\n",
    "    def __init__(self):\n",
    "        self.name = \"Rajesh\"\n",
    "        self.age = 29\n",
    "\n",
    "\n",
    "class Section(School):\n",
    "    def __init__(self):\n",
    "        pass\n",
    "\n",
    "    def view(self):\n",
    "        School.__init__(self)\n",
    "        print(self.name)\n",
    "\n",
    "\n",
    "obj = Section()\n",
    "obj.view()\n"
   ]
  },
  {
   "cell_type": "code",
   "execution_count": 14,
   "metadata": {},
   "outputs": [
    {
     "name": "stdout",
     "output_type": "stream",
     "text": [
      "A\n"
     ]
    }
   ],
   "source": [
    "from abc import ABC, abstractmethod\n",
    "\n",
    "\n",
    "class School(ABC):\n",
    "    @abstractmethod\n",
    "    def __init__(self):\n",
    "        self.name = \"Rajesh\"\n",
    "        self.age = 29\n",
    "\n",
    "    def deets(self):\n",
    "        self.section = \"A\"\n",
    "        self.standard = 9\n",
    "\n",
    "\n",
    "class Section(School):\n",
    "    def __init__(self):\n",
    "        pass\n",
    "\n",
    "    def view(self):\n",
    "        School.deets(self)\n",
    "        print(self.section)\n",
    "\n",
    "\n",
    "obj = Section()\n",
    "obj.view()\n"
   ]
  },
  {
   "cell_type": "code",
   "execution_count": 15,
   "metadata": {},
   "outputs": [
    {
     "name": "stdout",
     "output_type": "stream",
     "text": [
      "Rajesh\n"
     ]
    }
   ],
   "source": [
    "from abc import ABC, abstractmethod\n",
    "\n",
    "\n",
    "class School(ABC):\n",
    "    @abstractmethod\n",
    "    def __init__(self):\n",
    "        self.name = \"Rajesh\"\n",
    "        self.age = 29\n",
    "\n",
    "    def deets(self):\n",
    "        self.section = \"A\"\n",
    "        self.standard = 9\n",
    "\n",
    "\n",
    "class Section(School):\n",
    "    def __init__(self):\n",
    "        super().__init__()\n",
    "\n",
    "    def view(self):\n",
    "        print(self.name)\n",
    "\n",
    "\n",
    "obj = Section()\n",
    "obj.view()\n"
   ]
  },
  {
   "cell_type": "code",
   "execution_count": 16,
   "metadata": {},
   "outputs": [
    {
     "ename": "ModuleNotFoundError",
     "evalue": "No module named 'multipledispatch'",
     "output_type": "error",
     "traceback": [
      "\u001b[1;31m---------------------------------------------------------------------------\u001b[0m",
      "\u001b[1;31mModuleNotFoundError\u001b[0m                       Traceback (most recent call last)",
      "Cell \u001b[1;32mIn[16], line 1\u001b[0m\n\u001b[1;32m----> 1\u001b[0m \u001b[38;5;28;01mfrom\u001b[39;00m \u001b[38;5;21;01mmultipledispatch\u001b[39;00m \u001b[38;5;28;01mimport\u001b[39;00m dispatch\n\u001b[0;32m      2\u001b[0m \u001b[38;5;28;01mclass\u001b[39;00m \u001b[38;5;21;01mPoly\u001b[39;00m:\n\u001b[0;32m      3\u001b[0m     \u001b[38;5;129m@dispatch\u001b[39m(\u001b[38;5;28mint\u001b[39m, \u001b[38;5;28mint\u001b[39m)\n\u001b[0;32m      4\u001b[0m     \u001b[38;5;28;01mdef\u001b[39;00m \u001b[38;5;21mmethod\u001b[39m(\u001b[38;5;28mself\u001b[39m, a, b):\n",
      "\u001b[1;31mModuleNotFoundError\u001b[0m: No module named 'multipledispatch'"
     ]
    }
   ],
   "source": [
    "from multipledispatch import dispatch\n",
    "\n",
    "\n",
    "class Poly:\n",
    "    @dispatch(int, int)\n",
    "    def method(self, a, b):\n",
    "        return a**b\n",
    "\n",
    "    @dispatch(int, int, int)\n",
    "    def method(self, a, b, c):\n",
    "        return a * b * c\n",
    "\n",
    "\n",
    "obj = Poly()\n",
    "obj.method(3, 2)\n",
    "\n",
    "# 9\n"
   ]
  },
  {
   "cell_type": "code",
   "execution_count": 17,
   "metadata": {},
   "outputs": [
    {
     "ename": "TypeError",
     "evalue": "Poly.method() missing 1 required positional argument: 'c'",
     "output_type": "error",
     "traceback": [
      "\u001b[1;31m---------------------------------------------------------------------------\u001b[0m",
      "\u001b[1;31mTypeError\u001b[0m                                 Traceback (most recent call last)",
      "Cell \u001b[1;32mIn[17], line 7\u001b[0m\n\u001b[0;32m      5\u001b[0m         \u001b[38;5;28;01mreturn\u001b[39;00m (a\u001b[38;5;241m*\u001b[39mb\u001b[38;5;241m*\u001b[39mc)\n\u001b[0;32m      6\u001b[0m obj \u001b[38;5;241m=\u001b[39m Poly()\n\u001b[1;32m----> 7\u001b[0m \u001b[43mobj\u001b[49m\u001b[38;5;241;43m.\u001b[39;49m\u001b[43mmethod\u001b[49m\u001b[43m(\u001b[49m\u001b[38;5;241;43m3\u001b[39;49m\u001b[43m,\u001b[49m\u001b[38;5;241;43m2\u001b[39;49m\u001b[43m)\u001b[49m\n",
      "\u001b[1;31mTypeError\u001b[0m: Poly.method() missing 1 required positional argument: 'c'"
     ]
    }
   ],
   "source": [
    "class Poly:\n",
    "    def method(self, a, b):\n",
    "        return a**b\n",
    "\n",
    "    def method(self, a, b, c):\n",
    "        return a * b * c\n",
    "\n",
    "\n",
    "obj = Poly()\n",
    "obj.method(3, 2)\n"
   ]
  },
  {
   "cell_type": "code",
   "execution_count": 18,
   "metadata": {},
   "outputs": [
    {
     "data": {
      "text/plain": [
       "'Student'"
      ]
     },
     "execution_count": 18,
     "metadata": {},
     "output_type": "execute_result"
    }
   ],
   "source": [
    "class Poly:\n",
    "    def __init__(self):\n",
    "        self.name = \"Rajesh\"\n",
    "        self.age = 29\n",
    "\n",
    "    def view(self):\n",
    "        return self.name, self.age\n",
    "\n",
    "\n",
    "class Child(Poly):\n",
    "    def __init__(self):\n",
    "        Poly.__init__(self)\n",
    "\n",
    "    def view(self):\n",
    "        self.prof = \"Student\"\n",
    "        super().view()\n",
    "        return self.prof\n",
    "\n",
    "\n",
    "obj = Child()\n",
    "obj.view()\n"
   ]
  },
  {
   "cell_type": "code",
   "execution_count": 19,
   "metadata": {},
   "outputs": [
    {
     "data": {
      "text/plain": [
       "'Student'"
      ]
     },
     "execution_count": 19,
     "metadata": {},
     "output_type": "execute_result"
    }
   ],
   "source": [
    "class Poly:\n",
    "    def __init__(self):\n",
    "        self.name = \"Rajesh\"\n",
    "        self.age = 29\n",
    "\n",
    "    def view(self):\n",
    "        print(self.name)\n",
    "\n",
    "    class Child(Poly):\n",
    "        def __init__(self):\n",
    "            Poly.__init__(self)\n",
    "\n",
    "    def view(self):\n",
    "        self.prof = \"Student\"\n",
    "        super().view()\n",
    "        return None\n",
    "\n",
    "\n",
    "obj = Child()\n",
    "obj.view()\n"
   ]
  },
  {
   "cell_type": "code",
   "execution_count": 20,
   "metadata": {},
   "outputs": [],
   "source": [
    "class Poly:\n",
    "    def __init__(self):\n",
    "        self.name = \"Rajesh\"\n",
    "        self.age = 29\n",
    "\n",
    "    def view(self):\n",
    "        return None\n",
    "\n",
    "\n",
    "class Child(Poly):\n",
    "    def __init__(self):\n",
    "        Poly.__init__(self)\n",
    "\n",
    "    def view(self):\n",
    "        self.prof = \"Student\"\n",
    "        super().view()\n",
    "        return None\n",
    "\n",
    "\n",
    "obj = Poly()\n",
    "obj.view()\n"
   ]
  },
  {
   "cell_type": "code",
   "execution_count": 21,
   "metadata": {},
   "outputs": [
    {
     "data": {
      "text/plain": [
       "'Ramesh'"
      ]
     },
     "execution_count": 21,
     "metadata": {},
     "output_type": "execute_result"
    }
   ],
   "source": [
    "class Parent:\n",
    "    def __init__(self):\n",
    "        self._name = \"Rajesh\"\n",
    "        self.__age = 29\n",
    "\n",
    "\n",
    "class Child(Parent):\n",
    "    def __init__(self):\n",
    "        Parent.__init__(self)\n",
    "        self._name = \"Ramesh\"\n",
    "\n",
    "    def view(self):\n",
    "        return self._name\n",
    "\n",
    "\n",
    "obj = Child()\n",
    "obj.view()\n"
   ]
  },
  {
   "cell_type": "code",
   "execution_count": 22,
   "metadata": {},
   "outputs": [
    {
     "data": {
      "text/plain": [
       "28"
      ]
     },
     "execution_count": 22,
     "metadata": {},
     "output_type": "execute_result"
    }
   ],
   "source": [
    "class Parent:\n",
    "    def __init__(self):\n",
    "        self._name = \"Rajesh\"\n",
    "        self.__age = 29\n",
    "\n",
    "\n",
    "class Child(Parent):\n",
    "    def __init__(self):\n",
    "        Parent.__init__(self)\n",
    "        self._name = \"Ramesh\"\n",
    "        self.__age = 28\n",
    "\n",
    "    def view(self):\n",
    "        return self.__age\n",
    "\n",
    "\n",
    "obj = Child()\n",
    "obj.view()\n"
   ]
  },
  {
   "cell_type": "code",
   "execution_count": 23,
   "metadata": {},
   "outputs": [
    {
     "ename": "AttributeError",
     "evalue": "'Child' object has no attribute '_Child__age'",
     "output_type": "error",
     "traceback": [
      "\u001b[1;31m---------------------------------------------------------------------------\u001b[0m",
      "\u001b[1;31mAttributeError\u001b[0m                            Traceback (most recent call last)",
      "Cell \u001b[1;32mIn[23], line 12\u001b[0m\n\u001b[0;32m     10\u001b[0m         \u001b[38;5;28;01mreturn\u001b[39;00m \u001b[38;5;28mself\u001b[39m\u001b[38;5;241m.\u001b[39m__age\n\u001b[0;32m     11\u001b[0m obj \u001b[38;5;241m=\u001b[39m Child()\n\u001b[1;32m---> 12\u001b[0m \u001b[43mobj\u001b[49m\u001b[38;5;241;43m.\u001b[39;49m\u001b[43mview\u001b[49m\u001b[43m(\u001b[49m\u001b[43m)\u001b[49m\n",
      "Cell \u001b[1;32mIn[23], line 10\u001b[0m, in \u001b[0;36mChild.view\u001b[1;34m(self)\u001b[0m\n\u001b[0;32m      9\u001b[0m \u001b[38;5;28;01mdef\u001b[39;00m \u001b[38;5;21mview\u001b[39m(\u001b[38;5;28mself\u001b[39m):\n\u001b[1;32m---> 10\u001b[0m     \u001b[38;5;28;01mreturn\u001b[39;00m \u001b[38;5;28;43mself\u001b[39;49m\u001b[38;5;241;43m.\u001b[39;49m\u001b[43m__age\u001b[49m\n",
      "\u001b[1;31mAttributeError\u001b[0m: 'Child' object has no attribute '_Child__age'"
     ]
    }
   ],
   "source": [
    "class Parent:\n",
    "    def __init__(self):\n",
    "        self._name = \"Rajesh\"\n",
    "        self.__age = 29\n",
    "class Child(Parent):\n",
    "    def __init__(self):\n",
    "        Parent.__init__(self)\n",
    "        self._name = \"Ramesh\"\n",
    "    def view(self):\n",
    "        return self.__age\n",
    "obj = Child()\n",
    "obj.view()"
   ]
  }
 ],
 "metadata": {
  "kernelspec": {
   "display_name": "Python 3",
   "language": "python",
   "name": "python3"
  },
  "language_info": {
   "codemirror_mode": {
    "name": "ipython",
    "version": 3
   },
   "file_extension": ".py",
   "mimetype": "text/x-python",
   "name": "python",
   "nbconvert_exporter": "python",
   "pygments_lexer": "ipython3",
   "version": "3.11.3"
  }
 },
 "nbformat": 4,
 "nbformat_minor": 2
}
