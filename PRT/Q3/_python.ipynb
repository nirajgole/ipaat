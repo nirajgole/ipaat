{
 "cells": [
  {
   "cell_type": "markdown",
   "metadata": {},
   "source": [
    "3) Write a Python program that takes a user-input string and calculates the number of vowels and consonants in\n",
    "the given string. The program should consider both uppercase and lowercase letters.\n",
    "NOTE : Prepare a Google Colab notebook, include code and results, and share the notebook link with proper access permissions for evaluation."
   ]
  },
  {
   "cell_type": "code",
   "execution_count": 1,
   "metadata": {},
   "outputs": [
    {
     "name": "stdout",
     "output_type": "stream",
     "text": [
      "Number of vowels: 11\n",
      "Number of consonants: 21\n"
     ]
    }
   ],
   "source": [
    "# Get user input\n",
    "input_string = input(\"Enter a string: \")\n",
    "\n",
    "# Initialize counters for vowels and consonants\n",
    "vowel_count = 0\n",
    "consonant_count = 0\n",
    "\n",
    "# Loop through each character in the string\n",
    "for char in input_string.lower():\n",
    "    # Check if the character is a vowel\n",
    "    if char in \"aeiou\":\n",
    "        vowel_count += 1\n",
    "    # Check if the character is a consonant\n",
    "    elif char not in \"aeiou\" and char.isalpha():\n",
    "        consonant_count += 1\n",
    "\n",
    "# Print the results\n",
    "print(\"Number of vowels:\", vowel_count)\n",
    "print(\"Number of consonants:\", consonant_count)"
   ]
  }
 ],
 "metadata": {
  "kernelspec": {
   "display_name": "Python 3",
   "language": "python",
   "name": "python3"
  },
  "language_info": {
   "codemirror_mode": {
    "name": "ipython",
    "version": 3
   },
   "file_extension": ".py",
   "mimetype": "text/x-python",
   "name": "python",
   "nbconvert_exporter": "python",
   "pygments_lexer": "ipython3",
   "version": "3.11.3"
  }
 },
 "nbformat": 4,
 "nbformat_minor": 2
}
