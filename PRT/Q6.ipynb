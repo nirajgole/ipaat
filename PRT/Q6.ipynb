{
 "cells": [
  {
   "cell_type": "markdown",
   "metadata": {},
   "source": [
    "6. Assume you have a Hive table named user_activity with the following schema:\n",
    "   CREATE TABLE user_activity (\n",
    "   user_id INT,\n",
    "   activity_date DATE,\n",
    "   activity_type STRING\n",
    "   );\n",
    "   The table contains data on user activities, including the user ID, the date of the activity, and the type of activity performed (e.g., \"\"login,\"\" \"\"purchase,\"\" \"\"logout\"\").\n",
    "   a. Write a Hive query to find the total number of login activities for each user.\n",
    "   b. Include the user ID and the corresponding count of login activities in the result.\n",
    "   c. Order the result by user ID in ascending order.\n",
    "   NOTE : The output should display two columns: user_id and login_activity_count.\n"
   ]
  },
  {
   "cell_type": "code",
   "execution_count": null,
   "metadata": {
    "vscode": {
     "languageId": "sql"
    }
   },
   "outputs": [],
   "source": [
    "SELECT user_id, COUNT(*) AS login_activity_count\n",
    "FROM user_activity\n",
    "WHERE activity_type = 'login'\n",
    "GROUP BY user_id\n",
    "ORDER BY user_id ASC;"
   ]
  }
 ],
 "metadata": {
  "language_info": {
   "name": "python"
  }
 },
 "nbformat": 4,
 "nbformat_minor": 2
}
