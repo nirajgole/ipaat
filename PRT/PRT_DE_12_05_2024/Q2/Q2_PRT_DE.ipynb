{
  "nbformat": 4,
  "nbformat_minor": 0,
  "metadata": {
    "colab": {
      "provenance": []
    },
    "kernelspec": {
      "name": "python3",
      "display_name": "Python 3"
    },
    "language_info": {
      "name": "python"
    }
  },
  "cells": [
    {
      "cell_type": "markdown",
      "source": [
        "2) Write a Python Program that takes a list as input given by the user containing numbers. Find out the 3rd Largest element from that list.\n",
        "NOTE: Prepare a Google Colab notebook, include code and results, and share the notebook link with proper access permissions for evaluation. Failing to do so will result in zero marks."
      ],
      "metadata": {
        "id": "Q1G-ieK0PIcP"
      }
    },
    {
      "cell_type": "code",
      "source": [
        "#find third largest element from list\n",
        "input_list = [1,45,23,100,8,0.5,-89]"
      ],
      "metadata": {
        "id": "_wz8bWGYPHmf"
      },
      "execution_count": null,
      "outputs": []
    },
    {
      "cell_type": "code",
      "execution_count": null,
      "metadata": {
        "id": "-W5hI-G5PCKE"
      },
      "outputs": [],
      "source": [
        "def get_third_largest(lst:list)->int:\n",
        "  if not len(lst):\n",
        "    return 'No numbers found'\n",
        "  elif len(lst)<3:\n",
        "    return 'List should have at least 3 numbers'\n",
        "  return sorted(lst, reverse=True)[2]"
      ]
    },
    {
      "cell_type": "code",
      "source": [
        "result = get_third_largest(input_list)"
      ],
      "metadata": {
        "id": "NA6j0dc1QNuK"
      },
      "execution_count": null,
      "outputs": []
    },
    {
      "cell_type": "code",
      "source": [
        "print(result)"
      ],
      "metadata": {
        "colab": {
          "base_uri": "https://localhost:8080/"
        },
        "id": "7DG9LrX3QWXW",
        "outputId": "5e3facb1-ac40-4e68-af4c-b3cedada3bca"
      },
      "execution_count": null,
      "outputs": [
        {
          "output_type": "stream",
          "name": "stdout",
          "text": [
            "23\n"
          ]
        }
      ]
    }
  ]
}