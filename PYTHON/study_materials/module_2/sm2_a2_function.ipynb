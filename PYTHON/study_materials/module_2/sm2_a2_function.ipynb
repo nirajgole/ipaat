{
 "cells": [
  {
   "attachments": {},
   "cell_type": "markdown",
   "metadata": {},
   "source": [
    "### Assignment 2 - Function"
   ]
  },
  {
   "attachments": {},
   "cell_type": "markdown",
   "metadata": {},
   "source": [
    "```\n",
    "1. Create a class named ‘Super’ and inside that class define a user-defined\n",
    "function named fun1\n",
    "a. Inside the ‘fun1’ function, pass the message “This is function 1 in the\n",
    "Super class.” in the print statement.\n",
    "```"
   ]
  },
  {
   "cell_type": "code",
   "execution_count": 1,
   "metadata": {},
   "outputs": [
    {
     "data": {
      "text/plain": [
       "'This is function 1 in Super Class'"
      ]
     },
     "execution_count": 1,
     "metadata": {},
     "output_type": "execute_result"
    }
   ],
   "source": [
    "class Super:\n",
    "    def fun1(self)->str:\n",
    "        return \"This is function 1 in Super Class\"\n",
    "\n",
    "s1=Super()\n",
    "s1.fun1()"
   ]
  },
  {
   "attachments": {},
   "cell_type": "markdown",
   "metadata": {},
   "source": [
    "```\n",
    "2. Create another class named ‘Modified_Super’ and inherit this class from\n",
    "the Super class\n",
    "a. Inside the Modified_Super class, create a function named ‘fun1’ and\n",
    "pass the following message inside the print statement: ‘This is function 1 in\n",
    "the Modified Super class.’\n",
    "b. Create another user-defined function named ‘fun2’ and pass the\n",
    "message: ‘This is the 2 nd function from the Modified Super class’ in the\n",
    "print statement.\n",
    "c. After that, now create an object for the Modified_Super class and call the\n",
    "fun1().\n",
    "\n",
    "```"
   ]
  },
  {
   "cell_type": "code",
   "execution_count": 2,
   "metadata": {},
   "outputs": [
    {
     "data": {
      "text/plain": [
       "'This is function 1 in the Modified Super class.'"
      ]
     },
     "execution_count": 2,
     "metadata": {},
     "output_type": "execute_result"
    }
   ],
   "source": [
    "class ModifiedSuper(Super):\n",
    "    def fun1(self) -> str:\n",
    "        return 'This is function 1 in the Modified Super class.'\n",
    "    \n",
    "    def fun2(self)->str:\n",
    "        return 'This is the 2 nd function from the Modified Super class'\n",
    "\n",
    "m1=ModifiedSuper()\n",
    "m1.fun1()"
   ]
  },
  {
   "attachments": {},
   "cell_type": "markdown",
   "metadata": {},
   "source": [
    "```\n",
    "3. Create 2 methods named ‘Hello’. In the 1st Hello method, pass only one\n",
    "argument and pass this message: ‘This function is only having 1\n",
    "argument’. And in the 2nd Hello method, pass two arguments and pass\n",
    "this message: ‘This function is having 2 arguments’.\n",
    "a. Try to call both the methods and analyze the output of both the methods\n",
    "```"
   ]
  },
  {
   "cell_type": "code",
   "execution_count": 11,
   "metadata": {},
   "outputs": [
    {
     "name": "stdout",
     "output_type": "stream",
     "text": [
      "This function has only 1 argument  1\n",
      "This function has two arguments 1:1, 2:2\n"
     ]
    }
   ],
   "source": [
    "def Hello(arg1):\n",
    "    print(\"This function has only 1 argument \",arg1)\n",
    "\n",
    "h1=Hello(1)\n",
    "h1\n",
    "\n",
    "def Hello(arg1,arg2):\n",
    "    print(f'This function has two arguments 1:{arg1}, 2:{arg2}')\n",
    "\n",
    "h2=Hello(1,2)\n",
    "h2\n"
   ]
  },
  {
   "attachments": {},
   "cell_type": "markdown",
   "metadata": {},
   "source": [
    "```\n",
    "4. Create a method named ‘Sum’ that can accept multiple user inputs. Now\n",
    "add those user defined input values using for loop and the function should\n",
    "return the addition of the numbers.\n",
    "```"
   ]
  },
  {
   "cell_type": "code",
   "execution_count": 15,
   "metadata": {},
   "outputs": [
    {
     "data": {
      "text/plain": [
       "10"
      ]
     },
     "execution_count": 15,
     "metadata": {},
     "output_type": "execute_result"
    }
   ],
   "source": [
    "def Sum(*args)->int:\n",
    "    res=0\n",
    "    for i in args:\n",
    "        res+=i\n",
    "    return res\n",
    "\n",
    "s1=Sum(1,2,3,4)\n",
    "s1"
   ]
  },
  {
   "attachments": {},
   "cell_type": "markdown",
   "metadata": {},
   "source": [
    "```\n",
    "5. Create a class named ‘Encapsulation’:\n",
    "a. Inside the class, first create a constructor. Inside the constructor,\n",
    "initialize originalValue variable as 10.\n",
    "b. After creating the constructor, define a function named ‘Value’ and this\n",
    "function should return the variable that we have initialized in the\n",
    "constructor.\n",
    "c. Now create a 2nd function named setValue, and pass an argument\n",
    "named ‘newValue’. The task of this function will be to replace the value of\n",
    "the originalValue variable by the value of newValue variable.\n",
    "```"
   ]
  },
  {
   "cell_type": "code",
   "execution_count": 17,
   "metadata": {},
   "outputs": [
    {
     "data": {
      "text/plain": [
       "52"
      ]
     },
     "execution_count": 17,
     "metadata": {},
     "output_type": "execute_result"
    }
   ],
   "source": [
    "class Encapsulation:\n",
    "    def __init__(self) -> None:\n",
    "        self.originalValue=10\n",
    "    \n",
    "    def Value(self):\n",
    "        return self.originalValue\n",
    "    \n",
    "    def setValue(self,newValue):\n",
    "        self.originalValue=newValue\n",
    "    \n",
    "e1=Encapsulation()\n",
    "e1.Value()\n",
    "e1.setValue(52)\n",
    "e1.Value()"
   ]
  }
 ],
 "metadata": {
  "kernelspec": {
   "display_name": "Python 3",
   "language": "python",
   "name": "python3"
  },
  "language_info": {
   "codemirror_mode": {
    "name": "ipython",
    "version": 3
   },
   "file_extension": ".py",
   "mimetype": "text/x-python",
   "name": "python",
   "nbconvert_exporter": "python",
   "pygments_lexer": "ipython3",
   "version": "3.11.4"
  },
  "orig_nbformat": 4
 },
 "nbformat": 4,
 "nbformat_minor": 2
}
