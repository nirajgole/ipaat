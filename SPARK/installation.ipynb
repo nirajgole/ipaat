{
 "cells": [
  {
   "cell_type": "markdown",
   "metadata": {},
   "source": [
    "> installations done on 29-07-2023\\\n",
    "> reference [AmpCode-Youtube](https://www.youtube.com/watch?v=OmcSTQVkrvo&ab_channel=AmpCode)\n",
    "\n",
    "|software| version\n",
    "|--|-\n",
    "|windows | 11|\n",
    "|jdk |20|\n",
    "|spark| 3.4.1|\n",
    "|python | 3.11|\n",
    "|**hadoop | 3.0.0|\n",
    "|vscode | 1.80|\n",
    "\n",
    "** download [winutils.exe](https://github.com/steveloughran/winutils/blob/master/hadoop-3.0.0/bin/winutils.exe) from github.\\\n",
    "Create folder (i have created inside `c:\\\\program`) name `hadoop`, create subfolder `bin` and copy `winutils.exe` to it.\n",
    "\n",
    "Setting windows environment variables:\\\n",
    "(User)\\\n",
    "|variable | ** path\n",
    "|--|--\n",
    "|JAVA_HOME | C:\\Program Files\\Java\\jdk-20\n",
    "|SPARK_HOME | C:\\Program Files\\spark\\spark-3.4.1-bin-hadoop3\n",
    "|PYSPARK_HOME | C:\\Users\\Gigabyte\\AppData\\Local\\Programs\\Python\\Python311\\python.exe\n",
    "|HADOOP_HOME | C:\\Program Files\\hadoop\n",
    "\n",
    "** subject to change according to your system\n",
    "\n",
    "(System)\\\n",
    "Inside `path` variable add following paths:\\\n",
    "```scala\n",
    "%SPARK_HOME%\\bin\n",
    "%JAVA_HOME%\\bin\n",
    "%HADOOP_HOME%\\bin\n",
    "```\n",
    "\n",
    "Install python dependencies:\n",
    "(run following command on windows powershell)\n",
    "```powershell\n",
    "py -m pip install findspark pyspark jupyter\n",
    "```\n",
    "`findspark` - for spark initiation\\\n",
    "`pyspark` - spark for python\\\n",
    "`jupyter` - run jupyter notebook inside vscode"
   ]
  },
  {
   "cell_type": "code",
   "execution_count": 5,
   "metadata": {},
   "outputs": [],
   "source": [
    "import findspark\n",
    "findspark.init()"
   ]
  },
  {
   "cell_type": "code",
   "execution_count": 6,
   "metadata": {},
   "outputs": [],
   "source": [
    "import pyspark"
   ]
  },
  {
   "cell_type": "code",
   "execution_count": 7,
   "metadata": {},
   "outputs": [],
   "source": [
    "spark=pyspark.sql.SparkSession.builder.appName(\"testApp\").getOrCreate()"
   ]
  },
  {
   "cell_type": "code",
   "execution_count": 8,
   "metadata": {},
   "outputs": [
    {
     "data": {
      "text/html": [
       "\n",
       "            <div>\n",
       "                <p><b>SparkSession - in-memory</b></p>\n",
       "                \n",
       "        <div>\n",
       "            <p><b>SparkContext</b></p>\n",
       "\n",
       "            <p><a href=\"http://N7:4040\">Spark UI</a></p>\n",
       "\n",
       "            <dl>\n",
       "              <dt>Version</dt>\n",
       "                <dd><code>v3.4.1</code></dd>\n",
       "              <dt>Master</dt>\n",
       "                <dd><code>local[*]</code></dd>\n",
       "              <dt>AppName</dt>\n",
       "                <dd><code>testApp</code></dd>\n",
       "            </dl>\n",
       "        </div>\n",
       "        \n",
       "            </div>\n",
       "        "
      ],
      "text/plain": [
       "<pyspark.sql.session.SparkSession at 0x19b7e8b0590>"
      ]
     },
     "execution_count": 8,
     "metadata": {},
     "output_type": "execute_result"
    }
   ],
   "source": [
    "spark"
   ]
  },
  {
   "cell_type": "markdown",
   "metadata": {},
   "source": []
  }
 ],
 "metadata": {
  "kernelspec": {
   "display_name": "Python 3",
   "language": "python",
   "name": "python3"
  },
  "language_info": {
   "codemirror_mode": {
    "name": "ipython",
    "version": 3
   },
   "file_extension": ".py",
   "mimetype": "text/x-python",
   "name": "python",
   "nbconvert_exporter": "python",
   "pygments_lexer": "ipython3",
   "version": "3.11.3"
  },
  "orig_nbformat": 4
 },
 "nbformat": 4,
 "nbformat_minor": 2
}
