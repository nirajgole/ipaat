{
    "metadata": {
        "kernelspec": {
            "name": "SQL",
            "display_name": "SQL",
            "language": "sql"
        },
        "language_info": {
            "name": "sql",
            "version": ""
        }
    },
    "nbformat_minor": 2,
    "nbformat": 4,
    "cells": [
        {
            "cell_type": "markdown",
            "source": [
                "# LIVE-CLASSES-Module-4 Assignment"
            ],
            "metadata": {
                "azdata_cell_guid": "39d0ecae-9208-45dd-b11f-622225585ac8"
            },
            "attachments": {}
        },
        {
            "cell_type": "code",
            "source": [
                "-- 1. Use the inbuilt functions and find the minimum, maximum and average amount from the orders table\n",
                "SELECT\n",
                "    AVG(AMOUNT) AS AVG_AMOUNT,\n",
                "    MIN(AMOUNT) AS MIN_AMOUNT,\n",
                "    MAX(AMOUNT) AS MAX_AMOUNT\n",
                "FROM ORDERS"
            ],
            "metadata": {
                "azdata_cell_guid": "6603c770-7320-4074-8062-3e17e395fd3e",
                "language": "sql"
            },
            "outputs": [
                {
                    "output_type": "display_data",
                    "data": {
                        "text/html": "(1 row affected)"
                    },
                    "metadata": {}
                },
                {
                    "output_type": "display_data",
                    "data": {
                        "text/html": "Total execution time: 00:00:00.001"
                    },
                    "metadata": {}
                },
                {
                    "output_type": "execute_result",
                    "metadata": {},
                    "execution_count": 7,
                    "data": {
                        "application/vnd.dataresource+json": {
                            "schema": {
                                "fields": [
                                    {
                                        "name": "AVG_AMOUNT"
                                    },
                                    {
                                        "name": "MIN_AMOUNT"
                                    },
                                    {
                                        "name": "MAX_AMOUNT"
                                    }
                                ]
                            },
                            "data": [
                                {
                                    "0": "778",
                                    "1": "23",
                                    "2": "2212"
                                }
                            ]
                        },
                        "text/html": [
                            "<table>",
                            "<tr><th>AVG_AMOUNT</th><th>MIN_AMOUNT</th><th>MAX_AMOUNT</th></tr>",
                            "<tr><td>778</td><td>23</td><td>2212</td></tr>",
                            "</table>"
                        ]
                    }
                }
            ],
            "execution_count": 7
        },
        {
            "cell_type": "code",
            "source": [
                "-- 2. Create a user-defined function, which will multiply the given number with 10\r\n",
                "CREATE FUNCTION udf_func_mul(@num INT)\r\n",
                "RETURNS INT\r\n",
                "AS\r\n",
                "BEGIN\r\n",
                "RETURN (@num*10)\r\n",
                "END"
            ],
            "metadata": {
                "azdata_cell_guid": "558764ec-d7ab-4f76-a04c-39bd4ba26282",
                "language": "sql"
            },
            "outputs": [
                {
                    "output_type": "error",
                    "evalue": "Msg 2714, Level 16, State 3, Procedure udf_func_mul, Line 2\r\nThere is already an object named 'udf_func_mul' in the database.",
                    "ename": "",
                    "traceback": []
                },
                {
                    "output_type": "display_data",
                    "data": {
                        "text/html": "Total execution time: 00:00:00.001"
                    },
                    "metadata": {}
                }
            ],
            "execution_count": 8
        },
        {
            "cell_type": "code",
            "source": [
                "SELECT dbo.udf_func_mul(9) AS MULTIPLY_BY_10"
            ],
            "metadata": {
                "language": "sql",
                "azdata_cell_guid": "dc86a9fd-1e78-4dfa-a303-5fbc6457c2f2"
            },
            "outputs": [
                {
                    "output_type": "display_data",
                    "data": {
                        "text/html": "(1 row affected)"
                    },
                    "metadata": {}
                },
                {
                    "output_type": "display_data",
                    "data": {
                        "text/html": "Total execution time: 00:00:00.002"
                    },
                    "metadata": {}
                },
                {
                    "output_type": "execute_result",
                    "metadata": {},
                    "execution_count": 9,
                    "data": {
                        "application/vnd.dataresource+json": {
                            "schema": {
                                "fields": [
                                    {
                                        "name": "MULTIPLY_BY_10"
                                    }
                                ]
                            },
                            "data": [
                                {
                                    "0": "90"
                                }
                            ]
                        },
                        "text/html": [
                            "<table>",
                            "<tr><th>MULTIPLY_BY_10</th></tr>",
                            "<tr><td>90</td></tr>",
                            "</table>"
                        ]
                    }
                }
            ],
            "execution_count": 9
        },
        {
            "cell_type": "code",
            "source": [
                "-- 3. Use the case statement to check if 100 is less than 200, greater than 200 or equal to 200 and  print the corresponding value\r\n",
                "SELECT\r\n",
                "CASE\r\n",
                "WHEN 100<200 THEN '100 IS LESS THAN 200'\r\n",
                "WHEN 100>200 THEN '100 IS GREATER THAN 200'\r\n",
                "ELSE '100 IS EQUAL TO 200'\r\n",
                "END"
            ],
            "metadata": {
                "language": "sql",
                "azdata_cell_guid": "d04e4c70-ba4c-42d4-9ecf-00cbed7f1b54"
            },
            "outputs": [
                {
                    "output_type": "display_data",
                    "data": {
                        "text/html": "(1 row affected)"
                    },
                    "metadata": {}
                },
                {
                    "output_type": "display_data",
                    "data": {
                        "text/html": "Total execution time: 00:00:00.001"
                    },
                    "metadata": {}
                },
                {
                    "output_type": "execute_result",
                    "metadata": {},
                    "execution_count": 10,
                    "data": {
                        "application/vnd.dataresource+json": {
                            "schema": {
                                "fields": [
                                    {
                                        "name": "(No column name)"
                                    }
                                ]
                            },
                            "data": [
                                {
                                    "0": "100 IS LESS THAN 200"
                                }
                            ]
                        },
                        "text/html": [
                            "<table>",
                            "<tr><th>(No column name)</th></tr>",
                            "<tr><td>100 IS LESS THAN 200</td></tr>",
                            "</table>"
                        ]
                    }
                }
            ],
            "execution_count": 10
        }
    ]
}