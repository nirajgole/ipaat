{
    "cells": [
        {
            "attachments": {},
            "cell_type": "markdown",
            "metadata": {
                "azdata_cell_guid": "d5017a02-8a3f-4735-a4c6-aa04839d7502"
            },
            "source": [
                "## Simple Queries"
            ]
        },
        {
            "cell_type": "code",
            "execution_count": 1,
            "metadata": {
                "azdata_cell_guid": "552e8741-6315-41ca-9051-9e8bc1d6d311",
                "language": "sql",
                "tags": [
                    "hide_input"
                ],
                "vscode": {
                    "languageId": "sql"
                }
            },
            "outputs": [
                {
                    "data": {
                        "text/html": [
                            "(6 rows affected)"
                        ]
                    },
                    "metadata": {},
                    "output_type": "display_data"
                },
                {
                    "data": {
                        "text/html": [
                            "Total execution time: 00:00:00.005"
                        ]
                    },
                    "metadata": {},
                    "output_type": "display_data"
                },
                {
                    "data": {
                        "application/vnd.dataresource+json": {
                            "data": [
                                {
                                    "0": "7369",
                                    "1": "SMITH",
                                    "2": "JOHN",
                                    "3": "Q",
                                    "4": "667",
                                    "5": "7902",
                                    "6": "1984-12-17",
                                    "7": "800.00",
                                    "8": "NULL",
                                    "9": "20"
                                },
                                {
                                    "0": "7499",
                                    "1": "ALLEN",
                                    "2": "KEVIN",
                                    "3": "J",
                                    "4": "670",
                                    "5": "7698",
                                    "6": "1985-02-20",
                                    "7": "1600.00",
                                    "8": "300",
                                    "9": "30"
                                },
                                {
                                    "0": "7505",
                                    "1": "DOYLE",
                                    "2": "JEAN",
                                    "3": "K",
                                    "4": "671",
                                    "5": "7839",
                                    "6": "1985-04-04",
                                    "7": "2850.00",
                                    "8": "NULL",
                                    "9": "30"
                                },
                                {
                                    "0": "7506",
                                    "1": "DENNIS",
                                    "2": "LYNN",
                                    "3": "S",
                                    "4": "671",
                                    "5": "7839",
                                    "6": "1985-05-15",
                                    "7": "2750.00",
                                    "8": "NULL",
                                    "9": "30"
                                },
                                {
                                    "0": "7507",
                                    "1": "BAKER",
                                    "2": "LESLIE",
                                    "3": "D",
                                    "4": "671",
                                    "5": "7839",
                                    "6": "1985-06-10",
                                    "7": "2200.00",
                                    "8": "NULL",
                                    "9": "40"
                                },
                                {
                                    "0": "7521",
                                    "1": "WARK",
                                    "2": "CYNTHIA",
                                    "3": "D",
                                    "4": "670",
                                    "5": "7698",
                                    "6": "1985-02-22",
                                    "7": "1250.00",
                                    "8": "500",
                                    "9": "30"
                                }
                            ],
                            "schema": {
                                "fields": [
                                    {
                                        "name": "Employee_ID"
                                    },
                                    {
                                        "name": "Last_Name"
                                    },
                                    {
                                        "name": "First_Name"
                                    },
                                    {
                                        "name": "Middle_Name"
                                    },
                                    {
                                        "name": "Job_ID"
                                    },
                                    {
                                        "name": "Manager_ID"
                                    },
                                    {
                                        "name": "Hire_Date"
                                    },
                                    {
                                        "name": "Salary"
                                    },
                                    {
                                        "name": "Comm"
                                    },
                                    {
                                        "name": "Department_ID"
                                    }
                                ]
                            }
                        },
                        "text/html": [
                            "<table>\n",
                            "<tr><th>Employee_ID</th><th>Last_Name</th><th>First_Name</th><th>Middle_Name</th><th>Job_ID</th><th>Manager_ID</th><th>Hire_Date</th><th>Salary</th><th>Comm</th><th>Department_ID</th></tr>\n",
                            "<tr><td>7369</td><td>SMITH</td><td>JOHN</td><td>Q</td><td>667</td><td>7902</td><td>1984-12-17</td><td>800.00</td><td>NULL</td><td>20</td></tr>\n",
                            "<tr><td>7499</td><td>ALLEN</td><td>KEVIN</td><td>J</td><td>670</td><td>7698</td><td>1985-02-20</td><td>1600.00</td><td>300</td><td>30</td></tr>\n",
                            "<tr><td>7505</td><td>DOYLE</td><td>JEAN</td><td>K</td><td>671</td><td>7839</td><td>1985-04-04</td><td>2850.00</td><td>NULL</td><td>30</td></tr>\n",
                            "<tr><td>7506</td><td>DENNIS</td><td>LYNN</td><td>S</td><td>671</td><td>7839</td><td>1985-05-15</td><td>2750.00</td><td>NULL</td><td>30</td></tr>\n",
                            "<tr><td>7507</td><td>BAKER</td><td>LESLIE</td><td>D</td><td>671</td><td>7839</td><td>1985-06-10</td><td>2200.00</td><td>NULL</td><td>40</td></tr>\n",
                            "<tr><td>7521</td><td>WARK</td><td>CYNTHIA</td><td>D</td><td>670</td><td>7698</td><td>1985-02-22</td><td>1250.00</td><td>500</td><td>30</td></tr>\n",
                            "</table>"
                        ]
                    },
                    "execution_count": 1,
                    "metadata": {},
                    "output_type": "execute_result"
                }
            ],
            "source": [
                "-- 1. LIST ALL THE EMPLOYEE DETAILS.\n",
                "SELECT * FROM EMPLOYEE"
            ]
        },
        {
            "cell_type": "code",
            "execution_count": 2,
            "metadata": {
                "azdata_cell_guid": "7d18f8fc-869b-4c4d-a40c-ef95f388f9f9",
                "language": "sql",
                "vscode": {
                    "languageId": "sql"
                }
            },
            "outputs": [
                {
                    "data": {
                        "text/html": [
                            "(4 rows affected)"
                        ]
                    },
                    "metadata": {},
                    "output_type": "display_data"
                },
                {
                    "data": {
                        "text/html": [
                            "Total execution time: 00:00:00.002"
                        ]
                    },
                    "metadata": {},
                    "output_type": "display_data"
                },
                {
                    "data": {
                        "application/vnd.dataresource+json": {
                            "data": [
                                {
                                    "0": "10",
                                    "1": "Accounting",
                                    "2": "122"
                                },
                                {
                                    "0": "20",
                                    "1": "Sales",
                                    "2": "124"
                                },
                                {
                                    "0": "30",
                                    "1": "Research",
                                    "2": "123"
                                },
                                {
                                    "0": "40",
                                    "1": "Operations",
                                    "2": "167"
                                }
                            ],
                            "schema": {
                                "fields": [
                                    {
                                        "name": "DEPARTMENT_ID"
                                    },
                                    {
                                        "name": "NAME"
                                    },
                                    {
                                        "name": "LOCATION_ID"
                                    }
                                ]
                            }
                        },
                        "text/html": [
                            "<table>\n",
                            "<tr><th>DEPARTMENT_ID</th><th>NAME</th><th>LOCATION_ID</th></tr>\n",
                            "<tr><td>10</td><td>Accounting</td><td>122</td></tr>\n",
                            "<tr><td>20</td><td>Sales</td><td>124</td></tr>\n",
                            "<tr><td>30</td><td>Research</td><td>123</td></tr>\n",
                            "<tr><td>40</td><td>Operations</td><td>167</td></tr>\n",
                            "</table>"
                        ]
                    },
                    "execution_count": 2,
                    "metadata": {},
                    "output_type": "execute_result"
                }
            ],
            "source": [
                "-- 2. LIST ALL THE DEPARTMENT DETAILS\n",
                "SELECT * FROM DEPARTMENT"
            ]
        },
        {
            "cell_type": "code",
            "execution_count": 3,
            "metadata": {
                "azdata_cell_guid": "6d458735-38f0-4ba9-8819-5180dc7e04d8",
                "language": "sql",
                "vscode": {
                    "languageId": "sql"
                }
            },
            "outputs": [
                {
                    "data": {
                        "text/html": [
                            "(6 rows affected)"
                        ]
                    },
                    "metadata": {},
                    "output_type": "display_data"
                },
                {
                    "data": {
                        "text/html": [
                            "Total execution time: 00:00:00.003"
                        ]
                    },
                    "metadata": {},
                    "output_type": "display_data"
                },
                {
                    "data": {
                        "application/vnd.dataresource+json": {
                            "data": [
                                {
                                    "0": "667",
                                    "1": "Clerk"
                                },
                                {
                                    "0": "668",
                                    "1": "Staff"
                                },
                                {
                                    "0": "669",
                                    "1": "Analyst"
                                },
                                {
                                    "0": "670",
                                    "1": "Sales Person"
                                },
                                {
                                    "0": "671",
                                    "1": "Manager"
                                },
                                {
                                    "0": "672",
                                    "1": "President"
                                }
                            ],
                            "schema": {
                                "fields": [
                                    {
                                        "name": "JOB_ID"
                                    },
                                    {
                                        "name": "DESIGNATION"
                                    }
                                ]
                            }
                        },
                        "text/html": [
                            "<table>\n",
                            "<tr><th>JOB_ID</th><th>DESIGNATION</th></tr>\n",
                            "<tr><td>667</td><td>Clerk</td></tr>\n",
                            "<tr><td>668</td><td>Staff</td></tr>\n",
                            "<tr><td>669</td><td>Analyst</td></tr>\n",
                            "<tr><td>670</td><td>Sales Person</td></tr>\n",
                            "<tr><td>671</td><td>Manager</td></tr>\n",
                            "<tr><td>672</td><td>President</td></tr>\n",
                            "</table>"
                        ]
                    },
                    "execution_count": 3,
                    "metadata": {},
                    "output_type": "execute_result"
                }
            ],
            "source": [
                "-- 3. LIST ALL JOB DETAILS.\n",
                "SELECT * FROM JOB"
            ]
        },
        {
            "cell_type": "code",
            "execution_count": 4,
            "metadata": {
                "azdata_cell_guid": "4c30ce63-00d7-4887-9dbc-6a9b1413d15f",
                "language": "sql",
                "vscode": {
                    "languageId": "sql"
                }
            },
            "outputs": [
                {
                    "data": {
                        "text/html": [
                            "(4 rows affected)"
                        ]
                    },
                    "metadata": {},
                    "output_type": "display_data"
                },
                {
                    "data": {
                        "text/html": [
                            "Total execution time: 00:00:00.002"
                        ]
                    },
                    "metadata": {},
                    "output_type": "display_data"
                },
                {
                    "data": {
                        "application/vnd.dataresource+json": {
                            "data": [
                                {
                                    "0": "122",
                                    "1": "New York"
                                },
                                {
                                    "0": "123",
                                    "1": "Dallas"
                                },
                                {
                                    "0": "124",
                                    "1": "Chicago"
                                },
                                {
                                    "0": "167",
                                    "1": "Boston"
                                }
                            ],
                            "schema": {
                                "fields": [
                                    {
                                        "name": "LOCATION_ID"
                                    },
                                    {
                                        "name": "CITY"
                                    }
                                ]
                            }
                        },
                        "text/html": [
                            "<table>\n",
                            "<tr><th>LOCATION_ID</th><th>CITY</th></tr>\n",
                            "<tr><td>122</td><td>New York</td></tr>\n",
                            "<tr><td>123</td><td>Dallas</td></tr>\n",
                            "<tr><td>124</td><td>Chicago</td></tr>\n",
                            "<tr><td>167</td><td>Boston</td></tr>\n",
                            "</table>"
                        ]
                    },
                    "execution_count": 4,
                    "metadata": {},
                    "output_type": "execute_result"
                }
            ],
            "source": [
                "-- 4. LIST ALL THE LOCATIONS.\n",
                "SELECT * FROM LOCATION"
            ]
        },
        {
            "cell_type": "code",
            "execution_count": 5,
            "metadata": {
                "azdata_cell_guid": "f1e3d428-763c-405c-a161-361941e2ec8f",
                "language": "sql",
                "vscode": {
                    "languageId": "sql"
                }
            },
            "outputs": [
                {
                    "data": {
                        "text/html": [
                            "(6 rows affected)"
                        ]
                    },
                    "metadata": {},
                    "output_type": "display_data"
                },
                {
                    "data": {
                        "text/html": [
                            "Total execution time: 00:00:00.003"
                        ]
                    },
                    "metadata": {},
                    "output_type": "display_data"
                },
                {
                    "data": {
                        "application/vnd.dataresource+json": {
                            "data": [
                                {
                                    "0": "JOHN",
                                    "1": "SMITH",
                                    "2": "800.00",
                                    "3": "NULL"
                                },
                                {
                                    "0": "KEVIN",
                                    "1": "ALLEN",
                                    "2": "1600.00",
                                    "3": "300"
                                },
                                {
                                    "0": "JEAN",
                                    "1": "DOYLE",
                                    "2": "2850.00",
                                    "3": "NULL"
                                },
                                {
                                    "0": "LYNN",
                                    "1": "DENNIS",
                                    "2": "2750.00",
                                    "3": "NULL"
                                },
                                {
                                    "0": "LESLIE",
                                    "1": "BAKER",
                                    "2": "2200.00",
                                    "3": "NULL"
                                },
                                {
                                    "0": "CYNTHIA",
                                    "1": "WARK",
                                    "2": "1250.00",
                                    "3": "500"
                                }
                            ],
                            "schema": {
                                "fields": [
                                    {
                                        "name": "FIRST_NAME"
                                    },
                                    {
                                        "name": "LAST_NAME"
                                    },
                                    {
                                        "name": "SALARY"
                                    },
                                    {
                                        "name": "COMM"
                                    }
                                ]
                            }
                        },
                        "text/html": [
                            "<table>\n",
                            "<tr><th>FIRST_NAME</th><th>LAST_NAME</th><th>SALARY</th><th>COMM</th></tr>\n",
                            "<tr><td>JOHN</td><td>SMITH</td><td>800.00</td><td>NULL</td></tr>\n",
                            "<tr><td>KEVIN</td><td>ALLEN</td><td>1600.00</td><td>300</td></tr>\n",
                            "<tr><td>JEAN</td><td>DOYLE</td><td>2850.00</td><td>NULL</td></tr>\n",
                            "<tr><td>LYNN</td><td>DENNIS</td><td>2750.00</td><td>NULL</td></tr>\n",
                            "<tr><td>LESLIE</td><td>BAKER</td><td>2200.00</td><td>NULL</td></tr>\n",
                            "<tr><td>CYNTHIA</td><td>WARK</td><td>1250.00</td><td>500</td></tr>\n",
                            "</table>"
                        ]
                    },
                    "execution_count": 5,
                    "metadata": {},
                    "output_type": "execute_result"
                }
            ],
            "source": [
                "-- 5. LIST OUT THE FIRSTNAME, LASTNAME, SALARY, COMMISSION FOR ALL EMPLOYEES.\n",
                "SELECT FIRST_NAME, LAST_NAME, SALARY, COMM FROM EMPLOYEE"
            ]
        },
        {
            "cell_type": "code",
            "execution_count": 7,
            "metadata": {
                "azdata_cell_guid": "e88d8448-110c-49a3-9c85-aae5df40061e",
                "language": "sql",
                "vscode": {
                    "languageId": "sql"
                }
            },
            "outputs": [
                {
                    "data": {
                        "text/html": [
                            "(6 rows affected)"
                        ]
                    },
                    "metadata": {},
                    "output_type": "display_data"
                },
                {
                    "data": {
                        "text/html": [
                            "Total execution time: 00:00:00.003"
                        ]
                    },
                    "metadata": {},
                    "output_type": "display_data"
                },
                {
                    "data": {
                        "application/vnd.dataresource+json": {
                            "data": [
                                {
                                    "0": "7369",
                                    "1": "SMITH",
                                    "2": "20"
                                },
                                {
                                    "0": "7499",
                                    "1": "ALLEN",
                                    "2": "30"
                                },
                                {
                                    "0": "7505",
                                    "1": "DOYLE",
                                    "2": "30"
                                },
                                {
                                    "0": "7506",
                                    "1": "DENNIS",
                                    "2": "30"
                                },
                                {
                                    "0": "7507",
                                    "1": "BAKER",
                                    "2": "40"
                                },
                                {
                                    "0": "7521",
                                    "1": "WARK",
                                    "2": "30"
                                }
                            ],
                            "schema": {
                                "fields": [
                                    {
                                        "name": "ID OF THE EMPLOYEE"
                                    },
                                    {
                                        "name": "NAME OF THE EMPLOYEE"
                                    },
                                    {
                                        "name": "DEP_ID"
                                    }
                                ]
                            }
                        },
                        "text/html": [
                            "<table>\n",
                            "<tr><th>ID OF THE EMPLOYEE</th><th>NAME OF THE EMPLOYEE</th><th>DEP_ID</th></tr>\n",
                            "<tr><td>7369</td><td>SMITH</td><td>20</td></tr>\n",
                            "<tr><td>7499</td><td>ALLEN</td><td>30</td></tr>\n",
                            "<tr><td>7505</td><td>DOYLE</td><td>30</td></tr>\n",
                            "<tr><td>7506</td><td>DENNIS</td><td>30</td></tr>\n",
                            "<tr><td>7507</td><td>BAKER</td><td>40</td></tr>\n",
                            "<tr><td>7521</td><td>WARK</td><td>30</td></tr>\n",
                            "</table>"
                        ]
                    },
                    "execution_count": 7,
                    "metadata": {},
                    "output_type": "execute_result"
                }
            ],
            "source": [
                "-- 6. LIST OUT EMPLOYEEID,LAST NAME, DEPARTMENT ID FOR ALL EMPLOYEES AND ALIAS\n",
                "-- EMPLOYEEID AS \"ID OF THE EMPLOYEE\", LAST NAME AS \"NAME OF THE EMPLOYEE\",\n",
                "-- DEPARTMENTID AS \"DEP_ID\".\n",
                "\n",
                "SELECT Employee_ID AS \"ID OF THE EMPLOYEE\", LAST_NAME \"NAME OF THE EMPLOYEE\", DEPARTMENT_ID \"DEP_ID\"\n",
                "FROM EMPLOYEE"
            ]
        },
        {
            "cell_type": "code",
            "execution_count": 12,
            "metadata": {
                "azdata_cell_guid": "c1de53c5-056b-4402-8255-4d0076b899ff",
                "language": "sql",
                "vscode": {
                    "languageId": "sql"
                }
            },
            "outputs": [
                {
                    "data": {
                        "text/html": [
                            "(6 rows affected)"
                        ]
                    },
                    "metadata": {},
                    "output_type": "display_data"
                },
                {
                    "data": {
                        "text/html": [
                            "Total execution time: 00:00:00.002"
                        ]
                    },
                    "metadata": {},
                    "output_type": "display_data"
                },
                {
                    "data": {
                        "application/vnd.dataresource+json": {
                            "data": [
                                {
                                    "0": "JOHN",
                                    "1": "9600.00"
                                },
                                {
                                    "0": "KEVIN",
                                    "1": "19200.00"
                                },
                                {
                                    "0": "JEAN",
                                    "1": "34200.00"
                                },
                                {
                                    "0": "LYNN",
                                    "1": "33000.00"
                                },
                                {
                                    "0": "LESLIE",
                                    "1": "26400.00"
                                },
                                {
                                    "0": "CYNTHIA",
                                    "1": "15000.00"
                                }
                            ],
                            "schema": {
                                "fields": [
                                    {
                                        "name": "FIRST_NAME"
                                    },
                                    {
                                        "name": "ANNUAL SALARY"
                                    }
                                ]
                            }
                        },
                        "text/html": [
                            "<table>\n",
                            "<tr><th>FIRST_NAME</th><th>ANNUAL SALARY</th></tr>\n",
                            "<tr><td>JOHN</td><td>9600.00</td></tr>\n",
                            "<tr><td>KEVIN</td><td>19200.00</td></tr>\n",
                            "<tr><td>JEAN</td><td>34200.00</td></tr>\n",
                            "<tr><td>LYNN</td><td>33000.00</td></tr>\n",
                            "<tr><td>LESLIE</td><td>26400.00</td></tr>\n",
                            "<tr><td>CYNTHIA</td><td>15000.00</td></tr>\n",
                            "</table>"
                        ]
                    },
                    "execution_count": 12,
                    "metadata": {},
                    "output_type": "execute_result"
                }
            ],
            "source": [
                "-- 7. LIST OUT THE EMPLOYEES ANNUAL SALARY WITH THEIR NAMES ONLY.\n",
                "SELECT FIRST_NAME, SALARY*12 AS \"ANNUAL SALARY\" FROM EMPLOYEE"
            ]
        },
        {
            "attachments": {},
            "cell_type": "markdown",
            "metadata": {
                "azdata_cell_guid": "793d14de-7977-48fa-98a8-448d13ee3c18",
                "language": "sql"
            },
            "source": [
                "## WHERE"
            ]
        },
        {
            "cell_type": "code",
            "execution_count": 11,
            "metadata": {
                "azdata_cell_guid": "d98fd642-196e-4d18-b033-d2390a7f6e48",
                "language": "sql",
                "vscode": {
                    "languageId": "sql"
                }
            },
            "outputs": [
                {
                    "data": {
                        "text/html": [
                            "(1 row affected)"
                        ]
                    },
                    "metadata": {},
                    "output_type": "display_data"
                },
                {
                    "data": {
                        "text/html": [
                            "Total execution time: 00:00:00.006"
                        ]
                    },
                    "metadata": {},
                    "output_type": "display_data"
                },
                {
                    "data": {
                        "application/vnd.dataresource+json": {
                            "data": [
                                {
                                    "0": "7369",
                                    "1": "SMITH",
                                    "2": "JOHN",
                                    "3": "Q",
                                    "4": "667",
                                    "5": "7902",
                                    "6": "1984-12-17",
                                    "7": "800.00",
                                    "8": "NULL",
                                    "9": "20"
                                }
                            ],
                            "schema": {
                                "fields": [
                                    {
                                        "name": "Employee_ID"
                                    },
                                    {
                                        "name": "Last_Name"
                                    },
                                    {
                                        "name": "First_Name"
                                    },
                                    {
                                        "name": "Middle_Name"
                                    },
                                    {
                                        "name": "Job_ID"
                                    },
                                    {
                                        "name": "Manager_ID"
                                    },
                                    {
                                        "name": "Hire_Date"
                                    },
                                    {
                                        "name": "Salary"
                                    },
                                    {
                                        "name": "Comm"
                                    },
                                    {
                                        "name": "Department_ID"
                                    }
                                ]
                            }
                        },
                        "text/html": [
                            "<table>\n",
                            "<tr><th>Employee_ID</th><th>Last_Name</th><th>First_Name</th><th>Middle_Name</th><th>Job_ID</th><th>Manager_ID</th><th>Hire_Date</th><th>Salary</th><th>Comm</th><th>Department_ID</th></tr>\n",
                            "<tr><td>7369</td><td>SMITH</td><td>JOHN</td><td>Q</td><td>667</td><td>7902</td><td>1984-12-17</td><td>800.00</td><td>NULL</td><td>20</td></tr>\n",
                            "</table>"
                        ]
                    },
                    "execution_count": 11,
                    "metadata": {},
                    "output_type": "execute_result"
                }
            ],
            "source": [
                "-- 1. LIST THE DETAILS ABOUT \"SMITH\"\n",
                "SELECT * FROM EMPLOYEE WHERE 'SMITH' in (First_Name,Last_Name)"
            ]
        },
        {
            "cell_type": "code",
            "execution_count": 14,
            "metadata": {
                "azdata_cell_guid": "8d0660fa-105d-4489-97fa-5594966a5ad2",
                "language": "sql",
                "tags": [],
                "vscode": {
                    "languageId": "sql"
                }
            },
            "outputs": [
                {
                    "data": {
                        "text/html": [
                            "(1 row affected)"
                        ]
                    },
                    "metadata": {},
                    "output_type": "display_data"
                },
                {
                    "data": {
                        "text/html": [
                            "Total execution time: 00:00:00.002"
                        ]
                    },
                    "metadata": {},
                    "output_type": "display_data"
                },
                {
                    "data": {
                        "application/vnd.dataresource+json": {
                            "data": [
                                {
                                    "0": "7369",
                                    "1": "SMITH",
                                    "2": "JOHN",
                                    "3": "Q",
                                    "4": "667",
                                    "5": "7902",
                                    "6": "1984-12-17",
                                    "7": "800.00",
                                    "8": "NULL",
                                    "9": "20"
                                }
                            ],
                            "schema": {
                                "fields": [
                                    {
                                        "name": "Employee_ID"
                                    },
                                    {
                                        "name": "Last_Name"
                                    },
                                    {
                                        "name": "First_Name"
                                    },
                                    {
                                        "name": "Middle_Name"
                                    },
                                    {
                                        "name": "Job_ID"
                                    },
                                    {
                                        "name": "Manager_ID"
                                    },
                                    {
                                        "name": "Hire_Date"
                                    },
                                    {
                                        "name": "Salary"
                                    },
                                    {
                                        "name": "Comm"
                                    },
                                    {
                                        "name": "Department_ID"
                                    }
                                ]
                            }
                        },
                        "text/html": [
                            "<table>\n",
                            "<tr><th>Employee_ID</th><th>Last_Name</th><th>First_Name</th><th>Middle_Name</th><th>Job_ID</th><th>Manager_ID</th><th>Hire_Date</th><th>Salary</th><th>Comm</th><th>Department_ID</th></tr>\n",
                            "<tr><td>7369</td><td>SMITH</td><td>JOHN</td><td>Q</td><td>667</td><td>7902</td><td>1984-12-17</td><td>800.00</td><td>NULL</td><td>20</td></tr>\n",
                            "</table>"
                        ]
                    },
                    "execution_count": 14,
                    "metadata": {},
                    "output_type": "execute_result"
                }
            ],
            "source": [
                "-- 2. LIST OUT THE EMPLOYEES WHO ARE WORKING IN DEPARTMENT 20.\n",
                "SELECT * FROM EMPLOYEE WHERE Department_ID=20"
            ]
        },
        {
            "cell_type": "code",
            "execution_count": 19,
            "metadata": {
                "azdata_cell_guid": "854465b5-2e57-4cee-a4de-591b67d26dfd",
                "language": "sql",
                "vscode": {
                    "languageId": "sql"
                }
            },
            "outputs": [
                {
                    "data": {
                        "text/html": [
                            "(0 rows affected)"
                        ]
                    },
                    "metadata": {},
                    "output_type": "display_data"
                },
                {
                    "data": {
                        "text/html": [
                            "Total execution time: 00:00:00.001"
                        ]
                    },
                    "metadata": {},
                    "output_type": "display_data"
                },
                {
                    "data": {
                        "application/vnd.dataresource+json": {
                            "data": [],
                            "schema": {
                                "fields": [
                                    {
                                        "name": "Employee_ID"
                                    },
                                    {
                                        "name": "Last_Name"
                                    },
                                    {
                                        "name": "First_Name"
                                    },
                                    {
                                        "name": "Middle_Name"
                                    },
                                    {
                                        "name": "Job_ID"
                                    },
                                    {
                                        "name": "Manager_ID"
                                    },
                                    {
                                        "name": "Hire_Date"
                                    },
                                    {
                                        "name": "Salary"
                                    },
                                    {
                                        "name": "Comm"
                                    },
                                    {
                                        "name": "Department_ID"
                                    }
                                ]
                            }
                        },
                        "text/html": [
                            "<table>\n",
                            "<tr><th>Employee_ID</th><th>Last_Name</th><th>First_Name</th><th>Middle_Name</th><th>Job_ID</th><th>Manager_ID</th><th>Hire_Date</th><th>Salary</th><th>Comm</th><th>Department_ID</th></tr>\n",
                            "</table>"
                        ]
                    },
                    "execution_count": 19,
                    "metadata": {},
                    "output_type": "execute_result"
                }
            ],
            "source": [
                "-- 3. LIST OUT THE EMPLOYEES WHO ARE EARNING SALARY BETWEEN 3000 AND 4500.\n",
                "SELECT * FROM EMPLOYEE WHERE Salary BETWEEN 3000 AND 4500"
            ]
        },
        {
            "cell_type": "code",
            "execution_count": 20,
            "metadata": {
                "azdata_cell_guid": "05313bb0-f66c-44dc-aee9-2c9006437930",
                "language": "sql",
                "tags": [],
                "vscode": {
                    "languageId": "sql"
                }
            },
            "outputs": [
                {
                    "data": {
                        "text/html": [
                            "(1 row affected)"
                        ]
                    },
                    "metadata": {},
                    "output_type": "display_data"
                },
                {
                    "data": {
                        "text/html": [
                            "Total execution time: 00:00:00.002"
                        ]
                    },
                    "metadata": {},
                    "output_type": "display_data"
                },
                {
                    "data": {
                        "application/vnd.dataresource+json": {
                            "data": [
                                {
                                    "0": "7369",
                                    "1": "SMITH",
                                    "2": "JOHN",
                                    "3": "Q",
                                    "4": "667",
                                    "5": "7902",
                                    "6": "1984-12-17",
                                    "7": "800.00",
                                    "8": "NULL",
                                    "9": "20"
                                }
                            ],
                            "schema": {
                                "fields": [
                                    {
                                        "name": "Employee_ID"
                                    },
                                    {
                                        "name": "Last_Name"
                                    },
                                    {
                                        "name": "First_Name"
                                    },
                                    {
                                        "name": "Middle_Name"
                                    },
                                    {
                                        "name": "Job_ID"
                                    },
                                    {
                                        "name": "Manager_ID"
                                    },
                                    {
                                        "name": "Hire_Date"
                                    },
                                    {
                                        "name": "Salary"
                                    },
                                    {
                                        "name": "Comm"
                                    },
                                    {
                                        "name": "Department_ID"
                                    }
                                ]
                            }
                        },
                        "text/html": [
                            "<table>\n",
                            "<tr><th>Employee_ID</th><th>Last_Name</th><th>First_Name</th><th>Middle_Name</th><th>Job_ID</th><th>Manager_ID</th><th>Hire_Date</th><th>Salary</th><th>Comm</th><th>Department_ID</th></tr>\n",
                            "<tr><td>7369</td><td>SMITH</td><td>JOHN</td><td>Q</td><td>667</td><td>7902</td><td>1984-12-17</td><td>800.00</td><td>NULL</td><td>20</td></tr>\n",
                            "</table>"
                        ]
                    },
                    "execution_count": 20,
                    "metadata": {},
                    "output_type": "execute_result"
                }
            ],
            "source": [
                "-- 4. LIST OUT THE EMPLOYEES WHO ARE WORKING IN DEPARTMENT 10 OR 20.\n",
                "SELECT * FROM EMPLOYEE WHERE Department_ID IN (10,20)"
            ]
        },
        {
            "cell_type": "code",
            "execution_count": 21,
            "metadata": {
                "azdata_cell_guid": "363efa47-e85e-493a-89f4-734bf61baed4",
                "language": "sql",
                "vscode": {
                    "languageId": "sql"
                }
            },
            "outputs": [
                {
                    "data": {
                        "text/html": [
                            "(2 rows affected)"
                        ]
                    },
                    "metadata": {},
                    "output_type": "display_data"
                },
                {
                    "data": {
                        "text/html": [
                            "Total execution time: 00:00:00.079"
                        ]
                    },
                    "metadata": {},
                    "output_type": "display_data"
                },
                {
                    "data": {
                        "application/vnd.dataresource+json": {
                            "data": [
                                {
                                    "0": "7369",
                                    "1": "SMITH",
                                    "2": "JOHN",
                                    "3": "Q",
                                    "4": "667",
                                    "5": "7902",
                                    "6": "1984-12-17",
                                    "7": "800.00",
                                    "8": "NULL",
                                    "9": "20"
                                },
                                {
                                    "0": "7507",
                                    "1": "BAKER",
                                    "2": "LESLIE",
                                    "3": "D",
                                    "4": "671",
                                    "5": "7839",
                                    "6": "1985-06-10",
                                    "7": "2200.00",
                                    "8": "NULL",
                                    "9": "40"
                                }
                            ],
                            "schema": {
                                "fields": [
                                    {
                                        "name": "Employee_ID"
                                    },
                                    {
                                        "name": "Last_Name"
                                    },
                                    {
                                        "name": "First_Name"
                                    },
                                    {
                                        "name": "Middle_Name"
                                    },
                                    {
                                        "name": "Job_ID"
                                    },
                                    {
                                        "name": "Manager_ID"
                                    },
                                    {
                                        "name": "Hire_Date"
                                    },
                                    {
                                        "name": "Salary"
                                    },
                                    {
                                        "name": "Comm"
                                    },
                                    {
                                        "name": "Department_ID"
                                    }
                                ]
                            }
                        },
                        "text/html": [
                            "<table>\n",
                            "<tr><th>Employee_ID</th><th>Last_Name</th><th>First_Name</th><th>Middle_Name</th><th>Job_ID</th><th>Manager_ID</th><th>Hire_Date</th><th>Salary</th><th>Comm</th><th>Department_ID</th></tr>\n",
                            "<tr><td>7369</td><td>SMITH</td><td>JOHN</td><td>Q</td><td>667</td><td>7902</td><td>1984-12-17</td><td>800.00</td><td>NULL</td><td>20</td></tr>\n",
                            "<tr><td>7507</td><td>BAKER</td><td>LESLIE</td><td>D</td><td>671</td><td>7839</td><td>1985-06-10</td><td>2200.00</td><td>NULL</td><td>40</td></tr>\n",
                            "</table>"
                        ]
                    },
                    "execution_count": 21,
                    "metadata": {},
                    "output_type": "execute_result"
                }
            ],
            "source": [
                "-- 5. FIND OUT THE EMPLOYEES WHO ARE NOT WORKING IN DEPARTMENT 10 OR 30.\n",
                "SELECT * FROM EMPLOYEE WHERE Department_ID NOT IN (10,30)"
            ]
        },
        {
            "cell_type": "code",
            "execution_count": 24,
            "metadata": {
                "azdata_cell_guid": "7f85262f-62d2-4ab7-96d4-2fbe70c22fb2",
                "language": "sql",
                "vscode": {
                    "languageId": "sql"
                }
            },
            "outputs": [
                {
                    "data": {
                        "text/html": [
                            "(1 row affected)"
                        ]
                    },
                    "metadata": {},
                    "output_type": "display_data"
                },
                {
                    "data": {
                        "text/html": [
                            "Total execution time: 00:00:00.002"
                        ]
                    },
                    "metadata": {},
                    "output_type": "display_data"
                },
                {
                    "data": {
                        "application/vnd.dataresource+json": {
                            "data": [
                                {
                                    "0": "7369",
                                    "1": "SMITH",
                                    "2": "JOHN",
                                    "3": "Q",
                                    "4": "667",
                                    "5": "7902",
                                    "6": "1984-12-17",
                                    "7": "800.00",
                                    "8": "NULL",
                                    "9": "20"
                                }
                            ],
                            "schema": {
                                "fields": [
                                    {
                                        "name": "Employee_ID"
                                    },
                                    {
                                        "name": "Last_Name"
                                    },
                                    {
                                        "name": "First_Name"
                                    },
                                    {
                                        "name": "Middle_Name"
                                    },
                                    {
                                        "name": "Job_ID"
                                    },
                                    {
                                        "name": "Manager_ID"
                                    },
                                    {
                                        "name": "Hire_Date"
                                    },
                                    {
                                        "name": "Salary"
                                    },
                                    {
                                        "name": "Comm"
                                    },
                                    {
                                        "name": "Department_ID"
                                    }
                                ]
                            }
                        },
                        "text/html": [
                            "<table>\n",
                            "<tr><th>Employee_ID</th><th>Last_Name</th><th>First_Name</th><th>Middle_Name</th><th>Job_ID</th><th>Manager_ID</th><th>Hire_Date</th><th>Salary</th><th>Comm</th><th>Department_ID</th></tr>\n",
                            "<tr><td>7369</td><td>SMITH</td><td>JOHN</td><td>Q</td><td>667</td><td>7902</td><td>1984-12-17</td><td>800.00</td><td>NULL</td><td>20</td></tr>\n",
                            "</table>"
                        ]
                    },
                    "execution_count": 24,
                    "metadata": {},
                    "output_type": "execute_result"
                }
            ],
            "source": [
                "-- 6. LIST OUT THE EMPLOYEES WHOSE NAME STARTS WITH 'S'.\n",
                "SELECT * FROM EMPLOYEE WHERE First_Name LIKE 'S%' OR Last_Name LIKE 'S%'"
            ]
        },
        {
            "cell_type": "code",
            "execution_count": 25,
            "metadata": {
                "azdata_cell_guid": "a26790c8-61bf-4a28-9da6-95b873ef8a3e",
                "language": "sql",
                "tags": [],
                "vscode": {
                    "languageId": "sql"
                }
            },
            "outputs": [
                {
                    "data": {
                        "text/html": [
                            "(1 row affected)"
                        ]
                    },
                    "metadata": {},
                    "output_type": "display_data"
                },
                {
                    "data": {
                        "text/html": [
                            "Total execution time: 00:00:00.004"
                        ]
                    },
                    "metadata": {},
                    "output_type": "display_data"
                },
                {
                    "data": {
                        "application/vnd.dataresource+json": {
                            "data": [
                                {
                                    "0": "7369",
                                    "1": "SMITH",
                                    "2": "JOHN",
                                    "3": "Q",
                                    "4": "667",
                                    "5": "7902",
                                    "6": "1984-12-17",
                                    "7": "800.00",
                                    "8": "NULL",
                                    "9": "20"
                                }
                            ],
                            "schema": {
                                "fields": [
                                    {
                                        "name": "Employee_ID"
                                    },
                                    {
                                        "name": "Last_Name"
                                    },
                                    {
                                        "name": "First_Name"
                                    },
                                    {
                                        "name": "Middle_Name"
                                    },
                                    {
                                        "name": "Job_ID"
                                    },
                                    {
                                        "name": "Manager_ID"
                                    },
                                    {
                                        "name": "Hire_Date"
                                    },
                                    {
                                        "name": "Salary"
                                    },
                                    {
                                        "name": "Comm"
                                    },
                                    {
                                        "name": "Department_ID"
                                    }
                                ]
                            }
                        },
                        "text/html": [
                            "<table>\n",
                            "<tr><th>Employee_ID</th><th>Last_Name</th><th>First_Name</th><th>Middle_Name</th><th>Job_ID</th><th>Manager_ID</th><th>Hire_Date</th><th>Salary</th><th>Comm</th><th>Department_ID</th></tr>\n",
                            "<tr><td>7369</td><td>SMITH</td><td>JOHN</td><td>Q</td><td>667</td><td>7902</td><td>1984-12-17</td><td>800.00</td><td>NULL</td><td>20</td></tr>\n",
                            "</table>"
                        ]
                    },
                    "execution_count": 25,
                    "metadata": {},
                    "output_type": "execute_result"
                }
            ],
            "source": [
                "-- 7. LIST OUT THE EMPLOYEES WHOSE NAME STARTS WITH 'S' AND ENDS WITH 'H'.\n",
                "SELECT *\n",
                "FROM EMPLOYEE\n",
                "WHERE (First_Name LIKE 'S%H' OR Last_Name LIKE 'S%H')"
            ]
        },
        {
            "cell_type": "code",
            "execution_count": 26,
            "metadata": {
                "azdata_cell_guid": "9e8bcb96-2d2c-487e-ab2f-5094f14a3a28",
                "language": "sql",
                "vscode": {
                    "languageId": "sql"
                }
            },
            "outputs": [
                {
                    "data": {
                        "text/html": [
                            "(1 row affected)"
                        ]
                    },
                    "metadata": {},
                    "output_type": "display_data"
                },
                {
                    "data": {
                        "text/html": [
                            "Total execution time: 00:00:00.003"
                        ]
                    },
                    "metadata": {},
                    "output_type": "display_data"
                },
                {
                    "data": {
                        "application/vnd.dataresource+json": {
                            "data": [
                                {
                                    "0": "7369",
                                    "1": "SMITH",
                                    "2": "JOHN",
                                    "3": "Q",
                                    "4": "667",
                                    "5": "7902",
                                    "6": "1984-12-17",
                                    "7": "800.00",
                                    "8": "NULL",
                                    "9": "20"
                                }
                            ],
                            "schema": {
                                "fields": [
                                    {
                                        "name": "Employee_ID"
                                    },
                                    {
                                        "name": "Last_Name"
                                    },
                                    {
                                        "name": "First_Name"
                                    },
                                    {
                                        "name": "Middle_Name"
                                    },
                                    {
                                        "name": "Job_ID"
                                    },
                                    {
                                        "name": "Manager_ID"
                                    },
                                    {
                                        "name": "Hire_Date"
                                    },
                                    {
                                        "name": "Salary"
                                    },
                                    {
                                        "name": "Comm"
                                    },
                                    {
                                        "name": "Department_ID"
                                    }
                                ]
                            }
                        },
                        "text/html": [
                            "<table>\n",
                            "<tr><th>Employee_ID</th><th>Last_Name</th><th>First_Name</th><th>Middle_Name</th><th>Job_ID</th><th>Manager_ID</th><th>Hire_Date</th><th>Salary</th><th>Comm</th><th>Department_ID</th></tr>\n",
                            "<tr><td>7369</td><td>SMITH</td><td>JOHN</td><td>Q</td><td>667</td><td>7902</td><td>1984-12-17</td><td>800.00</td><td>NULL</td><td>20</td></tr>\n",
                            "</table>"
                        ]
                    },
                    "execution_count": 26,
                    "metadata": {},
                    "output_type": "execute_result"
                }
            ],
            "source": [
                "-- 8. LIST OUT THE EMPLOYEES WHOSE NAME LENGTH IS 4 AND START WITH 'S'.\n",
                "SELECT *\n",
                "FROM EMPLOYEE\n",
                "WHERE 4 IN (LEN(First_Name),LEN(LAST_NAME)) AND (First_Name LIKE 'S%' OR Last_Name LIKE 'S%')"
            ]
        },
        {
            "cell_type": "code",
            "execution_count": 27,
            "metadata": {
                "azdata_cell_guid": "b1fd4990-c416-49f3-be5c-204e7931b21a",
                "language": "sql",
                "vscode": {
                    "languageId": "sql"
                }
            },
            "outputs": [
                {
                    "data": {
                        "text/html": [
                            "(0 rows affected)"
                        ]
                    },
                    "metadata": {},
                    "output_type": "display_data"
                },
                {
                    "data": {
                        "text/html": [
                            "Total execution time: 00:00:00.003"
                        ]
                    },
                    "metadata": {},
                    "output_type": "display_data"
                },
                {
                    "data": {
                        "application/vnd.dataresource+json": {
                            "data": [],
                            "schema": {
                                "fields": [
                                    {
                                        "name": "Employee_ID"
                                    },
                                    {
                                        "name": "Last_Name"
                                    },
                                    {
                                        "name": "First_Name"
                                    },
                                    {
                                        "name": "Middle_Name"
                                    },
                                    {
                                        "name": "Job_ID"
                                    },
                                    {
                                        "name": "Manager_ID"
                                    },
                                    {
                                        "name": "Hire_Date"
                                    },
                                    {
                                        "name": "Salary"
                                    },
                                    {
                                        "name": "Comm"
                                    },
                                    {
                                        "name": "Department_ID"
                                    }
                                ]
                            }
                        },
                        "text/html": [
                            "<table>\n",
                            "<tr><th>Employee_ID</th><th>Last_Name</th><th>First_Name</th><th>Middle_Name</th><th>Job_ID</th><th>Manager_ID</th><th>Hire_Date</th><th>Salary</th><th>Comm</th><th>Department_ID</th></tr>\n",
                            "</table>"
                        ]
                    },
                    "execution_count": 27,
                    "metadata": {},
                    "output_type": "execute_result"
                }
            ],
            "source": [
                "-- 9. LIST OUT EMPLOYEES WHO ARE WORKING IN DEPARRTMENT 10 AND DRAW THE\n",
                "-- SALARIES MORE THAN 3500.\n",
                "\n",
                "SELECT * FROM EMPLOYEE WHERE Department_ID=10 AND Salary>3500"
            ]
        },
        {
            "cell_type": "code",
            "execution_count": 28,
            "metadata": {
                "azdata_cell_guid": "bd4049ae-554e-4f16-baa1-f71268d36fb1",
                "language": "sql",
                "tags": [],
                "vscode": {
                    "languageId": "sql"
                }
            },
            "outputs": [
                {
                    "data": {
                        "text/html": [
                            "(4 rows affected)"
                        ]
                    },
                    "metadata": {},
                    "output_type": "display_data"
                },
                {
                    "data": {
                        "text/html": [
                            "Total execution time: 00:00:00.064"
                        ]
                    },
                    "metadata": {},
                    "output_type": "display_data"
                },
                {
                    "data": {
                        "application/vnd.dataresource+json": {
                            "data": [
                                {
                                    "0": "7369",
                                    "1": "SMITH",
                                    "2": "JOHN",
                                    "3": "Q",
                                    "4": "667",
                                    "5": "7902",
                                    "6": "1984-12-17",
                                    "7": "800.00",
                                    "8": "NULL",
                                    "9": "20"
                                },
                                {
                                    "0": "7505",
                                    "1": "DOYLE",
                                    "2": "JEAN",
                                    "3": "K",
                                    "4": "671",
                                    "5": "7839",
                                    "6": "1985-04-04",
                                    "7": "2850.00",
                                    "8": "NULL",
                                    "9": "30"
                                },
                                {
                                    "0": "7506",
                                    "1": "DENNIS",
                                    "2": "LYNN",
                                    "3": "S",
                                    "4": "671",
                                    "5": "7839",
                                    "6": "1985-05-15",
                                    "7": "2750.00",
                                    "8": "NULL",
                                    "9": "30"
                                },
                                {
                                    "0": "7507",
                                    "1": "BAKER",
                                    "2": "LESLIE",
                                    "3": "D",
                                    "4": "671",
                                    "5": "7839",
                                    "6": "1985-06-10",
                                    "7": "2200.00",
                                    "8": "NULL",
                                    "9": "40"
                                }
                            ],
                            "schema": {
                                "fields": [
                                    {
                                        "name": "Employee_ID"
                                    },
                                    {
                                        "name": "Last_Name"
                                    },
                                    {
                                        "name": "First_Name"
                                    },
                                    {
                                        "name": "Middle_Name"
                                    },
                                    {
                                        "name": "Job_ID"
                                    },
                                    {
                                        "name": "Manager_ID"
                                    },
                                    {
                                        "name": "Hire_Date"
                                    },
                                    {
                                        "name": "Salary"
                                    },
                                    {
                                        "name": "Comm"
                                    },
                                    {
                                        "name": "Department_ID"
                                    }
                                ]
                            }
                        },
                        "text/html": [
                            "<table>\n",
                            "<tr><th>Employee_ID</th><th>Last_Name</th><th>First_Name</th><th>Middle_Name</th><th>Job_ID</th><th>Manager_ID</th><th>Hire_Date</th><th>Salary</th><th>Comm</th><th>Department_ID</th></tr>\n",
                            "<tr><td>7369</td><td>SMITH</td><td>JOHN</td><td>Q</td><td>667</td><td>7902</td><td>1984-12-17</td><td>800.00</td><td>NULL</td><td>20</td></tr>\n",
                            "<tr><td>7505</td><td>DOYLE</td><td>JEAN</td><td>K</td><td>671</td><td>7839</td><td>1985-04-04</td><td>2850.00</td><td>NULL</td><td>30</td></tr>\n",
                            "<tr><td>7506</td><td>DENNIS</td><td>LYNN</td><td>S</td><td>671</td><td>7839</td><td>1985-05-15</td><td>2750.00</td><td>NULL</td><td>30</td></tr>\n",
                            "<tr><td>7507</td><td>BAKER</td><td>LESLIE</td><td>D</td><td>671</td><td>7839</td><td>1985-06-10</td><td>2200.00</td><td>NULL</td><td>40</td></tr>\n",
                            "</table>"
                        ]
                    },
                    "execution_count": 28,
                    "metadata": {},
                    "output_type": "execute_result"
                }
            ],
            "source": [
                "-- 10. LIST OUT THE EMPLOYEES WHO ARE NOT RECEVING COMMISSION.\n",
                "SELECT * FROM EMPLOYEE WHERE COMM IS NULL"
            ]
        },
        {
            "attachments": {},
            "cell_type": "markdown",
            "metadata": {
                "azdata_cell_guid": "6d9ee031-45dc-4049-9568-fbe0cfe71051",
                "language": "sql"
            },
            "source": [
                "## ORDER BY CLAUSE"
            ]
        },
        {
            "cell_type": "code",
            "execution_count": 30,
            "metadata": {
                "azdata_cell_guid": "34bc57bf-b3af-43d7-a698-b95da6f384fc",
                "language": "sql",
                "vscode": {
                    "languageId": "sql"
                }
            },
            "outputs": [
                {
                    "data": {
                        "text/html": [
                            "(6 rows affected)"
                        ]
                    },
                    "metadata": {},
                    "output_type": "display_data"
                },
                {
                    "data": {
                        "text/html": [
                            "Total execution time: 00:00:00.001"
                        ]
                    },
                    "metadata": {},
                    "output_type": "display_data"
                },
                {
                    "data": {
                        "application/vnd.dataresource+json": {
                            "data": [
                                {
                                    "0": "7369",
                                    "1": "SMITH"
                                },
                                {
                                    "0": "7499",
                                    "1": "ALLEN"
                                },
                                {
                                    "0": "7505",
                                    "1": "DOYLE"
                                },
                                {
                                    "0": "7506",
                                    "1": "DENNIS"
                                },
                                {
                                    "0": "7507",
                                    "1": "BAKER"
                                },
                                {
                                    "0": "7521",
                                    "1": "WARK"
                                }
                            ],
                            "schema": {
                                "fields": [
                                    {
                                        "name": "Employee_ID"
                                    },
                                    {
                                        "name": "LAST_NAME"
                                    }
                                ]
                            }
                        },
                        "text/html": [
                            "<table>\n",
                            "<tr><th>Employee_ID</th><th>LAST_NAME</th></tr>\n",
                            "<tr><td>7369</td><td>SMITH</td></tr>\n",
                            "<tr><td>7499</td><td>ALLEN</td></tr>\n",
                            "<tr><td>7505</td><td>DOYLE</td></tr>\n",
                            "<tr><td>7506</td><td>DENNIS</td></tr>\n",
                            "<tr><td>7507</td><td>BAKER</td></tr>\n",
                            "<tr><td>7521</td><td>WARK</td></tr>\n",
                            "</table>"
                        ]
                    },
                    "execution_count": 30,
                    "metadata": {},
                    "output_type": "execute_result"
                }
            ],
            "source": [
                "-- 1. LIST OUT THE EMPLOYEE ID, LAST NAME IN ASCENDING ORDER BASED ON THE EMPLOYEE ID.\n",
                "SELECT Employee_ID, LAST_NAME FROM EMPLOYEE ORDER BY Employee_ID"
            ]
        },
        {
            "cell_type": "code",
            "execution_count": 31,
            "metadata": {
                "azdata_cell_guid": "b45e6abd-60a5-426f-beab-1623dabdd2ed",
                "language": "sql",
                "vscode": {
                    "languageId": "sql"
                }
            },
            "outputs": [
                {
                    "data": {
                        "text/html": [
                            "(6 rows affected)"
                        ]
                    },
                    "metadata": {},
                    "output_type": "display_data"
                },
                {
                    "data": {
                        "text/html": [
                            "Total execution time: 00:00:00.003"
                        ]
                    },
                    "metadata": {},
                    "output_type": "display_data"
                },
                {
                    "data": {
                        "application/vnd.dataresource+json": {
                            "data": [
                                {
                                    "0": "7505",
                                    "1": "JEAN"
                                },
                                {
                                    "0": "7506",
                                    "1": "LYNN"
                                },
                                {
                                    "0": "7507",
                                    "1": "LESLIE"
                                },
                                {
                                    "0": "7499",
                                    "1": "KEVIN"
                                },
                                {
                                    "0": "7521",
                                    "1": "CYNTHIA"
                                },
                                {
                                    "0": "7369",
                                    "1": "JOHN"
                                }
                            ],
                            "schema": {
                                "fields": [
                                    {
                                        "name": "Employee_ID"
                                    },
                                    {
                                        "name": "NAME"
                                    }
                                ]
                            }
                        },
                        "text/html": [
                            "<table>\n",
                            "<tr><th>Employee_ID</th><th>NAME</th></tr>\n",
                            "<tr><td>7505</td><td>JEAN</td></tr>\n",
                            "<tr><td>7506</td><td>LYNN</td></tr>\n",
                            "<tr><td>7507</td><td>LESLIE</td></tr>\n",
                            "<tr><td>7499</td><td>KEVIN</td></tr>\n",
                            "<tr><td>7521</td><td>CYNTHIA</td></tr>\n",
                            "<tr><td>7369</td><td>JOHN</td></tr>\n",
                            "</table>"
                        ]
                    },
                    "execution_count": 31,
                    "metadata": {},
                    "output_type": "execute_result"
                }
            ],
            "source": [
                "-- 2. LIST OUT THE EMPLOYEE ID, NAME IN DESCENDING ORDER BASED ON SALARY.\n",
                "SELECT Employee_ID, First_Name AS [NAME]\n",
                "FROM EMPLOYEE\n",
                "ORDER BY Salary DESC"
            ]
        },
        {
            "cell_type": "code",
            "execution_count": 32,
            "metadata": {
                "azdata_cell_guid": "0b43826f-a0ef-40b2-b6de-5fd934a27144",
                "language": "sql",
                "vscode": {
                    "languageId": "sql"
                }
            },
            "outputs": [
                {
                    "data": {
                        "text/html": [
                            "(6 rows affected)"
                        ]
                    },
                    "metadata": {},
                    "output_type": "display_data"
                },
                {
                    "data": {
                        "text/html": [
                            "Total execution time: 00:00:00.003"
                        ]
                    },
                    "metadata": {},
                    "output_type": "display_data"
                },
                {
                    "data": {
                        "application/vnd.dataresource+json": {
                            "data": [
                                {
                                    "0": "7499",
                                    "1": "ALLEN",
                                    "2": "KEVIN",
                                    "3": "J",
                                    "4": "670",
                                    "5": "7698",
                                    "6": "1985-02-20",
                                    "7": "1600.00",
                                    "8": "300",
                                    "9": "30"
                                },
                                {
                                    "0": "7507",
                                    "1": "BAKER",
                                    "2": "LESLIE",
                                    "3": "D",
                                    "4": "671",
                                    "5": "7839",
                                    "6": "1985-06-10",
                                    "7": "2200.00",
                                    "8": "NULL",
                                    "9": "40"
                                },
                                {
                                    "0": "7506",
                                    "1": "DENNIS",
                                    "2": "LYNN",
                                    "3": "S",
                                    "4": "671",
                                    "5": "7839",
                                    "6": "1985-05-15",
                                    "7": "2750.00",
                                    "8": "NULL",
                                    "9": "30"
                                },
                                {
                                    "0": "7505",
                                    "1": "DOYLE",
                                    "2": "JEAN",
                                    "3": "K",
                                    "4": "671",
                                    "5": "7839",
                                    "6": "1985-04-04",
                                    "7": "2850.00",
                                    "8": "NULL",
                                    "9": "30"
                                },
                                {
                                    "0": "7369",
                                    "1": "SMITH",
                                    "2": "JOHN",
                                    "3": "Q",
                                    "4": "667",
                                    "5": "7902",
                                    "6": "1984-12-17",
                                    "7": "800.00",
                                    "8": "NULL",
                                    "9": "20"
                                },
                                {
                                    "0": "7521",
                                    "1": "WARK",
                                    "2": "CYNTHIA",
                                    "3": "D",
                                    "4": "670",
                                    "5": "7698",
                                    "6": "1985-02-22",
                                    "7": "1250.00",
                                    "8": "500",
                                    "9": "30"
                                }
                            ],
                            "schema": {
                                "fields": [
                                    {
                                        "name": "Employee_ID"
                                    },
                                    {
                                        "name": "Last_Name"
                                    },
                                    {
                                        "name": "First_Name"
                                    },
                                    {
                                        "name": "Middle_Name"
                                    },
                                    {
                                        "name": "Job_ID"
                                    },
                                    {
                                        "name": "Manager_ID"
                                    },
                                    {
                                        "name": "Hire_Date"
                                    },
                                    {
                                        "name": "Salary"
                                    },
                                    {
                                        "name": "Comm"
                                    },
                                    {
                                        "name": "Department_ID"
                                    }
                                ]
                            }
                        },
                        "text/html": [
                            "<table>\n",
                            "<tr><th>Employee_ID</th><th>Last_Name</th><th>First_Name</th><th>Middle_Name</th><th>Job_ID</th><th>Manager_ID</th><th>Hire_Date</th><th>Salary</th><th>Comm</th><th>Department_ID</th></tr>\n",
                            "<tr><td>7499</td><td>ALLEN</td><td>KEVIN</td><td>J</td><td>670</td><td>7698</td><td>1985-02-20</td><td>1600.00</td><td>300</td><td>30</td></tr>\n",
                            "<tr><td>7507</td><td>BAKER</td><td>LESLIE</td><td>D</td><td>671</td><td>7839</td><td>1985-06-10</td><td>2200.00</td><td>NULL</td><td>40</td></tr>\n",
                            "<tr><td>7506</td><td>DENNIS</td><td>LYNN</td><td>S</td><td>671</td><td>7839</td><td>1985-05-15</td><td>2750.00</td><td>NULL</td><td>30</td></tr>\n",
                            "<tr><td>7505</td><td>DOYLE</td><td>JEAN</td><td>K</td><td>671</td><td>7839</td><td>1985-04-04</td><td>2850.00</td><td>NULL</td><td>30</td></tr>\n",
                            "<tr><td>7369</td><td>SMITH</td><td>JOHN</td><td>Q</td><td>667</td><td>7902</td><td>1984-12-17</td><td>800.00</td><td>NULL</td><td>20</td></tr>\n",
                            "<tr><td>7521</td><td>WARK</td><td>CYNTHIA</td><td>D</td><td>670</td><td>7698</td><td>1985-02-22</td><td>1250.00</td><td>500</td><td>30</td></tr>\n",
                            "</table>"
                        ]
                    },
                    "execution_count": 32,
                    "metadata": {},
                    "output_type": "execute_result"
                }
            ],
            "source": [
                "-- 3. LIST OUT THE EMPLOYEE DETAILS ACCORDING TO THEIR LAST-NAME IN ASCENDING ORDER\n",
                "SELECT * FROM EMPLOYEE ORDER BY Last_Name"
            ]
        },
        {
            "cell_type": "code",
            "execution_count": 33,
            "metadata": {
                "azdata_cell_guid": "ea0ae8fc-9dc7-4c66-93dd-7c48577e26cc",
                "language": "sql",
                "vscode": {
                    "languageId": "sql"
                }
            },
            "outputs": [
                {
                    "data": {
                        "text/html": [
                            "(6 rows affected)"
                        ]
                    },
                    "metadata": {},
                    "output_type": "display_data"
                },
                {
                    "data": {
                        "text/html": [
                            "Total execution time: 00:00:00.003"
                        ]
                    },
                    "metadata": {},
                    "output_type": "display_data"
                },
                {
                    "data": {
                        "application/vnd.dataresource+json": {
                            "data": [
                                {
                                    "0": "7499",
                                    "1": "ALLEN",
                                    "2": "KEVIN",
                                    "3": "J",
                                    "4": "670",
                                    "5": "7698",
                                    "6": "1985-02-20",
                                    "7": "1600.00",
                                    "8": "300",
                                    "9": "30"
                                },
                                {
                                    "0": "7507",
                                    "1": "BAKER",
                                    "2": "LESLIE",
                                    "3": "D",
                                    "4": "671",
                                    "5": "7839",
                                    "6": "1985-06-10",
                                    "7": "2200.00",
                                    "8": "NULL",
                                    "9": "40"
                                },
                                {
                                    "0": "7506",
                                    "1": "DENNIS",
                                    "2": "LYNN",
                                    "3": "S",
                                    "4": "671",
                                    "5": "7839",
                                    "6": "1985-05-15",
                                    "7": "2750.00",
                                    "8": "NULL",
                                    "9": "30"
                                },
                                {
                                    "0": "7505",
                                    "1": "DOYLE",
                                    "2": "JEAN",
                                    "3": "K",
                                    "4": "671",
                                    "5": "7839",
                                    "6": "1985-04-04",
                                    "7": "2850.00",
                                    "8": "NULL",
                                    "9": "30"
                                },
                                {
                                    "0": "7369",
                                    "1": "SMITH",
                                    "2": "JOHN",
                                    "3": "Q",
                                    "4": "667",
                                    "5": "7902",
                                    "6": "1984-12-17",
                                    "7": "800.00",
                                    "8": "NULL",
                                    "9": "20"
                                },
                                {
                                    "0": "7521",
                                    "1": "WARK",
                                    "2": "CYNTHIA",
                                    "3": "D",
                                    "4": "670",
                                    "5": "7698",
                                    "6": "1985-02-22",
                                    "7": "1250.00",
                                    "8": "500",
                                    "9": "30"
                                }
                            ],
                            "schema": {
                                "fields": [
                                    {
                                        "name": "Employee_ID"
                                    },
                                    {
                                        "name": "Last_Name"
                                    },
                                    {
                                        "name": "First_Name"
                                    },
                                    {
                                        "name": "Middle_Name"
                                    },
                                    {
                                        "name": "Job_ID"
                                    },
                                    {
                                        "name": "Manager_ID"
                                    },
                                    {
                                        "name": "Hire_Date"
                                    },
                                    {
                                        "name": "Salary"
                                    },
                                    {
                                        "name": "Comm"
                                    },
                                    {
                                        "name": "Department_ID"
                                    }
                                ]
                            }
                        },
                        "text/html": [
                            "<table>\n",
                            "<tr><th>Employee_ID</th><th>Last_Name</th><th>First_Name</th><th>Middle_Name</th><th>Job_ID</th><th>Manager_ID</th><th>Hire_Date</th><th>Salary</th><th>Comm</th><th>Department_ID</th></tr>\n",
                            "<tr><td>7499</td><td>ALLEN</td><td>KEVIN</td><td>J</td><td>670</td><td>7698</td><td>1985-02-20</td><td>1600.00</td><td>300</td><td>30</td></tr>\n",
                            "<tr><td>7507</td><td>BAKER</td><td>LESLIE</td><td>D</td><td>671</td><td>7839</td><td>1985-06-10</td><td>2200.00</td><td>NULL</td><td>40</td></tr>\n",
                            "<tr><td>7506</td><td>DENNIS</td><td>LYNN</td><td>S</td><td>671</td><td>7839</td><td>1985-05-15</td><td>2750.00</td><td>NULL</td><td>30</td></tr>\n",
                            "<tr><td>7505</td><td>DOYLE</td><td>JEAN</td><td>K</td><td>671</td><td>7839</td><td>1985-04-04</td><td>2850.00</td><td>NULL</td><td>30</td></tr>\n",
                            "<tr><td>7369</td><td>SMITH</td><td>JOHN</td><td>Q</td><td>667</td><td>7902</td><td>1984-12-17</td><td>800.00</td><td>NULL</td><td>20</td></tr>\n",
                            "<tr><td>7521</td><td>WARK</td><td>CYNTHIA</td><td>D</td><td>670</td><td>7698</td><td>1985-02-22</td><td>1250.00</td><td>500</td><td>30</td></tr>\n",
                            "</table>"
                        ]
                    },
                    "execution_count": 33,
                    "metadata": {},
                    "output_type": "execute_result"
                }
            ],
            "source": [
                "-- 4. LIST OUT THE EMPLOYEE DETAILS ACCORDING TO THEIR LAST-NAME IN ASCENDING ORDER AND\n",
                "-- THEN ON DEPARTMENT_ID IN DESCENDING ORDER.\n",
                "SELECT * FROM EMPLOYEE ORDER BY Last_Name, Department_ID DESC\n"
            ]
        },
        {
            "attachments": {},
            "cell_type": "markdown",
            "metadata": {
                "azdata_cell_guid": "b4a50058-34cb-4068-b142-a7d08fe197d4",
                "language": "sql"
            },
            "source": [
                "## GROUP BY & HAVING CLAUSE\n",
                "hint keywords - wise\n"
            ]
        },
        {
            "cell_type": "code",
            "execution_count": 36,
            "metadata": {
                "azdata_cell_guid": "85dd1ad1-1272-4b51-9c58-dd6a0aca694b",
                "language": "sql",
                "vscode": {
                    "languageId": "sql"
                }
            },
            "outputs": [
                {
                    "data": {
                        "text/html": [
                            "(3 rows affected)"
                        ]
                    },
                    "metadata": {},
                    "output_type": "display_data"
                },
                {
                    "data": {
                        "text/html": [
                            "Total execution time: 00:00:00.003"
                        ]
                    },
                    "metadata": {},
                    "output_type": "display_data"
                },
                {
                    "data": {
                        "application/vnd.dataresource+json": {
                            "data": [
                                {
                                    "0": "20",
                                    "1": "1"
                                },
                                {
                                    "0": "30",
                                    "1": "4"
                                },
                                {
                                    "0": "40",
                                    "1": "1"
                                }
                            ],
                            "schema": {
                                "fields": [
                                    {
                                        "name": "Department_ID"
                                    },
                                    {
                                        "name": "EMP_COUNT"
                                    }
                                ]
                            }
                        },
                        "text/html": [
                            "<table>\n",
                            "<tr><th>Department_ID</th><th>EMP_COUNT</th></tr>\n",
                            "<tr><td>20</td><td>1</td></tr>\n",
                            "<tr><td>30</td><td>4</td></tr>\n",
                            "<tr><td>40</td><td>1</td></tr>\n",
                            "</table>"
                        ]
                    },
                    "execution_count": 36,
                    "metadata": {},
                    "output_type": "execute_result"
                }
            ],
            "source": [
                "-- 1. HOW MANY EMPLOYEES WHO ARE IN DIFFERENT DEPARTMENTS WISE IN THE ORGANIZATION.\n",
                "SELECT Department_ID, COUNT(*) AS EMP_COUNT FROM EMPLOYEE GROUP BY Department_ID"
            ]
        },
        {
            "cell_type": "code",
            "execution_count": 40,
            "metadata": {
                "azdata_cell_guid": "c3456379-994b-436c-a5c2-767752fe4c4e",
                "language": "sql",
                "vscode": {
                    "languageId": "sql"
                }
            },
            "outputs": [
                {
                    "data": {
                        "text/html": [
                            "(3 rows affected)"
                        ]
                    },
                    "metadata": {},
                    "output_type": "display_data"
                },
                {
                    "data": {
                        "text/html": [
                            "Total execution time: 00:00:00.004"
                        ]
                    },
                    "metadata": {},
                    "output_type": "display_data"
                },
                {
                    "data": {
                        "application/vnd.dataresource+json": {
                            "data": [
                                {
                                    "0": "20",
                                    "1": "800.00",
                                    "2": "800.00",
                                    "3": "800.00"
                                },
                                {
                                    "0": "30",
                                    "1": "2850.00",
                                    "2": "1250.00",
                                    "3": "2112.50"
                                },
                                {
                                    "0": "40",
                                    "1": "2200.00",
                                    "2": "2200.00",
                                    "3": "2200.00"
                                }
                            ],
                            "schema": {
                                "fields": [
                                    {
                                        "name": "Department_ID"
                                    },
                                    {
                                        "name": "MAX_SAL"
                                    },
                                    {
                                        "name": "MIN_SAL"
                                    },
                                    {
                                        "name": "AVG_SAL"
                                    }
                                ]
                            }
                        },
                        "text/html": [
                            "<table>\n",
                            "<tr><th>Department_ID</th><th>MAX_SAL</th><th>MIN_SAL</th><th>AVG_SAL</th></tr>\n",
                            "<tr><td>20</td><td>800.00</td><td>800.00</td><td>800.00</td></tr>\n",
                            "<tr><td>30</td><td>2850.00</td><td>1250.00</td><td>2112.50</td></tr>\n",
                            "<tr><td>40</td><td>2200.00</td><td>2200.00</td><td>2200.00</td></tr>\n",
                            "</table>"
                        ]
                    },
                    "execution_count": 40,
                    "metadata": {},
                    "output_type": "execute_result"
                }
            ],
            "source": [
                "-- 2. LIST OUT THE DEPARTMENT WISE MAXIMUM SALARY, MINIMUM SALARY, AVERAGE SALARY OF\n",
                "-- THE EMPLOYEES.\n",
                "SELECT Department_ID, MAX(Salary) AS MAX_SAL, MIN(Salary) AS MIN_SAL, AVG(Salary) AS AVG_SAL\n",
                "FROM EMPLOYEE GROUP BY Department_ID"
            ]
        },
        {
            "cell_type": "code",
            "execution_count": 41,
            "metadata": {
                "azdata_cell_guid": "fb737771-c08a-4c18-9bd1-aadd6673a5f5",
                "language": "sql",
                "vscode": {
                    "languageId": "sql"
                }
            },
            "outputs": [
                {
                    "data": {
                        "text/html": [
                            "(3 rows affected)"
                        ]
                    },
                    "metadata": {},
                    "output_type": "display_data"
                },
                {
                    "data": {
                        "text/html": [
                            "Total execution time: 00:00:00.091"
                        ]
                    },
                    "metadata": {},
                    "output_type": "display_data"
                },
                {
                    "data": {
                        "application/vnd.dataresource+json": {
                            "data": [
                                {
                                    "0": "667",
                                    "1": "800.00",
                                    "2": "800.00",
                                    "3": "800.00"
                                },
                                {
                                    "0": "670",
                                    "1": "1600.00",
                                    "2": "1250.00",
                                    "3": "1425.00"
                                },
                                {
                                    "0": "671",
                                    "1": "2850.00",
                                    "2": "2200.00",
                                    "3": "2600.00"
                                }
                            ],
                            "schema": {
                                "fields": [
                                    {
                                        "name": "Job_ID"
                                    },
                                    {
                                        "name": "MAX_SAL"
                                    },
                                    {
                                        "name": "MIN_SAL"
                                    },
                                    {
                                        "name": "AVG_SAL"
                                    }
                                ]
                            }
                        },
                        "text/html": [
                            "<table>\n",
                            "<tr><th>Job_ID</th><th>MAX_SAL</th><th>MIN_SAL</th><th>AVG_SAL</th></tr>\n",
                            "<tr><td>667</td><td>800.00</td><td>800.00</td><td>800.00</td></tr>\n",
                            "<tr><td>670</td><td>1600.00</td><td>1250.00</td><td>1425.00</td></tr>\n",
                            "<tr><td>671</td><td>2850.00</td><td>2200.00</td><td>2600.00</td></tr>\n",
                            "</table>"
                        ]
                    },
                    "execution_count": 41,
                    "metadata": {},
                    "output_type": "execute_result"
                }
            ],
            "source": [
                "-- 3. LIST OUT JOB WISE MAXIMUM SALARY, MINIMUM SALARY, AVERAGE SALARIES OF THE\n",
                "-- EMPLOYEES.\n",
                "SELECT Job_ID, MAX(Salary) AS MAX_SAL, MIN(Salary) AS MIN_SAL, AVG(Salary) AS AVG_SAL\n",
                "FROM EMPLOYEE GROUP BY Job_ID"
            ]
        },
        {
            "cell_type": "code",
            "execution_count": 46,
            "metadata": {
                "azdata_cell_guid": "d1c22b5c-4ca3-43a0-9b77-c8968fdae759",
                "language": "sql",
                "vscode": {
                    "languageId": "sql"
                }
            },
            "outputs": [
                {
                    "data": {
                        "text/html": [
                            "(5 rows affected)"
                        ]
                    },
                    "metadata": {},
                    "output_type": "display_data"
                },
                {
                    "data": {
                        "text/html": [
                            "Total execution time: 00:00:00.003"
                        ]
                    },
                    "metadata": {},
                    "output_type": "display_data"
                },
                {
                    "data": {
                        "application/vnd.dataresource+json": {
                            "data": [
                                {
                                    "0": "April",
                                    "1": "1"
                                },
                                {
                                    "0": "December",
                                    "1": "1"
                                },
                                {
                                    "0": "February",
                                    "1": "2"
                                },
                                {
                                    "0": "June",
                                    "1": "1"
                                },
                                {
                                    "0": "May",
                                    "1": "1"
                                }
                            ],
                            "schema": {
                                "fields": [
                                    {
                                        "name": "JOINING_MONTH"
                                    },
                                    {
                                        "name": "NO_OF_EMPLOYEE"
                                    }
                                ]
                            }
                        },
                        "text/html": [
                            "<table>\n",
                            "<tr><th>JOINING_MONTH</th><th>NO_OF_EMPLOYEE</th></tr>\n",
                            "<tr><td>April</td><td>1</td></tr>\n",
                            "<tr><td>December</td><td>1</td></tr>\n",
                            "<tr><td>February</td><td>2</td></tr>\n",
                            "<tr><td>June</td><td>1</td></tr>\n",
                            "<tr><td>May</td><td>1</td></tr>\n",
                            "</table>"
                        ]
                    },
                    "execution_count": 46,
                    "metadata": {},
                    "output_type": "execute_result"
                }
            ],
            "source": [
                "-- 4. LIST OUT THE NUMBER OF EMPLOYEES JOINED IN EVERY MONTH IN ASCENDING ORDER.\n",
                "SELECT DATENAME(MM,Hire_Date) AS JOINING_MONTH, COUNT(*) AS NO_OF_EMPLOYEE FROM EMPLOYEE GROUP BY DATENAME(MM,Hire_Date) ORDER BY DATENAME(MM,Hire_Date)"
            ]
        },
        {
            "cell_type": "code",
            "execution_count": 63,
            "metadata": {
                "azdata_cell_guid": "7dce34f5-e0c5-4345-819a-1e324ef11dc2",
                "language": "sql",
                "vscode": {
                    "languageId": "sql"
                }
            },
            "outputs": [
                {
                    "data": {
                        "text/html": [
                            "(5 rows affected)"
                        ]
                    },
                    "metadata": {},
                    "output_type": "display_data"
                },
                {
                    "data": {
                        "text/html": [
                            "Total execution time: 00:00:00.001"
                        ]
                    },
                    "metadata": {},
                    "output_type": "display_data"
                },
                {
                    "data": {
                        "application/vnd.dataresource+json": {
                            "data": [
                                {
                                    "0": "2",
                                    "1": "1985",
                                    "2": "2"
                                },
                                {
                                    "0": "4",
                                    "1": "1985",
                                    "2": "1"
                                },
                                {
                                    "0": "5",
                                    "1": "1985",
                                    "2": "1"
                                },
                                {
                                    "0": "6",
                                    "1": "1985",
                                    "2": "1"
                                },
                                {
                                    "0": "12",
                                    "1": "1984",
                                    "2": "1"
                                }
                            ],
                            "schema": {
                                "fields": [
                                    {
                                        "name": "MONTH"
                                    },
                                    {
                                        "name": "YEAR"
                                    },
                                    {
                                        "name": "EMP_COUNT"
                                    }
                                ]
                            }
                        },
                        "text/html": [
                            "<table>\n",
                            "<tr><th>MONTH</th><th>YEAR</th><th>EMP_COUNT</th></tr>\n",
                            "<tr><td>2</td><td>1985</td><td>2</td></tr>\n",
                            "<tr><td>4</td><td>1985</td><td>1</td></tr>\n",
                            "<tr><td>5</td><td>1985</td><td>1</td></tr>\n",
                            "<tr><td>6</td><td>1985</td><td>1</td></tr>\n",
                            "<tr><td>12</td><td>1984</td><td>1</td></tr>\n",
                            "</table>"
                        ]
                    },
                    "execution_count": 63,
                    "metadata": {},
                    "output_type": "execute_result"
                }
            ],
            "source": [
                "-- 5. LIST OUT THE NUMBER OF EMPLOYEES FOR EACH MONTH AND YEAR, IN THE ASCENDING\n",
                "-- ORDER BASED ON THE YEAR, MONTH.\n",
                "SELECT MONTH(Hire_Date) AS [MONTH], YEAR(Hire_Date) AS [YEAR], COUNT(*) AS EMP_COUNT\n",
                "FROM EMPLOYEE\n",
                "GROUP BY MONTH(Hire_Date),YEAR(Hire_Date)\n",
                "ORDER BY MONTH(Hire_Date),YEAR(Hire_Date)"
            ]
        },
        {
            "cell_type": "code",
            "execution_count": 52,
            "metadata": {
                "azdata_cell_guid": "7fb0908f-22d5-473a-9fc7-21fd5cfa2544",
                "language": "sql",
                "vscode": {
                    "languageId": "sql"
                }
            },
            "outputs": [
                {
                    "data": {
                        "text/html": [
                            "(1 row affected)"
                        ]
                    },
                    "metadata": {},
                    "output_type": "display_data"
                },
                {
                    "data": {
                        "text/html": [
                            "Total execution time: 00:00:00.002"
                        ]
                    },
                    "metadata": {},
                    "output_type": "display_data"
                },
                {
                    "data": {
                        "application/vnd.dataresource+json": {
                            "data": [
                                {
                                    "0": "30",
                                    "1": "4"
                                }
                            ],
                            "schema": {
                                "fields": [
                                    {
                                        "name": "Department_ID"
                                    },
                                    {
                                        "name": "NO_OF_EMP"
                                    }
                                ]
                            }
                        },
                        "text/html": [
                            "<table>\n",
                            "<tr><th>Department_ID</th><th>NO_OF_EMP</th></tr>\n",
                            "<tr><td>30</td><td>4</td></tr>\n",
                            "</table>"
                        ]
                    },
                    "execution_count": 52,
                    "metadata": {},
                    "output_type": "execute_result"
                }
            ],
            "source": [
                "-- 6. LIST OUT THE DEPARTMENT ID HAVING ATLEAST FOUR EMPLOYEES.\n",
                "SELECT Department_ID,COUNT(*) AS NO_OF_EMP FROM EMPLOYEE GROUP BY Department_ID HAVING COUNT(*) >=4"
            ]
        },
        {
            "cell_type": "code",
            "execution_count": 59,
            "metadata": {
                "azdata_cell_guid": "bd7c934a-9aa3-4592-9edb-70f0089d6a62",
                "language": "sql",
                "vscode": {
                    "languageId": "sql"
                }
            },
            "outputs": [
                {
                    "data": {
                        "text/html": [
                            "(1 row affected)"
                        ]
                    },
                    "metadata": {},
                    "output_type": "display_data"
                },
                {
                    "data": {
                        "text/html": [
                            "Total execution time: 00:00:00.002"
                        ]
                    },
                    "metadata": {},
                    "output_type": "display_data"
                },
                {
                    "data": {
                        "application/vnd.dataresource+json": {
                            "data": [
                                {
                                    "0": "0"
                                }
                            ],
                            "schema": {
                                "fields": [
                                    {
                                        "name": "EMP_JOINED_IN_JAN"
                                    }
                                ]
                            }
                        },
                        "text/html": [
                            "<table>\n",
                            "<tr><th>EMP_JOINED_IN_JAN</th></tr>\n",
                            "<tr><td>0</td></tr>\n",
                            "</table>"
                        ]
                    },
                    "execution_count": 59,
                    "metadata": {},
                    "output_type": "execute_result"
                }
            ],
            "source": [
                "-- 7. HOW MANY EMPLOYEES JOINED IN JANUARY MONTH.\n",
                "SELECT COUNT(*) AS EMP_JOINED_IN_JAN FROM EMPLOYEE WHERE DATENAME(MM,Hire_Date)='Jan'"
            ]
        },
        {
            "cell_type": "code",
            "execution_count": 70,
            "metadata": {
                "azdata_cell_guid": "9c09c145-2d16-4b0e-a0df-662fd85b991f",
                "language": "sql",
                "vscode": {
                    "languageId": "sql"
                }
            },
            "outputs": [
                {
                    "data": {
                        "text/html": [
                            "(1 row affected)"
                        ]
                    },
                    "metadata": {},
                    "output_type": "display_data"
                },
                {
                    "data": {
                        "text/html": [
                            "Total execution time: 00:00:00.022"
                        ]
                    },
                    "metadata": {},
                    "output_type": "display_data"
                },
                {
                    "data": {
                        "application/vnd.dataresource+json": {
                            "data": [
                                {
                                    "0": "0"
                                }
                            ],
                            "schema": {
                                "fields": [
                                    {
                                        "name": "EMP_JOINED_IN_JAN"
                                    }
                                ]
                            }
                        },
                        "text/html": [
                            "<table>\n",
                            "<tr><th>EMP_JOINED_IN_JAN</th></tr>\n",
                            "<tr><td>0</td></tr>\n",
                            "</table>"
                        ]
                    },
                    "execution_count": 70,
                    "metadata": {},
                    "output_type": "execute_result"
                }
            ],
            "source": [
                "-- 8. HOW MANY EMPLOYEES JOINED IN JANUARY OR SEPTEMBER MONTH.\n",
                "SELECT COUNT(*) AS EMP_JOINED_IN_JAN FROM EMPLOYEE WHERE MONTH(Hire_Date) IN (1,9)\n"
            ]
        },
        {
            "cell_type": "code",
            "execution_count": 71,
            "metadata": {
                "azdata_cell_guid": "08b3db43-f7dd-4bad-89a2-481366902b33",
                "language": "sql",
                "vscode": {
                    "languageId": "sql"
                }
            },
            "outputs": [
                {
                    "data": {
                        "text/html": [
                            "(1 row affected)"
                        ]
                    },
                    "metadata": {},
                    "output_type": "display_data"
                },
                {
                    "data": {
                        "text/html": [
                            "Total execution time: 00:00:00.002"
                        ]
                    },
                    "metadata": {},
                    "output_type": "display_data"
                },
                {
                    "data": {
                        "application/vnd.dataresource+json": {
                            "data": [
                                {
                                    "0": "5"
                                }
                            ],
                            "schema": {
                                "fields": [
                                    {
                                        "name": "EMP_JOINED_IN_1985"
                                    }
                                ]
                            }
                        },
                        "text/html": [
                            "<table>\n",
                            "<tr><th>EMP_JOINED_IN_1985</th></tr>\n",
                            "<tr><td>5</td></tr>\n",
                            "</table>"
                        ]
                    },
                    "execution_count": 71,
                    "metadata": {},
                    "output_type": "execute_result"
                }
            ],
            "source": [
                "-- 9. HOW MANY EMPLOYEES WERE JOINED IN 1985?\n",
                "SELECT YEAR(Hire_Date),COUNT(*) AS EMP_JOINED_IN_1985 FROM EMPLOYEE WHERE YEAR(Hire_Date)=1985\n"
            ]
        },
        {
            "cell_type": "code",
            "execution_count": 81,
            "metadata": {
                "azdata_cell_guid": "031ca6c4-870b-44d2-8143-4b4b0b473883",
                "language": "sql",
                "tags": [],
                "vscode": {
                    "languageId": "sql"
                }
            },
            "outputs": [
                {
                    "data": {
                        "text/html": [
                            "(4 rows affected)"
                        ]
                    },
                    "metadata": {},
                    "output_type": "display_data"
                },
                {
                    "data": {
                        "text/html": [
                            "Total execution time: 00:00:00.003"
                        ]
                    },
                    "metadata": {},
                    "output_type": "display_data"
                },
                {
                    "data": {
                        "application/vnd.dataresource+json": {
                            "data": [
                                {
                                    "0": "April",
                                    "1": "1"
                                },
                                {
                                    "0": "February",
                                    "1": "2"
                                },
                                {
                                    "0": "June",
                                    "1": "1"
                                },
                                {
                                    "0": "May",
                                    "1": "1"
                                }
                            ],
                            "schema": {
                                "fields": [
                                    {
                                        "name": "MONTH"
                                    },
                                    {
                                        "name": "EMP_JOINED_IN_1985"
                                    }
                                ]
                            }
                        },
                        "text/html": [
                            "<table>\n",
                            "<tr><th>MONTH</th><th>EMP_JOINED_IN_1985</th></tr>\n",
                            "<tr><td>April</td><td>1</td></tr>\n",
                            "<tr><td>February</td><td>2</td></tr>\n",
                            "<tr><td>June</td><td>1</td></tr>\n",
                            "<tr><td>May</td><td>1</td></tr>\n",
                            "</table>"
                        ]
                    },
                    "execution_count": 81,
                    "metadata": {},
                    "output_type": "execute_result"
                }
            ],
            "source": [
                "-- 10. HOW MANY EMPLOYEES WERE JOINED EACH MONTH IN 1985.\n",
                "\n",
                "SELECT DATENAME(MM,Hire_Date) AS [MONTH],COUNT(*) AS EMP_JOINED_IN_1985\n",
                "FROM EMPLOYEE\n",
                "GROUP BY YEAR(Hire_Date), DATENAME(MM,Hire_Date)\n",
                "HAVING YEAR(Hire_Date)=1985"
            ]
        },
        {
            "cell_type": "code",
            "execution_count": 91,
            "metadata": {
                "azdata_cell_guid": "893beea6-95d1-4ae4-af3a-12232d032e0c",
                "language": "sql",
                "vscode": {
                    "languageId": "sql"
                }
            },
            "outputs": [
                {
                    "data": {
                        "text/html": [
                            "(0 rows affected)"
                        ]
                    },
                    "metadata": {},
                    "output_type": "display_data"
                },
                {
                    "data": {
                        "text/html": [
                            "Total execution time: 00:00:00.002"
                        ]
                    },
                    "metadata": {},
                    "output_type": "display_data"
                },
                {
                    "data": {
                        "application/vnd.dataresource+json": {
                            "data": [],
                            "schema": {
                                "fields": [
                                    {
                                        "name": "MONTH"
                                    },
                                    {
                                        "name": "EMP_JOINED_IN_1985"
                                    }
                                ]
                            }
                        },
                        "text/html": [
                            "<table>\n",
                            "<tr><th>MONTH</th><th>EMP_JOINED_IN_1985</th></tr>\n",
                            "</table>"
                        ]
                    },
                    "execution_count": 91,
                    "metadata": {},
                    "output_type": "execute_result"
                }
            ],
            "source": [
                "-- 11. HOW MANY EMPLOYEES WERE JOINED IN MARCH 1985?\n",
                "SELECT DATENAME(MM,Hire_Date) AS [MONTH],COUNT(*) AS EMP_JOINED_IN_1985\n",
                "FROM EMPLOYEE\n",
                "GROUP BY YEAR(Hire_Date), DATENAME(MM,Hire_Date)\n",
                "HAVING YEAR(Hire_Date)=1985 AND DATENAME(MM,Hire_Date)='MAR'"
            ]
        },
        {
            "cell_type": "code",
            "execution_count": 90,
            "metadata": {
                "azdata_cell_guid": "10afc821-602d-4efe-acf5-b12d4b2b7c12",
                "language": "sql",
                "vscode": {
                    "languageId": "sql"
                }
            },
            "outputs": [
                {
                    "data": {
                        "text/html": [
                            "(0 rows affected)"
                        ]
                    },
                    "metadata": {},
                    "output_type": "display_data"
                },
                {
                    "data": {
                        "text/html": [
                            "Total execution time: 00:00:00.001"
                        ]
                    },
                    "metadata": {},
                    "output_type": "display_data"
                },
                {
                    "data": {
                        "application/vnd.dataresource+json": {
                            "data": [],
                            "schema": {
                                "fields": [
                                    {
                                        "name": "Department_ID"
                                    },
                                    {
                                        "name": "EMP_COUNT"
                                    }
                                ]
                            }
                        },
                        "text/html": [
                            "<table>\n",
                            "<tr><th>Department_ID</th><th>EMP_COUNT</th></tr>\n",
                            "</table>"
                        ]
                    },
                    "execution_count": 90,
                    "metadata": {},
                    "output_type": "execute_result"
                }
            ],
            "source": [
                "-- 12. WHICH IS THE DEPARTMENT ID, HAVING GREATER THAN OR EQUAL TO 3 EMPLOYEES JOINED IN\n",
                "-- APRIL 1985?\n",
                "SELECT Department_ID, COUNT(*) AS EMP_COUNT\n",
                "FROM EMPLOYEE\n",
                "GROUP BY Department_ID,YEAR(Hire_Date), MONTH(Hire_Date)\n",
                "HAVING YEAR(Hire_Date)=1985 AND MONTH(Hire_Date)=4 AND COUNT(*)>=3"
            ]
        },
        {
            "attachments": {},
            "cell_type": "markdown",
            "metadata": {
                "azdata_cell_guid": "7d70bcc8-1ab4-4194-b80d-650e1dd19c9a",
                "language": "sql"
            },
            "source": [
                "## JOINS"
            ]
        },
        {
            "cell_type": "code",
            "execution_count": null,
            "metadata": {
                "azdata_cell_guid": "a5610fdd-6b30-40ec-a62d-0eb5bda3a5a4",
                "language": "sql",
                "vscode": {
                    "languageId": "sql"
                }
            },
            "outputs": [],
            "source": []
        }
    ],
    "metadata": {
        "kernelspec": {
            "display_name": "Python 3",
            "language": "python",
            "name": "python3"
        },
        "language_info": {
            "name": "python",
            "version": "3.11.1"
        }
    },
    "nbformat": 4,
    "nbformat_minor": 2
}
