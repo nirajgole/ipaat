{
 "cells": [
  {
   "attachments": {},
   "cell_type": "markdown",
   "metadata": {},
   "source": [
    "#### Assignment 1 - If Else statement\n",
    "\n",
    "> Input the values of a and b as 10 and 20 respectively. Now check if a is greater or b is greater using if condition.\n",
    "> Think about all the edge cases, and print the statements accordingly.\n"
   ]
  },
  {
   "cell_type": "code",
   "execution_count": 1,
   "metadata": {},
   "outputs": [
    {
     "name": "stdout",
     "output_type": "stream",
     "text": [
      "b is greater than a\n"
     ]
    }
   ],
   "source": [
    "a = 10\n",
    "b = 20\n",
    "if a > b:\n",
    "    print(\"a is greater than b\")\n",
    "elif b > a:\n",
    "    print(\"b is greater than a\")\n",
    "else:\n",
    "    print(\"a and b are equal\") # Output: \"b is greater than a\""
   ]
  },
  {
   "attachments": {},
   "cell_type": "markdown",
   "metadata": {},
   "source": [
    "#### Assignment 2 - Conditional Statements\n",
    "\n",
    "> Take three user inputs and print the greatest number from those inputs using if-else\n",
    "> condition. Edge cases if any, should also be handled.\n"
   ]
  },
  {
   "cell_type": "code",
   "execution_count": null,
   "metadata": {},
   "outputs": [],
   "source": [
    "def accept_number():\n",
    "  num = input('Enter number: ')\n",
    "\n",
    "  if num.isnumeric():\n",
    "    return num\n",
    "  else:\n",
    "    print(\"Invalid input. Please enter a valid number.\")\n",
    "\n",
    "    return accept_number()\n",
    "\n",
    "num1 = int(accept_number())\n",
    "\n",
    "num2 = int(accept_number())\n",
    "\n",
    "num3 = int(accept_number())\n",
    "\n",
    "\n",
    "if num1==num2 and num2==num3:\n",
    "   print(\"All numbers are equal\")\n",
    "elif num1>num2:\n",
    "   if num1>=num3:\n",
    "       print(\"The greatest number is:\", num1)\n",
    "   elif num2>=num3:\n",
    "       print(\"The greatest number is:\", num2)\n",
    "   else:\n",
    "       print(\"The greatest number is:\", num3)\n",
    "else:\n",
    "   if num2>=num3:\n",
    "       print(\"The greatest number is:\", num2)\n",
    "   elif num1>=num3:\n",
    "       print(\"The greatest number is:\", num1)\n",
    "   else:\n",
    "       print(\"The greatest number is:\", num3)\n"
   ]
  },
  {
   "attachments": {},
   "cell_type": "markdown",
   "metadata": {},
   "source": [
    "#### Loops - Assignment 1\n",
    "\n",
    "> Print the numbers from 1 to 10 using while loop.\n"
   ]
  },
  {
   "cell_type": "code",
   "execution_count": 2,
   "metadata": {},
   "outputs": [
    {
     "name": "stdout",
     "output_type": "stream",
     "text": [
      "1\n",
      "2\n",
      "3\n",
      "4\n",
      "5\n",
      "6\n",
      "7\n",
      "8\n",
      "9\n",
      "10\n"
     ]
    }
   ],
   "source": [
    "for i in range(1, 11):\n",
    "  print(i)"
   ]
  },
  {
   "attachments": {},
   "cell_type": "markdown",
   "metadata": {},
   "source": [
    "#### Loops - Assignment 2\n",
    "\n",
    "> Create a list that has 10, 23, 4, 26, 4, 75, 24, 54 values and with the help\n",
    "> of while loop fetch the even numbers and print the numbers.\n"
   ]
  },
  {
   "cell_type": "code",
   "execution_count": 3,
   "metadata": {},
   "outputs": [
    {
     "name": "stdout",
     "output_type": "stream",
     "text": [
      "10\n",
      "4\n",
      "26\n",
      "4\n",
      "24\n",
      "54\n"
     ]
    }
   ],
   "source": [
    "nums=[10,23,4,26,4,75,24,54]\n",
    "i = 0\n",
    "while i < len(nums):\n",
    "  if nums[i] % 2 == 0:\n",
    "    print(nums[i])\n",
    "  i += 1"
   ]
  },
  {
   "attachments": {},
   "cell_type": "markdown",
   "metadata": {},
   "source": [
    "#### Loops - Assignment 3\n",
    "\n",
    "> Create an array that has user defined inputs and with the help of for loop,\n",
    "> fetch all the prime numbers and print the numbers.\n"
   ]
  },
  {
   "cell_type": "code",
   "execution_count": 18,
   "metadata": {},
   "outputs": [
    {
     "name": "stdout",
     "output_type": "stream",
     "text": [
      "0\n",
      "2\n",
      "3\n",
      "5\n",
      "7\n",
      "13\n"
     ]
    }
   ],
   "source": [
    "ud_input_nums=[0,2,56,56,3,5,7,13]\n",
    "\n",
    "def is_prime(num):\n",
    "  for i in range(2, num//2):\n",
    "    if num % i == 0:\n",
    "        return False\n",
    "  return True\n",
    "\n",
    "result = '\\n'.join([str(i) for i in ud_input_nums if is_prime(i)])\n",
    "print(f'{result}')"
   ]
  },
  {
   "attachments": {},
   "cell_type": "markdown",
   "metadata": {},
   "source": [
    "#### Case Study - 1 Getting Started with Python\n"
   ]
  },
  {
   "attachments": {},
   "cell_type": "markdown",
   "metadata": {},
   "source": [
    "> 1.  Create a list containing squares of numbers from 1 to 10 (HINT: use List\n",
    ">     Comprehension).\n"
   ]
  },
  {
   "cell_type": "code",
   "execution_count": 19,
   "metadata": {},
   "outputs": [
    {
     "data": {
      "text/plain": [
       "[1, 4, 9, 16, 25, 36, 49, 64, 81, 100]"
      ]
     },
     "execution_count": 19,
     "metadata": {},
     "output_type": "execute_result"
    }
   ],
   "source": [
    "[i**2 for i in range(1,11)]"
   ]
  },
  {
   "attachments": {},
   "cell_type": "markdown",
   "metadata": {},
   "source": [
    "> 2.  Write a Function to check if year number is a leap year\n"
   ]
  },
  {
   "cell_type": "code",
   "execution_count": 26,
   "metadata": {},
   "outputs": [
    {
     "name": "stdout",
     "output_type": "stream",
     "text": [
      "2020 is leap year.\n",
      "2014 is not leap year.\n"
     ]
    }
   ],
   "source": [
    "def is_leap(year):\n",
    "    if year % 4 == 0:\n",
    "        if year % 100 == 0:\n",
    "            if year % 400 == 0:\n",
    "                return True\n",
    "            else:\n",
    "                return False\n",
    "        else:\n",
    "            return True\n",
    "    else:\n",
    "        return False\n",
    "\n",
    "def display(yr:int)->None:\n",
    "    \"\"\"Displays whether a given number represents leap or not\"\"\"\n",
    "    print(f'{yr} is{\" \"if is_leap(yr) else \" not \"}leap year.')\n",
    "\n",
    "display(2020)\n",
    "display(2014)"
   ]
  },
  {
   "attachments": {},
   "cell_type": "markdown",
   "metadata": {},
   "source": [
    "> 3.  Write a function to take an array and return another array that contains the\n",
    ">     members of the first array that are even.\n"
   ]
  },
  {
   "cell_type": "code",
   "execution_count": 27,
   "metadata": {},
   "outputs": [
    {
     "data": {
      "text/plain": [
       "[2, 4, 6, 8, 10]"
      ]
     },
     "execution_count": 27,
     "metadata": {},
     "output_type": "execute_result"
    }
   ],
   "source": [
    "get_even_numbers=lambda a:list(filter(lambda x: x%2==0, a))\n",
    "get_even_numbers([1,2,3,4,5,6,7,8,9,10]) # Example usage of the function"
   ]
  },
  {
   "attachments": {},
   "cell_type": "markdown",
   "metadata": {},
   "source": [
    "> 4.  Write a Function that takes 2 arrays and prints the members of first array that are present of second array.\n",
    ">     (HINT: use Membership Comprehension)\n"
   ]
  },
  {
   "cell_type": "code",
   "execution_count": 28,
   "metadata": {},
   "outputs": [
    {
     "data": {
      "text/plain": [
       "[3, 4, 5]"
      ]
     },
     "execution_count": 28,
     "metadata": {},
     "output_type": "execute_result"
    }
   ],
   "source": [
    "\n",
    "get_common_numbers=lambda a,b:[i for i in a if i in b]\n",
    "get_common_numbers([1,2,3,4,5],[3,4,5,6,7]) # Example usage of the function"
   ]
  },
  {
   "attachments": {},
   "cell_type": "markdown",
   "metadata": {},
   "source": [
    "#### Case Study 2 - Introduction to Python\n"
   ]
  },
  {
   "attachments": {},
   "cell_type": "markdown",
   "metadata": {},
   "source": [
    "```\n",
    "1. Create 1st tuple with values -> (10, 20, 30), 2nd tuple with values -> (40,\n",
    "50, 60):\n",
    "a. Concatenate the two tuples and store it in “t_combine”\n",
    "b. Repeat the elements of “t_combine” 3 times\n",
    "c. Access the 3rd element from “t_combine”\n",
    "d. Access the first three elements from “t_combine”\n",
    "e. Access the last three elements fr\n",
    "```\n"
   ]
  },
  {
   "cell_type": "code",
   "execution_count": 1,
   "metadata": {},
   "outputs": [
    {
     "name": "stdout",
     "output_type": "stream",
     "text": [
      "30\n",
      "(10, 20, 30)\n",
      "(40, 50, 60)\n"
     ]
    }
   ],
   "source": [
    "t1 = (10,20,30)\n",
    "t2 = (40,50,60) \n",
    "\n",
    "# a. Concatenate the two tuples and store it in “t_combine”\n",
    "t_combine = t1 + t2\n",
    "# b. Repeat the elements of “t_combine” 3 times\n",
    "t_combine = t_combine * 3\n",
    "# c. Access the 3rd element from “t_combine”\n",
    "print(t_combine[2]) # Output: 30\n",
    "# d. Access the first three elements from “t_combine”\n",
    "print(t_combine[:3]) # Output: (10, 20, 30)\n",
    "# e. Access the last three elements from “t_combine”\n",
    "print(t_combine[-3:]) # Output: (50, 60, 10)"
   ]
  },
  {
   "attachments": {},
   "cell_type": "markdown",
   "metadata": {},
   "source": [
    "```\n",
    "# 2. Create a list ‘my_list’ with these elements:\n",
    "# a. First element is a tuple with values 1,2,3\n",
    "# b. Second element is a tuple with values “a”,”b”,”c”\n",
    "# c. Third element is a tuple with values True,False\n",
    "```\n"
   ]
  },
  {
   "cell_type": "code",
   "execution_count": 2,
   "metadata": {},
   "outputs": [
    {
     "name": "stdout",
     "output_type": "stream",
     "text": [
      "[(1, 2, 3), ('a', 'b', 'c'), (True, False), (1, 'a', True), ['sparta', 123]]\n"
     ]
    }
   ],
   "source": [
    "my_list = [(1,2,3), (\"a\", \"b\", \"c\"), (True, False)]"
   ]
  },
  {
   "attachments": {},
   "cell_type": "markdown",
   "metadata": {},
   "source": [
    "```\n",
    "3. Append a new tuple – (1,’a’,True) to ‘my_list’\n",
    "    Append a new list – [“sparta”,123] to my_list\n",
    "```\n"
   ]
  },
  {
   "cell_type": "code",
   "execution_count": 3,
   "metadata": {},
   "outputs": [
    {
     "name": "stdout",
     "output_type": "stream",
     "text": [
      "[(1, 2, 3), ('a', 'b', 'c'), (True, False), (1, 'a', True), ['sparta', 123], (1, 'a', True), ['sparta', 123]]\n"
     ]
    }
   ],
   "source": [
    "my_list.append((1, 'a', True))\n",
    "\n",
    "my_list.append([\"sparta\", 123])\n",
    "print(my_list) # Output: [(1, 2, 3), ('a', 'b', 'c'), (True, False), (1, 'a', True), ['sparta', 123]]"
   ]
  },
  {
   "attachments": {},
   "cell_type": "markdown",
   "metadata": {},
   "source": [
    "`4. Create a dictionary ‘fruit’ where:`\n"
   ]
  },
  {
   "cell_type": "code",
   "execution_count": 5,
   "metadata": {},
   "outputs": [
    {
     "name": "stdout",
     "output_type": "stream",
     "text": [
      "dict_keys(['Fruit', 'Cost'])\n",
      "dict_values([('🍎', '🍌', '🥭', '🍐'), (85, 54, 120, 70)])\n"
     ]
    }
   ],
   "source": [
    "# a. The first key is ‘Fruit’ and the values are (“Apple”,”Banana”,”Mango”,”Guava”)\n",
    "# b. The second key is ‘Cost’ and the values are (85,54,120,70)\n",
    "fruit = {'Fruit': ('🍎', '🍌', '🥭', '🍐'), 'Cost': (85, 54, 120, 70)}\n",
    "# c. Extract all the keys from ‘fruit’\n",
    "keys = fruit.keys()\n",
    "\n",
    "print(keys) # Output: dict_keys(['Fruit', 'Cost'])\n",
    "# d. Extract all the values from ‘fruit’\n",
    "values = fruit.values()\n",
    "print(values) # Output: dict_values([('🍎', '🍌', '🥭', '🍐'), (85, 54, 120, 70)])"
   ]
  },
  {
   "attachments": {},
   "cell_type": "markdown",
   "metadata": {},
   "source": [
    "```5. Crete a set named ‘my_set’ with values (1,1,”a”,”a”,True,True) and print the result ```"
   ]
  },
  {
   "cell_type": "code",
   "execution_count": 4,
   "metadata": {},
   "outputs": [
    {
     "name": "stdout",
     "output_type": "stream",
     "text": [
      "{1, 'a'}\n"
     ]
    }
   ],
   "source": [
    "my_set = {1, 1, 'a', 'a', True, True}\n",
    "print(my_set) # Output: {1, 'a'} (Note: Sets only contain unique values)"
   ]
  }
 ],
 "metadata": {
  "kernelspec": {
   "display_name": "Python 3",
   "language": "python",
   "name": "python3"
  },
  "language_info": {
   "codemirror_mode": {
    "name": "ipython",
    "version": 3
   },
   "file_extension": ".py",
   "mimetype": "text/x-python",
   "name": "python",
   "nbconvert_exporter": "python",
   "pygments_lexer": "ipython3",
   "version": "3.11.3"
  },
  "orig_nbformat": 4
 },
 "nbformat": 4,
 "nbformat_minor": 2
}
