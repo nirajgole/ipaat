{
    "metadata": {
        "kernelspec": {
            "name": "SQL",
            "display_name": "SQL",
            "language": "sql"
        },
        "language_info": {
            "name": "sql",
            "version": ""
        }
    },
    "nbformat_minor": 2,
    "nbformat": 4,
    "cells": [
        {
            "cell_type": "code",
            "source": [
                "-- create DATABASE CASE_STUDY_THREE"
            ],
            "metadata": {
                "azdata_cell_guid": "f332d586-fbee-4489-bf10-054ced812a9d",
                "language": "sql"
            },
            "outputs": [],
            "execution_count": null
        },
        {
            "cell_type": "code",
            "source": [
                "-- 1) Display the count of customer in each region who has done the transaction in year 2020\r\n",
                "SELECT region_id,COUNT(*) no_of_customers\r\n",
                "from customers c \r\n",
                "left join [transaction] t on c.customer_id=t.customer_id\r\n",
                "where year(txn_date)=2020\r\n",
                "group by region_id\r\n",
                ""
            ],
            "metadata": {
                "language": "sql",
                "azdata_cell_guid": "5219b0be-4e91-4fcc-89c5-67fff3729eca"
            },
            "outputs": [
                {
                    "output_type": "display_data",
                    "data": {
                        "text/html": "(5 rows affected)"
                    },
                    "metadata": {}
                },
                {
                    "output_type": "display_data",
                    "data": {
                        "text/html": "Total execution time: 00:00:00.018"
                    },
                    "metadata": {}
                },
                {
                    "output_type": "execute_result",
                    "execution_count": 3,
                    "data": {
                        "application/vnd.dataresource+json": {
                            "schema": {
                                "fields": [
                                    {
                                        "name": "region_id"
                                    },
                                    {
                                        "name": "no_of_customers"
                                    }
                                ]
                            },
                            "data": [
                                {
                                    "0": "3",
                                    "1": "8414"
                                },
                                {
                                    "0": "1",
                                    "1": "9107"
                                },
                                {
                                    "0": "4",
                                    "1": "7952"
                                },
                                {
                                    "0": "5",
                                    "1": "6797"
                                },
                                {
                                    "0": "2",
                                    "1": "8806"
                                }
                            ]
                        },
                        "text/html": "<table><tr><th>region_id</th><th>no_of_customers</th></tr><tr><td>3</td><td>8414</td></tr><tr><td>1</td><td>9107</td></tr><tr><td>4</td><td>7952</td></tr><tr><td>5</td><td>6797</td></tr><tr><td>2</td><td>8806</td></tr></table>"
                    },
                    "metadata": {}
                }
            ],
            "execution_count": 3
        },
        {
            "cell_type": "code",
            "source": [
                "-- 2) Display the maximum, minimum of transaction amount of each transaction type\r\n",
                "SELECT TXN_TYPE,MAX(TXN_AMOUNT) AS MAX_AMT, MIN(TXN_AMOUNT) AS MIN_AMT\r\n",
                "FROM [TRANSACTION]\r\n",
                "GROUP BY TXN_TYPE"
            ],
            "metadata": {
                "language": "sql",
                "azdata_cell_guid": "30f74d3b-8be1-4ca6-8a1d-0877caeae1fd"
            },
            "outputs": [
                {
                    "output_type": "display_data",
                    "data": {
                        "text/html": "(3 rows affected)"
                    },
                    "metadata": {}
                },
                {
                    "output_type": "display_data",
                    "data": {
                        "text/html": "Total execution time: 00:00:00.012"
                    },
                    "metadata": {}
                },
                {
                    "output_type": "execute_result",
                    "execution_count": 6,
                    "data": {
                        "application/vnd.dataresource+json": {
                            "schema": {
                                "fields": [
                                    {
                                        "name": "TXN_TYPE"
                                    },
                                    {
                                        "name": "MAX_AMT"
                                    },
                                    {
                                        "name": "MIN_AMT"
                                    }
                                ]
                            },
                            "data": [
                                {
                                    "0": "purchase",
                                    "1": "999",
                                    "2": "1"
                                },
                                {
                                    "0": "withdrawal",
                                    "1": "999",
                                    "2": "1"
                                },
                                {
                                    "0": "deposit",
                                    "1": "1000",
                                    "2": "0"
                                }
                            ]
                        },
                        "text/html": "<table><tr><th>TXN_TYPE</th><th>MAX_AMT</th><th>MIN_AMT</th></tr><tr><td>purchase</td><td>999</td><td>1</td></tr><tr><td>withdrawal</td><td>999</td><td>1</td></tr><tr><td>deposit</td><td>1000</td><td>0</td></tr></table>"
                    },
                    "metadata": {}
                }
            ],
            "execution_count": 6
        },
        {
            "cell_type": "code",
            "source": [
                "-- 3) Display customer id, region name and transaction amount where transaction type is deposit and\r\n",
                "-- transaction amount > 2000.\r\n",
                "\r\n",
                "SELECT C.customer_id,CC.region_name,T.txn_amount FROM CUSTOMERS C\r\n",
                "LEFT JOIN [TRANSACTION] T ON C.CUSTOMER_ID=T.CUSTOMER_ID\r\n",
                "LEFT JOIN Continent CC ON C.region_id=CC.region_id\r\n",
                "WHERE TXN_TYPE='DEPOSIT' AND TXN_AMOUNT>2000\r\n",
                ""
            ],
            "metadata": {
                "language": "sql",
                "azdata_cell_guid": "4b9de291-7cdf-4e9c-a8ad-8222d3c12313"
            },
            "outputs": [
                {
                    "output_type": "display_data",
                    "data": {
                        "text/html": "(0 rows affected)"
                    },
                    "metadata": {}
                },
                {
                    "output_type": "display_data",
                    "data": {
                        "text/html": "Total execution time: 00:00:00.002"
                    },
                    "metadata": {}
                },
                {
                    "output_type": "execute_result",
                    "metadata": {},
                    "execution_count": 5,
                    "data": {
                        "application/vnd.dataresource+json": {
                            "schema": {
                                "fields": [
                                    {
                                        "name": "customer_id"
                                    },
                                    {
                                        "name": "region_name"
                                    },
                                    {
                                        "name": "txn_amount"
                                    }
                                ]
                            },
                            "data": []
                        },
                        "text/html": [
                            "<table>",
                            "<tr><th>customer_id</th><th>region_name</th><th>txn_amount</th></tr>",
                            "</table>"
                        ]
                    }
                }
            ],
            "execution_count": 5
        },
        {
            "cell_type": "code",
            "source": [
                "-- 4) Find duplicate records in a customer table.\r\n",
                "SELECT customer_id, COUNT(*) AS NO_OF_DUPLICATE_RECORDS\r\n",
                "FROM Customers\r\n",
                "GROUP BY customer_id\r\n",
                "HAVING COUNT(*) >1\r\n",
                "ORDER BY customer_id"
            ],
            "metadata": {
                "language": "sql",
                "azdata_cell_guid": "6ef316b9-937c-4433-acca-0dad22c3a341"
            },
            "outputs": [
                {
                    "output_type": "display_data",
                    "data": {
                        "text/html": "(1 row affected)"
                    },
                    "metadata": {}
                },
                {
                    "output_type": "display_data",
                    "data": {
                        "text/html": "Total execution time: 00:00:00.003"
                    },
                    "metadata": {}
                },
                {
                    "output_type": "execute_result",
                    "metadata": {},
                    "execution_count": 10,
                    "data": {
                        "application/vnd.dataresource+json": {
                            "schema": {
                                "fields": [
                                    {
                                        "name": "(No column name)"
                                    }
                                ]
                            },
                            "data": [
                                {
                                    "0": "3500"
                                }
                            ]
                        },
                        "text/html": [
                            "<table>",
                            "<tr><th>(No column name)</th></tr>",
                            "<tr><td>3500</td></tr>",
                            "</table>"
                        ]
                    }
                }
            ],
            "execution_count": 10
        },
        {
            "cell_type": "code",
            "source": [
                "-- 5) Display the detail of customer id, region name, transaction type and transaction amount for the\r\n",
                "-- minimum transaction amount in deposit.\r\n",
                "SELECT C.customer_id,CC.region_name,T.txn_type,T.txn_amount FROM CUSTOMERS C\r\n",
                "LEFT JOIN [TRANSACTION] T ON C.CUSTOMER_ID=T.CUSTOMER_ID\r\n",
                "LEFT JOIN Continent CC ON C.region_id=CC.region_id\r\n",
                "WHERE TXN_TYPE='DEPOSIT' AND TXN_AMOUNT=(select min(txn_amount) from [Transaction] where txn_type='deposit')"
            ],
            "metadata": {
                "language": "sql",
                "azdata_cell_guid": "2bfa1824-c04b-4ab4-9938-0d5235ddd245"
            },
            "outputs": [
                {
                    "output_type": "display_data",
                    "data": {
                        "text/html": "(7 rows affected)"
                    },
                    "metadata": {}
                },
                {
                    "output_type": "display_data",
                    "data": {
                        "text/html": "Total execution time: 00:00:00.010"
                    },
                    "metadata": {}
                },
                {
                    "output_type": "execute_result",
                    "metadata": {},
                    "execution_count": 11,
                    "data": {
                        "application/vnd.dataresource+json": {
                            "schema": {
                                "fields": [
                                    {
                                        "name": "customer_id"
                                    },
                                    {
                                        "name": "region_name"
                                    },
                                    {
                                        "name": "txn_type"
                                    },
                                    {
                                        "name": "txn_amount"
                                    }
                                ]
                            },
                            "data": [
                                {
                                    "0": "32",
                                    "1": "Asia",
                                    "2": "deposit",
                                    "3": "0"
                                },
                                {
                                    "0": "32",
                                    "1": "Asia",
                                    "2": "deposit",
                                    "3": "0"
                                },
                                {
                                    "0": "32",
                                    "1": "Asia",
                                    "2": "deposit",
                                    "3": "0"
                                },
                                {
                                    "0": "32",
                                    "1": "Asia",
                                    "2": "deposit",
                                    "3": "0"
                                },
                                {
                                    "0": "32",
                                    "1": "Asia",
                                    "2": "deposit",
                                    "3": "0"
                                },
                                {
                                    "0": "32",
                                    "1": "Asia",
                                    "2": "deposit",
                                    "3": "0"
                                },
                                {
                                    "0": "32",
                                    "1": "Asia",
                                    "2": "deposit",
                                    "3": "0"
                                }
                            ]
                        },
                        "text/html": [
                            "<table>",
                            "<tr><th>customer_id</th><th>region_name</th><th>txn_type</th><th>txn_amount</th></tr>",
                            "<tr><td>32</td><td>Asia</td><td>deposit</td><td>0</td></tr>",
                            "<tr><td>32</td><td>Asia</td><td>deposit</td><td>0</td></tr>",
                            "<tr><td>32</td><td>Asia</td><td>deposit</td><td>0</td></tr>",
                            "<tr><td>32</td><td>Asia</td><td>deposit</td><td>0</td></tr>",
                            "<tr><td>32</td><td>Asia</td><td>deposit</td><td>0</td></tr>",
                            "<tr><td>32</td><td>Asia</td><td>deposit</td><td>0</td></tr>",
                            "<tr><td>32</td><td>Asia</td><td>deposit</td><td>0</td></tr>",
                            "</table>"
                        ]
                    }
                }
            ],
            "execution_count": 11
        },
        {
            "cell_type": "code",
            "source": [
                "-- 6) Create a stored procedure to display details of customer and transaction table where transaction\r\n",
                "-- date is greater than Jun 2020.\r\n",
                "\r\n",
                "CREATE PROCEDURE sp_display_details\r\n",
                "AS\r\n",
                "BEGIN\r\n",
                "SELECT * FROM Customers C \r\n",
                "LEFT JOIN [Transaction] T ON C.customer_id=T.customer_id\r\n",
                "WHERE txn_date >= '2020-07-01'\r\n",
                "END\r\n",
                "GO\r\n",
                ""
            ],
            "metadata": {
                "language": "sql",
                "azdata_cell_guid": "b0910a85-316d-461b-aab3-9d2f85e105b2"
            },
            "outputs": [
                {
                    "output_type": "display_data",
                    "data": {
                        "text/html": "Commands completed successfully."
                    },
                    "metadata": {}
                },
                {
                    "output_type": "display_data",
                    "data": {
                        "text/html": "Total execution time: 00:00:00.001"
                    },
                    "metadata": {}
                }
            ],
            "execution_count": 36
        },
        {
            "cell_type": "code",
            "source": [
                "-- drop PROCEDURE dbo.sp_display_details\r\n",
                "EXEC dbo.sp_display_details;"
            ],
            "metadata": {
                "language": "sql",
                "azdata_cell_guid": "d06aaeab-e88e-40a1-a658-53c1ac83c2ff",
                "tags": []
            },
            "outputs": [
                {
                    "output_type": "display_data",
                    "data": {
                        "text/html": "(0 rows affected)"
                    },
                    "metadata": {}
                },
                {
                    "output_type": "display_data",
                    "data": {
                        "text/html": "Total execution time: 00:00:00.003"
                    },
                    "metadata": {}
                },
                {
                    "output_type": "execute_result",
                    "metadata": {},
                    "execution_count": 39,
                    "data": {
                        "application/vnd.dataresource+json": {
                            "schema": {
                                "fields": [
                                    {
                                        "name": "customer_id"
                                    },
                                    {
                                        "name": "region_id"
                                    },
                                    {
                                        "name": "start_date"
                                    },
                                    {
                                        "name": "end_date"
                                    },
                                    {
                                        "name": "customer_id"
                                    },
                                    {
                                        "name": "txn_date"
                                    },
                                    {
                                        "name": "txn_type"
                                    },
                                    {
                                        "name": "txn_amount"
                                    }
                                ]
                            },
                            "data": []
                        },
                        "text/html": [
                            "<table>",
                            "<tr><th>customer_id</th><th>region_id</th><th>start_date</th><th>end_date</th><th>customer_id</th><th>txn_date</th><th>txn_type</th><th>txn_amount</th></tr>",
                            "</table>"
                        ]
                    }
                }
            ],
            "execution_count": 39
        },
        {
            "cell_type": "code",
            "source": [
                "-- 7) Create a stored procedure to insert a record in the continent table.\r\n",
                "CREATE PROCEDURE sp_insert_continet\r\n",
                "@regionId int,\r\n",
                "@regionName VARCHAR(100)\r\n",
                "AS\r\n",
                "BEGIN\r\n",
                "INSERT INTO Continent VALUES(@regionId,@regionName);\r\n",
                "END\r\n",
                "GO"
            ],
            "metadata": {
                "language": "sql",
                "azdata_cell_guid": "c510cee3-3aaa-4ffb-a61b-387d5fa8fcf4"
            },
            "outputs": [
                {
                    "output_type": "display_data",
                    "data": {
                        "text/html": "Commands completed successfully."
                    },
                    "metadata": {}
                },
                {
                    "output_type": "display_data",
                    "data": {
                        "text/html": "Total execution time: 00:00:00.029"
                    },
                    "metadata": {}
                }
            ],
            "execution_count": 40
        },
        {
            "cell_type": "code",
            "source": [
                "EXEC dbo.sp_insert_continet 100,'Citadel'"
            ],
            "metadata": {
                "language": "sql",
                "azdata_cell_guid": "cf57ce20-c70d-40b8-8fea-566bbfec20b0"
            },
            "outputs": [
                {
                    "output_type": "display_data",
                    "data": {
                        "text/html": "(1 row affected)"
                    },
                    "metadata": {}
                },
                {
                    "output_type": "display_data",
                    "data": {
                        "text/html": "Total execution time: 00:00:00.007"
                    },
                    "metadata": {}
                }
            ],
            "execution_count": 43
        },
        {
            "cell_type": "code",
            "source": [
                "-- 8) Create a stored procedure to display the details of transactions that happened on a specific day.\r\n",
                "CREATE PROCEDURE sp_get_txn_details_on_day(\r\n",
                "    @txnDate DATETIME2\r\n",
                ")\r\n",
                "AS\r\n",
                "BEGIN\r\n",
                "SELECT * FROM [Transaction] WHERE txn_date=@txnDate\r\n",
                "END\r\n",
                "GO"
            ],
            "metadata": {
                "language": "sql",
                "azdata_cell_guid": "52b2b675-5e0b-41eb-b1a9-91d67a705cb7"
            },
            "outputs": [
                {
                    "output_type": "display_data",
                    "data": {
                        "text/html": "Commands completed successfully."
                    },
                    "metadata": {}
                },
                {
                    "output_type": "display_data",
                    "data": {
                        "text/html": "Total execution time: 00:00:00.004"
                    },
                    "metadata": {}
                }
            ],
            "execution_count": 46
        },
        {
            "cell_type": "code",
            "source": [
                "EXEC sp_get_txn_details_on_day '2020-01-13'"
            ],
            "metadata": {
                "language": "sql",
                "azdata_cell_guid": "cd1ad109-25e4-4b77-92f0-99834b2bbc10"
            },
            "outputs": [
                {
                    "output_type": "display_data",
                    "data": {
                        "text/html": "(54 rows affected)"
                    },
                    "metadata": {}
                },
                {
                    "output_type": "display_data",
                    "data": {
                        "text/html": "Total execution time: 00:00:00.009"
                    },
                    "metadata": {}
                },
                {
                    "output_type": "execute_result",
                    "metadata": {},
                    "execution_count": 48,
                    "data": {
                        "application/vnd.dataresource+json": {
                            "schema": {
                                "fields": [
                                    {
                                        "name": "customer_id"
                                    },
                                    {
                                        "name": "txn_date"
                                    },
                                    {
                                        "name": "txn_type"
                                    },
                                    {
                                        "name": "txn_amount"
                                    }
                                ]
                            },
                            "data": [
                                {
                                    "0": "309",
                                    "1": "2020-01-13",
                                    "2": "deposit",
                                    "3": "995"
                                },
                                {
                                    "0": "188",
                                    "1": "2020-01-13",
                                    "2": "deposit",
                                    "3": "601"
                                },
                                {
                                    "0": "168",
                                    "1": "2020-01-13",
                                    "2": "deposit",
                                    "3": "114"
                                },
                                {
                                    "0": "296",
                                    "1": "2020-01-13",
                                    "2": "deposit",
                                    "3": "846"
                                },
                                {
                                    "0": "74",
                                    "1": "2020-01-13",
                                    "2": "deposit",
                                    "3": "229"
                                },
                                {
                                    "0": "10",
                                    "1": "2020-01-13",
                                    "2": "deposit",
                                    "3": "556"
                                },
                                {
                                    "0": "288",
                                    "1": "2020-01-13",
                                    "2": "deposit",
                                    "3": "586"
                                },
                                {
                                    "0": "350",
                                    "1": "2020-01-13",
                                    "2": "deposit",
                                    "3": "167"
                                },
                                {
                                    "0": "299",
                                    "1": "2020-01-13",
                                    "2": "deposit",
                                    "3": "881"
                                },
                                {
                                    "0": "16",
                                    "1": "2020-01-13",
                                    "2": "deposit",
                                    "3": "421"
                                },
                                {
                                    "0": "403",
                                    "1": "2020-01-13",
                                    "2": "deposit",
                                    "3": "232"
                                },
                                {
                                    "0": "279",
                                    "1": "2020-01-13",
                                    "2": "deposit",
                                    "3": "98"
                                },
                                {
                                    "0": "87",
                                    "1": "2020-01-13",
                                    "2": "deposit",
                                    "3": "777"
                                },
                                {
                                    "0": "181",
                                    "1": "2020-01-13",
                                    "2": "deposit",
                                    "3": "865"
                                },
                                {
                                    "0": "149",
                                    "1": "2020-01-13",
                                    "2": "deposit",
                                    "3": "831"
                                },
                                {
                                    "0": "471",
                                    "1": "2020-01-13",
                                    "2": "deposit",
                                    "3": "781"
                                },
                                {
                                    "0": "459",
                                    "1": "2020-01-13",
                                    "2": "deposit",
                                    "3": "857"
                                },
                                {
                                    "0": "399",
                                    "1": "2020-01-13",
                                    "2": "deposit",
                                    "3": "780"
                                },
                                {
                                    "0": "12",
                                    "1": "2020-01-13",
                                    "2": "deposit",
                                    "3": "202"
                                },
                                {
                                    "0": "370",
                                    "1": "2020-01-13",
                                    "2": "deposit",
                                    "3": "363"
                                },
                                {
                                    "0": "196",
                                    "1": "2020-01-13",
                                    "2": "deposit",
                                    "3": "734"
                                },
                                {
                                    "0": "107",
                                    "1": "2020-01-13",
                                    "2": "deposit",
                                    "3": "538"
                                },
                                {
                                    "0": "309",
                                    "1": "2020-01-13",
                                    "2": "purchase",
                                    "3": "532"
                                },
                                {
                                    "0": "376",
                                    "1": "2020-01-13",
                                    "2": "deposit",
                                    "3": "628"
                                },
                                {
                                    "0": "402",
                                    "1": "2020-01-13",
                                    "2": "withdrawal",
                                    "3": "127"
                                },
                                {
                                    "0": "292",
                                    "1": "2020-01-13",
                                    "2": "withdrawal",
                                    "3": "289"
                                },
                                {
                                    "0": "441",
                                    "1": "2020-01-13",
                                    "2": "withdrawal",
                                    "3": "207"
                                },
                                {
                                    "0": "276",
                                    "1": "2020-01-13",
                                    "2": "purchase",
                                    "3": "922"
                                },
                                {
                                    "0": "276",
                                    "1": "2020-01-13",
                                    "2": "purchase",
                                    "3": "465"
                                },
                                {
                                    "0": "356",
                                    "1": "2020-01-13",
                                    "2": "withdrawal",
                                    "3": "532"
                                },
                                {
                                    "0": "205",
                                    "1": "2020-01-13",
                                    "2": "withdrawal",
                                    "3": "296"
                                },
                                {
                                    "0": "481",
                                    "1": "2020-01-13",
                                    "2": "withdrawal",
                                    "3": "42"
                                },
                                {
                                    "0": "288",
                                    "1": "2020-01-13",
                                    "2": "deposit",
                                    "3": "758"
                                },
                                {
                                    "0": "396",
                                    "1": "2020-01-13",
                                    "2": "withdrawal",
                                    "3": "201"
                                },
                                {
                                    "0": "212",
                                    "1": "2020-01-13",
                                    "2": "withdrawal",
                                    "3": "159"
                                },
                                {
                                    "0": "405",
                                    "1": "2020-01-13",
                                    "2": "purchase",
                                    "3": "209"
                                },
                                {
                                    "0": "110",
                                    "1": "2020-01-13",
                                    "2": "withdrawal",
                                    "3": "944"
                                },
                                {
                                    "0": "492",
                                    "1": "2020-01-13",
                                    "2": "purchase",
                                    "3": "368"
                                },
                                {
                                    "0": "477",
                                    "1": "2020-01-13",
                                    "2": "withdrawal",
                                    "3": "894"
                                },
                                {
                                    "0": "58",
                                    "1": "2020-01-13",
                                    "2": "withdrawal",
                                    "3": "775"
                                },
                                {
                                    "0": "279",
                                    "1": "2020-01-13",
                                    "2": "deposit",
                                    "3": "116"
                                },
                                {
                                    "0": "180",
                                    "1": "2020-01-13",
                                    "2": "purchase",
                                    "3": "556"
                                },
                                {
                                    "0": "353",
                                    "1": "2020-01-13",
                                    "2": "purchase",
                                    "3": "935"
                                },
                                {
                                    "0": "94",
                                    "1": "2020-01-13",
                                    "2": "withdrawal",
                                    "3": "435"
                                },
                                {
                                    "0": "76",
                                    "1": "2020-01-13",
                                    "2": "withdrawal",
                                    "3": "900"
                                },
                                {
                                    "0": "333",
                                    "1": "2020-01-13",
                                    "2": "purchase",
                                    "3": "140"
                                },
                                {
                                    "0": "347",
                                    "1": "2020-01-13",
                                    "2": "purchase",
                                    "3": "232"
                                },
                                {
                                    "0": "86",
                                    "1": "2020-01-13",
                                    "2": "deposit",
                                    "3": "592"
                                },
                                {
                                    "0": "281",
                                    "1": "2020-01-13",
                                    "2": "purchase",
                                    "3": "198"
                                },
                                {
                                    "0": "399",
                                    "1": "2020-01-13",
                                    "2": "withdrawal",
                                    "3": "187"
                                },
                                {
                                    "0": "449",
                                    "1": "2020-01-13",
                                    "2": "purchase",
                                    "3": "753"
                                },
                                {
                                    "0": "145",
                                    "1": "2020-01-13",
                                    "2": "withdrawal",
                                    "3": "373"
                                },
                                {
                                    "0": "179",
                                    "1": "2020-01-13",
                                    "2": "deposit",
                                    "3": "470"
                                },
                                {
                                    "0": "438",
                                    "1": "2020-01-13",
                                    "2": "withdrawal",
                                    "3": "68"
                                }
                            ]
                        },
                        "text/html": [
                            "<table>",
                            "<tr><th>customer_id</th><th>txn_date</th><th>txn_type</th><th>txn_amount</th></tr>",
                            "<tr><td>309</td><td>2020-01-13</td><td>deposit</td><td>995</td></tr>",
                            "<tr><td>188</td><td>2020-01-13</td><td>deposit</td><td>601</td></tr>",
                            "<tr><td>168</td><td>2020-01-13</td><td>deposit</td><td>114</td></tr>",
                            "<tr><td>296</td><td>2020-01-13</td><td>deposit</td><td>846</td></tr>",
                            "<tr><td>74</td><td>2020-01-13</td><td>deposit</td><td>229</td></tr>",
                            "<tr><td>10</td><td>2020-01-13</td><td>deposit</td><td>556</td></tr>",
                            "<tr><td>288</td><td>2020-01-13</td><td>deposit</td><td>586</td></tr>",
                            "<tr><td>350</td><td>2020-01-13</td><td>deposit</td><td>167</td></tr>",
                            "<tr><td>299</td><td>2020-01-13</td><td>deposit</td><td>881</td></tr>",
                            "<tr><td>16</td><td>2020-01-13</td><td>deposit</td><td>421</td></tr>",
                            "<tr><td>403</td><td>2020-01-13</td><td>deposit</td><td>232</td></tr>",
                            "<tr><td>279</td><td>2020-01-13</td><td>deposit</td><td>98</td></tr>",
                            "<tr><td>87</td><td>2020-01-13</td><td>deposit</td><td>777</td></tr>",
                            "<tr><td>181</td><td>2020-01-13</td><td>deposit</td><td>865</td></tr>",
                            "<tr><td>149</td><td>2020-01-13</td><td>deposit</td><td>831</td></tr>",
                            "<tr><td>471</td><td>2020-01-13</td><td>deposit</td><td>781</td></tr>",
                            "<tr><td>459</td><td>2020-01-13</td><td>deposit</td><td>857</td></tr>",
                            "<tr><td>399</td><td>2020-01-13</td><td>deposit</td><td>780</td></tr>",
                            "<tr><td>12</td><td>2020-01-13</td><td>deposit</td><td>202</td></tr>",
                            "<tr><td>370</td><td>2020-01-13</td><td>deposit</td><td>363</td></tr>",
                            "<tr><td>196</td><td>2020-01-13</td><td>deposit</td><td>734</td></tr>",
                            "<tr><td>107</td><td>2020-01-13</td><td>deposit</td><td>538</td></tr>",
                            "<tr><td>309</td><td>2020-01-13</td><td>purchase</td><td>532</td></tr>",
                            "<tr><td>376</td><td>2020-01-13</td><td>deposit</td><td>628</td></tr>",
                            "<tr><td>402</td><td>2020-01-13</td><td>withdrawal</td><td>127</td></tr>",
                            "<tr><td>292</td><td>2020-01-13</td><td>withdrawal</td><td>289</td></tr>",
                            "<tr><td>441</td><td>2020-01-13</td><td>withdrawal</td><td>207</td></tr>",
                            "<tr><td>276</td><td>2020-01-13</td><td>purchase</td><td>922</td></tr>",
                            "<tr><td>276</td><td>2020-01-13</td><td>purchase</td><td>465</td></tr>",
                            "<tr><td>356</td><td>2020-01-13</td><td>withdrawal</td><td>532</td></tr>",
                            "<tr><td>205</td><td>2020-01-13</td><td>withdrawal</td><td>296</td></tr>",
                            "<tr><td>481</td><td>2020-01-13</td><td>withdrawal</td><td>42</td></tr>",
                            "<tr><td>288</td><td>2020-01-13</td><td>deposit</td><td>758</td></tr>",
                            "<tr><td>396</td><td>2020-01-13</td><td>withdrawal</td><td>201</td></tr>",
                            "<tr><td>212</td><td>2020-01-13</td><td>withdrawal</td><td>159</td></tr>",
                            "<tr><td>405</td><td>2020-01-13</td><td>purchase</td><td>209</td></tr>",
                            "<tr><td>110</td><td>2020-01-13</td><td>withdrawal</td><td>944</td></tr>",
                            "<tr><td>492</td><td>2020-01-13</td><td>purchase</td><td>368</td></tr>",
                            "<tr><td>477</td><td>2020-01-13</td><td>withdrawal</td><td>894</td></tr>",
                            "<tr><td>58</td><td>2020-01-13</td><td>withdrawal</td><td>775</td></tr>",
                            "<tr><td>279</td><td>2020-01-13</td><td>deposit</td><td>116</td></tr>",
                            "<tr><td>180</td><td>2020-01-13</td><td>purchase</td><td>556</td></tr>",
                            "<tr><td>353</td><td>2020-01-13</td><td>purchase</td><td>935</td></tr>",
                            "<tr><td>94</td><td>2020-01-13</td><td>withdrawal</td><td>435</td></tr>",
                            "<tr><td>76</td><td>2020-01-13</td><td>withdrawal</td><td>900</td></tr>",
                            "<tr><td>333</td><td>2020-01-13</td><td>purchase</td><td>140</td></tr>",
                            "<tr><td>347</td><td>2020-01-13</td><td>purchase</td><td>232</td></tr>",
                            "<tr><td>86</td><td>2020-01-13</td><td>deposit</td><td>592</td></tr>",
                            "<tr><td>281</td><td>2020-01-13</td><td>purchase</td><td>198</td></tr>",
                            "<tr><td>399</td><td>2020-01-13</td><td>withdrawal</td><td>187</td></tr>",
                            "<tr><td>449</td><td>2020-01-13</td><td>purchase</td><td>753</td></tr>",
                            "<tr><td>145</td><td>2020-01-13</td><td>withdrawal</td><td>373</td></tr>",
                            "<tr><td>179</td><td>2020-01-13</td><td>deposit</td><td>470</td></tr>",
                            "<tr><td>438</td><td>2020-01-13</td><td>withdrawal</td><td>68</td></tr>",
                            "</table>"
                        ]
                    }
                }
            ],
            "execution_count": 48
        },
        {
            "cell_type": "code",
            "source": [
                "-- 9) Create a user defined function to add 10% of the transaction amount in a table.\r\n",
                "\r\n",
                "CREATE FUNCTION udf_update_txn_amount()\r\n",
                "returns int\r\n",
                "AS\r\n",
                "BEGIN\r\n",
                "UPDATE [dbo].[Transaction]\r\n",
                "SET\r\n",
                "    [txn_amount] = txn_amount*1.10\r\n",
                "return 0\r\n",
                "END"
            ],
            "metadata": {
                "language": "sql",
                "azdata_cell_guid": "d820d38e-1465-4425-91a4-27ab9a4c67eb"
            },
            "outputs": [
                {
                    "output_type": "error",
                    "evalue": "Msg 443, Level 16, State 15, Procedure udf_update_txn_amount, Line 7\r\nInvalid use of a side-effecting operator 'UPDATE' within a function.",
                    "ename": "",
                    "traceback": []
                },
                {
                    "output_type": "display_data",
                    "data": {
                        "text/html": "Total execution time: 00:00:00.007"
                    },
                    "metadata": {}
                }
            ],
            "execution_count": 49
        }
    ]
}